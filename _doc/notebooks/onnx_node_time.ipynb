{
  "cells": [
    {
      "cell_type": "markdown",
      "metadata": {},
      "source": [
        "# Time processing for every ONNX nodes in a graph\n",
        "\n",
        "The following notebook show how long the runtime spends in each node of an ONNX graph."
      ]
    },
    {
      "cell_type": "code",
      "execution_count": 1,
      "metadata": {},
      "outputs": [
        {
          "data": {
            "text/html": [
              "<div id=\"my_id_menu_nb\">run previous cell, wait for 2 seconds</div>\n",
              "<script>\n",
              "function repeat_indent_string(n){\n",
              "    var a = \"\" ;\n",
              "    for ( ; n > 0 ; --n)\n",
              "        a += \"    \";\n",
              "    return a;\n",
              "}\n",
              "// look up into all sections and builds an automated menu //\n",
              "var update_menu_string = function(begin, lfirst, llast, sformat, send, keep_item, begin_format, end_format) {\n",
              "    var anchors = document.getElementsByClassName(\"section\");\n",
              "    if (anchors.length == 0) {\n",
              "        anchors = document.getElementsByClassName(\"text_cell_render rendered_html\");\n",
              "    }\n",
              "    var i,t;\n",
              "    var text_menu = begin;\n",
              "    var text_memo = \"<pre>\\nlength:\" + anchors.length + \"\\n\";\n",
              "    var ind = \"\";\n",
              "    var memo_level = 1;\n",
              "    var href;\n",
              "    var tags = [];\n",
              "    var main_item = 0;\n",
              "    var format_open = 0;\n",
              "    for (i = 0; i <= llast; i++)\n",
              "        tags.push(\"h\" + i);\n",
              "\n",
              "    for (i = 0; i < anchors.length; i++) {\n",
              "        text_memo += \"**\" + anchors[i].id + \"--\\n\";\n",
              "\n",
              "        var child = null;\n",
              "        for(t = 0; t < tags.length; t++) {\n",
              "            var r = anchors[i].getElementsByTagName(tags[t]);\n",
              "            if (r.length > 0) {\n",
              "child = r[0];\n",
              "break;\n",
              "            }\n",
              "        }\n",
              "        if (child == null) {\n",
              "            text_memo += \"null\\n\";\n",
              "            continue;\n",
              "        }\n",
              "        if (anchors[i].hasAttribute(\"id\")) {\n",
              "            // when converted in RST\n",
              "            href = anchors[i].id;\n",
              "            text_memo += \"#1-\" + href;\n",
              "            // passer \u00e0 child suivant (le chercher)\n",
              "        }\n",
              "        else if (child.hasAttribute(\"id\")) {\n",
              "            // in a notebook\n",
              "            href = child.id;\n",
              "            text_memo += \"#2-\" + href;\n",
              "        }\n",
              "        else {\n",
              "            text_memo += \"#3-\" + \"*\" + \"\\n\";\n",
              "            continue;\n",
              "        }\n",
              "        var title = child.textContent;\n",
              "        var level = parseInt(child.tagName.substring(1,2));\n",
              "\n",
              "        text_memo += \"--\" + level + \"?\" + lfirst + \"--\" + title + \"\\n\";\n",
              "\n",
              "        if ((level < lfirst) || (level > llast)) {\n",
              "            continue ;\n",
              "        }\n",
              "        if (title.endsWith('\u00b6')) {\n",
              "            title = title.substring(0,title.length-1).replace(\"<\", \"&lt;\")\n",
              "         .replace(\">\", \"&gt;\").replace(\"&\", \"&amp;\");\n",
              "        }\n",
              "        if (title.length == 0) {\n",
              "            continue;\n",
              "        }\n",
              "\n",
              "        while (level < memo_level) {\n",
              "            text_menu += end_format + \"</ul>\\n\";\n",
              "            format_open -= 1;\n",
              "            memo_level -= 1;\n",
              "        }\n",
              "        if (level == lfirst) {\n",
              "            main_item += 1;\n",
              "        }\n",
              "        if (keep_item != -1 && main_item != keep_item + 1) {\n",
              "            // alert(main_item + \" - \" + level + \" - \" + keep_item);\n",
              "            continue;\n",
              "        }\n",
              "        while (level > memo_level) {\n",
              "            text_menu += \"<ul>\\n\";\n",
              "            memo_level += 1;\n",
              "        }\n",
              "        text_menu += repeat_indent_string(level-2);\n",
              "        text_menu += begin_format + sformat.replace(\"__HREF__\", href).replace(\"__TITLE__\", title);\n",
              "        format_open += 1;\n",
              "    }\n",
              "    while (1 < memo_level) {\n",
              "        text_menu += end_format + \"</ul>\\n\";\n",
              "        memo_level -= 1;\n",
              "        format_open -= 1;\n",
              "    }\n",
              "    text_menu += send;\n",
              "    //text_menu += \"\\n\" + text_memo;\n",
              "\n",
              "    while (format_open > 0) {\n",
              "        text_menu += end_format;\n",
              "        format_open -= 1;\n",
              "    }\n",
              "    return text_menu;\n",
              "};\n",
              "var update_menu = function() {\n",
              "    var sbegin = \"\";\n",
              "    var sformat = '<a href=\"#__HREF__\">__TITLE__</a>';\n",
              "    var send = \"\";\n",
              "    var begin_format = '<li>';\n",
              "    var end_format = '</li>';\n",
              "    var keep_item = -1;\n",
              "    var text_menu = update_menu_string(sbegin, 2, 4, sformat, send, keep_item,\n",
              "       begin_format, end_format);\n",
              "    var menu = document.getElementById(\"my_id_menu_nb\");\n",
              "    menu.innerHTML=text_menu;\n",
              "};\n",
              "window.setTimeout(update_menu,2000);\n",
              "            </script>"
            ],
            "text/plain": [
              "<IPython.core.display.HTML object>"
            ]
          },
          "execution_count": 2,
          "metadata": {},
          "output_type": "execute_result"
        }
      ],
      "source": [
        "from jyquickhelper import add_notebook_menu\n",
        "add_notebook_menu()"
      ]
    },
    {
      "cell_type": "code",
      "execution_count": 2,
      "metadata": {},
      "outputs": [],
      "source": [
        "%load_ext mlprodict"
      ]
    },
    {
      "cell_type": "code",
      "execution_count": 3,
      "metadata": {},
      "outputs": [],
      "source": [
        "%matplotlib inline"
      ]
    },
    {
      "cell_type": "markdown",
      "metadata": {},
      "source": [
        "## LogisticRegression"
      ]
    },
    {
      "cell_type": "code",
      "execution_count": 4,
      "metadata": {},
      "outputs": [
        {
          "data": {
            "text/plain": [
              "LogisticRegression(solver='liblinear')"
            ]
          },
          "execution_count": 5,
          "metadata": {},
          "output_type": "execute_result"
        }
      ],
      "source": [
        "from sklearn.datasets import load_iris\n",
        "from sklearn.model_selection import train_test_split\n",
        "from sklearn.linear_model import LogisticRegression\n",
        "iris = load_iris()\n",
        "X, y = iris.data, iris.target\n",
        "X_train, X_test, y_train, y_test = train_test_split(X, y)\n",
        "clr = LogisticRegression(solver='liblinear')\n",
        "clr.fit(X_train, y_train)"
      ]
    },
    {
      "cell_type": "code",
      "execution_count": 5,
      "metadata": {},
      "outputs": [
        {
          "data": {
            "text/html": [
              "<div id=\"M8ab6b44351594b3f9518dc72685481c4-cont\"><div id=\"M8ab6b44351594b3f9518dc72685481c4\" style=\"width:100%;height:100%;\"></div></div>\n",
              "<script>\n",
              "\n",
              "require(['http://www.xavierdupre.fr/js/vizjs/viz.js'], function() { var svgGraph = Viz(\"digraph{\\n  ranksep=0.25;\\n  orientation=portrait;\\n  nodesep=0.05;\\n\\n  X [shape=box color=red label=\\\"X\\nfloat((0, 4))\\\" fontsize=10];\\n\\n  output_label [shape=box color=green label=\\\"output_label\\nint64((0,))\\\" fontsize=10];\\n  output_probability [shape=box color=green label=\\\"output_probability\\n[{int64, {'kind': 'tensor', 'elem': 'float', 'shape': }}]\\\" fontsize=10];\\n\\n\\n  label [shape=box label=\\\"label\\\" fontsize=10];\\n  probability_tensor [shape=box label=\\\"probability_tensor\\\" fontsize=10];\\n  LinearClassifier [shape=box style=\\\"filled,rounded\\\" color=orange label=\\\"LinearClassifier\\n(LinearClassifier)\\nclasslabels_ints=[0 1 2]\\ncoefficients=[ 0.39696985  1.36...\\nintercepts=[ 0.2634338   0.6494...\\nmulti_class=1\\npost_transform=b'LOGISTIC'\\\" fontsize=10];\\n  X -> LinearClassifier;\\n  LinearClassifier -> label;\\n  LinearClassifier -> probability_tensor;\\n\\n  probabilities [shape=box label=\\\"probabilities\\\" fontsize=10];\\n  Normalizer [shape=box style=\\\"filled,rounded\\\" color=orange label=\\\"Normalizer\\n(Normalizer)\\nnorm=b'L1'\\\" fontsize=10];\\n  probability_tensor -> Normalizer;\\n  Normalizer -> probabilities;\\n\\n  Cast [shape=box style=\\\"filled,rounded\\\" color=orange label=\\\"Cast\\n(Cast)\\nto=7\\\" fontsize=10];\\n  label -> Cast;\\n  Cast -> output_label;\\n\\n  ZipMap [shape=box style=\\\"filled,rounded\\\" color=orange label=\\\"ZipMap\\n(ZipMap)\\nclasslabels_int64s=[0 1 2]\\\" fontsize=10];\\n  probabilities -> ZipMap;\\n  ZipMap -> output_probability;\\n}\");\n",
              "document.getElementById('M8ab6b44351594b3f9518dc72685481c4').innerHTML = svgGraph; });\n",
              "\n",
              "</script>"
            ],
            "text/plain": [
              "<jyquickhelper.jspy.render_nb_js_dot.RenderJsDot at 0x19e8c66a278>"
            ]
          },
          "execution_count": 6,
          "metadata": {},
          "output_type": "execute_result"
        }
      ],
      "source": [
        "import numpy\n",
        "from mlprodict.onnx_conv import to_onnx\n",
        "onx = to_onnx(clr, X_test.astype(numpy.float32))\n",
        "with open(\"logreg_time.onnx\", \"wb\") as f:\n",
        "    f.write(onx.SerializeToString())\n",
        "# add -l 1 if nothing shows up\n",
        "%onnxview onx"
      ]
    },
    {
      "cell_type": "code",
      "execution_count": 6,
      "metadata": {},
      "outputs": [
        {
          "data": {
            "text/html": [
              "<div>\n",
              "<style scoped>\n",
              "    .dataframe tbody tr th:only-of-type {\n",
              "        vertical-align: middle;\n",
              "    }\n",
              "\n",
              "    .dataframe tbody tr th {\n",
              "        vertical-align: top;\n",
              "    }\n",
              "\n",
              "    .dataframe thead th {\n",
              "        text-align: right;\n",
              "    }\n",
              "</style>\n",
              "<table border=\"1\" class=\"dataframe\">\n",
              "  <thead>\n",
              "    <tr style=\"text-align: right;\">\n",
              "      <th></th>\n",
              "      <th>i</th>\n",
              "      <th>name</th>\n",
              "      <th>op_type</th>\n",
              "      <th>time</th>\n",
              "    </tr>\n",
              "  </thead>\n",
              "  <tbody>\n",
              "    <tr>\n",
              "      <th>0</th>\n",
              "      <td>0</td>\n",
              "      <td>LinearClassifier</td>\n",
              "      <td>LinearClassifier</td>\n",
              "      <td>0.005965</td>\n",
              "    </tr>\n",
              "    <tr>\n",
              "      <th>1</th>\n",
              "      <td>1</td>\n",
              "      <td>Normalizer</td>\n",
              "      <td>Normalizer</td>\n",
              "      <td>0.000055</td>\n",
              "    </tr>\n",
              "    <tr>\n",
              "      <th>2</th>\n",
              "      <td>2</td>\n",
              "      <td>Cast</td>\n",
              "      <td>Cast</td>\n",
              "      <td>0.000009</td>\n",
              "    </tr>\n",
              "    <tr>\n",
              "      <th>3</th>\n",
              "      <td>3</td>\n",
              "      <td>ZipMap</td>\n",
              "      <td>ZipMap</td>\n",
              "      <td>0.000010</td>\n",
              "    </tr>\n",
              "  </tbody>\n",
              "</table>\n",
              "</div>"
            ],
            "text/plain": [
              "   i              name           op_type      time\n",
              "0  0  LinearClassifier  LinearClassifier  0.005965\n",
              "1  1        Normalizer        Normalizer  0.000055\n",
              "2  2              Cast              Cast  0.000009\n",
              "3  3            ZipMap            ZipMap  0.000010"
            ]
          },
          "execution_count": 7,
          "metadata": {},
          "output_type": "execute_result"
        }
      ],
      "source": [
        "from mlprodict.onnxrt import OnnxInference\n",
        "import pandas\n",
        "oinf = OnnxInference(onx)\n",
        "res = oinf.run({'X': X_test}, node_time=True)\n",
        "pandas.DataFrame(list(res[1]))"
      ]
    },
    {
      "cell_type": "code",
      "execution_count": 7,
      "metadata": {},
      "outputs": [
        {
          "data": {
            "text/plain": [
              "{0: array([8.01086276e-01, 1.21825970e-04, 2.76102048e-02, 1.83533821e-03,\n",
              "        1.27275525e-02]),\n",
              " 1: array([0.19881008, 0.380605  , 0.82476184, 0.18697628, 0.56388163]),\n",
              " 2: array([1.03640717e-04, 6.19273175e-01, 1.47627959e-01, 8.11188384e-01,\n",
              "        4.23390820e-01])}"
            ]
          },
          "execution_count": 8,
          "metadata": {},
          "output_type": "execute_result"
        }
      ],
      "source": [
        "oinf.run({'X': X_test})['output_probability'][:5]"
      ]
    },
    {
      "cell_type": "markdown",
      "metadata": {},
      "source": [
        "## Measure time spent in each node\n",
        "\n",
        "\n",
        "With parameter ``node_time=True``, method *run* returns the output and time measurement."
      ]
    },
    {
      "cell_type": "code",
      "execution_count": 8,
      "metadata": {},
      "outputs": [
        {
          "data": {
            "text/plain": [
              "[{'i': 0,\n",
              "  'name': 'LinearClassifier',\n",
              "  'op_type': 'LinearClassifier',\n",
              "  'time': 0.00017850000000052546},\n",
              " {'i': 1,\n",
              "  'name': 'Normalizer',\n",
              "  'op_type': 'Normalizer',\n",
              "  'time': 5.72000000005346e-05},\n",
              " {'i': 2, 'name': 'Cast', 'op_type': 'Cast', 'time': 1.3699999998451062e-05},\n",
              " {'i': 3,\n",
              "  'name': 'ZipMap',\n",
              "  'op_type': 'ZipMap',\n",
              "  'time': 1.4999999999432134e-05}]"
            ]
          },
          "execution_count": 9,
          "metadata": {},
          "output_type": "execute_result"
        }
      ],
      "source": [
        "exe = oinf.run({'X': X_test}, node_time=True)\n",
        "exe[1]"
      ]
    },
    {
      "cell_type": "code",
      "execution_count": 9,
      "metadata": {},
      "outputs": [
        {
          "data": {
            "text/html": [
              "<div>\n",
              "<style scoped>\n",
              "    .dataframe tbody tr th:only-of-type {\n",
              "        vertical-align: middle;\n",
              "    }\n",
              "\n",
              "    .dataframe tbody tr th {\n",
              "        vertical-align: top;\n",
              "    }\n",
              "\n",
              "    .dataframe thead th {\n",
              "        text-align: right;\n",
              "    }\n",
              "</style>\n",
              "<table border=\"1\" class=\"dataframe\">\n",
              "  <thead>\n",
              "    <tr style=\"text-align: right;\">\n",
              "      <th></th>\n",
              "      <th>i</th>\n",
              "      <th>name</th>\n",
              "      <th>op_type</th>\n",
              "      <th>time</th>\n",
              "    </tr>\n",
              "  </thead>\n",
              "  <tbody>\n",
              "    <tr>\n",
              "      <th>0</th>\n",
              "      <td>0</td>\n",
              "      <td>LinearClassifier</td>\n",
              "      <td>LinearClassifier</td>\n",
              "      <td>0.000179</td>\n",
              "    </tr>\n",
              "    <tr>\n",
              "      <th>1</th>\n",
              "      <td>1</td>\n",
              "      <td>Normalizer</td>\n",
              "      <td>Normalizer</td>\n",
              "      <td>0.000057</td>\n",
              "    </tr>\n",
              "    <tr>\n",
              "      <th>2</th>\n",
              "      <td>2</td>\n",
              "      <td>Cast</td>\n",
              "      <td>Cast</td>\n",
              "      <td>0.000014</td>\n",
              "    </tr>\n",
              "    <tr>\n",
              "      <th>3</th>\n",
              "      <td>3</td>\n",
              "      <td>ZipMap</td>\n",
              "      <td>ZipMap</td>\n",
              "      <td>0.000015</td>\n",
              "    </tr>\n",
              "  </tbody>\n",
              "</table>\n",
              "</div>"
            ],
            "text/plain": [
              "   i              name           op_type      time\n",
              "0  0  LinearClassifier  LinearClassifier  0.000179\n",
              "1  1        Normalizer        Normalizer  0.000057\n",
              "2  2              Cast              Cast  0.000014\n",
              "3  3            ZipMap            ZipMap  0.000015"
            ]
          },
          "execution_count": 10,
          "metadata": {},
          "output_type": "execute_result"
        }
      ],
      "source": [
        "import pandas\n",
        "pandas.DataFrame(exe[1])"
      ]
    },
    {
      "cell_type": "markdown",
      "metadata": {},
      "source": [
        "## Logistic regression: python runtime vs onnxruntime\n",
        "\n",
        "Function [enumerate_validated_operator_opsets](http://www.xavierdupre.fr/app/mlprodict/helpsphinx/mlprodict/onnxrt/validate/validate.html?highlight=enumerate_validated_operator_opsets#mlprodict.onnxrt.validate.validate.enumerate_validated_operator_opsets) implements automated tests for every model with artificial data. Option ``node_time`` automatically returns the time spent in each node and does it multiple time."
      ]
    },
    {
      "cell_type": "code",
      "execution_count": 10,
      "metadata": {},
      "outputs": [],
      "source": [
        "from mlprodict.onnxrt.validate import enumerate_validated_operator_opsets\n",
        "res = list(enumerate_validated_operator_opsets(\n",
        "            verbose=0, models={\"LogisticRegression\"}, opset_min=12,\n",
        "            runtime='python', debug=False, node_time=True,\n",
        "            filter_exp=lambda m, p: p == \"b-cl\"))"
      ]
    },
    {
      "cell_type": "code",
      "execution_count": 11,
      "metadata": {
        "scrolled": false
      },
      "outputs": [
        {
          "data": {
            "text/html": [
              "<div>\n",
              "<style scoped>\n",
              "    .dataframe tbody tr th:only-of-type {\n",
              "        vertical-align: middle;\n",
              "    }\n",
              "\n",
              "    .dataframe tbody tr th {\n",
              "        vertical-align: top;\n",
              "    }\n",
              "\n",
              "    .dataframe thead th {\n",
              "        text-align: right;\n",
              "    }\n",
              "</style>\n",
              "<table border=\"1\" class=\"dataframe\">\n",
              "  <thead>\n",
              "    <tr style=\"text-align: right;\">\n",
              "      <th></th>\n",
              "      <th>i</th>\n",
              "      <th>name</th>\n",
              "      <th>op_type</th>\n",
              "      <th>time</th>\n",
              "      <th>N</th>\n",
              "      <th>max_time</th>\n",
              "      <th>min_time</th>\n",
              "      <th>repeat</th>\n",
              "      <th>number</th>\n",
              "      <th>step</th>\n",
              "    </tr>\n",
              "  </thead>\n",
              "  <tbody>\n",
              "    <tr>\n",
              "      <th>0</th>\n",
              "      <td>0</td>\n",
              "      <td>LinearClassifier</td>\n",
              "      <td>LinearClassifier</td>\n",
              "      <td>0.000023</td>\n",
              "      <td>1</td>\n",
              "      <td>0.000044</td>\n",
              "      <td>0.000015</td>\n",
              "      <td>20</td>\n",
              "      <td>30</td>\n",
              "      <td>0-LinearClassifier</td>\n",
              "    </tr>\n",
              "    <tr>\n",
              "      <th>1</th>\n",
              "      <td>1</td>\n",
              "      <td>Normalizer</td>\n",
              "      <td>Normalizer</td>\n",
              "      <td>0.000030</td>\n",
              "      <td>1</td>\n",
              "      <td>0.000205</td>\n",
              "      <td>0.000013</td>\n",
              "      <td>20</td>\n",
              "      <td>30</td>\n",
              "      <td>1-Normalizer</td>\n",
              "    </tr>\n",
              "    <tr>\n",
              "      <th>2</th>\n",
              "      <td>2</td>\n",
              "      <td>Cast</td>\n",
              "      <td>Cast</td>\n",
              "      <td>0.000006</td>\n",
              "      <td>1</td>\n",
              "      <td>0.000010</td>\n",
              "      <td>0.000003</td>\n",
              "      <td>20</td>\n",
              "      <td>30</td>\n",
              "      <td>2-Cast</td>\n",
              "    </tr>\n",
              "    <tr>\n",
              "      <th>3</th>\n",
              "      <td>3</td>\n",
              "      <td>ZipMap</td>\n",
              "      <td>ZipMap</td>\n",
              "      <td>0.000006</td>\n",
              "      <td>1</td>\n",
              "      <td>0.000009</td>\n",
              "      <td>0.000004</td>\n",
              "      <td>20</td>\n",
              "      <td>30</td>\n",
              "      <td>3-ZipMap</td>\n",
              "    </tr>\n",
              "    <tr>\n",
              "      <th>4</th>\n",
              "      <td>0</td>\n",
              "      <td>LinearClassifier</td>\n",
              "      <td>LinearClassifier</td>\n",
              "      <td>0.000022</td>\n",
              "      <td>10</td>\n",
              "      <td>0.000039</td>\n",
              "      <td>0.000017</td>\n",
              "      <td>20</td>\n",
              "      <td>20</td>\n",
              "      <td>0-LinearClassifier</td>\n",
              "    </tr>\n",
              "    <tr>\n",
              "      <th>5</th>\n",
              "      <td>1</td>\n",
              "      <td>Normalizer</td>\n",
              "      <td>Normalizer</td>\n",
              "      <td>0.000017</td>\n",
              "      <td>10</td>\n",
              "      <td>0.000032</td>\n",
              "      <td>0.000014</td>\n",
              "      <td>20</td>\n",
              "      <td>20</td>\n",
              "      <td>1-Normalizer</td>\n",
              "    </tr>\n",
              "    <tr>\n",
              "      <th>6</th>\n",
              "      <td>2</td>\n",
              "      <td>Cast</td>\n",
              "      <td>Cast</td>\n",
              "      <td>0.000004</td>\n",
              "      <td>10</td>\n",
              "      <td>0.000010</td>\n",
              "      <td>0.000003</td>\n",
              "      <td>20</td>\n",
              "      <td>20</td>\n",
              "      <td>2-Cast</td>\n",
              "    </tr>\n",
              "    <tr>\n",
              "      <th>7</th>\n",
              "      <td>3</td>\n",
              "      <td>ZipMap</td>\n",
              "      <td>ZipMap</td>\n",
              "      <td>0.000005</td>\n",
              "      <td>10</td>\n",
              "      <td>0.000010</td>\n",
              "      <td>0.000004</td>\n",
              "      <td>20</td>\n",
              "      <td>20</td>\n",
              "      <td>3-ZipMap</td>\n",
              "    </tr>\n",
              "    <tr>\n",
              "      <th>8</th>\n",
              "      <td>0</td>\n",
              "      <td>LinearClassifier</td>\n",
              "      <td>LinearClassifier</td>\n",
              "      <td>0.000043</td>\n",
              "      <td>100</td>\n",
              "      <td>0.000053</td>\n",
              "      <td>0.000041</td>\n",
              "      <td>10</td>\n",
              "      <td>8</td>\n",
              "      <td>0-LinearClassifier</td>\n",
              "    </tr>\n",
              "    <tr>\n",
              "      <th>9</th>\n",
              "      <td>1</td>\n",
              "      <td>Normalizer</td>\n",
              "      <td>Normalizer</td>\n",
              "      <td>0.000035</td>\n",
              "      <td>100</td>\n",
              "      <td>0.000040</td>\n",
              "      <td>0.000032</td>\n",
              "      <td>10</td>\n",
              "      <td>8</td>\n",
              "      <td>1-Normalizer</td>\n",
              "    </tr>\n",
              "    <tr>\n",
              "      <th>10</th>\n",
              "      <td>2</td>\n",
              "      <td>Cast</td>\n",
              "      <td>Cast</td>\n",
              "      <td>0.000008</td>\n",
              "      <td>100</td>\n",
              "      <td>0.000008</td>\n",
              "      <td>0.000008</td>\n",
              "      <td>10</td>\n",
              "      <td>8</td>\n",
              "      <td>2-Cast</td>\n",
              "    </tr>\n",
              "    <tr>\n",
              "      <th>11</th>\n",
              "      <td>3</td>\n",
              "      <td>ZipMap</td>\n",
              "      <td>ZipMap</td>\n",
              "      <td>0.000009</td>\n",
              "      <td>100</td>\n",
              "      <td>0.000009</td>\n",
              "      <td>0.000009</td>\n",
              "      <td>10</td>\n",
              "      <td>8</td>\n",
              "      <td>3-ZipMap</td>\n",
              "    </tr>\n",
              "    <tr>\n",
              "      <th>12</th>\n",
              "      <td>0</td>\n",
              "      <td>LinearClassifier</td>\n",
              "      <td>LinearClassifier</td>\n",
              "      <td>0.000077</td>\n",
              "      <td>1000</td>\n",
              "      <td>0.000100</td>\n",
              "      <td>0.000055</td>\n",
              "      <td>5</td>\n",
              "      <td>5</td>\n",
              "      <td>0-LinearClassifier</td>\n",
              "    </tr>\n",
              "    <tr>\n",
              "      <th>13</th>\n",
              "      <td>1</td>\n",
              "      <td>Normalizer</td>\n",
              "      <td>Normalizer</td>\n",
              "      <td>0.000067</td>\n",
              "      <td>1000</td>\n",
              "      <td>0.000087</td>\n",
              "      <td>0.000045</td>\n",
              "      <td>5</td>\n",
              "      <td>5</td>\n",
              "      <td>1-Normalizer</td>\n",
              "    </tr>\n",
              "    <tr>\n",
              "      <th>14</th>\n",
              "      <td>2</td>\n",
              "      <td>Cast</td>\n",
              "      <td>Cast</td>\n",
              "      <td>0.000009</td>\n",
              "      <td>1000</td>\n",
              "      <td>0.000022</td>\n",
              "      <td>0.000004</td>\n",
              "      <td>5</td>\n",
              "      <td>5</td>\n",
              "      <td>2-Cast</td>\n",
              "    </tr>\n",
              "    <tr>\n",
              "      <th>15</th>\n",
              "      <td>3</td>\n",
              "      <td>ZipMap</td>\n",
              "      <td>ZipMap</td>\n",
              "      <td>0.000007</td>\n",
              "      <td>1000</td>\n",
              "      <td>0.000010</td>\n",
              "      <td>0.000004</td>\n",
              "      <td>5</td>\n",
              "      <td>5</td>\n",
              "      <td>3-ZipMap</td>\n",
              "    </tr>\n",
              "    <tr>\n",
              "      <th>16</th>\n",
              "      <td>0</td>\n",
              "      <td>LinearClassifier</td>\n",
              "      <td>LinearClassifier</td>\n",
              "      <td>0.000327</td>\n",
              "      <td>10000</td>\n",
              "      <td>0.000327</td>\n",
              "      <td>0.000325</td>\n",
              "      <td>3</td>\n",
              "      <td>3</td>\n",
              "      <td>0-LinearClassifier</td>\n",
              "    </tr>\n",
              "    <tr>\n",
              "      <th>17</th>\n",
              "      <td>1</td>\n",
              "      <td>Normalizer</td>\n",
              "      <td>Normalizer</td>\n",
              "      <td>0.000280</td>\n",
              "      <td>10000</td>\n",
              "      <td>0.000283</td>\n",
              "      <td>0.000278</td>\n",
              "      <td>3</td>\n",
              "      <td>3</td>\n",
              "      <td>1-Normalizer</td>\n",
              "    </tr>\n",
              "    <tr>\n",
              "      <th>18</th>\n",
              "      <td>2</td>\n",
              "      <td>Cast</td>\n",
              "      <td>Cast</td>\n",
              "      <td>0.000004</td>\n",
              "      <td>10000</td>\n",
              "      <td>0.000004</td>\n",
              "      <td>0.000004</td>\n",
              "      <td>3</td>\n",
              "      <td>3</td>\n",
              "      <td>2-Cast</td>\n",
              "    </tr>\n",
              "    <tr>\n",
              "      <th>19</th>\n",
              "      <td>3</td>\n",
              "      <td>ZipMap</td>\n",
              "      <td>ZipMap</td>\n",
              "      <td>0.000004</td>\n",
              "      <td>10000</td>\n",
              "      <td>0.000004</td>\n",
              "      <td>0.000004</td>\n",
              "      <td>3</td>\n",
              "      <td>3</td>\n",
              "      <td>3-ZipMap</td>\n",
              "    </tr>\n",
              "    <tr>\n",
              "      <th>20</th>\n",
              "      <td>0</td>\n",
              "      <td>LinearClassifier</td>\n",
              "      <td>LinearClassifier</td>\n",
              "      <td>0.005622</td>\n",
              "      <td>100000</td>\n",
              "      <td>0.005622</td>\n",
              "      <td>0.005622</td>\n",
              "      <td>1</td>\n",
              "      <td>2</td>\n",
              "      <td>0-LinearClassifier</td>\n",
              "    </tr>\n",
              "    <tr>\n",
              "      <th>21</th>\n",
              "      <td>1</td>\n",
              "      <td>Normalizer</td>\n",
              "      <td>Normalizer</td>\n",
              "      <td>0.004317</td>\n",
              "      <td>100000</td>\n",
              "      <td>0.004317</td>\n",
              "      <td>0.004317</td>\n",
              "      <td>1</td>\n",
              "      <td>2</td>\n",
              "      <td>1-Normalizer</td>\n",
              "    </tr>\n",
              "    <tr>\n",
              "      <th>22</th>\n",
              "      <td>2</td>\n",
              "      <td>Cast</td>\n",
              "      <td>Cast</td>\n",
              "      <td>0.000016</td>\n",
              "      <td>100000</td>\n",
              "      <td>0.000016</td>\n",
              "      <td>0.000016</td>\n",
              "      <td>1</td>\n",
              "      <td>2</td>\n",
              "      <td>2-Cast</td>\n",
              "    </tr>\n",
              "    <tr>\n",
              "      <th>23</th>\n",
              "      <td>3</td>\n",
              "      <td>ZipMap</td>\n",
              "      <td>ZipMap</td>\n",
              "      <td>0.000013</td>\n",
              "      <td>100000</td>\n",
              "      <td>0.000013</td>\n",
              "      <td>0.000013</td>\n",
              "      <td>1</td>\n",
              "      <td>2</td>\n",
              "      <td>3-ZipMap</td>\n",
              "    </tr>\n",
              "  </tbody>\n",
              "</table>\n",
              "</div>"
            ],
            "text/plain": [
              "    i              name           op_type      time       N  max_time  \\\n",
              "0   0  LinearClassifier  LinearClassifier  0.000023       1  0.000044   \n",
              "1   1        Normalizer        Normalizer  0.000030       1  0.000205   \n",
              "2   2              Cast              Cast  0.000006       1  0.000010   \n",
              "3   3            ZipMap            ZipMap  0.000006       1  0.000009   \n",
              "4   0  LinearClassifier  LinearClassifier  0.000022      10  0.000039   \n",
              "5   1        Normalizer        Normalizer  0.000017      10  0.000032   \n",
              "6   2              Cast              Cast  0.000004      10  0.000010   \n",
              "7   3            ZipMap            ZipMap  0.000005      10  0.000010   \n",
              "8   0  LinearClassifier  LinearClassifier  0.000043     100  0.000053   \n",
              "9   1        Normalizer        Normalizer  0.000035     100  0.000040   \n",
              "10  2              Cast              Cast  0.000008     100  0.000008   \n",
              "11  3            ZipMap            ZipMap  0.000009     100  0.000009   \n",
              "12  0  LinearClassifier  LinearClassifier  0.000077    1000  0.000100   \n",
              "13  1        Normalizer        Normalizer  0.000067    1000  0.000087   \n",
              "14  2              Cast              Cast  0.000009    1000  0.000022   \n",
              "15  3            ZipMap            ZipMap  0.000007    1000  0.000010   \n",
              "16  0  LinearClassifier  LinearClassifier  0.000327   10000  0.000327   \n",
              "17  1        Normalizer        Normalizer  0.000280   10000  0.000283   \n",
              "18  2              Cast              Cast  0.000004   10000  0.000004   \n",
              "19  3            ZipMap            ZipMap  0.000004   10000  0.000004   \n",
              "20  0  LinearClassifier  LinearClassifier  0.005622  100000  0.005622   \n",
              "21  1        Normalizer        Normalizer  0.004317  100000  0.004317   \n",
              "22  2              Cast              Cast  0.000016  100000  0.000016   \n",
              "23  3            ZipMap            ZipMap  0.000013  100000  0.000013   \n",
              "\n",
              "    min_time  repeat  number                step  \n",
              "0   0.000015      20      30  0-LinearClassifier  \n",
              "1   0.000013      20      30        1-Normalizer  \n",
              "2   0.000003      20      30              2-Cast  \n",
              "3   0.000004      20      30            3-ZipMap  \n",
              "4   0.000017      20      20  0-LinearClassifier  \n",
              "5   0.000014      20      20        1-Normalizer  \n",
              "6   0.000003      20      20              2-Cast  \n",
              "7   0.000004      20      20            3-ZipMap  \n",
              "8   0.000041      10       8  0-LinearClassifier  \n",
              "9   0.000032      10       8        1-Normalizer  \n",
              "10  0.000008      10       8              2-Cast  \n",
              "11  0.000009      10       8            3-ZipMap  \n",
              "12  0.000055       5       5  0-LinearClassifier  \n",
              "13  0.000045       5       5        1-Normalizer  \n",
              "14  0.000004       5       5              2-Cast  \n",
              "15  0.000004       5       5            3-ZipMap  \n",
              "16  0.000325       3       3  0-LinearClassifier  \n",
              "17  0.000278       3       3        1-Normalizer  \n",
              "18  0.000004       3       3              2-Cast  \n",
              "19  0.000004       3       3            3-ZipMap  \n",
              "20  0.005622       1       2  0-LinearClassifier  \n",
              "21  0.004317       1       2        1-Normalizer  \n",
              "22  0.000016       1       2              2-Cast  \n",
              "23  0.000013       1       2            3-ZipMap  "
            ]
          },
          "execution_count": 12,
          "metadata": {},
          "output_type": "execute_result"
        }
      ],
      "source": [
        "import pandas\n",
        "df = pandas.DataFrame(res[0]['bench-batch'])\n",
        "df['step'] = df.apply(lambda row: '{}-{}'.format(row['i'], row[\"name\"]), axis=1)\n",
        "df"
      ]
    },
    {
      "cell_type": "markdown",
      "metadata": {},
      "source": [
        "Following tables shows the time spent in each node, it is relative to the total time. For one observation, the runtime spends 10% of the time in ZipMap, it is only 1% or 2% with 10 observations. These proportions change due to the computing cost of each node."
      ]
    },
    {
      "cell_type": "code",
      "execution_count": 12,
      "metadata": {},
      "outputs": [
        {
          "data": {
            "text/html": [
              "<div>\n",
              "<style scoped>\n",
              "    .dataframe tbody tr th:only-of-type {\n",
              "        vertical-align: middle;\n",
              "    }\n",
              "\n",
              "    .dataframe tbody tr th {\n",
              "        vertical-align: top;\n",
              "    }\n",
              "\n",
              "    .dataframe thead th {\n",
              "        text-align: right;\n",
              "    }\n",
              "</style>\n",
              "<table border=\"1\" class=\"dataframe\">\n",
              "  <thead>\n",
              "    <tr style=\"text-align: right;\">\n",
              "      <th>N</th>\n",
              "      <th>1</th>\n",
              "      <th>10</th>\n",
              "      <th>100</th>\n",
              "      <th>1000</th>\n",
              "      <th>10000</th>\n",
              "      <th>100000</th>\n",
              "    </tr>\n",
              "    <tr>\n",
              "      <th>step</th>\n",
              "      <th></th>\n",
              "      <th></th>\n",
              "      <th></th>\n",
              "      <th></th>\n",
              "      <th></th>\n",
              "      <th></th>\n",
              "    </tr>\n",
              "  </thead>\n",
              "  <tbody>\n",
              "    <tr>\n",
              "      <th>0-LinearClassifier</th>\n",
              "      <td>0.361655</td>\n",
              "      <td>0.445427</td>\n",
              "      <td>0.456559</td>\n",
              "      <td>0.479791</td>\n",
              "      <td>0.531556</td>\n",
              "      <td>0.564041</td>\n",
              "    </tr>\n",
              "    <tr>\n",
              "      <th>1-Normalizer</th>\n",
              "      <td>0.457853</td>\n",
              "      <td>0.359582</td>\n",
              "      <td>0.367114</td>\n",
              "      <td>0.418188</td>\n",
              "      <td>0.455359</td>\n",
              "      <td>0.433090</td>\n",
              "    </tr>\n",
              "    <tr>\n",
              "      <th>2-Cast</th>\n",
              "      <td>0.086657</td>\n",
              "      <td>0.090966</td>\n",
              "      <td>0.084897</td>\n",
              "      <td>0.057040</td>\n",
              "      <td>0.006452</td>\n",
              "      <td>0.001605</td>\n",
              "    </tr>\n",
              "    <tr>\n",
              "      <th>3-ZipMap</th>\n",
              "      <td>0.093835</td>\n",
              "      <td>0.104026</td>\n",
              "      <td>0.091430</td>\n",
              "      <td>0.044980</td>\n",
              "      <td>0.006633</td>\n",
              "      <td>0.001264</td>\n",
              "    </tr>\n",
              "  </tbody>\n",
              "</table>\n",
              "</div>"
            ],
            "text/plain": [
              "N                     1         10        100       1000      10000     100000\n",
              "step                                                                          \n",
              "0-LinearClassifier  0.361655  0.445427  0.456559  0.479791  0.531556  0.564041\n",
              "1-Normalizer        0.457853  0.359582  0.367114  0.418188  0.455359  0.433090\n",
              "2-Cast              0.086657  0.090966  0.084897  0.057040  0.006452  0.001605\n",
              "3-ZipMap            0.093835  0.104026  0.091430  0.044980  0.006633  0.001264"
            ]
          },
          "execution_count": 13,
          "metadata": {},
          "output_type": "execute_result"
        }
      ],
      "source": [
        "piv = df.pivot('step', 'N', 'time')\n",
        "total = piv.sum(axis=0)\n",
        "piv / total"
      ]
    },
    {
      "cell_type": "markdown",
      "metadata": {},
      "source": [
        "The python implementation of *ZipMap* does not change the data but wraps in into a frozen class [ArrayZipMapDitionary](https://github.com/sdpython/mlprodict/blob/master/mlprodict/onnxrt/ops_cpu/op_zipmap.py#L90) which mocks a list of dictionaries *pandas* can ingest to create a DataFrame. The cost is a fixed cost and does not depend on the number of processed rows."
      ]
    },
    {
      "cell_type": "code",
      "execution_count": 13,
      "metadata": {},
      "outputs": [
        {
          "name": "stdout",
          "output_type": "stream",
          "text": [
            "\n",
            "  _     ._   __/__   _ _  _  _ _/_   Recorded: 15:40:14  Samples:  4\n",
            " /_//_/// /_\\ / //_// / //_'/ //     Duration: 0.014     CPU time: 0.031\n",
            "/   _/                      v3.0.1\n",
            "\n",
            "Program: c:\\python372_x64\\lib\\site-packages\\ipykernel_launcher.py -f C:\\Users\\xavie\\AppData\\Roaming\\jupyter\\runtime\\kernel-0487aa6c-ddd3-41f0-a9d5-1bc9fa61cefa.json\n",
            "\n",
            "0.014 profile  pyquickhelper\\pycode\\profiling.py:49\n",
            "`- 0.014 <lambda>  <ipython-input-13-ccd42692a7ed>:3\n",
            "   `- 0.014 run  mlprodict\\onnxrt\\onnx_inference.py:471\n",
            "      `- 0.014 _run_sequence_runtime  mlprodict\\onnxrt\\onnx_inference.py:551\n",
            "         `- 0.014 run  mlprodict\\onnxrt\\onnx_inference_node.py:141\n",
            "            |- 0.010 run  mlprodict\\onnxrt\\ops_cpu\\_op.py:408\n",
            "            |  `- 0.010 run  mlprodict\\onnxrt\\ops_cpu\\_op.py:289\n",
            "            |     `- 0.010 _run  mlprodict\\onnxrt\\ops_cpu\\op_linear_classifier.py:40\n",
            "            |        |- 0.007 [self]  \n",
            "            |        `- 0.003 argmax  <__array_function__ internals>:2\n",
            "            |           `- 0.003 argmax  numpy\\core\\fromnumeric.py:1112\n",
            "            |                 [3 frames hidden]  numpy\n",
            "            `- 0.004 run  mlprodict\\onnxrt\\ops_cpu\\_op.py:374\n",
            "               `- 0.004 run  mlprodict\\onnxrt\\ops_cpu\\_op.py:289\n",
            "                  `- 0.004 _run  mlprodict\\onnxrt\\ops_cpu\\op_normalizer.py:66\n",
            "                     `- 0.004 norm_l1  mlprodict\\onnxrt\\ops_cpu\\op_normalizer.py:42\n",
            "                        `- 0.004 _norm_L1_inplace  mlprodict\\onnxrt\\ops_cpu\\op_normalizer.py:49\n",
            "                           |- 0.002 _sum  numpy\\core\\_methods.py:36\n",
            "                           |     [2 frames hidden]  numpy\n",
            "                           `- 0.002 [self]  \n",
            "\n",
            "\n"
          ]
        }
      ],
      "source": [
        "from pyquickhelper.pycode.profiling import profile\n",
        "bigX = numpy.random.randn(100000, X_test.shape[1]).astype(numpy.float32)\n",
        "print(profile(lambda: oinf.run({'X': bigX}), pyinst_format=\"text\")[1])"
      ]
    },
    {
      "cell_type": "markdown",
      "metadata": {},
      "source": [
        "The class *ArrayZipMapDictionary* is fast to build but has an overhead after that because it builds data when needed."
      ]
    },
    {
      "cell_type": "code",
      "execution_count": 14,
      "metadata": {},
      "outputs": [
        {
          "data": {
            "text/plain": [
              "mlprodict.onnxrt.ops_cpu.op_zipmap.ArrayZipMapDictionary"
            ]
          },
          "execution_count": 15,
          "metadata": {},
          "output_type": "execute_result"
        }
      ],
      "source": [
        "res = oinf.run({'X': bigX})\n",
        "prob = res['output_probability']\n",
        "type(prob)"
      ]
    },
    {
      "cell_type": "code",
      "execution_count": 15,
      "metadata": {},
      "outputs": [
        {
          "name": "stdout",
          "output_type": "stream",
          "text": [
            "713 ms \u00b1 82 ms per loop (mean \u00b1 std. dev. of 7 runs, 1 loop each)\n"
          ]
        }
      ],
      "source": [
        "%timeit pandas.DataFrame(prob)"
      ]
    },
    {
      "cell_type": "code",
      "execution_count": 16,
      "metadata": {},
      "outputs": [
        {
          "name": "stdout",
          "output_type": "stream",
          "text": [
            "142 ms \u00b1 32.6 ms per loop (mean \u00b1 std. dev. of 7 runs, 10 loops each)\n"
          ]
        }
      ],
      "source": [
        "list_of_dict = [v.asdict() for v in prob]\n",
        "%timeit pandas.DataFrame(list_of_dict)"
      ]
    },
    {
      "cell_type": "markdown",
      "metadata": {},
      "source": [
        "But if you just need to do the following:"
      ]
    },
    {
      "cell_type": "code",
      "execution_count": 17,
      "metadata": {},
      "outputs": [
        {
          "name": "stdout",
          "output_type": "stream",
          "text": [
            "1.08 s \u00b1 334 ms per loop (mean \u00b1 std. dev. of 7 runs, 1 loop each)\n"
          ]
        }
      ],
      "source": [
        "%timeit pandas.DataFrame(prob).values"
      ]
    },
    {
      "cell_type": "markdown",
      "metadata": {},
      "source": [
        "Then, you can just do that:"
      ]
    },
    {
      "cell_type": "code",
      "execution_count": 18,
      "metadata": {},
      "outputs": [
        {
          "name": "stdout",
          "output_type": "stream",
          "text": [
            "[0, 1, 2]\n",
            "The slowest run took 4.08 times longer than the fastest. This could mean that an intermediate result is being cached.\n",
            "754 ns \u00b1 379 ns per loop (mean \u00b1 std. dev. of 7 runs, 1000000 loops each)\n"
          ]
        }
      ],
      "source": [
        "print(prob.columns)\n",
        "%timeit prob.values"
      ]
    },
    {
      "cell_type": "markdown",
      "metadata": {},
      "source": [
        "And then:\n"
      ]
    },
    {
      "cell_type": "code",
      "execution_count": 19,
      "metadata": {},
      "outputs": [
        {
          "name": "stdout",
          "output_type": "stream",
          "text": [
            "252 \u00b5s \u00b1 69.3 \u00b5s per loop (mean \u00b1 std. dev. of 7 runs, 100 loops each)\n"
          ]
        }
      ],
      "source": [
        "%timeit -n 100 pandas.DataFrame(prob.values, columns=prob.columns)"
      ]
    },
    {
      "cell_type": "markdown",
      "metadata": {},
      "source": [
        "We can then compare to what *onnxruntime* would do when the runtime is called indenpently for each node. We use the runtime named [onnxruntime2](http://www.xavierdupre.fr/app/mlprodict/helpsphinx/onnx_runtime.html?highlight=onnxruntime2#onnxruntime2-independent-onnxruntime-for-every-node). Class *OnnxInference* splits the ONNX graph into multiple ONNX graphs, one for each node, and then calls *onnxruntime* for each of them indenpently. *Python* handles the graph logic."
      ]
    },
    {
      "cell_type": "code",
      "execution_count": 20,
      "metadata": {
        "scrolled": false
      },
      "outputs": [],
      "source": [
        "res = list(enumerate_validated_operator_opsets(\n",
        "            verbose=0, models={\"LogisticRegression\"}, opset_min=12,\n",
        "            runtime='onnxruntime2', debug=False, node_time=True))"
      ]
    },
    {
      "cell_type": "code",
      "execution_count": 21,
      "metadata": {},
      "outputs": [
        {
          "data": {
            "text/html": [
              "<div>\n",
              "<style scoped>\n",
              "    .dataframe tbody tr th:only-of-type {\n",
              "        vertical-align: middle;\n",
              "    }\n",
              "\n",
              "    .dataframe tbody tr th {\n",
              "        vertical-align: top;\n",
              "    }\n",
              "\n",
              "    .dataframe thead th {\n",
              "        text-align: right;\n",
              "    }\n",
              "</style>\n",
              "<table border=\"1\" class=\"dataframe\">\n",
              "  <thead>\n",
              "    <tr style=\"text-align: right;\">\n",
              "      <th>N</th>\n",
              "      <th>1</th>\n",
              "      <th>10</th>\n",
              "      <th>100</th>\n",
              "      <th>1000</th>\n",
              "      <th>10000</th>\n",
              "      <th>100000</th>\n",
              "    </tr>\n",
              "    <tr>\n",
              "      <th>step</th>\n",
              "      <th></th>\n",
              "      <th></th>\n",
              "      <th></th>\n",
              "      <th></th>\n",
              "      <th></th>\n",
              "      <th></th>\n",
              "    </tr>\n",
              "  </thead>\n",
              "  <tbody>\n",
              "    <tr>\n",
              "      <th>0-LinearClassifier</th>\n",
              "      <td>0.296359</td>\n",
              "      <td>0.293521</td>\n",
              "      <td>0.217767</td>\n",
              "      <td>0.085926</td>\n",
              "      <td>0.037050</td>\n",
              "      <td>0.014984</td>\n",
              "    </tr>\n",
              "    <tr>\n",
              "      <th>1-Normalizer</th>\n",
              "      <td>0.248402</td>\n",
              "      <td>0.234708</td>\n",
              "      <td>0.161180</td>\n",
              "      <td>0.043608</td>\n",
              "      <td>0.013674</td>\n",
              "      <td>0.007303</td>\n",
              "    </tr>\n",
              "    <tr>\n",
              "      <th>2-Cast</th>\n",
              "      <td>0.234185</td>\n",
              "      <td>0.215044</td>\n",
              "      <td>0.147411</td>\n",
              "      <td>0.032621</td>\n",
              "      <td>0.006820</td>\n",
              "      <td>0.007393</td>\n",
              "    </tr>\n",
              "    <tr>\n",
              "      <th>3-ZipMap</th>\n",
              "      <td>0.221055</td>\n",
              "      <td>0.256727</td>\n",
              "      <td>0.473643</td>\n",
              "      <td>0.837844</td>\n",
              "      <td>0.942456</td>\n",
              "      <td>0.970319</td>\n",
              "    </tr>\n",
              "  </tbody>\n",
              "</table>\n",
              "</div>"
            ],
            "text/plain": [
              "N                     1         10        100       1000      10000     100000\n",
              "step                                                                          \n",
              "0-LinearClassifier  0.296359  0.293521  0.217767  0.085926  0.037050  0.014984\n",
              "1-Normalizer        0.248402  0.234708  0.161180  0.043608  0.013674  0.007303\n",
              "2-Cast              0.234185  0.215044  0.147411  0.032621  0.006820  0.007393\n",
              "3-ZipMap            0.221055  0.256727  0.473643  0.837844  0.942456  0.970319"
            ]
          },
          "execution_count": 22,
          "metadata": {},
          "output_type": "execute_result"
        }
      ],
      "source": [
        "if '_6ort_run_batch_exc' in res[0]:\n",
        "    m = \"Something went wrong.\", res[0]['_6ort_run_batch_exc']\n",
        "else:\n",
        "    df = pandas.DataFrame(res[0]['bench-batch'])\n",
        "    df['step'] = df.apply(lambda row: '{}-{}'.format(row['i'], row[\"name\"]), axis=1)\n",
        "    piv = df.pivot('step', 'N', 'time')\n",
        "    total = piv.sum(axis=0)\n",
        "    m = piv / total\n",
        "m"
      ]
    },
    {
      "cell_type": "markdown",
      "metadata": {},
      "source": [
        "*onnxruntime* creates a new container each time a ZipMap is executed. That's whay it takes that much time and the ratio increases when the number of observations increases."
      ]
    },
    {
      "cell_type": "markdown",
      "metadata": {},
      "source": [
        "## GaussianProcessRegressor\n",
        "\n",
        "This operator is slow for small batches compare to scikit-learn but closes the gap as the batch size increases. Let\u2019s see where the time goes."
      ]
    },
    {
      "cell_type": "code",
      "execution_count": 22,
      "metadata": {},
      "outputs": [
        {
          "data": {
            "text/plain": [
              "(12, 12)"
            ]
          },
          "execution_count": 23,
          "metadata": {},
          "output_type": "execute_result"
        }
      ],
      "source": [
        "from onnx.defs import onnx_opset_version\n",
        "from mlprodict.tools.asv_options_helper import get_opset_number_from_onnx\n",
        "onnx_opset_version(), get_opset_number_from_onnx()"
      ]
    },
    {
      "cell_type": "code",
      "execution_count": 23,
      "metadata": {
        "scrolled": false
      },
      "outputs": [
        {
          "name": "stdout",
          "output_type": "stream",
          "text": [
            "[enumerate_validated_operator_opsets] opset in [12, 12].\n"
          ]
        },
        {
          "name": "stderr",
          "output_type": "stream",
          "text": [
            "GaussianProcessRegressor    :   0%|          | 0/1 [00:00<?, ?it/s]"
          ]
        },
        {
          "name": "stdout",
          "output_type": "stream",
          "text": [
            "[enumerate_compatible_opset] opset in [12, 12].\n"
          ]
        },
        {
          "name": "stderr",
          "output_type": "stream",
          "text": [
            "GaussianProcessRegressor    : 100%|\u2588\u2588\u2588\u2588\u2588\u2588\u2588\u2588\u2588\u2588| 1/1 [00:08<00:00,  8.19s/it]\n"
          ]
        }
      ],
      "source": [
        "res = list(enumerate_validated_operator_opsets(\n",
        "            verbose=1, models={\"GaussianProcessRegressor\"},\n",
        "            opset_min=get_opset_number_from_onnx(),\n",
        "            opset_max=get_opset_number_from_onnx(),\n",
        "            runtime='python', debug=False, node_time=True,\n",
        "            filter_exp=lambda m, p: p == \"b-reg\"))"
      ]
    },
    {
      "cell_type": "code",
      "execution_count": 24,
      "metadata": {},
      "outputs": [
        {
          "data": {
            "text/html": [
              "<div>\n",
              "<style scoped>\n",
              "    .dataframe tbody tr th:only-of-type {\n",
              "        vertical-align: middle;\n",
              "    }\n",
              "\n",
              "    .dataframe tbody tr th {\n",
              "        vertical-align: top;\n",
              "    }\n",
              "\n",
              "    .dataframe thead th {\n",
              "        text-align: right;\n",
              "    }\n",
              "</style>\n",
              "<table border=\"1\" class=\"dataframe\">\n",
              "  <thead>\n",
              "    <tr style=\"text-align: right;\">\n",
              "      <th></th>\n",
              "      <th>i</th>\n",
              "      <th>name</th>\n",
              "      <th>op_type</th>\n",
              "      <th>time</th>\n",
              "      <th>N</th>\n",
              "      <th>max_time</th>\n",
              "      <th>min_time</th>\n",
              "      <th>repeat</th>\n",
              "      <th>number</th>\n",
              "      <th>step</th>\n",
              "    </tr>\n",
              "  </thead>\n",
              "  <tbody>\n",
              "    <tr>\n",
              "      <th>0</th>\n",
              "      <td>0</td>\n",
              "      <td>kgpd_CDist</td>\n",
              "      <td>CDist</td>\n",
              "      <td>0.000037</td>\n",
              "      <td>1</td>\n",
              "      <td>0.000065</td>\n",
              "      <td>0.000030</td>\n",
              "      <td>20</td>\n",
              "      <td>30</td>\n",
              "      <td>00-kgpd_CDist</td>\n",
              "    </tr>\n",
              "    <tr>\n",
              "      <th>1</th>\n",
              "      <td>1</td>\n",
              "      <td>kgpd_Div</td>\n",
              "      <td>Div</td>\n",
              "      <td>0.000010</td>\n",
              "      <td>1</td>\n",
              "      <td>0.000017</td>\n",
              "      <td>0.000008</td>\n",
              "      <td>20</td>\n",
              "      <td>30</td>\n",
              "      <td>01-kgpd_Div</td>\n",
              "    </tr>\n",
              "    <tr>\n",
              "      <th>2</th>\n",
              "      <td>2</td>\n",
              "      <td>kgpd_Mul</td>\n",
              "      <td>Mul</td>\n",
              "      <td>0.000007</td>\n",
              "      <td>1</td>\n",
              "      <td>0.000012</td>\n",
              "      <td>0.000005</td>\n",
              "      <td>20</td>\n",
              "      <td>30</td>\n",
              "      <td>02-kgpd_Mul</td>\n",
              "    </tr>\n",
              "    <tr>\n",
              "      <th>3</th>\n",
              "      <td>3</td>\n",
              "      <td>kgpd_Sin</td>\n",
              "      <td>Sin</td>\n",
              "      <td>0.000007</td>\n",
              "      <td>1</td>\n",
              "      <td>0.000011</td>\n",
              "      <td>0.000006</td>\n",
              "      <td>20</td>\n",
              "      <td>30</td>\n",
              "      <td>03-kgpd_Sin</td>\n",
              "    </tr>\n",
              "    <tr>\n",
              "      <th>4</th>\n",
              "      <td>4</td>\n",
              "      <td>kgpd_Div1</td>\n",
              "      <td>Div</td>\n",
              "      <td>0.000008</td>\n",
              "      <td>1</td>\n",
              "      <td>0.000013</td>\n",
              "      <td>0.000006</td>\n",
              "      <td>20</td>\n",
              "      <td>30</td>\n",
              "      <td>04-kgpd_Div1</td>\n",
              "    </tr>\n",
              "  </tbody>\n",
              "</table>\n",
              "</div>"
            ],
            "text/plain": [
              "   i        name op_type      time  N  max_time  min_time  repeat  number  \\\n",
              "0  0  kgpd_CDist   CDist  0.000037  1  0.000065  0.000030      20      30   \n",
              "1  1    kgpd_Div     Div  0.000010  1  0.000017  0.000008      20      30   \n",
              "2  2    kgpd_Mul     Mul  0.000007  1  0.000012  0.000005      20      30   \n",
              "3  3    kgpd_Sin     Sin  0.000007  1  0.000011  0.000006      20      30   \n",
              "4  4   kgpd_Div1     Div  0.000008  1  0.000013  0.000006      20      30   \n",
              "\n",
              "            step  \n",
              "0  00-kgpd_CDist  \n",
              "1    01-kgpd_Div  \n",
              "2    02-kgpd_Mul  \n",
              "3    03-kgpd_Sin  \n",
              "4   04-kgpd_Div1  "
            ]
          },
          "execution_count": 25,
          "metadata": {},
          "output_type": "execute_result"
        }
      ],
      "source": [
        "df = pandas.DataFrame(res[0]['bench-batch'])\n",
        "df['step'] = df.apply(lambda row: '{0:02d}-{1}'.format(row['i'], row[\"name\"]), axis=1)\n",
        "df.head()"
      ]
    },
    {
      "cell_type": "code",
      "execution_count": 25,
      "metadata": {},
      "outputs": [
        {
          "data": {
            "text/html": [
              "<div>\n",
              "<style scoped>\n",
              "    .dataframe tbody tr th:only-of-type {\n",
              "        vertical-align: middle;\n",
              "    }\n",
              "\n",
              "    .dataframe tbody tr th {\n",
              "        vertical-align: top;\n",
              "    }\n",
              "\n",
              "    .dataframe thead th {\n",
              "        text-align: right;\n",
              "    }\n",
              "</style>\n",
              "<table border=\"1\" class=\"dataframe\">\n",
              "  <thead>\n",
              "    <tr style=\"text-align: right;\">\n",
              "      <th>N</th>\n",
              "      <th>1</th>\n",
              "      <th>10</th>\n",
              "      <th>100</th>\n",
              "      <th>1000</th>\n",
              "      <th>10000</th>\n",
              "      <th>100000</th>\n",
              "    </tr>\n",
              "    <tr>\n",
              "      <th>step</th>\n",
              "      <th></th>\n",
              "      <th></th>\n",
              "      <th></th>\n",
              "      <th></th>\n",
              "      <th></th>\n",
              "      <th></th>\n",
              "    </tr>\n",
              "  </thead>\n",
              "  <tbody>\n",
              "    <tr>\n",
              "      <th>00-kgpd_CDist</th>\n",
              "      <td>0.309506</td>\n",
              "      <td>0.288059</td>\n",
              "      <td>0.239527</td>\n",
              "      <td>0.248808</td>\n",
              "      <td>0.291181</td>\n",
              "      <td>0.294030</td>\n",
              "    </tr>\n",
              "    <tr>\n",
              "      <th>01-kgpd_Div</th>\n",
              "      <td>0.085916</td>\n",
              "      <td>0.068590</td>\n",
              "      <td>0.029410</td>\n",
              "      <td>0.013159</td>\n",
              "      <td>0.011384</td>\n",
              "      <td>0.011907</td>\n",
              "    </tr>\n",
              "    <tr>\n",
              "      <th>02-kgpd_Mul</th>\n",
              "      <td>0.059448</td>\n",
              "      <td>0.049759</td>\n",
              "      <td>0.018198</td>\n",
              "      <td>0.007434</td>\n",
              "      <td>0.009512</td>\n",
              "      <td>0.011827</td>\n",
              "    </tr>\n",
              "    <tr>\n",
              "      <th>03-kgpd_Sin</th>\n",
              "      <td>0.062967</td>\n",
              "      <td>0.083510</td>\n",
              "      <td>0.101473</td>\n",
              "      <td>0.112114</td>\n",
              "      <td>0.102009</td>\n",
              "      <td>0.115441</td>\n",
              "    </tr>\n",
              "    <tr>\n",
              "      <th>04-kgpd_Div1</th>\n",
              "      <td>0.063473</td>\n",
              "      <td>0.064730</td>\n",
              "      <td>0.023282</td>\n",
              "      <td>0.009991</td>\n",
              "      <td>0.014552</td>\n",
              "      <td>0.012457</td>\n",
              "    </tr>\n",
              "    <tr>\n",
              "      <th>05-kgpd_Pow</th>\n",
              "      <td>0.071267</td>\n",
              "      <td>0.171305</td>\n",
              "      <td>0.368631</td>\n",
              "      <td>0.419807</td>\n",
              "      <td>0.406738</td>\n",
              "      <td>0.399298</td>\n",
              "    </tr>\n",
              "    <tr>\n",
              "      <th>06-kgpd_Mul1</th>\n",
              "      <td>0.060416</td>\n",
              "      <td>0.052823</td>\n",
              "      <td>0.024404</td>\n",
              "      <td>0.010786</td>\n",
              "      <td>0.010208</td>\n",
              "      <td>0.009432</td>\n",
              "    </tr>\n",
              "    <tr>\n",
              "      <th>07-kgpd_Exp</th>\n",
              "      <td>0.066545</td>\n",
              "      <td>0.099805</td>\n",
              "      <td>0.151011</td>\n",
              "      <td>0.163295</td>\n",
              "      <td>0.147185</td>\n",
              "      <td>0.141175</td>\n",
              "    </tr>\n",
              "    <tr>\n",
              "      <th>08-gpr_MatMul</th>\n",
              "      <td>0.135530</td>\n",
              "      <td>0.062867</td>\n",
              "      <td>0.024213</td>\n",
              "      <td>0.010305</td>\n",
              "      <td>0.006423</td>\n",
              "      <td>0.004321</td>\n",
              "    </tr>\n",
              "    <tr>\n",
              "      <th>09-gpr_Add</th>\n",
              "      <td>0.084932</td>\n",
              "      <td>0.058549</td>\n",
              "      <td>0.019852</td>\n",
              "      <td>0.004300</td>\n",
              "      <td>0.000809</td>\n",
              "      <td>0.000112</td>\n",
              "    </tr>\n",
              "  </tbody>\n",
              "</table>\n",
              "</div>"
            ],
            "text/plain": [
              "N                1         10        100       1000      10000     100000\n",
              "step                                                                     \n",
              "00-kgpd_CDist  0.309506  0.288059  0.239527  0.248808  0.291181  0.294030\n",
              "01-kgpd_Div    0.085916  0.068590  0.029410  0.013159  0.011384  0.011907\n",
              "02-kgpd_Mul    0.059448  0.049759  0.018198  0.007434  0.009512  0.011827\n",
              "03-kgpd_Sin    0.062967  0.083510  0.101473  0.112114  0.102009  0.115441\n",
              "04-kgpd_Div1   0.063473  0.064730  0.023282  0.009991  0.014552  0.012457\n",
              "05-kgpd_Pow    0.071267  0.171305  0.368631  0.419807  0.406738  0.399298\n",
              "06-kgpd_Mul1   0.060416  0.052823  0.024404  0.010786  0.010208  0.009432\n",
              "07-kgpd_Exp    0.066545  0.099805  0.151011  0.163295  0.147185  0.141175\n",
              "08-gpr_MatMul  0.135530  0.062867  0.024213  0.010305  0.006423  0.004321\n",
              "09-gpr_Add     0.084932  0.058549  0.019852  0.004300  0.000809  0.000112"
            ]
          },
          "execution_count": 26,
          "metadata": {},
          "output_type": "execute_result"
        }
      ],
      "source": [
        "pivpy = df.pivot('step', 'N', 'time')\n",
        "total = pivpy.sum(axis=0)\n",
        "pivpy / total"
      ]
    },
    {
      "cell_type": "code",
      "execution_count": 26,
      "metadata": {},
      "outputs": [
        {
          "data": {
            "image/png": "[encoded data removed]",
            "text/plain": [
              "<Figure size 1008x288 with 1 Axes>"
            ]
          },
          "metadata": {
            "needs_background": "light"
          },
          "output_type": "display_data"
        }
      ],
      "source": [
        "ax = (pivpy / total).T.plot(logx=True, figsize=(14, 4))\n",
        "ax.set_ylim([0,1])\n",
        "ax.set_title(\"Time spent in each node relatively to the total time\\npython runtime\");"
      ]
    },
    {
      "cell_type": "markdown",
      "metadata": {},
      "source": [
        "The operator *Scan* is clearly time consuming when the batch size is small. *onnxruntime* is more efficient for this one."
      ]
    },
    {
      "cell_type": "code",
      "execution_count": 27,
      "metadata": {},
      "outputs": [
        {
          "name": "stdout",
          "output_type": "stream",
          "text": [
            "[enumerate_validated_operator_opsets] opset in [12, 12].\n"
          ]
        },
        {
          "name": "stderr",
          "output_type": "stream",
          "text": [
            "GaussianProcessRegressor    :   0%|          | 0/1 [00:00<?, ?it/s]"
          ]
        },
        {
          "name": "stdout",
          "output_type": "stream",
          "text": [
            "[enumerate_compatible_opset] opset in [12, 12].\n"
          ]
        },
        {
          "name": "stderr",
          "output_type": "stream",
          "text": [
            "GaussianProcessRegressor    : 100%|\u2588\u2588\u2588\u2588\u2588\u2588\u2588\u2588\u2588\u2588| 1/1 [00:07<00:00,  7.61s/it]\n"
          ]
        }
      ],
      "source": [
        "res = list(enumerate_validated_operator_opsets(\n",
        "            verbose=1, models={\"GaussianProcessRegressor\"}, \n",
        "            opset_min=get_opset_number_from_onnx(),\n",
        "            opset_max=get_opset_number_from_onnx(),\n",
        "            runtime='onnxruntime2', debug=False, node_time=True,\n",
        "            filter_exp=lambda m, p: p == \"b-reg\"))"
      ]
    },
    {
      "cell_type": "code",
      "execution_count": 28,
      "metadata": {},
      "outputs": [
        {
          "data": {
            "text/html": [
              "<div>\n",
              "<style scoped>\n",
              "    .dataframe tbody tr th:only-of-type {\n",
              "        vertical-align: middle;\n",
              "    }\n",
              "\n",
              "    .dataframe tbody tr th {\n",
              "        vertical-align: top;\n",
              "    }\n",
              "\n",
              "    .dataframe thead th {\n",
              "        text-align: right;\n",
              "    }\n",
              "</style>\n",
              "<table border=\"1\" class=\"dataframe\">\n",
              "  <thead>\n",
              "    <tr style=\"text-align: right;\">\n",
              "      <th>N</th>\n",
              "      <th>1</th>\n",
              "      <th>10</th>\n",
              "      <th>100</th>\n",
              "      <th>1000</th>\n",
              "      <th>10000</th>\n",
              "      <th>100000</th>\n",
              "    </tr>\n",
              "    <tr>\n",
              "      <th>step</th>\n",
              "      <th></th>\n",
              "      <th></th>\n",
              "      <th></th>\n",
              "      <th></th>\n",
              "      <th></th>\n",
              "      <th></th>\n",
              "    </tr>\n",
              "  </thead>\n",
              "  <tbody>\n",
              "    <tr>\n",
              "      <th>00-kgpd_CDist</th>\n",
              "      <td>0.261614</td>\n",
              "      <td>0.118786</td>\n",
              "      <td>0.127646</td>\n",
              "      <td>0.144823</td>\n",
              "      <td>0.162104</td>\n",
              "      <td>0.160084</td>\n",
              "    </tr>\n",
              "    <tr>\n",
              "      <th>01-kgpd_Div</th>\n",
              "      <td>0.094791</td>\n",
              "      <td>0.100644</td>\n",
              "      <td>0.087087</td>\n",
              "      <td>0.069179</td>\n",
              "      <td>0.091498</td>\n",
              "      <td>0.094582</td>\n",
              "    </tr>\n",
              "    <tr>\n",
              "      <th>02-kgpd_Mul</th>\n",
              "      <td>0.089877</td>\n",
              "      <td>0.094497</td>\n",
              "      <td>0.087857</td>\n",
              "      <td>0.071850</td>\n",
              "      <td>0.085294</td>\n",
              "      <td>0.085231</td>\n",
              "    </tr>\n",
              "    <tr>\n",
              "      <th>03-kgpd_Sin</th>\n",
              "      <td>0.071493</td>\n",
              "      <td>0.098722</td>\n",
              "      <td>0.183208</td>\n",
              "      <td>0.292201</td>\n",
              "      <td>0.279224</td>\n",
              "      <td>0.242012</td>\n",
              "    </tr>\n",
              "    <tr>\n",
              "      <th>04-kgpd_Div1</th>\n",
              "      <td>0.080353</td>\n",
              "      <td>0.095073</td>\n",
              "      <td>0.087737</td>\n",
              "      <td>0.075341</td>\n",
              "      <td>0.081158</td>\n",
              "      <td>0.088022</td>\n",
              "    </tr>\n",
              "    <tr>\n",
              "      <th>05-kgpd_Pow</th>\n",
              "      <td>0.074563</td>\n",
              "      <td>0.097817</td>\n",
              "      <td>0.085009</td>\n",
              "      <td>0.070767</td>\n",
              "      <td>0.076199</td>\n",
              "      <td>0.084532</td>\n",
              "    </tr>\n",
              "    <tr>\n",
              "      <th>06-kgpd_Mul1</th>\n",
              "      <td>0.079024</td>\n",
              "      <td>0.097709</td>\n",
              "      <td>0.084469</td>\n",
              "      <td>0.071878</td>\n",
              "      <td>0.070628</td>\n",
              "      <td>0.094026</td>\n",
              "    </tr>\n",
              "    <tr>\n",
              "      <th>07-kgpd_Exp</th>\n",
              "      <td>0.072770</td>\n",
              "      <td>0.088251</td>\n",
              "      <td>0.088295</td>\n",
              "      <td>0.089095</td>\n",
              "      <td>0.089865</td>\n",
              "      <td>0.094930</td>\n",
              "    </tr>\n",
              "    <tr>\n",
              "      <th>08-gpr_MatMul</th>\n",
              "      <td>0.085672</td>\n",
              "      <td>0.112193</td>\n",
              "      <td>0.104119</td>\n",
              "      <td>0.097679</td>\n",
              "      <td>0.061559</td>\n",
              "      <td>0.056021</td>\n",
              "    </tr>\n",
              "    <tr>\n",
              "      <th>09-gpr_Add</th>\n",
              "      <td>0.089843</td>\n",
              "      <td>0.096308</td>\n",
              "      <td>0.064576</td>\n",
              "      <td>0.017186</td>\n",
              "      <td>0.002470</td>\n",
              "      <td>0.000560</td>\n",
              "    </tr>\n",
              "  </tbody>\n",
              "</table>\n",
              "</div>"
            ],
            "text/plain": [
              "N                1         10        100       1000      10000     100000\n",
              "step                                                                     \n",
              "00-kgpd_CDist  0.261614  0.118786  0.127646  0.144823  0.162104  0.160084\n",
              "01-kgpd_Div    0.094791  0.100644  0.087087  0.069179  0.091498  0.094582\n",
              "02-kgpd_Mul    0.089877  0.094497  0.087857  0.071850  0.085294  0.085231\n",
              "03-kgpd_Sin    0.071493  0.098722  0.183208  0.292201  0.279224  0.242012\n",
              "04-kgpd_Div1   0.080353  0.095073  0.087737  0.075341  0.081158  0.088022\n",
              "05-kgpd_Pow    0.074563  0.097817  0.085009  0.070767  0.076199  0.084532\n",
              "06-kgpd_Mul1   0.079024  0.097709  0.084469  0.071878  0.070628  0.094026\n",
              "07-kgpd_Exp    0.072770  0.088251  0.088295  0.089095  0.089865  0.094930\n",
              "08-gpr_MatMul  0.085672  0.112193  0.104119  0.097679  0.061559  0.056021\n",
              "09-gpr_Add     0.089843  0.096308  0.064576  0.017186  0.002470  0.000560"
            ]
          },
          "execution_count": 29,
          "metadata": {},
          "output_type": "execute_result"
        }
      ],
      "source": [
        "try:\n",
        "    df = pandas.DataFrame(res[0]['bench-batch'])\n",
        "except KeyError as e:\n",
        "    print(\"No model available.\")\n",
        "    r, df = None, None\n",
        "if df is not None:\n",
        "    df['step'] = df.apply(lambda row: '{0:02d}-{1}'.format(row['i'], row[\"name\"]), axis=1)\n",
        "    pivort = df.pivot('step', 'N', 'time')\n",
        "    total = pivort.sum(axis=0)\n",
        "    r = pivort / total\n",
        "r"
      ]
    },
    {
      "cell_type": "code",
      "execution_count": 29,
      "metadata": {},
      "outputs": [
        {
          "data": {
            "image/png": "[encoded data removed]",
            "text/plain": [
              "<Figure size 1008x288 with 1 Axes>"
            ]
          },
          "metadata": {
            "needs_background": "light"
          },
          "output_type": "display_data"
        }
      ],
      "source": [
        "if r is not None:\n",
        "    ax = (pivort / total).T.plot(logx=True, figsize=(14, 4))\n",
        "    ax.set_ylim([0,1])\n",
        "    ax.set_title(\"Time spent in each node relatively to the total time\\nonnxtunime\");"
      ]
    },
    {
      "cell_type": "markdown",
      "metadata": {},
      "source": [
        "The results are relative. Let's see which runtime is best node by node."
      ]
    },
    {
      "cell_type": "code",
      "execution_count": 30,
      "metadata": {},
      "outputs": [
        {
          "data": {
            "text/html": [
              "<div>\n",
              "<style scoped>\n",
              "    .dataframe tbody tr th:only-of-type {\n",
              "        vertical-align: middle;\n",
              "    }\n",
              "\n",
              "    .dataframe tbody tr th {\n",
              "        vertical-align: top;\n",
              "    }\n",
              "\n",
              "    .dataframe thead th {\n",
              "        text-align: right;\n",
              "    }\n",
              "</style>\n",
              "<table border=\"1\" class=\"dataframe\">\n",
              "  <thead>\n",
              "    <tr style=\"text-align: right;\">\n",
              "      <th>N</th>\n",
              "      <th>1</th>\n",
              "      <th>10</th>\n",
              "      <th>100</th>\n",
              "      <th>1000</th>\n",
              "      <th>10000</th>\n",
              "      <th>100000</th>\n",
              "    </tr>\n",
              "    <tr>\n",
              "      <th>step</th>\n",
              "      <th></th>\n",
              "      <th></th>\n",
              "      <th></th>\n",
              "      <th></th>\n",
              "      <th></th>\n",
              "      <th></th>\n",
              "    </tr>\n",
              "  </thead>\n",
              "  <tbody>\n",
              "    <tr>\n",
              "      <th>00-kgpd_CDist</th>\n",
              "      <td>1.891915</td>\n",
              "      <td>-0.206841</td>\n",
              "      <td>-0.609228</td>\n",
              "      <td>-0.738505</td>\n",
              "      <td>-0.667197</td>\n",
              "      <td>-0.675859</td>\n",
              "    </tr>\n",
              "    <tr>\n",
              "      <th>01-kgpd_Div</th>\n",
              "      <td>2.774708</td>\n",
              "      <td>1.822318</td>\n",
              "      <td>1.171331</td>\n",
              "      <td>1.361756</td>\n",
              "      <td>3.804945</td>\n",
              "      <td>3.729271</td>\n",
              "    </tr>\n",
              "    <tr>\n",
              "      <th>02-kgpd_Mul</th>\n",
              "      <td>4.172537</td>\n",
              "      <td>2.652743</td>\n",
              "      <td>2.540127</td>\n",
              "      <td>3.342302</td>\n",
              "      <td>4.360391</td>\n",
              "      <td>3.290509</td>\n",
              "    </tr>\n",
              "    <tr>\n",
              "      <th>03-kgpd_Sin</th>\n",
              "      <td>2.884579</td>\n",
              "      <td>1.273778</td>\n",
              "      <td>0.323936</td>\n",
              "      <td>0.170877</td>\n",
              "      <td>0.636327</td>\n",
              "      <td>0.248118</td>\n",
              "    </tr>\n",
              "    <tr>\n",
              "      <th>04-kgpd_Div1</th>\n",
              "      <td>3.331206</td>\n",
              "      <td>1.825033</td>\n",
              "      <td>1.763311</td>\n",
              "      <td>2.387657</td>\n",
              "      <td>2.334065</td>\n",
              "      <td>3.206922</td>\n",
              "    </tr>\n",
              "    <tr>\n",
              "      <th>05-kgpd_Pow</th>\n",
              "      <td>2.579541</td>\n",
              "      <td>0.098292</td>\n",
              "      <td>-0.830899</td>\n",
              "      <td>-0.924269</td>\n",
              "      <td>-0.888007</td>\n",
              "      <td>-0.873962</td>\n",
              "    </tr>\n",
              "    <tr>\n",
              "      <th>06-kgpd_Mul1</th>\n",
              "      <td>3.475030</td>\n",
              "      <td>2.557795</td>\n",
              "      <td>1.538098</td>\n",
              "      <td>1.993691</td>\n",
              "      <td>3.136150</td>\n",
              "      <td>4.934947</td>\n",
              "    </tr>\n",
              "    <tr>\n",
              "      <th>07-kgpd_Exp</th>\n",
              "      <td>2.741387</td>\n",
              "      <td>0.700744</td>\n",
              "      <td>-0.571255</td>\n",
              "      <td>-0.754885</td>\n",
              "      <td>-0.635007</td>\n",
              "      <td>-0.599665</td>\n",
              "    </tr>\n",
              "    <tr>\n",
              "      <th>08-gpr_MatMul</th>\n",
              "      <td>1.162703</td>\n",
              "      <td>2.432554</td>\n",
              "      <td>2.153176</td>\n",
              "      <td>3.258355</td>\n",
              "      <td>4.729140</td>\n",
              "      <td>6.718559</td>\n",
              "    </tr>\n",
              "    <tr>\n",
              "      <th>09-gpr_Add</th>\n",
              "      <td>2.619107</td>\n",
              "      <td>2.163860</td>\n",
              "      <td>1.385286</td>\n",
              "      <td>0.795599</td>\n",
              "      <td>0.824600</td>\n",
              "      <td>1.985323</td>\n",
              "    </tr>\n",
              "  </tbody>\n",
              "</table>\n",
              "</div>"
            ],
            "text/plain": [
              "N                1         10        100       1000      10000     100000\n",
              "step                                                                     \n",
              "00-kgpd_CDist  1.891915 -0.206841 -0.609228 -0.738505 -0.667197 -0.675859\n",
              "01-kgpd_Div    2.774708  1.822318  1.171331  1.361756  3.804945  3.729271\n",
              "02-kgpd_Mul    4.172537  2.652743  2.540127  3.342302  4.360391  3.290509\n",
              "03-kgpd_Sin    2.884579  1.273778  0.323936  0.170877  0.636327  0.248118\n",
              "04-kgpd_Div1   3.331206  1.825033  1.763311  2.387657  2.334065  3.206922\n",
              "05-kgpd_Pow    2.579541  0.098292 -0.830899 -0.924269 -0.888007 -0.873962\n",
              "06-kgpd_Mul1   3.475030  2.557795  1.538098  1.993691  3.136150  4.934947\n",
              "07-kgpd_Exp    2.741387  0.700744 -0.571255 -0.754885 -0.635007 -0.599665\n",
              "08-gpr_MatMul  1.162703  2.432554  2.153176  3.258355  4.729140  6.718559\n",
              "09-gpr_Add     2.619107  2.163860  1.385286  0.795599  0.824600  1.985323"
            ]
          },
          "execution_count": 31,
          "metadata": {},
          "output_type": "execute_result"
        }
      ],
      "source": [
        "if r is not None:\n",
        "    r = (pivort - pivpy) / pivpy\n",
        "r"
      ]
    },
    {
      "cell_type": "markdown",
      "metadata": {},
      "source": [
        "Based on this, *onnxruntime* is faster for operators *Scan*, *Pow*, *Exp* and slower for all the others."
      ]
    },
    {
      "cell_type": "markdown",
      "metadata": {},
      "source": [
        "## Measuring the time with a custom dataset\n",
        "\n",
        "We use the example [Comparison of kernel ridge and Gaussian process regression](https://scikit-learn.org/stable/auto_examples/gaussian_process/plot_compare_gpr_krr.html#sphx-glr-auto-examples-gaussian-process-plot-compare-gpr-krr-py)."
      ]
    },
    {
      "cell_type": "code",
      "execution_count": 31,
      "metadata": {},
      "outputs": [
        {
          "data": {
            "text/plain": [
              "GaussianProcessRegressor(kernel=ExpSineSquared(length_scale=1, periodicity=5))"
            ]
          },
          "execution_count": 32,
          "metadata": {},
          "output_type": "execute_result"
        }
      ],
      "source": [
        "import numpy\n",
        "import pandas\n",
        "import matplotlib.pyplot as plt\n",
        "from sklearn.kernel_ridge import KernelRidge\n",
        "from sklearn.model_selection import GridSearchCV\n",
        "from sklearn.gaussian_process import GaussianProcessRegressor\n",
        "from sklearn.gaussian_process.kernels import WhiteKernel, ExpSineSquared\n",
        "\n",
        "rng = numpy.random.RandomState(0)\n",
        "\n",
        "# Generate sample data\n",
        "X = 15 * rng.rand(100, 1)\n",
        "y = numpy.sin(X).ravel()\n",
        "y += 3 * (0.5 - rng.rand(X.shape[0]))  # add noise\n",
        "\n",
        "gp_kernel = ExpSineSquared(1.0, 5.0, periodicity_bounds=(1e-2, 1e1))\n",
        "gpr = GaussianProcessRegressor(kernel=gp_kernel)\n",
        "gpr.fit(X, y)"
      ]
    },
    {
      "cell_type": "code",
      "execution_count": 32,
      "metadata": {
        "scrolled": false
      },
      "outputs": [
        {
          "data": {
            "text/html": [
              "<div id=\"M0bf2aba5ec864263b8bc0a05d5984241-cont\"><div id=\"M0bf2aba5ec864263b8bc0a05d5984241\" style=\"width:100%;height:100%;\"></div></div>\n",
              "<script>\n",
              "\n",
              "require(['http://www.xavierdupre.fr/js/vizjs/viz.js'], function() { var svgGraph = Viz(\"digraph{\\n  ranksep=0.25;\\n  orientation=portrait;\\n  nodesep=0.05;\\n\\n  X [shape=box color=red label=\\\"X\\ndouble((0, 4))\\\" fontsize=10];\\n\\n  GPmean [shape=box color=green label=\\\"GPmean\\ndouble((0, 1))\\\" fontsize=10];\\n\\n  Sc_Scancst [shape=box label=\\\"Sc_Scancst\\nfloat64((100, 1))\\n[[ 8.23220256]\\n [10.7278405 ]\\n [ 9.04145064]\\n [ 8....\\\" fontsize=10];\\n  kgpd_Divcst [shape=box label=\\\"kgpd_Divcst\\nfloat64((1,))\\n[10.]\\\" fontsize=10];\\n  kgpd_Mulcst [shape=box label=\\\"kgpd_Mulcst\\nfloat64((1,))\\n[3.14159265]\\\" fontsize=10];\\n  kgpd_Divcst1 [shape=box label=\\\"kgpd_Divcst1\\nfloat64((1,))\\n[1.e-05]\\\" fontsize=10];\\n  kgpd_Powcst [shape=box label=\\\"kgpd_Powcst\\nfloat64((1,))\\n[2.]\\\" fontsize=10];\\n  kgpd_Mulcst1 [shape=box label=\\\"kgpd_Mulcst1\\nfloat64((1,))\\n[-2.]\\\" fontsize=10];\\n  gpr_MatMulcst [shape=box label=\\\"gpr_MatMulcst\\nfloat64((100,))\\n[ 3.95873450e-01 -2.74396810e-01 -3.31573692e-01 -...\\\" fontsize=10];\\n  gpr_Addcst [shape=box label=\\\"gpr_Addcst\\nfloat64((1, 1))\\n[[0.]]\\\" fontsize=10];\\n\\n  scan0 [shape=box label=\\\"scan0\\\" fontsize=10];\\n  scan1 [shape=box label=\\\"scan1\\\" fontsize=10];\\n  subgraph cluster_Scan1780557449776 {\\n    label=\\\"Scan\\n(Sc_Scan)\\nbody=node {\\n  input: 'next_in'...\\nnum_scan_inputs=1\\\";\\n    fontsize=10;\\n    color=black;\\n    B_next_in [shape=box color=red label=\\\"next_in\\ndouble(('?',))\\\" fontsize=10];\\n    B_next [shape=box color=red label=\\\"next\\ndouble(('?',))\\\" fontsize=10];\\n  \\n    B_next_out [shape=box color=green label=\\\"next_out\\ndouble(('?',))\\\" fontsize=10];\\n    B_scan_out [shape=box color=green label=\\\"scan_out\\ndouble(('?',))\\\" fontsize=10];\\n  \\n  \\n    B_cdistd_Identity [shape=box style=\\\"filled,rounded\\\" color=orange label=\\\"Identity\\n(cdistd_Identity)\\\" fontsize=10];\\n    B_next_in -> B_cdistd_Identity;\\n    B_cdistd_Identity -> B_next_out;\\n  \\n    B_diff [shape=box label=\\\"diff\\\" fontsize=10];\\n    B_Su_Sub [shape=box style=\\\"filled,rounded\\\" color=orange label=\\\"Sub\\n(Su_Sub)\\\" fontsize=10];\\n    B_next_in -> B_Su_Sub;\\n    B_next -> B_Su_Sub;\\n    B_Su_Sub -> B_diff;\\n  \\n    B_Re_ReduceSumSquare [shape=box style=\\\"filled,rounded\\\" color=orange label=\\\"ReduceSumSquare\\n(Re_ReduceSumSquare)\\naxes=[1]\\nkeepdims=0\\\" fontsize=10];\\n    B_diff -> B_Re_ReduceSumSquare;\\n    B_Re_ReduceSumSquare -> B_scan_out;\\n  }\\n  X -> B_next_in;\\n  Sc_Scancst -> B_next;\\n  B_next_out -> scan0;\\n  B_scan_out -> scan1;\\n\\n  kgpd_transposed0 [shape=box label=\\\"kgpd_transposed0\\\" fontsize=10];\\n  kgpd_Transpose [shape=box style=\\\"filled,rounded\\\" color=orange label=\\\"Transpose\\n(kgpd_Transpose)\\nperm=[1 0]\\\" fontsize=10];\\n  scan1 -> kgpd_Transpose;\\n  kgpd_Transpose -> kgpd_transposed0;\\n\\n  kgpd_Y0 [shape=box label=\\\"kgpd_Y0\\\" fontsize=10];\\n  kgpd_Sqrt [shape=box style=\\\"filled,rounded\\\" color=orange label=\\\"Sqrt\\n(kgpd_Sqrt)\\\" fontsize=10];\\n  kgpd_transposed0 -> kgpd_Sqrt;\\n  kgpd_Sqrt -> kgpd_Y0;\\n\\n  kgpd_C03 [shape=box label=\\\"kgpd_C03\\\" fontsize=10];\\n  kgpd_Div [shape=box style=\\\"filled,rounded\\\" color=orange label=\\\"Div\\n(kgpd_Div)\\\" fontsize=10];\\n  kgpd_Y0 -> kgpd_Div;\\n  kgpd_Divcst -> kgpd_Div;\\n  kgpd_Div -> kgpd_C03;\\n\\n  kgpd_C02 [shape=box label=\\\"kgpd_C02\\\" fontsize=10];\\n  kgpd_Mul [shape=box style=\\\"filled,rounded\\\" color=orange label=\\\"Mul\\n(kgpd_Mul)\\\" fontsize=10];\\n  kgpd_C03 -> kgpd_Mul;\\n  kgpd_Mulcst -> kgpd_Mul;\\n  kgpd_Mul -> kgpd_C02;\\n\\n  kgpd_output02 [shape=box label=\\\"kgpd_output02\\\" fontsize=10];\\n  kgpd_Sin [shape=box style=\\\"filled,rounded\\\" color=orange label=\\\"Sin\\n(kgpd_Sin)\\\" fontsize=10];\\n  kgpd_C02 -> kgpd_Sin;\\n  kgpd_Sin -> kgpd_output02;\\n\\n  kgpd_C01 [shape=box label=\\\"kgpd_C01\\\" fontsize=10];\\n  kgpd_Div1 [shape=box style=\\\"filled,rounded\\\" color=orange label=\\\"Div\\n(kgpd_Div1)\\\" fontsize=10];\\n  kgpd_output02 -> kgpd_Div1;\\n  kgpd_Divcst1 -> kgpd_Div1;\\n  kgpd_Div1 -> kgpd_C01;\\n\\n  kgpd_Z0 [shape=box label=\\\"kgpd_Z0\\\" fontsize=10];\\n  kgpd_Pow [shape=box style=\\\"filled,rounded\\\" color=orange label=\\\"Pow\\n(kgpd_Pow)\\\" fontsize=10];\\n  kgpd_C01 -> kgpd_Pow;\\n  kgpd_Powcst -> kgpd_Pow;\\n  kgpd_Pow -> kgpd_Z0;\\n\\n  kgpd_C0 [shape=box label=\\\"kgpd_C0\\\" fontsize=10];\\n  kgpd_Mul1 [shape=box style=\\\"filled,rounded\\\" color=orange label=\\\"Mul\\n(kgpd_Mul1)\\\" fontsize=10];\\n  kgpd_Z0 -> kgpd_Mul1;\\n  kgpd_Mulcst1 -> kgpd_Mul1;\\n  kgpd_Mul1 -> kgpd_C0;\\n\\n  kgpd_output01 [shape=box label=\\\"kgpd_output01\\\" fontsize=10];\\n  kgpd_Exp [shape=box style=\\\"filled,rounded\\\" color=orange label=\\\"Exp\\n(kgpd_Exp)\\\" fontsize=10];\\n  kgpd_C0 -> kgpd_Exp;\\n  kgpd_Exp -> kgpd_output01;\\n\\n  gpr_Y0 [shape=box label=\\\"gpr_Y0\\\" fontsize=10];\\n  gpr_MatMul [shape=box style=\\\"filled,rounded\\\" color=orange label=\\\"MatMul\\n(gpr_MatMul)\\\" fontsize=10];\\n  kgpd_output01 -> gpr_MatMul;\\n  gpr_MatMulcst -> gpr_MatMul;\\n  gpr_MatMul -> gpr_Y0;\\n\\n  gpr_Add [shape=box style=\\\"filled,rounded\\\" color=orange label=\\\"Add\\n(gpr_Add)\\\" fontsize=10];\\n  gpr_Y0 -> gpr_Add;\\n  gpr_Addcst -> gpr_Add;\\n  gpr_Add -> GPmean;\\n}\");\n",
              "document.getElementById('M0bf2aba5ec864263b8bc0a05d5984241').innerHTML = svgGraph; });\n",
              "\n",
              "</script>"
            ],
            "text/plain": [
              "<jyquickhelper.jspy.render_nb_js_dot.RenderJsDot at 0x19e94c39a90>"
            ]
          },
          "execution_count": 33,
          "metadata": {},
          "output_type": "execute_result"
        }
      ],
      "source": [
        "onx = to_onnx(gpr, X_test.astype(numpy.float64))\n",
        "with open(\"gpr_time.onnx\", \"wb\") as f:\n",
        "    f.write(onx.SerializeToString())\n",
        "%onnxview onx -r 1"
      ]
    },
    {
      "cell_type": "code",
      "execution_count": 33,
      "metadata": {},
      "outputs": [],
      "source": [
        "from mlprodict.tools import get_ir_version_from_onnx\n",
        "onx.ir_version = get_ir_version_from_onnx()"
      ]
    },
    {
      "cell_type": "code",
      "execution_count": 34,
      "metadata": {
        "scrolled": false
      },
      "outputs": [],
      "source": [
        "oinfpy = OnnxInference(onx, runtime=\"python\")\n",
        "oinfort = OnnxInference(onx, runtime=\"onnxruntime2\")"
      ]
    },
    {
      "cell_type": "markdown",
      "metadata": {},
      "source": [
        "``runtime==onnxruntime2`` tells the class ``OnnxInference`` to use *onnxruntime* for every node independently, there are as many calls as there are nodes in the graph."
      ]
    },
    {
      "cell_type": "code",
      "execution_count": 35,
      "metadata": {},
      "outputs": [],
      "source": [
        "respy = oinfpy.run({'X': X_test}, node_time=True)\n",
        "try:\n",
        "    resort = oinfort.run({'X': X_test}, node_time=True)\n",
        "except Exception as e:\n",
        "    print(e)\n",
        "    resort = None"
      ]
    },
    {
      "cell_type": "code",
      "execution_count": 36,
      "metadata": {},
      "outputs": [
        {
          "data": {
            "text/html": [
              "<div>\n",
              "<style scoped>\n",
              "    .dataframe tbody tr th:only-of-type {\n",
              "        vertical-align: middle;\n",
              "    }\n",
              "\n",
              "    .dataframe tbody tr th {\n",
              "        vertical-align: top;\n",
              "    }\n",
              "\n",
              "    .dataframe thead th {\n",
              "        text-align: right;\n",
              "    }\n",
              "</style>\n",
              "<table border=\"1\" class=\"dataframe\">\n",
              "  <thead>\n",
              "    <tr style=\"text-align: right;\">\n",
              "      <th></th>\n",
              "      <th>i</th>\n",
              "      <th>name</th>\n",
              "      <th>op_type</th>\n",
              "      <th>time_py</th>\n",
              "      <th>time_ort</th>\n",
              "      <th>delta</th>\n",
              "    </tr>\n",
              "  </thead>\n",
              "  <tbody>\n",
              "    <tr>\n",
              "      <th>0</th>\n",
              "      <td>0</td>\n",
              "      <td>Sc_Scan</td>\n",
              "      <td>Scan</td>\n",
              "      <td>0.007144</td>\n",
              "      <td>0.008208</td>\n",
              "      <td>0.001064</td>\n",
              "    </tr>\n",
              "    <tr>\n",
              "      <th>1</th>\n",
              "      <td>1</td>\n",
              "      <td>kgpd_Transpose</td>\n",
              "      <td>Transpose</td>\n",
              "      <td>0.000029</td>\n",
              "      <td>0.000161</td>\n",
              "      <td>0.000133</td>\n",
              "    </tr>\n",
              "    <tr>\n",
              "      <th>2</th>\n",
              "      <td>2</td>\n",
              "      <td>kgpd_Sqrt</td>\n",
              "      <td>Sqrt</td>\n",
              "      <td>0.000031</td>\n",
              "      <td>0.000129</td>\n",
              "      <td>0.000098</td>\n",
              "    </tr>\n",
              "    <tr>\n",
              "      <th>3</th>\n",
              "      <td>3</td>\n",
              "      <td>kgpd_Div</td>\n",
              "      <td>Div</td>\n",
              "      <td>0.000036</td>\n",
              "      <td>0.000126</td>\n",
              "      <td>0.000091</td>\n",
              "    </tr>\n",
              "    <tr>\n",
              "      <th>4</th>\n",
              "      <td>4</td>\n",
              "      <td>kgpd_Mul</td>\n",
              "      <td>Mul</td>\n",
              "      <td>0.000021</td>\n",
              "      <td>0.000129</td>\n",
              "      <td>0.000108</td>\n",
              "    </tr>\n",
              "    <tr>\n",
              "      <th>5</th>\n",
              "      <td>5</td>\n",
              "      <td>kgpd_Sin</td>\n",
              "      <td>Sin</td>\n",
              "      <td>0.000081</td>\n",
              "      <td>0.000188</td>\n",
              "      <td>0.000107</td>\n",
              "    </tr>\n",
              "    <tr>\n",
              "      <th>6</th>\n",
              "      <td>6</td>\n",
              "      <td>kgpd_Div1</td>\n",
              "      <td>Div</td>\n",
              "      <td>0.000019</td>\n",
              "      <td>0.000120</td>\n",
              "      <td>0.000100</td>\n",
              "    </tr>\n",
              "    <tr>\n",
              "      <th>7</th>\n",
              "      <td>7</td>\n",
              "      <td>kgpd_Pow</td>\n",
              "      <td>Pow</td>\n",
              "      <td>0.000253</td>\n",
              "      <td>0.000125</td>\n",
              "      <td>-0.000128</td>\n",
              "    </tr>\n",
              "    <tr>\n",
              "      <th>8</th>\n",
              "      <td>8</td>\n",
              "      <td>kgpd_Mul1</td>\n",
              "      <td>Mul</td>\n",
              "      <td>0.000030</td>\n",
              "      <td>0.000117</td>\n",
              "      <td>0.000087</td>\n",
              "    </tr>\n",
              "    <tr>\n",
              "      <th>9</th>\n",
              "      <td>9</td>\n",
              "      <td>kgpd_Exp</td>\n",
              "      <td>Exp</td>\n",
              "      <td>0.000305</td>\n",
              "      <td>0.000153</td>\n",
              "      <td>-0.000152</td>\n",
              "    </tr>\n",
              "    <tr>\n",
              "      <th>10</th>\n",
              "      <td>10</td>\n",
              "      <td>gpr_MatMul</td>\n",
              "      <td>MatMul</td>\n",
              "      <td>0.000060</td>\n",
              "      <td>0.000152</td>\n",
              "      <td>0.000092</td>\n",
              "    </tr>\n",
              "    <tr>\n",
              "      <th>11</th>\n",
              "      <td>11</td>\n",
              "      <td>gpr_Add</td>\n",
              "      <td>Add</td>\n",
              "      <td>0.000022</td>\n",
              "      <td>0.000081</td>\n",
              "      <td>0.000059</td>\n",
              "    </tr>\n",
              "  </tbody>\n",
              "</table>\n",
              "</div>"
            ],
            "text/plain": [
              "     i            name    op_type   time_py  time_ort     delta\n",
              "0    0         Sc_Scan       Scan  0.007144  0.008208  0.001064\n",
              "1    1  kgpd_Transpose  Transpose  0.000029  0.000161  0.000133\n",
              "2    2       kgpd_Sqrt       Sqrt  0.000031  0.000129  0.000098\n",
              "3    3        kgpd_Div        Div  0.000036  0.000126  0.000091\n",
              "4    4        kgpd_Mul        Mul  0.000021  0.000129  0.000108\n",
              "5    5        kgpd_Sin        Sin  0.000081  0.000188  0.000107\n",
              "6    6       kgpd_Div1        Div  0.000019  0.000120  0.000100\n",
              "7    7        kgpd_Pow        Pow  0.000253  0.000125 -0.000128\n",
              "8    8       kgpd_Mul1        Mul  0.000030  0.000117  0.000087\n",
              "9    9        kgpd_Exp        Exp  0.000305  0.000153 -0.000152\n",
              "10  10      gpr_MatMul     MatMul  0.000060  0.000152  0.000092\n",
              "11  11         gpr_Add        Add  0.000022  0.000081  0.000059"
            ]
          },
          "execution_count": 37,
          "metadata": {},
          "output_type": "execute_result"
        }
      ],
      "source": [
        "if resort is not None:\n",
        "    df = pandas.DataFrame(respy[1]).merge(pandas.DataFrame(resort[1]), on=[\"i\", \"name\", \"op_type\"],\n",
        "                                        suffixes=(\"_py\", \"_ort\"))\n",
        "    df['delta'] = df.time_ort - df.time_py\n",
        "else:\n",
        "    df = None\n",
        "df"
      ]
    },
    {
      "cell_type": "markdown",
      "metadata": {},
      "source": [
        "The following function runs multiple the same inference and aggregates the results node by node."
      ]
    },
    {
      "cell_type": "code",
      "execution_count": 37,
      "metadata": {},
      "outputs": [],
      "source": [
        "from mlprodict.onnxrt.validate.validate import benchmark_fct\n",
        "res = benchmark_fct(lambda X: oinfpy.run({'X': X_test}, node_time=True), \n",
        "                    X_test, node_time=True)"
      ]
    },
    {
      "cell_type": "code",
      "execution_count": 38,
      "metadata": {},
      "outputs": [
        {
          "data": {
            "text/html": [
              "<div>\n",
              "<style scoped>\n",
              "    .dataframe tbody tr th:only-of-type {\n",
              "        vertical-align: middle;\n",
              "    }\n",
              "\n",
              "    .dataframe tbody tr th {\n",
              "        vertical-align: top;\n",
              "    }\n",
              "\n",
              "    .dataframe thead th {\n",
              "        text-align: right;\n",
              "    }\n",
              "</style>\n",
              "<table border=\"1\" class=\"dataframe\">\n",
              "  <thead>\n",
              "    <tr style=\"text-align: right;\">\n",
              "      <th></th>\n",
              "      <th>i</th>\n",
              "      <th>name</th>\n",
              "      <th>op_type</th>\n",
              "      <th>time</th>\n",
              "      <th>N</th>\n",
              "      <th>max_time</th>\n",
              "      <th>min_time</th>\n",
              "      <th>repeat</th>\n",
              "      <th>number</th>\n",
              "    </tr>\n",
              "  </thead>\n",
              "  <tbody>\n",
              "    <tr>\n",
              "      <th>24</th>\n",
              "      <td>0</td>\n",
              "      <td>Sc_Scan</td>\n",
              "      <td>Scan</td>\n",
              "      <td>0.005388</td>\n",
              "      <td>100</td>\n",
              "      <td>0.007263</td>\n",
              "      <td>0.004851</td>\n",
              "      <td>10</td>\n",
              "      <td>8</td>\n",
              "    </tr>\n",
              "    <tr>\n",
              "      <th>25</th>\n",
              "      <td>1</td>\n",
              "      <td>kgpd_Transpose</td>\n",
              "      <td>Transpose</td>\n",
              "      <td>0.000017</td>\n",
              "      <td>100</td>\n",
              "      <td>0.000030</td>\n",
              "      <td>0.000013</td>\n",
              "      <td>10</td>\n",
              "      <td>8</td>\n",
              "    </tr>\n",
              "    <tr>\n",
              "      <th>26</th>\n",
              "      <td>2</td>\n",
              "      <td>kgpd_Sqrt</td>\n",
              "      <td>Sqrt</td>\n",
              "      <td>0.000021</td>\n",
              "      <td>100</td>\n",
              "      <td>0.000025</td>\n",
              "      <td>0.000017</td>\n",
              "      <td>10</td>\n",
              "      <td>8</td>\n",
              "    </tr>\n",
              "    <tr>\n",
              "      <th>27</th>\n",
              "      <td>3</td>\n",
              "      <td>kgpd_Div</td>\n",
              "      <td>Div</td>\n",
              "      <td>0.000024</td>\n",
              "      <td>100</td>\n",
              "      <td>0.000028</td>\n",
              "      <td>0.000019</td>\n",
              "      <td>10</td>\n",
              "      <td>8</td>\n",
              "    </tr>\n",
              "    <tr>\n",
              "      <th>28</th>\n",
              "      <td>4</td>\n",
              "      <td>kgpd_Mul</td>\n",
              "      <td>Mul</td>\n",
              "      <td>0.000015</td>\n",
              "      <td>100</td>\n",
              "      <td>0.000018</td>\n",
              "      <td>0.000011</td>\n",
              "      <td>10</td>\n",
              "      <td>8</td>\n",
              "    </tr>\n",
              "    <tr>\n",
              "      <th>29</th>\n",
              "      <td>5</td>\n",
              "      <td>kgpd_Sin</td>\n",
              "      <td>Sin</td>\n",
              "      <td>0.000064</td>\n",
              "      <td>100</td>\n",
              "      <td>0.000094</td>\n",
              "      <td>0.000056</td>\n",
              "      <td>10</td>\n",
              "      <td>8</td>\n",
              "    </tr>\n",
              "    <tr>\n",
              "      <th>30</th>\n",
              "      <td>6</td>\n",
              "      <td>kgpd_Div1</td>\n",
              "      <td>Div</td>\n",
              "      <td>0.000015</td>\n",
              "      <td>100</td>\n",
              "      <td>0.000018</td>\n",
              "      <td>0.000013</td>\n",
              "      <td>10</td>\n",
              "      <td>8</td>\n",
              "    </tr>\n",
              "    <tr>\n",
              "      <th>31</th>\n",
              "      <td>7</td>\n",
              "      <td>kgpd_Pow</td>\n",
              "      <td>Pow</td>\n",
              "      <td>0.000199</td>\n",
              "      <td>100</td>\n",
              "      <td>0.000232</td>\n",
              "      <td>0.000168</td>\n",
              "      <td>10</td>\n",
              "      <td>8</td>\n",
              "    </tr>\n",
              "    <tr>\n",
              "      <th>32</th>\n",
              "      <td>8</td>\n",
              "      <td>kgpd_Mul1</td>\n",
              "      <td>Mul</td>\n",
              "      <td>0.000017</td>\n",
              "      <td>100</td>\n",
              "      <td>0.000029</td>\n",
              "      <td>0.000011</td>\n",
              "      <td>10</td>\n",
              "      <td>8</td>\n",
              "    </tr>\n",
              "    <tr>\n",
              "      <th>33</th>\n",
              "      <td>9</td>\n",
              "      <td>kgpd_Exp</td>\n",
              "      <td>Exp</td>\n",
              "      <td>0.000227</td>\n",
              "      <td>100</td>\n",
              "      <td>0.000279</td>\n",
              "      <td>0.000203</td>\n",
              "      <td>10</td>\n",
              "      <td>8</td>\n",
              "    </tr>\n",
              "    <tr>\n",
              "      <th>34</th>\n",
              "      <td>10</td>\n",
              "      <td>gpr_MatMul</td>\n",
              "      <td>MatMul</td>\n",
              "      <td>0.000039</td>\n",
              "      <td>100</td>\n",
              "      <td>0.000052</td>\n",
              "      <td>0.000032</td>\n",
              "      <td>10</td>\n",
              "      <td>8</td>\n",
              "    </tr>\n",
              "    <tr>\n",
              "      <th>35</th>\n",
              "      <td>11</td>\n",
              "      <td>gpr_Add</td>\n",
              "      <td>Add</td>\n",
              "      <td>0.000021</td>\n",
              "      <td>100</td>\n",
              "      <td>0.000057</td>\n",
              "      <td>0.000012</td>\n",
              "      <td>10</td>\n",
              "      <td>8</td>\n",
              "    </tr>\n",
              "  </tbody>\n",
              "</table>\n",
              "</div>"
            ],
            "text/plain": [
              "     i            name    op_type      time    N  max_time  min_time  repeat  \\\n",
              "24   0         Sc_Scan       Scan  0.005388  100  0.007263  0.004851      10   \n",
              "25   1  kgpd_Transpose  Transpose  0.000017  100  0.000030  0.000013      10   \n",
              "26   2       kgpd_Sqrt       Sqrt  0.000021  100  0.000025  0.000017      10   \n",
              "27   3        kgpd_Div        Div  0.000024  100  0.000028  0.000019      10   \n",
              "28   4        kgpd_Mul        Mul  0.000015  100  0.000018  0.000011      10   \n",
              "29   5        kgpd_Sin        Sin  0.000064  100  0.000094  0.000056      10   \n",
              "30   6       kgpd_Div1        Div  0.000015  100  0.000018  0.000013      10   \n",
              "31   7        kgpd_Pow        Pow  0.000199  100  0.000232  0.000168      10   \n",
              "32   8       kgpd_Mul1        Mul  0.000017  100  0.000029  0.000011      10   \n",
              "33   9        kgpd_Exp        Exp  0.000227  100  0.000279  0.000203      10   \n",
              "34  10      gpr_MatMul     MatMul  0.000039  100  0.000052  0.000032      10   \n",
              "35  11         gpr_Add        Add  0.000021  100  0.000057  0.000012      10   \n",
              "\n",
              "    number  \n",
              "24       8  \n",
              "25       8  \n",
              "26       8  \n",
              "27       8  \n",
              "28       8  \n",
              "29       8  \n",
              "30       8  \n",
              "31       8  \n",
              "32       8  \n",
              "33       8  \n",
              "34       8  \n",
              "35       8  "
            ]
          },
          "execution_count": 39,
          "metadata": {},
          "output_type": "execute_result"
        }
      ],
      "source": [
        "df = pandas.DataFrame(res)\n",
        "df[df.N == 100]"
      ]
    },
    {
      "cell_type": "code",
      "execution_count": 39,
      "metadata": {},
      "outputs": [],
      "source": [
        "df100 = df[df.N == 100]"
      ]
    },
    {
      "cell_type": "code",
      "execution_count": 40,
      "metadata": {},
      "outputs": [],
      "source": [
        "%matplotlib inline"
      ]
    },
    {
      "cell_type": "code",
      "execution_count": 41,
      "metadata": {},
      "outputs": [
        {
          "data": {
            "image/png": "[encoded data removed]",
            "text/plain": [
              "<Figure size 1008x288 with 1 Axes>"
            ]
          },
          "metadata": {
            "needs_background": "light"
          },
          "output_type": "display_data"
        }
      ],
      "source": [
        "fig, ax = plt.subplots(1, 1, figsize=(14, 4))\n",
        "ax.bar(df100.i, df100.time, align='center', color='orange')\n",
        "ax.set_xticks(df100.i)\n",
        "ax.set_yscale('log')\n",
        "ax.set_xticklabels(df.op_type)\n",
        "ax.errorbar(df100.i, df100.time, \n",
        "            numpy.abs(df100[[\"min_time\", \"max_time\"]].T.values - df100.time.values.ravel()),\n",
        "            uplims=True, lolims=True, color='blue')\n",
        "ax.set_title(\"Time spent in each node for 100 observations\\nGaussianProcess\");"
      ]
    },
    {
      "cell_type": "code",
      "execution_count": 42,
      "metadata": {},
      "outputs": [],
      "source": [
        "df100c = df100.cumsum()"
      ]
    },
    {
      "cell_type": "code",
      "execution_count": 43,
      "metadata": {},
      "outputs": [
        {
          "data": {
            "image/png": "[encoded data removed]",
            "text/plain": [
              "<Figure size 1008x288 with 1 Axes>"
            ]
          },
          "metadata": {
            "needs_background": "light"
          },
          "output_type": "display_data"
        }
      ],
      "source": [
        "fig, ax = plt.subplots(1, 1, figsize=(14, 4))\n",
        "ax.bar(df100.i, df100c.time, align='center', color='orange')\n",
        "ax.set_xticks(df100.i)\n",
        "#ax.set_yscale('log')\n",
        "ax.set_ylim([df100c.min_time.min(), df100c.max_time.max()])\n",
        "ax.set_xticklabels(df.op_type)\n",
        "ax.errorbar(df100.i, df100c.time, \n",
        "            numpy.abs((df100c[[\"min_time\", \"max_time\"]].T.values - df100c.time.values.ravel())),\n",
        "            uplims=True, lolims=True)\n",
        "ax.set_title(\"Cumulated time spent in each node for 100 observations\\nGaussianProcess\");"
      ]
    },
    {
      "cell_type": "markdown",
      "metadata": {},
      "source": [
        "## onnxruntime2 / onnxruntime1\n",
        "\n",
        "The runtime ``onnxruntime1`` uses *onnxruntime* for the whole ONNX graph. There is no way to get the computation time for each node except if we create a ONNX graph for each intermediate node."
      ]
    },
    {
      "cell_type": "code",
      "execution_count": 44,
      "metadata": {},
      "outputs": [],
      "source": [
        "oinfort1 = OnnxInference(onx, runtime='onnxruntime1')"
      ]
    },
    {
      "cell_type": "code",
      "execution_count": 45,
      "metadata": {},
      "outputs": [
        {
          "data": {
            "text/plain": [
              "OrderedDict([('scan0', OnnxInference(...)),\n",
              "             ('scan1', OnnxInference(...)),\n",
              "             ('kgpd_transposed0', OnnxInference(...)),\n",
              "             ('kgpd_Y0', OnnxInference(...)),\n",
              "             ('kgpd_C03', OnnxInference(...)),\n",
              "             ('kgpd_C02', OnnxInference(...)),\n",
              "             ('kgpd_output02', OnnxInference(...)),\n",
              "             ('kgpd_C01', OnnxInference(...)),\n",
              "             ('kgpd_Z0', OnnxInference(...)),\n",
              "             ('kgpd_C0', OnnxInference(...)),\n",
              "             ('kgpd_output01', OnnxInference(...)),\n",
              "             ('gpr_Y0', OnnxInference(...)),\n",
              "             ('GPmean', OnnxInference(...))])"
            ]
          },
          "execution_count": 46,
          "metadata": {},
          "output_type": "execute_result"
        }
      ],
      "source": [
        "split = oinfort1.build_intermediate()\n",
        "split"
      ]
    },
    {
      "cell_type": "code",
      "execution_count": 46,
      "metadata": {},
      "outputs": [
        {
          "name": "stdout",
          "output_type": "stream",
          "text": [
            "node scan0\n",
            "node scan1\n",
            "node kgpd_transposed0\n",
            "node kgpd_Y0\n",
            "node kgpd_C03\n",
            "node kgpd_C02\n",
            "node kgpd_output02\n",
            "node kgpd_C01\n",
            "node kgpd_Z0\n",
            "node kgpd_C0\n",
            "node kgpd_output01\n",
            "node gpr_Y0\n",
            "node GPmean\n"
          ]
        }
      ],
      "source": [
        "dfs = []\n",
        "for k, v in split.items():\n",
        "    print(\"node\", k)\n",
        "    res = benchmark_fct(lambda x: v.run({'X': x}), X_test)\n",
        "    df = pandas.DataFrame(res)\n",
        "    df['name'] = k\n",
        "    dfs.append(df.reset_index(drop=False))"
      ]
    },
    {
      "cell_type": "code",
      "execution_count": 47,
      "metadata": {},
      "outputs": [
        {
          "data": {
            "text/html": [
              "<div>\n",
              "<style scoped>\n",
              "    .dataframe tbody tr th:only-of-type {\n",
              "        vertical-align: middle;\n",
              "    }\n",
              "\n",
              "    .dataframe tbody tr th {\n",
              "        vertical-align: top;\n",
              "    }\n",
              "\n",
              "    .dataframe thead th {\n",
              "        text-align: right;\n",
              "    }\n",
              "</style>\n",
              "<table border=\"1\" class=\"dataframe\">\n",
              "  <thead>\n",
              "    <tr style=\"text-align: right;\">\n",
              "      <th></th>\n",
              "      <th>index</th>\n",
              "      <th>1</th>\n",
              "      <th>10</th>\n",
              "      <th>100</th>\n",
              "      <th>1000</th>\n",
              "      <th>10000</th>\n",
              "      <th>100000</th>\n",
              "      <th>name</th>\n",
              "    </tr>\n",
              "  </thead>\n",
              "  <tbody>\n",
              "    <tr>\n",
              "      <th>0</th>\n",
              "      <td>average</td>\n",
              "      <td>0.001161</td>\n",
              "      <td>0.000827</td>\n",
              "      <td>0.001031</td>\n",
              "      <td>0.003374</td>\n",
              "      <td>0.018822</td>\n",
              "      <td>0.287071</td>\n",
              "      <td>scan0</td>\n",
              "    </tr>\n",
              "    <tr>\n",
              "      <th>1</th>\n",
              "      <td>deviation</td>\n",
              "      <td>0.000607</td>\n",
              "      <td>0.000260</td>\n",
              "      <td>0.000241</td>\n",
              "      <td>0.000471</td>\n",
              "      <td>0.001544</td>\n",
              "      <td>0.000000</td>\n",
              "      <td>scan0</td>\n",
              "    </tr>\n",
              "    <tr>\n",
              "      <th>2</th>\n",
              "      <td>min_exec</td>\n",
              "      <td>0.000615</td>\n",
              "      <td>0.000603</td>\n",
              "      <td>0.000726</td>\n",
              "      <td>0.002837</td>\n",
              "      <td>0.017442</td>\n",
              "      <td>0.287071</td>\n",
              "      <td>scan0</td>\n",
              "    </tr>\n",
              "    <tr>\n",
              "      <th>3</th>\n",
              "      <td>max_exec</td>\n",
              "      <td>0.002678</td>\n",
              "      <td>0.001586</td>\n",
              "      <td>0.001454</td>\n",
              "      <td>0.004246</td>\n",
              "      <td>0.020978</td>\n",
              "      <td>0.287071</td>\n",
              "      <td>scan0</td>\n",
              "    </tr>\n",
              "    <tr>\n",
              "      <th>4</th>\n",
              "      <td>repeat</td>\n",
              "      <td>20.000000</td>\n",
              "      <td>20.000000</td>\n",
              "      <td>10.000000</td>\n",
              "      <td>5.000000</td>\n",
              "      <td>3.000000</td>\n",
              "      <td>1.000000</td>\n",
              "      <td>scan0</td>\n",
              "    </tr>\n",
              "  </tbody>\n",
              "</table>\n",
              "</div>"
            ],
            "text/plain": [
              "       index          1         10        100      1000     10000    100000  \\\n",
              "0    average   0.001161   0.000827   0.001031  0.003374  0.018822  0.287071   \n",
              "1  deviation   0.000607   0.000260   0.000241  0.000471  0.001544  0.000000   \n",
              "2   min_exec   0.000615   0.000603   0.000726  0.002837  0.017442  0.287071   \n",
              "3   max_exec   0.002678   0.001586   0.001454  0.004246  0.020978  0.287071   \n",
              "4     repeat  20.000000  20.000000  10.000000  5.000000  3.000000  1.000000   \n",
              "\n",
              "    name  \n",
              "0  scan0  \n",
              "1  scan0  \n",
              "2  scan0  \n",
              "3  scan0  \n",
              "4  scan0  "
            ]
          },
          "execution_count": 48,
          "metadata": {},
          "output_type": "execute_result"
        }
      ],
      "source": [
        "df = pandas.concat(dfs)\n",
        "df.head()"
      ]
    },
    {
      "cell_type": "code",
      "execution_count": 48,
      "metadata": {},
      "outputs": [],
      "source": [
        "df100c = df[df['index'] == \"average\"]\n",
        "df100c_min = df[df['index'] == \"min_exec\"]\n",
        "df100c_max = df[df['index'] == \"max_exec\"]\n",
        "ave = df100c.iloc[:, 4]\n",
        "ave_min = df100c_min.iloc[:, 4]\n",
        "ave_max = df100c_max.iloc[:, 4]\n",
        "ave.shape, ave_min.shape, ave_max.shape\n",
        "index = numpy.arange(ave.shape[0])"
      ]
    },
    {
      "cell_type": "code",
      "execution_count": 49,
      "metadata": {},
      "outputs": [
        {
          "data": {
            "image/png": "[encoded data removed]",
            "text/plain": [
              "<Figure size 1008x288 with 1 Axes>"
            ]
          },
          "metadata": {
            "needs_background": "light"
          },
          "output_type": "display_data"
        }
      ],
      "source": [
        "fig, ax = plt.subplots(1, 1, figsize=(14, 4))\n",
        "ax.bar(index, ave, align='center', color='orange')\n",
        "ax.set_xticks(index)\n",
        "ax.set_xticklabels(df100c.name)\n",
        "for tick in ax.get_xticklabels():\n",
        "    tick.set_rotation(20)\n",
        "ax.errorbar(index, ave, \n",
        "            numpy.abs((numpy.vstack([ave_min.values, ave_max.values]) - ave.values.ravel())),\n",
        "            uplims=True, lolims=True)\n",
        "ax.set_title(\"Cumulated time spent in each node for 100 \"\n",
        "             \"observations\\nGaussianProcess and onnxruntime1\");"
      ]
    },
    {
      "cell_type": "markdown",
      "metadata": {},
      "source": [
        "The visual graph helps matching the output names with the operator type. The curve is not monotononic because each experiment computes every output from the start. The number of repetitions should be increased. Documentation of function [benchmark_fct](http://www.xavierdupre.fr/app/mlprodict/helpsphinx/mlprodict/onnxrt/validate/validate.html?highlight=benchmark_fct#mlprodict.onnxrt.validate.validate.benchmark_fct) tells how to do it."
      ]
    },
    {
      "cell_type": "code",
      "execution_count": 50,
      "metadata": {},
      "outputs": [],
      "source": []
    }
  ],
  "metadata": {
    "kernelspec": {
      "display_name": "Python 3",
      "language": "python",
      "name": "python3"
    },
    "language_info": {
      "codemirror_mode": {
        "name": "ipython",
        "version": 3
      },
      "file_extension": ".py",
      "mimetype": "text/x-python",
      "name": "python",
      "nbconvert_exporter": "python",
      "pygments_lexer": "ipython3",
      "version": "3.7.2"
    }
  },
  "nbformat": 4,
  "nbformat_minor": 2
}