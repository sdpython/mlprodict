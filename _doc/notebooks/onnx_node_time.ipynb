{
  "cells": [
    {
      "cell_type": "markdown",
      "metadata": {},
      "source": [
        "# Time processing for every ONNX nodes in a graph\n",
        "\n",
        "The following notebook show how long the runtime spends in each node of an ONNX graph."
      ]
    },
    {
      "cell_type": "code",
      "execution_count": 1,
      "metadata": {},
      "outputs": [
        {
          "data": {
            "text/html": [
              "<div id=\"my_id_menu_nb\">run previous cell, wait for 2 seconds</div>\n",
              "<script>\n",
              "function repeat_indent_string(n){\n",
              "    var a = \"\" ;\n",
              "    for ( ; n > 0 ; --n)\n",
              "        a += \"    \";\n",
              "    return a;\n",
              "}\n",
              "// look up into all sections and builds an automated menu //\n",
              "var update_menu_string = function(begin, lfirst, llast, sformat, send, keep_item, begin_format, end_format) {\n",
              "    var anchors = document.getElementsByClassName(\"section\");\n",
              "    if (anchors.length == 0) {\n",
              "        anchors = document.getElementsByClassName(\"text_cell_render rendered_html\");\n",
              "    }\n",
              "    var i,t;\n",
              "    var text_menu = begin;\n",
              "    var text_memo = \"<pre>\\nlength:\" + anchors.length + \"\\n\";\n",
              "    var ind = \"\";\n",
              "    var memo_level = 1;\n",
              "    var href;\n",
              "    var tags = [];\n",
              "    var main_item = 0;\n",
              "    var format_open = 0;\n",
              "    for (i = 0; i <= llast; i++)\n",
              "        tags.push(\"h\" + i);\n",
              "\n",
              "    for (i = 0; i < anchors.length; i++) {\n",
              "        text_memo += \"**\" + anchors[i].id + \"--\\n\";\n",
              "\n",
              "        var child = null;\n",
              "        for(t = 0; t < tags.length; t++) {\n",
              "            var r = anchors[i].getElementsByTagName(tags[t]);\n",
              "            if (r.length > 0) {\n",
              "child = r[0];\n",
              "break;\n",
              "            }\n",
              "        }\n",
              "        if (child == null) {\n",
              "            text_memo += \"null\\n\";\n",
              "            continue;\n",
              "        }\n",
              "        if (anchors[i].hasAttribute(\"id\")) {\n",
              "            // when converted in RST\n",
              "            href = anchors[i].id;\n",
              "            text_memo += \"#1-\" + href;\n",
              "            // passer \u00e0 child suivant (le chercher)\n",
              "        }\n",
              "        else if (child.hasAttribute(\"id\")) {\n",
              "            // in a notebook\n",
              "            href = child.id;\n",
              "            text_memo += \"#2-\" + href;\n",
              "        }\n",
              "        else {\n",
              "            text_memo += \"#3-\" + \"*\" + \"\\n\";\n",
              "            continue;\n",
              "        }\n",
              "        var title = child.textContent;\n",
              "        var level = parseInt(child.tagName.substring(1,2));\n",
              "\n",
              "        text_memo += \"--\" + level + \"?\" + lfirst + \"--\" + title + \"\\n\";\n",
              "\n",
              "        if ((level < lfirst) || (level > llast)) {\n",
              "            continue ;\n",
              "        }\n",
              "        if (title.endsWith('\u00b6')) {\n",
              "            title = title.substring(0,title.length-1).replace(\"<\", \"&lt;\")\n",
              "         .replace(\">\", \"&gt;\").replace(\"&\", \"&amp;\");\n",
              "        }\n",
              "        if (title.length == 0) {\n",
              "            continue;\n",
              "        }\n",
              "\n",
              "        while (level < memo_level) {\n",
              "            text_menu += end_format + \"</ul>\\n\";\n",
              "            format_open -= 1;\n",
              "            memo_level -= 1;\n",
              "        }\n",
              "        if (level == lfirst) {\n",
              "            main_item += 1;\n",
              "        }\n",
              "        if (keep_item != -1 && main_item != keep_item + 1) {\n",
              "            // alert(main_item + \" - \" + level + \" - \" + keep_item);\n",
              "            continue;\n",
              "        }\n",
              "        while (level > memo_level) {\n",
              "            text_menu += \"<ul>\\n\";\n",
              "            memo_level += 1;\n",
              "        }\n",
              "        text_menu += repeat_indent_string(level-2);\n",
              "        text_menu += begin_format + sformat.replace(\"__HREF__\", href).replace(\"__TITLE__\", title);\n",
              "        format_open += 1;\n",
              "    }\n",
              "    while (1 < memo_level) {\n",
              "        text_menu += end_format + \"</ul>\\n\";\n",
              "        memo_level -= 1;\n",
              "        format_open -= 1;\n",
              "    }\n",
              "    text_menu += send;\n",
              "    //text_menu += \"\\n\" + text_memo;\n",
              "\n",
              "    while (format_open > 0) {\n",
              "        text_menu += end_format;\n",
              "        format_open -= 1;\n",
              "    }\n",
              "    return text_menu;\n",
              "};\n",
              "var update_menu = function() {\n",
              "    var sbegin = \"\";\n",
              "    var sformat = '<a href=\"#__HREF__\">__TITLE__</a>';\n",
              "    var send = \"\";\n",
              "    var begin_format = '<li>';\n",
              "    var end_format = '</li>';\n",
              "    var keep_item = -1;\n",
              "    var text_menu = update_menu_string(sbegin, 2, 4, sformat, send, keep_item,\n",
              "       begin_format, end_format);\n",
              "    var menu = document.getElementById(\"my_id_menu_nb\");\n",
              "    menu.innerHTML=text_menu;\n",
              "};\n",
              "window.setTimeout(update_menu,2000);\n",
              "            </script>"
            ],
            "text/plain": [
              "<IPython.core.display.HTML object>"
            ]
          },
          "execution_count": 2,
          "metadata": {},
          "output_type": "execute_result"
        }
      ],
      "source": [
        "from jyquickhelper import add_notebook_menu\n",
        "add_notebook_menu()"
      ]
    },
    {
      "cell_type": "code",
      "execution_count": 2,
      "metadata": {},
      "outputs": [],
      "source": [
        "%load_ext mlprodict"
      ]
    },
    {
      "cell_type": "code",
      "execution_count": 3,
      "metadata": {},
      "outputs": [],
      "source": [
        "%matplotlib inline"
      ]
    },
    {
      "cell_type": "markdown",
      "metadata": {},
      "source": [
        "## LogisticRegression"
      ]
    },
    {
      "cell_type": "code",
      "execution_count": 4,
      "metadata": {},
      "outputs": [
        {
          "data": {
            "text/plain": [
              "LogisticRegression(solver='liblinear')"
            ]
          },
          "execution_count": 5,
          "metadata": {},
          "output_type": "execute_result"
        }
      ],
      "source": [
        "from sklearn.datasets import load_iris\n",
        "from sklearn.model_selection import train_test_split\n",
        "from sklearn.linear_model import LogisticRegression\n",
        "iris = load_iris()\n",
        "X, y = iris.data, iris.target\n",
        "X_train, X_test, y_train, y_test = train_test_split(X, y)\n",
        "clr = LogisticRegression(solver='liblinear')\n",
        "clr.fit(X_train, y_train)"
      ]
    },
    {
      "cell_type": "code",
      "execution_count": 5,
      "metadata": {},
      "outputs": [
        {
          "data": {
            "text/html": [
              "<div id=\"M55f9a2ca1198490ba84a6cd669311f6e-cont\"><div id=\"M55f9a2ca1198490ba84a6cd669311f6e\" style=\"width:100%;height:100%;\"></div></div>\n",
              "<script>\n",
              "\n",
              "require(['http://www.xavierdupre.fr/js/vizjs/viz.js'], function() { var svgGraph = Viz(\"digraph{\\n  orientation=portrait;\\n  ranksep=0.25;\\n  nodesep=0.05;\\n\\n  X [shape=box color=red label=\\\"X\\nfloat((0, 4))\\\" fontsize=10];\\n\\n  output_label [shape=box color=green label=\\\"output_label\\nint64((0,))\\\" fontsize=10];\\n  output_probability [shape=box color=green label=\\\"output_probability\\n[{int64, {'kind': 'tensor', 'elem': 'float', 'shape': }}]\\\" fontsize=10];\\n\\n\\n  label [shape=box label=\\\"label\\\" fontsize=10];\\n  probability_tensor [shape=box label=\\\"probability_tensor\\\" fontsize=10];\\n  LinearClassifier [shape=box style=\\\"filled,rounded\\\" color=orange label=\\\"LinearClassifier\\n(LinearClassifier)\\nclasslabels_ints=[0 1 2]\\ncoefficients=[ 0.34304482  1.39...\\nintercepts=[ 0.23314844  0.9524...\\nmulti_class=1\\npost_transform=b'LOGISTIC'\\\" fontsize=10];\\n  X -> LinearClassifier;\\n  LinearClassifier -> label;\\n  LinearClassifier -> probability_tensor;\\n\\n  probabilities [shape=box label=\\\"probabilities\\\" fontsize=10];\\n  Normalizer [shape=box style=\\\"filled,rounded\\\" color=orange label=\\\"Normalizer\\n(Normalizer)\\nnorm=b'L1'\\\" fontsize=10];\\n  probability_tensor -> Normalizer;\\n  Normalizer -> probabilities;\\n\\n  Cast [shape=box style=\\\"filled,rounded\\\" color=orange label=\\\"Cast\\n(Cast)\\nto=7\\\" fontsize=10];\\n  label -> Cast;\\n  Cast -> output_label;\\n\\n  ZipMap [shape=box style=\\\"filled,rounded\\\" color=orange label=\\\"ZipMap\\n(ZipMap)\\nclasslabels_int64s=[0 1 2]\\\" fontsize=10];\\n  probabilities -> ZipMap;\\n  ZipMap -> output_probability;\\n}\");\n",
              "document.getElementById('M55f9a2ca1198490ba84a6cd669311f6e').innerHTML = svgGraph; });\n",
              "\n",
              "</script>"
            ],
            "text/plain": [
              "<jyquickhelper.jspy.render_nb_js_dot.RenderJsDot at 0x23ea4d77fd0>"
            ]
          },
          "execution_count": 6,
          "metadata": {},
          "output_type": "execute_result"
        }
      ],
      "source": [
        "import numpy\n",
        "from mlprodict.onnx_conv import to_onnx\n",
        "onx = to_onnx(clr, X_test.astype(numpy.float32))\n",
        "with open(\"logreg_time.onnx\", \"wb\") as f:\n",
        "    f.write(onx.SerializeToString())\n",
        "# add -l 1 if nothing shows up\n",
        "%onnxview onx"
      ]
    },
    {
      "cell_type": "code",
      "execution_count": 6,
      "metadata": {},
      "outputs": [
        {
          "data": {
            "text/html": [
              "<div>\n",
              "<style scoped>\n",
              "    .dataframe tbody tr th:only-of-type {\n",
              "        vertical-align: middle;\n",
              "    }\n",
              "\n",
              "    .dataframe tbody tr th {\n",
              "        vertical-align: top;\n",
              "    }\n",
              "\n",
              "    .dataframe thead th {\n",
              "        text-align: right;\n",
              "    }\n",
              "</style>\n",
              "<table border=\"1\" class=\"dataframe\">\n",
              "  <thead>\n",
              "    <tr style=\"text-align: right;\">\n",
              "      <th></th>\n",
              "      <th>i</th>\n",
              "      <th>name</th>\n",
              "      <th>op_type</th>\n",
              "      <th>time</th>\n",
              "    </tr>\n",
              "  </thead>\n",
              "  <tbody>\n",
              "    <tr>\n",
              "      <th>0</th>\n",
              "      <td>0</td>\n",
              "      <td>LinearClassifier</td>\n",
              "      <td>LinearClassifier</td>\n",
              "      <td>0.199603</td>\n",
              "    </tr>\n",
              "    <tr>\n",
              "      <th>1</th>\n",
              "      <td>1</td>\n",
              "      <td>Normalizer</td>\n",
              "      <td>Normalizer</td>\n",
              "      <td>0.000091</td>\n",
              "    </tr>\n",
              "    <tr>\n",
              "      <th>2</th>\n",
              "      <td>2</td>\n",
              "      <td>Cast</td>\n",
              "      <td>Cast</td>\n",
              "      <td>0.000014</td>\n",
              "    </tr>\n",
              "    <tr>\n",
              "      <th>3</th>\n",
              "      <td>3</td>\n",
              "      <td>ZipMap</td>\n",
              "      <td>ZipMap</td>\n",
              "      <td>0.000016</td>\n",
              "    </tr>\n",
              "  </tbody>\n",
              "</table>\n",
              "</div>"
            ],
            "text/plain": [
              "   i              name           op_type      time\n",
              "0  0  LinearClassifier  LinearClassifier  0.199603\n",
              "1  1        Normalizer        Normalizer  0.000091\n",
              "2  2              Cast              Cast  0.000014\n",
              "3  3            ZipMap            ZipMap  0.000016"
            ]
          },
          "execution_count": 7,
          "metadata": {},
          "output_type": "execute_result"
        }
      ],
      "source": [
        "from mlprodict.onnxrt import OnnxInference\n",
        "import pandas\n",
        "oinf = OnnxInference(onx)\n",
        "res = oinf.run({'X': X_test}, node_time=True)\n",
        "pandas.DataFrame(list(res[1]))"
      ]
    },
    {
      "cell_type": "code",
      "execution_count": 7,
      "metadata": {},
      "outputs": [
        {
          "data": {
            "text/plain": [
              "{0: array([8.38235830e-01, 1.21554664e-03, 6.97352537e-04, 7.93823160e-01,\n",
              "        9.24825077e-01]),\n",
              " 1: array([0.16162989, 0.39692812, 0.25688601, 0.20607722, 0.07516498]),\n",
              " 2: array([1.34279470e-04, 6.01856333e-01, 7.42416637e-01, 9.96200831e-05,\n",
              "        9.94208860e-06])}"
            ]
          },
          "execution_count": 8,
          "metadata": {},
          "output_type": "execute_result"
        }
      ],
      "source": [
        "oinf.run({'X': X_test})['output_probability'][:5]"
      ]
    },
    {
      "cell_type": "markdown",
      "metadata": {},
      "source": [
        "## Measure time spent in each node\n",
        "\n",
        "\n",
        "With parameter ``node_time=True``, method *run* returns the output and time measurement."
      ]
    },
    {
      "cell_type": "code",
      "execution_count": 8,
      "metadata": {},
      "outputs": [
        {
          "data": {
            "text/plain": [
              "[{'i': 0,\n",
              "  'name': 'LinearClassifier',\n",
              "  'op_type': 'LinearClassifier',\n",
              "  'time': 0.00015699999999974068},\n",
              " {'i': 1,\n",
              "  'name': 'Normalizer',\n",
              "  'op_type': 'Normalizer',\n",
              "  'time': 5.43000000003957e-05},\n",
              " {'i': 2, 'name': 'Cast', 'op_type': 'Cast', 'time': 1.1699999999947863e-05},\n",
              " {'i': 3,\n",
              "  'name': 'ZipMap',\n",
              "  'op_type': 'ZipMap',\n",
              "  'time': 1.940000000111297e-05}]"
            ]
          },
          "execution_count": 9,
          "metadata": {},
          "output_type": "execute_result"
        }
      ],
      "source": [
        "exe = oinf.run({'X': X_test}, node_time=True)\n",
        "exe[1]"
      ]
    },
    {
      "cell_type": "code",
      "execution_count": 9,
      "metadata": {},
      "outputs": [
        {
          "data": {
            "text/html": [
              "<div>\n",
              "<style scoped>\n",
              "    .dataframe tbody tr th:only-of-type {\n",
              "        vertical-align: middle;\n",
              "    }\n",
              "\n",
              "    .dataframe tbody tr th {\n",
              "        vertical-align: top;\n",
              "    }\n",
              "\n",
              "    .dataframe thead th {\n",
              "        text-align: right;\n",
              "    }\n",
              "</style>\n",
              "<table border=\"1\" class=\"dataframe\">\n",
              "  <thead>\n",
              "    <tr style=\"text-align: right;\">\n",
              "      <th></th>\n",
              "      <th>i</th>\n",
              "      <th>name</th>\n",
              "      <th>op_type</th>\n",
              "      <th>time</th>\n",
              "    </tr>\n",
              "  </thead>\n",
              "  <tbody>\n",
              "    <tr>\n",
              "      <th>0</th>\n",
              "      <td>0</td>\n",
              "      <td>LinearClassifier</td>\n",
              "      <td>LinearClassifier</td>\n",
              "      <td>0.000157</td>\n",
              "    </tr>\n",
              "    <tr>\n",
              "      <th>1</th>\n",
              "      <td>1</td>\n",
              "      <td>Normalizer</td>\n",
              "      <td>Normalizer</td>\n",
              "      <td>0.000054</td>\n",
              "    </tr>\n",
              "    <tr>\n",
              "      <th>2</th>\n",
              "      <td>2</td>\n",
              "      <td>Cast</td>\n",
              "      <td>Cast</td>\n",
              "      <td>0.000012</td>\n",
              "    </tr>\n",
              "    <tr>\n",
              "      <th>3</th>\n",
              "      <td>3</td>\n",
              "      <td>ZipMap</td>\n",
              "      <td>ZipMap</td>\n",
              "      <td>0.000019</td>\n",
              "    </tr>\n",
              "  </tbody>\n",
              "</table>\n",
              "</div>"
            ],
            "text/plain": [
              "   i              name           op_type      time\n",
              "0  0  LinearClassifier  LinearClassifier  0.000157\n",
              "1  1        Normalizer        Normalizer  0.000054\n",
              "2  2              Cast              Cast  0.000012\n",
              "3  3            ZipMap            ZipMap  0.000019"
            ]
          },
          "execution_count": 10,
          "metadata": {},
          "output_type": "execute_result"
        }
      ],
      "source": [
        "import pandas\n",
        "pandas.DataFrame(exe[1])"
      ]
    },
    {
      "cell_type": "markdown",
      "metadata": {},
      "source": [
        "## Logistic regression: python runtime vs onnxruntime\n",
        "\n",
        "Function [enumerate_validated_operator_opsets](http://www.xavierdupre.fr/app/mlprodict/helpsphinx/mlprodict/onnxrt/validate/validate.html?highlight=enumerate_validated_operator_opsets#mlprodict.onnxrt.validate.validate.enumerate_validated_operator_opsets) implements automated tests for every model with artificial data. Option ``node_time`` automatically returns the time spent in each node and does it multiple time."
      ]
    },
    {
      "cell_type": "code",
      "execution_count": 10,
      "metadata": {},
      "outputs": [
        {
          "name": "stderr",
          "output_type": "stream",
          "text": [
            "C:\\xavierdupre\\__home_\\github_fork\\scikit-learn\\sklearn\\linear_model\\_logistic.py:1356: UserWarning: 'n_jobs' > 1 does not have any effect when 'solver' is set to 'liblinear'. Got 'n_jobs' = 4.\n",
            "  \" = {}.\".format(effective_n_jobs(self.n_jobs)))\n",
            "C:\\xavierdupre\\__home_\\github_fork\\scikit-learn\\sklearn\\linear_model\\_logistic.py:1356: UserWarning: 'n_jobs' > 1 does not have any effect when 'solver' is set to 'liblinear'. Got 'n_jobs' = 4.\n",
            "  \" = {}.\".format(effective_n_jobs(self.n_jobs)))\n"
          ]
        }
      ],
      "source": [
        "from mlprodict.onnxrt.validate import enumerate_validated_operator_opsets\n",
        "res = list(enumerate_validated_operator_opsets(\n",
        "            verbose=0, models={\"LogisticRegression\"}, opset_min=12,\n",
        "            runtime='python', debug=False, node_time=True,\n",
        "            filter_exp=lambda m, p: p == \"b-cl\"))"
      ]
    },
    {
      "cell_type": "code",
      "execution_count": 11,
      "metadata": {
        "scrolled": false
      },
      "outputs": [
        {
          "data": {
            "text/html": [
              "<div>\n",
              "<style scoped>\n",
              "    .dataframe tbody tr th:only-of-type {\n",
              "        vertical-align: middle;\n",
              "    }\n",
              "\n",
              "    .dataframe tbody tr th {\n",
              "        vertical-align: top;\n",
              "    }\n",
              "\n",
              "    .dataframe thead th {\n",
              "        text-align: right;\n",
              "    }\n",
              "</style>\n",
              "<table border=\"1\" class=\"dataframe\">\n",
              "  <thead>\n",
              "    <tr style=\"text-align: right;\">\n",
              "      <th></th>\n",
              "      <th>i</th>\n",
              "      <th>name</th>\n",
              "      <th>op_type</th>\n",
              "      <th>time</th>\n",
              "      <th>N</th>\n",
              "      <th>max_time</th>\n",
              "      <th>min_time</th>\n",
              "      <th>repeat</th>\n",
              "      <th>number</th>\n",
              "      <th>step</th>\n",
              "    </tr>\n",
              "  </thead>\n",
              "  <tbody>\n",
              "    <tr>\n",
              "      <th>0</th>\n",
              "      <td>0</td>\n",
              "      <td>LinearClassifier</td>\n",
              "      <td>LinearClassifier</td>\n",
              "      <td>0.000018</td>\n",
              "      <td>1</td>\n",
              "      <td>0.000033</td>\n",
              "      <td>0.000015</td>\n",
              "      <td>20</td>\n",
              "      <td>30</td>\n",
              "      <td>0-LinearClassifier</td>\n",
              "    </tr>\n",
              "    <tr>\n",
              "      <th>1</th>\n",
              "      <td>1</td>\n",
              "      <td>Normalizer</td>\n",
              "      <td>Normalizer</td>\n",
              "      <td>0.000017</td>\n",
              "      <td>1</td>\n",
              "      <td>0.000069</td>\n",
              "      <td>0.000012</td>\n",
              "      <td>20</td>\n",
              "      <td>30</td>\n",
              "      <td>1-Normalizer</td>\n",
              "    </tr>\n",
              "    <tr>\n",
              "      <th>2</th>\n",
              "      <td>2</td>\n",
              "      <td>Cast</td>\n",
              "      <td>Cast</td>\n",
              "      <td>0.000004</td>\n",
              "      <td>1</td>\n",
              "      <td>0.000009</td>\n",
              "      <td>0.000003</td>\n",
              "      <td>20</td>\n",
              "      <td>30</td>\n",
              "      <td>2-Cast</td>\n",
              "    </tr>\n",
              "    <tr>\n",
              "      <th>3</th>\n",
              "      <td>3</td>\n",
              "      <td>ZipMap</td>\n",
              "      <td>ZipMap</td>\n",
              "      <td>0.000005</td>\n",
              "      <td>1</td>\n",
              "      <td>0.000007</td>\n",
              "      <td>0.000004</td>\n",
              "      <td>20</td>\n",
              "      <td>30</td>\n",
              "      <td>3-ZipMap</td>\n",
              "    </tr>\n",
              "    <tr>\n",
              "      <th>4</th>\n",
              "      <td>0</td>\n",
              "      <td>LinearClassifier</td>\n",
              "      <td>LinearClassifier</td>\n",
              "      <td>0.000020</td>\n",
              "      <td>10</td>\n",
              "      <td>0.000052</td>\n",
              "      <td>0.000017</td>\n",
              "      <td>20</td>\n",
              "      <td>20</td>\n",
              "      <td>0-LinearClassifier</td>\n",
              "    </tr>\n",
              "    <tr>\n",
              "      <th>5</th>\n",
              "      <td>1</td>\n",
              "      <td>Normalizer</td>\n",
              "      <td>Normalizer</td>\n",
              "      <td>0.000015</td>\n",
              "      <td>10</td>\n",
              "      <td>0.000035</td>\n",
              "      <td>0.000013</td>\n",
              "      <td>20</td>\n",
              "      <td>20</td>\n",
              "      <td>1-Normalizer</td>\n",
              "    </tr>\n",
              "    <tr>\n",
              "      <th>6</th>\n",
              "      <td>2</td>\n",
              "      <td>Cast</td>\n",
              "      <td>Cast</td>\n",
              "      <td>0.000004</td>\n",
              "      <td>10</td>\n",
              "      <td>0.000013</td>\n",
              "      <td>0.000003</td>\n",
              "      <td>20</td>\n",
              "      <td>20</td>\n",
              "      <td>2-Cast</td>\n",
              "    </tr>\n",
              "    <tr>\n",
              "      <th>7</th>\n",
              "      <td>3</td>\n",
              "      <td>ZipMap</td>\n",
              "      <td>ZipMap</td>\n",
              "      <td>0.000004</td>\n",
              "      <td>10</td>\n",
              "      <td>0.000008</td>\n",
              "      <td>0.000004</td>\n",
              "      <td>20</td>\n",
              "      <td>20</td>\n",
              "      <td>3-ZipMap</td>\n",
              "    </tr>\n",
              "    <tr>\n",
              "      <th>8</th>\n",
              "      <td>0</td>\n",
              "      <td>LinearClassifier</td>\n",
              "      <td>LinearClassifier</td>\n",
              "      <td>0.000024</td>\n",
              "      <td>100</td>\n",
              "      <td>0.000036</td>\n",
              "      <td>0.000019</td>\n",
              "      <td>10</td>\n",
              "      <td>8</td>\n",
              "      <td>0-LinearClassifier</td>\n",
              "    </tr>\n",
              "    <tr>\n",
              "      <th>9</th>\n",
              "      <td>1</td>\n",
              "      <td>Normalizer</td>\n",
              "      <td>Normalizer</td>\n",
              "      <td>0.000018</td>\n",
              "      <td>100</td>\n",
              "      <td>0.000023</td>\n",
              "      <td>0.000015</td>\n",
              "      <td>10</td>\n",
              "      <td>8</td>\n",
              "      <td>1-Normalizer</td>\n",
              "    </tr>\n",
              "    <tr>\n",
              "      <th>10</th>\n",
              "      <td>2</td>\n",
              "      <td>Cast</td>\n",
              "      <td>Cast</td>\n",
              "      <td>0.000004</td>\n",
              "      <td>100</td>\n",
              "      <td>0.000006</td>\n",
              "      <td>0.000003</td>\n",
              "      <td>10</td>\n",
              "      <td>8</td>\n",
              "      <td>2-Cast</td>\n",
              "    </tr>\n",
              "    <tr>\n",
              "      <th>11</th>\n",
              "      <td>3</td>\n",
              "      <td>ZipMap</td>\n",
              "      <td>ZipMap</td>\n",
              "      <td>0.000007</td>\n",
              "      <td>100</td>\n",
              "      <td>0.000005</td>\n",
              "      <td>0.000004</td>\n",
              "      <td>10</td>\n",
              "      <td>8</td>\n",
              "      <td>3-ZipMap</td>\n",
              "    </tr>\n",
              "    <tr>\n",
              "      <th>12</th>\n",
              "      <td>0</td>\n",
              "      <td>LinearClassifier</td>\n",
              "      <td>LinearClassifier</td>\n",
              "      <td>0.000051</td>\n",
              "      <td>1000</td>\n",
              "      <td>0.000057</td>\n",
              "      <td>0.000047</td>\n",
              "      <td>5</td>\n",
              "      <td>5</td>\n",
              "      <td>0-LinearClassifier</td>\n",
              "    </tr>\n",
              "    <tr>\n",
              "      <th>13</th>\n",
              "      <td>1</td>\n",
              "      <td>Normalizer</td>\n",
              "      <td>Normalizer</td>\n",
              "      <td>0.000041</td>\n",
              "      <td>1000</td>\n",
              "      <td>0.000045</td>\n",
              "      <td>0.000040</td>\n",
              "      <td>5</td>\n",
              "      <td>5</td>\n",
              "      <td>1-Normalizer</td>\n",
              "    </tr>\n",
              "    <tr>\n",
              "      <th>14</th>\n",
              "      <td>2</td>\n",
              "      <td>Cast</td>\n",
              "      <td>Cast</td>\n",
              "      <td>0.000003</td>\n",
              "      <td>1000</td>\n",
              "      <td>0.000004</td>\n",
              "      <td>0.000003</td>\n",
              "      <td>5</td>\n",
              "      <td>5</td>\n",
              "      <td>2-Cast</td>\n",
              "    </tr>\n",
              "    <tr>\n",
              "      <th>15</th>\n",
              "      <td>3</td>\n",
              "      <td>ZipMap</td>\n",
              "      <td>ZipMap</td>\n",
              "      <td>0.000004</td>\n",
              "      <td>1000</td>\n",
              "      <td>0.000004</td>\n",
              "      <td>0.000004</td>\n",
              "      <td>5</td>\n",
              "      <td>5</td>\n",
              "      <td>3-ZipMap</td>\n",
              "    </tr>\n",
              "    <tr>\n",
              "      <th>16</th>\n",
              "      <td>0</td>\n",
              "      <td>LinearClassifier</td>\n",
              "      <td>LinearClassifier</td>\n",
              "      <td>0.000315</td>\n",
              "      <td>10000</td>\n",
              "      <td>0.000328</td>\n",
              "      <td>0.000315</td>\n",
              "      <td>3</td>\n",
              "      <td>3</td>\n",
              "      <td>0-LinearClassifier</td>\n",
              "    </tr>\n",
              "    <tr>\n",
              "      <th>17</th>\n",
              "      <td>1</td>\n",
              "      <td>Normalizer</td>\n",
              "      <td>Normalizer</td>\n",
              "      <td>0.000272</td>\n",
              "      <td>10000</td>\n",
              "      <td>0.000284</td>\n",
              "      <td>0.000256</td>\n",
              "      <td>3</td>\n",
              "      <td>3</td>\n",
              "      <td>1-Normalizer</td>\n",
              "    </tr>\n",
              "    <tr>\n",
              "      <th>18</th>\n",
              "      <td>2</td>\n",
              "      <td>Cast</td>\n",
              "      <td>Cast</td>\n",
              "      <td>0.000004</td>\n",
              "      <td>10000</td>\n",
              "      <td>0.000004</td>\n",
              "      <td>0.000004</td>\n",
              "      <td>3</td>\n",
              "      <td>3</td>\n",
              "      <td>2-Cast</td>\n",
              "    </tr>\n",
              "    <tr>\n",
              "      <th>19</th>\n",
              "      <td>3</td>\n",
              "      <td>ZipMap</td>\n",
              "      <td>ZipMap</td>\n",
              "      <td>0.000004</td>\n",
              "      <td>10000</td>\n",
              "      <td>0.000004</td>\n",
              "      <td>0.000004</td>\n",
              "      <td>3</td>\n",
              "      <td>3</td>\n",
              "      <td>3-ZipMap</td>\n",
              "    </tr>\n",
              "    <tr>\n",
              "      <th>20</th>\n",
              "      <td>0</td>\n",
              "      <td>LinearClassifier</td>\n",
              "      <td>LinearClassifier</td>\n",
              "      <td>0.005634</td>\n",
              "      <td>100000</td>\n",
              "      <td>0.005634</td>\n",
              "      <td>0.005634</td>\n",
              "      <td>1</td>\n",
              "      <td>2</td>\n",
              "      <td>0-LinearClassifier</td>\n",
              "    </tr>\n",
              "    <tr>\n",
              "      <th>21</th>\n",
              "      <td>1</td>\n",
              "      <td>Normalizer</td>\n",
              "      <td>Normalizer</td>\n",
              "      <td>0.004671</td>\n",
              "      <td>100000</td>\n",
              "      <td>0.004671</td>\n",
              "      <td>0.004671</td>\n",
              "      <td>1</td>\n",
              "      <td>2</td>\n",
              "      <td>1-Normalizer</td>\n",
              "    </tr>\n",
              "    <tr>\n",
              "      <th>22</th>\n",
              "      <td>2</td>\n",
              "      <td>Cast</td>\n",
              "      <td>Cast</td>\n",
              "      <td>0.000024</td>\n",
              "      <td>100000</td>\n",
              "      <td>0.000024</td>\n",
              "      <td>0.000024</td>\n",
              "      <td>1</td>\n",
              "      <td>2</td>\n",
              "      <td>2-Cast</td>\n",
              "    </tr>\n",
              "    <tr>\n",
              "      <th>23</th>\n",
              "      <td>3</td>\n",
              "      <td>ZipMap</td>\n",
              "      <td>ZipMap</td>\n",
              "      <td>0.000013</td>\n",
              "      <td>100000</td>\n",
              "      <td>0.000013</td>\n",
              "      <td>0.000013</td>\n",
              "      <td>1</td>\n",
              "      <td>2</td>\n",
              "      <td>3-ZipMap</td>\n",
              "    </tr>\n",
              "  </tbody>\n",
              "</table>\n",
              "</div>"
            ],
            "text/plain": [
              "    i              name           op_type      time       N  max_time  \\\n",
              "0   0  LinearClassifier  LinearClassifier  0.000018       1  0.000033   \n",
              "1   1        Normalizer        Normalizer  0.000017       1  0.000069   \n",
              "2   2              Cast              Cast  0.000004       1  0.000009   \n",
              "3   3            ZipMap            ZipMap  0.000005       1  0.000007   \n",
              "4   0  LinearClassifier  LinearClassifier  0.000020      10  0.000052   \n",
              "5   1        Normalizer        Normalizer  0.000015      10  0.000035   \n",
              "6   2              Cast              Cast  0.000004      10  0.000013   \n",
              "7   3            ZipMap            ZipMap  0.000004      10  0.000008   \n",
              "8   0  LinearClassifier  LinearClassifier  0.000024     100  0.000036   \n",
              "9   1        Normalizer        Normalizer  0.000018     100  0.000023   \n",
              "10  2              Cast              Cast  0.000004     100  0.000006   \n",
              "11  3            ZipMap            ZipMap  0.000007     100  0.000005   \n",
              "12  0  LinearClassifier  LinearClassifier  0.000051    1000  0.000057   \n",
              "13  1        Normalizer        Normalizer  0.000041    1000  0.000045   \n",
              "14  2              Cast              Cast  0.000003    1000  0.000004   \n",
              "15  3            ZipMap            ZipMap  0.000004    1000  0.000004   \n",
              "16  0  LinearClassifier  LinearClassifier  0.000315   10000  0.000328   \n",
              "17  1        Normalizer        Normalizer  0.000272   10000  0.000284   \n",
              "18  2              Cast              Cast  0.000004   10000  0.000004   \n",
              "19  3            ZipMap            ZipMap  0.000004   10000  0.000004   \n",
              "20  0  LinearClassifier  LinearClassifier  0.005634  100000  0.005634   \n",
              "21  1        Normalizer        Normalizer  0.004671  100000  0.004671   \n",
              "22  2              Cast              Cast  0.000024  100000  0.000024   \n",
              "23  3            ZipMap            ZipMap  0.000013  100000  0.000013   \n",
              "\n",
              "    min_time  repeat  number                step  \n",
              "0   0.000015      20      30  0-LinearClassifier  \n",
              "1   0.000012      20      30        1-Normalizer  \n",
              "2   0.000003      20      30              2-Cast  \n",
              "3   0.000004      20      30            3-ZipMap  \n",
              "4   0.000017      20      20  0-LinearClassifier  \n",
              "5   0.000013      20      20        1-Normalizer  \n",
              "6   0.000003      20      20              2-Cast  \n",
              "7   0.000004      20      20            3-ZipMap  \n",
              "8   0.000019      10       8  0-LinearClassifier  \n",
              "9   0.000015      10       8        1-Normalizer  \n",
              "10  0.000003      10       8              2-Cast  \n",
              "11  0.000004      10       8            3-ZipMap  \n",
              "12  0.000047       5       5  0-LinearClassifier  \n",
              "13  0.000040       5       5        1-Normalizer  \n",
              "14  0.000003       5       5              2-Cast  \n",
              "15  0.000004       5       5            3-ZipMap  \n",
              "16  0.000315       3       3  0-LinearClassifier  \n",
              "17  0.000256       3       3        1-Normalizer  \n",
              "18  0.000004       3       3              2-Cast  \n",
              "19  0.000004       3       3            3-ZipMap  \n",
              "20  0.005634       1       2  0-LinearClassifier  \n",
              "21  0.004671       1       2        1-Normalizer  \n",
              "22  0.000024       1       2              2-Cast  \n",
              "23  0.000013       1       2            3-ZipMap  "
            ]
          },
          "execution_count": 12,
          "metadata": {},
          "output_type": "execute_result"
        }
      ],
      "source": [
        "import pandas\n",
        "df = pandas.DataFrame(res[0]['bench-batch'])\n",
        "df['step'] = df.apply(lambda row: '{}-{}'.format(row['i'], row[\"name\"]), axis=1)\n",
        "df"
      ]
    },
    {
      "cell_type": "markdown",
      "metadata": {},
      "source": [
        "Following tables shows the time spent in each node, it is relative to the total time. For one observation, the runtime spends 10% of the time in ZipMap, it is only 1% or 2% with 10 observations. These proportions change due to the computing cost of each node."
      ]
    },
    {
      "cell_type": "code",
      "execution_count": 12,
      "metadata": {},
      "outputs": [
        {
          "data": {
            "text/html": [
              "<div>\n",
              "<style scoped>\n",
              "    .dataframe tbody tr th:only-of-type {\n",
              "        vertical-align: middle;\n",
              "    }\n",
              "\n",
              "    .dataframe tbody tr th {\n",
              "        vertical-align: top;\n",
              "    }\n",
              "\n",
              "    .dataframe thead th {\n",
              "        text-align: right;\n",
              "    }\n",
              "</style>\n",
              "<table border=\"1\" class=\"dataframe\">\n",
              "  <thead>\n",
              "    <tr style=\"text-align: right;\">\n",
              "      <th>N</th>\n",
              "      <th>1</th>\n",
              "      <th>10</th>\n",
              "      <th>100</th>\n",
              "      <th>1000</th>\n",
              "      <th>10000</th>\n",
              "      <th>100000</th>\n",
              "    </tr>\n",
              "    <tr>\n",
              "      <th>step</th>\n",
              "      <th></th>\n",
              "      <th></th>\n",
              "      <th></th>\n",
              "      <th></th>\n",
              "      <th></th>\n",
              "      <th></th>\n",
              "    </tr>\n",
              "  </thead>\n",
              "  <tbody>\n",
              "    <tr>\n",
              "      <th>0-LinearClassifier</th>\n",
              "      <td>0.410138</td>\n",
              "      <td>0.459103</td>\n",
              "      <td>0.450882</td>\n",
              "      <td>0.512622</td>\n",
              "      <td>0.530490</td>\n",
              "      <td>0.544785</td>\n",
              "    </tr>\n",
              "    <tr>\n",
              "      <th>1-Normalizer</th>\n",
              "      <td>0.390060</td>\n",
              "      <td>0.353622</td>\n",
              "      <td>0.350126</td>\n",
              "      <td>0.414227</td>\n",
              "      <td>0.456671</td>\n",
              "      <td>0.451642</td>\n",
              "    </tr>\n",
              "    <tr>\n",
              "      <th>2-Cast</th>\n",
              "      <td>0.095729</td>\n",
              "      <td>0.089857</td>\n",
              "      <td>0.074343</td>\n",
              "      <td>0.034398</td>\n",
              "      <td>0.006092</td>\n",
              "      <td>0.002306</td>\n",
              "    </tr>\n",
              "    <tr>\n",
              "      <th>3-ZipMap</th>\n",
              "      <td>0.104073</td>\n",
              "      <td>0.097418</td>\n",
              "      <td>0.124649</td>\n",
              "      <td>0.038753</td>\n",
              "      <td>0.006747</td>\n",
              "      <td>0.001267</td>\n",
              "    </tr>\n",
              "  </tbody>\n",
              "</table>\n",
              "</div>"
            ],
            "text/plain": [
              "N                     1         10        100       1000      10000     100000\n",
              "step                                                                          \n",
              "0-LinearClassifier  0.410138  0.459103  0.450882  0.512622  0.530490  0.544785\n",
              "1-Normalizer        0.390060  0.353622  0.350126  0.414227  0.456671  0.451642\n",
              "2-Cast              0.095729  0.089857  0.074343  0.034398  0.006092  0.002306\n",
              "3-ZipMap            0.104073  0.097418  0.124649  0.038753  0.006747  0.001267"
            ]
          },
          "execution_count": 13,
          "metadata": {},
          "output_type": "execute_result"
        }
      ],
      "source": [
        "piv = df.pivot('step', 'N', 'time')\n",
        "total = piv.sum(axis=0)\n",
        "piv / total"
      ]
    },
    {
      "cell_type": "markdown",
      "metadata": {},
      "source": [
        "The python implementation of *ZipMap* does not change the data but wraps in into a frozen class [ArrayZipMapDitionary](https://github.com/sdpython/mlprodict/blob/master/mlprodict/onnxrt/ops_cpu/op_zipmap.py#L90) which mocks a list of dictionaries *pandas* can ingest to create a DataFrame. The cost is a fixed cost and does not depend on the number of processed rows."
      ]
    },
    {
      "cell_type": "code",
      "execution_count": 13,
      "metadata": {},
      "outputs": [
        {
          "name": "stdout",
          "output_type": "stream",
          "text": [
            "\n",
            "  _     ._   __/__   _ _  _  _ _/_   Recorded: 00:28:08  Samples:  4\n",
            " /_//_/// /_\\ / //_// / //_'/ //     Duration: 0.009     CPU time: 0.031\n",
            "/   _/                      v3.0.1\n",
            "\n",
            "Program: c:\\python372_x64\\lib\\site-packages\\ipykernel_launcher.py -f C:\\Users\\xavie\\AppData\\Roaming\\jupyter\\runtime\\kernel-287476aa-b8ba-4140-902a-b0aad833ffd0.json\n",
            "\n",
            "0.008 profile  pyquickhelper\\pycode\\profiling.py:49\n",
            "`- 0.008 <lambda>  <ipython-input-13-ccd42692a7ed>:3\n",
            "   `- 0.008 run  mlprodict\\onnxrt\\onnx_inference.py:475\n",
            "      `- 0.008 _run_sequence_runtime  mlprodict\\onnxrt\\onnx_inference.py:558\n",
            "         `- 0.008 run  mlprodict\\onnxrt\\onnx_inference_node.py:141\n",
            "            |- 0.005 run  mlprodict\\onnxrt\\ops_cpu\\_op.py:417\n",
            "            |  `- 0.005 run  mlprodict\\onnxrt\\ops_cpu\\_op.py:298\n",
            "            |     `- 0.005 _run  mlprodict\\onnxrt\\ops_cpu\\op_linear_classifier.py:40\n",
            "            |        |- 0.003 [self]  \n",
            "            |        `- 0.002 argmax  <__array_function__ internals>:2\n",
            "            |           `- 0.002 argmax  numpy\\core\\fromnumeric.py:1112\n",
            "            |                 [3 frames hidden]  numpy\n",
            "            |                    0.002 _wrapfunc  numpy\\core\\fromnumeric.py:55\n",
            "            `- 0.003 run  mlprodict\\onnxrt\\ops_cpu\\_op.py:383\n",
            "               `- 0.003 run  mlprodict\\onnxrt\\ops_cpu\\_op.py:298\n",
            "                  `- 0.003 _run  mlprodict\\onnxrt\\ops_cpu\\op_normalizer.py:66\n",
            "                     `- 0.003 norm_l1  mlprodict\\onnxrt\\ops_cpu\\op_normalizer.py:42\n",
            "                        `- 0.003 _norm_L1_inplace  mlprodict\\onnxrt\\ops_cpu\\op_normalizer.py:49\n",
            "                           |- 0.002 [self]  \n",
            "                           `- 0.002 _sum  numpy\\core\\_methods.py:36\n",
            "                                 [2 frames hidden]  numpy\n",
            "\n",
            "\n"
          ]
        }
      ],
      "source": [
        "from pyquickhelper.pycode.profiling import profile\n",
        "bigX = numpy.random.randn(100000, X_test.shape[1]).astype(numpy.float32)\n",
        "print(profile(lambda: oinf.run({'X': bigX}), pyinst_format=\"text\")[1])"
      ]
    },
    {
      "cell_type": "markdown",
      "metadata": {},
      "source": [
        "The class *ArrayZipMapDictionary* is fast to build but has an overhead after that because it builds data when needed."
      ]
    },
    {
      "cell_type": "code",
      "execution_count": 14,
      "metadata": {},
      "outputs": [
        {
          "data": {
            "text/plain": [
              "mlprodict.onnxrt.ops_cpu.op_zipmap.ArrayZipMapDictionary"
            ]
          },
          "execution_count": 15,
          "metadata": {},
          "output_type": "execute_result"
        }
      ],
      "source": [
        "res = oinf.run({'X': bigX})\n",
        "prob = res['output_probability']\n",
        "type(prob)"
      ]
    },
    {
      "cell_type": "code",
      "execution_count": 15,
      "metadata": {},
      "outputs": [
        {
          "name": "stdout",
          "output_type": "stream",
          "text": [
            "721 ms \u00b1 54.5 ms per loop (mean \u00b1 std. dev. of 7 runs, 1 loop each)\n"
          ]
        }
      ],
      "source": [
        "%timeit pandas.DataFrame(prob)"
      ]
    },
    {
      "cell_type": "code",
      "execution_count": 16,
      "metadata": {},
      "outputs": [
        {
          "name": "stdout",
          "output_type": "stream",
          "text": [
            "108 ms \u00b1 2.01 ms per loop (mean \u00b1 std. dev. of 7 runs, 10 loops each)\n"
          ]
        }
      ],
      "source": [
        "list_of_dict = [v.asdict() for v in prob]\n",
        "%timeit pandas.DataFrame(list_of_dict)"
      ]
    },
    {
      "cell_type": "markdown",
      "metadata": {},
      "source": [
        "But if you just need to do the following:"
      ]
    },
    {
      "cell_type": "code",
      "execution_count": 17,
      "metadata": {},
      "outputs": [
        {
          "name": "stdout",
          "output_type": "stream",
          "text": [
            "713 ms \u00b1 56.6 ms per loop (mean \u00b1 std. dev. of 7 runs, 1 loop each)\n"
          ]
        }
      ],
      "source": [
        "%timeit pandas.DataFrame(prob).values"
      ]
    },
    {
      "cell_type": "markdown",
      "metadata": {},
      "source": [
        "Then, you can just do that:"
      ]
    },
    {
      "cell_type": "code",
      "execution_count": 18,
      "metadata": {},
      "outputs": [
        {
          "name": "stdout",
          "output_type": "stream",
          "text": [
            "[0, 1, 2]\n",
            "390 ns \u00b1 51.2 ns per loop (mean \u00b1 std. dev. of 7 runs, 1000000 loops each)\n"
          ]
        }
      ],
      "source": [
        "print(prob.columns)\n",
        "%timeit prob.values"
      ]
    },
    {
      "cell_type": "markdown",
      "metadata": {},
      "source": [
        "And then:\n"
      ]
    },
    {
      "cell_type": "code",
      "execution_count": 19,
      "metadata": {},
      "outputs": [
        {
          "name": "stdout",
          "output_type": "stream",
          "text": [
            "215 \u00b5s \u00b1 82.6 \u00b5s per loop (mean \u00b1 std. dev. of 7 runs, 100 loops each)\n"
          ]
        }
      ],
      "source": [
        "%timeit -n 100 pandas.DataFrame(prob.values, columns=prob.columns)"
      ]
    },
    {
      "cell_type": "markdown",
      "metadata": {},
      "source": [
        "We can then compare to what *onnxruntime* would do when the runtime is called indenpently for each node. We use the runtime named [onnxruntime2](http://www.xavierdupre.fr/app/mlprodict/helpsphinx/onnx_runtime.html?highlight=onnxruntime2#onnxruntime2-independent-onnxruntime-for-every-node). Class *OnnxInference* splits the ONNX graph into multiple ONNX graphs, one for each node, and then calls *onnxruntime* for each of them indenpently. *Python* handles the graph logic."
      ]
    },
    {
      "cell_type": "code",
      "execution_count": 20,
      "metadata": {
        "scrolled": false
      },
      "outputs": [
        {
          "name": "stderr",
          "output_type": "stream",
          "text": [
            "C:\\xavierdupre\\__home_\\github_fork\\scikit-learn\\sklearn\\linear_model\\_logistic.py:1356: UserWarning: 'n_jobs' > 1 does not have any effect when 'solver' is set to 'liblinear'. Got 'n_jobs' = 4.\n",
            "  \" = {}.\".format(effective_n_jobs(self.n_jobs)))\n",
            "C:\\xavierdupre\\__home_\\github_fork\\scikit-learn\\sklearn\\linear_model\\_logistic.py:1356: UserWarning: 'n_jobs' > 1 does not have any effect when 'solver' is set to 'liblinear'. Got 'n_jobs' = 4.\n",
            "  \" = {}.\".format(effective_n_jobs(self.n_jobs)))\n",
            "C:\\xavierdupre\\__home_\\github_fork\\scikit-learn\\sklearn\\linear_model\\_logistic.py:1356: UserWarning: 'n_jobs' > 1 does not have any effect when 'solver' is set to 'liblinear'. Got 'n_jobs' = 4.\n",
            "  \" = {}.\".format(effective_n_jobs(self.n_jobs)))\n",
            "C:\\xavierdupre\\__home_\\github_fork\\scikit-learn\\sklearn\\linear_model\\_logistic.py:1356: UserWarning: 'n_jobs' > 1 does not have any effect when 'solver' is set to 'liblinear'. Got 'n_jobs' = 4.\n",
            "  \" = {}.\".format(effective_n_jobs(self.n_jobs)))\n",
            "C:\\xavierdupre\\__home_\\github_fork\\scikit-learn\\sklearn\\linear_model\\_logistic.py:1356: UserWarning: 'n_jobs' > 1 does not have any effect when 'solver' is set to 'liblinear'. Got 'n_jobs' = 4.\n",
            "  \" = {}.\".format(effective_n_jobs(self.n_jobs)))\n",
            "C:\\xavierdupre\\__home_\\github_fork\\scikit-learn\\sklearn\\linear_model\\_logistic.py:1356: UserWarning: 'n_jobs' > 1 does not have any effect when 'solver' is set to 'liblinear'. Got 'n_jobs' = 4.\n",
            "  \" = {}.\".format(effective_n_jobs(self.n_jobs)))\n",
            "C:\\xavierdupre\\__home_\\github_fork\\scikit-learn\\sklearn\\linear_model\\_logistic.py:1356: UserWarning: 'n_jobs' > 1 does not have any effect when 'solver' is set to 'liblinear'. Got 'n_jobs' = 4.\n",
            "  \" = {}.\".format(effective_n_jobs(self.n_jobs)))\n",
            "C:\\xavierdupre\\__home_\\github_fork\\scikit-learn\\sklearn\\linear_model\\_logistic.py:1356: UserWarning: 'n_jobs' > 1 does not have any effect when 'solver' is set to 'liblinear'. Got 'n_jobs' = 4.\n",
            "  \" = {}.\".format(effective_n_jobs(self.n_jobs)))\n",
            "C:\\xavierdupre\\__home_\\github_fork\\scikit-learn\\sklearn\\linear_model\\_logistic.py:1356: UserWarning: 'n_jobs' > 1 does not have any effect when 'solver' is set to 'liblinear'. Got 'n_jobs' = 4.\n",
            "  \" = {}.\".format(effective_n_jobs(self.n_jobs)))\n",
            "C:\\xavierdupre\\__home_\\github_fork\\scikit-learn\\sklearn\\linear_model\\_logistic.py:1356: UserWarning: 'n_jobs' > 1 does not have any effect when 'solver' is set to 'liblinear'. Got 'n_jobs' = 4.\n",
            "  \" = {}.\".format(effective_n_jobs(self.n_jobs)))\n"
          ]
        }
      ],
      "source": [
        "res = list(enumerate_validated_operator_opsets(\n",
        "            verbose=0, models={\"LogisticRegression\"}, opset_min=12,\n",
        "            runtime='onnxruntime2', debug=False, node_time=True))"
      ]
    },
    {
      "cell_type": "code",
      "execution_count": 21,
      "metadata": {},
      "outputs": [
        {
          "name": "stdout",
          "output_type": "stream",
          "text": [
            "0 Unable to load node 'ZipMap' (output type was inferred)\n",
            "1 Unable to load node 'ZipMap' (output type was inferred)\n",
            "4 Unable to load node 'LinearClassifier' (output type was guessed)\n",
            "5 Unable to load node 'LinearClassifier' (output type was guessed)\n",
            "6 Unable to load node 'LinearClassifier' (output type was guessed)\n",
            "7 Unable to load node 'LinearClassifier' (output type was guessed)\n",
            "8 Unable to load node 'ZipMap' (output type was inferred)\n",
            "9 Unable to load node 'ZipMap' (output type was inferred)\n"
          ]
        }
      ],
      "source": [
        "res0 = None\n",
        "for i, r in enumerate(res):\n",
        "    if \"available-ERROR\" in r:\n",
        "        print(i, str(r['available-ERROR']).split(\"\\n\")[0])\n",
        "    elif res0 is None:\n",
        "        res0 = r"
      ]
    },
    {
      "cell_type": "code",
      "execution_count": 22,
      "metadata": {},
      "outputs": [
        {
          "name": "stdout",
          "output_type": "stream",
          "text": [
            "   i              name           op_type      time       N  max_time  \\\n",
            "0  0  LinearClassifier  LinearClassifier  0.000052       1  0.000190   \n",
            "1  0  LinearClassifier  LinearClassifier  0.000044      10  0.000070   \n",
            "2  0  LinearClassifier  LinearClassifier  0.000071     100  0.000133   \n",
            "3  0  LinearClassifier  LinearClassifier  0.000066    1000  0.000079   \n",
            "4  0  LinearClassifier  LinearClassifier  0.000409   10000  0.000408   \n",
            "5  0  LinearClassifier  LinearClassifier  0.003275  100000  0.003275   \n",
            "\n",
            "   min_time  repeat  number  \n",
            "0  0.000028      20      30  \n",
            "1  0.000031      20      20  \n",
            "2  0.000046      10       8  \n",
            "3  0.000057       5       5  \n",
            "4  0.000365       3       3  \n",
            "5  0.003275       1       2  \n"
          ]
        },
        {
          "data": {
            "text/html": [
              "<div>\n",
              "<style scoped>\n",
              "    .dataframe tbody tr th:only-of-type {\n",
              "        vertical-align: middle;\n",
              "    }\n",
              "\n",
              "    .dataframe tbody tr th {\n",
              "        vertical-align: top;\n",
              "    }\n",
              "\n",
              "    .dataframe thead th {\n",
              "        text-align: right;\n",
              "    }\n",
              "</style>\n",
              "<table border=\"1\" class=\"dataframe\">\n",
              "  <thead>\n",
              "    <tr style=\"text-align: right;\">\n",
              "      <th>N</th>\n",
              "      <th>1</th>\n",
              "      <th>10</th>\n",
              "      <th>100</th>\n",
              "      <th>1000</th>\n",
              "      <th>10000</th>\n",
              "      <th>100000</th>\n",
              "    </tr>\n",
              "    <tr>\n",
              "      <th>step</th>\n",
              "      <th></th>\n",
              "      <th></th>\n",
              "      <th></th>\n",
              "      <th></th>\n",
              "      <th></th>\n",
              "      <th></th>\n",
              "    </tr>\n",
              "  </thead>\n",
              "  <tbody>\n",
              "    <tr>\n",
              "      <th>0-LinearClassifier</th>\n",
              "      <td>1.0</td>\n",
              "      <td>1.0</td>\n",
              "      <td>1.0</td>\n",
              "      <td>1.0</td>\n",
              "      <td>1.0</td>\n",
              "      <td>1.0</td>\n",
              "    </tr>\n",
              "  </tbody>\n",
              "</table>\n",
              "</div>"
            ],
            "text/plain": [
              "N                   1       10      100     1000    10000   100000\n",
              "step                                                              \n",
              "0-LinearClassifier     1.0     1.0     1.0     1.0     1.0     1.0"
            ]
          },
          "execution_count": 23,
          "metadata": {},
          "output_type": "execute_result"
        }
      ],
      "source": [
        "if '_6ort_run_batch_exc' in res[0]:\n",
        "    m = \"Something went wrong.\", res[0]['_6ort_run_batch_exc']\n",
        "else:\n",
        "    df = pandas.DataFrame(res0['bench-batch'])\n",
        "    print(df)\n",
        "    df['step'] = df.apply(lambda row: '{}-{}'.format(row['i'], row[\"name\"]), axis=1)\n",
        "    piv = df.pivot('step', 'N', 'time')\n",
        "    total = piv.sum(axis=0)\n",
        "    m = piv / total\n",
        "m"
      ]
    },
    {
      "cell_type": "markdown",
      "metadata": {},
      "source": [
        "*onnxruntime* creates a new container each time a ZipMap is executed. That's whay it takes that much time and the ratio increases when the number of observations increases."
      ]
    },
    {
      "cell_type": "markdown",
      "metadata": {},
      "source": [
        "## GaussianProcessRegressor\n",
        "\n",
        "This operator is slow for small batches compare to scikit-learn but closes the gap as the batch size increases. Let\u2019s see where the time goes."
      ]
    },
    {
      "cell_type": "code",
      "execution_count": 23,
      "metadata": {},
      "outputs": [
        {
          "data": {
            "text/plain": [
              "(12, 12)"
            ]
          },
          "execution_count": 24,
          "metadata": {},
          "output_type": "execute_result"
        }
      ],
      "source": [
        "from onnx.defs import onnx_opset_version\n",
        "from mlprodict.tools.asv_options_helper import get_opset_number_from_onnx\n",
        "onnx_opset_version(), get_opset_number_from_onnx()"
      ]
    },
    {
      "cell_type": "code",
      "execution_count": 24,
      "metadata": {
        "scrolled": false
      },
      "outputs": [
        {
          "name": "stdout",
          "output_type": "stream",
          "text": [
            "[enumerate_validated_operator_opsets] opset in [12, 12].\n"
          ]
        },
        {
          "name": "stderr",
          "output_type": "stream",
          "text": [
            "GaussianProcessRegressor    :   0%|          | 0/1 [00:00<?, ?it/s]"
          ]
        },
        {
          "name": "stdout",
          "output_type": "stream",
          "text": [
            "[enumerate_compatible_opset] opset in [12, 12].\n"
          ]
        },
        {
          "name": "stderr",
          "output_type": "stream",
          "text": [
            "GaussianProcessRegressor    : 100%|\u2588\u2588\u2588\u2588\u2588\u2588\u2588\u2588\u2588\u2588| 1/1 [00:05<00:00,  5.66s/it]\n"
          ]
        }
      ],
      "source": [
        "res = list(enumerate_validated_operator_opsets(\n",
        "            verbose=1, models={\"GaussianProcessRegressor\"},\n",
        "            opset_min=get_opset_number_from_onnx(),\n",
        "            opset_max=get_opset_number_from_onnx(),\n",
        "            runtime='python', debug=False, node_time=True,\n",
        "            filter_exp=lambda m, p: p == \"b-reg\"))"
      ]
    },
    {
      "cell_type": "code",
      "execution_count": 25,
      "metadata": {},
      "outputs": [],
      "source": [
        "res0 = None\n",
        "for i, r in enumerate(res):\n",
        "    if \"available-ERROR\" in r:\n",
        "        print(i, str(r['available-ERROR']).split(\"\\n\")[0])\n",
        "    elif res0 is None:\n",
        "        res0 = r"
      ]
    },
    {
      "cell_type": "code",
      "execution_count": 26,
      "metadata": {},
      "outputs": [
        {
          "data": {
            "text/html": [
              "<div>\n",
              "<style scoped>\n",
              "    .dataframe tbody tr th:only-of-type {\n",
              "        vertical-align: middle;\n",
              "    }\n",
              "\n",
              "    .dataframe tbody tr th {\n",
              "        vertical-align: top;\n",
              "    }\n",
              "\n",
              "    .dataframe thead th {\n",
              "        text-align: right;\n",
              "    }\n",
              "</style>\n",
              "<table border=\"1\" class=\"dataframe\">\n",
              "  <thead>\n",
              "    <tr style=\"text-align: right;\">\n",
              "      <th></th>\n",
              "      <th>i</th>\n",
              "      <th>name</th>\n",
              "      <th>op_type</th>\n",
              "      <th>time</th>\n",
              "      <th>N</th>\n",
              "      <th>max_time</th>\n",
              "      <th>min_time</th>\n",
              "      <th>repeat</th>\n",
              "      <th>number</th>\n",
              "      <th>step</th>\n",
              "    </tr>\n",
              "  </thead>\n",
              "  <tbody>\n",
              "    <tr>\n",
              "      <th>0</th>\n",
              "      <td>0</td>\n",
              "      <td>kgpd_CDist</td>\n",
              "      <td>CDist</td>\n",
              "      <td>0.000033</td>\n",
              "      <td>1</td>\n",
              "      <td>0.000045</td>\n",
              "      <td>0.000027</td>\n",
              "      <td>20</td>\n",
              "      <td>30</td>\n",
              "      <td>00-kgpd_CDist</td>\n",
              "    </tr>\n",
              "    <tr>\n",
              "      <th>1</th>\n",
              "      <td>1</td>\n",
              "      <td>kgpd_Div</td>\n",
              "      <td>Div</td>\n",
              "      <td>0.000009</td>\n",
              "      <td>1</td>\n",
              "      <td>0.000016</td>\n",
              "      <td>0.000007</td>\n",
              "      <td>20</td>\n",
              "      <td>30</td>\n",
              "      <td>01-kgpd_Div</td>\n",
              "    </tr>\n",
              "    <tr>\n",
              "      <th>2</th>\n",
              "      <td>2</td>\n",
              "      <td>kgpd_Mul</td>\n",
              "      <td>Mul</td>\n",
              "      <td>0.000006</td>\n",
              "      <td>1</td>\n",
              "      <td>0.000007</td>\n",
              "      <td>0.000005</td>\n",
              "      <td>20</td>\n",
              "      <td>30</td>\n",
              "      <td>02-kgpd_Mul</td>\n",
              "    </tr>\n",
              "    <tr>\n",
              "      <th>3</th>\n",
              "      <td>3</td>\n",
              "      <td>kgpd_Sin</td>\n",
              "      <td>Sin</td>\n",
              "      <td>0.000007</td>\n",
              "      <td>1</td>\n",
              "      <td>0.000009</td>\n",
              "      <td>0.000006</td>\n",
              "      <td>20</td>\n",
              "      <td>30</td>\n",
              "      <td>03-kgpd_Sin</td>\n",
              "    </tr>\n",
              "    <tr>\n",
              "      <th>4</th>\n",
              "      <td>4</td>\n",
              "      <td>kgpd_Div1</td>\n",
              "      <td>Div</td>\n",
              "      <td>0.000007</td>\n",
              "      <td>1</td>\n",
              "      <td>0.000008</td>\n",
              "      <td>0.000005</td>\n",
              "      <td>20</td>\n",
              "      <td>30</td>\n",
              "      <td>04-kgpd_Div1</td>\n",
              "    </tr>\n",
              "  </tbody>\n",
              "</table>\n",
              "</div>"
            ],
            "text/plain": [
              "   i        name op_type      time  N  max_time  min_time  repeat  number  \\\n",
              "0  0  kgpd_CDist   CDist  0.000033  1  0.000045  0.000027      20      30   \n",
              "1  1    kgpd_Div     Div  0.000009  1  0.000016  0.000007      20      30   \n",
              "2  2    kgpd_Mul     Mul  0.000006  1  0.000007  0.000005      20      30   \n",
              "3  3    kgpd_Sin     Sin  0.000007  1  0.000009  0.000006      20      30   \n",
              "4  4   kgpd_Div1     Div  0.000007  1  0.000008  0.000005      20      30   \n",
              "\n",
              "            step  \n",
              "0  00-kgpd_CDist  \n",
              "1    01-kgpd_Div  \n",
              "2    02-kgpd_Mul  \n",
              "3    03-kgpd_Sin  \n",
              "4   04-kgpd_Div1  "
            ]
          },
          "execution_count": 27,
          "metadata": {},
          "output_type": "execute_result"
        }
      ],
      "source": [
        "df = pandas.DataFrame(res0['bench-batch'])\n",
        "df['step'] = df.apply(lambda row: '{0:02d}-{1}'.format(row['i'], row[\"name\"]), axis=1)\n",
        "df.head()"
      ]
    },
    {
      "cell_type": "code",
      "execution_count": 27,
      "metadata": {},
      "outputs": [
        {
          "data": {
            "text/html": [
              "<div>\n",
              "<style scoped>\n",
              "    .dataframe tbody tr th:only-of-type {\n",
              "        vertical-align: middle;\n",
              "    }\n",
              "\n",
              "    .dataframe tbody tr th {\n",
              "        vertical-align: top;\n",
              "    }\n",
              "\n",
              "    .dataframe thead th {\n",
              "        text-align: right;\n",
              "    }\n",
              "</style>\n",
              "<table border=\"1\" class=\"dataframe\">\n",
              "  <thead>\n",
              "    <tr style=\"text-align: right;\">\n",
              "      <th>N</th>\n",
              "      <th>1</th>\n",
              "      <th>10</th>\n",
              "      <th>100</th>\n",
              "      <th>1000</th>\n",
              "      <th>10000</th>\n",
              "      <th>100000</th>\n",
              "    </tr>\n",
              "    <tr>\n",
              "      <th>step</th>\n",
              "      <th></th>\n",
              "      <th></th>\n",
              "      <th></th>\n",
              "      <th></th>\n",
              "      <th></th>\n",
              "      <th></th>\n",
              "    </tr>\n",
              "  </thead>\n",
              "  <tbody>\n",
              "    <tr>\n",
              "      <th>00-kgpd_CDist</th>\n",
              "      <td>0.311496</td>\n",
              "      <td>0.300665</td>\n",
              "      <td>0.244035</td>\n",
              "      <td>0.227984</td>\n",
              "      <td>0.264447</td>\n",
              "      <td>0.288546</td>\n",
              "    </tr>\n",
              "    <tr>\n",
              "      <th>01-kgpd_Div</th>\n",
              "      <td>0.082535</td>\n",
              "      <td>0.067193</td>\n",
              "      <td>0.028348</td>\n",
              "      <td>0.011667</td>\n",
              "      <td>0.012230</td>\n",
              "      <td>0.015447</td>\n",
              "    </tr>\n",
              "    <tr>\n",
              "      <th>02-kgpd_Mul</th>\n",
              "      <td>0.059840</td>\n",
              "      <td>0.050664</td>\n",
              "      <td>0.018670</td>\n",
              "      <td>0.006959</td>\n",
              "      <td>0.010950</td>\n",
              "      <td>0.012468</td>\n",
              "    </tr>\n",
              "    <tr>\n",
              "      <th>03-kgpd_Sin</th>\n",
              "      <td>0.067037</td>\n",
              "      <td>0.086529</td>\n",
              "      <td>0.106165</td>\n",
              "      <td>0.113068</td>\n",
              "      <td>0.102102</td>\n",
              "      <td>0.107563</td>\n",
              "    </tr>\n",
              "    <tr>\n",
              "      <th>04-kgpd_Div1</th>\n",
              "      <td>0.061852</td>\n",
              "      <td>0.053088</td>\n",
              "      <td>0.025749</td>\n",
              "      <td>0.010935</td>\n",
              "      <td>0.009810</td>\n",
              "      <td>0.009875</td>\n",
              "    </tr>\n",
              "    <tr>\n",
              "      <th>05-kgpd_Pow</th>\n",
              "      <td>0.072520</td>\n",
              "      <td>0.166539</td>\n",
              "      <td>0.361318</td>\n",
              "      <td>0.438253</td>\n",
              "      <td>0.418169</td>\n",
              "      <td>0.404182</td>\n",
              "    </tr>\n",
              "    <tr>\n",
              "      <th>06-kgpd_Mul1</th>\n",
              "      <td>0.057508</td>\n",
              "      <td>0.050477</td>\n",
              "      <td>0.020386</td>\n",
              "      <td>0.010334</td>\n",
              "      <td>0.009079</td>\n",
              "      <td>0.010466</td>\n",
              "    </tr>\n",
              "    <tr>\n",
              "      <th>07-kgpd_Exp</th>\n",
              "      <td>0.067885</td>\n",
              "      <td>0.098850</td>\n",
              "      <td>0.150876</td>\n",
              "      <td>0.168079</td>\n",
              "      <td>0.165177</td>\n",
              "      <td>0.145106</td>\n",
              "    </tr>\n",
              "    <tr>\n",
              "      <th>08-gpr_MatMul</th>\n",
              "      <td>0.137546</td>\n",
              "      <td>0.064570</td>\n",
              "      <td>0.025069</td>\n",
              "      <td>0.009029</td>\n",
              "      <td>0.007134</td>\n",
              "      <td>0.006159</td>\n",
              "    </tr>\n",
              "    <tr>\n",
              "      <th>09-gpr_Add</th>\n",
              "      <td>0.081782</td>\n",
              "      <td>0.061424</td>\n",
              "      <td>0.019383</td>\n",
              "      <td>0.003692</td>\n",
              "      <td>0.000903</td>\n",
              "      <td>0.000190</td>\n",
              "    </tr>\n",
              "  </tbody>\n",
              "</table>\n",
              "</div>"
            ],
            "text/plain": [
              "N                1         10        100       1000      10000     100000\n",
              "step                                                                     \n",
              "00-kgpd_CDist  0.311496  0.300665  0.244035  0.227984  0.264447  0.288546\n",
              "01-kgpd_Div    0.082535  0.067193  0.028348  0.011667  0.012230  0.015447\n",
              "02-kgpd_Mul    0.059840  0.050664  0.018670  0.006959  0.010950  0.012468\n",
              "03-kgpd_Sin    0.067037  0.086529  0.106165  0.113068  0.102102  0.107563\n",
              "04-kgpd_Div1   0.061852  0.053088  0.025749  0.010935  0.009810  0.009875\n",
              "05-kgpd_Pow    0.072520  0.166539  0.361318  0.438253  0.418169  0.404182\n",
              "06-kgpd_Mul1   0.057508  0.050477  0.020386  0.010334  0.009079  0.010466\n",
              "07-kgpd_Exp    0.067885  0.098850  0.150876  0.168079  0.165177  0.145106\n",
              "08-gpr_MatMul  0.137546  0.064570  0.025069  0.009029  0.007134  0.006159\n",
              "09-gpr_Add     0.081782  0.061424  0.019383  0.003692  0.000903  0.000190"
            ]
          },
          "execution_count": 28,
          "metadata": {},
          "output_type": "execute_result"
        }
      ],
      "source": [
        "pivpy = df.pivot('step', 'N', 'time')\n",
        "total = pivpy.sum(axis=0)\n",
        "pivpy / total"
      ]
    },
    {
      "cell_type": "code",
      "execution_count": 28,
      "metadata": {},
      "outputs": [
        {
          "data": {
            "image/png": "[encoded data removed]",
            "text/plain": [
              "<Figure size 1008x288 with 1 Axes>"
            ]
          },
          "metadata": {
            "needs_background": "light"
          },
          "output_type": "display_data"
        }
      ],
      "source": [
        "ax = (pivpy / total).T.plot(logx=True, figsize=(14, 4))\n",
        "ax.set_ylim([0,1])\n",
        "ax.set_title(\"Time spent in each node relatively to the total time\\npython runtime\");"
      ]
    },
    {
      "cell_type": "markdown",
      "metadata": {},
      "source": [
        "The operator *Scan* is clearly time consuming when the batch size is small. *onnxruntime* is more efficient for this one."
      ]
    },
    {
      "cell_type": "code",
      "execution_count": 29,
      "metadata": {},
      "outputs": [
        {
          "name": "stdout",
          "output_type": "stream",
          "text": [
            "[enumerate_validated_operator_opsets] opset in [12, 12].\n"
          ]
        },
        {
          "name": "stderr",
          "output_type": "stream",
          "text": [
            "GaussianProcessRegressor    :   0%|          | 0/1 [00:00<?, ?it/s]"
          ]
        },
        {
          "name": "stdout",
          "output_type": "stream",
          "text": [
            "[enumerate_compatible_opset] opset in [12, 12].\n"
          ]
        },
        {
          "name": "stderr",
          "output_type": "stream",
          "text": [
            "GaussianProcessRegressor    : 100%|\u2588\u2588\u2588\u2588\u2588\u2588\u2588\u2588\u2588\u2588| 1/1 [00:06<00:00,  6.84s/it]\n"
          ]
        }
      ],
      "source": [
        "res = list(enumerate_validated_operator_opsets(\n",
        "            verbose=1, models={\"GaussianProcessRegressor\"}, \n",
        "            opset_min=get_opset_number_from_onnx(),\n",
        "            opset_max=get_opset_number_from_onnx(),\n",
        "            runtime='onnxruntime2', debug=False, node_time=True,\n",
        "            filter_exp=lambda m, p: p == \"b-reg\"))"
      ]
    },
    {
      "cell_type": "code",
      "execution_count": 30,
      "metadata": {},
      "outputs": [
        {
          "data": {
            "text/html": [
              "<div>\n",
              "<style scoped>\n",
              "    .dataframe tbody tr th:only-of-type {\n",
              "        vertical-align: middle;\n",
              "    }\n",
              "\n",
              "    .dataframe tbody tr th {\n",
              "        vertical-align: top;\n",
              "    }\n",
              "\n",
              "    .dataframe thead th {\n",
              "        text-align: right;\n",
              "    }\n",
              "</style>\n",
              "<table border=\"1\" class=\"dataframe\">\n",
              "  <thead>\n",
              "    <tr style=\"text-align: right;\">\n",
              "      <th>N</th>\n",
              "      <th>1</th>\n",
              "      <th>10</th>\n",
              "      <th>100</th>\n",
              "      <th>1000</th>\n",
              "      <th>10000</th>\n",
              "      <th>100000</th>\n",
              "    </tr>\n",
              "    <tr>\n",
              "      <th>step</th>\n",
              "      <th></th>\n",
              "      <th></th>\n",
              "      <th></th>\n",
              "      <th></th>\n",
              "      <th></th>\n",
              "      <th></th>\n",
              "    </tr>\n",
              "  </thead>\n",
              "  <tbody>\n",
              "    <tr>\n",
              "      <th>00-kgpd_CDist</th>\n",
              "      <td>0.114001</td>\n",
              "      <td>0.120884</td>\n",
              "      <td>0.128845</td>\n",
              "      <td>0.148042</td>\n",
              "      <td>0.156776</td>\n",
              "      <td>0.180377</td>\n",
              "    </tr>\n",
              "    <tr>\n",
              "      <th>01-kgpd_Div</th>\n",
              "      <td>0.101792</td>\n",
              "      <td>0.098622</td>\n",
              "      <td>0.085983</td>\n",
              "      <td>0.085108</td>\n",
              "      <td>0.086603</td>\n",
              "      <td>0.084520</td>\n",
              "    </tr>\n",
              "    <tr>\n",
              "      <th>02-kgpd_Mul</th>\n",
              "      <td>0.099980</td>\n",
              "      <td>0.097547</td>\n",
              "      <td>0.084001</td>\n",
              "      <td>0.064706</td>\n",
              "      <td>0.072849</td>\n",
              "      <td>0.081023</td>\n",
              "    </tr>\n",
              "    <tr>\n",
              "      <th>03-kgpd_Sin</th>\n",
              "      <td>0.089632</td>\n",
              "      <td>0.103505</td>\n",
              "      <td>0.194194</td>\n",
              "      <td>0.301002</td>\n",
              "      <td>0.245769</td>\n",
              "      <td>0.260717</td>\n",
              "    </tr>\n",
              "    <tr>\n",
              "      <th>04-kgpd_Div1</th>\n",
              "      <td>0.099119</td>\n",
              "      <td>0.096737</td>\n",
              "      <td>0.088709</td>\n",
              "      <td>0.063237</td>\n",
              "      <td>0.095840</td>\n",
              "      <td>0.091635</td>\n",
              "    </tr>\n",
              "    <tr>\n",
              "      <th>05-kgpd_Pow</th>\n",
              "      <td>0.108045</td>\n",
              "      <td>0.098307</td>\n",
              "      <td>0.081161</td>\n",
              "      <td>0.064898</td>\n",
              "      <td>0.079015</td>\n",
              "      <td>0.076962</td>\n",
              "    </tr>\n",
              "    <tr>\n",
              "      <th>06-kgpd_Mul1</th>\n",
              "      <td>0.098561</td>\n",
              "      <td>0.098475</td>\n",
              "      <td>0.082770</td>\n",
              "      <td>0.063557</td>\n",
              "      <td>0.087732</td>\n",
              "      <td>0.076762</td>\n",
              "    </tr>\n",
              "    <tr>\n",
              "      <th>07-kgpd_Exp</th>\n",
              "      <td>0.090019</td>\n",
              "      <td>0.087015</td>\n",
              "      <td>0.086282</td>\n",
              "      <td>0.088542</td>\n",
              "      <td>0.103798</td>\n",
              "      <td>0.087690</td>\n",
              "    </tr>\n",
              "    <tr>\n",
              "      <th>08-gpr_MatMul</th>\n",
              "      <td>0.100426</td>\n",
              "      <td>0.102766</td>\n",
              "      <td>0.106220</td>\n",
              "      <td>0.102751</td>\n",
              "      <td>0.069157</td>\n",
              "      <td>0.059617</td>\n",
              "    </tr>\n",
              "    <tr>\n",
              "      <th>09-gpr_Add</th>\n",
              "      <td>0.098425</td>\n",
              "      <td>0.096143</td>\n",
              "      <td>0.061836</td>\n",
              "      <td>0.018155</td>\n",
              "      <td>0.002462</td>\n",
              "      <td>0.000696</td>\n",
              "    </tr>\n",
              "  </tbody>\n",
              "</table>\n",
              "</div>"
            ],
            "text/plain": [
              "N                1         10        100       1000      10000     100000\n",
              "step                                                                     \n",
              "00-kgpd_CDist  0.114001  0.120884  0.128845  0.148042  0.156776  0.180377\n",
              "01-kgpd_Div    0.101792  0.098622  0.085983  0.085108  0.086603  0.084520\n",
              "02-kgpd_Mul    0.099980  0.097547  0.084001  0.064706  0.072849  0.081023\n",
              "03-kgpd_Sin    0.089632  0.103505  0.194194  0.301002  0.245769  0.260717\n",
              "04-kgpd_Div1   0.099119  0.096737  0.088709  0.063237  0.095840  0.091635\n",
              "05-kgpd_Pow    0.108045  0.098307  0.081161  0.064898  0.079015  0.076962\n",
              "06-kgpd_Mul1   0.098561  0.098475  0.082770  0.063557  0.087732  0.076762\n",
              "07-kgpd_Exp    0.090019  0.087015  0.086282  0.088542  0.103798  0.087690\n",
              "08-gpr_MatMul  0.100426  0.102766  0.106220  0.102751  0.069157  0.059617\n",
              "09-gpr_Add     0.098425  0.096143  0.061836  0.018155  0.002462  0.000696"
            ]
          },
          "execution_count": 31,
          "metadata": {},
          "output_type": "execute_result"
        }
      ],
      "source": [
        "try:\n",
        "    df = pandas.DataFrame(res[0]['bench-batch'])\n",
        "except KeyError as e:\n",
        "    print(\"No model available.\")\n",
        "    r, df = None, None\n",
        "if df is not None:\n",
        "    df['step'] = df.apply(lambda row: '{0:02d}-{1}'.format(row['i'], row[\"name\"]), axis=1)\n",
        "    pivort = df.pivot('step', 'N', 'time')\n",
        "    total = pivort.sum(axis=0)\n",
        "    r = pivort / total\n",
        "r"
      ]
    },
    {
      "cell_type": "code",
      "execution_count": 31,
      "metadata": {},
      "outputs": [
        {
          "data": {
            "image/png": "[encoded data removed]",
            "text/plain": [
              "<Figure size 1008x288 with 1 Axes>"
            ]
          },
          "metadata": {
            "needs_background": "light"
          },
          "output_type": "display_data"
        }
      ],
      "source": [
        "if r is not None:\n",
        "    ax = (pivort / total).T.plot(logx=True, figsize=(14, 4))\n",
        "    ax.set_ylim([0,1])\n",
        "    ax.set_title(\"Time spent in each node relatively to the total time\\nonnxtunime\");"
      ]
    },
    {
      "cell_type": "markdown",
      "metadata": {},
      "source": [
        "The results are relative. Let's see which runtime is best node by node."
      ]
    },
    {
      "cell_type": "code",
      "execution_count": 32,
      "metadata": {},
      "outputs": [
        {
          "data": {
            "text/html": [
              "<div>\n",
              "<style scoped>\n",
              "    .dataframe tbody tr th:only-of-type {\n",
              "        vertical-align: middle;\n",
              "    }\n",
              "\n",
              "    .dataframe tbody tr th {\n",
              "        vertical-align: top;\n",
              "    }\n",
              "\n",
              "    .dataframe thead th {\n",
              "        text-align: right;\n",
              "    }\n",
              "</style>\n",
              "<table border=\"1\" class=\"dataframe\">\n",
              "  <thead>\n",
              "    <tr style=\"text-align: right;\">\n",
              "      <th>N</th>\n",
              "      <th>1</th>\n",
              "      <th>10</th>\n",
              "      <th>100</th>\n",
              "      <th>1000</th>\n",
              "      <th>10000</th>\n",
              "      <th>100000</th>\n",
              "    </tr>\n",
              "    <tr>\n",
              "      <th>step</th>\n",
              "      <th></th>\n",
              "      <th></th>\n",
              "      <th></th>\n",
              "      <th></th>\n",
              "      <th></th>\n",
              "      <th></th>\n",
              "    </tr>\n",
              "  </thead>\n",
              "  <tbody>\n",
              "    <tr>\n",
              "      <th>00-kgpd_CDist</th>\n",
              "      <td>-0.239113</td>\n",
              "      <td>-0.367743</td>\n",
              "      <td>-0.630420</td>\n",
              "      <td>-0.703226</td>\n",
              "      <td>-0.677041</td>\n",
              "      <td>-0.631775</td>\n",
              "    </tr>\n",
              "    <tr>\n",
              "      <th>01-kgpd_Div</th>\n",
              "      <td>1.564119</td>\n",
              "      <td>1.308106</td>\n",
              "      <td>1.123155</td>\n",
              "      <td>2.333824</td>\n",
              "      <td>2.857590</td>\n",
              "      <td>2.223117</td>\n",
              "    </tr>\n",
              "    <tr>\n",
              "      <th>02-kgpd_Mul</th>\n",
              "      <td>2.473648</td>\n",
              "      <td>2.027773</td>\n",
              "      <td>2.149388</td>\n",
              "      <td>3.249448</td>\n",
              "      <td>2.624165</td>\n",
              "      <td>2.828025</td>\n",
              "    </tr>\n",
              "    <tr>\n",
              "      <th>03-kgpd_Sin</th>\n",
              "      <td>1.779780</td>\n",
              "      <td>0.881090</td>\n",
              "      <td>0.280401</td>\n",
              "      <td>0.216680</td>\n",
              "      <td>0.311288</td>\n",
              "      <td>0.427768</td>\n",
              "    </tr>\n",
              "    <tr>\n",
              "      <th>04-kgpd_Div1</th>\n",
              "      <td>2.331710</td>\n",
              "      <td>1.865534</td>\n",
              "      <td>1.411570</td>\n",
              "      <td>1.642922</td>\n",
              "      <td>4.321977</td>\n",
              "      <td>4.466249</td>\n",
              "    </tr>\n",
              "    <tr>\n",
              "      <th>05-kgpd_Pow</th>\n",
              "      <td>2.097502</td>\n",
              "      <td>-0.071724</td>\n",
              "      <td>-0.842765</td>\n",
              "      <td>-0.932321</td>\n",
              "      <td>-0.897065</td>\n",
              "      <td>-0.887837</td>\n",
              "    </tr>\n",
              "    <tr>\n",
              "      <th>06-kgpd_Mul1</th>\n",
              "      <td>2.563218</td>\n",
              "      <td>2.067909</td>\n",
              "      <td>1.842112</td>\n",
              "      <td>1.811019</td>\n",
              "      <td>4.263897</td>\n",
              "      <td>3.320524</td>\n",
              "    </tr>\n",
              "    <tr>\n",
              "      <th>07-kgpd_Exp</th>\n",
              "      <td>1.756911</td>\n",
              "      <td>0.384288</td>\n",
              "      <td>-0.599693</td>\n",
              "      <td>-0.759241</td>\n",
              "      <td>-0.657668</td>\n",
              "      <td>-0.644029</td>\n",
              "    </tr>\n",
              "    <tr>\n",
              "      <th>08-gpr_MatMul</th>\n",
              "      <td>0.517953</td>\n",
              "      <td>1.502798</td>\n",
              "      <td>1.965953</td>\n",
              "      <td>4.201281</td>\n",
              "      <td>4.281286</td>\n",
              "      <td>4.701255</td>\n",
              "    </tr>\n",
              "    <tr>\n",
              "      <th>09-gpr_Add</th>\n",
              "      <td>1.502111</td>\n",
              "      <td>1.461452</td>\n",
              "      <td>1.233097</td>\n",
              "      <td>1.247736</td>\n",
              "      <td>0.486358</td>\n",
              "      <td>1.160395</td>\n",
              "    </tr>\n",
              "  </tbody>\n",
              "</table>\n",
              "</div>"
            ],
            "text/plain": [
              "N                1         10        100       1000      10000     100000\n",
              "step                                                                     \n",
              "00-kgpd_CDist -0.239113 -0.367743 -0.630420 -0.703226 -0.677041 -0.631775\n",
              "01-kgpd_Div    1.564119  1.308106  1.123155  2.333824  2.857590  2.223117\n",
              "02-kgpd_Mul    2.473648  2.027773  2.149388  3.249448  2.624165  2.828025\n",
              "03-kgpd_Sin    1.779780  0.881090  0.280401  0.216680  0.311288  0.427768\n",
              "04-kgpd_Div1   2.331710  1.865534  1.411570  1.642922  4.321977  4.466249\n",
              "05-kgpd_Pow    2.097502 -0.071724 -0.842765 -0.932321 -0.897065 -0.887837\n",
              "06-kgpd_Mul1   2.563218  2.067909  1.842112  1.811019  4.263897  3.320524\n",
              "07-kgpd_Exp    1.756911  0.384288 -0.599693 -0.759241 -0.657668 -0.644029\n",
              "08-gpr_MatMul  0.517953  1.502798  1.965953  4.201281  4.281286  4.701255\n",
              "09-gpr_Add     1.502111  1.461452  1.233097  1.247736  0.486358  1.160395"
            ]
          },
          "execution_count": 33,
          "metadata": {},
          "output_type": "execute_result"
        }
      ],
      "source": [
        "if r is not None:\n",
        "    r = (pivort - pivpy) / pivpy\n",
        "r"
      ]
    },
    {
      "cell_type": "markdown",
      "metadata": {},
      "source": [
        "Based on this, *onnxruntime* is faster for operators *Scan*, *Pow*, *Exp* and slower for all the others."
      ]
    },
    {
      "cell_type": "markdown",
      "metadata": {},
      "source": [
        "## Measuring the time with a custom dataset\n",
        "\n",
        "We use the example [Comparison of kernel ridge and Gaussian process regression](https://scikit-learn.org/stable/auto_examples/gaussian_process/plot_compare_gpr_krr.html#sphx-glr-auto-examples-gaussian-process-plot-compare-gpr-krr-py)."
      ]
    },
    {
      "cell_type": "code",
      "execution_count": 33,
      "metadata": {},
      "outputs": [
        {
          "name": "stderr",
          "output_type": "stream",
          "text": [
            "C:\\xavierdupre\\__home_\\github_fork\\scikit-learn\\sklearn\\gaussian_process\\kernels.py:409: ConvergenceWarning: The optimal value found for dimension 0 of parameter length_scale is close to the specified lower bound 1e-05. Decreasing the bound and calling fit again may find a better value.\n",
            "  ConvergenceWarning)\n",
            "C:\\xavierdupre\\__home_\\github_fork\\scikit-learn\\sklearn\\gaussian_process\\kernels.py:418: ConvergenceWarning: The optimal value found for dimension 0 of parameter periodicity is close to the specified upper bound 10.0. Increasing the bound and calling fit again may find a better value.\n",
            "  ConvergenceWarning)\n"
          ]
        },
        {
          "data": {
            "text/plain": [
              "GaussianProcessRegressor(kernel=ExpSineSquared(length_scale=1, periodicity=5))"
            ]
          },
          "execution_count": 34,
          "metadata": {},
          "output_type": "execute_result"
        }
      ],
      "source": [
        "import numpy\n",
        "import pandas\n",
        "import matplotlib.pyplot as plt\n",
        "from sklearn.kernel_ridge import KernelRidge\n",
        "from sklearn.model_selection import GridSearchCV\n",
        "from sklearn.gaussian_process import GaussianProcessRegressor\n",
        "from sklearn.gaussian_process.kernels import WhiteKernel, ExpSineSquared\n",
        "\n",
        "rng = numpy.random.RandomState(0)\n",
        "\n",
        "# Generate sample data\n",
        "X = 15 * rng.rand(100, 1)\n",
        "y = numpy.sin(X).ravel()\n",
        "y += 3 * (0.5 - rng.rand(X.shape[0]))  # add noise\n",
        "\n",
        "gp_kernel = ExpSineSquared(1.0, 5.0, periodicity_bounds=(1e-2, 1e1))\n",
        "gpr = GaussianProcessRegressor(kernel=gp_kernel)\n",
        "gpr.fit(X, y)"
      ]
    },
    {
      "cell_type": "code",
      "execution_count": 34,
      "metadata": {
        "scrolled": false
      },
      "outputs": [
        {
          "data": {
            "text/html": [
              "<div id=\"M2b506ed3425a4240a66f7e1bb82a958c-cont\"><div id=\"M2b506ed3425a4240a66f7e1bb82a958c\" style=\"width:100%;height:100%;\"></div></div>\n",
              "<script>\n",
              "\n",
              "require(['http://www.xavierdupre.fr/js/vizjs/viz.js'], function() { var svgGraph = Viz(\"digraph{\\n  orientation=portrait;\\n  ranksep=0.25;\\n  nodesep=0.05;\\n\\n  X [shape=box color=red label=\\\"X\\ndouble((0, 4))\\\" fontsize=10];\\n\\n  GPmean [shape=box color=green label=\\\"GPmean\\ndouble((0, 1))\\\" fontsize=10];\\n\\n  Sc_Scancst [shape=box label=\\\"Sc_Scancst\\nfloat64((100, 1))\\n[[ 8.23220256]\\n [10.7278405 ]\\n [ 9.04145064]\\n [ 8....\\\" fontsize=10];\\n  kgpd_Divcst [shape=box label=\\\"kgpd_Divcst\\nfloat64((1,))\\n[10.]\\\" fontsize=10];\\n  kgpd_Mulcst [shape=box label=\\\"kgpd_Mulcst\\nfloat64((1,))\\n[3.14159265]\\\" fontsize=10];\\n  kgpd_Divcst1 [shape=box label=\\\"kgpd_Divcst1\\nfloat64((1,))\\n[1.e-05]\\\" fontsize=10];\\n  kgpd_Powcst [shape=box label=\\\"kgpd_Powcst\\nfloat64((1,))\\n[2.]\\\" fontsize=10];\\n  kgpd_Mulcst1 [shape=box label=\\\"kgpd_Mulcst1\\nfloat64((1,))\\n[-2.]\\\" fontsize=10];\\n  gpr_MatMulcst [shape=box label=\\\"gpr_MatMulcst\\nfloat64((100,))\\n[ 3.95873450e-01 -2.74396810e-01 -3.31573692e-01 -...\\\" fontsize=10];\\n  gpr_Addcst [shape=box label=\\\"gpr_Addcst\\nfloat64((1, 1))\\n[[0.]]\\\" fontsize=10];\\n\\n  scan0 [shape=box label=\\\"scan0\\\" fontsize=10];\\n  scan1 [shape=box label=\\\"scan1\\\" fontsize=10];\\n  subgraph cluster_Scan2468478552544 {\\n    label=\\\"Scan\\n(Sc_Scan)\\nbody=node {\\n  input: 'next_in'...\\nnum_scan_inputs=1\\\";\\n    fontsize=10;\\n    color=black;\\n    B_next_in [shape=box color=red label=\\\"next_in\\ndouble(('?',))\\\" fontsize=10];\\n    B_next [shape=box color=red label=\\\"next\\ndouble(('?',))\\\" fontsize=10];\\n  \\n    B_next_out [shape=box color=green label=\\\"next_out\\ndouble(('?',))\\\" fontsize=10];\\n    B_scan_out [shape=box color=green label=\\\"scan_out\\ndouble(('?',))\\\" fontsize=10];\\n  \\n  \\n    B_cdistd_Identity [shape=box style=\\\"filled,rounded\\\" color=orange label=\\\"Identity\\n(cdistd_Identity)\\\" fontsize=10];\\n    B_next_in -> B_cdistd_Identity;\\n    B_cdistd_Identity -> B_next_out;\\n  \\n    B_diff [shape=box label=\\\"diff\\\" fontsize=10];\\n    B_Su_Sub [shape=box style=\\\"filled,rounded\\\" color=orange label=\\\"Sub\\n(Su_Sub)\\\" fontsize=10];\\n    B_next_in -> B_Su_Sub;\\n    B_next -> B_Su_Sub;\\n    B_Su_Sub -> B_diff;\\n  \\n    B_Re_ReduceSumSquare [shape=box style=\\\"filled,rounded\\\" color=orange label=\\\"ReduceSumSquare\\n(Re_ReduceSumSquare)\\naxes=[1]\\nkeepdims=0\\\" fontsize=10];\\n    B_diff -> B_Re_ReduceSumSquare;\\n    B_Re_ReduceSumSquare -> B_scan_out;\\n  }\\n  X -> B_next_in;\\n  Sc_Scancst -> B_next;\\n  B_next_out -> scan0;\\n  B_scan_out -> scan1;\\n\\n  kgpd_transposed0 [shape=box label=\\\"kgpd_transposed0\\\" fontsize=10];\\n  kgpd_Transpose [shape=box style=\\\"filled,rounded\\\" color=orange label=\\\"Transpose\\n(kgpd_Transpose)\\nperm=[1 0]\\\" fontsize=10];\\n  scan1 -> kgpd_Transpose;\\n  kgpd_Transpose -> kgpd_transposed0;\\n\\n  kgpd_Y0 [shape=box label=\\\"kgpd_Y0\\\" fontsize=10];\\n  kgpd_Sqrt [shape=box style=\\\"filled,rounded\\\" color=orange label=\\\"Sqrt\\n(kgpd_Sqrt)\\\" fontsize=10];\\n  kgpd_transposed0 -> kgpd_Sqrt;\\n  kgpd_Sqrt -> kgpd_Y0;\\n\\n  kgpd_C03 [shape=box label=\\\"kgpd_C03\\\" fontsize=10];\\n  kgpd_Div [shape=box style=\\\"filled,rounded\\\" color=orange label=\\\"Div\\n(kgpd_Div)\\\" fontsize=10];\\n  kgpd_Y0 -> kgpd_Div;\\n  kgpd_Divcst -> kgpd_Div;\\n  kgpd_Div -> kgpd_C03;\\n\\n  kgpd_C02 [shape=box label=\\\"kgpd_C02\\\" fontsize=10];\\n  kgpd_Mul [shape=box style=\\\"filled,rounded\\\" color=orange label=\\\"Mul\\n(kgpd_Mul)\\\" fontsize=10];\\n  kgpd_C03 -> kgpd_Mul;\\n  kgpd_Mulcst -> kgpd_Mul;\\n  kgpd_Mul -> kgpd_C02;\\n\\n  kgpd_output02 [shape=box label=\\\"kgpd_output02\\\" fontsize=10];\\n  kgpd_Sin [shape=box style=\\\"filled,rounded\\\" color=orange label=\\\"Sin\\n(kgpd_Sin)\\\" fontsize=10];\\n  kgpd_C02 -> kgpd_Sin;\\n  kgpd_Sin -> kgpd_output02;\\n\\n  kgpd_C01 [shape=box label=\\\"kgpd_C01\\\" fontsize=10];\\n  kgpd_Div1 [shape=box style=\\\"filled,rounded\\\" color=orange label=\\\"Div\\n(kgpd_Div1)\\\" fontsize=10];\\n  kgpd_output02 -> kgpd_Div1;\\n  kgpd_Divcst1 -> kgpd_Div1;\\n  kgpd_Div1 -> kgpd_C01;\\n\\n  kgpd_Z0 [shape=box label=\\\"kgpd_Z0\\\" fontsize=10];\\n  kgpd_Pow [shape=box style=\\\"filled,rounded\\\" color=orange label=\\\"Pow\\n(kgpd_Pow)\\\" fontsize=10];\\n  kgpd_C01 -> kgpd_Pow;\\n  kgpd_Powcst -> kgpd_Pow;\\n  kgpd_Pow -> kgpd_Z0;\\n\\n  kgpd_C0 [shape=box label=\\\"kgpd_C0\\\" fontsize=10];\\n  kgpd_Mul1 [shape=box style=\\\"filled,rounded\\\" color=orange label=\\\"Mul\\n(kgpd_Mul1)\\\" fontsize=10];\\n  kgpd_Z0 -> kgpd_Mul1;\\n  kgpd_Mulcst1 -> kgpd_Mul1;\\n  kgpd_Mul1 -> kgpd_C0;\\n\\n  kgpd_output01 [shape=box label=\\\"kgpd_output01\\\" fontsize=10];\\n  kgpd_Exp [shape=box style=\\\"filled,rounded\\\" color=orange label=\\\"Exp\\n(kgpd_Exp)\\\" fontsize=10];\\n  kgpd_C0 -> kgpd_Exp;\\n  kgpd_Exp -> kgpd_output01;\\n\\n  gpr_Y0 [shape=box label=\\\"gpr_Y0\\\" fontsize=10];\\n  gpr_MatMul [shape=box style=\\\"filled,rounded\\\" color=orange label=\\\"MatMul\\n(gpr_MatMul)\\\" fontsize=10];\\n  kgpd_output01 -> gpr_MatMul;\\n  gpr_MatMulcst -> gpr_MatMul;\\n  gpr_MatMul -> gpr_Y0;\\n\\n  gpr_Add [shape=box style=\\\"filled,rounded\\\" color=orange label=\\\"Add\\n(gpr_Add)\\\" fontsize=10];\\n  gpr_Y0 -> gpr_Add;\\n  gpr_Addcst -> gpr_Add;\\n  gpr_Add -> GPmean;\\n}\");\n",
              "document.getElementById('M2b506ed3425a4240a66f7e1bb82a958c').innerHTML = svgGraph; });\n",
              "\n",
              "</script>"
            ],
            "text/plain": [
              "<jyquickhelper.jspy.render_nb_js_dot.RenderJsDot at 0x23eb2856cc0>"
            ]
          },
          "execution_count": 35,
          "metadata": {},
          "output_type": "execute_result"
        }
      ],
      "source": [
        "onx = to_onnx(gpr, X_test.astype(numpy.float64))\n",
        "with open(\"gpr_time.onnx\", \"wb\") as f:\n",
        "    f.write(onx.SerializeToString())\n",
        "%onnxview onx -r 1"
      ]
    },
    {
      "cell_type": "code",
      "execution_count": 35,
      "metadata": {},
      "outputs": [],
      "source": [
        "from mlprodict.tools import get_ir_version_from_onnx\n",
        "onx.ir_version = get_ir_version_from_onnx()"
      ]
    },
    {
      "cell_type": "code",
      "execution_count": 36,
      "metadata": {
        "scrolled": false
      },
      "outputs": [],
      "source": [
        "oinfpy = OnnxInference(onx, runtime=\"python\")\n",
        "oinfort = OnnxInference(onx, runtime=\"onnxruntime2\")"
      ]
    },
    {
      "cell_type": "markdown",
      "metadata": {},
      "source": [
        "``runtime==onnxruntime2`` tells the class ``OnnxInference`` to use *onnxruntime* for every node independently, there are as many calls as there are nodes in the graph."
      ]
    },
    {
      "cell_type": "code",
      "execution_count": 37,
      "metadata": {},
      "outputs": [],
      "source": [
        "respy = oinfpy.run({'X': X_test}, node_time=True)\n",
        "try:\n",
        "    resort = oinfort.run({'X': X_test}, node_time=True)\n",
        "except Exception as e:\n",
        "    print(e)\n",
        "    resort = None"
      ]
    },
    {
      "cell_type": "code",
      "execution_count": 38,
      "metadata": {},
      "outputs": [
        {
          "data": {
            "text/html": [
              "<div>\n",
              "<style scoped>\n",
              "    .dataframe tbody tr th:only-of-type {\n",
              "        vertical-align: middle;\n",
              "    }\n",
              "\n",
              "    .dataframe tbody tr th {\n",
              "        vertical-align: top;\n",
              "    }\n",
              "\n",
              "    .dataframe thead th {\n",
              "        text-align: right;\n",
              "    }\n",
              "</style>\n",
              "<table border=\"1\" class=\"dataframe\">\n",
              "  <thead>\n",
              "    <tr style=\"text-align: right;\">\n",
              "      <th></th>\n",
              "      <th>i</th>\n",
              "      <th>name</th>\n",
              "      <th>op_type</th>\n",
              "      <th>time_py</th>\n",
              "      <th>time_ort</th>\n",
              "      <th>delta</th>\n",
              "    </tr>\n",
              "  </thead>\n",
              "  <tbody>\n",
              "    <tr>\n",
              "      <th>0</th>\n",
              "      <td>0</td>\n",
              "      <td>Sc_Scan</td>\n",
              "      <td>Scan</td>\n",
              "      <td>0.007998</td>\n",
              "      <td>0.005970</td>\n",
              "      <td>-0.002028</td>\n",
              "    </tr>\n",
              "    <tr>\n",
              "      <th>1</th>\n",
              "      <td>1</td>\n",
              "      <td>kgpd_Transpose</td>\n",
              "      <td>Transpose</td>\n",
              "      <td>0.000032</td>\n",
              "      <td>0.000599</td>\n",
              "      <td>0.000567</td>\n",
              "    </tr>\n",
              "    <tr>\n",
              "      <th>2</th>\n",
              "      <td>2</td>\n",
              "      <td>kgpd_Sqrt</td>\n",
              "      <td>Sqrt</td>\n",
              "      <td>0.000063</td>\n",
              "      <td>0.000112</td>\n",
              "      <td>0.000049</td>\n",
              "    </tr>\n",
              "    <tr>\n",
              "      <th>3</th>\n",
              "      <td>3</td>\n",
              "      <td>kgpd_Div</td>\n",
              "      <td>Div</td>\n",
              "      <td>0.000143</td>\n",
              "      <td>0.000097</td>\n",
              "      <td>-0.000045</td>\n",
              "    </tr>\n",
              "    <tr>\n",
              "      <th>4</th>\n",
              "      <td>4</td>\n",
              "      <td>kgpd_Mul</td>\n",
              "      <td>Mul</td>\n",
              "      <td>0.000038</td>\n",
              "      <td>0.000321</td>\n",
              "      <td>0.000283</td>\n",
              "    </tr>\n",
              "    <tr>\n",
              "      <th>5</th>\n",
              "      <td>5</td>\n",
              "      <td>kgpd_Sin</td>\n",
              "      <td>Sin</td>\n",
              "      <td>0.000095</td>\n",
              "      <td>0.000146</td>\n",
              "      <td>0.000051</td>\n",
              "    </tr>\n",
              "    <tr>\n",
              "      <th>6</th>\n",
              "      <td>6</td>\n",
              "      <td>kgpd_Div1</td>\n",
              "      <td>Div</td>\n",
              "      <td>0.000027</td>\n",
              "      <td>0.000096</td>\n",
              "      <td>0.000069</td>\n",
              "    </tr>\n",
              "    <tr>\n",
              "      <th>7</th>\n",
              "      <td>7</td>\n",
              "      <td>kgpd_Pow</td>\n",
              "      <td>Pow</td>\n",
              "      <td>0.000299</td>\n",
              "      <td>0.000104</td>\n",
              "      <td>-0.000196</td>\n",
              "    </tr>\n",
              "    <tr>\n",
              "      <th>8</th>\n",
              "      <td>8</td>\n",
              "      <td>kgpd_Mul1</td>\n",
              "      <td>Mul</td>\n",
              "      <td>0.000032</td>\n",
              "      <td>0.000097</td>\n",
              "      <td>0.000065</td>\n",
              "    </tr>\n",
              "    <tr>\n",
              "      <th>9</th>\n",
              "      <td>9</td>\n",
              "      <td>kgpd_Exp</td>\n",
              "      <td>Exp</td>\n",
              "      <td>0.000383</td>\n",
              "      <td>0.000111</td>\n",
              "      <td>-0.000271</td>\n",
              "    </tr>\n",
              "    <tr>\n",
              "      <th>10</th>\n",
              "      <td>10</td>\n",
              "      <td>gpr_MatMul</td>\n",
              "      <td>MatMul</td>\n",
              "      <td>0.000080</td>\n",
              "      <td>0.004359</td>\n",
              "      <td>0.004279</td>\n",
              "    </tr>\n",
              "    <tr>\n",
              "      <th>11</th>\n",
              "      <td>11</td>\n",
              "      <td>gpr_Add</td>\n",
              "      <td>Add</td>\n",
              "      <td>0.000034</td>\n",
              "      <td>0.000165</td>\n",
              "      <td>0.000131</td>\n",
              "    </tr>\n",
              "  </tbody>\n",
              "</table>\n",
              "</div>"
            ],
            "text/plain": [
              "     i            name    op_type   time_py  time_ort     delta\n",
              "0    0         Sc_Scan       Scan  0.007998  0.005970 -0.002028\n",
              "1    1  kgpd_Transpose  Transpose  0.000032  0.000599  0.000567\n",
              "2    2       kgpd_Sqrt       Sqrt  0.000063  0.000112  0.000049\n",
              "3    3        kgpd_Div        Div  0.000143  0.000097 -0.000045\n",
              "4    4        kgpd_Mul        Mul  0.000038  0.000321  0.000283\n",
              "5    5        kgpd_Sin        Sin  0.000095  0.000146  0.000051\n",
              "6    6       kgpd_Div1        Div  0.000027  0.000096  0.000069\n",
              "7    7        kgpd_Pow        Pow  0.000299  0.000104 -0.000196\n",
              "8    8       kgpd_Mul1        Mul  0.000032  0.000097  0.000065\n",
              "9    9        kgpd_Exp        Exp  0.000383  0.000111 -0.000271\n",
              "10  10      gpr_MatMul     MatMul  0.000080  0.004359  0.004279\n",
              "11  11         gpr_Add        Add  0.000034  0.000165  0.000131"
            ]
          },
          "execution_count": 39,
          "metadata": {},
          "output_type": "execute_result"
        }
      ],
      "source": [
        "if resort is not None:\n",
        "    df = pandas.DataFrame(respy[1]).merge(pandas.DataFrame(resort[1]), on=[\"i\", \"name\", \"op_type\"],\n",
        "                                        suffixes=(\"_py\", \"_ort\"))\n",
        "    df['delta'] = df.time_ort - df.time_py\n",
        "else:\n",
        "    df = None\n",
        "df"
      ]
    },
    {
      "cell_type": "markdown",
      "metadata": {},
      "source": [
        "The following function runs multiple the same inference and aggregates the results node by node."
      ]
    },
    {
      "cell_type": "code",
      "execution_count": 39,
      "metadata": {},
      "outputs": [],
      "source": [
        "from mlprodict.onnxrt.validate.validate import benchmark_fct\n",
        "res = benchmark_fct(lambda X: oinfpy.run({'X': X_test}, node_time=True), \n",
        "                    X_test, node_time=True)"
      ]
    },
    {
      "cell_type": "code",
      "execution_count": 40,
      "metadata": {},
      "outputs": [
        {
          "data": {
            "text/html": [
              "<div>\n",
              "<style scoped>\n",
              "    .dataframe tbody tr th:only-of-type {\n",
              "        vertical-align: middle;\n",
              "    }\n",
              "\n",
              "    .dataframe tbody tr th {\n",
              "        vertical-align: top;\n",
              "    }\n",
              "\n",
              "    .dataframe thead th {\n",
              "        text-align: right;\n",
              "    }\n",
              "</style>\n",
              "<table border=\"1\" class=\"dataframe\">\n",
              "  <thead>\n",
              "    <tr style=\"text-align: right;\">\n",
              "      <th></th>\n",
              "      <th>i</th>\n",
              "      <th>name</th>\n",
              "      <th>op_type</th>\n",
              "      <th>time</th>\n",
              "      <th>N</th>\n",
              "      <th>max_time</th>\n",
              "      <th>min_time</th>\n",
              "      <th>repeat</th>\n",
              "      <th>number</th>\n",
              "    </tr>\n",
              "  </thead>\n",
              "  <tbody>\n",
              "    <tr>\n",
              "      <th>24</th>\n",
              "      <td>0</td>\n",
              "      <td>Sc_Scan</td>\n",
              "      <td>Scan</td>\n",
              "      <td>0.004154</td>\n",
              "      <td>100</td>\n",
              "      <td>0.004330</td>\n",
              "      <td>0.003843</td>\n",
              "      <td>10</td>\n",
              "      <td>8</td>\n",
              "    </tr>\n",
              "    <tr>\n",
              "      <th>25</th>\n",
              "      <td>1</td>\n",
              "      <td>kgpd_Transpose</td>\n",
              "      <td>Transpose</td>\n",
              "      <td>0.000013</td>\n",
              "      <td>100</td>\n",
              "      <td>0.000019</td>\n",
              "      <td>0.000010</td>\n",
              "      <td>10</td>\n",
              "      <td>8</td>\n",
              "    </tr>\n",
              "    <tr>\n",
              "      <th>26</th>\n",
              "      <td>2</td>\n",
              "      <td>kgpd_Sqrt</td>\n",
              "      <td>Sqrt</td>\n",
              "      <td>0.000018</td>\n",
              "      <td>100</td>\n",
              "      <td>0.000022</td>\n",
              "      <td>0.000015</td>\n",
              "      <td>10</td>\n",
              "      <td>8</td>\n",
              "    </tr>\n",
              "    <tr>\n",
              "      <th>27</th>\n",
              "      <td>3</td>\n",
              "      <td>kgpd_Div</td>\n",
              "      <td>Div</td>\n",
              "      <td>0.000025</td>\n",
              "      <td>100</td>\n",
              "      <td>0.000092</td>\n",
              "      <td>0.000015</td>\n",
              "      <td>10</td>\n",
              "      <td>8</td>\n",
              "    </tr>\n",
              "    <tr>\n",
              "      <th>28</th>\n",
              "      <td>4</td>\n",
              "      <td>kgpd_Mul</td>\n",
              "      <td>Mul</td>\n",
              "      <td>0.000012</td>\n",
              "      <td>100</td>\n",
              "      <td>0.000019</td>\n",
              "      <td>0.000009</td>\n",
              "      <td>10</td>\n",
              "      <td>8</td>\n",
              "    </tr>\n",
              "    <tr>\n",
              "      <th>29</th>\n",
              "      <td>5</td>\n",
              "      <td>kgpd_Sin</td>\n",
              "      <td>Sin</td>\n",
              "      <td>0.000057</td>\n",
              "      <td>100</td>\n",
              "      <td>0.000070</td>\n",
              "      <td>0.000050</td>\n",
              "      <td>10</td>\n",
              "      <td>8</td>\n",
              "    </tr>\n",
              "    <tr>\n",
              "      <th>30</th>\n",
              "      <td>6</td>\n",
              "      <td>kgpd_Div1</td>\n",
              "      <td>Div</td>\n",
              "      <td>0.000014</td>\n",
              "      <td>100</td>\n",
              "      <td>0.000017</td>\n",
              "      <td>0.000011</td>\n",
              "      <td>10</td>\n",
              "      <td>8</td>\n",
              "    </tr>\n",
              "    <tr>\n",
              "      <th>31</th>\n",
              "      <td>7</td>\n",
              "      <td>kgpd_Pow</td>\n",
              "      <td>Pow</td>\n",
              "      <td>0.000172</td>\n",
              "      <td>100</td>\n",
              "      <td>0.000198</td>\n",
              "      <td>0.000155</td>\n",
              "      <td>10</td>\n",
              "      <td>8</td>\n",
              "    </tr>\n",
              "    <tr>\n",
              "      <th>32</th>\n",
              "      <td>8</td>\n",
              "      <td>kgpd_Mul1</td>\n",
              "      <td>Mul</td>\n",
              "      <td>0.000020</td>\n",
              "      <td>100</td>\n",
              "      <td>0.000101</td>\n",
              "      <td>0.000009</td>\n",
              "      <td>10</td>\n",
              "      <td>8</td>\n",
              "    </tr>\n",
              "    <tr>\n",
              "      <th>33</th>\n",
              "      <td>9</td>\n",
              "      <td>kgpd_Exp</td>\n",
              "      <td>Exp</td>\n",
              "      <td>0.000213</td>\n",
              "      <td>100</td>\n",
              "      <td>0.000249</td>\n",
              "      <td>0.000193</td>\n",
              "      <td>10</td>\n",
              "      <td>8</td>\n",
              "    </tr>\n",
              "    <tr>\n",
              "      <th>34</th>\n",
              "      <td>10</td>\n",
              "      <td>gpr_MatMul</td>\n",
              "      <td>MatMul</td>\n",
              "      <td>0.000034</td>\n",
              "      <td>100</td>\n",
              "      <td>0.000047</td>\n",
              "      <td>0.000026</td>\n",
              "      <td>10</td>\n",
              "      <td>8</td>\n",
              "    </tr>\n",
              "    <tr>\n",
              "      <th>35</th>\n",
              "      <td>11</td>\n",
              "      <td>gpr_Add</td>\n",
              "      <td>Add</td>\n",
              "      <td>0.000013</td>\n",
              "      <td>100</td>\n",
              "      <td>0.000019</td>\n",
              "      <td>0.000011</td>\n",
              "      <td>10</td>\n",
              "      <td>8</td>\n",
              "    </tr>\n",
              "  </tbody>\n",
              "</table>\n",
              "</div>"
            ],
            "text/plain": [
              "     i            name    op_type      time    N  max_time  min_time  repeat  \\\n",
              "24   0         Sc_Scan       Scan  0.004154  100  0.004330  0.003843      10   \n",
              "25   1  kgpd_Transpose  Transpose  0.000013  100  0.000019  0.000010      10   \n",
              "26   2       kgpd_Sqrt       Sqrt  0.000018  100  0.000022  0.000015      10   \n",
              "27   3        kgpd_Div        Div  0.000025  100  0.000092  0.000015      10   \n",
              "28   4        kgpd_Mul        Mul  0.000012  100  0.000019  0.000009      10   \n",
              "29   5        kgpd_Sin        Sin  0.000057  100  0.000070  0.000050      10   \n",
              "30   6       kgpd_Div1        Div  0.000014  100  0.000017  0.000011      10   \n",
              "31   7        kgpd_Pow        Pow  0.000172  100  0.000198  0.000155      10   \n",
              "32   8       kgpd_Mul1        Mul  0.000020  100  0.000101  0.000009      10   \n",
              "33   9        kgpd_Exp        Exp  0.000213  100  0.000249  0.000193      10   \n",
              "34  10      gpr_MatMul     MatMul  0.000034  100  0.000047  0.000026      10   \n",
              "35  11         gpr_Add        Add  0.000013  100  0.000019  0.000011      10   \n",
              "\n",
              "    number  \n",
              "24       8  \n",
              "25       8  \n",
              "26       8  \n",
              "27       8  \n",
              "28       8  \n",
              "29       8  \n",
              "30       8  \n",
              "31       8  \n",
              "32       8  \n",
              "33       8  \n",
              "34       8  \n",
              "35       8  "
            ]
          },
          "execution_count": 41,
          "metadata": {},
          "output_type": "execute_result"
        }
      ],
      "source": [
        "df = pandas.DataFrame(res)\n",
        "df[df.N == 100]"
      ]
    },
    {
      "cell_type": "code",
      "execution_count": 41,
      "metadata": {},
      "outputs": [],
      "source": [
        "df100 = df[df.N == 100]"
      ]
    },
    {
      "cell_type": "code",
      "execution_count": 42,
      "metadata": {},
      "outputs": [],
      "source": [
        "%matplotlib inline"
      ]
    },
    {
      "cell_type": "code",
      "execution_count": 43,
      "metadata": {},
      "outputs": [
        {
          "data": {
            "image/png": "[encoded data removed]",
            "text/plain": [
              "<Figure size 1008x288 with 1 Axes>"
            ]
          },
          "metadata": {
            "needs_background": "light"
          },
          "output_type": "display_data"
        }
      ],
      "source": [
        "fig, ax = plt.subplots(1, 1, figsize=(14, 4))\n",
        "ax.bar(df100.i, df100.time, align='center', color='orange')\n",
        "ax.set_xticks(df100.i)\n",
        "ax.set_yscale('log')\n",
        "ax.set_xticklabels(df100.op_type)\n",
        "ax.errorbar(df100.i, df100.time, \n",
        "            numpy.abs(df100[[\"min_time\", \"max_time\"]].T.values - df100.time.values.ravel()),\n",
        "            uplims=True, lolims=True, color='blue')\n",
        "ax.set_title(\"Time spent in each node for 100 observations\\nGaussianProcess\");"
      ]
    },
    {
      "cell_type": "code",
      "execution_count": 44,
      "metadata": {},
      "outputs": [],
      "source": [
        "df100c = df100.cumsum()"
      ]
    },
    {
      "cell_type": "code",
      "execution_count": 45,
      "metadata": {},
      "outputs": [
        {
          "data": {
            "image/png": "[encoded data removed]",
            "text/plain": [
              "<Figure size 1008x288 with 1 Axes>"
            ]
          },
          "metadata": {
            "needs_background": "light"
          },
          "output_type": "display_data"
        }
      ],
      "source": [
        "fig, ax = plt.subplots(1, 1, figsize=(14, 4))\n",
        "ax.bar(df100.i, df100c.time, align='center', color='orange')\n",
        "ax.set_xticks(df100.i)\n",
        "#ax.set_yscale('log')\n",
        "ax.set_ylim([df100c.min_time.min(), df100c.max_time.max()])\n",
        "ax.set_xticklabels(df100.op_type)\n",
        "ax.errorbar(df100.i, df100c.time, \n",
        "            numpy.abs((df100c[[\"min_time\", \"max_time\"]].T.values - df100c.time.values.ravel())),\n",
        "            uplims=True, lolims=True)\n",
        "ax.set_title(\"Cumulated time spent in each node for 100 observations\\nGaussianProcess\");"
      ]
    },
    {
      "cell_type": "markdown",
      "metadata": {},
      "source": [
        "## onnxruntime2 / onnxruntime1\n",
        "\n",
        "The runtime ``onnxruntime1`` uses *onnxruntime* for the whole ONNX graph. There is no way to get the computation time for each node except if we create a ONNX graph for each intermediate node."
      ]
    },
    {
      "cell_type": "code",
      "execution_count": 46,
      "metadata": {},
      "outputs": [],
      "source": [
        "oinfort1 = OnnxInference(onx, runtime='onnxruntime1')"
      ]
    },
    {
      "cell_type": "code",
      "execution_count": 47,
      "metadata": {},
      "outputs": [
        {
          "data": {
            "text/plain": [
              "OrderedDict([('scan0', OnnxInference(...)),\n",
              "             ('scan1', OnnxInference(...)),\n",
              "             ('kgpd_transposed0', OnnxInference(...)),\n",
              "             ('kgpd_Y0', OnnxInference(...)),\n",
              "             ('kgpd_C03', OnnxInference(...)),\n",
              "             ('kgpd_C02', OnnxInference(...)),\n",
              "             ('kgpd_output02', OnnxInference(...)),\n",
              "             ('kgpd_C01', OnnxInference(...)),\n",
              "             ('kgpd_Z0', OnnxInference(...)),\n",
              "             ('kgpd_C0', OnnxInference(...)),\n",
              "             ('kgpd_output01', OnnxInference(...)),\n",
              "             ('gpr_Y0', OnnxInference(...)),\n",
              "             ('GPmean', OnnxInference(...))])"
            ]
          },
          "execution_count": 48,
          "metadata": {},
          "output_type": "execute_result"
        }
      ],
      "source": [
        "split = oinfort1.build_intermediate()\n",
        "split"
      ]
    },
    {
      "cell_type": "code",
      "execution_count": 48,
      "metadata": {},
      "outputs": [
        {
          "name": "stdout",
          "output_type": "stream",
          "text": [
            "node scan0\n",
            "node scan1\n",
            "node kgpd_transposed0\n",
            "node kgpd_Y0\n",
            "node kgpd_C03\n",
            "node kgpd_C02\n",
            "node kgpd_output02\n",
            "node kgpd_C01\n",
            "node kgpd_Z0\n",
            "node kgpd_C0\n",
            "node kgpd_output01\n",
            "node gpr_Y0\n",
            "node GPmean\n"
          ]
        }
      ],
      "source": [
        "dfs = []\n",
        "for k, v in split.items():\n",
        "    print(\"node\", k)\n",
        "    res = benchmark_fct(lambda x: v.run({'X': x}), X_test)\n",
        "    df = pandas.DataFrame(res)\n",
        "    df['name'] = k\n",
        "    dfs.append(df.reset_index(drop=False))"
      ]
    },
    {
      "cell_type": "code",
      "execution_count": 49,
      "metadata": {},
      "outputs": [
        {
          "data": {
            "text/html": [
              "<div>\n",
              "<style scoped>\n",
              "    .dataframe tbody tr th:only-of-type {\n",
              "        vertical-align: middle;\n",
              "    }\n",
              "\n",
              "    .dataframe tbody tr th {\n",
              "        vertical-align: top;\n",
              "    }\n",
              "\n",
              "    .dataframe thead th {\n",
              "        text-align: right;\n",
              "    }\n",
              "</style>\n",
              "<table border=\"1\" class=\"dataframe\">\n",
              "  <thead>\n",
              "    <tr style=\"text-align: right;\">\n",
              "      <th></th>\n",
              "      <th>index</th>\n",
              "      <th>1</th>\n",
              "      <th>10</th>\n",
              "      <th>100</th>\n",
              "      <th>1000</th>\n",
              "      <th>10000</th>\n",
              "      <th>100000</th>\n",
              "      <th>name</th>\n",
              "    </tr>\n",
              "  </thead>\n",
              "  <tbody>\n",
              "    <tr>\n",
              "      <th>0</th>\n",
              "      <td>average</td>\n",
              "      <td>0.000623</td>\n",
              "      <td>0.000592</td>\n",
              "      <td>0.000754</td>\n",
              "      <td>0.002202</td>\n",
              "      <td>0.017529</td>\n",
              "      <td>0.201192</td>\n",
              "      <td>scan0</td>\n",
              "    </tr>\n",
              "    <tr>\n",
              "      <th>1</th>\n",
              "      <td>deviation</td>\n",
              "      <td>0.000115</td>\n",
              "      <td>0.000030</td>\n",
              "      <td>0.000034</td>\n",
              "      <td>0.000026</td>\n",
              "      <td>0.000976</td>\n",
              "      <td>0.000000</td>\n",
              "      <td>scan0</td>\n",
              "    </tr>\n",
              "    <tr>\n",
              "      <th>2</th>\n",
              "      <td>min_exec</td>\n",
              "      <td>0.000541</td>\n",
              "      <td>0.000537</td>\n",
              "      <td>0.000657</td>\n",
              "      <td>0.002169</td>\n",
              "      <td>0.016677</td>\n",
              "      <td>0.201192</td>\n",
              "      <td>scan0</td>\n",
              "    </tr>\n",
              "    <tr>\n",
              "      <th>3</th>\n",
              "      <td>max_exec</td>\n",
              "      <td>0.000980</td>\n",
              "      <td>0.000639</td>\n",
              "      <td>0.000780</td>\n",
              "      <td>0.002239</td>\n",
              "      <td>0.018896</td>\n",
              "      <td>0.201192</td>\n",
              "      <td>scan0</td>\n",
              "    </tr>\n",
              "    <tr>\n",
              "      <th>4</th>\n",
              "      <td>repeat</td>\n",
              "      <td>20.000000</td>\n",
              "      <td>20.000000</td>\n",
              "      <td>10.000000</td>\n",
              "      <td>5.000000</td>\n",
              "      <td>3.000000</td>\n",
              "      <td>1.000000</td>\n",
              "      <td>scan0</td>\n",
              "    </tr>\n",
              "  </tbody>\n",
              "</table>\n",
              "</div>"
            ],
            "text/plain": [
              "       index          1         10        100      1000     10000    100000  \\\n",
              "0    average   0.000623   0.000592   0.000754  0.002202  0.017529  0.201192   \n",
              "1  deviation   0.000115   0.000030   0.000034  0.000026  0.000976  0.000000   \n",
              "2   min_exec   0.000541   0.000537   0.000657  0.002169  0.016677  0.201192   \n",
              "3   max_exec   0.000980   0.000639   0.000780  0.002239  0.018896  0.201192   \n",
              "4     repeat  20.000000  20.000000  10.000000  5.000000  3.000000  1.000000   \n",
              "\n",
              "    name  \n",
              "0  scan0  \n",
              "1  scan0  \n",
              "2  scan0  \n",
              "3  scan0  \n",
              "4  scan0  "
            ]
          },
          "execution_count": 50,
          "metadata": {},
          "output_type": "execute_result"
        }
      ],
      "source": [
        "df = pandas.concat(dfs)\n",
        "df.head()"
      ]
    },
    {
      "cell_type": "code",
      "execution_count": 50,
      "metadata": {},
      "outputs": [],
      "source": [
        "df100c = df[df['index'] == \"average\"]\n",
        "df100c_min = df[df['index'] == \"min_exec\"]\n",
        "df100c_max = df[df['index'] == \"max_exec\"]\n",
        "ave = df100c.iloc[:, 4]\n",
        "ave_min = df100c_min.iloc[:, 4]\n",
        "ave_max = df100c_max.iloc[:, 4]\n",
        "ave.shape, ave_min.shape, ave_max.shape\n",
        "index = numpy.arange(ave.shape[0])"
      ]
    },
    {
      "cell_type": "code",
      "execution_count": 51,
      "metadata": {},
      "outputs": [
        {
          "data": {
            "image/png": "[encoded data removed]",
            "text/plain": [
              "<Figure size 1008x288 with 1 Axes>"
            ]
          },
          "metadata": {
            "needs_background": "light"
          },
          "output_type": "display_data"
        }
      ],
      "source": [
        "fig, ax = plt.subplots(1, 1, figsize=(14, 4))\n",
        "ax.bar(index, ave, align='center', color='orange')\n",
        "ax.set_xticks(index)\n",
        "ax.set_xticklabels(df100c.name)\n",
        "for tick in ax.get_xticklabels():\n",
        "    tick.set_rotation(20)\n",
        "ax.errorbar(index, ave, \n",
        "            numpy.abs((numpy.vstack([ave_min.values, ave_max.values]) - ave.values.ravel())),\n",
        "            uplims=True, lolims=True)\n",
        "ax.set_title(\"Cumulated time spent in each node for 100 \"\n",
        "             \"observations\\nGaussianProcess and onnxruntime1\");"
      ]
    },
    {
      "cell_type": "markdown",
      "metadata": {},
      "source": [
        "The visual graph helps matching the output names with the operator type. The curve is not monotononic because each experiment computes every output from the start. The number of repetitions should be increased. Documentation of function [benchmark_fct](http://www.xavierdupre.fr/app/mlprodict/helpsphinx/mlprodict/onnxrt/validate/validate.html?highlight=benchmark_fct#mlprodict.onnxrt.validate.validate.benchmark_fct) tells how to do it."
      ]
    },
    {
      "cell_type": "code",
      "execution_count": 52,
      "metadata": {},
      "outputs": [],
      "source": []
    }
  ],
  "metadata": {
    "kernelspec": {
      "display_name": "Python 3",
      "language": "python",
      "name": "python3"
    },
    "language_info": {
      "codemirror_mode": {
        "name": "ipython",
        "version": 3
      },
      "file_extension": ".py",
      "mimetype": "text/x-python",
      "name": "python",
      "nbconvert_exporter": "python",
      "pygments_lexer": "ipython3",
      "version": "3.7.2"
    }
  },
  "nbformat": 4,
  "nbformat_minor": 2
}