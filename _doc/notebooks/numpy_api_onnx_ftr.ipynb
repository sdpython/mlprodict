{
  "cells": [
    {
      "cell_type": "markdown",
      "metadata": {},
      "source": [
        "# Introduction to a numpy API for ONNX: FunctionTransformer\n",
        "\n",
        "This notebook shows how to write python functions similar functions as numpy offers and get a function which can be converted into ONNX."
      ]
    },
    {
      "cell_type": "code",
      "execution_count": 1,
      "metadata": {},
      "outputs": [
        {
          "data": {
            "text/html": [
              "<div id=\"my_id_menu_nb\">run previous cell, wait for 2 seconds</div>\n",
              "<script>\n",
              "function repeat_indent_string(n){\n",
              "    var a = \"\" ;\n",
              "    for ( ; n > 0 ; --n)\n",
              "        a += \"    \";\n",
              "    return a;\n",
              "}\n",
              "// look up into all sections and builds an automated menu //\n",
              "var update_menu_string = function(begin, lfirst, llast, sformat, send, keep_item, begin_format, end_format) {\n",
              "    var anchors = document.getElementsByClassName(\"section\");\n",
              "    if (anchors.length == 0) {\n",
              "        anchors = document.getElementsByClassName(\"text_cell_render rendered_html\");\n",
              "    }\n",
              "    var i,t;\n",
              "    var text_menu = begin;\n",
              "    var text_memo = \"<pre>\\nlength:\" + anchors.length + \"\\n\";\n",
              "    var ind = \"\";\n",
              "    var memo_level = 1;\n",
              "    var href;\n",
              "    var tags = [];\n",
              "    var main_item = 0;\n",
              "    var format_open = 0;\n",
              "    for (i = 0; i <= llast; i++)\n",
              "        tags.push(\"h\" + i);\n",
              "\n",
              "    for (i = 0; i < anchors.length; i++) {\n",
              "        text_memo += \"**\" + anchors[i].id + \"--\\n\";\n",
              "\n",
              "        var child = null;\n",
              "        for(t = 0; t < tags.length; t++) {\n",
              "            var r = anchors[i].getElementsByTagName(tags[t]);\n",
              "            if (r.length > 0) {\n",
              "child = r[0];\n",
              "break;\n",
              "            }\n",
              "        }\n",
              "        if (child == null) {\n",
              "            text_memo += \"null\\n\";\n",
              "            continue;\n",
              "        }\n",
              "        if (anchors[i].hasAttribute(\"id\")) {\n",
              "            // when converted in RST\n",
              "            href = anchors[i].id;\n",
              "            text_memo += \"#1-\" + href;\n",
              "            // passer \u00e0 child suivant (le chercher)\n",
              "        }\n",
              "        else if (child.hasAttribute(\"id\")) {\n",
              "            // in a notebook\n",
              "            href = child.id;\n",
              "            text_memo += \"#2-\" + href;\n",
              "        }\n",
              "        else {\n",
              "            text_memo += \"#3-\" + \"*\" + \"\\n\";\n",
              "            continue;\n",
              "        }\n",
              "        var title = child.textContent;\n",
              "        var level = parseInt(child.tagName.substring(1,2));\n",
              "\n",
              "        text_memo += \"--\" + level + \"?\" + lfirst + \"--\" + title + \"\\n\";\n",
              "\n",
              "        if ((level < lfirst) || (level > llast)) {\n",
              "            continue ;\n",
              "        }\n",
              "        if (title.endsWith('\u00b6')) {\n",
              "            title = title.substring(0,title.length-1).replace(\"<\", \"&lt;\")\n",
              "         .replace(\">\", \"&gt;\").replace(\"&\", \"&amp;\");\n",
              "        }\n",
              "        if (title.length == 0) {\n",
              "            continue;\n",
              "        }\n",
              "\n",
              "        while (level < memo_level) {\n",
              "            text_menu += end_format + \"</ul>\\n\";\n",
              "            format_open -= 1;\n",
              "            memo_level -= 1;\n",
              "        }\n",
              "        if (level == lfirst) {\n",
              "            main_item += 1;\n",
              "        }\n",
              "        if (keep_item != -1 && main_item != keep_item + 1) {\n",
              "            // alert(main_item + \" - \" + level + \" - \" + keep_item);\n",
              "            continue;\n",
              "        }\n",
              "        while (level > memo_level) {\n",
              "            text_menu += \"<ul>\\n\";\n",
              "            memo_level += 1;\n",
              "        }\n",
              "        text_menu += repeat_indent_string(level-2);\n",
              "        text_menu += begin_format + sformat.replace(\"__HREF__\", href).replace(\"__TITLE__\", title);\n",
              "        format_open += 1;\n",
              "    }\n",
              "    while (1 < memo_level) {\n",
              "        text_menu += end_format + \"</ul>\\n\";\n",
              "        memo_level -= 1;\n",
              "        format_open -= 1;\n",
              "    }\n",
              "    text_menu += send;\n",
              "    //text_menu += \"\\n\" + text_memo;\n",
              "\n",
              "    while (format_open > 0) {\n",
              "        text_menu += end_format;\n",
              "        format_open -= 1;\n",
              "    }\n",
              "    return text_menu;\n",
              "};\n",
              "var update_menu = function() {\n",
              "    var sbegin = \"\";\n",
              "    var sformat = '<a href=\"#__HREF__\">__TITLE__</a>';\n",
              "    var send = \"\";\n",
              "    var begin_format = '<li>';\n",
              "    var end_format = '</li>';\n",
              "    var keep_item = -1;\n",
              "    var text_menu = update_menu_string(sbegin, 2, 4, sformat, send, keep_item,\n",
              "       begin_format, end_format);\n",
              "    var menu = document.getElementById(\"my_id_menu_nb\");\n",
              "    menu.innerHTML=text_menu;\n",
              "};\n",
              "window.setTimeout(update_menu,2000);\n",
              "            </script>"
            ],
            "text/plain": [
              "<IPython.core.display.HTML object>"
            ]
          },
          "execution_count": 2,
          "metadata": {},
          "output_type": "execute_result"
        }
      ],
      "source": [
        "from jyquickhelper import add_notebook_menu\n",
        "add_notebook_menu()"
      ]
    },
    {
      "cell_type": "code",
      "execution_count": 2,
      "metadata": {},
      "outputs": [],
      "source": [
        "%load_ext mlprodict"
      ]
    },
    {
      "cell_type": "markdown",
      "metadata": {},
      "source": [
        "## A pipeline with FunctionTransformer"
      ]
    },
    {
      "cell_type": "code",
      "execution_count": 3,
      "metadata": {},
      "outputs": [],
      "source": [
        "from sklearn.datasets import load_iris\n",
        "from sklearn.model_selection import train_test_split\n",
        "data = load_iris()\n",
        "X, y = data.data, data.target\n",
        "X_train, X_test, y_train, y_test = train_test_split(X, y)"
      ]
    },
    {
      "cell_type": "code",
      "execution_count": 4,
      "metadata": {},
      "outputs": [
        {
          "data": {
            "text/plain": [
              "Pipeline(steps=[('functiontransformer',\n",
              "                 FunctionTransformer(func=<ufunc 'log'>)),\n",
              "                ('standardscaler', StandardScaler()),\n",
              "                ('logisticregression', LogisticRegression())])"
            ]
          },
          "execution_count": 5,
          "metadata": {},
          "output_type": "execute_result"
        }
      ],
      "source": [
        "import numpy\n",
        "from sklearn.pipeline import make_pipeline\n",
        "from sklearn.preprocessing import FunctionTransformer, StandardScaler\n",
        "from sklearn.linear_model import LogisticRegression\n",
        "\n",
        "pipe = make_pipeline(\n",
        "            FunctionTransformer(numpy.log),\n",
        "            StandardScaler(),\n",
        "            LogisticRegression())\n",
        "pipe.fit(X_train, y_train)"
      ]
    },
    {
      "cell_type": "markdown",
      "metadata": {},
      "source": [
        "Let's convert it into ONNX."
      ]
    },
    {
      "cell_type": "code",
      "execution_count": 5,
      "metadata": {},
      "outputs": [
        {
          "name": "stdout",
          "output_type": "stream",
          "text": [
            "No CUDA runtime is found, using CUDA_HOME='C:\\Program Files\\NVIDIA GPU Computing Toolkit\\CUDA\\v11.5'\n",
            "FunctionTransformer is not supported unless the transform function is None (= identity). You may raise an issue at https://github.com/onnx/sklearn-onnx/issues.\n"
          ]
        }
      ],
      "source": [
        "from mlprodict.onnx_conv import to_onnx\n",
        "try:\n",
        "    onx = to_onnx(pipe, X_train.astype(numpy.float64))\n",
        "except (RuntimeError, TypeError) as e:\n",
        "    print(e)"
      ]
    },
    {
      "cell_type": "markdown",
      "metadata": {},
      "source": [
        "## Use ONNX instead of numpy\n",
        "\n",
        "The pipeline cannot be converter because the converter does not know how to convert the function (`numpy.log`) held by `FunctionTransformer` into ONNX. One way to avoid that is to replace it by a function `log` defined with *ONNX* operators and executed with an ONNX runtime."
      ]
    },
    {
      "cell_type": "code",
      "execution_count": 6,
      "metadata": {},
      "outputs": [
        {
          "data": {
            "text/plain": [
              "Pipeline(steps=[('functiontransformer',\n",
              "                 FunctionTransformer(func=<mlprodict.npy.onnx_numpy_wrapper.onnxnumpy_nb_log_None_None object at 0x00000192F34D7D90>)),\n",
              "                ('standardscaler', StandardScaler()),\n",
              "                ('logisticregression', LogisticRegression())])"
            ]
          },
          "execution_count": 7,
          "metadata": {},
          "output_type": "execute_result"
        }
      ],
      "source": [
        "import mlprodict.npy.numpy_onnx_pyrt as npnxrt\n",
        "\n",
        "pipe = make_pipeline(\n",
        "            FunctionTransformer(npnxrt.log),\n",
        "            StandardScaler(),\n",
        "            LogisticRegression())\n",
        "pipe.fit(X_train, y_train)"
      ]
    },
    {
      "cell_type": "code",
      "execution_count": 7,
      "metadata": {},
      "outputs": [
        {
          "name": "stderr",
          "output_type": "stream",
          "text": [
            "C:\\Python395_x64\\lib\\site-packages\\xgboost\\compat.py:36: FutureWarning: pandas.Int64Index is deprecated and will be removed from pandas in a future version. Use pandas.Index with the appropriate dtype instead.\n",
            "  from pandas import MultiIndex, Int64Index\n"
          ]
        }
      ],
      "source": [
        "onx = to_onnx(pipe, X_train.astype(numpy.float64), rewrite_ops=True)"
      ]
    },
    {
      "cell_type": "code",
      "execution_count": 8,
      "metadata": {},
      "outputs": [
        {
          "data": {
            "text/html": [
              "<div id=\"M61eba8dc6cb6424a8d996cd5306d6bb5-cont\"><div id=\"M61eba8dc6cb6424a8d996cd5306d6bb5\" style=\"width:;height:;\"></div></div>\n",
              "<script>\n",
              "\n",
              "require(['http://www.xavierdupre.fr/js/vizjs/viz.js'], function() { var svgGraph = Viz(\"digraph{\\n  orientation=portrait;\\n  nodesep=0.05;\\n  ranksep=0.25;\\n  size=7;\\n\\n  X [shape=box color=red label=\\\"X\\ndouble((0, 4))\\\" fontsize=10];\\n\\n  output_label [shape=box color=green label=\\\"output_label\\nint64((0,))\\\" fontsize=10];\\n  output_probability [shape=box color=green label=\\\"output_probability\\n[{int64, {'kind': 'tensor', 'elem': 'double', 'shape': }}]\\\" fontsize=10];\\n\\n  Su_Subcst [shape=box label=\\\"Su_Subcst\\nfloat64((4,))\\n[ 1.75460177  1.10541034  1.16779105 -0.20316936]\\\" fontsize=10];\\n  Di_Divcst [shape=box label=\\\"Di_Divcst\\nfloat64((4,))\\n[0.14240015 0.14654856 0.59538685 1.01014912]\\\" fontsize=10];\\n  coef [shape=box label=\\\"coef\\nfloat64((4, 3))\\n[[-0.93542774  0.35553225  0.57989549]\\n [ 0.849556...\\\" fontsize=10];\\n  intercept [shape=box label=\\\"intercept\\nfloat64((1, 3))\\n[[ 0.27162718  1.8551442  -2.12677138]]\\\" fontsize=10];\\n  classes [shape=box label=\\\"classes\\nint32((3,))\\n[0 1 2]\\\" fontsize=10];\\n  shape_tensor [shape=box label=\\\"shape_tensor\\nint64((1,))\\n[-1]\\\" fontsize=10];\\n\\n  ft_y [shape=box label=\\\"ft_y\\\" fontsize=10];\\n  ft_Log [shape=box style=\\\"filled,rounded\\\" color=orange label=\\\"Log\\n(ft_Log)\\\" fontsize=10];\\n  X -> ft_Log;\\n  ft_Log -> ft_y;\\n\\n  Su_C0 [shape=box label=\\\"Su_C0\\\" fontsize=10];\\n  Su_Sub [shape=box style=\\\"filled,rounded\\\" color=orange label=\\\"Sub\\n(Su_Sub)\\\" fontsize=10];\\n  ft_y -> Su_Sub;\\n  Su_Subcst -> Su_Sub;\\n  Su_Sub -> Su_C0;\\n\\n  variable1 [shape=box label=\\\"variable1\\\" fontsize=10];\\n  Di_Div [shape=box style=\\\"filled,rounded\\\" color=orange label=\\\"Div\\n(Di_Div)\\\" fontsize=10];\\n  Su_C0 -> Di_Div;\\n  Di_Divcst -> Di_Div;\\n  Di_Div -> variable1;\\n\\n  multiplied [shape=box label=\\\"multiplied\\\" fontsize=10];\\n  MatMul [shape=box style=\\\"filled,rounded\\\" color=orange label=\\\"MatMul\\n(MatMul)\\\" fontsize=10];\\n  variable1 -> MatMul;\\n  coef -> MatMul;\\n  MatMul -> multiplied;\\n\\n  raw_scores [shape=box label=\\\"raw_scores\\\" fontsize=10];\\n  Add [shape=box style=\\\"filled,rounded\\\" color=orange label=\\\"Add\\n(Add)\\\" fontsize=10];\\n  multiplied -> Add;\\n  intercept -> Add;\\n  Add -> raw_scores;\\n\\n  probabilities [shape=box label=\\\"probabilities\\\" fontsize=10];\\n  Softmax [shape=box style=\\\"filled,rounded\\\" color=orange label=\\\"Softmax\\n(Softmax)\\naxis=-1\\\" fontsize=10];\\n  raw_scores -> Softmax;\\n  Softmax -> probabilities;\\n\\n  label1 [shape=box label=\\\"label1\\\" fontsize=10];\\n  ArgMax [shape=box style=\\\"filled,rounded\\\" color=orange label=\\\"ArgMax\\n(ArgMax)\\naxis=1\\\" fontsize=10];\\n  raw_scores -> ArgMax;\\n  ArgMax -> label1;\\n\\n  array_feature_extractor_result [shape=box label=\\\"array_feature_extractor_result\\\" fontsize=10];\\n  ArrayFeatureExtractor [shape=box style=\\\"filled,rounded\\\" color=orange label=\\\"ArrayFeatureExtractor\\n(ArrayFeatureExtractor)\\\" fontsize=10];\\n  classes -> ArrayFeatureExtractor;\\n  label1 -> ArrayFeatureExtractor;\\n  ArrayFeatureExtractor -> array_feature_extractor_result;\\n\\n  ZipMap [shape=box style=\\\"filled,rounded\\\" color=orange label=\\\"ZipMap\\n(ZipMap)\\nclasslabels_int64s=[0 1 2]\\\" fontsize=10];\\n  probabilities -> ZipMap;\\n  ZipMap -> output_probability;\\n\\n  cast2_result [shape=box label=\\\"cast2_result\\\" fontsize=10];\\n  Cast [shape=box style=\\\"filled,rounded\\\" color=orange label=\\\"Cast\\n(Cast)\\nto=11\\\" fontsize=10];\\n  array_feature_extractor_result -> Cast;\\n  Cast -> cast2_result;\\n\\n  reshaped_result [shape=box label=\\\"reshaped_result\\\" fontsize=10];\\n  Reshape [shape=box style=\\\"filled,rounded\\\" color=orange label=\\\"Reshape\\n(Reshape)\\\" fontsize=10];\\n  cast2_result -> Reshape;\\n  shape_tensor -> Reshape;\\n  Reshape -> reshaped_result;\\n\\n  label [shape=box label=\\\"label\\\" fontsize=10];\\n  Cast1 [shape=box style=\\\"filled,rounded\\\" color=orange label=\\\"Cast\\n(Cast1)\\nto=7\\\" fontsize=10];\\n  reshaped_result -> Cast1;\\n  Cast1 -> label;\\n\\n  Cast2 [shape=box style=\\\"filled,rounded\\\" color=orange label=\\\"Cast\\n(Cast2)\\nto=7\\\" fontsize=10];\\n  label -> Cast2;\\n  Cast2 -> output_label;\\n}\");\n",
              "document.getElementById('M61eba8dc6cb6424a8d996cd5306d6bb5').innerHTML = svgGraph; });\n",
              "\n",
              "</script>"
            ],
            "text/plain": [
              "<jyquickhelper.jspy.render_nb_js_dot.RenderJsDot at 0x192f6889cd0>"
            ]
          },
          "execution_count": 9,
          "metadata": {},
          "output_type": "execute_result"
        }
      ],
      "source": [
        "%onnxview onx"
      ]
    },
    {
      "cell_type": "markdown",
      "metadata": {},
      "source": [
        "The operator `Log` is belongs to the graph. There is some overhead by using this function on small matrices. The gap is much less on big matrices."
      ]
    },
    {
      "cell_type": "code",
      "execution_count": 9,
      "metadata": {},
      "outputs": [
        {
          "name": "stdout",
          "output_type": "stream",
          "text": [
            "8.84 \u00b5s \u00b1 747 ns per loop (mean \u00b1 std. dev. of 7 runs, 100,000 loops each)\n"
          ]
        }
      ],
      "source": [
        "%timeit numpy.log(X_train)"
      ]
    },
    {
      "cell_type": "code",
      "execution_count": 10,
      "metadata": {},
      "outputs": [
        {
          "name": "stdout",
          "output_type": "stream",
          "text": [
            "33.8 \u00b5s \u00b1 4.01 \u00b5s per loop (mean \u00b1 std. dev. of 7 runs, 10,000 loops each)\n"
          ]
        }
      ],
      "source": [
        "%timeit npnxrt.log(X_train)"
      ]
    },
    {
      "cell_type": "markdown",
      "metadata": {},
      "source": [
        "## Slightly more complex functions with a FunctionTransformer\n",
        "\n",
        "What about more complex functions? It is a bit more complicated too. The previous syntax does not work."
      ]
    },
    {
      "cell_type": "code",
      "execution_count": 11,
      "metadata": {},
      "outputs": [
        {
          "data": {
            "text/plain": [
              "Pipeline(steps=[('functiontransformer',\n",
              "                 FunctionTransformer(func=<function custom_fct at 0x00000192F6891C10>)),\n",
              "                ('standardscaler', StandardScaler()),\n",
              "                ('logisticregression', LogisticRegression())])"
            ]
          },
          "execution_count": 12,
          "metadata": {},
          "output_type": "execute_result"
        }
      ],
      "source": [
        "def custom_fct(x):\n",
        "    return npnxrt.log(x + 1)\n",
        "\n",
        "pipe = make_pipeline(\n",
        "            FunctionTransformer(custom_fct),\n",
        "            StandardScaler(),\n",
        "            LogisticRegression())\n",
        "pipe.fit(X_train, y_train)"
      ]
    },
    {
      "cell_type": "code",
      "execution_count": 12,
      "metadata": {},
      "outputs": [
        {
          "name": "stdout",
          "output_type": "stream",
          "text": [
            "FunctionTransformer is not supported unless the transform function is of type <class 'function'> wrapped with onnxnumpy.\n"
          ]
        }
      ],
      "source": [
        "try:\n",
        "    onx = to_onnx(pipe, X_train.astype(numpy.float64), rewrite_ops=True)\n",
        "except TypeError as e:\n",
        "    print(e)"
      ]
    },
    {
      "cell_type": "markdown",
      "metadata": {},
      "source": [
        "The syntax is different."
      ]
    },
    {
      "cell_type": "code",
      "execution_count": 13,
      "metadata": {
        "scrolled": false
      },
      "outputs": [
        {
          "data": {
            "text/plain": [
              "Pipeline(steps=[('functiontransformer',\n",
              "                 FunctionTransformer(func=<mlprodict.npy.onnx_numpy_wrapper.onnxnumpy_custom_fct_None_None object at 0x00000192F692CFD0>)),\n",
              "                ('standardscaler', StandardScaler()),\n",
              "                ('logisticregression', LogisticRegression())])"
            ]
          },
          "execution_count": 14,
          "metadata": {},
          "output_type": "execute_result"
        }
      ],
      "source": [
        "from typing import Any\n",
        "from mlprodict.npy import onnxnumpy_default, NDArray\n",
        "import mlprodict.npy.numpy_onnx_impl as npnx\n",
        "\n",
        "@onnxnumpy_default\n",
        "def custom_fct(x: NDArray[(None, None), numpy.float64]) -> NDArray[(None, None), numpy.float64]:\n",
        "    return npnx.log(x + numpy.float64(1))\n",
        "\n",
        "pipe = make_pipeline(\n",
        "            FunctionTransformer(custom_fct),\n",
        "            StandardScaler(),\n",
        "            LogisticRegression())\n",
        "pipe.fit(X_train, y_train)"
      ]
    },
    {
      "cell_type": "code",
      "execution_count": 14,
      "metadata": {},
      "outputs": [
        {
          "data": {
            "text/html": [
              "<div id=\"M288f02e1bf3b4340a0efdd04c5a469bc-cont\"><div id=\"M288f02e1bf3b4340a0efdd04c5a469bc\" style=\"width:;height:;\"></div></div>\n",
              "<script>\n",
              "\n",
              "require(['http://www.xavierdupre.fr/js/vizjs/viz.js'], function() { var svgGraph = Viz(\"digraph{\\n  orientation=portrait;\\n  nodesep=0.05;\\n  ranksep=0.25;\\n  size=7;\\n\\n  X [shape=box color=red label=\\\"X\\ndouble((0, 4))\\\" fontsize=10];\\n\\n  output_label [shape=box color=green label=\\\"output_label\\nint64((0,))\\\" fontsize=10];\\n  output_probability [shape=box color=green label=\\\"output_probability\\n[{int64, {'kind': 'tensor', 'elem': 'double', 'shape': }}]\\\" fontsize=10];\\n\\n  ft_Ad_Addcst [shape=box label=\\\"ft_Ad_Addcst\\nfloat64((1,))\\n[1.]\\\" fontsize=10];\\n  Su_Subcst [shape=box label=\\\"Su_Subcst\\nfloat64((4,))\\n[1.91541867 1.39341452 1.47229536 0.7123154 ]\\\" fontsize=10];\\n  Di_Divcst [shape=box label=\\\"Di_Divcst\\nfloat64((4,))\\n[0.12140993 0.1094947  0.43176727 0.38898106]\\\" fontsize=10];\\n  coef [shape=box label=\\\"coef\\nfloat64((4, 3))\\n[[-0.92491732  0.42622884  0.49868848]\\n [ 0.939705...\\\" fontsize=10];\\n  intercept [shape=box label=\\\"intercept\\nfloat64((1, 3))\\n[[ 0.10129605  1.86862261 -1.96991866]]\\\" fontsize=10];\\n  classes [shape=box label=\\\"classes\\nint32((3,))\\n[0 1 2]\\\" fontsize=10];\\n  shape_tensor [shape=box label=\\\"shape_tensor\\nint64((1,))\\n[-1]\\\" fontsize=10];\\n\\n  ft_Ad_C0 [shape=box label=\\\"ft_Ad_C0\\\" fontsize=10];\\n  ft_Add [shape=box style=\\\"filled,rounded\\\" color=orange label=\\\"Add\\n(ft_Add)\\\" fontsize=10];\\n  X -> ft_Add;\\n  ft_Ad_Addcst -> ft_Add;\\n  ft_Add -> ft_Ad_C0;\\n\\n  ft_y [shape=box label=\\\"ft_y\\\" fontsize=10];\\n  ft_Log [shape=box style=\\\"filled,rounded\\\" color=orange label=\\\"Log\\n(ft_Log)\\\" fontsize=10];\\n  ft_Ad_C0 -> ft_Log;\\n  ft_Log -> ft_y;\\n\\n  Su_C0 [shape=box label=\\\"Su_C0\\\" fontsize=10];\\n  Su_Sub [shape=box style=\\\"filled,rounded\\\" color=orange label=\\\"Sub\\n(Su_Sub)\\\" fontsize=10];\\n  ft_y -> Su_Sub;\\n  Su_Subcst -> Su_Sub;\\n  Su_Sub -> Su_C0;\\n\\n  variable1 [shape=box label=\\\"variable1\\\" fontsize=10];\\n  Di_Div [shape=box style=\\\"filled,rounded\\\" color=orange label=\\\"Div\\n(Di_Div)\\\" fontsize=10];\\n  Su_C0 -> Di_Div;\\n  Di_Divcst -> Di_Div;\\n  Di_Div -> variable1;\\n\\n  multiplied [shape=box label=\\\"multiplied\\\" fontsize=10];\\n  MatMul [shape=box style=\\\"filled,rounded\\\" color=orange label=\\\"MatMul\\n(MatMul)\\\" fontsize=10];\\n  variable1 -> MatMul;\\n  coef -> MatMul;\\n  MatMul -> multiplied;\\n\\n  raw_scores [shape=box label=\\\"raw_scores\\\" fontsize=10];\\n  Add [shape=box style=\\\"filled,rounded\\\" color=orange label=\\\"Add\\n(Add)\\\" fontsize=10];\\n  multiplied -> Add;\\n  intercept -> Add;\\n  Add -> raw_scores;\\n\\n  label1 [shape=box label=\\\"label1\\\" fontsize=10];\\n  ArgMax [shape=box style=\\\"filled,rounded\\\" color=orange label=\\\"ArgMax\\n(ArgMax)\\naxis=1\\\" fontsize=10];\\n  raw_scores -> ArgMax;\\n  ArgMax -> label1;\\n\\n  probabilities [shape=box label=\\\"probabilities\\\" fontsize=10];\\n  Softmax [shape=box style=\\\"filled,rounded\\\" color=orange label=\\\"Softmax\\n(Softmax)\\naxis=-1\\\" fontsize=10];\\n  raw_scores -> Softmax;\\n  Softmax -> probabilities;\\n\\n  ZipMap [shape=box style=\\\"filled,rounded\\\" color=orange label=\\\"ZipMap\\n(ZipMap)\\nclasslabels_int64s=[0 1 2]\\\" fontsize=10];\\n  probabilities -> ZipMap;\\n  ZipMap -> output_probability;\\n\\n  array_feature_extractor_result [shape=box label=\\\"array_feature_extractor_result\\\" fontsize=10];\\n  ArrayFeatureExtractor [shape=box style=\\\"filled,rounded\\\" color=orange label=\\\"ArrayFeatureExtractor\\n(ArrayFeatureExtractor)\\\" fontsize=10];\\n  classes -> ArrayFeatureExtractor;\\n  label1 -> ArrayFeatureExtractor;\\n  ArrayFeatureExtractor -> array_feature_extractor_result;\\n\\n  cast2_result [shape=box label=\\\"cast2_result\\\" fontsize=10];\\n  Cast [shape=box style=\\\"filled,rounded\\\" color=orange label=\\\"Cast\\n(Cast)\\nto=11\\\" fontsize=10];\\n  array_feature_extractor_result -> Cast;\\n  Cast -> cast2_result;\\n\\n  reshaped_result [shape=box label=\\\"reshaped_result\\\" fontsize=10];\\n  Reshape [shape=box style=\\\"filled,rounded\\\" color=orange label=\\\"Reshape\\n(Reshape)\\\" fontsize=10];\\n  cast2_result -> Reshape;\\n  shape_tensor -> Reshape;\\n  Reshape -> reshaped_result;\\n\\n  label [shape=box label=\\\"label\\\" fontsize=10];\\n  Cast1 [shape=box style=\\\"filled,rounded\\\" color=orange label=\\\"Cast\\n(Cast1)\\nto=7\\\" fontsize=10];\\n  reshaped_result -> Cast1;\\n  Cast1 -> label;\\n\\n  Cast2 [shape=box style=\\\"filled,rounded\\\" color=orange label=\\\"Cast\\n(Cast2)\\nto=7\\\" fontsize=10];\\n  label -> Cast2;\\n  Cast2 -> output_label;\\n}\");\n",
              "document.getElementById('M288f02e1bf3b4340a0efdd04c5a469bc').innerHTML = svgGraph; });\n",
              "\n",
              "</script>"
            ],
            "text/plain": [
              "<jyquickhelper.jspy.render_nb_js_dot.RenderJsDot at 0x192f692c6d0>"
            ]
          },
          "execution_count": 15,
          "metadata": {},
          "output_type": "execute_result"
        }
      ],
      "source": [
        "onx = to_onnx(pipe, X_train.astype(numpy.float64), rewrite_ops=True)\n",
        "%onnxview onx"
      ]
    },
    {
      "cell_type": "markdown",
      "metadata": {},
      "source": [
        "Let's compare the time to *numpy*."
      ]
    },
    {
      "cell_type": "code",
      "execution_count": 15,
      "metadata": {},
      "outputs": [
        {
          "name": "stdout",
          "output_type": "stream",
          "text": [
            "13.7 \u00b5s \u00b1 625 ns per loop (mean \u00b1 std. dev. of 7 runs, 100,000 loops each)\n"
          ]
        }
      ],
      "source": [
        "def custom_numpy_fct(x):\n",
        "    return numpy.log(x + numpy.float64(1))\n",
        "\n",
        "%timeit custom_numpy_fct(X_train)"
      ]
    },
    {
      "cell_type": "code",
      "execution_count": 16,
      "metadata": {},
      "outputs": [
        {
          "name": "stdout",
          "output_type": "stream",
          "text": [
            "46.3 \u00b5s \u00b1 6.84 \u00b5s per loop (mean \u00b1 std. dev. of 7 runs, 10,000 loops each)\n"
          ]
        }
      ],
      "source": [
        "%timeit custom_fct(X_train)"
      ]
    },
    {
      "cell_type": "markdown",
      "metadata": {},
      "source": [
        "The new function is slower but the gap is much less on bigger matrices. The default ONNX runtime has a significant cost compare to the cost of a couple of operations on small matrices."
      ]
    },
    {
      "cell_type": "code",
      "execution_count": 17,
      "metadata": {},
      "outputs": [
        {
          "name": "stdout",
          "output_type": "stream",
          "text": [
            "722 \u00b5s \u00b1 46.8 \u00b5s per loop (mean \u00b1 std. dev. of 7 runs, 1,000 loops each)\n"
          ]
        }
      ],
      "source": [
        "bigx = numpy.random.rand(10000, X_train.shape[1])\n",
        "%timeit custom_numpy_fct(bigx)"
      ]
    },
    {
      "cell_type": "code",
      "execution_count": 18,
      "metadata": {},
      "outputs": [
        {
          "name": "stdout",
          "output_type": "stream",
          "text": [
            "400 \u00b5s \u00b1 80.7 \u00b5s per loop (mean \u00b1 std. dev. of 7 runs, 1,000 loops each)\n"
          ]
        }
      ],
      "source": [
        "%timeit custom_fct(bigx)"
      ]
    },
    {
      "cell_type": "markdown",
      "metadata": {},
      "source": [
        "## Function transformer with FFT\n",
        "\n",
        "The following function is equivalent to the module of the output of a FFT transform. The matrix $M_{kn}$ is defined by $M_{kn}=(\\exp(-2i\\pi kn/N))_{kn}$. Complex features are then obtained by computing $MX$. Taking the module leads to real features: $\\sqrt{Re(MX)^2 + Im(MX)^2}$. That's what the following function does."
      ]
    },
    {
      "cell_type": "markdown",
      "metadata": {},
      "source": [
        "###  numpy implementation"
      ]
    },
    {
      "cell_type": "code",
      "execution_count": 19,
      "metadata": {},
      "outputs": [
        {
          "data": {
            "text/plain": [
              "array([[3.1185195 , 0.68828994, 2.553703  , 0.68828994],\n",
              "       [2.9688716 , 1.1822908 , 0.22248763, 1.1822908 ],\n",
              "       [3.0031753 , 2.3098822 , 3.0584362 , 2.3098822 ]], dtype=float32)"
            ]
          },
          "execution_count": 20,
          "metadata": {},
          "output_type": "execute_result"
        }
      ],
      "source": [
        "def custom_fft_abs_py(x):\n",
        "    \"onnx fft + abs python\"\n",
        "    # see https://jakevdp.github.io/blog/\n",
        "    # 2013/08/28/understanding-the-fft/\n",
        "    dim = x.shape[1]\n",
        "    n = numpy.arange(dim)\n",
        "    k = n.reshape((-1, 1)).astype(numpy.float64)\n",
        "    kn = k * n * (-numpy.pi * 2 / dim)\n",
        "    kn_cos = numpy.cos(kn)\n",
        "    kn_sin = numpy.sin(kn)\n",
        "    ekn = numpy.empty((2,) + kn.shape, dtype=x.dtype)\n",
        "    ekn[0, :, :] = kn_cos\n",
        "    ekn[1, :, :] = kn_sin\n",
        "    res = numpy.dot(ekn, x.T)\n",
        "    tr = res ** 2\n",
        "    mod = tr[0, :, :] + tr[1, :, :]\n",
        "    return numpy.sqrt(mod).T\n",
        "\n",
        "x = numpy.random.randn(3, 4).astype(numpy.float32)\n",
        "custom_fft_abs_py(x)"
      ]
    },
    {
      "cell_type": "markdown",
      "metadata": {},
      "source": [
        "### ONNX implementation"
      ]
    },
    {
      "cell_type": "markdown",
      "metadata": {},
      "source": [
        "This function cannot be exported into ONNX unless it is written with ONNX operators. This is where the numpy API for ONNX helps speeding up the process."
      ]
    },
    {
      "cell_type": "code",
      "execution_count": 20,
      "metadata": {},
      "outputs": [
        {
          "name": "stderr",
          "output_type": "stream",
          "text": [
            "C:\\xadupre\\github\\mlprodict\\mlprodict\\npy\\numpy_onnx_impl.py:267: UserWarning: npnx.dot is equivalent to npnx.matmul == numpy.matmul != numpy.dot with arrays with more than 3D dimensions.\n",
            "  warnings.warn(\n"
          ]
        },
        {
          "data": {
            "text/plain": [
              "array([[3.1185198, 0.6882898, 2.5537028, 0.68829  ],\n",
              "       [2.9688714, 1.1822908, 0.2224876, 1.1822908],\n",
              "       [3.0031753, 2.3098822, 3.058436 , 2.3098824]], dtype=float32)"
            ]
          },
          "execution_count": 21,
          "metadata": {},
          "output_type": "execute_result"
        }
      ],
      "source": [
        "from mlprodict.npy import onnxnumpy_default, onnxnumpy_np, NDArray\n",
        "import mlprodict.npy.numpy_onnx_impl as nxnp\n",
        "\n",
        "\n",
        "def _custom_fft_abs(x):\n",
        "    dim = x.shape[1]\n",
        "    n = nxnp.arange(0, dim).astype(numpy.float32)\n",
        "    k = n.reshape((-1, 1))\n",
        "    kn = (k * (n * numpy.float32(-numpy.pi * 2))) / dim.astype(numpy.float32)\n",
        "    kn3 = nxnp.expand_dims(kn, 0)\n",
        "    kn_cos = nxnp.cos(kn3)\n",
        "    kn_sin = nxnp.sin(kn3)\n",
        "    ekn = nxnp.vstack(kn_cos, kn_sin)\n",
        "    res = nxnp.dot(ekn, x.T)\n",
        "    tr = res ** 2\n",
        "    mod = tr[0, :, :] + tr[1, :, :]\n",
        "    return nxnp.sqrt(mod).T\n",
        "\n",
        "\n",
        "@onnxnumpy_default\n",
        "def custom_fft_abs(x: NDArray[Any, numpy.float32],\n",
        "                   ) -> NDArray[Any, numpy.float32]:\n",
        "    \"onnx fft + abs\"\n",
        "    return _custom_fft_abs(x)\n",
        "\n",
        "\n",
        "custom_fft_abs(x)"
      ]
    },
    {
      "cell_type": "markdown",
      "metadata": {},
      "source": [
        "`custom_fft_abs` is not a function a class holding an ONNX graph. A method `__call__` executes the ONNX graph with a python runtime."
      ]
    },
    {
      "cell_type": "code",
      "execution_count": 21,
      "metadata": {
        "scrolled": false
      },
      "outputs": [
        {
          "data": {
            "text/html": [
              "<div id=\"M89c532165fa54c6e9661a0336630cf04-cont\"><div id=\"M89c532165fa54c6e9661a0336630cf04\" style=\"width:;height:;\"></div></div>\n",
              "<script>\n",
              "\n",
              "require(['http://www.xavierdupre.fr/js/vizjs/viz.js'], function() { var svgGraph = Viz(\"digraph{\\n  orientation=portrait;\\n  nodesep=0.05;\\n  ranksep=0.25;\\n  size=7;\\n\\n  x [shape=box color=red label=\\\"x\\nfloat(('?',))\\\" fontsize=10];\\n\\n  y [shape=box color=green label=\\\"y\\nfloat(('?',))\\\" fontsize=10];\\n\\n  Ga_Gathercst [shape=box label=\\\"Ga_Gathercst\\nint64(())\\n1\\\" fontsize=10];\\n  Re_Reshapecst [shape=box label=\\\"Re_Reshapecst\\nint64((1,))\\n[-1]\\\" fontsize=10];\\n  Cu_CumSumcst [shape=box label=\\\"Cu_CumSumcst\\nint64((1,))\\n[0]\\\" fontsize=10];\\n  Re_Reshapecst1 [shape=box label=\\\"Re_Reshapecst1\\nint64((2,))\\n[-1  1]\\\" fontsize=10];\\n  Mu_Mulcst [shape=box label=\\\"Mu_Mulcst\\nfloat32((1,))\\n[-6.2831855]\\\" fontsize=10];\\n  Po_Powcst [shape=box label=\\\"Po_Powcst\\nint64((1,))\\n[2]\\\" fontsize=10];\\n  Sl_Slicecst1 [shape=box label=\\\"Sl_Slicecst1\\nint64((1,))\\n[1]\\\" fontsize=10];\\n\\n  Sh_shape0 [shape=box label=\\\"Sh_shape0\\\" fontsize=10];\\n  Sh_Shape [shape=box style=\\\"filled,rounded\\\" color=orange label=\\\"Shape\\n(Sh_Shape)\\\" fontsize=10];\\n  x -> Sh_Shape;\\n  Sh_Shape -> Sh_shape0;\\n\\n  Tr_transposed0 [shape=box label=\\\"Tr_transposed0\\\" fontsize=10];\\n  Tr_Transpose [shape=box style=\\\"filled,rounded\\\" color=orange label=\\\"Transpose\\n(Tr_Transpose)\\\" fontsize=10];\\n  x -> Tr_Transpose;\\n  Tr_Transpose -> Tr_transposed0;\\n\\n  Ga_output0 [shape=box label=\\\"Ga_output0\\\" fontsize=10];\\n  Ga_Gather [shape=box style=\\\"filled,rounded\\\" color=orange label=\\\"Gather\\n(Ga_Gather)\\naxis=0\\\" fontsize=10];\\n  Sh_shape0 -> Ga_Gather;\\n  Ga_Gathercst -> Ga_Gather;\\n  Ga_Gather -> Ga_output0;\\n\\n  Re_reshaped01 [shape=box label=\\\"Re_reshaped01\\\" fontsize=10];\\n  Re_Reshape [shape=box style=\\\"filled,rounded\\\" color=orange label=\\\"Reshape\\n(Re_Reshape)\\\" fontsize=10];\\n  Ga_output0 -> Re_Reshape;\\n  Re_Reshapecst -> Re_Reshape;\\n  Re_Reshape -> Re_reshaped01;\\n\\n  Ca_output02 [shape=box label=\\\"Ca_output02\\\" fontsize=10];\\n  Ca_Cast1 [shape=box style=\\\"filled,rounded\\\" color=orange label=\\\"Cast\\n(Ca_Cast1)\\nto=1\\\" fontsize=10];\\n  Ga_output0 -> Ca_Cast1;\\n  Ca_Cast1 -> Ca_output02;\\n\\n  Co_output01 [shape=box label=\\\"Co_output01\\\" fontsize=10];\\n  Co_ConstantOfShape [shape=box style=\\\"filled,rounded\\\" color=orange label=\\\"ConstantOfShape\\n(Co_ConstantOfShape)\\nvalue=[1]\\\" fontsize=10];\\n  Re_reshaped01 -> Co_ConstantOfShape;\\n  Co_ConstantOfShape -> Co_output01;\\n\\n  Cu_y0 [shape=box label=\\\"Cu_y0\\\" fontsize=10];\\n  Cu_CumSum [shape=box style=\\\"filled,rounded\\\" color=orange label=\\\"CumSum\\n(Cu_CumSum)\\\" fontsize=10];\\n  Co_output01 -> Cu_CumSum;\\n  Cu_CumSumcst -> Cu_CumSum;\\n  Cu_CumSum -> Cu_y0;\\n\\n  Ad_C01 [shape=box label=\\\"Ad_C01\\\" fontsize=10];\\n  Ad_Add [shape=box style=\\\"filled,rounded\\\" color=orange label=\\\"Add\\n(Ad_Add)\\\" fontsize=10];\\n  Cu_y0 -> Ad_Add;\\n  Re_Reshapecst -> Ad_Add;\\n  Ad_Add -> Ad_C01;\\n\\n  Ca_output0 [shape=box label=\\\"Ca_output0\\\" fontsize=10];\\n  Ca_Cast [shape=box style=\\\"filled,rounded\\\" color=orange label=\\\"Cast\\n(Ca_Cast)\\nto=1\\\" fontsize=10];\\n  Ad_C01 -> Ca_Cast;\\n  Ca_Cast -> Ca_output0;\\n\\n  Re_reshaped0 [shape=box label=\\\"Re_reshaped0\\\" fontsize=10];\\n  Re_Reshape1 [shape=box style=\\\"filled,rounded\\\" color=orange label=\\\"Reshape\\n(Re_Reshape1)\\\" fontsize=10];\\n  Ca_output0 -> Re_Reshape1;\\n  Re_Reshapecst1 -> Re_Reshape1;\\n  Re_Reshape1 -> Re_reshaped0;\\n\\n  Mu_C01 [shape=box label=\\\"Mu_C01\\\" fontsize=10];\\n  Mu_Mul [shape=box style=\\\"filled,rounded\\\" color=orange label=\\\"Mul\\n(Mu_Mul)\\\" fontsize=10];\\n  Ca_output0 -> Mu_Mul;\\n  Mu_Mulcst -> Mu_Mul;\\n  Mu_Mul -> Mu_C01;\\n\\n  Mu_C0 [shape=box label=\\\"Mu_C0\\\" fontsize=10];\\n  Mu_Mul1 [shape=box style=\\\"filled,rounded\\\" color=orange label=\\\"Mul\\n(Mu_Mul1)\\\" fontsize=10];\\n  Re_reshaped0 -> Mu_Mul1;\\n  Mu_C01 -> Mu_Mul1;\\n  Mu_Mul1 -> Mu_C0;\\n\\n  Di_C0 [shape=box label=\\\"Di_C0\\\" fontsize=10];\\n  Di_Div [shape=box style=\\\"filled,rounded\\\" color=orange label=\\\"Div\\n(Di_Div)\\\" fontsize=10];\\n  Mu_C0 -> Di_Div;\\n  Ca_output02 -> Di_Div;\\n  Di_Div -> Di_C0;\\n\\n  Un_expanded0 [shape=box label=\\\"Un_expanded0\\\" fontsize=10];\\n  Un_Unsqueeze [shape=box style=\\\"filled,rounded\\\" color=orange label=\\\"Unsqueeze\\n(Un_Unsqueeze)\\\" fontsize=10];\\n  Di_C0 -> Un_Unsqueeze;\\n  Cu_CumSumcst -> Un_Unsqueeze;\\n  Un_Unsqueeze -> Un_expanded0;\\n\\n  Co_output0 [shape=box label=\\\"Co_output0\\\" fontsize=10];\\n  Co_Cos [shape=box style=\\\"filled,rounded\\\" color=orange label=\\\"Cos\\n(Co_Cos)\\\" fontsize=10];\\n  Un_expanded0 -> Co_Cos;\\n  Co_Cos -> Co_output0;\\n\\n  Si_output0 [shape=box label=\\\"Si_output0\\\" fontsize=10];\\n  Si_Sin [shape=box style=\\\"filled,rounded\\\" color=orange label=\\\"Sin\\n(Si_Sin)\\\" fontsize=10];\\n  Un_expanded0 -> Si_Sin;\\n  Si_Sin -> Si_output0;\\n\\n  Co_concat_result0 [shape=box label=\\\"Co_concat_result0\\\" fontsize=10];\\n  Co_Concat [shape=box style=\\\"filled,rounded\\\" color=orange label=\\\"Concat\\n(Co_Concat)\\naxis=0\\\" fontsize=10];\\n  Co_output0 -> Co_Concat;\\n  Si_output0 -> Co_Concat;\\n  Co_Concat -> Co_concat_result0;\\n\\n  Ma_Y0 [shape=box label=\\\"Ma_Y0\\\" fontsize=10];\\n  Ma_MatMul [shape=box style=\\\"filled,rounded\\\" color=orange label=\\\"MatMul\\n(Ma_MatMul)\\\" fontsize=10];\\n  Co_concat_result0 -> Ma_MatMul;\\n  Tr_transposed0 -> Ma_MatMul;\\n  Ma_MatMul -> Ma_Y0;\\n\\n  Po_Z0 [shape=box label=\\\"Po_Z0\\\" fontsize=10];\\n  Po_Pow [shape=box style=\\\"filled,rounded\\\" color=orange label=\\\"Pow\\n(Po_Pow)\\\" fontsize=10];\\n  Ma_Y0 -> Po_Pow;\\n  Po_Powcst -> Po_Pow;\\n  Po_Pow -> Po_Z0;\\n\\n  Sl_output0 [shape=box label=\\\"Sl_output0\\\" fontsize=10];\\n  Sl_Slice [shape=box style=\\\"filled,rounded\\\" color=orange label=\\\"Slice\\n(Sl_Slice)\\\" fontsize=10];\\n  Po_Z0 -> Sl_Slice;\\n  Cu_CumSumcst -> Sl_Slice;\\n  Sl_Slicecst1 -> Sl_Slice;\\n  Cu_CumSumcst -> Sl_Slice;\\n  Sl_Slice -> Sl_output0;\\n\\n  Sl_output02 [shape=box label=\\\"Sl_output02\\\" fontsize=10];\\n  Sl_Slice1 [shape=box style=\\\"filled,rounded\\\" color=orange label=\\\"Slice\\n(Sl_Slice1)\\\" fontsize=10];\\n  Po_Z0 -> Sl_Slice1;\\n  Sl_Slicecst1 -> Sl_Slice1;\\n  Po_Powcst -> Sl_Slice1;\\n  Cu_CumSumcst -> Sl_Slice1;\\n  Sl_Slice1 -> Sl_output02;\\n\\n  Sq_squeezed0 [shape=box label=\\\"Sq_squeezed0\\\" fontsize=10];\\n  Sq_Squeeze [shape=box style=\\\"filled,rounded\\\" color=orange label=\\\"Squeeze\\n(Sq_Squeeze)\\\" fontsize=10];\\n  Sl_output0 -> Sq_Squeeze;\\n  Cu_CumSumcst -> Sq_Squeeze;\\n  Sq_Squeeze -> Sq_squeezed0;\\n\\n  Sq_squeezed02 [shape=box label=\\\"Sq_squeezed02\\\" fontsize=10];\\n  Sq_Squeeze1 [shape=box style=\\\"filled,rounded\\\" color=orange label=\\\"Squeeze\\n(Sq_Squeeze1)\\\" fontsize=10];\\n  Sl_output02 -> Sq_Squeeze1;\\n  Cu_CumSumcst -> Sq_Squeeze1;\\n  Sq_Squeeze1 -> Sq_squeezed02;\\n\\n  Ad_C0 [shape=box label=\\\"Ad_C0\\\" fontsize=10];\\n  Ad_Add1 [shape=box style=\\\"filled,rounded\\\" color=orange label=\\\"Add\\n(Ad_Add1)\\\" fontsize=10];\\n  Sq_squeezed0 -> Ad_Add1;\\n  Sq_squeezed02 -> Ad_Add1;\\n  Ad_Add1 -> Ad_C0;\\n\\n  Sq_Y0 [shape=box label=\\\"Sq_Y0\\\" fontsize=10];\\n  Sq_Sqrt [shape=box style=\\\"filled,rounded\\\" color=orange label=\\\"Sqrt\\n(Sq_Sqrt)\\\" fontsize=10];\\n  Ad_C0 -> Sq_Sqrt;\\n  Sq_Sqrt -> Sq_Y0;\\n\\n  Tr_Transpose1 [shape=box style=\\\"filled,rounded\\\" color=orange label=\\\"Transpose\\n(Tr_Transpose1)\\\" fontsize=10];\\n  Sq_Y0 -> Tr_Transpose1;\\n  Tr_Transpose1 -> y;\\n}\");\n",
              "document.getElementById('M89c532165fa54c6e9661a0336630cf04').innerHTML = svgGraph; });\n",
              "\n",
              "</script>"
            ],
            "text/plain": [
              "<jyquickhelper.jspy.render_nb_js_dot.RenderJsDot at 0x192f7e68610>"
            ]
          },
          "execution_count": 22,
          "metadata": {},
          "output_type": "execute_result"
        }
      ],
      "source": [
        "fonx = custom_fft_abs.to_onnx()\n",
        "%onnxview fonx"
      ]
    },
    {
      "cell_type": "markdown",
      "metadata": {},
      "source": [
        "Every intermediate output can be logged."
      ]
    },
    {
      "cell_type": "code",
      "execution_count": 22,
      "metadata": {},
      "outputs": [
        {
          "name": "stdout",
          "output_type": "stream",
          "text": [
            "-- OnnxInference: run 26 nodes\n",
            "Onnx-Shape(x) -> Sh_shape0    (name='Sh_Shape')\n",
            "+kr='Sh_shape0': (2,) (dtype=int64 min=3 max=4)\n",
            "Onnx-Transpose(x) -> Tr_transposed0    (name='Tr_Transpose')\n",
            "+kr='Tr_transposed0': (4, 3) (dtype=float32 min=-1.7609916925430298 max=1.1423430442810059)\n",
            "Onnx-Gather(Sh_shape0, Ga_Gathercst) -> Ga_output0    (name='Ga_Gather')\n",
            "+kr='Ga_output0': () (dtype=int64 min=4 max=4)\n",
            "Onnx-Reshape(Ga_output0, Re_Reshapecst) -> Re_reshaped01    (name='Re_Reshape')\n",
            "+kr='Re_reshaped01': (1,) (dtype=int64 min=4 max=4)\n",
            "Onnx-Cast(Ga_output0) -> Ca_output02    (name='Ca_Cast1')\n",
            "+kr='Ca_output02': () (dtype=float32 min=4.0 max=4.0)\n",
            "Onnx-ConstantOfShape(Re_reshaped01) -> Co_output01    (name='Co_ConstantOfShape')\n",
            "+kr='Co_output01': (4,) (dtype=int64 min=1 max=1)\n",
            "Onnx-CumSum(Co_output01, Cu_CumSumcst) -> Cu_y0    (name='Cu_CumSum')\n",
            "+kr='Cu_y0': (4,) (dtype=int64 min=1 max=4)\n",
            "Onnx-Add(Cu_y0, Re_Reshapecst) -> Ad_C01    (name='Ad_Add')\n",
            "+kr='Ad_C01': (4,) (dtype=int64 min=0 max=3)\n",
            "Onnx-Cast(Ad_C01) -> Ca_output0    (name='Ca_Cast')\n",
            "+kr='Ca_output0': (4,) (dtype=float32 min=0.0 max=3.0)\n",
            "Onnx-Reshape(Ca_output0, Re_Reshapecst1) -> Re_reshaped0    (name='Re_Reshape1')\n",
            "+kr='Re_reshaped0': (4, 1) (dtype=float32 min=0.0 max=3.0)\n",
            "Onnx-Mul(Ca_output0, Mu_Mulcst) -> Mu_C01    (name='Mu_Mul')\n",
            "+kr='Mu_C01': (4,) (dtype=float32 min=-18.84955596923828 max=-0.0)\n",
            "Onnx-Mul(Re_reshaped0, Mu_C01) -> Mu_C0    (name='Mu_Mul1')\n",
            "+kr='Mu_C0': (4, 4) (dtype=float32 min=-56.548667907714844 max=-0.0)\n",
            "Onnx-Div(Mu_C0, Ca_output02) -> Di_C0    (name='Di_Div')\n",
            "+kr='Di_C0': (4, 4) (dtype=float32 min=-14.137166976928711 max=-0.0)\n",
            "Onnx-Unsqueeze(Di_C0, Cu_CumSumcst) -> Un_expanded0    (name='Un_Unsqueeze')\n",
            "+kr='Un_expanded0': (1, 4, 4) (dtype=float32 min=-14.137166976928711 max=-0.0)\n",
            "Onnx-Cos(Un_expanded0) -> Co_output0    (name='Co_Cos')\n",
            "+kr='Co_output0': (1, 4, 4) (dtype=float32 min=-1.0 max=1.0)\n",
            "Onnx-Sin(Un_expanded0) -> Si_output0    (name='Si_Sin')\n",
            "+kr='Si_output0': (1, 4, 4) (dtype=float32 min=-1.0 max=1.0)\n",
            "Onnx-Concat(Co_output0, Si_output0) -> Co_concat_result0    (name='Co_Concat')\n",
            "+kr='Co_concat_result0': (2, 4, 4) (dtype=float32 min=-1.0 max=1.0)\n",
            "Onnx-MatMul(Co_concat_result0, Tr_transposed0) -> Ma_Y0    (name='Ma_MatMul')\n",
            "+kr='Ma_Y0': (2, 4, 3) (dtype=float32 min=-3.1185197830200195 max=2.2570557594299316)\n",
            "Onnx-Pow(Ma_Y0, Po_Powcst) -> Po_Z0    (name='Po_Pow')\n",
            "+kr='Po_Z0': (2, 4, 3) (dtype=float32 min=0.0 max=9.725165367126465)\n",
            "Onnx-Slice(Po_Z0, Cu_CumSumcst, Sl_Slicecst1, Cu_CumSumcst) -> Sl_output0    (name='Sl_Slice')\n",
            "+kr='Sl_output0': (1, 4, 3) (dtype=float32 min=0.0495007298886776 max=9.725165367126465)\n",
            "Onnx-Slice(Po_Z0, Sl_Slicecst1, Po_Powcst, Cu_CumSumcst) -> Sl_output02    (name='Sl_Slice1')\n",
            "+kr='Sl_output02': (1, 4, 3) (dtype=float32 min=0.0 max=5.094300746917725)\n",
            "Onnx-Squeeze(Sl_output0, Cu_CumSumcst) -> Sq_squeezed0    (name='Sq_Squeeze')\n",
            "+kr='Sq_squeezed0': (4, 3) (dtype=float32 min=0.0495007298886776 max=9.725165367126465)\n",
            "Onnx-Squeeze(Sl_output02, Cu_CumSumcst) -> Sq_squeezed02    (name='Sq_Squeeze1')\n",
            "+kr='Sq_squeezed02': (4, 3) (dtype=float32 min=0.0 max=5.094300746917725)\n",
            "Onnx-Add(Sq_squeezed0, Sq_squeezed02) -> Ad_C0    (name='Ad_Add1')\n",
            "+kr='Ad_C0': (4, 3) (dtype=float32 min=0.0495007298886776 max=9.725165367126465)\n",
            "Onnx-Sqrt(Ad_C0) -> Sq_Y0    (name='Sq_Sqrt')\n",
            "+kr='Sq_Y0': (4, 3) (dtype=float32 min=0.22248759865760803 max=3.1185197830200195)\n",
            "Onnx-Transpose(Sq_Y0) -> y    (name='Tr_Transpose1')\n",
            "+kr='y': (3, 4) (dtype=float32 min=0.22248759865760803 max=3.1185197830200195)\n"
          ]
        },
        {
          "data": {
            "text/plain": [
              "array([[3.1185198, 0.6882898, 2.5537028, 0.68829  ],\n",
              "       [2.9688714, 1.1822908, 0.2224876, 1.1822908],\n",
              "       [3.0031753, 2.3098822, 3.058436 , 2.3098824]], dtype=float32)"
            ]
          },
          "execution_count": 23,
          "metadata": {},
          "output_type": "execute_result"
        }
      ],
      "source": [
        " custom_fft_abs(x, verbose=1, fLOG=print)"
      ]
    },
    {
      "cell_type": "code",
      "execution_count": 23,
      "metadata": {},
      "outputs": [
        {
          "name": "stdout",
          "output_type": "stream",
          "text": [
            "24.1 \u00b5s \u00b1 2.45 \u00b5s per loop (mean \u00b1 std. dev. of 7 runs, 10,000 loops each)\n"
          ]
        }
      ],
      "source": [
        "%timeit custom_fft_abs_py(x)"
      ]
    },
    {
      "cell_type": "code",
      "execution_count": 24,
      "metadata": {},
      "outputs": [
        {
          "name": "stdout",
          "output_type": "stream",
          "text": [
            "309 \u00b5s \u00b1 65.8 \u00b5s per loop (mean \u00b1 std. dev. of 7 runs, 1,000 loops each)\n"
          ]
        }
      ],
      "source": [
        "%timeit custom_fft_abs(x)"
      ]
    },
    {
      "cell_type": "markdown",
      "metadata": {},
      "source": [
        "Again the gap is less on bigger matrices. It cannot be faster with the default runtime as it is also using *numpy*. That's another story with *onnxruntime* (see below)."
      ]
    },
    {
      "cell_type": "code",
      "execution_count": 25,
      "metadata": {},
      "outputs": [
        {
          "name": "stdout",
          "output_type": "stream",
          "text": [
            "1.53 ms \u00b1 150 \u00b5s per loop (mean \u00b1 std. dev. of 7 runs, 1,000 loops each)\n"
          ]
        }
      ],
      "source": [
        "bigx = numpy.random.randn(10000, x.shape[1]).astype(numpy.float32)\n",
        "%timeit custom_fft_abs_py(bigx)"
      ]
    },
    {
      "cell_type": "code",
      "execution_count": 26,
      "metadata": {},
      "outputs": [
        {
          "name": "stdout",
          "output_type": "stream",
          "text": [
            "4.51 ms \u00b1 455 \u00b5s per loop (mean \u00b1 std. dev. of 7 runs, 100 loops each)\n"
          ]
        }
      ],
      "source": [
        "%timeit custom_fft_abs(bigx)"
      ]
    },
    {
      "cell_type": "markdown",
      "metadata": {},
      "source": [
        "### Using onnxruntime\n",
        "\n",
        "The python runtime is using numpy but is usually quite slow as the runtime needs to go through the graph structure.\n",
        "*onnxruntime* is faster."
      ]
    },
    {
      "cell_type": "code",
      "execution_count": 27,
      "metadata": {},
      "outputs": [
        {
          "data": {
            "text/plain": [
              "array([[3.1185198, 0.6882898, 2.5537028, 0.68829  ],\n",
              "       [2.9688714, 1.1822908, 0.2224876, 1.1822908],\n",
              "       [3.0031753, 2.3098822, 3.058436 , 2.3098824]], dtype=float32)"
            ]
          },
          "execution_count": 28,
          "metadata": {},
          "output_type": "execute_result"
        }
      ],
      "source": [
        "@onnxnumpy_np(runtime='onnxruntime')\n",
        "def custom_fft_abs_ort(x: NDArray[Any, numpy.float32],\n",
        "                       ) -> NDArray[Any, numpy.float32]:\n",
        "    \"onnx fft + abs\"\n",
        "    return _custom_fft_abs(x)\n",
        "\n",
        "\n",
        "custom_fft_abs(x)"
      ]
    },
    {
      "cell_type": "code",
      "execution_count": 28,
      "metadata": {},
      "outputs": [
        {
          "name": "stderr",
          "output_type": "stream",
          "text": [
            "C:\\xadupre\\github\\mlprodict\\mlprodict\\npy\\numpy_onnx_impl.py:267: UserWarning: npnx.dot is equivalent to npnx.matmul == numpy.matmul != numpy.dot with arrays with more than 3D dimensions.\n",
            "  warnings.warn(\n"
          ]
        },
        {
          "name": "stdout",
          "output_type": "stream",
          "text": [
            "114 \u00b5s \u00b1 37.1 \u00b5s per loop (mean \u00b1 std. dev. of 7 runs, 1 loop each)\n"
          ]
        }
      ],
      "source": [
        "%timeit custom_fft_abs_ort(x)"
      ]
    },
    {
      "cell_type": "markdown",
      "metadata": {},
      "source": [
        "*onnxruntime* is faster than numpy in this case."
      ]
    },
    {
      "cell_type": "code",
      "execution_count": 29,
      "metadata": {},
      "outputs": [
        {
          "name": "stdout",
          "output_type": "stream",
          "text": [
            "256 \u00b5s \u00b1 20.2 \u00b5s per loop (mean \u00b1 std. dev. of 7 runs, 1,000 loops each)\n"
          ]
        }
      ],
      "source": [
        "%timeit custom_fft_abs_ort(bigx)"
      ]
    },
    {
      "cell_type": "markdown",
      "metadata": {},
      "source": [
        "### Inside a FunctionTransformer\n",
        "\n",
        "The conversion to ONNX fails if the python function is used."
      ]
    },
    {
      "cell_type": "code",
      "execution_count": 30,
      "metadata": {},
      "outputs": [
        {
          "name": "stdout",
          "output_type": "stream",
          "text": [
            "FunctionTransformer is not supported unless the transform function is of type <class 'function'> wrapped with onnxnumpy.\n"
          ]
        }
      ],
      "source": [
        "from mlprodict.onnx_conv import to_onnx\n",
        "\n",
        "tr = FunctionTransformer(custom_fft_abs_py)\n",
        "tr.fit(x)\n",
        "\n",
        "try:\n",
        "    onnx_model = to_onnx(tr, x)\n",
        "except Exception as e:\n",
        "    print(e)"
      ]
    },
    {
      "cell_type": "markdown",
      "metadata": {},
      "source": [
        "Now with the onnx version but before, the converter for FunctionTransformer needs to be overwritten to handle this functionality not available in [sklearn-onnx](https://github.com/onnx/sklearn-onnx). These version are automatically called in function [to_onnx](http://www.xavierdupre.fr/app/mlprodict/helpsphinx/mlprodict/onnx_conv/convert.html#mlprodict.onnx_conv.convert.to_onnx) from *mlprodict*."
      ]
    },
    {
      "cell_type": "code",
      "execution_count": 31,
      "metadata": {},
      "outputs": [],
      "source": [
        "tr = FunctionTransformer(custom_fft_abs)\n",
        "tr.fit(x)\n",
        "\n",
        "onnx_model = to_onnx(tr, x)"
      ]
    },
    {
      "cell_type": "code",
      "execution_count": 32,
      "metadata": {},
      "outputs": [
        {
          "data": {
            "text/plain": [
              "array([[3.1185198, 0.6882898, 2.5537028, 0.68829  ],\n",
              "       [2.9688714, 1.1822908, 0.2224876, 1.1822908],\n",
              "       [3.0031753, 2.3098822, 3.058436 , 2.3098824]], dtype=float32)"
            ]
          },
          "execution_count": 33,
          "metadata": {},
          "output_type": "execute_result"
        }
      ],
      "source": [
        "from mlprodict.onnxrt import OnnxInference\n",
        "\n",
        "oinf = OnnxInference(onnx_model)\n",
        "y_onx = oinf.run({'X': x})\n",
        "y_onx['variable']"
      ]
    },
    {
      "cell_type": "code",
      "execution_count": 33,
      "metadata": {},
      "outputs": [],
      "source": []
    }
  ],
  "metadata": {
    "kernelspec": {
      "display_name": "Python 3",
      "language": "python",
      "name": "python3"
    },
    "language_info": {
      "codemirror_mode": {
        "name": "ipython",
        "version": 3
      },
      "file_extension": ".py",
      "mimetype": "text/x-python",
      "name": "python",
      "nbconvert_exporter": "python",
      "pygments_lexer": "ipython3",
      "version": "3.9.5"
    }
  },
  "nbformat": 4,
  "nbformat_minor": 4
}