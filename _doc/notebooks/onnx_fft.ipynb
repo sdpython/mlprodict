{
  "cells": [
    {
      "cell_type": "markdown",
      "id": "51bc89fc",
      "metadata": {},
      "source": [
        "# ONNX and FFT\n",
        "\n",
        "ONNX does not fully support complex yet. It does not have any FFT operators either. What if we need them anyway?"
      ]
    },
    {
      "cell_type": "code",
      "execution_count": 1,
      "id": "7b2add97",
      "metadata": {},
      "outputs": [
        {
          "data": {
            "text/html": [
              "<div id=\"my_id_menu_nb\">run previous cell, wait for 2 seconds</div>\n",
              "<script>\n",
              "function repeat_indent_string(n){\n",
              "    var a = \"\" ;\n",
              "    for ( ; n > 0 ; --n)\n",
              "        a += \"    \";\n",
              "    return a;\n",
              "}\n",
              "// look up into all sections and builds an automated menu //\n",
              "var update_menu_string = function(begin, lfirst, llast, sformat, send, keep_item, begin_format, end_format) {\n",
              "    var anchors = document.getElementsByClassName(\"section\");\n",
              "    if (anchors.length == 0) {\n",
              "        anchors = document.getElementsByClassName(\"text_cell_render rendered_html\");\n",
              "    }\n",
              "    var i,t;\n",
              "    var text_menu = begin;\n",
              "    var text_memo = \"<pre>\\nlength:\" + anchors.length + \"\\n\";\n",
              "    var ind = \"\";\n",
              "    var memo_level = 1;\n",
              "    var href;\n",
              "    var tags = [];\n",
              "    var main_item = 0;\n",
              "    var format_open = 0;\n",
              "    for (i = 0; i <= llast; i++)\n",
              "        tags.push(\"h\" + i);\n",
              "\n",
              "    for (i = 0; i < anchors.length; i++) {\n",
              "        text_memo += \"**\" + anchors[i].id + \"--\\n\";\n",
              "\n",
              "        var child = null;\n",
              "        for(t = 0; t < tags.length; t++) {\n",
              "            var r = anchors[i].getElementsByTagName(tags[t]);\n",
              "            if (r.length > 0) {\n",
              "child = r[0];\n",
              "break;\n",
              "            }\n",
              "        }\n",
              "        if (child == null) {\n",
              "            text_memo += \"null\\n\";\n",
              "            continue;\n",
              "        }\n",
              "        if (anchors[i].hasAttribute(\"id\")) {\n",
              "            // when converted in RST\n",
              "            href = anchors[i].id;\n",
              "            text_memo += \"#1-\" + href;\n",
              "            // passer \u00e0 child suivant (le chercher)\n",
              "        }\n",
              "        else if (child.hasAttribute(\"id\")) {\n",
              "            // in a notebook\n",
              "            href = child.id;\n",
              "            text_memo += \"#2-\" + href;\n",
              "        }\n",
              "        else {\n",
              "            text_memo += \"#3-\" + \"*\" + \"\\n\";\n",
              "            continue;\n",
              "        }\n",
              "        var title = child.textContent;\n",
              "        var level = parseInt(child.tagName.substring(1,2));\n",
              "\n",
              "        text_memo += \"--\" + level + \"?\" + lfirst + \"--\" + title + \"\\n\";\n",
              "\n",
              "        if ((level < lfirst) || (level > llast)) {\n",
              "            continue ;\n",
              "        }\n",
              "        if (title.endsWith('\u00b6')) {\n",
              "            title = title.substring(0,title.length-1).replace(\"<\", \"&lt;\")\n",
              "         .replace(\">\", \"&gt;\").replace(\"&\", \"&amp;\");\n",
              "        }\n",
              "        if (title.length == 0) {\n",
              "            continue;\n",
              "        }\n",
              "\n",
              "        while (level < memo_level) {\n",
              "            text_menu += end_format + \"</ul>\\n\";\n",
              "            format_open -= 1;\n",
              "            memo_level -= 1;\n",
              "        }\n",
              "        if (level == lfirst) {\n",
              "            main_item += 1;\n",
              "        }\n",
              "        if (keep_item != -1 && main_item != keep_item + 1) {\n",
              "            // alert(main_item + \" - \" + level + \" - \" + keep_item);\n",
              "            continue;\n",
              "        }\n",
              "        while (level > memo_level) {\n",
              "            text_menu += \"<ul>\\n\";\n",
              "            memo_level += 1;\n",
              "        }\n",
              "        text_menu += repeat_indent_string(level-2);\n",
              "        text_menu += begin_format + sformat.replace(\"__HREF__\", href).replace(\"__TITLE__\", title);\n",
              "        format_open += 1;\n",
              "    }\n",
              "    while (1 < memo_level) {\n",
              "        text_menu += end_format + \"</ul>\\n\";\n",
              "        memo_level -= 1;\n",
              "        format_open -= 1;\n",
              "    }\n",
              "    text_menu += send;\n",
              "    //text_menu += \"\\n\" + text_memo;\n",
              "\n",
              "    while (format_open > 0) {\n",
              "        text_menu += end_format;\n",
              "        format_open -= 1;\n",
              "    }\n",
              "    return text_menu;\n",
              "};\n",
              "var update_menu = function() {\n",
              "    var sbegin = \"\";\n",
              "    var sformat = '<a href=\"#__HREF__\">__TITLE__</a>';\n",
              "    var send = \"\";\n",
              "    var begin_format = '<li>';\n",
              "    var end_format = '</li>';\n",
              "    var keep_item = -1;\n",
              "    var text_menu = update_menu_string(sbegin, 2, 4, sformat, send, keep_item,\n",
              "       begin_format, end_format);\n",
              "    var menu = document.getElementById(\"my_id_menu_nb\");\n",
              "    menu.innerHTML=text_menu;\n",
              "};\n",
              "window.setTimeout(update_menu,2000);\n",
              "            </script>"
            ],
            "text/plain": [
              "<IPython.core.display.HTML object>"
            ]
          },
          "execution_count": 2,
          "metadata": {},
          "output_type": "execute_result"
        }
      ],
      "source": [
        "from jyquickhelper import add_notebook_menu\n",
        "add_notebook_menu()"
      ]
    },
    {
      "cell_type": "code",
      "execution_count": 2,
      "id": "acfdc3b0",
      "metadata": {},
      "outputs": [],
      "source": [
        "%load_ext mlprodict"
      ]
    },
    {
      "cell_type": "code",
      "execution_count": 3,
      "id": "abb5fa88",
      "metadata": {},
      "outputs": [
        {
          "data": {
            "text/plain": [
              "'1.22.1'"
            ]
          },
          "execution_count": 4,
          "metadata": {},
          "output_type": "execute_result"
        }
      ],
      "source": [
        "import numpy\n",
        "numpy.__version__"
      ]
    },
    {
      "cell_type": "markdown",
      "id": "2e4f68e4",
      "metadata": {},
      "source": [
        "## Python implementation of RFFT\n",
        "\n",
        "We try to replicate [numpy.rfft](https://numpy.org/doc/stable/reference/generated/numpy.fft.rfft.html)."
      ]
    },
    {
      "cell_type": "code",
      "execution_count": 4,
      "id": "cb1cc910",
      "metadata": {},
      "outputs": [
        {
          "data": {
            "text/plain": [
              "array([[-0.75051495+0.j        ,  1.33475465+3.13179737j,\n",
              "        -1.87604383+0.49239622j,  0.73039102+1.11186655j],\n",
              "       [-0.76200065+0.j        ,  0.03706497+0.76383572j,\n",
              "         2.22939392-1.13904508j, -3.81884915+0.45814935j],\n",
              "       [ 1.2141826 +0.j        ,  0.50065353-2.12543076j,\n",
              "        -3.10769194+0.43760207j, -0.91013869+0.88561919j],\n",
              "       [-2.93666464+0.j        ,  1.07270369-2.56275325j,\n",
              "        -1.42040003+0.10802866j, -1.65220639-2.11547056j],\n",
              "       [ 2.98258114+0.j        , -1.71955059-1.29732326j,\n",
              "         1.22977031+0.34286838j, -0.76048649+1.50560422j]])"
            ]
          },
          "execution_count": 5,
          "metadata": {},
          "output_type": "execute_result"
        }
      ],
      "source": [
        "import numpy\n",
        "\n",
        "\n",
        "def almost_equal(a, b, error=1e-5):\n",
        "    \"\"\"\n",
        "    The function compares two matrices, one may be complex. In that case,\n",
        "    this matrix is changed into a new matrix with a new first dimension,\n",
        "    [0,::] means real part, [1,::] means imaginary part.\n",
        "    \"\"\"\n",
        "    if a.dtype in (numpy.complex64, numpy.complex128):\n",
        "        dtype = numpy.float64 if a.dtype == numpy.complex128 else numpy.float32\n",
        "        new_a = numpy.empty((2,) + a.shape).astype(dtype)\n",
        "        new_a[0] = numpy.real(a)\n",
        "        new_a[1] = numpy.imag(a)\n",
        "        return almost_equal(new_a, b, error)\n",
        "    if b.dtype in (numpy.complex64, numpy.complex128):\n",
        "        return almost_equal(b, a, error)\n",
        "    if a.shape != b.shape:\n",
        "        raise AssertionError(\"Shape mismatch %r != %r.\" % (a.shape, b.shape))\n",
        "    diff = numpy.abs(a.ravel() - b.ravel()).max()\n",
        "    if diff > error:\n",
        "        raise AssertionError(\"Mismatch max diff=%r > %r.\" % (diff, error))\n",
        "\n",
        "\n",
        "def dft_real_cst(N, fft_length):\n",
        "    n = numpy.arange(N)\n",
        "    k = n.reshape((N, 1)).astype(numpy.float64)\n",
        "    M = numpy.exp(-2j * numpy.pi * k * n / fft_length)\n",
        "    both = numpy.empty((2,) + M.shape)\n",
        "    both[0, :, :] = numpy.real(M)\n",
        "    both[1, :, :] = numpy.imag(M)\n",
        "    return both\n",
        "\n",
        "\n",
        "def dft_real(x, fft_length=None, transpose=True):\n",
        "    if len(x.shape) == 1:\n",
        "        x = x.reshape((1, -1))\n",
        "        N = 1\n",
        "    else:\n",
        "        N = x.shape[0]        \n",
        "    C = x.shape[-1] if transpose else x.shape[-2]\n",
        "    if fft_length is None:\n",
        "        fft_length = x.shape[-1]\n",
        "    size = fft_length // 2 + 1\n",
        "\n",
        "    cst = dft_real_cst(C, fft_length)\n",
        "    if transpose:\n",
        "        x = numpy.transpose(x, (1, 0))\n",
        "        a = cst[:, :, :fft_length]\n",
        "        b = x[:fft_length]\n",
        "        res = numpy.matmul(a, b)\n",
        "        res = res[:, :size, :]\n",
        "        return numpy.transpose(res, (0, 2, 1))\n",
        "    else:\n",
        "        a = cst[:, :, :fft_length]\n",
        "        b = x[:fft_length]\n",
        "        return numpy.matmul(a, b)\n",
        "\n",
        "\n",
        "rnd = numpy.random.randn(5, 7).astype(numpy.float32)\n",
        "fft_np = numpy.fft.rfft(rnd)\n",
        "fft_cus = dft_real(rnd)\n",
        "fft_np"
      ]
    },
    {
      "cell_type": "markdown",
      "id": "0c052ea1",
      "metadata": {},
      "source": [
        "Function `almost_equal` verifies both functions return the same results."
      ]
    },
    {
      "cell_type": "code",
      "execution_count": 5,
      "id": "3ca040cb",
      "metadata": {},
      "outputs": [],
      "source": [
        "almost_equal(fft_np, fft_cus)"
      ]
    },
    {
      "cell_type": "markdown",
      "id": "7fe77440",
      "metadata": {},
      "source": [
        "Let's do the same with `fft_length < shape[1]`."
      ]
    },
    {
      "cell_type": "code",
      "execution_count": 6,
      "id": "3a747a4a",
      "metadata": {},
      "outputs": [
        {
          "data": {
            "text/plain": [
              "array([[-1.10793678+0.j        ,  0.4741874 +0.66750763j],\n",
              "       [-1.34050566+0.j        , -0.15834314-2.11824309j],\n",
              "       [ 1.72974443+0.j        , -2.11205184+0.59408175j],\n",
              "       [-0.06082912+0.j        , -1.45597189-1.08558287j],\n",
              "       [ 1.1374151 +0.j        , -0.46541163+0.50106358j]])"
            ]
          },
          "execution_count": 7,
          "metadata": {},
          "output_type": "execute_result"
        }
      ],
      "source": [
        "fft_np3 = numpy.fft.rfft(rnd, n=3)\n",
        "fft_cus3 = dft_real(rnd, fft_length=3)\n",
        "fft_np3"
      ]
    },
    {
      "cell_type": "code",
      "execution_count": 7,
      "id": "0db6247b",
      "metadata": {},
      "outputs": [],
      "source": [
        "almost_equal(fft_np3, fft_cus3)"
      ]
    },
    {
      "cell_type": "markdown",
      "id": "31a6ac9c",
      "metadata": {},
      "source": [
        "## RFFT in ONNX\n",
        "\n",
        "Let's assume first the number of column of the input matrix is fixed. The result of function `dft_real_cst` can be considered as constant."
      ]
    },
    {
      "cell_type": "code",
      "execution_count": 8,
      "id": "efb67b9b",
      "metadata": {
        "scrolled": false
      },
      "outputs": [
        {
          "name": "stdout",
          "output_type": "stream",
          "text": [
            "No CUDA runtime is found, using CUDA_HOME='C:\\Program Files\\NVIDIA GPU Computing Toolkit\\CUDA\\v11.5'\n"
          ]
        },
        {
          "data": {
            "text/plain": [
              "array([[[-0.75051486,  1.3347546 , -1.8760438 ,  0.730391  ],\n",
              "        [-0.7620005 ,  0.03706497,  2.2293937 , -3.8188488 ],\n",
              "        [ 1.2141826 ,  0.50065356, -3.107692  , -0.9101387 ],\n",
              "        [-2.9366646 ,  1.0727037 , -1.4204    , -1.6522063 ],\n",
              "        [ 2.9825811 , -1.7195507 ,  1.2297703 , -0.7604865 ]],\n",
              "\n",
              "       [[ 0.        ,  3.1317973 ,  0.49239618,  1.1118665 ],\n",
              "        [ 0.        ,  0.7638357 , -1.1390451 ,  0.4581493 ],\n",
              "        [ 0.        , -2.1254308 ,  0.437602  ,  0.88561916],\n",
              "        [ 0.        , -2.5627534 ,  0.10802869, -2.1154706 ],\n",
              "        [ 0.        , -1.2973232 ,  0.34286833,  1.5056041 ]]],\n",
              "      dtype=float32)"
            ]
          },
          "execution_count": 9,
          "metadata": {},
          "output_type": "execute_result"
        }
      ],
      "source": [
        "from typing import Any\n",
        "import mlprodict.npy.numpy_onnx_impl as npnx\n",
        "from mlprodict.npy import onnxnumpy_np\n",
        "from mlprodict.npy.onnx_numpy_annotation import NDArrayType\n",
        "# from mlprodict.onnxrt import OnnxInference\n",
        "\n",
        "@onnxnumpy_np(signature=NDArrayType((\"T:all\", ), dtypes_out=('T',)))\n",
        "def onnx_rfft(x, fft_length=None):\n",
        "    if fft_length is None:\n",
        "        raise RuntimeError(\"fft_length must be specified.\")\n",
        "    \n",
        "    size = fft_length // 2 + 1\n",
        "    cst = dft_real_cst(fft_length, fft_length).astype(numpy.float32)\n",
        "    xt = npnx.transpose(x, (1, 0))\n",
        "    res = npnx.matmul(cst[:, :, :fft_length], xt[:fft_length])[:, :size, :]\n",
        "    return npnx.transpose(res, (0, 2, 1))\n",
        "\n",
        "fft_onx = onnx_rfft(rnd, fft_length=rnd.shape[1])\n",
        "fft_onx"
      ]
    },
    {
      "cell_type": "code",
      "execution_count": 9,
      "id": "c4b6b1a5",
      "metadata": {},
      "outputs": [],
      "source": [
        "almost_equal(fft_cus, fft_onx)"
      ]
    },
    {
      "cell_type": "markdown",
      "id": "a8c35327",
      "metadata": {},
      "source": [
        "The corresponding ONNX graph is the following:"
      ]
    },
    {
      "cell_type": "code",
      "execution_count": 10,
      "id": "4d1a85b0",
      "metadata": {},
      "outputs": [
        {
          "data": {
            "text/html": [
              "<div id=\"M838dc3de0c0148a9b7296b80a1456df3-cont\"><div id=\"M838dc3de0c0148a9b7296b80a1456df3\" style=\"width:;height:;\"></div></div>\n",
              "<script>\n",
              "\n",
              "require(['http://www.xavierdupre.fr/js/vizjs/viz.js'], function() { var svgGraph = Viz(\"digraph{\\n  orientation=portrait;\\n  nodesep=0.05;\\n  ranksep=0.25;\\n  size=7;\\n\\n  x [shape=box color=red label=\\\"x\\nfloat(('?',))\\\" fontsize=10];\\n\\n  y [shape=box color=green label=\\\"y\\nfloat(('?',))\\\" fontsize=10];\\n\\n  Ma_MatMulcst [shape=box label=\\\"Ma_MatMulcst\\nfloat32((2, 7, 7))\\n[[[ 1.          1.          1.          1.        ...\\\" fontsize=10];\\n  Sl_Slicecst [shape=box label=\\\"Sl_Slicecst\\nint64((1,))\\n[0]\\\" fontsize=10];\\n  Sl_Slicecst1 [shape=box label=\\\"Sl_Slicecst1\\nint64((1,))\\n[7]\\\" fontsize=10];\\n  Sl_Slicecst4 [shape=box label=\\\"Sl_Slicecst4\\nint64((1,))\\n[4]\\\" fontsize=10];\\n  Sl_Slicecst5 [shape=box label=\\\"Sl_Slicecst5\\nint64((1,))\\n[1]\\\" fontsize=10];\\n\\n  Tr_transposed0 [shape=box label=\\\"Tr_transposed0\\\" fontsize=10];\\n  Tr_Transpose [shape=box style=\\\"filled,rounded\\\" color=orange label=\\\"Transpose\\n(Tr_Transpose)\\nperm=[1 0]\\\" fontsize=10];\\n  x -> Tr_Transpose;\\n  Tr_Transpose -> Tr_transposed0;\\n\\n  Sl_output01 [shape=box label=\\\"Sl_output01\\\" fontsize=10];\\n  Sl_Slice [shape=box style=\\\"filled,rounded\\\" color=orange label=\\\"Slice\\n(Sl_Slice)\\\" fontsize=10];\\n  Tr_transposed0 -> Sl_Slice;\\n  Sl_Slicecst -> Sl_Slice;\\n  Sl_Slicecst1 -> Sl_Slice;\\n  Sl_Slicecst -> Sl_Slice;\\n  Sl_Slice -> Sl_output01;\\n\\n  Ma_Y0 [shape=box label=\\\"Ma_Y0\\\" fontsize=10];\\n  Ma_MatMul [shape=box style=\\\"filled,rounded\\\" color=orange label=\\\"MatMul\\n(Ma_MatMul)\\\" fontsize=10];\\n  Ma_MatMulcst -> Ma_MatMul;\\n  Sl_output01 -> Ma_MatMul;\\n  Ma_MatMul -> Ma_Y0;\\n\\n  Sl_output0 [shape=box label=\\\"Sl_output0\\\" fontsize=10];\\n  Sl_Slice1 [shape=box style=\\\"filled,rounded\\\" color=orange label=\\\"Slice\\n(Sl_Slice1)\\\" fontsize=10];\\n  Ma_Y0 -> Sl_Slice1;\\n  Sl_Slicecst -> Sl_Slice1;\\n  Sl_Slicecst4 -> Sl_Slice1;\\n  Sl_Slicecst5 -> Sl_Slice1;\\n  Sl_Slice1 -> Sl_output0;\\n\\n  Tr_Transpose1 [shape=box style=\\\"filled,rounded\\\" color=orange label=\\\"Transpose\\n(Tr_Transpose1)\\nperm=[0 2 1]\\\" fontsize=10];\\n  Sl_output0 -> Tr_Transpose1;\\n  Tr_Transpose1 -> y;\\n}\");\n",
              "document.getElementById('M838dc3de0c0148a9b7296b80a1456df3').innerHTML = svgGraph; });\n",
              "\n",
              "</script>"
            ],
            "text/plain": [
              "<jyquickhelper.jspy.render_nb_js_dot.RenderJsDot at 0x1fc5dd4a0d0>"
            ]
          },
          "execution_count": 11,
          "metadata": {},
          "output_type": "execute_result"
        }
      ],
      "source": [
        "%onnxview onnx_rfft.to_onnx()"
      ]
    },
    {
      "cell_type": "code",
      "execution_count": 11,
      "id": "6cf18aca",
      "metadata": {},
      "outputs": [],
      "source": [
        "fft_onx3 = onnx_rfft(rnd, fft_length=3)\n",
        "almost_equal(fft_cus3, fft_onx3)"
      ]
    },
    {
      "cell_type": "markdown",
      "id": "6b466fd4",
      "metadata": {},
      "source": [
        "## FFT 2D\n",
        "\n",
        "Below the code for complex features."
      ]
    },
    {
      "cell_type": "code",
      "execution_count": 12,
      "id": "e0020084",
      "metadata": {},
      "outputs": [
        {
          "data": {
            "text/plain": [
              "array([[10.14779193+0.j        , -1.55134743-1.67220211j,\n",
              "         3.23984394-7.15630184j, -8.55688343-3.86255514j],\n",
              "       [-5.47836537-7.29111075j, -1.44693655-4.16582164j,\n",
              "        -0.15482528-2.91009629j, -5.74598895+0.4286478j ],\n",
              "       [ 0.37482297-4.60517198j, -3.39913789+3.28850098j,\n",
              "        -4.56144176+9.89934275j,  5.52501083-1.01792048j],\n",
              "       [ 0.37482297+4.60517198j, -4.16542648-0.19354436j,\n",
              "         1.59761181-7.05603298j,  0.02120182+6.56731064j],\n",
              "       [-5.47836537+7.29111075j,  2.29746565+7.31672206j,\n",
              "         1.93122673+1.08542613j, -2.22944407+2.13972051j]])"
            ]
          },
          "execution_count": 13,
          "metadata": {},
          "output_type": "execute_result"
        }
      ],
      "source": [
        "def _DFT_cst(N, fft_length, trunc=True):\n",
        "    n = numpy.arange(N)\n",
        "    k = n.reshape((N, 1)).astype(numpy.float64)\n",
        "    M = numpy.exp(-2j * numpy.pi * k * n / fft_length)\n",
        "    return M[:fft_length // 2 + 1] if trunc else M\n",
        "\n",
        "def DFT(x, fft_length=None, axis=1):\n",
        "    if axis == 1:\n",
        "        x = x.T\n",
        "    if fft_length is None:\n",
        "        fft_length = x.shape[0]\n",
        "    cst = _DFT_cst(x.shape[0], fft_length, trunc=axis==1)\n",
        "    if axis == 1:\n",
        "        return numpy.matmul(cst, x).T\n",
        "    return numpy.matmul(cst, x)\n",
        "\n",
        "def fft2d_(mat, fft_length):\n",
        "    mat = mat[:fft_length[0], :fft_length[1]]\n",
        "    res = mat.copy()\n",
        "    res = DFT(res, fft_length[1], axis=1)\n",
        "    res = DFT(res, fft_length[0], axis=0)\n",
        "    return res[:fft_length[0], :fft_length[1]//2 + 1]\n",
        "\n",
        "\n",
        "rnd = numpy.random.randn(5, 7).astype(numpy.float32)\n",
        "fft2d_np_ = fft2d_(rnd, rnd.shape)\n",
        "fft2d_np = numpy.fft.rfft2(rnd)\n",
        "fft2d_np_"
      ]
    },
    {
      "cell_type": "code",
      "execution_count": 13,
      "id": "777d2775",
      "metadata": {},
      "outputs": [],
      "source": [
        "almost_equal(fft2d_np_, fft2d_np)"
      ]
    },
    {
      "cell_type": "markdown",
      "id": "cfbbe2fd",
      "metadata": {},
      "source": [
        "It implies the computation of two FFT 1D along both axes. However, as ONNX does not support complex, it needs to be rewritten with only real numbers. The algorithm can be summarized into this formula $FFT(FFT(x, axis=1), axis=0)$. If *x* is real, $FFT(x, .)$ is complex. We still assume *x* is real, it then becomes (FFT is a linear operator, so $FFT(ix)=i FFT(x)$):\n",
        "\n",
        "* $y = FFT(x, axis=1)$\n",
        "* $z_r = FFT(Real(y), axis=0)$, $z_i = FFT(Imag(y), axis=0)$\n",
        "* $z = z_r + i z_i$\n",
        "\n",
        "*z* is the desired output. The following implementation is probably not the most efficient one. It avoids inplace computation as ONNX does like that."
      ]
    },
    {
      "cell_type": "code",
      "execution_count": 14,
      "id": "dd4fc711",
      "metadata": {},
      "outputs": [],
      "source": [
        "def fft2d(mat, fft_length):\n",
        "    mat = mat[:fft_length[0], :fft_length[1]]\n",
        "    res = mat.copy()\n",
        "    \n",
        "    # first FFT\n",
        "    res = dft_real(res, fft_length=fft_length[1], transpose=True)\n",
        "    \n",
        "    # second FFT decomposed on FFT on real part and imaginary part\n",
        "    res2_real = dft_real(res[0], fft_length=fft_length[0], transpose=False)\n",
        "    res2_imag = dft_real(res[1], fft_length=fft_length[0], transpose=False)    \n",
        "    res2_imag2 = numpy.vstack([-res2_imag[1:2], res2_imag[:1]])\n",
        "    res = res2_real + res2_imag2\n",
        "    size = fft_length[1]//2 + 1\n",
        "    return res[:, :fft_length[0], :size]\n",
        "\n",
        "\n",
        "fft2d_np = numpy.fft.rfft2(rnd)\n",
        "fft2d_cus = fft2d(rnd, rnd.shape)\n",
        "almost_equal(fft2d_np, fft2d_cus)"
      ]
    },
    {
      "cell_type": "code",
      "execution_count": 15,
      "id": "bb8667e6",
      "metadata": {},
      "outputs": [
        {
          "data": {
            "text/plain": [
              "array([[10.14779193+0.j        , -1.55134743-1.67220211j,\n",
              "         3.23984394-7.15630184j, -8.55688343-3.86255514j],\n",
              "       [-5.47836537-7.29111075j, -1.44693655-4.16582164j,\n",
              "        -0.15482528-2.91009629j, -5.74598895+0.4286478j ],\n",
              "       [ 0.37482297-4.60517198j, -3.39913789+3.28850098j,\n",
              "        -4.56144176+9.89934275j,  5.52501083-1.01792048j],\n",
              "       [ 0.37482297+4.60517198j, -4.16542648-0.19354436j,\n",
              "         1.59761181-7.05603298j,  0.02120182+6.56731064j],\n",
              "       [-5.47836537+7.29111075j,  2.29746565+7.31672206j,\n",
              "         1.93122673+1.08542613j, -2.22944407+2.13972051j]])"
            ]
          },
          "execution_count": 16,
          "metadata": {},
          "output_type": "execute_result"
        }
      ],
      "source": [
        "fft2d_np"
      ]
    },
    {
      "cell_type": "code",
      "execution_count": 16,
      "id": "56a94d97",
      "metadata": {},
      "outputs": [
        {
          "data": {
            "text/plain": [
              "array([[[10.14779193, -1.55134743,  3.23984394, -8.55688343],\n",
              "        [-5.47836537, -1.44693655, -0.15482528, -5.74598895],\n",
              "        [ 0.37482297, -3.39913789, -4.56144176,  5.52501083],\n",
              "        [ 0.37482297, -4.16542648,  1.59761181,  0.02120182],\n",
              "        [-5.47836537,  2.29746565,  1.93122673, -2.22944407]],\n",
              "\n",
              "       [[ 0.        , -1.67220211, -7.15630184, -3.86255514],\n",
              "        [-7.29111075, -4.16582164, -2.91009629,  0.4286478 ],\n",
              "        [-4.60517198,  3.28850098,  9.89934275, -1.01792048],\n",
              "        [ 4.60517198, -0.19354436, -7.05603298,  6.56731064],\n",
              "        [ 7.29111075,  7.31672206,  1.08542613,  2.13972051]]])"
            ]
          },
          "execution_count": 17,
          "metadata": {},
          "output_type": "execute_result"
        }
      ],
      "source": [
        "fft2d_cus"
      ]
    },
    {
      "cell_type": "markdown",
      "id": "faa21909",
      "metadata": {},
      "source": [
        "And with a different `fft_length`."
      ]
    },
    {
      "cell_type": "code",
      "execution_count": 17,
      "id": "bf98995f",
      "metadata": {},
      "outputs": [],
      "source": [
        "fft2d_np = numpy.fft.rfft2(rnd, (4, 6))\n",
        "fft2d_cus = fft2d(rnd, (4, 6))\n",
        "almost_equal(fft2d_np[:4, :], fft2d_cus)"
      ]
    },
    {
      "cell_type": "markdown",
      "id": "caee1f84",
      "metadata": {},
      "source": [
        "## FFT 2D in ONNX\n",
        "\n",
        "We use again the numpy API for ONNX."
      ]
    },
    {
      "cell_type": "code",
      "execution_count": 18,
      "id": "ca641274",
      "metadata": {},
      "outputs": [],
      "source": [
        "def onnx_rfft_1d(x, fft_length=None, transpose=True):\n",
        "    if fft_length is None:\n",
        "        raise RuntimeError(\"fft_length must be specified.\")\n",
        "    \n",
        "    size = fft_length // 2 + 1\n",
        "    cst = dft_real_cst(fft_length, fft_length).astype(numpy.float32)\n",
        "    if transpose:\n",
        "        xt = npnx.transpose(x, (1, 0))\n",
        "        res = npnx.matmul(cst[:, :, :fft_length], xt[:fft_length])[:, :size, :]\n",
        "        return npnx.transpose(res, (0, 2, 1))\n",
        "    else:\n",
        "        return npnx.matmul(cst[:, :, :fft_length], x[:fft_length])\n",
        "\n",
        "\n",
        "@onnxnumpy_np(signature=NDArrayType((\"T:all\", ), dtypes_out=('T',)))\n",
        "def onnx_rfft_2d(x, fft_length=None):\n",
        "    mat = x[:fft_length[0], :fft_length[1]]\n",
        "    \n",
        "    # first FFT\n",
        "    res = onnx_rfft_1d(mat, fft_length=fft_length[1], transpose=True)\n",
        "    \n",
        "    # second FFT decomposed on FFT on real part and imaginary part\n",
        "    res2_real = onnx_rfft_1d(res[0], fft_length=fft_length[0], transpose=False)\n",
        "    res2_imag = onnx_rfft_1d(res[1], fft_length=fft_length[0], transpose=False)    \n",
        "    res2_imag2 = npnx.vstack(-res2_imag[1:2], res2_imag[:1])\n",
        "    res = res2_real + res2_imag2\n",
        "    size = fft_length[1]//2 + 1\n",
        "    return res[:, :fft_length[0], :size]\n",
        "\n",
        "\n",
        "fft2d_cus = fft2d(rnd, rnd.shape)\n",
        "fft2d_onx = onnx_rfft_2d(rnd, fft_length=rnd.shape)\n",
        "almost_equal(fft2d_cus, fft2d_onx)"
      ]
    },
    {
      "cell_type": "markdown",
      "id": "20fcd8a9",
      "metadata": {},
      "source": [
        "The corresponding ONNX graph."
      ]
    },
    {
      "cell_type": "code",
      "execution_count": 19,
      "id": "b1379b06",
      "metadata": {
        "scrolled": false
      },
      "outputs": [
        {
          "data": {
            "text/html": [
              "<div id=\"Mabd94ef8a71d4533b79664d46c158986-cont\"><div id=\"Mabd94ef8a71d4533b79664d46c158986\" style=\"width:;height:;\"></div></div>\n",
              "<script>\n",
              "\n",
              "require(['http://www.xavierdupre.fr/js/vizjs/viz.js'], function() { var svgGraph = Viz(\"digraph{\\n  orientation=portrait;\\n  nodesep=0.05;\\n  ranksep=0.25;\\n  size=7;\\n\\n  x [shape=box color=red label=\\\"x\\nfloat(('?',))\\\" fontsize=10];\\n\\n  y [shape=box color=green label=\\\"y\\nfloat(('?',))\\\" fontsize=10];\\n\\n  Ma_MatMulcst [shape=box label=\\\"Ma_MatMulcst\\nfloat32((2, 5, 5))\\n[[[ 1.          1.          1.          1.        ...\\\" fontsize=10];\\n  Ma_MatMulcst1 [shape=box label=\\\"Ma_MatMulcst1\\nfloat32((2, 7, 7))\\n[[[ 1.          1.          1.          1.        ...\\\" fontsize=10];\\n  Sl_Slicecst [shape=box label=\\\"Sl_Slicecst\\nint64((2,))\\n[0 0]\\\" fontsize=10];\\n  Sl_Slicecst1 [shape=box label=\\\"Sl_Slicecst1\\nint64((2,))\\n[5 7]\\\" fontsize=10];\\n  Sl_Slicecst2 [shape=box label=\\\"Sl_Slicecst2\\nint64((2,))\\n[0 1]\\\" fontsize=10];\\n  Sl_Slicecst3 [shape=box label=\\\"Sl_Slicecst3\\nint64((1,))\\n[0]\\\" fontsize=10];\\n  Sl_Slicecst4 [shape=box label=\\\"Sl_Slicecst4\\nint64((1,))\\n[7]\\\" fontsize=10];\\n  Sl_Slicecst7 [shape=box label=\\\"Sl_Slicecst7\\nint64((1,))\\n[4]\\\" fontsize=10];\\n  Sl_Slicecst8 [shape=box label=\\\"Sl_Slicecst8\\nint64((1,))\\n[1]\\\" fontsize=10];\\n  Ga_Gathercst [shape=box label=\\\"Ga_Gathercst\\nint64(())\\n0\\\" fontsize=10];\\n  Sl_Slicecst10 [shape=box label=\\\"Sl_Slicecst10\\nint64((1,))\\n[5]\\\" fontsize=10];\\n  Ga_Gathercst1 [shape=box label=\\\"Ga_Gathercst1\\nint64(())\\n1\\\" fontsize=10];\\n  Sl_Slicecst16 [shape=box label=\\\"Sl_Slicecst16\\nint64((1,))\\n[2]\\\" fontsize=10];\\n  Sl_Slicecst22 [shape=box label=\\\"Sl_Slicecst22\\nint64((2,))\\n[5 4]\\\" fontsize=10];\\n  Sl_Slicecst23 [shape=box label=\\\"Sl_Slicecst23\\nint64((2,))\\n[1 2]\\\" fontsize=10];\\n\\n  Sl_output03 [shape=box label=\\\"Sl_output03\\\" fontsize=10];\\n  Sl_Slice [shape=box style=\\\"filled,rounded\\\" color=orange label=\\\"Slice\\n(Sl_Slice)\\\" fontsize=10];\\n  x -> Sl_Slice;\\n  Sl_Slicecst -> Sl_Slice;\\n  Sl_Slicecst1 -> Sl_Slice;\\n  Sl_Slicecst2 -> Sl_Slice;\\n  Sl_Slice -> Sl_output03;\\n\\n  Tr_transposed01 [shape=box label=\\\"Tr_transposed01\\\" fontsize=10];\\n  Tr_Transpose [shape=box style=\\\"filled,rounded\\\" color=orange label=\\\"Transpose\\n(Tr_Transpose)\\nperm=[1 0]\\\" fontsize=10];\\n  Sl_output03 -> Tr_Transpose;\\n  Tr_Transpose -> Tr_transposed01;\\n\\n  Sl_output02 [shape=box label=\\\"Sl_output02\\\" fontsize=10];\\n  Sl_Slice1 [shape=box style=\\\"filled,rounded\\\" color=orange label=\\\"Slice\\n(Sl_Slice1)\\\" fontsize=10];\\n  Tr_transposed01 -> Sl_Slice1;\\n  Sl_Slicecst3 -> Sl_Slice1;\\n  Sl_Slicecst4 -> Sl_Slice1;\\n  Sl_Slicecst3 -> Sl_Slice1;\\n  Sl_Slice1 -> Sl_output02;\\n\\n  Ma_Y01 [shape=box label=\\\"Ma_Y01\\\" fontsize=10];\\n  Ma_MatMul [shape=box style=\\\"filled,rounded\\\" color=orange label=\\\"MatMul\\n(Ma_MatMul)\\\" fontsize=10];\\n  Ma_MatMulcst1 -> Ma_MatMul;\\n  Sl_output02 -> Ma_MatMul;\\n  Ma_MatMul -> Ma_Y01;\\n\\n  Sl_output01 [shape=box label=\\\"Sl_output01\\\" fontsize=10];\\n  Sl_Slice2 [shape=box style=\\\"filled,rounded\\\" color=orange label=\\\"Slice\\n(Sl_Slice2)\\\" fontsize=10];\\n  Ma_Y01 -> Sl_Slice2;\\n  Sl_Slicecst3 -> Sl_Slice2;\\n  Sl_Slicecst7 -> Sl_Slice2;\\n  Sl_Slicecst8 -> Sl_Slice2;\\n  Sl_Slice2 -> Sl_output01;\\n\\n  Tr_transposed0 [shape=box label=\\\"Tr_transposed0\\\" fontsize=10];\\n  Tr_Transpose1 [shape=box style=\\\"filled,rounded\\\" color=orange label=\\\"Transpose\\n(Tr_Transpose1)\\nperm=[0 2 1]\\\" fontsize=10];\\n  Sl_output01 -> Tr_Transpose1;\\n  Tr_Transpose1 -> Tr_transposed0;\\n\\n  Ga_output02 [shape=box label=\\\"Ga_output02\\\" fontsize=10];\\n  Ga_Gather1 [shape=box style=\\\"filled,rounded\\\" color=orange label=\\\"Gather\\n(Ga_Gather1)\\naxis=0\\\" fontsize=10];\\n  Tr_transposed0 -> Ga_Gather1;\\n  Ga_Gathercst1 -> Ga_Gather1;\\n  Ga_Gather1 -> Ga_output02;\\n\\n  Ga_output0 [shape=box label=\\\"Ga_output0\\\" fontsize=10];\\n  Ga_Gather [shape=box style=\\\"filled,rounded\\\" color=orange label=\\\"Gather\\n(Ga_Gather)\\naxis=0\\\" fontsize=10];\\n  Tr_transposed0 -> Ga_Gather;\\n  Ga_Gathercst -> Ga_Gather;\\n  Ga_Gather -> Ga_output0;\\n\\n  Sl_output0 [shape=box label=\\\"Sl_output0\\\" fontsize=10];\\n  Sl_Slice3 [shape=box style=\\\"filled,rounded\\\" color=orange label=\\\"Slice\\n(Sl_Slice3)\\\" fontsize=10];\\n  Ga_output0 -> Sl_Slice3;\\n  Sl_Slicecst3 -> Sl_Slice3;\\n  Sl_Slicecst10 -> Sl_Slice3;\\n  Sl_Slicecst3 -> Sl_Slice3;\\n  Sl_Slice3 -> Sl_output0;\\n\\n  Sl_output06 [shape=box label=\\\"Sl_output06\\\" fontsize=10];\\n  Sl_Slice4 [shape=box style=\\\"filled,rounded\\\" color=orange label=\\\"Slice\\n(Sl_Slice4)\\\" fontsize=10];\\n  Ga_output02 -> Sl_Slice4;\\n  Sl_Slicecst3 -> Sl_Slice4;\\n  Sl_Slicecst10 -> Sl_Slice4;\\n  Sl_Slicecst3 -> Sl_Slice4;\\n  Sl_Slice4 -> Sl_output06;\\n\\n  Ma_Y03 [shape=box label=\\\"Ma_Y03\\\" fontsize=10];\\n  Ma_MatMul2 [shape=box style=\\\"filled,rounded\\\" color=orange label=\\\"MatMul\\n(Ma_MatMul2)\\\" fontsize=10];\\n  Ma_MatMulcst -> Ma_MatMul2;\\n  Sl_output06 -> Ma_MatMul2;\\n  Ma_MatMul2 -> Ma_Y03;\\n\\n  Ma_Y0 [shape=box label=\\\"Ma_Y0\\\" fontsize=10];\\n  Ma_MatMul1 [shape=box style=\\\"filled,rounded\\\" color=orange label=\\\"MatMul\\n(Ma_MatMul1)\\\" fontsize=10];\\n  Ma_MatMulcst -> Ma_MatMul1;\\n  Sl_output0 -> Ma_MatMul1;\\n  Ma_MatMul1 -> Ma_Y0;\\n\\n  Sl_output07 [shape=box label=\\\"Sl_output07\\\" fontsize=10];\\n  Sl_Slice6 [shape=box style=\\\"filled,rounded\\\" color=orange label=\\\"Slice\\n(Sl_Slice6)\\\" fontsize=10];\\n  Ma_Y03 -> Sl_Slice6;\\n  Sl_Slicecst3 -> Sl_Slice6;\\n  Sl_Slicecst8 -> Sl_Slice6;\\n  Sl_Slicecst3 -> Sl_Slice6;\\n  Sl_Slice6 -> Sl_output07;\\n\\n  Sl_output05 [shape=box label=\\\"Sl_output05\\\" fontsize=10];\\n  Sl_Slice5 [shape=box style=\\\"filled,rounded\\\" color=orange label=\\\"Slice\\n(Sl_Slice5)\\\" fontsize=10];\\n  Ma_Y03 -> Sl_Slice5;\\n  Sl_Slicecst8 -> Sl_Slice5;\\n  Sl_Slicecst16 -> Sl_Slice5;\\n  Sl_Slicecst3 -> Sl_Slice5;\\n  Sl_Slice5 -> Sl_output05;\\n\\n  Ne_Y0 [shape=box label=\\\"Ne_Y0\\\" fontsize=10];\\n  Ne_Neg [shape=box style=\\\"filled,rounded\\\" color=orange label=\\\"Neg\\n(Ne_Neg)\\\" fontsize=10];\\n  Sl_output05 -> Ne_Neg;\\n  Ne_Neg -> Ne_Y0;\\n\\n  Co_concat_result0 [shape=box label=\\\"Co_concat_result0\\\" fontsize=10];\\n  Co_Concat [shape=box style=\\\"filled,rounded\\\" color=orange label=\\\"Concat\\n(Co_Concat)\\naxis=0\\\" fontsize=10];\\n  Ne_Y0 -> Co_Concat;\\n  Sl_output07 -> Co_Concat;\\n  Co_Concat -> Co_concat_result0;\\n\\n  Ad_C0 [shape=box label=\\\"Ad_C0\\\" fontsize=10];\\n  Ad_Add [shape=box style=\\\"filled,rounded\\\" color=orange label=\\\"Add\\n(Ad_Add)\\\" fontsize=10];\\n  Ma_Y0 -> Ad_Add;\\n  Co_concat_result0 -> Ad_Add;\\n  Ad_Add -> Ad_C0;\\n\\n  Sl_Slice7 [shape=box style=\\\"filled,rounded\\\" color=orange label=\\\"Slice\\n(Sl_Slice7)\\\" fontsize=10];\\n  Ad_C0 -> Sl_Slice7;\\n  Sl_Slicecst -> Sl_Slice7;\\n  Sl_Slicecst22 -> Sl_Slice7;\\n  Sl_Slicecst23 -> Sl_Slice7;\\n  Sl_Slice7 -> y;\\n}\");\n",
              "document.getElementById('Mabd94ef8a71d4533b79664d46c158986').innerHTML = svgGraph; });\n",
              "\n",
              "</script>"
            ],
            "text/plain": [
              "<jyquickhelper.jspy.render_nb_js_dot.RenderJsDot at 0x1fc5ee2da30>"
            ]
          },
          "execution_count": 20,
          "metadata": {},
          "output_type": "execute_result"
        }
      ],
      "source": [
        "%onnxview onnx_rfft_2d.to_onnx()"
      ]
    },
    {
      "cell_type": "code",
      "execution_count": 20,
      "id": "3034da60",
      "metadata": {},
      "outputs": [],
      "source": [
        "with open(\"fft2d.onnx\", \"wb\") as f:\n",
        "    f.write(onnx_rfft_2d.to_onnx().SerializeToString())"
      ]
    },
    {
      "cell_type": "markdown",
      "id": "3a747f0c",
      "metadata": {},
      "source": [
        "With a different `fft_length`."
      ]
    },
    {
      "cell_type": "code",
      "execution_count": 21,
      "id": "16732cbb",
      "metadata": {},
      "outputs": [],
      "source": [
        "fft2d_cus = fft2d(rnd, (4, 5))\n",
        "fft2d_onx = onnx_rfft_2d(rnd, fft_length=(4, 5))\n",
        "almost_equal(fft2d_cus, fft2d_onx)"
      ]
    },
    {
      "cell_type": "markdown",
      "id": "04924e7d",
      "metadata": {},
      "source": [
        "This implementation of FFT in ONNX assumes shapes and fft lengths are constant. Otherwise, the matrix returned by function `dft_real_cst` must be converted as well. That's left as an exercise."
      ]
    },
    {
      "cell_type": "markdown",
      "id": "c9da88a0",
      "metadata": {},
      "source": [
        "## FFT2D with shape (3,1,4)\n",
        "\n",
        "Previous implementation expects the input matrix to have two dimensions. It fails with 3."
      ]
    },
    {
      "cell_type": "code",
      "execution_count": 22,
      "id": "66ba70ee",
      "metadata": {},
      "outputs": [
        {
          "data": {
            "text/plain": [
              "(3, 1, 4)"
            ]
          },
          "execution_count": 23,
          "metadata": {},
          "output_type": "execute_result"
        }
      ],
      "source": [
        "shape = (3, 1, 4)\n",
        "fft_length = (1, 4)\n",
        "rnd = numpy.random.randn(*list(shape)).astype(numpy.float32)\n",
        "fft2d_numpy = numpy.fft.fft2(rnd, fft_length)\n",
        "fft2d_numpy.shape"
      ]
    },
    {
      "cell_type": "code",
      "execution_count": 23,
      "id": "a4d123e1",
      "metadata": {},
      "outputs": [
        {
          "data": {
            "text/plain": [
              "array([[[ 1.34545542+0.j        , -0.35498468-0.77279791j,\n",
              "         -1.72351556+0.j        , -0.35498468+0.77279791j]],\n",
              "\n",
              "       [[-1.13275981+0.j        , -2.43033203+0.77264115j,\n",
              "         -2.97744519+0.j        , -2.43033203-0.77264115j]],\n",
              "\n",
              "       [[-0.06647013+0.j        ,  0.20555305+1.91183175j,\n",
              "          2.91867135+0.j        ,  0.20555305-1.91183175j]]])"
            ]
          },
          "execution_count": 24,
          "metadata": {},
          "output_type": "execute_result"
        }
      ],
      "source": [
        "fft2d_numpy"
      ]
    },
    {
      "cell_type": "code",
      "execution_count": 24,
      "id": "4b1bd05b",
      "metadata": {},
      "outputs": [
        {
          "name": "stdout",
          "output_type": "stream",
          "text": [
            "axes don't match array\n"
          ]
        }
      ],
      "source": [
        "try:\n",
        "    fft2d_cus = fft2d(rnd, fft_length)\n",
        "except Exception as e:\n",
        "    print(e)\n",
        "# fft2d_onx = onnx_rfft_2d(rnd, fft_length=fft_length)"
      ]
    },
    {
      "cell_type": "markdown",
      "id": "7bd79a00",
      "metadata": {},
      "source": [
        "### numpy version\n",
        "\n",
        "Let's do it again with numpy first. [fft2](https://numpy.org/doc/stable/reference/generated/numpy.fft.fft2.html) performs `fft2` on the last two axis as many times as the first axis. The goal is still to have an implementation which works for any dimension."
      ]
    },
    {
      "cell_type": "code",
      "execution_count": 25,
      "id": "3b618335",
      "metadata": {},
      "outputs": [],
      "source": [
        "conc = []\n",
        "for i in range(rnd.shape[0]):\n",
        "    f2 = fft2d(rnd[i], fft_length)\n",
        "    conc.append(numpy.expand_dims(f2, 0))\n",
        "res = numpy.vstack(conc).transpose(1, 0, 2, 3)\n",
        "almost_equal(fft2d_numpy[:, :, :3], res)"
      ]
    },
    {
      "cell_type": "markdown",
      "id": "7c837e7a",
      "metadata": {},
      "source": [
        "It works. And now a more efficient implementation. It is better to read [matmul](https://numpy.org/doc/stable/reference/generated/numpy.matmul.html) description before. To summarize, a third axis is equivalent to many matrix multiplications over the last two axes, as many as the dimension of the first axis: ``matmul(A[I,J,K], B[I,K,L]) --> C[I,J,L]``. Broadcasting also works... ``matmul(A[1,J,K], B[I,K,L]) --> C[I,J,L]``."
      ]
    },
    {
      "cell_type": "code",
      "execution_count": 26,
      "id": "29055cb2",
      "metadata": {},
      "outputs": [],
      "source": [
        "def dft_real_d3(x, fft_length=None, transpose=True):\n",
        "    if len(x.shape) != 3:\n",
        "        raise RuntimeError(\"Not implemented for shape=%r.\" % x.shape)\n",
        "    N = x.shape[1]\n",
        "    C = x.shape[-1] if transpose else x.shape[-2]\n",
        "    if fft_length is None:\n",
        "        fft_length = x.shape[-1]\n",
        "    size = fft_length // 2 + 1\n",
        "\n",
        "    cst = dft_real_cst(C, fft_length)\n",
        "    if transpose:\n",
        "        x = numpy.transpose(x, (0, 2, 1))\n",
        "        a = cst[:, :, :fft_length]\n",
        "        b = x[:, :fft_length, :]\n",
        "        a = numpy.expand_dims(a, 0)\n",
        "        b = numpy.expand_dims(b, 1)\n",
        "        res = numpy.matmul(a, b)\n",
        "        res = res[:, :, :size, :]\n",
        "        return numpy.transpose(res, (1, 0, 3, 2))\n",
        "    else:\n",
        "        a = cst[:, :, :fft_length]\n",
        "        b = x[:, :fft_length, :]\n",
        "        a = numpy.expand_dims(a, 0)\n",
        "        b = numpy.expand_dims(b, 1)\n",
        "        res = numpy.matmul(a, b)\n",
        "        return numpy.transpose(res, (1, 0, 2, 3))\n",
        "\n",
        "\n",
        "def fft2d_d3(mat, fft_length):\n",
        "    mat = mat[:, :fft_length[-2], :fft_length[-1]]\n",
        "    res = mat.copy()\n",
        "    \n",
        "    # first FFT\n",
        "    res = dft_real_d3(res, fft_length=fft_length[-1], transpose=True)\n",
        "    \n",
        "    # second FFT decomposed on FFT on real part and imaginary part\n",
        "    res2_real = dft_real_d3(res[0], fft_length=fft_length[-2], transpose=False)\n",
        "    res2_imag = dft_real_d3(res[1], fft_length=fft_length[-2], transpose=False)\n",
        "    res2_imag2 = numpy.vstack([-res2_imag[1:2], res2_imag[:1]])\n",
        "    res = res2_real + res2_imag2\n",
        "    size = fft_length[-1]//2 + 1\n",
        "    return res[:, :, :fft_length[-2], :size]\n",
        "\n",
        "\n",
        "def fft2d_any(mat, fft_length):\n",
        "    new_shape = (-1, ) + mat.shape[-2:]\n",
        "    mat2 = mat.reshape(new_shape)\n",
        "    f2 = fft2d_d3(mat2, fft_length)\n",
        "    new_shape = (2, ) + mat.shape[:-2] + f2.shape[-2:]\n",
        "    return f2.reshape(new_shape)\n",
        "\n",
        "\n",
        "shape = (3, 1, 4)\n",
        "fft_length = (1, 4)\n",
        "rnd = numpy.random.randn(*list(shape)).astype(numpy.float32)\n",
        "fft2d_numpy = numpy.fft.fft2(rnd, fft_length)\n",
        "fft2d_cus = fft2d_any(rnd, fft_length)\n",
        "almost_equal(fft2d_numpy[..., :3], fft2d_cus)"
      ]
    },
    {
      "cell_type": "markdown",
      "id": "0128b3f2",
      "metadata": {},
      "source": [
        "We check with more shapes to see if the implementation works for all of them."
      ]
    },
    {
      "cell_type": "code",
      "execution_count": 27,
      "id": "82f5fc78",
      "metadata": {},
      "outputs": [
        {
          "name": "stdout",
          "output_type": "stream",
          "text": [
            "OK  x.shape=(3, 1, 4) length=(1, 4) output shape=(3, 1, 4) or (2, 3, 1, 3)\n",
            "OK  x.shape=(3, 1, 4) length=(1, 4) output shape=(3, 1, 4) or (2, 3, 1, 3)\n",
            "OK  x.shape=(3, 1, 4) length=(1, 4) output shape=(3, 1, 4) or (2, 3, 1, 3)\n",
            "OK  x.shape=(3, 1, 4) length=(1, 2) output shape=(3, 1, 2) or (2, 3, 1, 2)\n",
            "OK  x.shape=(3, 1, 4) length=(1, 1) output shape=(3, 1, 1) or (2, 3, 1, 1)\n",
            "OK  x.shape=(5, 7) length=(5, 7) output shape=(5, 7) or (2, 5, 4)\n",
            "OK  x.shape=(5, 7) length=(1, 7) output shape=(1, 7) or (2, 1, 4)\n",
            "OK  x.shape=(5, 7) length=(2, 7) output shape=(2, 7) or (2, 2, 4)\n",
            "OK  x.shape=(5, 7) length=(5, 2) output shape=(5, 2) or (2, 5, 2)\n",
            "OK  x.shape=(5, 7) length=(3, 4) output shape=(3, 4) or (2, 3, 3)\n",
            "OK  x.shape=(3, 5, 7) length=(5, 7) output shape=(3, 5, 7) or (2, 3, 5, 4)\n",
            "OK  x.shape=(3, 5, 7) length=(1, 7) output shape=(3, 1, 7) or (2, 3, 1, 4)\n",
            "OK  x.shape=(3, 5, 7) length=(2, 7) output shape=(3, 2, 7) or (2, 3, 2, 4)\n",
            "OK  x.shape=(3, 5, 7) length=(5, 2) output shape=(3, 5, 2) or (2, 3, 5, 2)\n",
            "OK  x.shape=(3, 5, 7) length=(3, 4) output shape=(3, 3, 4) or (2, 3, 3, 3)\n",
            "OK  x.shape=(7, 5) length=(7, 5) output shape=(7, 5) or (2, 7, 3)\n",
            "OK  x.shape=(7, 5) length=(1, 5) output shape=(1, 5) or (2, 1, 3)\n",
            "OK  x.shape=(7, 5) length=(2, 5) output shape=(2, 5) or (2, 2, 3)\n",
            "OK  x.shape=(7, 5) length=(7, 2) output shape=(7, 2) or (2, 7, 2)\n",
            "OK  x.shape=(7, 5) length=(3, 4) output shape=(3, 4) or (2, 3, 3)\n"
          ]
        }
      ],
      "source": [
        "for shape in [(3, 1, 4), (5, 7), (3, 5, 7), (7, 5)]:\n",
        "    for fft_length in [shape[-2:], (1, shape[-1]),\n",
        "                       (min(2, shape[-2]), shape[-1]),\n",
        "                       (shape[-2], 2),\n",
        "                       (min(3, shape[-2]), min(4, shape[-2]))]:\n",
        "        x  = numpy.random.randn(*list(shape)).astype(numpy.float32)\n",
        "        fnp = numpy.fft.fft2(x, fft_length)\n",
        "        if len(fnp.shape) == 2:\n",
        "            fn= numpy.expand_dims(fnp, 0)\n",
        "        try:\n",
        "            cus = fft2d_any(x, fft_length)\n",
        "        except IndexError as e:\n",
        "            print(\"ERR x.shape=%r length=%r error=%r\" % (x.shape, fft_length, e))\n",
        "            continue\n",
        "        try:\n",
        "            almost_equal(fnp[..., :cus.shape[-1]], cus)\n",
        "        except (AssertionError, IndexError) as e:\n",
        "            print(\"DIS x.shape=%r length=%r error=%r  output shape=%r or %r\" % (\n",
        "                x.shape, fft_length, e, fnp.shape, cus.shape))\n",
        "            continue\n",
        "        print(\"OK  x.shape=%r length=%r output shape=%r or %r\" % (\n",
        "            x.shape, fft_length, fnp.shape, cus.shape))"
      ]
    },
    {
      "cell_type": "markdown",
      "id": "c5f5229a",
      "metadata": {},
      "source": [
        "### ONNX version\n",
        "\n",
        "Let's look into the differences first."
      ]
    },
    {
      "cell_type": "code",
      "execution_count": 28,
      "id": "025c2d88",
      "metadata": {},
      "outputs": [],
      "source": [
        "%load_ext pyquickhelper"
      ]
    },
    {
      "cell_type": "code",
      "execution_count": 29,
      "id": "8a9d153c",
      "metadata": {},
      "outputs": [
        {
          "data": {
            "text/html": [
              "<style>\n",
              "table td, table th, table tr {text-align:left !important; white-space: pre;}\n",
              "</style>\n"
            ],
            "text/plain": [
              "<IPython.core.display.HTML object>"
            ]
          },
          "metadata": {},
          "output_type": "display_data"
        }
      ],
      "source": [
        "%%html\n",
        "<style>\n",
        "table td, table th, table tr {text-align:left !important; white-space: pre;}\n",
        "</style>"
      ]
    },
    {
      "cell_type": "code",
      "execution_count": 30,
      "id": "82664bc5",
      "metadata": {},
      "outputs": [
        {
          "name": "stderr",
          "output_type": "stream",
          "text": [
            "100%|\u2588\u2588\u2588\u2588\u2588\u2588\u2588\u2588\u2588\u2588| 24/24 [00:00<00:00, 292.18it/s]\n"
          ]
        },
        {
          "data": {
            "text/html": [
              "<table style=\"white-space: pre; 1px solid black; font-family:courier; text-align:left !important;\">\n",
              "<tr style=\"1px solid black;\"><td><code>0</code></td><td><code>0</code></td><td style=\"background-color:#E5E7E9;\"><code style=\"background-color:#E5E7E9;\">def dft_real(x, fft_length=None, transpose=True):</code></code></td><td style=\"background-color:#E5E7E9;\"><code style=\"background-color:#E5E7E9;\"><code>def dft_real<span style=\"color:#196F3D;\">_</span><span style=\"color:#196F3D;\">d</span><span style=\"color:#196F3D;\">3</span>(x, fft_length=None, transpose=True):</code></td></tr>\n",
              "<tr style=\"1px solid black;\"><td><code>1</code></td><td><code>1</code></td><td style=\"background-color:#E5E7E9;\"><code style=\"background-color:#E5E7E9;\">    if len(x.shape) =<span style=\"color:#BA4A00;\">=</span> <span style=\"color:#BA4A00;\">1</span>:</code></code></td><td style=\"background-color:#E5E7E9;\"><code style=\"background-color:#E5E7E9;\"><code>    if len(x.shape) <span style=\"color:#196F3D;\">!</span>= <span style=\"color:#196F3D;\">3</span>:</code></td></tr>\n",
              "<tr style=\"1px solid black;\"><td><code>2</code></td><td><code>2</code></td><td style=\"background-color:#E5E7E9;\"><code style=\"background-color:#E5E7E9;\">        <span style=\"color:#BA4A00;\">x</span> = x.<span style=\"color:#BA4A00;\">r</span><span style=\"color:#BA4A00;\">e</span>shape<span style=\"color:#BA4A00;\">(</span><span style=\"color:#BA4A00;\">(</span><span style=\"color:#BA4A00;\">1</span><span style=\"color:#BA4A00;\">,</span><span style=\"color:#BA4A00;\"> </span><span style=\"color:#BA4A00;\">-</span><span style=\"color:#BA4A00;\">1</span>)<span style=\"color:#BA4A00;\">)</span></code></code></td><td style=\"background-color:#E5E7E9;\"><code style=\"background-color:#E5E7E9;\"><code>        <span style=\"color:#196F3D;\">r</span><span style=\"color:#196F3D;\">a</span><span style=\"color:#196F3D;\">i</span><span style=\"color:#196F3D;\">s</span><span style=\"color:#196F3D;\">e</span> <span style=\"color:#196F3D;\">R</span><span style=\"color:#196F3D;\">u</span><span style=\"color:#196F3D;\">n</span><span style=\"color:#196F3D;\">t</span><span style=\"color:#196F3D;\">i</span><span style=\"color:#196F3D;\">m</span><span style=\"color:#196F3D;\">e</span><span style=\"color:#196F3D;\">E</span><span style=\"color:#196F3D;\">r</span><span style=\"color:#196F3D;\">r</span><span style=\"color:#196F3D;\">o</span><span style=\"color:#196F3D;\">r</span><span style=\"color:#196F3D;\">(</span><span style=\"color:#196F3D;\">\"</span><span style=\"color:#196F3D;\">N</span><span style=\"color:#196F3D;\">o</span><span style=\"color:#196F3D;\">t</span><span style=\"color:#196F3D;\"> </span><span style=\"color:#196F3D;\">i</span><span style=\"color:#196F3D;\">m</span><span style=\"color:#196F3D;\">p</span><span style=\"color:#196F3D;\">l</span><span style=\"color:#196F3D;\">e</span><span style=\"color:#196F3D;\">m</span><span style=\"color:#196F3D;\">e</span><span style=\"color:#196F3D;\">n</span><span style=\"color:#196F3D;\">t</span><span style=\"color:#196F3D;\">e</span><span style=\"color:#196F3D;\">d</span><span style=\"color:#196F3D;\"> </span><span style=\"color:#196F3D;\">f</span><span style=\"color:#196F3D;\">o</span><span style=\"color:#196F3D;\">r</span><span style=\"color:#196F3D;\"> </span><span style=\"color:#196F3D;\">s</span><span style=\"color:#196F3D;\">h</span><span style=\"color:#196F3D;\">a</span><span style=\"color:#196F3D;\">p</span><span style=\"color:#196F3D;\">e</span>=<span style=\"color:#196F3D;\">%</span><span style=\"color:#196F3D;\">r</span><span style=\"color:#196F3D;\">.</span><span style=\"color:#196F3D;\">\"</span> <span style=\"color:#196F3D;\">%</span><span style=\"color:#196F3D;\"> </span>x.shape)</code></td></tr>\n",
              "<tr style=\"1px solid black;\"><td style=\"background-color:#E59866;\"><code style=\"background-color:#E59866;\">3</code></td><td></td><td style=\"background-color:#E59866;\"><code style=\"background-color:#E59866;\">        N = 1</code></td><td></td></tr>\n",
              "<tr style=\"1px solid black;\"><td style=\"background-color:#E59866;\"><code style=\"background-color:#E59866;\">4</code></td><td></td><td style=\"background-color:#E59866;\"><code style=\"background-color:#E59866;\">    else:</code></td><td></td></tr>\n",
              "<tr style=\"1px solid black;\"><td><code>5</code></td><td><code>3</code></td><td style=\"background-color:#E5E7E9;\"><code style=\"background-color:#E5E7E9;\">    <span style=\"color:#BA4A00;\"> </span><span style=\"color:#BA4A00;\"> </span><span style=\"color:#BA4A00;\"> </span><span style=\"color:#BA4A00;\"> </span>N = x.shape[<span style=\"color:#BA4A00;\">0</span>]<span style=\"color:#BA4A00;\"> </span><span style=\"color:#BA4A00;\"> </span><span style=\"color:#BA4A00;\"> </span><span style=\"color:#BA4A00;\"> </span><span style=\"color:#BA4A00;\"> </span><span style=\"color:#BA4A00;\"> </span><span style=\"color:#BA4A00;\"> </span><span style=\"color:#BA4A00;\"> </span></code></code></td><td style=\"background-color:#E5E7E9;\"><code style=\"background-color:#E5E7E9;\"><code>    N = x.shape[<span style=\"color:#196F3D;\">1</span>]</code></td></tr>\n",
              "<tr style=\"1px solid black;\"><td style=\"background-color:#FFFFFF;\"><code style=\"background-color:#FFFFFF;\">6</code></td><td style=\"background-color:#FFFFFF;\"><code style=\"background-color:#FFFFFF;\">4</code></td><td style=\"background-color:#FFFFFF;\"><code style=\"background-color:#FFFFFF;\">    C = x.shape[-1] if transpose else x.shape[-2]</code></td><td style=\"background-color:#FFFFFF;\"><code style=\"background-color:#FFFFFF;\">    C = x.shape[-1] if transpose else x.shape[-2]</code></td></tr>\n",
              "<tr style=\"1px solid black;\"><td style=\"background-color:#FFFFFF;\"><code style=\"background-color:#FFFFFF;\">7</code></td><td style=\"background-color:#FFFFFF;\"><code style=\"background-color:#FFFFFF;\">5</code></td><td style=\"background-color:#FFFFFF;\"><code style=\"background-color:#FFFFFF;\">    if fft_length is None:</code></td><td style=\"background-color:#FFFFFF;\"><code style=\"background-color:#FFFFFF;\">    if fft_length is None:</code></td></tr>\n",
              "<tr style=\"1px solid black;\"><td style=\"background-color:#FFFFFF;\"><code style=\"background-color:#FFFFFF;\">8</code></td><td style=\"background-color:#FFFFFF;\"><code style=\"background-color:#FFFFFF;\">6</code></td><td style=\"background-color:#FFFFFF;\"><code style=\"background-color:#FFFFFF;\">        fft_length = x.shape[-1]</code></td><td style=\"background-color:#FFFFFF;\"><code style=\"background-color:#FFFFFF;\">        fft_length = x.shape[-1]</code></td></tr>\n",
              "<tr style=\"1px solid black;\"><td style=\"background-color:#FFFFFF;\"><code style=\"background-color:#FFFFFF;\">9</code></td><td style=\"background-color:#FFFFFF;\"><code style=\"background-color:#FFFFFF;\">7</code></td><td style=\"background-color:#FFFFFF;\"><code style=\"background-color:#FFFFFF;\">    size = fft_length // 2 + 1</code></td><td style=\"background-color:#FFFFFF;\"><code style=\"background-color:#FFFFFF;\">    size = fft_length // 2 + 1</code></td></tr>\n",
              "<tr style=\"1px solid black;\"><td style=\"background-color:#FFFFFF;\"><code style=\"background-color:#FFFFFF;\">10</code></td><td style=\"background-color:#FFFFFF;\"><code style=\"background-color:#FFFFFF;\">8</code></td><td style=\"background-color:#FFFFFF;\"><code style=\"background-color:#FFFFFF;\"></code></td><td style=\"background-color:#FFFFFF;\"><code style=\"background-color:#FFFFFF;\"></code></td></tr>\n",
              "<tr style=\"1px solid black;\"><td style=\"background-color:#FFFFFF;\"><code style=\"background-color:#FFFFFF;\">11</code></td><td style=\"background-color:#FFFFFF;\"><code style=\"background-color:#FFFFFF;\">9</code></td><td style=\"background-color:#FFFFFF;\"><code style=\"background-color:#FFFFFF;\">    cst = dft_real_cst(C, fft_length)</code></td><td style=\"background-color:#FFFFFF;\"><code style=\"background-color:#FFFFFF;\">    cst = dft_real_cst(C, fft_length)</code></td></tr>\n",
              "<tr style=\"1px solid black;\"><td style=\"background-color:#FFFFFF;\"><code style=\"background-color:#FFFFFF;\">12</code></td><td style=\"background-color:#FFFFFF;\"><code style=\"background-color:#FFFFFF;\">10</code></td><td style=\"background-color:#FFFFFF;\"><code style=\"background-color:#FFFFFF;\">    if transpose:</code></td><td style=\"background-color:#FFFFFF;\"><code style=\"background-color:#FFFFFF;\">    if transpose:</code></td></tr>\n",
              "<tr style=\"1px solid black;\"><td><code>13</code></td><td><code>11</code></td><td style=\"background-color:#E5E7E9;\"><code style=\"background-color:#E5E7E9;\">        x = numpy.transpose(x, (<span style=\"color:#BA4A00;\">1</span>, <span style=\"color:#BA4A00;\">0</span>))</code></code></td><td style=\"background-color:#E5E7E9;\"><code style=\"background-color:#E5E7E9;\"><code>        x = numpy.transpose(x, (<span style=\"color:#196F3D;\">0</span>, <span style=\"color:#196F3D;\">2</span><span style=\"color:#196F3D;\">,</span><span style=\"color:#196F3D;\"> </span><span style=\"color:#196F3D;\">1</span>))</code></td></tr>\n",
              "<tr style=\"1px solid black;\"><td style=\"background-color:#FFFFFF;\"><code style=\"background-color:#FFFFFF;\">14</code></td><td style=\"background-color:#FFFFFF;\"><code style=\"background-color:#FFFFFF;\">12</code></td><td style=\"background-color:#FFFFFF;\"><code style=\"background-color:#FFFFFF;\">        a = cst[:, :, :fft_length]</code></td><td style=\"background-color:#FFFFFF;\"><code style=\"background-color:#FFFFFF;\">        a = cst[:, :, :fft_length]</code></td></tr>\n",
              "<tr style=\"1px solid black;\"><td><code>15</code></td><td><code>13</code></td><td style=\"background-color:#E5E7E9;\"><code style=\"background-color:#E5E7E9;\">        b = x[:fft_length]</code></code></td><td style=\"background-color:#E5E7E9;\"><code style=\"background-color:#E5E7E9;\"><code>        b = x[:<span style=\"color:#196F3D;\">,</span><span style=\"color:#196F3D;\"> </span><span style=\"color:#196F3D;\">:</span>fft_length<span style=\"color:#196F3D;\">,</span><span style=\"color:#196F3D;\"> </span><span style=\"color:#196F3D;\">:</span>]</code></td></tr>\n",
              "<tr style=\"1px solid black;\"><td></td><td style=\"background-color:#ABEBC6;\"><code style=\"background-color:#ABEBC6;\">14</code></td><td></td><td style=\"background-color:#ABEBC6;\"><code style=\"background-color:#ABEBC6;\">        a = numpy.expand_dims(a, 0)</code></td></tr>\n",
              "<tr style=\"1px solid black;\"><td></td><td style=\"background-color:#ABEBC6;\"><code style=\"background-color:#ABEBC6;\">15</code></td><td></td><td style=\"background-color:#ABEBC6;\"><code style=\"background-color:#ABEBC6;\">        b = numpy.expand_dims(b, 1)</code></td></tr>\n",
              "<tr style=\"1px solid black;\"><td style=\"background-color:#FFFFFF;\"><code style=\"background-color:#FFFFFF;\">16</code></td><td style=\"background-color:#FFFFFF;\"><code style=\"background-color:#FFFFFF;\">16</code></td><td style=\"background-color:#FFFFFF;\"><code style=\"background-color:#FFFFFF;\">        res = numpy.matmul(a, b)</code></td><td style=\"background-color:#FFFFFF;\"><code style=\"background-color:#FFFFFF;\">        res = numpy.matmul(a, b)</code></td></tr>\n",
              "<tr style=\"1px solid black;\"><td><code>17</code></td><td><code>17</code></td><td style=\"background-color:#E5E7E9;\"><code style=\"background-color:#E5E7E9;\">        res = res[:, :size, :]</code></code></td><td style=\"background-color:#E5E7E9;\"><code style=\"background-color:#E5E7E9;\"><code>        res = res[:, :<span style=\"color:#196F3D;\">,</span><span style=\"color:#196F3D;\"> </span><span style=\"color:#196F3D;\">:</span>size, :]</code></td></tr>\n",
              "<tr style=\"1px solid black;\"><td><code>18</code></td><td><code>18</code></td><td style=\"background-color:#E5E7E9;\"><code style=\"background-color:#E5E7E9;\">        return numpy.transpose(res, (0, <span style=\"color:#BA4A00;\">2</span>, <span style=\"color:#BA4A00;\">1</span>))</code></code></td><td style=\"background-color:#E5E7E9;\"><code style=\"background-color:#E5E7E9;\"><code>        return numpy.transpose(res, (<span style=\"color:#196F3D;\">1</span><span style=\"color:#196F3D;\">,</span><span style=\"color:#196F3D;\"> </span>0, <span style=\"color:#196F3D;\">3</span>, <span style=\"color:#196F3D;\">2</span>))</code></td></tr>\n",
              "<tr style=\"1px solid black;\"><td style=\"background-color:#FFFFFF;\"><code style=\"background-color:#FFFFFF;\">19</code></td><td style=\"background-color:#FFFFFF;\"><code style=\"background-color:#FFFFFF;\">19</code></td><td style=\"background-color:#FFFFFF;\"><code style=\"background-color:#FFFFFF;\">    else:</code></td><td style=\"background-color:#FFFFFF;\"><code style=\"background-color:#FFFFFF;\">    else:</code></td></tr>\n",
              "<tr style=\"1px solid black;\"><td style=\"background-color:#FFFFFF;\"><code style=\"background-color:#FFFFFF;\">20</code></td><td style=\"background-color:#FFFFFF;\"><code style=\"background-color:#FFFFFF;\">20</code></td><td style=\"background-color:#FFFFFF;\"><code style=\"background-color:#FFFFFF;\">        a = cst[:, :, :fft_length]</code></td><td style=\"background-color:#FFFFFF;\"><code style=\"background-color:#FFFFFF;\">        a = cst[:, :, :fft_length]</code></td></tr>\n",
              "<tr style=\"1px solid black;\"><td><code>21</code></td><td><code>21</code></td><td style=\"background-color:#E5E7E9;\"><code style=\"background-color:#E5E7E9;\">        b = x[:fft_length]</code></code></td><td style=\"background-color:#E5E7E9;\"><code style=\"background-color:#E5E7E9;\"><code>        b = x[:<span style=\"color:#196F3D;\">,</span><span style=\"color:#196F3D;\"> </span><span style=\"color:#196F3D;\">:</span>fft_length<span style=\"color:#196F3D;\">,</span><span style=\"color:#196F3D;\"> </span><span style=\"color:#196F3D;\">:</span>]</code></td></tr>\n",
              "<tr style=\"1px solid black;\"><td></td><td style=\"background-color:#ABEBC6;\"><code style=\"background-color:#ABEBC6;\">22</code></td><td></td><td style=\"background-color:#ABEBC6;\"><code style=\"background-color:#ABEBC6;\">        a = numpy.expand_dims(a, 0)</code></td></tr>\n",
              "<tr style=\"1px solid black;\"><td></td><td style=\"background-color:#ABEBC6;\"><code style=\"background-color:#ABEBC6;\">23</code></td><td></td><td style=\"background-color:#ABEBC6;\"><code style=\"background-color:#ABEBC6;\">        b = numpy.expand_dims(b, 1)</code></td></tr>\n",
              "<tr style=\"1px solid black;\"><td><code>22</code></td><td><code>24</code></td><td style=\"background-color:#E5E7E9;\"><code style=\"background-color:#E5E7E9;\">        re<span style=\"color:#BA4A00;\">t</span><span style=\"color:#BA4A00;\">u</span><span style=\"color:#BA4A00;\">r</span><span style=\"color:#BA4A00;\">n</span> numpy.matmul(a, b)</code></code></td><td style=\"background-color:#E5E7E9;\"><code style=\"background-color:#E5E7E9;\"><code>        re<span style=\"color:#196F3D;\">s</span> <span style=\"color:#196F3D;\">=</span><span style=\"color:#196F3D;\"> </span>numpy.matmul(a, b)</code></td></tr>\n",
              "<tr style=\"1px solid black;\"><td></td><td style=\"background-color:#ABEBC6;\"><code style=\"background-color:#ABEBC6;\">25</code></td><td></td><td style=\"background-color:#ABEBC6;\"><code style=\"background-color:#ABEBC6;\">        return numpy.transpose(res, (1, 0, 2, 3))</code></td></tr>\n",
              "<tr style=\"1px solid black;\"><td style=\"background-color:#FFFFFF;\"><code style=\"background-color:#FFFFFF;\">23</code></td><td style=\"background-color:#FFFFFF;\"><code style=\"background-color:#FFFFFF;\">26</code></td><td style=\"background-color:#FFFFFF;\"><code style=\"background-color:#FFFFFF;\"></code></td><td style=\"background-color:#FFFFFF;\"><code style=\"background-color:#FFFFFF;\"></code></td></tr>\n",
              "</table>"
            ],
            "text/plain": [
              "<IPython.core.display.HTML object>"
            ]
          },
          "execution_count": 31,
          "metadata": {},
          "output_type": "execute_result"
        }
      ],
      "source": [
        "import inspect\n",
        "text1 = inspect.getsource(dft_real)\n",
        "text2 = inspect.getsource(dft_real_d3)\n",
        "%codediff text1 text2 --verbose 1 --two 1"
      ]
    },
    {
      "cell_type": "code",
      "execution_count": 31,
      "id": "cd7e14d4",
      "metadata": {},
      "outputs": [
        {
          "name": "stderr",
          "output_type": "stream",
          "text": [
            "100%|\u2588\u2588\u2588\u2588\u2588\u2588\u2588\u2588\u2588\u2588| 15/15 [00:00<00:00, 357.70it/s]\n"
          ]
        },
        {
          "data": {
            "text/html": [
              "<table style=\"white-space: pre; 1px solid black; font-family:courier; text-align:left !important;\">\n",
              "<tr style=\"1px solid black;\"><td><code>0</code></td><td><code>0</code></td><td style=\"background-color:#E5E7E9;\"><code style=\"background-color:#E5E7E9;\">def fft2d(mat, fft_length):</code></code></td><td style=\"background-color:#E5E7E9;\"><code style=\"background-color:#E5E7E9;\"><code>def fft2d<span style=\"color:#196F3D;\">_</span><span style=\"color:#196F3D;\">d</span><span style=\"color:#196F3D;\">3</span>(mat, fft_length):</code></td></tr>\n",
              "<tr style=\"1px solid black;\"><td><code>1</code></td><td><code>1</code></td><td style=\"background-color:#E5E7E9;\"><code style=\"background-color:#E5E7E9;\">    mat = mat[:fft_length[<span style=\"color:#BA4A00;\">0</span>], :fft_length[1]]</code></code></td><td style=\"background-color:#E5E7E9;\"><code style=\"background-color:#E5E7E9;\"><code>    mat = mat[:<span style=\"color:#196F3D;\">,</span><span style=\"color:#196F3D;\"> </span><span style=\"color:#196F3D;\">:</span>fft_length[<span style=\"color:#196F3D;\">-</span><span style=\"color:#196F3D;\">2</span>], :fft_length[<span style=\"color:#196F3D;\">-</span>1]]</code></td></tr>\n",
              "<tr style=\"1px solid black;\"><td style=\"background-color:#FFFFFF;\"><code style=\"background-color:#FFFFFF;\">2</code></td><td style=\"background-color:#FFFFFF;\"><code style=\"background-color:#FFFFFF;\">2</code></td><td style=\"background-color:#FFFFFF;\"><code style=\"background-color:#FFFFFF;\">    res = mat.copy()</code></td><td style=\"background-color:#FFFFFF;\"><code style=\"background-color:#FFFFFF;\">    res = mat.copy()</code></td></tr>\n",
              "<tr style=\"1px solid black;\"><td style=\"background-color:#FFFFFF;\"><code style=\"background-color:#FFFFFF;\">3</code></td><td style=\"background-color:#FFFFFF;\"><code style=\"background-color:#FFFFFF;\">3</code></td><td style=\"background-color:#FFFFFF;\"><code style=\"background-color:#FFFFFF;\">    </code></td><td style=\"background-color:#FFFFFF;\"><code style=\"background-color:#FFFFFF;\">    </code></td></tr>\n",
              "<tr style=\"1px solid black;\"><td style=\"background-color:#FFFFFF;\"><code style=\"background-color:#FFFFFF;\">4</code></td><td style=\"background-color:#FFFFFF;\"><code style=\"background-color:#FFFFFF;\">4</code></td><td style=\"background-color:#FFFFFF;\"><code style=\"background-color:#FFFFFF;\">    # first FFT</code></td><td style=\"background-color:#FFFFFF;\"><code style=\"background-color:#FFFFFF;\">    # first FFT</code></td></tr>\n",
              "<tr style=\"1px solid black;\"><td><code>5</code></td><td><code>5</code></td><td style=\"background-color:#E5E7E9;\"><code style=\"background-color:#E5E7E9;\">    res = dft_real(res, fft_length=fft_length[1], transpose=True)</code></code></td><td style=\"background-color:#E5E7E9;\"><code style=\"background-color:#E5E7E9;\"><code>    res = dft_real<span style=\"color:#196F3D;\">_</span><span style=\"color:#196F3D;\">d</span><span style=\"color:#196F3D;\">3</span>(res, fft_length=fft_length[<span style=\"color:#196F3D;\">-</span>1], transpose=True)</code></td></tr>\n",
              "<tr style=\"1px solid black;\"><td style=\"background-color:#FFFFFF;\"><code style=\"background-color:#FFFFFF;\">6</code></td><td style=\"background-color:#FFFFFF;\"><code style=\"background-color:#FFFFFF;\">6</code></td><td style=\"background-color:#FFFFFF;\"><code style=\"background-color:#FFFFFF;\">    </code></td><td style=\"background-color:#FFFFFF;\"><code style=\"background-color:#FFFFFF;\">    </code></td></tr>\n",
              "<tr style=\"1px solid black;\"><td style=\"background-color:#FFFFFF;\"><code style=\"background-color:#FFFFFF;\">7</code></td><td style=\"background-color:#FFFFFF;\"><code style=\"background-color:#FFFFFF;\">7</code></td><td style=\"background-color:#FFFFFF;\"><code style=\"background-color:#FFFFFF;\">    # second FFT decomposed on FFT on real part and imaginary part</code></td><td style=\"background-color:#FFFFFF;\"><code style=\"background-color:#FFFFFF;\">    # second FFT decomposed on FFT on real part and imaginary part</code></td></tr>\n",
              "<tr style=\"1px solid black;\"><td><code>8</code></td><td><code>8</code></td><td style=\"background-color:#E5E7E9;\"><code style=\"background-color:#E5E7E9;\">    res2_real = dft_real(res[0], fft_length=fft_length[<span style=\"color:#BA4A00;\">0</span>], transpose=False)</code></code></td><td style=\"background-color:#E5E7E9;\"><code style=\"background-color:#E5E7E9;\"><code>    res2_real = dft_real<span style=\"color:#196F3D;\">_</span><span style=\"color:#196F3D;\">d</span><span style=\"color:#196F3D;\">3</span>(res[0], fft_length=fft_length[<span style=\"color:#196F3D;\">-</span><span style=\"color:#196F3D;\">2</span>], transpose=False)</code></td></tr>\n",
              "<tr style=\"1px solid black;\"><td><code>9</code></td><td><code>9</code></td><td style=\"background-color:#E5E7E9;\"><code style=\"background-color:#E5E7E9;\">    res2_imag = dft_real(res[1], fft_length=fft_length[<span style=\"color:#BA4A00;\">0</span>], transpose=False)<span style=\"color:#BA4A00;\"> </span><span style=\"color:#BA4A00;\"> </span><span style=\"color:#BA4A00;\"> </span><span style=\"color:#BA4A00;\"> </span></code></code></td><td style=\"background-color:#E5E7E9;\"><code style=\"background-color:#E5E7E9;\"><code>    res2_imag = dft_real<span style=\"color:#196F3D;\">_</span><span style=\"color:#196F3D;\">d</span><span style=\"color:#196F3D;\">3</span>(res[1], fft_length=fft_length[<span style=\"color:#196F3D;\">-</span><span style=\"color:#196F3D;\">2</span>], transpose=False)</code></td></tr>\n",
              "<tr style=\"1px solid black;\"><td style=\"background-color:#FFFFFF;\"><code style=\"background-color:#FFFFFF;\">10</code></td><td style=\"background-color:#FFFFFF;\"><code style=\"background-color:#FFFFFF;\">10</code></td><td style=\"background-color:#FFFFFF;\"><code style=\"background-color:#FFFFFF;\">    res2_imag2 = numpy.vstack([-res2_imag[1:2], res2_imag[:1]])</code></td><td style=\"background-color:#FFFFFF;\"><code style=\"background-color:#FFFFFF;\">    res2_imag2 = numpy.vstack([-res2_imag[1:2], res2_imag[:1]])</code></td></tr>\n",
              "<tr style=\"1px solid black;\"><td style=\"background-color:#FFFFFF;\"><code style=\"background-color:#FFFFFF;\">11</code></td><td style=\"background-color:#FFFFFF;\"><code style=\"background-color:#FFFFFF;\">11</code></td><td style=\"background-color:#FFFFFF;\"><code style=\"background-color:#FFFFFF;\">    res = res2_real + res2_imag2</code></td><td style=\"background-color:#FFFFFF;\"><code style=\"background-color:#FFFFFF;\">    res = res2_real + res2_imag2</code></td></tr>\n",
              "<tr style=\"1px solid black;\"><td><code>12</code></td><td><code>12</code></td><td style=\"background-color:#E5E7E9;\"><code style=\"background-color:#E5E7E9;\">    size = fft_length[1]//2 + 1</code></code></td><td style=\"background-color:#E5E7E9;\"><code style=\"background-color:#E5E7E9;\"><code>    size = fft_length[<span style=\"color:#196F3D;\">-</span>1]//2 + 1</code></td></tr>\n",
              "<tr style=\"1px solid black;\"><td><code>13</code></td><td><code>13</code></td><td style=\"background-color:#E5E7E9;\"><code style=\"background-color:#E5E7E9;\">    return res[:, :fft_length[<span style=\"color:#BA4A00;\">0</span>], :size]</code></code></td><td style=\"background-color:#E5E7E9;\"><code style=\"background-color:#E5E7E9;\"><code>    return res[:, :<span style=\"color:#196F3D;\">,</span><span style=\"color:#196F3D;\"> </span><span style=\"color:#196F3D;\">:</span>fft_length[<span style=\"color:#196F3D;\">-</span><span style=\"color:#196F3D;\">2</span>], :size]</code></td></tr>\n",
              "<tr style=\"1px solid black;\"><td style=\"background-color:#FFFFFF;\"><code style=\"background-color:#FFFFFF;\">14</code></td><td style=\"background-color:#FFFFFF;\"><code style=\"background-color:#FFFFFF;\">14</code></td><td style=\"background-color:#FFFFFF;\"><code style=\"background-color:#FFFFFF;\"></code></td><td style=\"background-color:#FFFFFF;\"><code style=\"background-color:#FFFFFF;\"></code></td></tr>\n",
              "</table>"
            ],
            "text/plain": [
              "<IPython.core.display.HTML object>"
            ]
          },
          "execution_count": 32,
          "metadata": {},
          "output_type": "execute_result"
        }
      ],
      "source": [
        "text1 = inspect.getsource(fft2d)\n",
        "text2 = inspect.getsource(fft2d_d3)\n",
        "%codediff text1 text2 --verbose 1 --two 1"
      ]
    },
    {
      "cell_type": "code",
      "execution_count": 32,
      "id": "51e7a4f7",
      "metadata": {
        "scrolled": false
      },
      "outputs": [],
      "source": [
        "def onnx_rfft_3d_1d(x, fft_length=None, transpose=True):\n",
        "    if fft_length is None:\n",
        "        raise RuntimeError(\"fft_length must be specified.\")\n",
        "    \n",
        "    size = fft_length // 2 + 1\n",
        "    cst = dft_real_cst(fft_length, fft_length).astype(numpy.float32)\n",
        "    if transpose:\n",
        "        xt = npnx.transpose(x, (0, 2, 1))\n",
        "        a = cst[:, :, :fft_length]\n",
        "        b = xt[:, :fft_length, :]\n",
        "        a = npnx.expand_dims(a, 0)\n",
        "        b = npnx.expand_dims(b, 1)\n",
        "        res = npnx.matmul(a, b)\n",
        "        res2 = res[:, :size, :]\n",
        "        return npnx.transpose(res2, (1, 0, 3, 2))\n",
        "    else:\n",
        "        a = cst[:, :, :fft_length]\n",
        "        b = x[:, :fft_length, :]\n",
        "        a = npnx.expand_dims(a, 0)\n",
        "        b = npnx.expand_dims(b, 1)\n",
        "        res = npnx.matmul(a, b)\n",
        "        return npnx.transpose(res, (1, 0, 2, 3))      \n",
        "    \n",
        "\n",
        "def onnx_rfft_3d_2d(x, fft_length=None):\n",
        "    mat = x[:, :fft_length[-2], :fft_length[-1]]\n",
        "    \n",
        "    # first FFT\n",
        "    res = onnx_rfft_3d_1d(mat, fft_length=fft_length[-1], transpose=True)\n",
        "    \n",
        "    # second FFT decomposed on FFT on real part and imaginary part\n",
        "    res2_real = onnx_rfft_3d_1d(res[0], fft_length=fft_length[0], transpose=False)\n",
        "    res2_imag = onnx_rfft_3d_1d(res[1], fft_length=fft_length[0], transpose=False)    \n",
        "    res2_imag2 = npnx.vstack(-res2_imag[1:2], res2_imag[:1])\n",
        "    res = res2_real + res2_imag2\n",
        "    size = fft_length[1]//2 + 1\n",
        "    return res[:, :, :fft_length[-2], :size]\n",
        "\n",
        "\n",
        "@onnxnumpy_np(signature=NDArrayType((\"T:all\", ), dtypes_out=('T',)))\n",
        "def onnx_rfft_2d_any(x, fft_length=None):\n",
        "    new_shape = npnx.concat(\n",
        "        numpy.array([-1], dtype=numpy.int64), x.shape[-2:], axis=0)\n",
        "    mat2 = x.reshape(new_shape)\n",
        "    f2 = onnx_rfft_3d_2d(mat2, fft_length)\n",
        "    new_shape = npnx.concat(\n",
        "        numpy.array([2], dtype=numpy.int64), x.shape[:-2], f2.shape[-2:])\n",
        "    return f2.reshape(new_shape)\n",
        "\n",
        "\n",
        "shape = (3, 1, 4)\n",
        "fft_length = (1, 4)\n",
        "rnd = numpy.random.randn(*list(shape)).astype(numpy.float32)\n",
        "fft2d_cus = fft2d_any(rnd, fft_length)\n",
        "fft2d_onx = onnx_rfft_2d_any(rnd, fft_length=fft_length)\n",
        "almost_equal(fft2d_cus, fft2d_onx)"
      ]
    },
    {
      "cell_type": "markdown",
      "id": "37c45ae7",
      "metadata": {},
      "source": [
        "Let's do the same comparison."
      ]
    },
    {
      "cell_type": "code",
      "execution_count": 33,
      "id": "11c1e596",
      "metadata": {},
      "outputs": [
        {
          "name": "stdout",
          "output_type": "stream",
          "text": [
            "OK  x.shape=(3, 1, 4) length=(1, 4) output shape=(3, 4) or (2, 3, 1, 3)\n",
            "OK  x.shape=(3, 1, 4) length=(1, 4) output shape=(3, 4) or (2, 3, 1, 3)\n",
            "OK  x.shape=(3, 1, 4) length=(1, 4) output shape=(3, 4) or (2, 3, 1, 3)\n",
            "OK  x.shape=(3, 1, 4) length=(1, 2) output shape=(3, 4) or (2, 3, 1, 2)\n",
            "DIS x.shape=(3, 1, 4) length=(1, 1) error=AssertionError('Mismatch max diff=1.0 > 1e-05.')  output shape=(3, 4) or (2, 3, 1, 1)\n",
            "OK  x.shape=(5, 7) length=(5, 7) output shape=(3, 4) or (2, 5, 4)\n",
            "OK  x.shape=(5, 7) length=(1, 7) output shape=(3, 4) or (2, 1, 4)\n",
            "OK  x.shape=(5, 7) length=(2, 7) output shape=(3, 4) or (2, 2, 4)\n",
            "OK  x.shape=(5, 7) length=(5, 2) output shape=(3, 4) or (2, 5, 2)\n",
            "OK  x.shape=(5, 7) length=(3, 4) output shape=(3, 4) or (2, 3, 3)\n",
            "OK  x.shape=(3, 5, 7) length=(5, 7) output shape=(3, 4) or (2, 3, 5, 4)\n",
            "OK  x.shape=(3, 5, 7) length=(1, 7) output shape=(3, 4) or (2, 3, 1, 4)\n",
            "OK  x.shape=(3, 5, 7) length=(2, 7) output shape=(3, 4) or (2, 3, 2, 4)\n",
            "OK  x.shape=(3, 5, 7) length=(5, 2) output shape=(3, 4) or (2, 3, 5, 2)\n",
            "OK  x.shape=(3, 5, 7) length=(3, 4) output shape=(3, 4) or (2, 3, 3, 3)\n",
            "OK  x.shape=(7, 5) length=(7, 5) output shape=(3, 4) or (2, 7, 3)\n",
            "OK  x.shape=(7, 5) length=(1, 5) output shape=(3, 4) or (2, 1, 3)\n",
            "OK  x.shape=(7, 5) length=(2, 5) output shape=(3, 4) or (2, 2, 3)\n",
            "OK  x.shape=(7, 5) length=(7, 2) output shape=(3, 4) or (2, 7, 2)\n",
            "OK  x.shape=(7, 5) length=(3, 4) output shape=(3, 4) or (2, 3, 3)\n"
          ]
        }
      ],
      "source": [
        "for shape in [(3, 1, 4), (5, 7), (3, 5, 7), (7, 5)]:\n",
        "    for fft_length in [shape[-2:], (1, shape[-1]),\n",
        "                       (min(2, shape[-2]), shape[-1]),\n",
        "                       (shape[-2], 2),\n",
        "                       (min(3, shape[-2]), min(4, shape[-2]))]:\n",
        "        x  = numpy.random.randn(*list(shape)).astype(numpy.float32)\n",
        "        if len(fnp.shape) == 2:\n",
        "            fn= numpy.expand_dims(fnp, 0)\n",
        "        try:\n",
        "            cus = fft2d_any(x, fft_length)\n",
        "        except IndexError as e:\n",
        "            print(\"ERR x.shape=%r length=%r error=%r\" % (x.shape, fft_length, e))\n",
        "            continue\n",
        "        try:\n",
        "            onx = onnx_rfft_2d_any(x, fft_length=fft_length)\n",
        "        except IndexError as e:\n",
        "            print(\"ERR x.shape=%r length=%r error=%r\" % (x.shape, fft_length, e))\n",
        "            continue\n",
        "        try:\n",
        "            almost_equal(onx, cus)\n",
        "        except (AssertionError, IndexError) as e:\n",
        "            print(\"DIS x.shape=%r length=%r error=%r  output shape=%r or %r\" % (\n",
        "                x.shape, fft_length, e, fnp.shape, cus.shape))\n",
        "            continue\n",
        "        print(\"OK  x.shape=%r length=%r output shape=%r or %r\" % (\n",
        "            x.shape, fft_length, fnp.shape, cus.shape))"
      ]
    },
    {
      "cell_type": "markdown",
      "id": "d197467f",
      "metadata": {},
      "source": [
        "There is one issue with ``fft_length=(1, 1)`` but that case is out of scope."
      ]
    },
    {
      "cell_type": "markdown",
      "id": "33b5897e",
      "metadata": {},
      "source": [
        "### ONNX graph"
      ]
    },
    {
      "cell_type": "code",
      "execution_count": 34,
      "id": "d45e9a99",
      "metadata": {},
      "outputs": [
        {
          "data": {
            "text/html": [
              "<div id=\"M9a625d5e12eb444c89e7626f9c48e652-cont\"><div id=\"M9a625d5e12eb444c89e7626f9c48e652\" style=\"width:;height:;\"></div></div>\n",
              "<script>\n",
              "\n",
              "require(['http://www.xavierdupre.fr/js/vizjs/viz.js'], function() { var svgGraph = Viz(\"digraph{\\n  orientation=portrait;\\n  nodesep=0.05;\\n  ranksep=0.25;\\n  size=7;\\n\\n  x [shape=box color=red label=\\\"x\\nfloat(('?',))\\\" fontsize=10];\\n\\n  y [shape=box color=green label=\\\"y\\nfloat(('?',))\\\" fontsize=10];\\n\\n  Un_Unsqueezecst [shape=box label=\\\"Un_Unsqueezecst\\nfloat32((2, 1, 1))\\n[[[1.]]\\n\\n [[0.]]]\\\" fontsize=10];\\n  Un_Unsqueezecst1 [shape=box label=\\\"Un_Unsqueezecst1\\nint64((1,))\\n[0]\\\" fontsize=10];\\n  Un_Unsqueezecst2 [shape=box label=\\\"Un_Unsqueezecst2\\nfloat32((2, 4, 4))\\n[[[ 1.0000000e+00  1.0000000e+00  1.0000000e+00  1...\\\" fontsize=10];\\n  Co_Concatcst [shape=box label=\\\"Co_Concatcst\\nint64((1,))\\n[-1]\\\" fontsize=10];\\n  Sl_Slicecst [shape=box label=\\\"Sl_Slicecst\\nint64((1,))\\n[-2]\\\" fontsize=10];\\n  Sl_Slicecst2 [shape=box label=\\\"Sl_Slicecst2\\nint64((2,))\\n[0 0]\\\" fontsize=10];\\n  Sl_Slicecst3 [shape=box label=\\\"Sl_Slicecst3\\nint64((2,))\\n[1 4]\\\" fontsize=10];\\n  Sl_Slicecst4 [shape=box label=\\\"Sl_Slicecst4\\nint64((2,))\\n[1 2]\\\" fontsize=10];\\n  Sl_Slicecst6 [shape=box label=\\\"Sl_Slicecst6\\nint64((1,))\\n[4]\\\" fontsize=10];\\n  Sl_Slicecst7 [shape=box label=\\\"Sl_Slicecst7\\nint64((1,))\\n[1]\\\" fontsize=10];\\n  Sl_Slicecst9 [shape=box label=\\\"Sl_Slicecst9\\nint64((1,))\\n[3]\\\" fontsize=10];\\n  Ga_Gathercst1 [shape=box label=\\\"Ga_Gathercst1\\nint64(())\\n0\\\" fontsize=10];\\n  Ga_Gathercst2 [shape=box label=\\\"Ga_Gathercst2\\nint64(())\\n1\\\" fontsize=10];\\n  Sl_Slicecst18 [shape=box label=\\\"Sl_Slicecst18\\nint64((1,))\\n[2]\\\" fontsize=10];\\n  Sl_Slicecst24 [shape=box label=\\\"Sl_Slicecst24\\nint64((2,))\\n[1 3]\\\" fontsize=10];\\n  Sl_Slicecst25 [shape=box label=\\\"Sl_Slicecst25\\nint64((2,))\\n[2 3]\\\" fontsize=10];\\n\\n  Un_expanded0 [shape=box label=\\\"Un_expanded0\\\" fontsize=10];\\n  Un_Unsqueeze [shape=box style=\\\"filled,rounded\\\" color=orange label=\\\"Unsqueeze\\n(Un_Unsqueeze)\\\" fontsize=10];\\n  Un_Unsqueezecst -> Un_Unsqueeze;\\n  Un_Unsqueezecst1 -> Un_Unsqueeze;\\n  Un_Unsqueeze -> Un_expanded0;\\n\\n  Sh_shape0 [shape=box label=\\\"Sh_shape0\\\" fontsize=10];\\n  Sh_Shape [shape=box style=\\\"filled,rounded\\\" color=orange label=\\\"Shape\\n(Sh_Shape)\\\" fontsize=10];\\n  x -> Sh_Shape;\\n  Sh_Shape -> Sh_shape0;\\n\\n  Un_expanded03 [shape=box label=\\\"Un_expanded03\\\" fontsize=10];\\n  Un_Unsqueeze1 [shape=box style=\\\"filled,rounded\\\" color=orange label=\\\"Unsqueeze\\n(Un_Unsqueeze1)\\\" fontsize=10];\\n  Un_Unsqueezecst2 -> Un_Unsqueeze1;\\n  Un_Unsqueezecst1 -> Un_Unsqueeze1;\\n  Un_Unsqueeze1 -> Un_expanded03;\\n\\n  Sl_output010 [shape=box label=\\\"Sl_output010\\\" fontsize=10];\\n  Sl_Slice9 [shape=box style=\\\"filled,rounded\\\" color=orange label=\\\"Slice\\n(Sl_Slice9)\\\" fontsize=10];\\n  Sh_shape0 -> Sl_Slice9;\\n  Un_Unsqueezecst1 -> Sl_Slice9;\\n  Sl_Slicecst -> Sl_Slice9;\\n  Un_Unsqueezecst1 -> Sl_Slice9;\\n  Sl_Slice9 -> Sl_output010;\\n\\n  Sh_shape01 [shape=box label=\\\"Sh_shape01\\\" fontsize=10];\\n  Sh_Shape1 [shape=box style=\\\"filled,rounded\\\" color=orange label=\\\"Shape\\n(Sh_Shape1)\\\" fontsize=10];\\n  Sh_shape0 -> Sh_Shape1;\\n  Sh_Shape1 -> Sh_shape01;\\n\\n  Ga_output01 [shape=box label=\\\"Ga_output01\\\" fontsize=10];\\n  Ga_Gather [shape=box style=\\\"filled,rounded\\\" color=orange label=\\\"Gather\\n(Ga_Gather)\\\" fontsize=10];\\n  Sh_shape01 -> Ga_Gather;\\n  Un_Unsqueezecst1 -> Ga_Gather;\\n  Ga_Gather -> Ga_output01;\\n\\n  Sl_output05 [shape=box label=\\\"Sl_output05\\\" fontsize=10];\\n  Sl_Slice [shape=box style=\\\"filled,rounded\\\" color=orange label=\\\"Slice\\n(Sl_Slice)\\\" fontsize=10];\\n  Sh_shape0 -> Sl_Slice;\\n  Sl_Slicecst -> Sl_Slice;\\n  Ga_output01 -> Sl_Slice;\\n  Un_Unsqueezecst1 -> Sl_Slice;\\n  Sl_Slice -> Sl_output05;\\n\\n  Co_concat_result0 [shape=box label=\\\"Co_concat_result0\\\" fontsize=10];\\n  Co_Concat [shape=box style=\\\"filled,rounded\\\" color=orange label=\\\"Concat\\n(Co_Concat)\\naxis=0\\\" fontsize=10];\\n  Co_Concatcst -> Co_Concat;\\n  Sl_output05 -> Co_Concat;\\n  Co_Concat -> Co_concat_result0;\\n\\n  Re_reshaped0 [shape=box label=\\\"Re_reshaped0\\\" fontsize=10];\\n  Re_Reshape [shape=box style=\\\"filled,rounded\\\" color=orange label=\\\"Reshape\\n(Re_Reshape)\\\" fontsize=10];\\n  x -> Re_Reshape;\\n  Co_concat_result0 -> Re_Reshape;\\n  Re_Reshape -> Re_reshaped0;\\n\\n  Sl_output04 [shape=box label=\\\"Sl_output04\\\" fontsize=10];\\n  Sl_Slice1 [shape=box style=\\\"filled,rounded\\\" color=orange label=\\\"Slice\\n(Sl_Slice1)\\\" fontsize=10];\\n  Re_reshaped0 -> Sl_Slice1;\\n  Sl_Slicecst2 -> Sl_Slice1;\\n  Sl_Slicecst3 -> Sl_Slice1;\\n  Sl_Slicecst4 -> Sl_Slice1;\\n  Sl_Slice1 -> Sl_output04;\\n\\n  Tr_transposed02 [shape=box label=\\\"Tr_transposed02\\\" fontsize=10];\\n  Tr_Transpose [shape=box style=\\\"filled,rounded\\\" color=orange label=\\\"Transpose\\n(Tr_Transpose)\\nperm=[0 2 1]\\\" fontsize=10];\\n  Sl_output04 -> Tr_Transpose;\\n  Tr_Transpose -> Tr_transposed02;\\n\\n  Sl_output03 [shape=box label=\\\"Sl_output03\\\" fontsize=10];\\n  Sl_Slice2 [shape=box style=\\\"filled,rounded\\\" color=orange label=\\\"Slice\\n(Sl_Slice2)\\\" fontsize=10];\\n  Tr_transposed02 -> Sl_Slice2;\\n  Un_Unsqueezecst1 -> Sl_Slice2;\\n  Sl_Slicecst6 -> Sl_Slice2;\\n  Sl_Slicecst7 -> Sl_Slice2;\\n  Sl_Slice2 -> Sl_output03;\\n\\n  Un_expanded04 [shape=box label=\\\"Un_expanded04\\\" fontsize=10];\\n  Un_Unsqueeze2 [shape=box style=\\\"filled,rounded\\\" color=orange label=\\\"Unsqueeze\\n(Un_Unsqueeze2)\\\" fontsize=10];\\n  Sl_output03 -> Un_Unsqueeze2;\\n  Sl_Slicecst7 -> Un_Unsqueeze2;\\n  Un_Unsqueeze2 -> Un_expanded04;\\n\\n  Ma_Y01 [shape=box label=\\\"Ma_Y01\\\" fontsize=10];\\n  Ma_MatMul [shape=box style=\\\"filled,rounded\\\" color=orange label=\\\"MatMul\\n(Ma_MatMul)\\\" fontsize=10];\\n  Un_expanded03 -> Ma_MatMul;\\n  Un_expanded04 -> Ma_MatMul;\\n  Ma_MatMul -> Ma_Y01;\\n\\n  Sl_output02 [shape=box label=\\\"Sl_output02\\\" fontsize=10];\\n  Sl_Slice3 [shape=box style=\\\"filled,rounded\\\" color=orange label=\\\"Slice\\n(Sl_Slice3)\\\" fontsize=10];\\n  Ma_Y01 -> Sl_Slice3;\\n  Un_Unsqueezecst1 -> Sl_Slice3;\\n  Sl_Slicecst9 -> Sl_Slice3;\\n  Sl_Slicecst7 -> Sl_Slice3;\\n  Sl_Slice3 -> Sl_output02;\\n\\n  Tr_transposed01 [shape=box label=\\\"Tr_transposed01\\\" fontsize=10];\\n  Tr_Transpose1 [shape=box style=\\\"filled,rounded\\\" color=orange label=\\\"Transpose\\n(Tr_Transpose1)\\nperm=[1 0 3 2]\\\" fontsize=10];\\n  Sl_output02 -> Tr_Transpose1;\\n  Tr_Transpose1 -> Tr_transposed01;\\n\\n  Ga_output0 [shape=box label=\\\"Ga_output0\\\" fontsize=10];\\n  Ga_Gather1 [shape=box style=\\\"filled,rounded\\\" color=orange label=\\\"Gather\\n(Ga_Gather1)\\naxis=0\\\" fontsize=10];\\n  Tr_transposed01 -> Ga_Gather1;\\n  Ga_Gathercst1 -> Ga_Gather1;\\n  Ga_Gather1 -> Ga_output0;\\n\\n  Ga_output03 [shape=box label=\\\"Ga_output03\\\" fontsize=10];\\n  Ga_Gather2 [shape=box style=\\\"filled,rounded\\\" color=orange label=\\\"Gather\\n(Ga_Gather2)\\naxis=0\\\" fontsize=10];\\n  Tr_transposed01 -> Ga_Gather2;\\n  Ga_Gathercst2 -> Ga_Gather2;\\n  Ga_Gather2 -> Ga_output03;\\n\\n  Sl_output01 [shape=box label=\\\"Sl_output01\\\" fontsize=10];\\n  Sl_Slice4 [shape=box style=\\\"filled,rounded\\\" color=orange label=\\\"Slice\\n(Sl_Slice4)\\\" fontsize=10];\\n  Ga_output0 -> Sl_Slice4;\\n  Un_Unsqueezecst1 -> Sl_Slice4;\\n  Sl_Slicecst7 -> Sl_Slice4;\\n  Sl_Slicecst7 -> Sl_Slice4;\\n  Sl_Slice4 -> Sl_output01;\\n\\n  Sl_output07 [shape=box label=\\\"Sl_output07\\\" fontsize=10];\\n  Sl_Slice5 [shape=box style=\\\"filled,rounded\\\" color=orange label=\\\"Slice\\n(Sl_Slice5)\\\" fontsize=10];\\n  Ga_output03 -> Sl_Slice5;\\n  Un_Unsqueezecst1 -> Sl_Slice5;\\n  Sl_Slicecst7 -> Sl_Slice5;\\n  Sl_Slicecst7 -> Sl_Slice5;\\n  Sl_Slice5 -> Sl_output07;\\n\\n  Un_expanded06 [shape=box label=\\\"Un_expanded06\\\" fontsize=10];\\n  Un_Unsqueeze5 [shape=box style=\\\"filled,rounded\\\" color=orange label=\\\"Unsqueeze\\n(Un_Unsqueeze5)\\\" fontsize=10];\\n  Sl_output07 -> Un_Unsqueeze5;\\n  Sl_Slicecst7 -> Un_Unsqueeze5;\\n  Un_Unsqueeze5 -> Un_expanded06;\\n\\n  Un_expanded02 [shape=box label=\\\"Un_expanded02\\\" fontsize=10];\\n  Un_Unsqueeze3 [shape=box style=\\\"filled,rounded\\\" color=orange label=\\\"Unsqueeze\\n(Un_Unsqueeze3)\\\" fontsize=10];\\n  Sl_output01 -> Un_Unsqueeze3;\\n  Sl_Slicecst7 -> Un_Unsqueeze3;\\n  Un_Unsqueeze3 -> Un_expanded02;\\n\\n  Ma_Y03 [shape=box label=\\\"Ma_Y03\\\" fontsize=10];\\n  Ma_MatMul2 [shape=box style=\\\"filled,rounded\\\" color=orange label=\\\"MatMul\\n(Ma_MatMul2)\\\" fontsize=10];\\n  Un_expanded0 -> Ma_MatMul2;\\n  Un_expanded06 -> Ma_MatMul2;\\n  Ma_MatMul2 -> Ma_Y03;\\n\\n  Ma_Y0 [shape=box label=\\\"Ma_Y0\\\" fontsize=10];\\n  Ma_MatMul1 [shape=box style=\\\"filled,rounded\\\" color=orange label=\\\"MatMul\\n(Ma_MatMul1)\\\" fontsize=10];\\n  Un_expanded0 -> Ma_MatMul1;\\n  Un_expanded02 -> Ma_MatMul1;\\n  Ma_MatMul1 -> Ma_Y0;\\n\\n  Tr_transposed04 [shape=box label=\\\"Tr_transposed04\\\" fontsize=10];\\n  Tr_Transpose3 [shape=box style=\\\"filled,rounded\\\" color=orange label=\\\"Transpose\\n(Tr_Transpose3)\\nperm=[1 0 2 3]\\\" fontsize=10];\\n  Ma_Y03 -> Tr_Transpose3;\\n  Tr_Transpose3 -> Tr_transposed04;\\n\\n  Tr_transposed0 [shape=box label=\\\"Tr_transposed0\\\" fontsize=10];\\n  Tr_Transpose2 [shape=box style=\\\"filled,rounded\\\" color=orange label=\\\"Transpose\\n(Tr_Transpose2)\\nperm=[1 0 2 3]\\\" fontsize=10];\\n  Ma_Y0 -> Tr_Transpose2;\\n  Tr_Transpose2 -> Tr_transposed0;\\n\\n  Sl_output06 [shape=box label=\\\"Sl_output06\\\" fontsize=10];\\n  Sl_Slice6 [shape=box style=\\\"filled,rounded\\\" color=orange label=\\\"Slice\\n(Sl_Slice6)\\\" fontsize=10];\\n  Tr_transposed04 -> Sl_Slice6;\\n  Sl_Slicecst7 -> Sl_Slice6;\\n  Sl_Slicecst18 -> Sl_Slice6;\\n  Un_Unsqueezecst1 -> Sl_Slice6;\\n  Sl_Slice6 -> Sl_output06;\\n\\n  Sl_output08 [shape=box label=\\\"Sl_output08\\\" fontsize=10];\\n  Sl_Slice7 [shape=box style=\\\"filled,rounded\\\" color=orange label=\\\"Slice\\n(Sl_Slice7)\\\" fontsize=10];\\n  Tr_transposed04 -> Sl_Slice7;\\n  Un_Unsqueezecst1 -> Sl_Slice7;\\n  Sl_Slicecst7 -> Sl_Slice7;\\n  Un_Unsqueezecst1 -> Sl_Slice7;\\n  Sl_Slice7 -> Sl_output08;\\n\\n  Ne_Y0 [shape=box label=\\\"Ne_Y0\\\" fontsize=10];\\n  Ne_Neg [shape=box style=\\\"filled,rounded\\\" color=orange label=\\\"Neg\\n(Ne_Neg)\\\" fontsize=10];\\n  Sl_output06 -> Ne_Neg;\\n  Ne_Neg -> Ne_Y0;\\n\\n  Co_concat_result02 [shape=box label=\\\"Co_concat_result02\\\" fontsize=10];\\n  Co_Concat1 [shape=box style=\\\"filled,rounded\\\" color=orange label=\\\"Concat\\n(Co_Concat1)\\naxis=0\\\" fontsize=10];\\n  Ne_Y0 -> Co_Concat1;\\n  Sl_output08 -> Co_Concat1;\\n  Co_Concat1 -> Co_concat_result02;\\n\\n  Ad_C0 [shape=box label=\\\"Ad_C0\\\" fontsize=10];\\n  Ad_Add [shape=box style=\\\"filled,rounded\\\" color=orange label=\\\"Add\\n(Ad_Add)\\\" fontsize=10];\\n  Tr_transposed0 -> Ad_Add;\\n  Co_concat_result02 -> Ad_Add;\\n  Ad_Add -> Ad_C0;\\n\\n  Sl_output0 [shape=box label=\\\"Sl_output0\\\" fontsize=10];\\n  Sl_Slice8 [shape=box style=\\\"filled,rounded\\\" color=orange label=\\\"Slice\\n(Sl_Slice8)\\\" fontsize=10];\\n  Ad_C0 -> Sl_Slice8;\\n  Sl_Slicecst2 -> Sl_Slice8;\\n  Sl_Slicecst24 -> Sl_Slice8;\\n  Sl_Slicecst25 -> Sl_Slice8;\\n  Sl_Slice8 -> Sl_output0;\\n\\n  Sh_shape04 [shape=box label=\\\"Sh_shape04\\\" fontsize=10];\\n  Sh_Shape3 [shape=box style=\\\"filled,rounded\\\" color=orange label=\\\"Shape\\n(Sh_Shape3)\\\" fontsize=10];\\n  Sl_output0 -> Sh_Shape3;\\n  Sh_Shape3 -> Sh_shape04;\\n\\n  Sh_shape05 [shape=box label=\\\"Sh_shape05\\\" fontsize=10];\\n  Sh_Shape4 [shape=box style=\\\"filled,rounded\\\" color=orange label=\\\"Shape\\n(Sh_Shape4)\\\" fontsize=10];\\n  Sh_shape04 -> Sh_Shape4;\\n  Sh_Shape4 -> Sh_shape05;\\n\\n  Ga_output04 [shape=box label=\\\"Ga_output04\\\" fontsize=10];\\n  Ga_Gather3 [shape=box style=\\\"filled,rounded\\\" color=orange label=\\\"Gather\\n(Ga_Gather3)\\\" fontsize=10];\\n  Sh_shape05 -> Ga_Gather3;\\n  Un_Unsqueezecst1 -> Ga_Gather3;\\n  Ga_Gather3 -> Ga_output04;\\n\\n  Sl_output012 [shape=box label=\\\"Sl_output012\\\" fontsize=10];\\n  Sl_Slice10 [shape=box style=\\\"filled,rounded\\\" color=orange label=\\\"Slice\\n(Sl_Slice10)\\\" fontsize=10];\\n  Sh_shape04 -> Sl_Slice10;\\n  Sl_Slicecst -> Sl_Slice10;\\n  Ga_output04 -> Sl_Slice10;\\n  Un_Unsqueezecst1 -> Sl_Slice10;\\n  Sl_Slice10 -> Sl_output012;\\n\\n  Co_concat_result03 [shape=box label=\\\"Co_concat_result03\\\" fontsize=10];\\n  Co_Concat2 [shape=box style=\\\"filled,rounded\\\" color=orange label=\\\"Concat\\n(Co_Concat2)\\naxis=0\\\" fontsize=10];\\n  Sl_Slicecst18 -> Co_Concat2;\\n  Sl_output010 -> Co_Concat2;\\n  Sl_output012 -> Co_Concat2;\\n  Co_Concat2 -> Co_concat_result03;\\n\\n  Re_Reshape1 [shape=box style=\\\"filled,rounded\\\" color=orange label=\\\"Reshape\\n(Re_Reshape1)\\\" fontsize=10];\\n  Sl_output0 -> Re_Reshape1;\\n  Co_concat_result03 -> Re_Reshape1;\\n  Re_Reshape1 -> y;\\n}\");\n",
              "document.getElementById('M9a625d5e12eb444c89e7626f9c48e652').innerHTML = svgGraph; });\n",
              "\n",
              "</script>"
            ],
            "text/plain": [
              "<jyquickhelper.jspy.render_nb_js_dot.RenderJsDot at 0x1fc5ee31e80>"
            ]
          },
          "execution_count": 35,
          "metadata": {},
          "output_type": "execute_result"
        }
      ],
      "source": [
        "key = list(onnx_rfft_2d_any.signed_compiled)[0]\n",
        "%onnxview onnx_rfft_2d_any.signed_compiled[key].compiled.onnx_"
      ]
    },
    {
      "cell_type": "code",
      "execution_count": 35,
      "id": "2ab7a3d0",
      "metadata": {},
      "outputs": [],
      "source": [
        "with open(\"fft2d_any.onnx\", \"wb\") as f:\n",
        "    key = list(onnx_rfft_2d_any.signed_compiled)[0]\n",
        "    f.write(onnx_rfft_2d_any.signed_compiled[key].compiled.onnx_.SerializeToString())"
      ]
    },
    {
      "cell_type": "markdown",
      "id": "3c17b577",
      "metadata": {},
      "source": [
        "Let's check the intermediate results."
      ]
    },
    {
      "cell_type": "code",
      "execution_count": 36,
      "id": "9e5507f7",
      "metadata": {},
      "outputs": [
        {
          "data": {
            "text/plain": [
              "FctVersion((numpy.float32,), ((1, 4),))"
            ]
          },
          "execution_count": 37,
          "metadata": {},
          "output_type": "execute_result"
        }
      ],
      "source": [
        "key = list(onnx_rfft_2d_any.signed_compiled)[0]\n",
        "key"
      ]
    },
    {
      "cell_type": "code",
      "execution_count": 37,
      "id": "376036f8",
      "metadata": {
        "scrolled": false
      },
      "outputs": [
        {
          "name": "stdout",
          "output_type": "stream",
          "text": [
            "+ki='Un_Unsqueezecst': (2, 1, 1) (dtype=float32 min=0.0 max=1.0)\n",
            "+ki='Un_Unsqueezecst1': (1,) (dtype=int64 min=0 max=0)\n",
            "+ki='Un_Unsqueezecst2': (2, 4, 4) (dtype=float32 min=-1.0 max=1.0)\n",
            "+ki='Co_Concatcst': (1,) (dtype=int64 min=-1 max=-1)\n",
            "+ki='Sl_Slicecst': (1,) (dtype=int64 min=-2 max=-2)\n",
            "+ki='Sl_Slicecst2': (2,) (dtype=int64 min=0 max=0)\n",
            "+ki='Sl_Slicecst3': (2,) (dtype=int64 min=1 max=4)\n",
            "+ki='Sl_Slicecst4': (2,) (dtype=int64 min=1 max=2)\n",
            "+ki='Sl_Slicecst6': (1,) (dtype=int64 min=4 max=4)\n",
            "+ki='Sl_Slicecst7': (1,) (dtype=int64 min=1 max=1)\n",
            "+ki='Sl_Slicecst9': (1,) (dtype=int64 min=3 max=3)\n",
            "+ki='Ga_Gathercst1': () (dtype=int64 min=0 max=0)\n",
            "+ki='Ga_Gathercst2': () (dtype=int64 min=1 max=1)\n",
            "+ki='Sl_Slicecst18': (1,) (dtype=int64 min=2 max=2)\n",
            "+ki='Sl_Slicecst24': (2,) (dtype=int64 min=1 max=3)\n",
            "+ki='Sl_Slicecst25': (2,) (dtype=int64 min=2 max=3)\n",
            "-- OnnxInference: run 38 nodes\n",
            "Onnx-Unsqueeze(Un_Unsqueezecst, Un_Unsqueezecst1) -> Un_expanded0    (name='Un_Unsqueeze')\n",
            "+kr='Un_expanded0': (1, 2, 1, 1) (dtype=float32 min=0.0 max=1.0)\n",
            "Onnx-Shape(x) -> Sh_shape0    (name='Sh_Shape')\n",
            "+kr='Sh_shape0': (3,) (dtype=int64 min=1 max=4)\n",
            "Onnx-Unsqueeze(Un_Unsqueezecst2, Un_Unsqueezecst1) -> Un_expanded03    (name='Un_Unsqueeze1')\n",
            "+kr='Un_expanded03': (1, 2, 4, 4) (dtype=float32 min=-1.0 max=1.0)\n",
            "Onnx-Slice(Sh_shape0, Un_Unsqueezecst1, Sl_Slicecst, Un_Unsqueezecst1) -> Sl_output010    (name='Sl_Slice9')\n",
            "+kr='Sl_output010': (1,) (dtype=int64 min=3 max=3)\n",
            "Onnx-Shape(Sh_shape0) -> Sh_shape01    (name='Sh_Shape1')\n",
            "+kr='Sh_shape01': (1,) (dtype=int64 min=3 max=3)\n",
            "Onnx-Gather(Sh_shape01, Un_Unsqueezecst1) -> Ga_output01    (name='Ga_Gather')\n",
            "+kr='Ga_output01': (1,) (dtype=int64 min=3 max=3)\n",
            "Onnx-Slice(Sh_shape0, Sl_Slicecst, Ga_output01, Un_Unsqueezecst1) -> Sl_output05    (name='Sl_Slice')\n",
            "+kr='Sl_output05': (2,) (dtype=int64 min=1 max=4)\n",
            "Onnx-Concat(Co_Concatcst, Sl_output05) -> Co_concat_result0    (name='Co_Concat')\n",
            "+kr='Co_concat_result0': (3,) (dtype=int64 min=-1 max=4)\n",
            "Onnx-Reshape(x, Co_concat_result0) -> Re_reshaped0    (name='Re_Reshape')\n",
            "+kr='Re_reshaped0': (3, 1, 4) (dtype=float32 min=-2.1212947368621826 max=1.6622426509857178)\n",
            "Onnx-Slice(Re_reshaped0, Sl_Slicecst2, Sl_Slicecst3, Sl_Slicecst4) -> Sl_output04    (name='Sl_Slice1')\n",
            "+kr='Sl_output04': (3, 1, 4) (dtype=float32 min=-2.1212947368621826 max=1.6622426509857178)\n",
            "Onnx-Transpose(Sl_output04) -> Tr_transposed02    (name='Tr_Transpose')\n",
            "+kr='Tr_transposed02': (3, 4, 1) (dtype=float32 min=-2.1212947368621826 max=1.6622426509857178)\n",
            "Onnx-Slice(Tr_transposed02, Un_Unsqueezecst1, Sl_Slicecst6, Sl_Slicecst7) -> Sl_output03    (name='Sl_Slice2')\n",
            "+kr='Sl_output03': (3, 4, 1) (dtype=float32 min=-2.1212947368621826 max=1.6622426509857178)\n",
            "Onnx-Unsqueeze(Sl_output03, Sl_Slicecst7) -> Un_expanded04    (name='Un_Unsqueeze2')\n",
            "+kr='Un_expanded04': (3, 1, 4, 1) (dtype=float32 min=-2.1212947368621826 max=1.6622426509857178)\n",
            "Onnx-MatMul(Un_expanded03, Un_expanded04) -> Ma_Y01    (name='Ma_MatMul')\n",
            "+kr='Ma_Y01': (3, 2, 4, 1) (dtype=float32 min=-3.5156421661376953 max=2.6367990970611572)\n",
            "Onnx-Slice(Ma_Y01, Un_Unsqueezecst1, Sl_Slicecst9, Sl_Slicecst7) -> Sl_output02    (name='Sl_Slice3')\n",
            "+kr='Sl_output02': (3, 2, 4, 1) (dtype=float32 min=-3.5156421661376953 max=2.6367990970611572)\n",
            "Onnx-Transpose(Sl_output02) -> Tr_transposed01    (name='Tr_Transpose1')\n",
            "+kr='Tr_transposed01': (2, 3, 1, 4) (dtype=float32 min=-3.5156421661376953 max=2.6367990970611572)\n",
            "Onnx-Gather(Tr_transposed01, Ga_Gathercst1) -> Ga_output0    (name='Ga_Gather1')\n",
            "+kr='Ga_output0': (3, 1, 4) (dtype=float32 min=-3.5156421661376953 max=2.6367990970611572)\n",
            "Onnx-Gather(Tr_transposed01, Ga_Gathercst2) -> Ga_output03    (name='Ga_Gather2')\n",
            "+kr='Ga_output03': (3, 1, 4) (dtype=float32 min=-1.5755668878555298 max=1.5755668878555298)\n",
            "Onnx-Slice(Ga_output0, Un_Unsqueezecst1, Sl_Slicecst7, Sl_Slicecst7) -> Sl_output01    (name='Sl_Slice4')\n",
            "+kr='Sl_output01': (3, 1, 4) (dtype=float32 min=-3.5156421661376953 max=2.6367990970611572)\n",
            "Onnx-Slice(Ga_output03, Un_Unsqueezecst1, Sl_Slicecst7, Sl_Slicecst7) -> Sl_output07    (name='Sl_Slice5')\n",
            "+kr='Sl_output07': (3, 1, 4) (dtype=float32 min=-1.5755668878555298 max=1.5755668878555298)\n",
            "Onnx-Unsqueeze(Sl_output07, Sl_Slicecst7) -> Un_expanded06    (name='Un_Unsqueeze5')\n",
            "+kr='Un_expanded06': (3, 1, 1, 4) (dtype=float32 min=-1.5755668878555298 max=1.5755668878555298)\n",
            "Onnx-Unsqueeze(Sl_output01, Sl_Slicecst7) -> Un_expanded02    (name='Un_Unsqueeze3')\n",
            "+kr='Un_expanded02': (3, 1, 1, 4) (dtype=float32 min=-3.5156421661376953 max=2.6367990970611572)\n",
            "Onnx-MatMul(Un_expanded0, Un_expanded06) -> Ma_Y03    (name='Ma_MatMul2')\n",
            "+kr='Ma_Y03': (3, 2, 1, 4) (dtype=float32 min=-1.5755668878555298 max=1.5755668878555298)\n",
            "Onnx-MatMul(Un_expanded0, Un_expanded02) -> Ma_Y0    (name='Ma_MatMul1')\n",
            "+kr='Ma_Y0': (3, 2, 1, 4) (dtype=float32 min=-3.5156421661376953 max=2.6367990970611572)\n",
            "Onnx-Transpose(Ma_Y03) -> Tr_transposed04    (name='Tr_Transpose3')\n",
            "+kr='Tr_transposed04': (2, 3, 1, 4) (dtype=float32 min=-1.5755668878555298 max=1.5755668878555298)\n",
            "Onnx-Transpose(Ma_Y0) -> Tr_transposed0    (name='Tr_Transpose2')\n",
            "+kr='Tr_transposed0': (2, 3, 1, 4) (dtype=float32 min=-3.5156421661376953 max=2.6367990970611572)\n",
            "Onnx-Slice(Tr_transposed04, Sl_Slicecst7, Sl_Slicecst18, Un_Unsqueezecst1) -> Sl_output06    (name='Sl_Slice6')\n",
            "+kr='Sl_output06': (1, 3, 1, 4) (dtype=float32 min=0.0 max=0.0)\n",
            "Onnx-Slice(Tr_transposed04, Un_Unsqueezecst1, Sl_Slicecst7, Un_Unsqueezecst1) -> Sl_output08    (name='Sl_Slice7')\n",
            "+kr='Sl_output08': (1, 3, 1, 4) (dtype=float32 min=-1.5755668878555298 max=1.5755668878555298)\n",
            "Onnx-Neg(Sl_output06) -> Ne_Y0    (name='Ne_Neg')\n",
            "+kr='Ne_Y0': (1, 3, 1, 4) (dtype=float32 min=-0.0 max=-0.0)\n",
            "Onnx-Concat(Ne_Y0, Sl_output08) -> Co_concat_result02    (name='Co_Concat1')\n",
            "+kr='Co_concat_result02': (2, 3, 1, 4) (dtype=float32 min=-1.5755668878555298 max=1.5755668878555298)\n",
            "Onnx-Add(Tr_transposed0, Co_concat_result02) -> Ad_C0    (name='Ad_Add')\n",
            "+kr='Ad_C0': (2, 3, 1, 4) (dtype=float32 min=-3.5156421661376953 max=2.6367990970611572)\n",
            "Onnx-Slice(Ad_C0, Sl_Slicecst2, Sl_Slicecst24, Sl_Slicecst25) -> Sl_output0    (name='Sl_Slice8')\n",
            "+kr='Sl_output0': (2, 3, 1, 3) (dtype=float32 min=-3.5156421661376953 max=2.6367990970611572)\n",
            "Onnx-Shape(Sl_output0) -> Sh_shape04    (name='Sh_Shape3')\n",
            "+kr='Sh_shape04': (4,) (dtype=int64 min=1 max=3)\n",
            "Onnx-Shape(Sh_shape04) -> Sh_shape05    (name='Sh_Shape4')\n",
            "+kr='Sh_shape05': (1,) (dtype=int64 min=4 max=4)\n",
            "Onnx-Gather(Sh_shape05, Un_Unsqueezecst1) -> Ga_output04    (name='Ga_Gather3')\n",
            "+kr='Ga_output04': (1,) (dtype=int64 min=4 max=4)\n",
            "Onnx-Slice(Sh_shape04, Sl_Slicecst, Ga_output04, Un_Unsqueezecst1) -> Sl_output012    (name='Sl_Slice10')\n",
            "+kr='Sl_output012': (2,) (dtype=int64 min=1 max=3)\n",
            "Onnx-Concat(Sl_Slicecst18, Sl_output010, Sl_output012) -> Co_concat_result03    (name='Co_Concat2')\n",
            "+kr='Co_concat_result03': (4,) (dtype=int64 min=1 max=3)\n",
            "Onnx-Reshape(Sl_output0, Co_concat_result03) -> y    (name='Re_Reshape1')\n",
            "+kr='y': (2, 3, 1, 3) (dtype=float32 min=-3.5156421661376953 max=2.6367990970611572)\n"
          ]
        },
        {
          "data": {
            "text/plain": [
              "{'y': array([[[[ 1.9479027e+00, -7.0837361e-01, -3.1971555e+00]],\n",
              " \n",
              "         [[-2.4413235e+00, -1.2641068e+00, -3.5156422e+00]],\n",
              " \n",
              "         [[ 1.9243780e-01,  6.0331464e-01,  2.6367991e+00]]],\n",
              " \n",
              " \n",
              "        [[[ 0.0000000e+00,  7.5195622e-01, -7.1191992e-16]],\n",
              " \n",
              "         [[ 0.0000000e+00,  1.5755669e+00, -5.3446789e-16]],\n",
              " \n",
              "         [[ 0.0000000e+00,  5.3400773e-01,  3.3330694e-16]]]],\n",
              "       dtype=float32)}"
            ]
          },
          "execution_count": 38,
          "metadata": {},
          "output_type": "execute_result"
        }
      ],
      "source": [
        "from mlprodict.onnxrt import OnnxInference\n",
        "\n",
        "x = numpy.random.randn(3, 1, 4).astype(numpy.float32)\n",
        "onx = onnx_rfft_2d_any.signed_compiled[key].compiled.onnx_\n",
        "oinf = OnnxInference(onx)\n",
        "oinf.run({'x': x}, verbose=1, fLOG=print)"
      ]
    },
    {
      "cell_type": "code",
      "execution_count": 38,
      "id": "3843308e",
      "metadata": {},
      "outputs": [],
      "source": []
    }
  ],
  "metadata": {
    "kernelspec": {
      "display_name": "Python 3",
      "language": "python",
      "name": "python3"
    },
    "language_info": {
      "codemirror_mode": {
        "name": "ipython",
        "version": 3
      },
      "file_extension": ".py",
      "mimetype": "text/x-python",
      "name": "python",
      "nbconvert_exporter": "python",
      "pygments_lexer": "ipython3",
      "version": "3.9.5"
    }
  },
  "nbformat": 4,
  "nbformat_minor": 5
}