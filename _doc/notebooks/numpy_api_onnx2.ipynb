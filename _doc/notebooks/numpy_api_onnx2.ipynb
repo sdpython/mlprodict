{
  "cells": [
    {
      "cell_type": "markdown",
      "metadata": {},
      "source": [
        "# Introduction to a numpy API for ONNX: FunctionTransformer\n",
        "\n",
        "This notebook shows how to write python functions similar functions as numpy offers and get a function which can be converted into ONNX."
      ]
    },
    {
      "cell_type": "code",
      "execution_count": 1,
      "metadata": {},
      "outputs": [
        {
          "data": {
            "text/html": [
              "<div id=\"my_id_menu_nb\">run previous cell, wait for 2 seconds</div>\n",
              "<script>\n",
              "function repeat_indent_string(n){\n",
              "    var a = \"\" ;\n",
              "    for ( ; n > 0 ; --n)\n",
              "        a += \"    \";\n",
              "    return a;\n",
              "}\n",
              "// look up into all sections and builds an automated menu //\n",
              "var update_menu_string = function(begin, lfirst, llast, sformat, send, keep_item, begin_format, end_format) {\n",
              "    var anchors = document.getElementsByClassName(\"section\");\n",
              "    if (anchors.length == 0) {\n",
              "        anchors = document.getElementsByClassName(\"text_cell_render rendered_html\");\n",
              "    }\n",
              "    var i,t;\n",
              "    var text_menu = begin;\n",
              "    var text_memo = \"<pre>\\nlength:\" + anchors.length + \"\\n\";\n",
              "    var ind = \"\";\n",
              "    var memo_level = 1;\n",
              "    var href;\n",
              "    var tags = [];\n",
              "    var main_item = 0;\n",
              "    var format_open = 0;\n",
              "    for (i = 0; i <= llast; i++)\n",
              "        tags.push(\"h\" + i);\n",
              "\n",
              "    for (i = 0; i < anchors.length; i++) {\n",
              "        text_memo += \"**\" + anchors[i].id + \"--\\n\";\n",
              "\n",
              "        var child = null;\n",
              "        for(t = 0; t < tags.length; t++) {\n",
              "            var r = anchors[i].getElementsByTagName(tags[t]);\n",
              "            if (r.length > 0) {\n",
              "child = r[0];\n",
              "break;\n",
              "            }\n",
              "        }\n",
              "        if (child == null) {\n",
              "            text_memo += \"null\\n\";\n",
              "            continue;\n",
              "        }\n",
              "        if (anchors[i].hasAttribute(\"id\")) {\n",
              "            // when converted in RST\n",
              "            href = anchors[i].id;\n",
              "            text_memo += \"#1-\" + href;\n",
              "            // passer \u00e0 child suivant (le chercher)\n",
              "        }\n",
              "        else if (child.hasAttribute(\"id\")) {\n",
              "            // in a notebook\n",
              "            href = child.id;\n",
              "            text_memo += \"#2-\" + href;\n",
              "        }\n",
              "        else {\n",
              "            text_memo += \"#3-\" + \"*\" + \"\\n\";\n",
              "            continue;\n",
              "        }\n",
              "        var title = child.textContent;\n",
              "        var level = parseInt(child.tagName.substring(1,2));\n",
              "\n",
              "        text_memo += \"--\" + level + \"?\" + lfirst + \"--\" + title + \"\\n\";\n",
              "\n",
              "        if ((level < lfirst) || (level > llast)) {\n",
              "            continue ;\n",
              "        }\n",
              "        if (title.endsWith('\u00b6')) {\n",
              "            title = title.substring(0,title.length-1).replace(\"<\", \"&lt;\")\n",
              "         .replace(\">\", \"&gt;\").replace(\"&\", \"&amp;\");\n",
              "        }\n",
              "        if (title.length == 0) {\n",
              "            continue;\n",
              "        }\n",
              "\n",
              "        while (level < memo_level) {\n",
              "            text_menu += end_format + \"</ul>\\n\";\n",
              "            format_open -= 1;\n",
              "            memo_level -= 1;\n",
              "        }\n",
              "        if (level == lfirst) {\n",
              "            main_item += 1;\n",
              "        }\n",
              "        if (keep_item != -1 && main_item != keep_item + 1) {\n",
              "            // alert(main_item + \" - \" + level + \" - \" + keep_item);\n",
              "            continue;\n",
              "        }\n",
              "        while (level > memo_level) {\n",
              "            text_menu += \"<ul>\\n\";\n",
              "            memo_level += 1;\n",
              "        }\n",
              "        text_menu += repeat_indent_string(level-2);\n",
              "        text_menu += begin_format + sformat.replace(\"__HREF__\", href).replace(\"__TITLE__\", title);\n",
              "        format_open += 1;\n",
              "    }\n",
              "    while (1 < memo_level) {\n",
              "        text_menu += end_format + \"</ul>\\n\";\n",
              "        memo_level -= 1;\n",
              "        format_open -= 1;\n",
              "    }\n",
              "    text_menu += send;\n",
              "    //text_menu += \"\\n\" + text_memo;\n",
              "\n",
              "    while (format_open > 0) {\n",
              "        text_menu += end_format;\n",
              "        format_open -= 1;\n",
              "    }\n",
              "    return text_menu;\n",
              "};\n",
              "var update_menu = function() {\n",
              "    var sbegin = \"\";\n",
              "    var sformat = '<a href=\"#__HREF__\">__TITLE__</a>';\n",
              "    var send = \"\";\n",
              "    var begin_format = '<li>';\n",
              "    var end_format = '</li>';\n",
              "    var keep_item = -1;\n",
              "    var text_menu = update_menu_string(sbegin, 2, 4, sformat, send, keep_item,\n",
              "       begin_format, end_format);\n",
              "    var menu = document.getElementById(\"my_id_menu_nb\");\n",
              "    menu.innerHTML=text_menu;\n",
              "};\n",
              "window.setTimeout(update_menu,2000);\n",
              "            </script>"
            ],
            "text/plain": [
              "<IPython.core.display.HTML object>"
            ]
          },
          "execution_count": 2,
          "metadata": {},
          "output_type": "execute_result"
        }
      ],
      "source": [
        "from jyquickhelper import add_notebook_menu\n",
        "add_notebook_menu()"
      ]
    },
    {
      "cell_type": "code",
      "execution_count": 2,
      "metadata": {},
      "outputs": [],
      "source": [
        "%load_ext mlprodict"
      ]
    },
    {
      "cell_type": "markdown",
      "metadata": {},
      "source": [
        "## A pipeline with FunctionTransformer"
      ]
    },
    {
      "cell_type": "code",
      "execution_count": 3,
      "metadata": {},
      "outputs": [],
      "source": [
        "from sklearn.datasets import load_iris\n",
        "from sklearn.model_selection import train_test_split\n",
        "data = load_iris()\n",
        "X, y = data.data, data.target\n",
        "X_train, X_test, y_train, y_test = train_test_split(X, y)"
      ]
    },
    {
      "cell_type": "code",
      "execution_count": 4,
      "metadata": {},
      "outputs": [
        {
          "data": {
            "text/plain": [
              "Pipeline(steps=[('functiontransformer',\n",
              "                 FunctionTransformer(func=<ufunc 'log'>)),\n",
              "                ('standardscaler', StandardScaler()),\n",
              "                ('logisticregression', LogisticRegression())])"
            ]
          },
          "execution_count": 5,
          "metadata": {},
          "output_type": "execute_result"
        }
      ],
      "source": [
        "import numpy\n",
        "from sklearn.pipeline import make_pipeline\n",
        "from sklearn.preprocessing import FunctionTransformer, StandardScaler\n",
        "from sklearn.linear_model import LogisticRegression\n",
        "\n",
        "pipe = make_pipeline(\n",
        "            FunctionTransformer(numpy.log),\n",
        "            StandardScaler(),\n",
        "            LogisticRegression())\n",
        "pipe.fit(X_train, y_train)"
      ]
    },
    {
      "cell_type": "markdown",
      "metadata": {},
      "source": [
        "Let's convert it into ONNX."
      ]
    },
    {
      "cell_type": "code",
      "execution_count": 5,
      "metadata": {},
      "outputs": [
        {
          "name": "stdout",
          "output_type": "stream",
          "text": [
            "FunctionTransformer is not supported unless the transform function is None (= identity). You may raise an issue at https://github.com/onnx/sklearn-onnx/issues.\n"
          ]
        }
      ],
      "source": [
        "from mlprodict.onnx_conv import to_onnx\n",
        "try:\n",
        "    onx = to_onnx(pipe, X_train.astype(numpy.float64))\n",
        "except RuntimeError as e:\n",
        "    print(e)"
      ]
    },
    {
      "cell_type": "markdown",
      "metadata": {},
      "source": [
        "## Use ONNX instead of numpy\n",
        "\n",
        "The pipeline cannot be converter because the converter does not know how to convert the function (`numpy.log`) held by `FunctionTransformer` into ONNX. One way to avoid that is to replace it by a function `log` defined with *ONNX* operators and executed with an ONNX runtime."
      ]
    },
    {
      "cell_type": "code",
      "execution_count": 6,
      "metadata": {},
      "outputs": [
        {
          "data": {
            "text/plain": [
              "Pipeline(steps=[('functiontransformer',\n",
              "                 FunctionTransformer(func=<mlprodict.npy.onnx_numpy_wrapper.onnxnumpy_nb_log_None_None object at 0x00000258FFD1A610>)),\n",
              "                ('standardscaler', StandardScaler()),\n",
              "                ('logisticregression', LogisticRegression())])"
            ]
          },
          "execution_count": 7,
          "metadata": {},
          "output_type": "execute_result"
        }
      ],
      "source": [
        "import mlprodict.npy.numpy_onnx_pyrt as npnxrt\n",
        "\n",
        "pipe = make_pipeline(\n",
        "            FunctionTransformer(npnxrt.log),\n",
        "            StandardScaler(),\n",
        "            LogisticRegression())\n",
        "pipe.fit(X_train, y_train)"
      ]
    },
    {
      "cell_type": "code",
      "execution_count": 7,
      "metadata": {},
      "outputs": [],
      "source": [
        "onx = to_onnx(pipe, X_train.astype(numpy.float64), rewrite_ops=True)"
      ]
    },
    {
      "cell_type": "code",
      "execution_count": 8,
      "metadata": {},
      "outputs": [
        {
          "data": {
            "text/html": [
              "<div id=\"Mdb9b49ac765b487cb488eff5bbaeca0e-cont\"><div id=\"Mdb9b49ac765b487cb488eff5bbaeca0e\" style=\"width:100%;height:100%;\"></div></div>\n",
              "<script>\n",
              "\n",
              "require(['http://www.xavierdupre.fr/js/vizjs/viz.js'], function() { var svgGraph = Viz(\"digraph{\\n  ranksep=0.25;\\n  orientation=portrait;\\n  nodesep=0.05;\\n\\n  X [shape=box color=red label=\\\"X\\ndouble((0, 4))\\\" fontsize=10];\\n\\n  output_label [shape=box color=green label=\\\"output_label\\nint64((0,))\\\" fontsize=10];\\n  output_probability [shape=box color=green label=\\\"output_probability\\n[{int64, {'kind': 'tensor', 'elem': 'double', 'shape': }}]\\\" fontsize=10];\\n\\n\\n  ft_y [shape=box label=\\\"ft_y\\\" fontsize=10];\\n  ft_Log [shape=box style=\\\"filled,rounded\\\" color=orange label=\\\"Log\\n(ft_Log)\\\" fontsize=10];\\n  X -> ft_Log;\\n  ft_Log -> ft_y;\\n\\n  variable1 [shape=box label=\\\"variable1\\\" fontsize=10];\\n  Scaler [shape=box style=\\\"filled,rounded\\\" color=orange label=\\\"Scaler\\n(Scaler)\\noffset=[ 1.75749009  1.10407926...\\nscale=[6.97973334 6.53096505 1....\\\" fontsize=10];\\n  ft_y -> Scaler;\\n  Scaler -> variable1;\\n\\n  label [shape=box label=\\\"label\\\" fontsize=10];\\n  probability_tensor [shape=box label=\\\"probability_tensor\\\" fontsize=10];\\n  LinearClassifier [shape=box style=\\\"filled,rounded\\\" color=orange label=\\\"LinearClassifier\\n(LinearClassifier)\\nclasslabels_ints=[0 1 2]\\ncoefficients=[-0.9283097   0.92...\\nintercepts=[ 0.33111694  1.8665...\\nmulti_class=1\\npost_transform=b'SOFTMAX'\\\" fontsize=10];\\n  variable1 -> LinearClassifier;\\n  LinearClassifier -> label;\\n  LinearClassifier -> probability_tensor;\\n\\n  probabilities [shape=box label=\\\"probabilities\\\" fontsize=10];\\n  Normalizer [shape=box style=\\\"filled,rounded\\\" color=orange label=\\\"Normalizer\\n(Normalizer)\\nnorm=b'L1'\\\" fontsize=10];\\n  probability_tensor -> Normalizer;\\n  Normalizer -> probabilities;\\n\\n  Cast [shape=box style=\\\"filled,rounded\\\" color=orange label=\\\"Cast\\n(Cast)\\nto=7\\\" fontsize=10];\\n  label -> Cast;\\n  Cast -> output_label;\\n\\n  ZipMap [shape=box style=\\\"filled,rounded\\\" color=orange label=\\\"ZipMap\\n(ZipMap)\\nclasslabels_int64s=[0 1 2]\\\" fontsize=10];\\n  probabilities -> ZipMap;\\n  ZipMap -> output_probability;\\n}\");\n",
              "document.getElementById('Mdb9b49ac765b487cb488eff5bbaeca0e').innerHTML = svgGraph; });\n",
              "\n",
              "</script>"
            ],
            "text/plain": [
              "<jyquickhelper.jspy.render_nb_js_dot.RenderJsDot at 0x25883538ee0>"
            ]
          },
          "execution_count": 9,
          "metadata": {},
          "output_type": "execute_result"
        }
      ],
      "source": [
        "%onnxview onx"
      ]
    },
    {
      "cell_type": "markdown",
      "metadata": {},
      "source": [
        "The operator `Log` is belongs to the graph. There is some overhead by using this function on small matrices. The gap is much less on big matrices."
      ]
    },
    {
      "cell_type": "code",
      "execution_count": 9,
      "metadata": {},
      "outputs": [
        {
          "name": "stdout",
          "output_type": "stream",
          "text": [
            "4.43 \u00b5s \u00b1 311 ns per loop (mean \u00b1 std. dev. of 7 runs, 100000 loops each)\n"
          ]
        }
      ],
      "source": [
        "%timeit numpy.log(X_train)"
      ]
    },
    {
      "cell_type": "code",
      "execution_count": 10,
      "metadata": {},
      "outputs": [
        {
          "name": "stdout",
          "output_type": "stream",
          "text": [
            "16 \u00b5s \u00b1 2.13 \u00b5s per loop (mean \u00b1 std. dev. of 7 runs, 100000 loops each)\n"
          ]
        }
      ],
      "source": [
        "%timeit npnxrt.log(X_train)"
      ]
    },
    {
      "cell_type": "markdown",
      "metadata": {},
      "source": [
        "## Slightly more complex functions with a FunctionTransformer\n",
        "\n",
        "What about more complex functions? It is a bit more complicated too. The previous syntax does not work."
      ]
    },
    {
      "cell_type": "code",
      "execution_count": 11,
      "metadata": {},
      "outputs": [
        {
          "data": {
            "text/plain": [
              "Pipeline(steps=[('functiontransformer',\n",
              "                 FunctionTransformer(func=<function custom_fct at 0x00000258FFFCF550>)),\n",
              "                ('standardscaler', StandardScaler()),\n",
              "                ('logisticregression', LogisticRegression())])"
            ]
          },
          "execution_count": 12,
          "metadata": {},
          "output_type": "execute_result"
        }
      ],
      "source": [
        "def custom_fct(x):\n",
        "    return npnxrt.log(x + 1)\n",
        "\n",
        "pipe = make_pipeline(\n",
        "            FunctionTransformer(custom_fct),\n",
        "            StandardScaler(),\n",
        "            LogisticRegression())\n",
        "pipe.fit(X_train, y_train)"
      ]
    },
    {
      "cell_type": "code",
      "execution_count": 12,
      "metadata": {},
      "outputs": [
        {
          "name": "stdout",
          "output_type": "stream",
          "text": [
            "FunctionTransformer is not supported unless the transform function is of type <class 'function'> wrapped with onnxnumpy.\n"
          ]
        }
      ],
      "source": [
        "try:\n",
        "    onx = to_onnx(pipe, X_train.astype(numpy.float64), rewrite_ops=True)\n",
        "except TypeError as e:\n",
        "    print(e)"
      ]
    },
    {
      "cell_type": "markdown",
      "metadata": {},
      "source": [
        "The syntax is different."
      ]
    },
    {
      "cell_type": "code",
      "execution_count": 13,
      "metadata": {
        "scrolled": false
      },
      "outputs": [
        {
          "data": {
            "text/plain": [
              "Pipeline(steps=[('functiontransformer',\n",
              "                 FunctionTransformer(func=<mlprodict.npy.onnx_numpy_wrapper.onnxnumpy_custom_fct_None_None object at 0x00000258835EC430>)),\n",
              "                ('standardscaler', StandardScaler()),\n",
              "                ('logisticregression', LogisticRegression())])"
            ]
          },
          "execution_count": 14,
          "metadata": {},
          "output_type": "execute_result"
        }
      ],
      "source": [
        "from typing import Any\n",
        "from mlprodict.npy import onnxnumpy_default, NDArray\n",
        "import mlprodict.npy.numpy_onnx_impl as npnx\n",
        "\n",
        "@onnxnumpy_default\n",
        "def custom_fct(x: NDArray[(None, None), numpy.float64]) -> NDArray[(None, None), numpy.float64]:\n",
        "    return npnx.log(x + numpy.float64(1))\n",
        "\n",
        "pipe = make_pipeline(\n",
        "            FunctionTransformer(custom_fct),\n",
        "            StandardScaler(),\n",
        "            LogisticRegression())\n",
        "pipe.fit(X_train, y_train)"
      ]
    },
    {
      "cell_type": "code",
      "execution_count": 14,
      "metadata": {},
      "outputs": [
        {
          "data": {
            "text/html": [
              "<div id=\"M0d6cc8c631964c2ba4be92ba0222c1dc-cont\"><div id=\"M0d6cc8c631964c2ba4be92ba0222c1dc\" style=\"width:100%;height:100%;\"></div></div>\n",
              "<script>\n",
              "\n",
              "require(['http://www.xavierdupre.fr/js/vizjs/viz.js'], function() { var svgGraph = Viz(\"digraph{\\n  ranksep=0.25;\\n  orientation=portrait;\\n  nodesep=0.05;\\n\\n  X [shape=box color=red label=\\\"X\\ndouble((0, 4))\\\" fontsize=10];\\n\\n  output_label [shape=box color=green label=\\\"output_label\\nint64((0,))\\\" fontsize=10];\\n  output_probability [shape=box color=green label=\\\"output_probability\\n[{int64, {'kind': 'tensor', 'elem': 'double', 'shape': }}]\\\" fontsize=10];\\n\\n  ft_Ad_Addcst [shape=box label=\\\"ft_Ad_Addcst\\nfloat64(())\\n1.0\\\" fontsize=10];\\n\\n  ft_Ad_C0 [shape=box label=\\\"ft_Ad_C0\\\" fontsize=10];\\n  ft_Add [shape=box style=\\\"filled,rounded\\\" color=orange label=\\\"Add\\n(ft_Add)\\\" fontsize=10];\\n  X -> ft_Add;\\n  ft_Ad_Addcst -> ft_Add;\\n  ft_Add -> ft_Ad_C0;\\n\\n  ft_y [shape=box label=\\\"ft_y\\\" fontsize=10];\\n  ft_Log [shape=box style=\\\"filled,rounded\\\" color=orange label=\\\"Log\\n(ft_Log)\\\" fontsize=10];\\n  ft_Ad_C0 -> ft_Log;\\n  ft_Log -> ft_y;\\n\\n  variable1 [shape=box label=\\\"variable1\\\" fontsize=10];\\n  Scaler [shape=box style=\\\"filled,rounded\\\" color=orange label=\\\"Scaler\\n(Scaler)\\noffset=[1.91789127 1.39259445 1...\\nscale=[8.17653793 8.7249947  2....\\\" fontsize=10];\\n  ft_y -> Scaler;\\n  Scaler -> variable1;\\n\\n  label [shape=box label=\\\"label\\\" fontsize=10];\\n  probability_tensor [shape=box label=\\\"probability_tensor\\\" fontsize=10];\\n  LinearClassifier [shape=box style=\\\"filled,rounded\\\" color=orange label=\\\"LinearClassifier\\n(LinearClassifier)\\nclasslabels_ints=[0 1 2]\\ncoefficients=[-0.91367275  1.00...\\nintercepts=[ 0.1428549  1.83612...\\nmulti_class=1\\npost_transform=b'SOFTMAX'\\\" fontsize=10];\\n  variable1 -> LinearClassifier;\\n  LinearClassifier -> label;\\n  LinearClassifier -> probability_tensor;\\n\\n  probabilities [shape=box label=\\\"probabilities\\\" fontsize=10];\\n  Normalizer [shape=box style=\\\"filled,rounded\\\" color=orange label=\\\"Normalizer\\n(Normalizer)\\nnorm=b'L1'\\\" fontsize=10];\\n  probability_tensor -> Normalizer;\\n  Normalizer -> probabilities;\\n\\n  Cast [shape=box style=\\\"filled,rounded\\\" color=orange label=\\\"Cast\\n(Cast)\\nto=7\\\" fontsize=10];\\n  label -> Cast;\\n  Cast -> output_label;\\n\\n  ZipMap [shape=box style=\\\"filled,rounded\\\" color=orange label=\\\"ZipMap\\n(ZipMap)\\nclasslabels_int64s=[0 1 2]\\\" fontsize=10];\\n  probabilities -> ZipMap;\\n  ZipMap -> output_probability;\\n}\");\n",
              "document.getElementById('M0d6cc8c631964c2ba4be92ba0222c1dc').innerHTML = svgGraph; });\n",
              "\n",
              "</script>"
            ],
            "text/plain": [
              "<jyquickhelper.jspy.render_nb_js_dot.RenderJsDot at 0x258835bbc70>"
            ]
          },
          "execution_count": 15,
          "metadata": {},
          "output_type": "execute_result"
        }
      ],
      "source": [
        "onx = to_onnx(pipe, X_train.astype(numpy.float64), rewrite_ops=True)\n",
        "%onnxview onx"
      ]
    },
    {
      "cell_type": "markdown",
      "metadata": {},
      "source": [
        "Let's compare the time to *numpy*."
      ]
    },
    {
      "cell_type": "code",
      "execution_count": 15,
      "metadata": {},
      "outputs": [
        {
          "name": "stdout",
          "output_type": "stream",
          "text": [
            "6.34 \u00b5s \u00b1 522 ns per loop (mean \u00b1 std. dev. of 7 runs, 100000 loops each)\n"
          ]
        }
      ],
      "source": [
        "def custom_numpy_fct(x):\n",
        "    return numpy.log(x + numpy.float64(1))\n",
        "\n",
        "%timeit custom_numpy_fct(X_train)"
      ]
    },
    {
      "cell_type": "code",
      "execution_count": 16,
      "metadata": {},
      "outputs": [
        {
          "name": "stdout",
          "output_type": "stream",
          "text": [
            "17.8 \u00b5s \u00b1 722 ns per loop (mean \u00b1 std. dev. of 7 runs, 10000 loops each)\n"
          ]
        }
      ],
      "source": [
        "%timeit custom_fct(X_train)"
      ]
    },
    {
      "cell_type": "markdown",
      "metadata": {},
      "source": [
        "The new function is slower but the gap is much less on bigger matrices. The default ONNX runtime has a significant cost compare to the cost of a couple of operations on small matrices."
      ]
    },
    {
      "cell_type": "code",
      "execution_count": 17,
      "metadata": {},
      "outputs": [
        {
          "name": "stdout",
          "output_type": "stream",
          "text": [
            "349 \u00b5s \u00b1 21.4 \u00b5s per loop (mean \u00b1 std. dev. of 7 runs, 1000 loops each)\n"
          ]
        }
      ],
      "source": [
        "bigx = numpy.random.rand(10000, X_train.shape[1])\n",
        "%timeit custom_numpy_fct(bigx)"
      ]
    },
    {
      "cell_type": "code",
      "execution_count": 18,
      "metadata": {},
      "outputs": [
        {
          "name": "stdout",
          "output_type": "stream",
          "text": [
            "367 \u00b5s \u00b1 50.1 \u00b5s per loop (mean \u00b1 std. dev. of 7 runs, 1000 loops each)\n"
          ]
        }
      ],
      "source": [
        "%timeit custom_fct(bigx)"
      ]
    },
    {
      "cell_type": "markdown",
      "metadata": {},
      "source": [
        "## Function transformer with FFT\n",
        "\n",
        "The following function is equivalent to the module of the output of a FFT transform. The matrix $M_{kn}$ is defined by $M_{kn}=(\\exp(-2i\\pi kn/N))_{kn}$. Complex features are then obtained by computing $MX$. Taking the module leads to real features: $\\sqrt{Re(MX)^2 + Im(MX)^2}$. That's what the following function does."
      ]
    },
    {
      "cell_type": "markdown",
      "metadata": {},
      "source": [
        "###  numpy implementation"
      ]
    },
    {
      "cell_type": "code",
      "execution_count": 19,
      "metadata": {},
      "outputs": [
        {
          "data": {
            "text/plain": [
              "array([[3.147964 , 1.5111852, 2.6032405, 1.5111852],\n",
              "       [2.7854056, 1.3178631, 2.491644 , 1.3178631],\n",
              "       [0.9064019, 4.1368184, 2.4568543, 4.1368184]], dtype=float32)"
            ]
          },
          "execution_count": 20,
          "metadata": {},
          "output_type": "execute_result"
        }
      ],
      "source": [
        "def custom_fft_abs_py(x):\n",
        "    \"onnx fft + abs python\"\n",
        "    # see https://jakevdp.github.io/blog/\n",
        "    # 2013/08/28/understanding-the-fft/\n",
        "    dim = x.shape[1]\n",
        "    n = numpy.arange(dim)\n",
        "    k = n.reshape((-1, 1)).astype(numpy.float64)\n",
        "    kn = k * n * (-numpy.pi * 2 / dim)\n",
        "    kn_cos = numpy.cos(kn)\n",
        "    kn_sin = numpy.sin(kn)\n",
        "    ekn = numpy.empty((2,) + kn.shape, dtype=x.dtype)\n",
        "    ekn[0, :, :] = kn_cos\n",
        "    ekn[1, :, :] = kn_sin\n",
        "    res = numpy.dot(ekn, x.T)\n",
        "    tr = res ** 2\n",
        "    mod = tr[0, :, :] + tr[1, :, :]\n",
        "    return numpy.sqrt(mod).T\n",
        "\n",
        "x = numpy.random.randn(3, 4).astype(numpy.float32)\n",
        "custom_fft_abs_py(x)"
      ]
    },
    {
      "cell_type": "markdown",
      "metadata": {},
      "source": [
        "### ONNX implementation"
      ]
    },
    {
      "cell_type": "markdown",
      "metadata": {},
      "source": [
        "This function cannot be exported into ONNX unless it is written with ONNX operators. This is where the numpy API for ONNX helps speeding up the process."
      ]
    },
    {
      "cell_type": "code",
      "execution_count": 20,
      "metadata": {},
      "outputs": [
        {
          "data": {
            "text/plain": [
              "array([[3.147964 , 1.5111852, 2.6032405, 1.5111852],\n",
              "       [2.7854056, 1.3178632, 2.491644 , 1.3178632],\n",
              "       [0.9064019, 4.1368184, 2.4568543, 4.136818 ]], dtype=float32)"
            ]
          },
          "execution_count": 21,
          "metadata": {},
          "output_type": "execute_result"
        }
      ],
      "source": [
        "from mlprodict.npy import onnxnumpy_default, onnxnumpy_np, NDArray\n",
        "import mlprodict.npy.numpy_onnx_impl as nxnp\n",
        "\n",
        "\n",
        "def _custom_fft_abs(x):\n",
        "    dim = x.shape[1]\n",
        "    n = nxnp.arange(0, dim).astype(numpy.float32)\n",
        "    k = n.reshape((-1, 1))\n",
        "    kn = (k * (n * numpy.float32(-numpy.pi * 2))) / dim.astype(numpy.float32)\n",
        "    kn3 = nxnp.expand_dims(kn, 0)\n",
        "    kn_cos = nxnp.cos(kn3)\n",
        "    kn_sin = nxnp.sin(kn3)\n",
        "    ekn = nxnp.vstack(kn_cos, kn_sin)\n",
        "    res = nxnp.dot(ekn, x.T)\n",
        "    tr = res ** 2\n",
        "    mod = tr[0, :, :] + tr[1, :, :]\n",
        "    return nxnp.sqrt(mod).T\n",
        "\n",
        "\n",
        "@onnxnumpy_default\n",
        "def custom_fft_abs(x: NDArray[Any, numpy.float32],\n",
        "                   ) -> NDArray[Any, numpy.float32]:\n",
        "    \"onnx fft + abs\"\n",
        "    return _custom_fft_abs(x)\n",
        "\n",
        "\n",
        "custom_fft_abs(x)"
      ]
    },
    {
      "cell_type": "markdown",
      "metadata": {},
      "source": [
        "`custom_fft_abs` is not a function a class holding an ONNX graph. A method `__call__` executes the ONNX graph with a python runtime."
      ]
    },
    {
      "cell_type": "code",
      "execution_count": 21,
      "metadata": {
        "scrolled": false
      },
      "outputs": [
        {
          "data": {
            "text/html": [
              "<div id=\"M94a3797e9d784b938fc210be031c6009-cont\"><div id=\"M94a3797e9d784b938fc210be031c6009\" style=\"width:100%;height:100%;\"></div></div>\n",
              "<script>\n",
              "\n",
              "require(['http://www.xavierdupre.fr/js/vizjs/viz.js'], function() { var svgGraph = Viz(\"digraph{\\n  ranksep=0.25;\\n  orientation=portrait;\\n  nodesep=0.05;\\n\\n  x [shape=box color=red label=\\\"x\\nfloat(('?',))\\\" fontsize=10];\\n\\n  y [shape=box color=green label=\\\"y\\nfloat(('?',))\\\" fontsize=10];\\n\\n  Sl_Slicecst [shape=box label=\\\"Sl_Slicecst\\nint64((1,))\\n[1]\\\" fontsize=10];\\n  Sl_Slicecst1 [shape=box label=\\\"Sl_Slicecst1\\nint64((1,))\\n[2]\\\" fontsize=10];\\n  Sl_Slicecst2 [shape=box label=\\\"Sl_Slicecst2\\nint64((1,))\\n[0]\\\" fontsize=10];\\n  Ad_Addcst [shape=box label=\\\"Ad_Addcst\\nint64((1,))\\n[-1]\\\" fontsize=10];\\n  Re_Reshapecst [shape=box label=\\\"Re_Reshapecst\\nint64((2,))\\n[-1  1]\\\" fontsize=10];\\n  Mu_Mulcst [shape=box label=\\\"Mu_Mulcst\\nfloat32(())\\n-6.2831855\\\" fontsize=10];\\n  Po_Powcst [shape=box label=\\\"Po_Powcst\\nint64(())\\n2\\\" fontsize=10];\\n\\n  Sh_shape0 [shape=box label=\\\"Sh_shape0\\\" fontsize=10];\\n  Sh_Shape [shape=box style=\\\"filled,rounded\\\" color=orange label=\\\"Shape\\n(Sh_Shape)\\\" fontsize=10];\\n  x -> Sh_Shape;\\n  Sh_Shape -> Sh_shape0;\\n\\n  Sl_output01 [shape=box label=\\\"Sl_output01\\\" fontsize=10];\\n  Sl_Slice [shape=box style=\\\"filled,rounded\\\" color=orange label=\\\"Slice\\n(Sl_Slice)\\\" fontsize=10];\\n  Sh_shape0 -> Sl_Slice;\\n  Sl_Slicecst -> Sl_Slice;\\n  Sl_Slicecst1 -> Sl_Slice;\\n  Sl_Slicecst2 -> Sl_Slice;\\n  Sl_Slice -> Sl_output01;\\n\\n  Sq_Squeezecst [shape=box label=\\\"Sq_Squeezecst\\\" fontsize=10];\\n  Sq_Squeezecst_op [shape=box style=\\\"filled,rounded\\\" color=orange label=\\\"Identity\\n(Sq_Squeezecst_op)\\\" fontsize=10];\\n  Sl_Slicecst2 -> Sq_Squeezecst_op;\\n  Sq_Squeezecst_op -> Sq_Squeezecst;\\n\\n  Sq_squeezed01 [shape=box label=\\\"Sq_squeezed01\\\" fontsize=10];\\n  Sq_Squeeze [shape=box style=\\\"filled,rounded\\\" color=orange label=\\\"Squeeze\\n(Sq_Squeeze)\\\" fontsize=10];\\n  Sl_output01 -> Sq_Squeeze;\\n  Sq_Squeezecst -> Sq_Squeeze;\\n  Sq_Squeeze -> Sq_squeezed01;\\n\\n  Su_Subcst [shape=box label=\\\"Su_Subcst\\\" fontsize=10];\\n  Su_Subcst_op [shape=box style=\\\"filled,rounded\\\" color=orange label=\\\"Identity\\n(Su_Subcst_op)\\\" fontsize=10];\\n  Sl_Slicecst2 -> Su_Subcst_op;\\n  Su_Subcst_op -> Su_Subcst;\\n\\n  Su_C0 [shape=box label=\\\"Su_C0\\\" fontsize=10];\\n  Su_Sub [shape=box style=\\\"filled,rounded\\\" color=orange label=\\\"Sub\\n(Su_Sub)\\\" fontsize=10];\\n  Sq_squeezed01 -> Su_Sub;\\n  Su_Subcst -> Su_Sub;\\n  Su_Sub -> Su_C0;\\n\\n  Co_output01 [shape=box label=\\\"Co_output01\\\" fontsize=10];\\n  Co_ConstantOfShape [shape=box style=\\\"filled,rounded\\\" color=orange label=\\\"ConstantOfShape\\n(Co_ConstantOfShape)\\nvalue=[1]\\\" fontsize=10];\\n  Su_C0 -> Co_ConstantOfShape;\\n  Co_ConstantOfShape -> Co_output01;\\n\\n  Cu_CumSumcst [shape=box label=\\\"Cu_CumSumcst\\\" fontsize=10];\\n  Cu_CumSumcst_op [shape=box style=\\\"filled,rounded\\\" color=orange label=\\\"Identity\\n(Cu_CumSumcst_op)\\\" fontsize=10];\\n  Sl_Slicecst2 -> Cu_CumSumcst_op;\\n  Cu_CumSumcst_op -> Cu_CumSumcst;\\n\\n  Cu_y0 [shape=box label=\\\"Cu_y0\\\" fontsize=10];\\n  Cu_CumSum [shape=box style=\\\"filled,rounded\\\" color=orange label=\\\"CumSum\\n(Cu_CumSum)\\\" fontsize=10];\\n  Co_output01 -> Cu_CumSum;\\n  Cu_CumSumcst -> Cu_CumSum;\\n  Cu_CumSum -> Cu_y0;\\n\\n  Ad_C01 [shape=box label=\\\"Ad_C01\\\" fontsize=10];\\n  Ad_Add [shape=box style=\\\"filled,rounded\\\" color=orange label=\\\"Add\\n(Ad_Add)\\\" fontsize=10];\\n  Cu_y0 -> Ad_Add;\\n  Ad_Addcst -> Ad_Add;\\n  Ad_Add -> Ad_C01;\\n\\n  Ca_output0 [shape=box label=\\\"Ca_output0\\\" fontsize=10];\\n  Ca_Cast [shape=box style=\\\"filled,rounded\\\" color=orange label=\\\"Cast\\n(Ca_Cast)\\nto=1\\\" fontsize=10];\\n  Ad_C01 -> Ca_Cast;\\n  Ca_Cast -> Ca_output0;\\n\\n  Re_reshaped0 [shape=box label=\\\"Re_reshaped0\\\" fontsize=10];\\n  Re_Reshape [shape=box style=\\\"filled,rounded\\\" color=orange label=\\\"Reshape\\n(Re_Reshape)\\\" fontsize=10];\\n  Ca_output0 -> Re_Reshape;\\n  Re_Reshapecst -> Re_Reshape;\\n  Re_Reshape -> Re_reshaped0;\\n\\n  Mu_C01 [shape=box label=\\\"Mu_C01\\\" fontsize=10];\\n  Mu_Mul [shape=box style=\\\"filled,rounded\\\" color=orange label=\\\"Mul\\n(Mu_Mul)\\\" fontsize=10];\\n  Ca_output0 -> Mu_Mul;\\n  Mu_Mulcst -> Mu_Mul;\\n  Mu_Mul -> Mu_C01;\\n\\n  Mu_C0 [shape=box label=\\\"Mu_C0\\\" fontsize=10];\\n  Mu_Mul1 [shape=box style=\\\"filled,rounded\\\" color=orange label=\\\"Mul\\n(Mu_Mul1)\\\" fontsize=10];\\n  Re_reshaped0 -> Mu_Mul1;\\n  Mu_C01 -> Mu_Mul1;\\n  Mu_Mul1 -> Mu_C0;\\n\\n  Ca_output01 [shape=box label=\\\"Ca_output01\\\" fontsize=10];\\n  Ca_Cast1 [shape=box style=\\\"filled,rounded\\\" color=orange label=\\\"Cast\\n(Ca_Cast1)\\nto=1\\\" fontsize=10];\\n  Sq_squeezed01 -> Ca_Cast1;\\n  Ca_Cast1 -> Ca_output01;\\n\\n  Di_C0 [shape=box label=\\\"Di_C0\\\" fontsize=10];\\n  Di_Div [shape=box style=\\\"filled,rounded\\\" color=orange label=\\\"Div\\n(Di_Div)\\\" fontsize=10];\\n  Mu_C0 -> Di_Div;\\n  Ca_output01 -> Di_Div;\\n  Di_Div -> Di_C0;\\n\\n  Un_Unsqueezecst [shape=box label=\\\"Un_Unsqueezecst\\\" fontsize=10];\\n  Un_Unsqueezecst_op [shape=box style=\\\"filled,rounded\\\" color=orange label=\\\"Identity\\n(Un_Unsqueezecst_op)\\\" fontsize=10];\\n  Sl_Slicecst2 -> Un_Unsqueezecst_op;\\n  Un_Unsqueezecst_op -> Un_Unsqueezecst;\\n\\n  Un_expanded0 [shape=box label=\\\"Un_expanded0\\\" fontsize=10];\\n  Un_Unsqueeze [shape=box style=\\\"filled,rounded\\\" color=orange label=\\\"Unsqueeze\\n(Un_Unsqueeze)\\\" fontsize=10];\\n  Di_C0 -> Un_Unsqueeze;\\n  Un_Unsqueezecst -> Un_Unsqueeze;\\n  Un_Unsqueeze -> Un_expanded0;\\n\\n  Co_output0 [shape=box label=\\\"Co_output0\\\" fontsize=10];\\n  Co_Cos [shape=box style=\\\"filled,rounded\\\" color=orange label=\\\"Cos\\n(Co_Cos)\\\" fontsize=10];\\n  Un_expanded0 -> Co_Cos;\\n  Co_Cos -> Co_output0;\\n\\n  Si_output0 [shape=box label=\\\"Si_output0\\\" fontsize=10];\\n  Si_Sin [shape=box style=\\\"filled,rounded\\\" color=orange label=\\\"Sin\\n(Si_Sin)\\\" fontsize=10];\\n  Un_expanded0 -> Si_Sin;\\n  Si_Sin -> Si_output0;\\n\\n  Co_concat_result0 [shape=box label=\\\"Co_concat_result0\\\" fontsize=10];\\n  Co_Concat [shape=box style=\\\"filled,rounded\\\" color=orange label=\\\"Concat\\n(Co_Concat)\\naxis=0\\\" fontsize=10];\\n  Co_output0 -> Co_Concat;\\n  Si_output0 -> Co_Concat;\\n  Co_Concat -> Co_concat_result0;\\n\\n  Tr_transposed0 [shape=box label=\\\"Tr_transposed0\\\" fontsize=10];\\n  Tr_Transpose [shape=box style=\\\"filled,rounded\\\" color=orange label=\\\"Transpose\\n(Tr_Transpose)\\\" fontsize=10];\\n  x -> Tr_Transpose;\\n  Tr_Transpose -> Tr_transposed0;\\n\\n  Ma_Y0 [shape=box label=\\\"Ma_Y0\\\" fontsize=10];\\n  Ma_MatMul [shape=box style=\\\"filled,rounded\\\" color=orange label=\\\"MatMul\\n(Ma_MatMul)\\\" fontsize=10];\\n  Co_concat_result0 -> Ma_MatMul;\\n  Tr_transposed0 -> Ma_MatMul;\\n  Ma_MatMul -> Ma_Y0;\\n\\n  Po_Z0 [shape=box label=\\\"Po_Z0\\\" fontsize=10];\\n  Po_Pow [shape=box style=\\\"filled,rounded\\\" color=orange label=\\\"Pow\\n(Po_Pow)\\\" fontsize=10];\\n  Ma_Y0 -> Po_Pow;\\n  Po_Powcst -> Po_Pow;\\n  Po_Pow -> Po_Z0;\\n\\n  Sl_Slicecst3 [shape=box label=\\\"Sl_Slicecst3\\\" fontsize=10];\\n  Sl_Slicecst3_op [shape=box style=\\\"filled,rounded\\\" color=orange label=\\\"Identity\\n(Sl_Slicecst3_op)\\\" fontsize=10];\\n  Sl_Slicecst2 -> Sl_Slicecst3_op;\\n  Sl_Slicecst3_op -> Sl_Slicecst3;\\n\\n  Sl_Slicecst4 [shape=box label=\\\"Sl_Slicecst4\\\" fontsize=10];\\n  Sl_Slicecst4_op [shape=box style=\\\"filled,rounded\\\" color=orange label=\\\"Identity\\n(Sl_Slicecst4_op)\\\" fontsize=10];\\n  Sl_Slicecst -> Sl_Slicecst4_op;\\n  Sl_Slicecst4_op -> Sl_Slicecst4;\\n\\n  Sl_Slicecst5 [shape=box label=\\\"Sl_Slicecst5\\\" fontsize=10];\\n  Sl_Slicecst5_op [shape=box style=\\\"filled,rounded\\\" color=orange label=\\\"Identity\\n(Sl_Slicecst5_op)\\\" fontsize=10];\\n  Sl_Slicecst2 -> Sl_Slicecst5_op;\\n  Sl_Slicecst5_op -> Sl_Slicecst5;\\n\\n  Sl_output0 [shape=box label=\\\"Sl_output0\\\" fontsize=10];\\n  Sl_Slice1 [shape=box style=\\\"filled,rounded\\\" color=orange label=\\\"Slice\\n(Sl_Slice1)\\\" fontsize=10];\\n  Po_Z0 -> Sl_Slice1;\\n  Sl_Slicecst3 -> Sl_Slice1;\\n  Sl_Slicecst4 -> Sl_Slice1;\\n  Sl_Slicecst5 -> Sl_Slice1;\\n  Sl_Slice1 -> Sl_output0;\\n\\n  Sq_Squeezecst1 [shape=box label=\\\"Sq_Squeezecst1\\\" fontsize=10];\\n  Sq_Squeezecst1_op [shape=box style=\\\"filled,rounded\\\" color=orange label=\\\"Identity\\n(Sq_Squeezecst1_op)\\\" fontsize=10];\\n  Sl_Slicecst2 -> Sq_Squeezecst1_op;\\n  Sq_Squeezecst1_op -> Sq_Squeezecst1;\\n\\n  Sq_squeezed0 [shape=box label=\\\"Sq_squeezed0\\\" fontsize=10];\\n  Sq_Squeeze1 [shape=box style=\\\"filled,rounded\\\" color=orange label=\\\"Squeeze\\n(Sq_Squeeze1)\\\" fontsize=10];\\n  Sl_output0 -> Sq_Squeeze1;\\n  Sq_Squeezecst1 -> Sq_Squeeze1;\\n  Sq_Squeeze1 -> Sq_squeezed0;\\n\\n  Sl_Slicecst6 [shape=box label=\\\"Sl_Slicecst6\\\" fontsize=10];\\n  Sl_Slicecst6_op [shape=box style=\\\"filled,rounded\\\" color=orange label=\\\"Identity\\n(Sl_Slicecst6_op)\\\" fontsize=10];\\n  Sl_Slicecst -> Sl_Slicecst6_op;\\n  Sl_Slicecst6_op -> Sl_Slicecst6;\\n\\n  Sl_Slicecst7 [shape=box label=\\\"Sl_Slicecst7\\\" fontsize=10];\\n  Sl_Slicecst7_op [shape=box style=\\\"filled,rounded\\\" color=orange label=\\\"Identity\\n(Sl_Slicecst7_op)\\\" fontsize=10];\\n  Sl_Slicecst1 -> Sl_Slicecst7_op;\\n  Sl_Slicecst7_op -> Sl_Slicecst7;\\n\\n  Sl_Slicecst8 [shape=box label=\\\"Sl_Slicecst8\\\" fontsize=10];\\n  Sl_Slicecst8_op [shape=box style=\\\"filled,rounded\\\" color=orange label=\\\"Identity\\n(Sl_Slicecst8_op)\\\" fontsize=10];\\n  Sl_Slicecst2 -> Sl_Slicecst8_op;\\n  Sl_Slicecst8_op -> Sl_Slicecst8;\\n\\n  Sl_output02 [shape=box label=\\\"Sl_output02\\\" fontsize=10];\\n  Sl_Slice2 [shape=box style=\\\"filled,rounded\\\" color=orange label=\\\"Slice\\n(Sl_Slice2)\\\" fontsize=10];\\n  Po_Z0 -> Sl_Slice2;\\n  Sl_Slicecst6 -> Sl_Slice2;\\n  Sl_Slicecst7 -> Sl_Slice2;\\n  Sl_Slicecst8 -> Sl_Slice2;\\n  Sl_Slice2 -> Sl_output02;\\n\\n  Sq_Squeezecst2 [shape=box label=\\\"Sq_Squeezecst2\\\" fontsize=10];\\n  Sq_Squeezecst2_op [shape=box style=\\\"filled,rounded\\\" color=orange label=\\\"Identity\\n(Sq_Squeezecst2_op)\\\" fontsize=10];\\n  Sl_Slicecst2 -> Sq_Squeezecst2_op;\\n  Sq_Squeezecst2_op -> Sq_Squeezecst2;\\n\\n  Sq_squeezed02 [shape=box label=\\\"Sq_squeezed02\\\" fontsize=10];\\n  Sq_Squeeze2 [shape=box style=\\\"filled,rounded\\\" color=orange label=\\\"Squeeze\\n(Sq_Squeeze2)\\\" fontsize=10];\\n  Sl_output02 -> Sq_Squeeze2;\\n  Sq_Squeezecst2 -> Sq_Squeeze2;\\n  Sq_Squeeze2 -> Sq_squeezed02;\\n\\n  Ad_C0 [shape=box label=\\\"Ad_C0\\\" fontsize=10];\\n  Ad_Add1 [shape=box style=\\\"filled,rounded\\\" color=orange label=\\\"Add\\n(Ad_Add1)\\\" fontsize=10];\\n  Sq_squeezed0 -> Ad_Add1;\\n  Sq_squeezed02 -> Ad_Add1;\\n  Ad_Add1 -> Ad_C0;\\n\\n  Sq_Y0 [shape=box label=\\\"Sq_Y0\\\" fontsize=10];\\n  Sq_Sqrt [shape=box style=\\\"filled,rounded\\\" color=orange label=\\\"Sqrt\\n(Sq_Sqrt)\\\" fontsize=10];\\n  Ad_C0 -> Sq_Sqrt;\\n  Sq_Sqrt -> Sq_Y0;\\n\\n  Tr_Transpose1 [shape=box style=\\\"filled,rounded\\\" color=orange label=\\\"Transpose\\n(Tr_Transpose1)\\\" fontsize=10];\\n  Sq_Y0 -> Tr_Transpose1;\\n  Tr_Transpose1 -> y;\\n}\");\n",
              "document.getElementById('M94a3797e9d784b938fc210be031c6009').innerHTML = svgGraph; });\n",
              "\n",
              "</script>"
            ],
            "text/plain": [
              "<jyquickhelper.jspy.render_nb_js_dot.RenderJsDot at 0x258835bb310>"
            ]
          },
          "execution_count": 22,
          "metadata": {},
          "output_type": "execute_result"
        }
      ],
      "source": [
        "%onnxview custom_fft_abs.compiled.onnx_"
      ]
    },
    {
      "cell_type": "markdown",
      "metadata": {},
      "source": [
        "Every intermediate output can be logged."
      ]
    },
    {
      "cell_type": "code",
      "execution_count": 22,
      "metadata": {},
      "outputs": [
        {
          "name": "stdout",
          "output_type": "stream",
          "text": [
            "-- OnnxInference: run 39 nodes\n",
            "Onnx-Shape(x) -> Sh_shape0\n",
            "+kr='Sh_shape0': (2,) (dtype=int64 min=3 max=4)\n",
            "Onnx-Slice(Sh_shape0, Sl_Slicecst, Sl_Slicecst1, Sl_Slicecst2) -> Sl_output01\n",
            "+kr='Sl_output01': (1,) (dtype=int64 min=4 max=4)\n",
            "Onnx-Identity(Sl_Slicecst2) -> Sq_Squeezecst\n",
            "+kr='Sq_Squeezecst': (1,) (dtype=int64 min=0 max=0)\n",
            "Onnx-Squeeze(Sl_output01, Sq_Squeezecst) -> Sq_squeezed01\n",
            "+kr='Sq_squeezed01': () (dtype=int64 min=4 max=4)\n",
            "Onnx-Identity(Sl_Slicecst2) -> Su_Subcst\n",
            "+kr='Su_Subcst': (1,) (dtype=int64 min=0 max=0)\n",
            "Onnx-Sub(Sq_squeezed01, Su_Subcst) -> Su_C0\n",
            "+kr='Su_C0': (1,) (dtype=int64 min=4 max=4)\n",
            "Onnx-ConstantOfShape(Su_C0) -> Co_output01\n",
            "+kr='Co_output01': (4,) (dtype=int64 min=1 max=1)\n",
            "Onnx-Identity(Sl_Slicecst2) -> Cu_CumSumcst\n",
            "+kr='Cu_CumSumcst': (1,) (dtype=int64 min=0 max=0)\n",
            "Onnx-CumSum(Co_output01, Cu_CumSumcst) -> Cu_y0\n",
            "+kr='Cu_y0': (4,) (dtype=int64 min=1 max=4)\n",
            "Onnx-Add(Cu_y0, Ad_Addcst) -> Ad_C01\n",
            "+kr='Ad_C01': (4,) (dtype=int64 min=0 max=3)\n",
            "Onnx-Cast(Ad_C01) -> Ca_output0\n",
            "+kr='Ca_output0': (4,) (dtype=float32 min=0.0 max=3.0)\n",
            "Onnx-Reshape(Ca_output0, Re_Reshapecst) -> Re_reshaped0\n",
            "+kr='Re_reshaped0': (4, 1) (dtype=float32 min=0.0 max=3.0)\n",
            "Onnx-Mul(Ca_output0, Mu_Mulcst) -> Mu_C01\n",
            "+kr='Mu_C01': (4,) (dtype=float32 min=-18.84955596923828 max=-0.0)\n",
            "Onnx-Mul(Re_reshaped0, Mu_C01) -> Mu_C0\n",
            "+kr='Mu_C0': (4, 4) (dtype=float32 min=-56.548667907714844 max=-0.0)\n",
            "Onnx-Cast(Sq_squeezed01) -> Ca_output01\n",
            "+kr='Ca_output01': () (dtype=float32 min=4.0 max=4.0)\n",
            "Onnx-Div(Mu_C0, Ca_output01) -> Di_C0\n",
            "+kr='Di_C0': (4, 4) (dtype=float32 min=-14.137166976928711 max=-0.0)\n",
            "Onnx-Identity(Sl_Slicecst2) -> Un_Unsqueezecst\n",
            "+kr='Un_Unsqueezecst': (1,) (dtype=int64 min=0 max=0)\n",
            "Onnx-Unsqueeze(Di_C0, Un_Unsqueezecst) -> Un_expanded0\n",
            "+kr='Un_expanded0': (1, 4, 4) (dtype=float32 min=-14.137166976928711 max=-0.0)\n",
            "Onnx-Cos(Un_expanded0) -> Co_output0\n",
            "+kr='Co_output0': (1, 4, 4) (dtype=float32 min=-1.0 max=1.0)\n",
            "Onnx-Sin(Un_expanded0) -> Si_output0\n",
            "+kr='Si_output0': (1, 4, 4) (dtype=float32 min=-1.0 max=1.0)\n",
            "Onnx-Concat(Co_output0, Si_output0) -> Co_concat_result0\n",
            "+kr='Co_concat_result0': (2, 4, 4) (dtype=float32 min=-1.0 max=1.0)\n",
            "Onnx-Transpose(x) -> Tr_transposed0\n",
            "+kr='Tr_transposed0': (4, 3) (dtype=float32 min=-1.8227919340133667 max=2.354652166366577)\n",
            "Onnx-MatMul(Co_concat_result0, Tr_transposed0) -> Ma_Y0\n",
            "+kr='Ma_Y0': (2, 4, 3) (dtype=float32 min=-2.7854056358337402 max=3.9340782165527344)\n",
            "Onnx-Pow(Ma_Y0, Po_Powcst) -> Po_Z0\n",
            "+kr='Po_Z0': (2, 4, 3) (dtype=float32 min=0.0 max=15.476971626281738)\n",
            "Onnx-Identity(Sl_Slicecst2) -> Sl_Slicecst3\n",
            "+kr='Sl_Slicecst3': (1,) (dtype=int64 min=0 max=0)\n",
            "Onnx-Identity(Sl_Slicecst) -> Sl_Slicecst4\n",
            "+kr='Sl_Slicecst4': (1,) (dtype=int64 min=1 max=1)\n",
            "Onnx-Identity(Sl_Slicecst2) -> Sl_Slicecst5\n",
            "+kr='Sl_Slicecst5': (1,) (dtype=int64 min=0 max=0)\n",
            "Onnx-Slice(Po_Z0, Sl_Slicecst3, Sl_Slicecst4, Sl_Slicecst5) -> Sl_output0\n",
            "+kr='Sl_output0': (1, 4, 3) (dtype=float32 min=0.7225952744483948 max=15.476971626281738)\n",
            "Onnx-Identity(Sl_Slicecst2) -> Sq_Squeezecst1\n",
            "+kr='Sq_Squeezecst1': (1,) (dtype=int64 min=0 max=0)\n",
            "Onnx-Squeeze(Sl_output0, Sq_Squeezecst1) -> Sq_squeezed0\n",
            "+kr='Sq_squeezed0': (4, 3) (dtype=float32 min=0.7225952744483948 max=15.476971626281738)\n",
            "Onnx-Identity(Sl_Slicecst) -> Sl_Slicecst6\n",
            "+kr='Sl_Slicecst6': (1,) (dtype=int64 min=1 max=1)\n",
            "Onnx-Identity(Sl_Slicecst1) -> Sl_Slicecst7\n",
            "+kr='Sl_Slicecst7': (1,) (dtype=int64 min=2 max=2)\n",
            "Onnx-Identity(Sl_Slicecst2) -> Sl_Slicecst8\n",
            "+kr='Sl_Slicecst8': (1,) (dtype=int64 min=0 max=0)\n",
            "Onnx-Slice(Po_Z0, Sl_Slicecst6, Sl_Slicecst7, Sl_Slicecst8) -> Sl_output02\n",
            "+kr='Sl_output02': (1, 4, 3) (dtype=float32 min=0.0 max=1.636295199394226)\n",
            "Onnx-Identity(Sl_Slicecst2) -> Sq_Squeezecst2\n",
            "+kr='Sq_Squeezecst2': (1,) (dtype=int64 min=0 max=0)\n",
            "Onnx-Squeeze(Sl_output02, Sq_Squeezecst2) -> Sq_squeezed02\n",
            "+kr='Sq_squeezed02': (4, 3) (dtype=float32 min=0.0 max=1.636295199394226)\n",
            "Onnx-Add(Sq_squeezed0, Sq_squeezed02) -> Ad_C0\n",
            "+kr='Ad_C0': (4, 3) (dtype=float32 min=0.8215643763542175 max=17.113265991210938)\n",
            "Onnx-Sqrt(Ad_C0) -> Sq_Y0\n",
            "+kr='Sq_Y0': (4, 3) (dtype=float32 min=0.9064018726348877 max=4.1368184089660645)\n",
            "Onnx-Transpose(Sq_Y0) -> y\n",
            "+kr='y': (3, 4) (dtype=float32 min=0.9064018726348877 max=4.1368184089660645)\n"
          ]
        },
        {
          "data": {
            "text/plain": [
              "array([[3.147964 , 1.5111852, 2.6032405, 1.5111852],\n",
              "       [2.7854056, 1.3178632, 2.491644 , 1.3178632],\n",
              "       [0.9064019, 4.1368184, 2.4568543, 4.136818 ]], dtype=float32)"
            ]
          },
          "execution_count": 23,
          "metadata": {},
          "output_type": "execute_result"
        }
      ],
      "source": [
        " custom_fft_abs(x, verbose=1, fLOG=print)"
      ]
    },
    {
      "cell_type": "code",
      "execution_count": 23,
      "metadata": {},
      "outputs": [
        {
          "name": "stdout",
          "output_type": "stream",
          "text": [
            "22.6 \u00b5s \u00b1 6.06 \u00b5s per loop (mean \u00b1 std. dev. of 7 runs, 10000 loops each)\n"
          ]
        }
      ],
      "source": [
        "%timeit custom_fft_abs_py(x)"
      ]
    },
    {
      "cell_type": "code",
      "execution_count": 24,
      "metadata": {},
      "outputs": [
        {
          "name": "stdout",
          "output_type": "stream",
          "text": [
            "269 \u00b5s \u00b1 4.46 \u00b5s per loop (mean \u00b1 std. dev. of 7 runs, 1000 loops each)\n"
          ]
        }
      ],
      "source": [
        "%timeit custom_fft_abs(x)"
      ]
    },
    {
      "cell_type": "markdown",
      "metadata": {},
      "source": [
        "Again the gap is less on bigger matrices. It cannot be faster with the default runtime as it is also using *numpy*. That's another story with *onnxruntime* (see below)."
      ]
    },
    {
      "cell_type": "code",
      "execution_count": 25,
      "metadata": {},
      "outputs": [
        {
          "name": "stdout",
          "output_type": "stream",
          "text": [
            "1.68 ms \u00b1 55.9 \u00b5s per loop (mean \u00b1 std. dev. of 7 runs, 1000 loops each)\n"
          ]
        }
      ],
      "source": [
        "bigx = numpy.random.randn(10000, x.shape[1]).astype(numpy.float32)\n",
        "%timeit custom_fft_abs_py(bigx)"
      ]
    },
    {
      "cell_type": "code",
      "execution_count": 26,
      "metadata": {},
      "outputs": [
        {
          "name": "stdout",
          "output_type": "stream",
          "text": [
            "3.35 ms \u00b1 76.7 \u00b5s per loop (mean \u00b1 std. dev. of 7 runs, 100 loops each)\n"
          ]
        }
      ],
      "source": [
        "%timeit custom_fft_abs(bigx)"
      ]
    },
    {
      "cell_type": "markdown",
      "metadata": {},
      "source": [
        "### Using onnxruntime\n",
        "\n",
        "The python runtime is using numpy but is usually quite slow as the runtime needs to go through the graph structure.\n",
        "*onnxruntime* is faster."
      ]
    },
    {
      "cell_type": "code",
      "execution_count": 27,
      "metadata": {},
      "outputs": [
        {
          "data": {
            "text/plain": [
              "array([[3.147964 , 1.5111852, 2.6032405, 1.5111852],\n",
              "       [2.7854056, 1.3178632, 2.491644 , 1.3178632],\n",
              "       [0.9064019, 4.1368184, 2.4568543, 4.136818 ]], dtype=float32)"
            ]
          },
          "execution_count": 28,
          "metadata": {},
          "output_type": "execute_result"
        }
      ],
      "source": [
        "@onnxnumpy_np(runtime='onnxruntime')\n",
        "def custom_fft_abs_ort(x: NDArray[Any, numpy.float32],\n",
        "                       ) -> NDArray[Any, numpy.float32]:\n",
        "    \"onnx fft + abs\"\n",
        "    return _custom_fft_abs(x)\n",
        "\n",
        "\n",
        "custom_fft_abs(x)"
      ]
    },
    {
      "cell_type": "code",
      "execution_count": 28,
      "metadata": {},
      "outputs": [
        {
          "name": "stdout",
          "output_type": "stream",
          "text": [
            "108 \u00b5s \u00b1 46.8 \u00b5s per loop (mean \u00b1 std. dev. of 7 runs, 1 loop each)\n"
          ]
        }
      ],
      "source": [
        "%timeit custom_fft_abs_ort(x)"
      ]
    },
    {
      "cell_type": "markdown",
      "metadata": {},
      "source": [
        "*onnxruntime* is faster than numpy in this case."
      ]
    },
    {
      "cell_type": "code",
      "execution_count": 29,
      "metadata": {},
      "outputs": [
        {
          "name": "stdout",
          "output_type": "stream",
          "text": [
            "248 \u00b5s \u00b1 6.11 \u00b5s per loop (mean \u00b1 std. dev. of 7 runs, 1000 loops each)\n"
          ]
        }
      ],
      "source": [
        "%timeit custom_fft_abs_ort(bigx)"
      ]
    },
    {
      "cell_type": "markdown",
      "metadata": {},
      "source": [
        "### Inside a FunctionTransformer\n",
        "\n",
        "The conversion to ONNX fails if the python function is used."
      ]
    },
    {
      "cell_type": "code",
      "execution_count": 30,
      "metadata": {},
      "outputs": [
        {
          "name": "stdout",
          "output_type": "stream",
          "text": [
            "FunctionTransformer is not supported unless the transform function is of type <class 'function'> wrapped with onnxnumpy.\n"
          ]
        }
      ],
      "source": [
        "from mlprodict.onnx_conv import to_onnx\n",
        "\n",
        "tr = FunctionTransformer(custom_fft_abs_py)\n",
        "tr.fit(x)\n",
        "\n",
        "try:\n",
        "    onnx_model = to_onnx(tr, x)\n",
        "except Exception as e:\n",
        "    print(e)"
      ]
    },
    {
      "cell_type": "markdown",
      "metadata": {},
      "source": [
        "Now with the onnx version but before, the converter for FunctionTransformer needs to be overwritten to handle this functionality not available in [sklearn-onnx](https://github.com/onnx/sklearn-onnx). These version are automatically called in function [to_onnx](http://www.xavierdupre.fr/app/mlprodict/helpsphinx/mlprodict/onnx_conv/convert.html#mlprodict.onnx_conv.convert.to_onnx) from *mlprodict*."
      ]
    },
    {
      "cell_type": "code",
      "execution_count": 31,
      "metadata": {},
      "outputs": [],
      "source": [
        "tr = FunctionTransformer(custom_fft_abs)\n",
        "tr.fit(x)\n",
        "\n",
        "onnx_model = to_onnx(tr, x)"
      ]
    },
    {
      "cell_type": "code",
      "execution_count": 32,
      "metadata": {},
      "outputs": [
        {
          "data": {
            "text/plain": [
              "array([[3.147964 , 1.5111852, 2.6032405, 1.5111852],\n",
              "       [2.7854056, 1.3178632, 2.491644 , 1.3178632],\n",
              "       [0.9064019, 4.1368184, 2.4568543, 4.136818 ]], dtype=float32)"
            ]
          },
          "execution_count": 33,
          "metadata": {},
          "output_type": "execute_result"
        }
      ],
      "source": [
        "from mlprodict.onnxrt import OnnxInference\n",
        "\n",
        "oinf = OnnxInference(onnx_model)\n",
        "y_onx = oinf.run({'X': x})\n",
        "y_onx['variable']"
      ]
    },
    {
      "cell_type": "code",
      "execution_count": 33,
      "metadata": {},
      "outputs": [],
      "source": []
    }
  ],
  "metadata": {
    "kernelspec": {
      "display_name": "Python 3",
      "language": "python",
      "name": "python3"
    },
    "language_info": {
      "codemirror_mode": {
        "name": "ipython",
        "version": 3
      },
      "file_extension": ".py",
      "mimetype": "text/x-python",
      "name": "python",
      "nbconvert_exporter": "python",
      "pygments_lexer": "ipython3",
      "version": "3.8.7"
    }
  },
  "nbformat": 4,
  "nbformat_minor": 4
}