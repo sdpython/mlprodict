{
  "cells": [
    {
      "cell_type": "markdown",
      "metadata": {},
      "source": [
        "# Discrepencies with ONNX\n",
        "\n",
        "The notebook shows one example where the conversion leads with discrepencies if default options are used. It converts a pipeline with two steps, a scaler followed by a tree."
      ]
    },
    {
      "cell_type": "markdown",
      "metadata": {},
      "source": [
        "The bug this notebook is tracking does not always appear, it has a better chance to happen with integer features but that's not always the case. The notebook must be run again in that case."
      ]
    },
    {
      "cell_type": "code",
      "execution_count": 1,
      "metadata": {},
      "outputs": [
        {
          "data": {
            "text/html": [
              "<div id=\"my_id_menu_nb\">run previous cell, wait for 2 seconds</div>\n",
              "<script>\n",
              "function repeat_indent_string(n){\n",
              "    var a = \"\" ;\n",
              "    for ( ; n > 0 ; --n)\n",
              "        a += \"    \";\n",
              "    return a;\n",
              "}\n",
              "// look up into all sections and builds an automated menu //\n",
              "var update_menu_string = function(begin, lfirst, llast, sformat, send, keep_item, begin_format, end_format) {\n",
              "    var anchors = document.getElementsByClassName(\"section\");\n",
              "    if (anchors.length == 0) {\n",
              "        anchors = document.getElementsByClassName(\"text_cell_render rendered_html\");\n",
              "    }\n",
              "    var i,t;\n",
              "    var text_menu = begin;\n",
              "    var text_memo = \"<pre>\\nlength:\" + anchors.length + \"\\n\";\n",
              "    var ind = \"\";\n",
              "    var memo_level = 1;\n",
              "    var href;\n",
              "    var tags = [];\n",
              "    var main_item = 0;\n",
              "    var format_open = 0;\n",
              "    for (i = 0; i <= llast; i++)\n",
              "        tags.push(\"h\" + i);\n",
              "\n",
              "    for (i = 0; i < anchors.length; i++) {\n",
              "        text_memo += \"**\" + anchors[i].id + \"--\\n\";\n",
              "\n",
              "        var child = null;\n",
              "        for(t = 0; t < tags.length; t++) {\n",
              "            var r = anchors[i].getElementsByTagName(tags[t]);\n",
              "            if (r.length > 0) {\n",
              "child = r[0];\n",
              "break;\n",
              "            }\n",
              "        }\n",
              "        if (child == null) {\n",
              "            text_memo += \"null\\n\";\n",
              "            continue;\n",
              "        }\n",
              "        if (anchors[i].hasAttribute(\"id\")) {\n",
              "            // when converted in RST\n",
              "            href = anchors[i].id;\n",
              "            text_memo += \"#1-\" + href;\n",
              "            // passer \u00e0 child suivant (le chercher)\n",
              "        }\n",
              "        else if (child.hasAttribute(\"id\")) {\n",
              "            // in a notebook\n",
              "            href = child.id;\n",
              "            text_memo += \"#2-\" + href;\n",
              "        }\n",
              "        else {\n",
              "            text_memo += \"#3-\" + \"*\" + \"\\n\";\n",
              "            continue;\n",
              "        }\n",
              "        var title = child.textContent;\n",
              "        var level = parseInt(child.tagName.substring(1,2));\n",
              "\n",
              "        text_memo += \"--\" + level + \"?\" + lfirst + \"--\" + title + \"\\n\";\n",
              "\n",
              "        if ((level < lfirst) || (level > llast)) {\n",
              "            continue ;\n",
              "        }\n",
              "        if (title.endsWith('\u00b6')) {\n",
              "            title = title.substring(0,title.length-1).replace(\"<\", \"&lt;\")\n",
              "         .replace(\">\", \"&gt;\").replace(\"&\", \"&amp;\");\n",
              "        }\n",
              "        if (title.length == 0) {\n",
              "            continue;\n",
              "        }\n",
              "\n",
              "        while (level < memo_level) {\n",
              "            text_menu += end_format + \"</ul>\\n\";\n",
              "            format_open -= 1;\n",
              "            memo_level -= 1;\n",
              "        }\n",
              "        if (level == lfirst) {\n",
              "            main_item += 1;\n",
              "        }\n",
              "        if (keep_item != -1 && main_item != keep_item + 1) {\n",
              "            // alert(main_item + \" - \" + level + \" - \" + keep_item);\n",
              "            continue;\n",
              "        }\n",
              "        while (level > memo_level) {\n",
              "            text_menu += \"<ul>\\n\";\n",
              "            memo_level += 1;\n",
              "        }\n",
              "        text_menu += repeat_indent_string(level-2);\n",
              "        text_menu += begin_format + sformat.replace(\"__HREF__\", href).replace(\"__TITLE__\", title);\n",
              "        format_open += 1;\n",
              "    }\n",
              "    while (1 < memo_level) {\n",
              "        text_menu += end_format + \"</ul>\\n\";\n",
              "        memo_level -= 1;\n",
              "        format_open -= 1;\n",
              "    }\n",
              "    text_menu += send;\n",
              "    //text_menu += \"\\n\" + text_memo;\n",
              "\n",
              "    while (format_open > 0) {\n",
              "        text_menu += end_format;\n",
              "        format_open -= 1;\n",
              "    }\n",
              "    return text_menu;\n",
              "};\n",
              "var update_menu = function() {\n",
              "    var sbegin = \"\";\n",
              "    var sformat = '<a href=\"#__HREF__\">__TITLE__</a>';\n",
              "    var send = \"\";\n",
              "    var begin_format = '<li>';\n",
              "    var end_format = '</li>';\n",
              "    var keep_item = -1;\n",
              "    var text_menu = update_menu_string(sbegin, 2, 4, sformat, send, keep_item,\n",
              "       begin_format, end_format);\n",
              "    var menu = document.getElementById(\"my_id_menu_nb\");\n",
              "    menu.innerHTML=text_menu;\n",
              "};\n",
              "window.setTimeout(update_menu,2000);\n",
              "            </script>"
            ],
            "text/plain": [
              "<IPython.core.display.HTML object>"
            ]
          },
          "execution_count": 2,
          "metadata": {},
          "output_type": "execute_result"
        }
      ],
      "source": [
        "from jyquickhelper import add_notebook_menu\n",
        "add_notebook_menu()"
      ]
    },
    {
      "cell_type": "code",
      "execution_count": 2,
      "metadata": {},
      "outputs": [],
      "source": [
        "%matplotlib inline"
      ]
    },
    {
      "cell_type": "markdown",
      "metadata": {},
      "source": [
        "## Data and first model\n",
        "\n",
        "We take a random datasets with mostly integers."
      ]
    },
    {
      "cell_type": "code",
      "execution_count": 3,
      "metadata": {},
      "outputs": [],
      "source": [
        "import math\n",
        "import numpy\n",
        "from sklearn.datasets import make_regression\n",
        "from sklearn.model_selection import train_test_split\n",
        "\n",
        "X, y = make_regression(10000, 10)\n",
        "X_train, X_test, y_train, y_test = train_test_split(X, y)\n",
        "\n",
        "Xi_train, yi_train = X_train.copy(), y_train.copy()\n",
        "Xi_test, yi_test = X_test.copy(), y_test.copy()\n",
        "for i in range(X.shape[1]):\n",
        "    Xi_train[:, i] = (Xi_train[:, i] * math.pi * 2 ** i).astype(numpy.int64)\n",
        "    Xi_test[:, i] = (Xi_test[:, i] * math.pi * 2 ** i).astype(numpy.int64)"
      ]
    },
    {
      "cell_type": "code",
      "execution_count": 4,
      "metadata": {},
      "outputs": [
        {
          "data": {
            "text/plain": [
              "Pipeline(steps=[('scaler', StandardScaler()),\n",
              "                ('dt', DecisionTreeRegressor(max_depth=10))])"
            ]
          },
          "execution_count": 5,
          "metadata": {},
          "output_type": "execute_result"
        }
      ],
      "source": [
        "from sklearn.pipeline import Pipeline\n",
        "from sklearn.preprocessing import StandardScaler\n",
        "from sklearn.tree import DecisionTreeRegressor\n",
        "\n",
        "max_depth = 10\n",
        "\n",
        "model = Pipeline([\n",
        "    ('scaler', StandardScaler()),\n",
        "    ('dt', DecisionTreeRegressor(max_depth=max_depth))\n",
        "])\n",
        "\n",
        "model.fit(Xi_train, yi_train)"
      ]
    },
    {
      "cell_type": "code",
      "execution_count": 5,
      "metadata": {},
      "outputs": [
        {
          "data": {
            "text/plain": [
              "array([-119.47819645,  186.83813161,  -84.25243139,  150.4294854 ,\n",
              "        -52.375783  ])"
            ]
          },
          "execution_count": 6,
          "metadata": {},
          "output_type": "execute_result"
        }
      ],
      "source": [
        "model.predict(Xi_test[:5])"
      ]
    },
    {
      "cell_type": "markdown",
      "metadata": {},
      "source": [
        "Other models:"
      ]
    },
    {
      "cell_type": "code",
      "execution_count": 6,
      "metadata": {},
      "outputs": [],
      "source": [
        "model2 = Pipeline([\n",
        "    ('scaler', StandardScaler()),\n",
        "    ('dt', DecisionTreeRegressor(max_depth=max_depth))\n",
        "])\n",
        "model3 = Pipeline([\n",
        "    ('scaler', StandardScaler()),\n",
        "    ('dt', DecisionTreeRegressor(max_depth=3))\n",
        "])\n",
        "\n",
        "\n",
        "models = [\n",
        "    ('bug', Xi_test.astype(numpy.float32), model),\n",
        "    ('no scaler', Xi_test.astype(numpy.float32), \n",
        "     DecisionTreeRegressor(max_depth=max_depth).fit(Xi_train, yi_train)),\n",
        "    ('float', X_test.astype(numpy.float32),\n",
        "     model2.fit(X_train, y_train)),\n",
        "    ('max_depth=3', X_test.astype(numpy.float32),\n",
        "     model3.fit(X_train, y_train))\n",
        "]"
      ]
    },
    {
      "cell_type": "markdown",
      "metadata": {},
      "source": [
        "## Conversion to ONNX"
      ]
    },
    {
      "cell_type": "code",
      "execution_count": 7,
      "metadata": {},
      "outputs": [],
      "source": [
        "import numpy\n",
        "from mlprodict.onnx_conv import to_onnx\n",
        "\n",
        "onx = to_onnx(model, X_train[:1].astype(numpy.float32))"
      ]
    },
    {
      "cell_type": "code",
      "execution_count": 8,
      "metadata": {},
      "outputs": [
        {
          "name": "stdout",
          "output_type": "stream",
          "text": [
            "OnnxInference(...)\n",
            "    def compiled_run(dict_inputs):\n",
            "        # inputs\n",
            "        X = dict_inputs['X']\n",
            "        (variable1, ) = n0_scaler(X)\n",
            "        (variable, ) = n1_treeensembleregressor(variable1)\n",
            "        return {\n",
            "            'variable': variable,\n",
            "        }\n"
          ]
        }
      ],
      "source": [
        "from mlprodict.onnxrt import OnnxInference\n",
        "\n",
        "oinfpy = OnnxInference(onx, runtime=\"python_compiled\")\n",
        "print(oinfpy)"
      ]
    },
    {
      "cell_type": "code",
      "execution_count": 9,
      "metadata": {},
      "outputs": [
        {
          "data": {
            "text/html": [
              "<div>\n",
              "<style scoped>\n",
              "    .dataframe tbody tr th:only-of-type {\n",
              "        vertical-align: middle;\n",
              "    }\n",
              "\n",
              "    .dataframe tbody tr th {\n",
              "        vertical-align: top;\n",
              "    }\n",
              "\n",
              "    .dataframe thead th {\n",
              "        text-align: right;\n",
              "    }\n",
              "</style>\n",
              "<table border=\"1\" class=\"dataframe\">\n",
              "  <thead>\n",
              "    <tr style=\"text-align: right;\">\n",
              "      <th></th>\n",
              "      <th>runtime</th>\n",
              "      <th>diff</th>\n",
              "      <th>v[1108]</th>\n",
              "    </tr>\n",
              "  </thead>\n",
              "  <tbody>\n",
              "    <tr>\n",
              "      <th>0</th>\n",
              "      <td>sklearn</td>\n",
              "      <td>0.000000</td>\n",
              "      <td>129.773365</td>\n",
              "    </tr>\n",
              "    <tr>\n",
              "      <th>1</th>\n",
              "      <td>python</td>\n",
              "      <td>156.821991</td>\n",
              "      <td>-27.048626</td>\n",
              "    </tr>\n",
              "    <tr>\n",
              "      <th>2</th>\n",
              "      <td>python_compiled</td>\n",
              "      <td>156.821991</td>\n",
              "      <td>-27.048626</td>\n",
              "    </tr>\n",
              "    <tr>\n",
              "      <th>3</th>\n",
              "      <td>onnxruntime1</td>\n",
              "      <td>156.821991</td>\n",
              "      <td>-27.048626</td>\n",
              "    </tr>\n",
              "  </tbody>\n",
              "</table>\n",
              "</div>"
            ],
            "text/plain": [
              "           runtime        diff     v[1108]\n",
              "0          sklearn    0.000000  129.773365\n",
              "1           python  156.821991  -27.048626\n",
              "2  python_compiled  156.821991  -27.048626\n",
              "3     onnxruntime1  156.821991  -27.048626"
            ]
          },
          "execution_count": 10,
          "metadata": {},
          "output_type": "execute_result"
        }
      ],
      "source": [
        "import pandas\n",
        "\n",
        "X32 = Xi_test.astype(numpy.float32)\n",
        "y_skl = model.predict(X32)\n",
        "\n",
        "obs = [dict(runtime='sklearn', diff=0)]\n",
        "for runtime in ['python', 'python_compiled', 'onnxruntime1']:\n",
        "    oinf = OnnxInference(onx, runtime=runtime)\n",
        "    y_onx = oinf.run({'X': X32})['variable']\n",
        "    delta = numpy.abs(y_skl - y_onx.ravel())\n",
        "    am = delta.argmax()\n",
        "    obs.append(dict(runtime=runtime, diff=delta.max()))\n",
        "    obs[-1]['v[%d]' % am] = y_onx.ravel()[am]\n",
        "    obs[0]['v[%d]' % am] = y_skl.ravel()[am]\n",
        "\n",
        "pandas.DataFrame(obs)"
      ]
    },
    {
      "cell_type": "markdown",
      "metadata": {},
      "source": [
        "The pipeline shows huge discrepencies. They appear for a pipeline *StandardScaler* + *DecisionTreeRegressor* applied in integer features. They disappear if floats are used, or if the scaler is removed. The bug also disappear if the tree is not big enough (max_depth=4 instread of 5)."
      ]
    },
    {
      "cell_type": "code",
      "execution_count": 10,
      "metadata": {},
      "outputs": [
        {
          "data": {
            "text/html": [
              "<div>\n",
              "<style scoped>\n",
              "    .dataframe tbody tr th:only-of-type {\n",
              "        vertical-align: middle;\n",
              "    }\n",
              "\n",
              "    .dataframe tbody tr th {\n",
              "        vertical-align: top;\n",
              "    }\n",
              "\n",
              "    .dataframe thead th {\n",
              "        text-align: right;\n",
              "    }\n",
              "</style>\n",
              "<table border=\"1\" class=\"dataframe\">\n",
              "  <thead>\n",
              "    <tr style=\"text-align: right;\">\n",
              "      <th></th>\n",
              "      <th>runtime</th>\n",
              "      <th>diff</th>\n",
              "      <th>name</th>\n",
              "      <th>v[1108]</th>\n",
              "      <th>v[2237]</th>\n",
              "      <th>v[158]</th>\n",
              "      <th>v[1]</th>\n",
              "    </tr>\n",
              "  </thead>\n",
              "  <tbody>\n",
              "    <tr>\n",
              "      <th>0</th>\n",
              "      <td>sklearn</td>\n",
              "      <td>0.000000</td>\n",
              "      <td>sklearn</td>\n",
              "      <td>129.773365</td>\n",
              "      <td>517.776400</td>\n",
              "      <td>517.776400</td>\n",
              "      <td>183.242103</td>\n",
              "    </tr>\n",
              "    <tr>\n",
              "      <th>1</th>\n",
              "      <td>python</td>\n",
              "      <td>156.821991</td>\n",
              "      <td>bug</td>\n",
              "      <td>-27.048626</td>\n",
              "      <td>NaN</td>\n",
              "      <td>NaN</td>\n",
              "      <td>NaN</td>\n",
              "    </tr>\n",
              "    <tr>\n",
              "      <th>2</th>\n",
              "      <td>python_compiled</td>\n",
              "      <td>156.821991</td>\n",
              "      <td>bug</td>\n",
              "      <td>-27.048626</td>\n",
              "      <td>NaN</td>\n",
              "      <td>NaN</td>\n",
              "      <td>NaN</td>\n",
              "    </tr>\n",
              "    <tr>\n",
              "      <th>3</th>\n",
              "      <td>onnxruntime1</td>\n",
              "      <td>156.821991</td>\n",
              "      <td>bug</td>\n",
              "      <td>-27.048626</td>\n",
              "      <td>NaN</td>\n",
              "      <td>NaN</td>\n",
              "      <td>NaN</td>\n",
              "    </tr>\n",
              "    <tr>\n",
              "      <th>4</th>\n",
              "      <td>python</td>\n",
              "      <td>0.000028</td>\n",
              "      <td>no scaler</td>\n",
              "      <td>NaN</td>\n",
              "      <td>517.776428</td>\n",
              "      <td>NaN</td>\n",
              "      <td>NaN</td>\n",
              "    </tr>\n",
              "    <tr>\n",
              "      <th>5</th>\n",
              "      <td>python_compiled</td>\n",
              "      <td>0.000028</td>\n",
              "      <td>no scaler</td>\n",
              "      <td>NaN</td>\n",
              "      <td>517.776428</td>\n",
              "      <td>NaN</td>\n",
              "      <td>NaN</td>\n",
              "    </tr>\n",
              "    <tr>\n",
              "      <th>6</th>\n",
              "      <td>onnxruntime1</td>\n",
              "      <td>0.000028</td>\n",
              "      <td>no scaler</td>\n",
              "      <td>NaN</td>\n",
              "      <td>517.776428</td>\n",
              "      <td>NaN</td>\n",
              "      <td>NaN</td>\n",
              "    </tr>\n",
              "    <tr>\n",
              "      <th>7</th>\n",
              "      <td>python</td>\n",
              "      <td>0.000028</td>\n",
              "      <td>float</td>\n",
              "      <td>NaN</td>\n",
              "      <td>NaN</td>\n",
              "      <td>517.776428</td>\n",
              "      <td>NaN</td>\n",
              "    </tr>\n",
              "    <tr>\n",
              "      <th>8</th>\n",
              "      <td>python_compiled</td>\n",
              "      <td>0.000028</td>\n",
              "      <td>float</td>\n",
              "      <td>NaN</td>\n",
              "      <td>NaN</td>\n",
              "      <td>517.776428</td>\n",
              "      <td>NaN</td>\n",
              "    </tr>\n",
              "    <tr>\n",
              "      <th>9</th>\n",
              "      <td>onnxruntime1</td>\n",
              "      <td>0.000028</td>\n",
              "      <td>float</td>\n",
              "      <td>NaN</td>\n",
              "      <td>NaN</td>\n",
              "      <td>517.776428</td>\n",
              "      <td>NaN</td>\n",
              "    </tr>\n",
              "    <tr>\n",
              "      <th>10</th>\n",
              "      <td>python</td>\n",
              "      <td>0.000007</td>\n",
              "      <td>max_depth=3</td>\n",
              "      <td>NaN</td>\n",
              "      <td>NaN</td>\n",
              "      <td>NaN</td>\n",
              "      <td>183.242096</td>\n",
              "    </tr>\n",
              "    <tr>\n",
              "      <th>11</th>\n",
              "      <td>python_compiled</td>\n",
              "      <td>0.000007</td>\n",
              "      <td>max_depth=3</td>\n",
              "      <td>NaN</td>\n",
              "      <td>NaN</td>\n",
              "      <td>NaN</td>\n",
              "      <td>183.242096</td>\n",
              "    </tr>\n",
              "    <tr>\n",
              "      <th>12</th>\n",
              "      <td>onnxruntime1</td>\n",
              "      <td>0.000007</td>\n",
              "      <td>max_depth=3</td>\n",
              "      <td>NaN</td>\n",
              "      <td>NaN</td>\n",
              "      <td>NaN</td>\n",
              "      <td>183.242096</td>\n",
              "    </tr>\n",
              "  </tbody>\n",
              "</table>\n",
              "</div>"
            ],
            "text/plain": [
              "            runtime        diff         name     v[1108]     v[2237]  \\\n",
              "0           sklearn    0.000000      sklearn  129.773365  517.776400   \n",
              "1            python  156.821991          bug  -27.048626         NaN   \n",
              "2   python_compiled  156.821991          bug  -27.048626         NaN   \n",
              "3      onnxruntime1  156.821991          bug  -27.048626         NaN   \n",
              "4            python    0.000028    no scaler         NaN  517.776428   \n",
              "5   python_compiled    0.000028    no scaler         NaN  517.776428   \n",
              "6      onnxruntime1    0.000028    no scaler         NaN  517.776428   \n",
              "7            python    0.000028        float         NaN         NaN   \n",
              "8   python_compiled    0.000028        float         NaN         NaN   \n",
              "9      onnxruntime1    0.000028        float         NaN         NaN   \n",
              "10           python    0.000007  max_depth=3         NaN         NaN   \n",
              "11  python_compiled    0.000007  max_depth=3         NaN         NaN   \n",
              "12     onnxruntime1    0.000007  max_depth=3         NaN         NaN   \n",
              "\n",
              "        v[158]        v[1]  \n",
              "0   517.776400  183.242103  \n",
              "1          NaN         NaN  \n",
              "2          NaN         NaN  \n",
              "3          NaN         NaN  \n",
              "4          NaN         NaN  \n",
              "5          NaN         NaN  \n",
              "6          NaN         NaN  \n",
              "7   517.776428         NaN  \n",
              "8   517.776428         NaN  \n",
              "9   517.776428         NaN  \n",
              "10         NaN  183.242096  \n",
              "11         NaN  183.242096  \n",
              "12         NaN  183.242096  "
            ]
          },
          "execution_count": 11,
          "metadata": {},
          "output_type": "execute_result"
        }
      ],
      "source": [
        "obs = [dict(runtime='sklearn', diff=0, name='sklearn')]\n",
        "for name, x32, mod in models:\n",
        "    for runtime in ['python', 'python_compiled', 'onnxruntime1']:\n",
        "        lonx = to_onnx(mod, x32[:1])\n",
        "        loinf = OnnxInference(lonx, runtime=runtime)\n",
        "        y_skl = mod.predict(X32)\n",
        "        y_onx = loinf.run({'X': X32})['variable']\n",
        "        delta = numpy.abs(y_skl - y_onx.ravel())\n",
        "        am = delta.argmax()\n",
        "        obs.append(dict(runtime=runtime, diff=delta.max(), name=name))\n",
        "        obs[-1]['v[%d]' % am] = y_onx.ravel()[am]\n",
        "        obs[0]['v[%d]' % am] = y_skl.ravel()[am]\n",
        "\n",
        "df = pandas.DataFrame(obs)\n",
        "df"
      ]
    },
    {
      "cell_type": "code",
      "execution_count": 11,
      "metadata": {},
      "outputs": [
        {
          "data": {
            "text/html": [
              "<div>\n",
              "<style scoped>\n",
              "    .dataframe tbody tr th:only-of-type {\n",
              "        vertical-align: middle;\n",
              "    }\n",
              "\n",
              "    .dataframe tbody tr th {\n",
              "        vertical-align: top;\n",
              "    }\n",
              "\n",
              "    .dataframe thead th {\n",
              "        text-align: right;\n",
              "    }\n",
              "</style>\n",
              "<table border=\"1\" class=\"dataframe\">\n",
              "  <thead>\n",
              "    <tr style=\"text-align: right;\">\n",
              "      <th>name</th>\n",
              "      <th>bug</th>\n",
              "      <th>float</th>\n",
              "      <th>max_depth=3</th>\n",
              "      <th>no scaler</th>\n",
              "      <th>sklearn</th>\n",
              "    </tr>\n",
              "    <tr>\n",
              "      <th>runtime</th>\n",
              "      <th></th>\n",
              "      <th></th>\n",
              "      <th></th>\n",
              "      <th></th>\n",
              "      <th></th>\n",
              "    </tr>\n",
              "  </thead>\n",
              "  <tbody>\n",
              "    <tr>\n",
              "      <th>onnxruntime1</th>\n",
              "      <td>156.821991</td>\n",
              "      <td>0.000028</td>\n",
              "      <td>0.000007</td>\n",
              "      <td>0.000028</td>\n",
              "      <td>NaN</td>\n",
              "    </tr>\n",
              "    <tr>\n",
              "      <th>python</th>\n",
              "      <td>156.821991</td>\n",
              "      <td>0.000028</td>\n",
              "      <td>0.000007</td>\n",
              "      <td>0.000028</td>\n",
              "      <td>NaN</td>\n",
              "    </tr>\n",
              "    <tr>\n",
              "      <th>python_compiled</th>\n",
              "      <td>156.821991</td>\n",
              "      <td>0.000028</td>\n",
              "      <td>0.000007</td>\n",
              "      <td>0.000028</td>\n",
              "      <td>NaN</td>\n",
              "    </tr>\n",
              "    <tr>\n",
              "      <th>sklearn</th>\n",
              "      <td>NaN</td>\n",
              "      <td>NaN</td>\n",
              "      <td>NaN</td>\n",
              "      <td>NaN</td>\n",
              "      <td>0.0</td>\n",
              "    </tr>\n",
              "  </tbody>\n",
              "</table>\n",
              "</div>"
            ],
            "text/plain": [
              "name                    bug     float  max_depth=3  no scaler  sklearn\n",
              "runtime                                                               \n",
              "onnxruntime1     156.821991  0.000028     0.000007   0.000028      NaN\n",
              "python           156.821991  0.000028     0.000007   0.000028      NaN\n",
              "python_compiled  156.821991  0.000028     0.000007   0.000028      NaN\n",
              "sklearn                 NaN       NaN          NaN        NaN      0.0"
            ]
          },
          "execution_count": 12,
          "metadata": {},
          "output_type": "execute_result"
        }
      ],
      "source": [
        "df.pivot(\"runtime\", \"name\", \"diff\")"
      ]
    },
    {
      "cell_type": "markdown",
      "metadata": {},
      "source": [
        "## Other way to converter\n",
        "\n",
        "ONNX does not support double for TreeEnsembleRegressor but that a new operator TreeEnsembleRegressorDouble was implemented into *mlprodict*. We need to update the conversion."
      ]
    },
    {
      "cell_type": "code",
      "execution_count": 12,
      "metadata": {},
      "outputs": [],
      "source": [
        "%load_ext mlprodict"
      ]
    },
    {
      "cell_type": "code",
      "execution_count": 13,
      "metadata": {},
      "outputs": [
        {
          "data": {
            "text/html": [
              "<div id=\"M7dad9cad787240179c5b485ac55a9629-cont\"><div id=\"M7dad9cad787240179c5b485ac55a9629\" style=\"width:100%;height:100%;\"></div></div>\n",
              "<script>\n",
              "\n",
              "require(['http://www.xavierdupre.fr/js/vizjs/viz.js'], function() { var svgGraph = Viz(\"digraph{\\n  orientation=portrait;\\n  ranksep=0.25;\\n  nodesep=0.05;\\n\\n  X [shape=box color=red label=\\\"X\\ndouble((0, 10))\\\" fontsize=10];\\n\\n  variable [shape=box color=green label=\\\"variable\\ndouble((0, 1))\\\" fontsize=10];\\n\\n\\n  variable1 [shape=box label=\\\"variable1\\\" fontsize=10];\\n  Scaler [shape=box style=\\\"filled,rounded\\\" color=orange label=\\\"Scaler\\n(Scaler)\\noffset=[ 4.40000000e-03 -2.1200...\\nscale=[0.36023511 0.16995611 0....\\\" fontsize=10];\\n  X -> Scaler;\\n  Scaler -> variable1;\\n\\n  TreeEnsembleRegressorDouble [shape=box style=\\\"filled,rounded\\\" color=orange label=\\\"TreeEnsembleRegressorDouble\\n(TreeEnsembleRegressorDouble)\\nn_targets=1\\nnodes_falsenodeids=[ 940  489  ...\\nnodes_featureids=[8 9 7 ... 7 0...\\nnodes_hitrates=[1. 1. 1. ... 1....\\nnodes_missing_value_tracks_true=[0 0 0 ......\\nnodes_modes=[b'BRANCH_LEQ' b'BR...\\nnodes_nodeids=[   0    1    2 ....\\nnodes_treeids=[0 0 0 ... 0 0 0]\\nnodes_truenodeids=[   1    2   ...\\nnodes_values=[ 0.03340569  0.04...\\npost_transform=b'NONE'\\ntarget_ids=[0 0 0 0 0 0 0 0 0 0...\\ntarget_nodeids=[   9   10   12 ...\\ntarget_treeids=[0 0 0 0 0 0 0 0...\\ntarget_weights=[-5.95909050e+02...\\\" fontsize=10];\\n  variable1 -> TreeEnsembleRegressorDouble;\\n  TreeEnsembleRegressorDouble -> variable;\\n}\");\n",
              "document.getElementById('M7dad9cad787240179c5b485ac55a9629').innerHTML = svgGraph; });\n",
              "\n",
              "</script>"
            ],
            "text/plain": [
              "<jyquickhelper.jspy.render_nb_js_dot.RenderJsDot at 0x1e7046c6940>"
            ]
          },
          "execution_count": 14,
          "metadata": {},
          "output_type": "execute_result"
        }
      ],
      "source": [
        "onx32 = to_onnx(model, X_train[:1].astype(numpy.float32))\n",
        "onx64 = to_onnx(model, X_train[:1].astype(numpy.float64), \n",
        "                dtype=numpy.float64, rewrite_ops=True)\n",
        "%onnxview onx64"
      ]
    },
    {
      "cell_type": "code",
      "execution_count": 14,
      "metadata": {},
      "outputs": [
        {
          "data": {
            "text/html": [
              "<div>\n",
              "<style scoped>\n",
              "    .dataframe tbody tr th:only-of-type {\n",
              "        vertical-align: middle;\n",
              "    }\n",
              "\n",
              "    .dataframe tbody tr th {\n",
              "        vertical-align: top;\n",
              "    }\n",
              "\n",
              "    .dataframe thead th {\n",
              "        text-align: right;\n",
              "    }\n",
              "</style>\n",
              "<table border=\"1\" class=\"dataframe\">\n",
              "  <thead>\n",
              "    <tr style=\"text-align: right;\">\n",
              "      <th></th>\n",
              "      <th>runtime</th>\n",
              "      <th>diff</th>\n",
              "      <th>v[1108]</th>\n",
              "      <th>v[0]</th>\n",
              "      <th>real</th>\n",
              "      <th>error</th>\n",
              "    </tr>\n",
              "  </thead>\n",
              "  <tbody>\n",
              "    <tr>\n",
              "      <th>0</th>\n",
              "      <td>sklearn</td>\n",
              "      <td>0.000000</td>\n",
              "      <td>129.773365</td>\n",
              "      <td>-119.478196</td>\n",
              "      <td>NaN</td>\n",
              "      <td>NaN</td>\n",
              "    </tr>\n",
              "    <tr>\n",
              "      <th>1</th>\n",
              "      <td>python</td>\n",
              "      <td>156.821991</td>\n",
              "      <td>-27.048626</td>\n",
              "      <td>NaN</td>\n",
              "      <td>float</td>\n",
              "      <td>NaN</td>\n",
              "    </tr>\n",
              "    <tr>\n",
              "      <th>2</th>\n",
              "      <td>python</td>\n",
              "      <td>0.000000</td>\n",
              "      <td>NaN</td>\n",
              "      <td>-119.478196</td>\n",
              "      <td>double</td>\n",
              "      <td>NaN</td>\n",
              "    </tr>\n",
              "    <tr>\n",
              "      <th>3</th>\n",
              "      <td>python_compiled</td>\n",
              "      <td>156.821991</td>\n",
              "      <td>-27.048626</td>\n",
              "      <td>NaN</td>\n",
              "      <td>float</td>\n",
              "      <td>NaN</td>\n",
              "    </tr>\n",
              "    <tr>\n",
              "      <th>4</th>\n",
              "      <td>python_compiled</td>\n",
              "      <td>0.000000</td>\n",
              "      <td>NaN</td>\n",
              "      <td>-119.478196</td>\n",
              "      <td>double</td>\n",
              "      <td>NaN</td>\n",
              "    </tr>\n",
              "    <tr>\n",
              "      <th>5</th>\n",
              "      <td>onnxruntime1</td>\n",
              "      <td>156.821991</td>\n",
              "      <td>-27.048626</td>\n",
              "      <td>NaN</td>\n",
              "      <td>float</td>\n",
              "      <td>NaN</td>\n",
              "    </tr>\n",
              "    <tr>\n",
              "      <th>6</th>\n",
              "      <td>onnxruntime1</td>\n",
              "      <td>NaN</td>\n",
              "      <td>NaN</td>\n",
              "      <td>NaN</td>\n",
              "      <td>double</td>\n",
              "      <td>Unable to create InferenceSession due to '[ONN...</td>\n",
              "    </tr>\n",
              "  </tbody>\n",
              "</table>\n",
              "</div>"
            ],
            "text/plain": [
              "           runtime        diff     v[1108]        v[0]    real  \\\n",
              "0          sklearn    0.000000  129.773365 -119.478196     NaN   \n",
              "1           python  156.821991  -27.048626         NaN   float   \n",
              "2           python    0.000000         NaN -119.478196  double   \n",
              "3  python_compiled  156.821991  -27.048626         NaN   float   \n",
              "4  python_compiled    0.000000         NaN -119.478196  double   \n",
              "5     onnxruntime1  156.821991  -27.048626         NaN   float   \n",
              "6     onnxruntime1         NaN         NaN         NaN  double   \n",
              "\n",
              "                                               error  \n",
              "0                                                NaN  \n",
              "1                                                NaN  \n",
              "2                                                NaN  \n",
              "3                                                NaN  \n",
              "4                                                NaN  \n",
              "5                                                NaN  \n",
              "6  Unable to create InferenceSession due to '[ONN...  "
            ]
          },
          "execution_count": 15,
          "metadata": {},
          "output_type": "execute_result"
        }
      ],
      "source": [
        "X32 = Xi_test.astype(numpy.float32)\n",
        "X64 = Xi_test.astype(numpy.float64)\n",
        "\n",
        "obs = [dict(runtime='sklearn', diff=0)]\n",
        "for runtime in ['python', 'python_compiled', 'onnxruntime1']:\n",
        "    for name, onx, xr in [('float', onx32, X32), ('double', onx64, X64)]:\n",
        "        try:\n",
        "            oinf = OnnxInference(onx, runtime=runtime)\n",
        "        except Exception as e:\n",
        "            obs.append(dict(runtime=runtime, error=str(e), real=name))\n",
        "            continue\n",
        "        y_skl = model.predict(xr)\n",
        "        y_onx = oinf.run({'X': xr})['variable']\n",
        "        delta = numpy.abs(y_skl - y_onx.ravel())\n",
        "        am = delta.argmax()\n",
        "        obs.append(dict(runtime=runtime, diff=delta.max(), real=name))\n",
        "        obs[-1]['v[%d]' % am] = y_onx.ravel()[am]\n",
        "        obs[0]['v[%d]' % am] = y_skl.ravel()[am]\n",
        "\n",
        "pandas.DataFrame(obs)"
      ]
    },
    {
      "cell_type": "markdown",
      "metadata": {},
      "source": [
        "We see that the use of double removes the discrepencies."
      ]
    },
    {
      "cell_type": "markdown",
      "metadata": {},
      "source": [
        "## OnnxPipeline\n",
        "\n",
        "Another way to reduce the number of discrepencies is to use a pipeline which converts every steps into ONNX before training the next one. That way, every steps is either trained on the inputs, either trained on the outputs produced by ONNX. Let's see how it works."
      ]
    },
    {
      "cell_type": "code",
      "execution_count": 15,
      "metadata": {},
      "outputs": [
        {
          "name": "stderr",
          "output_type": "stream",
          "text": [
            "C:\\xavierdupre\\__home_\\github_fork\\scikit-learn\\sklearn\\base.py:209: FutureWarning: From version 0.24, get_params will raise an AttributeError if a parameter cannot be retrieved as an instance attribute. Previously it would return None.\n",
            "  FutureWarning)\n"
          ]
        },
        {
          "data": {
            "text/plain": [
              "OnnxPipeline(steps=[('scaler',\n",
              "                     OnnxTransformer(onnx_bytes=b'\\x08\\x06\\x12\\x08skl2onnx\\x1a\\x051.7.0\"\\x07ai.onnx(\\x002\\x00:\\xf6\\x01\\n\\xa6\\x01\\n\\x01X\\x12\\x08variable\\x1a\\x06Scaler\"\\x06Scaler*=\\n\\x06offset=\\xe0-\\x90;=\\x9f\\xab\\xad\\xbc=,\\xd4\\x9a==\\x96C\\x0b\\xbe=\\x17H\\x10\\xbf=\\xf7P\\xb5\\xbe=\\xa7\\x9e\\x82\\xc0=\\'18@=gD\\xb9@=G\\xde\\x90\\xc1\\xa0\\x01\\x06*<\\n\\x05scale...\\xb8>=\\xf9\\x08.>=\\xee~\\xa8==\\x83*&==,\\x90\\xa3<=-X$<=(\\xc5\\xa4;=\\x00-\";=B\\xed\\xa3:=#\\xc3\":\\xa0\\x01\\x06:\\nai.onnx.ml\\x12\\x1emlprodict_ONNX(StandardScaler)Z\\x11\\n\\x01X\\x12\\x0c\\n\\n\\x08\\x01\\x12\\x06\\n\\x00\\n\\x02\\x08\\nb\\x18\\n\\x08variable\\x12\\x0c\\n\\n\\x08\\x01\\x12\\x06\\n\\x00\\n\\x02\\x08\\nB\\x0e\\n\\nai.onnx.ml\\x10\\x01')),\n",
              "                    ('dt', DecisionTreeRegressor(max_depth=10))])"
            ]
          },
          "execution_count": 16,
          "metadata": {},
          "output_type": "execute_result"
        }
      ],
      "source": [
        "from mlprodict.sklapi import OnnxPipeline\n",
        "\n",
        "model_onx = OnnxPipeline([\n",
        "    ('scaler', StandardScaler()),\n",
        "    ('dt', DecisionTreeRegressor(max_depth=max_depth))\n",
        "])\n",
        "model_onx.fit(Xi_train, yi_train)"
      ]
    },
    {
      "cell_type": "markdown",
      "metadata": {},
      "source": [
        "We see that the first steps was replaced by an object *OnnxTransformer* which wraps an ONNX file into a transformer following the *scikit-learn* API. The initial steps are still available."
      ]
    },
    {
      "cell_type": "code",
      "execution_count": 16,
      "metadata": {},
      "outputs": [
        {
          "data": {
            "text/plain": [
              "[('scaler', StandardScaler()), ('dt', DecisionTreeRegressor(max_depth=10))]"
            ]
          },
          "execution_count": 17,
          "metadata": {},
          "output_type": "execute_result"
        }
      ],
      "source": [
        "model_onx.raw_steps_"
      ]
    },
    {
      "cell_type": "code",
      "execution_count": 17,
      "metadata": {},
      "outputs": [],
      "source": [
        "models = [\n",
        "    ('bug', Xi_test.astype(numpy.float32), model),\n",
        "    ('OnnxPipeline', Xi_test.astype(numpy.float32), model_onx),\n",
        "]"
      ]
    },
    {
      "cell_type": "code",
      "execution_count": 18,
      "metadata": {
        "scrolled": false
      },
      "outputs": [
        {
          "data": {
            "text/html": [
              "<div>\n",
              "<style scoped>\n",
              "    .dataframe tbody tr th:only-of-type {\n",
              "        vertical-align: middle;\n",
              "    }\n",
              "\n",
              "    .dataframe tbody tr th {\n",
              "        vertical-align: top;\n",
              "    }\n",
              "\n",
              "    .dataframe thead th {\n",
              "        text-align: right;\n",
              "    }\n",
              "</style>\n",
              "<table border=\"1\" class=\"dataframe\">\n",
              "  <thead>\n",
              "    <tr style=\"text-align: right;\">\n",
              "      <th></th>\n",
              "      <th>runtime</th>\n",
              "      <th>diff</th>\n",
              "      <th>name</th>\n",
              "      <th>v[830]</th>\n",
              "      <th>v[2237]</th>\n",
              "    </tr>\n",
              "  </thead>\n",
              "  <tbody>\n",
              "    <tr>\n",
              "      <th>0</th>\n",
              "      <td>sklearn</td>\n",
              "      <td>0.000000</td>\n",
              "      <td>sklearn</td>\n",
              "      <td>326.571113</td>\n",
              "      <td>517.776400</td>\n",
              "    </tr>\n",
              "    <tr>\n",
              "      <th>1</th>\n",
              "      <td>python</td>\n",
              "      <td>322.940422</td>\n",
              "      <td>bug</td>\n",
              "      <td>649.511536</td>\n",
              "      <td>NaN</td>\n",
              "    </tr>\n",
              "    <tr>\n",
              "      <th>2</th>\n",
              "      <td>python_compiled</td>\n",
              "      <td>322.940422</td>\n",
              "      <td>bug</td>\n",
              "      <td>649.511536</td>\n",
              "      <td>NaN</td>\n",
              "    </tr>\n",
              "    <tr>\n",
              "      <th>3</th>\n",
              "      <td>onnxruntime1</td>\n",
              "      <td>322.940422</td>\n",
              "      <td>bug</td>\n",
              "      <td>649.511536</td>\n",
              "      <td>NaN</td>\n",
              "    </tr>\n",
              "    <tr>\n",
              "      <th>4</th>\n",
              "      <td>python</td>\n",
              "      <td>0.000028</td>\n",
              "      <td>OnnxPipeline</td>\n",
              "      <td>NaN</td>\n",
              "      <td>517.776428</td>\n",
              "    </tr>\n",
              "    <tr>\n",
              "      <th>5</th>\n",
              "      <td>python_compiled</td>\n",
              "      <td>0.000028</td>\n",
              "      <td>OnnxPipeline</td>\n",
              "      <td>NaN</td>\n",
              "      <td>517.776428</td>\n",
              "    </tr>\n",
              "    <tr>\n",
              "      <th>6</th>\n",
              "      <td>onnxruntime1</td>\n",
              "      <td>0.000028</td>\n",
              "      <td>OnnxPipeline</td>\n",
              "      <td>NaN</td>\n",
              "      <td>517.776428</td>\n",
              "    </tr>\n",
              "  </tbody>\n",
              "</table>\n",
              "</div>"
            ],
            "text/plain": [
              "           runtime        diff          name      v[830]     v[2237]\n",
              "0          sklearn    0.000000       sklearn  326.571113  517.776400\n",
              "1           python  322.940422           bug  649.511536         NaN\n",
              "2  python_compiled  322.940422           bug  649.511536         NaN\n",
              "3     onnxruntime1  322.940422           bug  649.511536         NaN\n",
              "4           python    0.000028  OnnxPipeline         NaN  517.776428\n",
              "5  python_compiled    0.000028  OnnxPipeline         NaN  517.776428\n",
              "6     onnxruntime1    0.000028  OnnxPipeline         NaN  517.776428"
            ]
          },
          "execution_count": 19,
          "metadata": {},
          "output_type": "execute_result"
        }
      ],
      "source": [
        "obs = [dict(runtime='sklearn', diff=0, name='sklearn')]\n",
        "for name, x32, mod in models:\n",
        "    for runtime in ['python', 'python_compiled', 'onnxruntime1']:\n",
        "        lonx = to_onnx(mod, x32[:1])\n",
        "        loinf = OnnxInference(lonx, runtime=runtime)\n",
        "        y_skl = model_onx.predict(X32)  # model_onx is the new baseline\n",
        "        y_onx = loinf.run({'X': X32})['variable']\n",
        "        delta = numpy.abs(y_skl - y_onx.ravel())\n",
        "        am = delta.argmax()\n",
        "        obs.append(dict(runtime=runtime, diff=delta.max(), name=name))\n",
        "        obs[-1]['v[%d]' % am] = y_onx.ravel()[am]\n",
        "        obs[0]['v[%d]' % am] = y_skl.ravel()[am]\n",
        "\n",
        "df = pandas.DataFrame(obs)\n",
        "df"
      ]
    },
    {
      "cell_type": "markdown",
      "metadata": {},
      "source": [
        "Training the next steps based on ONNX outputs is better. This is not completely satisfactory... Let's check the accuracy."
      ]
    },
    {
      "cell_type": "code",
      "execution_count": 19,
      "metadata": {},
      "outputs": [
        {
          "data": {
            "text/plain": [
              "(0.643341634821136, 0.6399766521329495)"
            ]
          },
          "execution_count": 20,
          "metadata": {},
          "output_type": "execute_result"
        }
      ],
      "source": [
        "model.score(Xi_test, yi_test), model_onx.score(Xi_test, yi_test)"
      ]
    },
    {
      "cell_type": "markdown",
      "metadata": {},
      "source": [
        "Pretty close."
      ]
    },
    {
      "cell_type": "markdown",
      "metadata": {},
      "source": [
        "## Final explanation: StandardScalerFloat\n",
        "\n",
        "We proposed two ways to have an ONNX pipeline which produces the same prediction as *scikit-learn*. Let's now replace the StandardScaler by a new one which outputs float and not double. It turns out that class *StandardScaler* computes ``X /= self.scale_`` but ONNX does ``X *= self.scale_inv_``. We need to implement this exact same operator with float32 to remove all discrepencies."
      ]
    },
    {
      "cell_type": "code",
      "execution_count": 20,
      "metadata": {},
      "outputs": [
        {
          "data": {
            "text/plain": [
              "Pipeline(steps=[('scaler', StandardScalerFloat()),\n",
              "                ('dt', DecisionTreeRegressor(max_depth=10))])"
            ]
          },
          "execution_count": 21,
          "metadata": {},
          "output_type": "execute_result"
        }
      ],
      "source": [
        "class StandardScalerFloat(StandardScaler):\n",
        "    \n",
        "    def __init__(self, with_mean=True, with_std=True):\n",
        "        StandardScaler.__init__(self, with_mean=with_mean, with_std=with_std)\n",
        "    \n",
        "    def fit(self, X, y=None):\n",
        "        StandardScaler.fit(self, X, y)\n",
        "        if self.scale_ is not None:\n",
        "            self.scale_inv_ = (1. / self.scale_).astype(numpy.float32)\n",
        "        return self\n",
        "    \n",
        "    def transform(self, X):\n",
        "        X = X.copy()\n",
        "        if self.with_mean:\n",
        "            X -= self.mean_\n",
        "        if self.with_std:\n",
        "            X *= self.scale_inv_\n",
        "        return X\n",
        "\n",
        "    \n",
        "model_float = Pipeline([\n",
        "    ('scaler', StandardScalerFloat()),\n",
        "    ('dt', DecisionTreeRegressor(max_depth=max_depth))\n",
        "])\n",
        "\n",
        "model_float.fit(Xi_train.astype(numpy.float32), yi_train.astype(numpy.float32))"
      ]
    },
    {
      "cell_type": "code",
      "execution_count": 21,
      "metadata": {},
      "outputs": [
        {
          "name": "stdout",
          "output_type": "stream",
          "text": [
            "Unable to find a shape calculator for type '<class '__main__.StandardScalerFloat'>'.\n",
            "It usually means the pipeline being converted contains a\n",
            "transformer or a predictor with no corresponding converter\n",
            "implemented in sklearn-onnx. If the converted is implemented\n",
            "in another library, you need to register\n",
            "the converted so that it can be used by sklearn-onnx (function\n",
            "update_registered_converter). If the model is not yet covered\n",
            "by sklearn-onnx, you may raise an issue to\n",
            "https://github.com/onnx/sklearn-onnx/issues\n",
            "to get the converter implemented or even contribute to the\n",
            "project. If the model is a custom model, a new converter must\n",
            "be implemented. Examples can be found in the gallery.\n",
            "\n"
          ]
        }
      ],
      "source": [
        "try:\n",
        "    onx_float = to_onnx(model_float, Xi_test[:1].astype(numpy.float))\n",
        "except RuntimeError as e:\n",
        "    print(e)"
      ]
    },
    {
      "cell_type": "markdown",
      "metadata": {},
      "source": [
        "We need to register a new converter so that *sklearn-onnx* knows how to convert the new scaler. We reuse the existing converters."
      ]
    },
    {
      "cell_type": "code",
      "execution_count": 22,
      "metadata": {},
      "outputs": [],
      "source": [
        "from skl2onnx import update_registered_converter\n",
        "from skl2onnx.operator_converters.scaler_op import convert_sklearn_scaler\n",
        "from skl2onnx.shape_calculators.scaler import calculate_sklearn_scaler_output_shapes\n",
        "\n",
        "\n",
        "update_registered_converter(\n",
        "    StandardScalerFloat, \"SklearnStandardScalerFloat\",\n",
        "    calculate_sklearn_scaler_output_shapes,\n",
        "    convert_sklearn_scaler)"
      ]
    },
    {
      "cell_type": "code",
      "execution_count": 23,
      "metadata": {},
      "outputs": [],
      "source": [
        "models = [\n",
        "    ('bug', Xi_test.astype(numpy.float32), model),\n",
        "    ('FloatPipeline', Xi_test.astype(numpy.float32), model_float),\n",
        "]"
      ]
    },
    {
      "cell_type": "code",
      "execution_count": 24,
      "metadata": {},
      "outputs": [
        {
          "data": {
            "text/html": [
              "<div>\n",
              "<style scoped>\n",
              "    .dataframe tbody tr th:only-of-type {\n",
              "        vertical-align: middle;\n",
              "    }\n",
              "\n",
              "    .dataframe tbody tr th {\n",
              "        vertical-align: top;\n",
              "    }\n",
              "\n",
              "    .dataframe thead th {\n",
              "        text-align: right;\n",
              "    }\n",
              "</style>\n",
              "<table border=\"1\" class=\"dataframe\">\n",
              "  <thead>\n",
              "    <tr style=\"text-align: right;\">\n",
              "      <th></th>\n",
              "      <th>runtime</th>\n",
              "      <th>diff</th>\n",
              "      <th>name</th>\n",
              "      <th>v[28]</th>\n",
              "      <th>v[99]</th>\n",
              "    </tr>\n",
              "  </thead>\n",
              "  <tbody>\n",
              "    <tr>\n",
              "      <th>0</th>\n",
              "      <td>sklearn</td>\n",
              "      <td>0.000000</td>\n",
              "      <td>sklearn</td>\n",
              "      <td>519.540527</td>\n",
              "      <td>-464.868301</td>\n",
              "    </tr>\n",
              "    <tr>\n",
              "      <th>1</th>\n",
              "      <td>python</td>\n",
              "      <td>232.693756</td>\n",
              "      <td>bug</td>\n",
              "      <td>286.846771</td>\n",
              "      <td>NaN</td>\n",
              "    </tr>\n",
              "    <tr>\n",
              "      <th>2</th>\n",
              "      <td>python_compiled</td>\n",
              "      <td>232.693756</td>\n",
              "      <td>bug</td>\n",
              "      <td>286.846771</td>\n",
              "      <td>NaN</td>\n",
              "    </tr>\n",
              "    <tr>\n",
              "      <th>3</th>\n",
              "      <td>onnxruntime1</td>\n",
              "      <td>232.693756</td>\n",
              "      <td>bug</td>\n",
              "      <td>286.846771</td>\n",
              "      <td>NaN</td>\n",
              "    </tr>\n",
              "    <tr>\n",
              "      <th>4</th>\n",
              "      <td>python</td>\n",
              "      <td>0.000015</td>\n",
              "      <td>FloatPipeline</td>\n",
              "      <td>NaN</td>\n",
              "      <td>-464.868286</td>\n",
              "    </tr>\n",
              "    <tr>\n",
              "      <th>5</th>\n",
              "      <td>python_compiled</td>\n",
              "      <td>0.000015</td>\n",
              "      <td>FloatPipeline</td>\n",
              "      <td>NaN</td>\n",
              "      <td>-464.868286</td>\n",
              "    </tr>\n",
              "    <tr>\n",
              "      <th>6</th>\n",
              "      <td>onnxruntime1</td>\n",
              "      <td>0.000015</td>\n",
              "      <td>FloatPipeline</td>\n",
              "      <td>NaN</td>\n",
              "      <td>-464.868286</td>\n",
              "    </tr>\n",
              "  </tbody>\n",
              "</table>\n",
              "</div>"
            ],
            "text/plain": [
              "           runtime        diff           name       v[28]       v[99]\n",
              "0          sklearn    0.000000        sklearn  519.540527 -464.868301\n",
              "1           python  232.693756            bug  286.846771         NaN\n",
              "2  python_compiled  232.693756            bug  286.846771         NaN\n",
              "3     onnxruntime1  232.693756            bug  286.846771         NaN\n",
              "4           python    0.000015  FloatPipeline         NaN -464.868286\n",
              "5  python_compiled    0.000015  FloatPipeline         NaN -464.868286\n",
              "6     onnxruntime1    0.000015  FloatPipeline         NaN -464.868286"
            ]
          },
          "execution_count": 25,
          "metadata": {},
          "output_type": "execute_result"
        }
      ],
      "source": [
        "obs = [dict(runtime='sklearn', diff=0, name='sklearn')]\n",
        "for name, x32, mod in models:\n",
        "    for runtime in ['python', 'python_compiled', 'onnxruntime1']:\n",
        "        lonx = to_onnx(mod, x32[:1])\n",
        "        loinf = OnnxInference(lonx, runtime=runtime)\n",
        "        y_skl = model_float.predict(X32)  # we use model_float as a baseline\n",
        "        y_onx = loinf.run({'X': X32})['variable']\n",
        "        delta = numpy.abs(y_skl - y_onx.ravel())\n",
        "        am = delta.argmax()\n",
        "        obs.append(dict(runtime=runtime, diff=delta.max(), name=name))\n",
        "        obs[-1]['v[%d]' % am] = y_onx.ravel()[am]\n",
        "        obs[0]['v[%d]' % am] = y_skl.ravel()[am]\n",
        "\n",
        "df = pandas.DataFrame(obs)\n",
        "df"
      ]
    },
    {
      "cell_type": "markdown",
      "metadata": {},
      "source": [
        "That means than the differences between ``float32(X / Y)`` and ``float32(X) * float32(1 / Y)`` are big enough to select a different path in the decision tree. ``float32(X) / float32(Y)`` and ``float32(X) * float32(1 / Y)`` are also different enough to trigger a different path. Let's illustrate that on example:"
      ]
    },
    {
      "cell_type": "code",
      "execution_count": 25,
      "metadata": {},
      "outputs": [
        {
          "name": "stdout",
          "output_type": "stream",
          "text": [
            "0 1.9073486e-06\n",
            "1 7.450581e-09\n",
            "2 0.00390625\n"
          ]
        }
      ],
      "source": [
        "a1 = numpy.random.randn(100, 2) * 10\n",
        "a2 = a1.copy()\n",
        "a2[:, 1] *= 1000\n",
        "a3 = a1.copy()\n",
        "a3[:, 0] *= 1000\n",
        "\n",
        "for i, a in enumerate([a1, a2, a3]):\n",
        "    max_diff = max([\n",
        "        abs(numpy.float32(x[0]) / numpy.float32(x[1]) - numpy.float32(x[0]) * numpy.float32(1/x[1]))\n",
        "        for x in a])\n",
        "    print(i, max_diff)"
      ]
    },
    {
      "cell_type": "markdown",
      "metadata": {},
      "source": [
        "The last random set shows very big differences, obviously big enough to trigger a different path in the graph."
      ]
    },
    {
      "cell_type": "code",
      "execution_count": 26,
      "metadata": {},
      "outputs": [],
      "source": []
    }
  ],
  "metadata": {
    "kernelspec": {
      "display_name": "Python 3",
      "language": "python",
      "name": "python3"
    },
    "language_info": {
      "codemirror_mode": {
        "name": "ipython",
        "version": 3
      },
      "file_extension": ".py",
      "mimetype": "text/x-python",
      "name": "python",
      "nbconvert_exporter": "python",
      "pygments_lexer": "ipython3",
      "version": "3.7.2"
    }
  },
  "nbformat": 4,
  "nbformat_minor": 4
}