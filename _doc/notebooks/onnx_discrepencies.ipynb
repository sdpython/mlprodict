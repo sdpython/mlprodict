{
  "cells": [
    {
      "cell_type": "markdown",
      "metadata": {},
      "source": [
        "# Discrepencies with ONNX\n",
        "\n",
        "The notebook shows one example where the conversion leads with discrepencies if default options are used. It converts a pipeline with two steps, a scaler followed by a tree."
      ]
    },
    {
      "cell_type": "code",
      "execution_count": 1,
      "metadata": {},
      "outputs": [
        {
          "data": {
            "text/html": [
              "<div id=\"my_id_menu_nb\">run previous cell, wait for 2 seconds</div>\n",
              "<script>\n",
              "function repeat_indent_string(n){\n",
              "    var a = \"\" ;\n",
              "    for ( ; n > 0 ; --n)\n",
              "        a += \"    \";\n",
              "    return a;\n",
              "}\n",
              "// look up into all sections and builds an automated menu //\n",
              "var update_menu_string = function(begin, lfirst, llast, sformat, send, keep_item, begin_format, end_format) {\n",
              "    var anchors = document.getElementsByClassName(\"section\");\n",
              "    if (anchors.length == 0) {\n",
              "        anchors = document.getElementsByClassName(\"text_cell_render rendered_html\");\n",
              "    }\n",
              "    var i,t;\n",
              "    var text_menu = begin;\n",
              "    var text_memo = \"<pre>\\nlength:\" + anchors.length + \"\\n\";\n",
              "    var ind = \"\";\n",
              "    var memo_level = 1;\n",
              "    var href;\n",
              "    var tags = [];\n",
              "    var main_item = 0;\n",
              "    var format_open = 0;\n",
              "    for (i = 0; i <= llast; i++)\n",
              "        tags.push(\"h\" + i);\n",
              "\n",
              "    for (i = 0; i < anchors.length; i++) {\n",
              "        text_memo += \"**\" + anchors[i].id + \"--\\n\";\n",
              "\n",
              "        var child = null;\n",
              "        for(t = 0; t < tags.length; t++) {\n",
              "            var r = anchors[i].getElementsByTagName(tags[t]);\n",
              "            if (r.length > 0) {\n",
              "child = r[0];\n",
              "break;\n",
              "            }\n",
              "        }\n",
              "        if (child == null) {\n",
              "            text_memo += \"null\\n\";\n",
              "            continue;\n",
              "        }\n",
              "        if (anchors[i].hasAttribute(\"id\")) {\n",
              "            // when converted in RST\n",
              "            href = anchors[i].id;\n",
              "            text_memo += \"#1-\" + href;\n",
              "            // passer \u00e0 child suivant (le chercher)\n",
              "        }\n",
              "        else if (child.hasAttribute(\"id\")) {\n",
              "            // in a notebook\n",
              "            href = child.id;\n",
              "            text_memo += \"#2-\" + href;\n",
              "        }\n",
              "        else {\n",
              "            text_memo += \"#3-\" + \"*\" + \"\\n\";\n",
              "            continue;\n",
              "        }\n",
              "        var title = child.textContent;\n",
              "        var level = parseInt(child.tagName.substring(1,2));\n",
              "\n",
              "        text_memo += \"--\" + level + \"?\" + lfirst + \"--\" + title + \"\\n\";\n",
              "\n",
              "        if ((level < lfirst) || (level > llast)) {\n",
              "            continue ;\n",
              "        }\n",
              "        if (title.endsWith('\u00b6')) {\n",
              "            title = title.substring(0,title.length-1).replace(\"<\", \"&lt;\")\n",
              "         .replace(\">\", \"&gt;\").replace(\"&\", \"&amp;\");\n",
              "        }\n",
              "        if (title.length == 0) {\n",
              "            continue;\n",
              "        }\n",
              "\n",
              "        while (level < memo_level) {\n",
              "            text_menu += end_format + \"</ul>\\n\";\n",
              "            format_open -= 1;\n",
              "            memo_level -= 1;\n",
              "        }\n",
              "        if (level == lfirst) {\n",
              "            main_item += 1;\n",
              "        }\n",
              "        if (keep_item != -1 && main_item != keep_item + 1) {\n",
              "            // alert(main_item + \" - \" + level + \" - \" + keep_item);\n",
              "            continue;\n",
              "        }\n",
              "        while (level > memo_level) {\n",
              "            text_menu += \"<ul>\\n\";\n",
              "            memo_level += 1;\n",
              "        }\n",
              "        text_menu += repeat_indent_string(level-2);\n",
              "        text_menu += begin_format + sformat.replace(\"__HREF__\", href).replace(\"__TITLE__\", title);\n",
              "        format_open += 1;\n",
              "    }\n",
              "    while (1 < memo_level) {\n",
              "        text_menu += end_format + \"</ul>\\n\";\n",
              "        memo_level -= 1;\n",
              "        format_open -= 1;\n",
              "    }\n",
              "    text_menu += send;\n",
              "    //text_menu += \"\\n\" + text_memo;\n",
              "\n",
              "    while (format_open > 0) {\n",
              "        text_menu += end_format;\n",
              "        format_open -= 1;\n",
              "    }\n",
              "    return text_menu;\n",
              "};\n",
              "var update_menu = function() {\n",
              "    var sbegin = \"\";\n",
              "    var sformat = '<a href=\"#__HREF__\">__TITLE__</a>';\n",
              "    var send = \"\";\n",
              "    var begin_format = '<li>';\n",
              "    var end_format = '</li>';\n",
              "    var keep_item = -1;\n",
              "    var text_menu = update_menu_string(sbegin, 2, 4, sformat, send, keep_item,\n",
              "       begin_format, end_format);\n",
              "    var menu = document.getElementById(\"my_id_menu_nb\");\n",
              "    menu.innerHTML=text_menu;\n",
              "};\n",
              "window.setTimeout(update_menu,2000);\n",
              "            </script>"
            ],
            "text/plain": [
              "<IPython.core.display.HTML object>"
            ]
          },
          "execution_count": 2,
          "metadata": {},
          "output_type": "execute_result"
        }
      ],
      "source": [
        "from jyquickhelper import add_notebook_menu\n",
        "add_notebook_menu()"
      ]
    },
    {
      "cell_type": "code",
      "execution_count": 2,
      "metadata": {},
      "outputs": [],
      "source": [
        "%matplotlib inline"
      ]
    },
    {
      "cell_type": "markdown",
      "metadata": {},
      "source": [
        "## Data and first model\n",
        "\n",
        "We take a random datasets with mostly integers."
      ]
    },
    {
      "cell_type": "code",
      "execution_count": 3,
      "metadata": {},
      "outputs": [],
      "source": [
        "import math\n",
        "import numpy\n",
        "from sklearn.datasets import make_regression\n",
        "from sklearn.model_selection import train_test_split\n",
        "\n",
        "X, y = make_regression(10000, 10)\n",
        "X_train, X_test, y_train, y_test = train_test_split(X, y)\n",
        "\n",
        "Xi_train, yi_train = X_train.copy(), y_train.copy()\n",
        "Xi_test, yi_test = X_test.copy(), y_test.copy()\n",
        "for i in range(X.shape[1]):\n",
        "    Xi_train[:, i] = (Xi_train[:, i] * math.pi * 2 ** i).astype(numpy.int64)\n",
        "    Xi_test[:, i] = (Xi_test[:, i] * math.pi * 2 ** i).astype(numpy.int64)"
      ]
    },
    {
      "cell_type": "code",
      "execution_count": 4,
      "metadata": {},
      "outputs": [
        {
          "data": {
            "text/plain": [
              "Pipeline(steps=[('scaler', StandardScaler()),\n",
              "                ('dt', DecisionTreeRegressor(max_depth=5))])"
            ]
          },
          "execution_count": 5,
          "metadata": {},
          "output_type": "execute_result"
        }
      ],
      "source": [
        "from sklearn.pipeline import Pipeline\n",
        "from sklearn.preprocessing import StandardScaler\n",
        "from sklearn.tree import DecisionTreeRegressor\n",
        "\n",
        "max_depth = 5\n",
        "\n",
        "model = Pipeline([\n",
        "    ('scaler', StandardScaler()),\n",
        "    ('dt', DecisionTreeRegressor(max_depth=max_depth))\n",
        "])\n",
        "\n",
        "model.fit(Xi_train, yi_train)"
      ]
    },
    {
      "cell_type": "code",
      "execution_count": 5,
      "metadata": {},
      "outputs": [
        {
          "data": {
            "text/plain": [
              "array([-71.38934146, 252.04760893, 114.78668953, 135.29831645,\n",
              "       135.29831645])"
            ]
          },
          "execution_count": 6,
          "metadata": {},
          "output_type": "execute_result"
        }
      ],
      "source": [
        "model.predict(Xi_test[:5])"
      ]
    },
    {
      "cell_type": "markdown",
      "metadata": {},
      "source": [
        "Other models:"
      ]
    },
    {
      "cell_type": "code",
      "execution_count": 6,
      "metadata": {},
      "outputs": [],
      "source": [
        "model2 = Pipeline([\n",
        "    ('scaler', StandardScaler()),\n",
        "    ('dt', DecisionTreeRegressor(max_depth=max_depth))\n",
        "])\n",
        "model3 = Pipeline([\n",
        "    ('scaler', StandardScaler()),\n",
        "    ('dt', DecisionTreeRegressor(max_depth=max_depth-1))\n",
        "])\n",
        "\n",
        "\n",
        "models = [\n",
        "    ('bug', Xi_test.astype(numpy.float32), model),\n",
        "    ('no scaler', Xi_test.astype(numpy.float32), \n",
        "     DecisionTreeRegressor(max_depth=max_depth).fit(Xi_train, yi_train)),\n",
        "    ('float', X_test.astype(numpy.float32),\n",
        "     model2.fit(X_train, y_train)),\n",
        "    ('max_depth-1', X_test.astype(numpy.float32),\n",
        "     model3.fit(X_train, y_train))\n",
        "]"
      ]
    },
    {
      "cell_type": "markdown",
      "metadata": {},
      "source": [
        "## Conversion to ONNX"
      ]
    },
    {
      "cell_type": "code",
      "execution_count": 7,
      "metadata": {},
      "outputs": [],
      "source": [
        "import numpy\n",
        "from mlprodict.onnx_conv import to_onnx\n",
        "\n",
        "onx = to_onnx(model, X_train[:1].astype(numpy.float32))"
      ]
    },
    {
      "cell_type": "code",
      "execution_count": 8,
      "metadata": {},
      "outputs": [
        {
          "name": "stdout",
          "output_type": "stream",
          "text": [
            "OnnxInference(...)\n",
            "    def compiled_run(dict_inputs):\n",
            "        # inputs\n",
            "        X = dict_inputs['X']\n",
            "        (variable1, ) = n0_scaler(X)\n",
            "        (variable, ) = n1_treeensembleregressor(variable1)\n",
            "        return {\n",
            "            'variable': variable,\n",
            "        }\n"
          ]
        }
      ],
      "source": [
        "from mlprodict.onnxrt import OnnxInference\n",
        "\n",
        "oinfpy = OnnxInference(onx, runtime=\"python_compiled\")\n",
        "print(oinfpy)"
      ]
    },
    {
      "cell_type": "code",
      "execution_count": 9,
      "metadata": {},
      "outputs": [
        {
          "data": {
            "text/html": [
              "<div>\n",
              "<style scoped>\n",
              "    .dataframe tbody tr th:only-of-type {\n",
              "        vertical-align: middle;\n",
              "    }\n",
              "\n",
              "    .dataframe tbody tr th {\n",
              "        vertical-align: top;\n",
              "    }\n",
              "\n",
              "    .dataframe thead th {\n",
              "        text-align: right;\n",
              "    }\n",
              "</style>\n",
              "<table border=\"1\" class=\"dataframe\">\n",
              "  <thead>\n",
              "    <tr style=\"text-align: right;\">\n",
              "      <th></th>\n",
              "      <th>runtime</th>\n",
              "      <th>diff</th>\n",
              "      <th>v[144]</th>\n",
              "    </tr>\n",
              "  </thead>\n",
              "  <tbody>\n",
              "    <tr>\n",
              "      <th>0</th>\n",
              "      <td>sklearn</td>\n",
              "      <td>0.000000</td>\n",
              "      <td>300.412797</td>\n",
              "    </tr>\n",
              "    <tr>\n",
              "      <th>1</th>\n",
              "      <td>python</td>\n",
              "      <td>0.000014</td>\n",
              "      <td>300.412811</td>\n",
              "    </tr>\n",
              "    <tr>\n",
              "      <th>2</th>\n",
              "      <td>python_compiled</td>\n",
              "      <td>0.000014</td>\n",
              "      <td>300.412811</td>\n",
              "    </tr>\n",
              "    <tr>\n",
              "      <th>3</th>\n",
              "      <td>onnxruntime1</td>\n",
              "      <td>0.000014</td>\n",
              "      <td>300.412811</td>\n",
              "    </tr>\n",
              "  </tbody>\n",
              "</table>\n",
              "</div>"
            ],
            "text/plain": [
              "           runtime      diff      v[144]\n",
              "0          sklearn  0.000000  300.412797\n",
              "1           python  0.000014  300.412811\n",
              "2  python_compiled  0.000014  300.412811\n",
              "3     onnxruntime1  0.000014  300.412811"
            ]
          },
          "execution_count": 10,
          "metadata": {},
          "output_type": "execute_result"
        }
      ],
      "source": [
        "import pandas\n",
        "\n",
        "X32 = Xi_test.astype(numpy.float32)\n",
        "y_skl = model.predict(X32)\n",
        "\n",
        "obs = [dict(runtime='sklearn', diff=0)]\n",
        "for runtime in ['python', 'python_compiled', 'onnxruntime1']:\n",
        "    oinf = OnnxInference(onx, runtime=runtime)\n",
        "    y_onx = oinf.run({'X': X32})['variable']\n",
        "    delta = numpy.abs(y_skl - y_onx.ravel())\n",
        "    am = delta.argmax()\n",
        "    obs.append(dict(runtime=runtime, diff=delta.max()))\n",
        "    obs[-1]['v[%d]' % am] = y_onx.ravel()[am]\n",
        "    obs[0]['v[%d]' % am] = y_skl.ravel()[am]\n",
        "\n",
        "pandas.DataFrame(obs)"
      ]
    },
    {
      "cell_type": "markdown",
      "metadata": {},
      "source": [
        "The pipeline shows huge discrepencies. They appear for a pipeline *StandardScaler* + *DecisionTreeRegressor* applied in integer features. They disappear if floats are used, or if the scaler is removed. The bug also disappear if the tree is not big enough (max_depth=4 instread of 5)."
      ]
    },
    {
      "cell_type": "code",
      "execution_count": 10,
      "metadata": {},
      "outputs": [
        {
          "data": {
            "text/html": [
              "<div>\n",
              "<style scoped>\n",
              "    .dataframe tbody tr th:only-of-type {\n",
              "        vertical-align: middle;\n",
              "    }\n",
              "\n",
              "    .dataframe tbody tr th {\n",
              "        vertical-align: top;\n",
              "    }\n",
              "\n",
              "    .dataframe thead th {\n",
              "        text-align: right;\n",
              "    }\n",
              "</style>\n",
              "<table border=\"1\" class=\"dataframe\">\n",
              "  <thead>\n",
              "    <tr style=\"text-align: right;\">\n",
              "      <th></th>\n",
              "      <th>runtime</th>\n",
              "      <th>diff</th>\n",
              "      <th>name</th>\n",
              "      <th>v[144]</th>\n",
              "      <th>v[5]</th>\n",
              "      <th>v[52]</th>\n",
              "    </tr>\n",
              "  </thead>\n",
              "  <tbody>\n",
              "    <tr>\n",
              "      <th>0</th>\n",
              "      <td>sklearn</td>\n",
              "      <td>0.000000</td>\n",
              "      <td>sklearn</td>\n",
              "      <td>300.412797</td>\n",
              "      <td>-300.872881</td>\n",
              "      <td>188.019374</td>\n",
              "    </tr>\n",
              "    <tr>\n",
              "      <th>1</th>\n",
              "      <td>python</td>\n",
              "      <td>0.000014</td>\n",
              "      <td>bug</td>\n",
              "      <td>300.412811</td>\n",
              "      <td>NaN</td>\n",
              "      <td>NaN</td>\n",
              "    </tr>\n",
              "    <tr>\n",
              "      <th>2</th>\n",
              "      <td>python_compiled</td>\n",
              "      <td>0.000014</td>\n",
              "      <td>bug</td>\n",
              "      <td>300.412811</td>\n",
              "      <td>NaN</td>\n",
              "      <td>NaN</td>\n",
              "    </tr>\n",
              "    <tr>\n",
              "      <th>3</th>\n",
              "      <td>onnxruntime1</td>\n",
              "      <td>0.000014</td>\n",
              "      <td>bug</td>\n",
              "      <td>300.412811</td>\n",
              "      <td>NaN</td>\n",
              "      <td>NaN</td>\n",
              "    </tr>\n",
              "    <tr>\n",
              "      <th>4</th>\n",
              "      <td>python</td>\n",
              "      <td>0.000014</td>\n",
              "      <td>no scaler</td>\n",
              "      <td>300.412811</td>\n",
              "      <td>NaN</td>\n",
              "      <td>NaN</td>\n",
              "    </tr>\n",
              "    <tr>\n",
              "      <th>5</th>\n",
              "      <td>python_compiled</td>\n",
              "      <td>0.000014</td>\n",
              "      <td>no scaler</td>\n",
              "      <td>300.412811</td>\n",
              "      <td>NaN</td>\n",
              "      <td>NaN</td>\n",
              "    </tr>\n",
              "    <tr>\n",
              "      <th>6</th>\n",
              "      <td>onnxruntime1</td>\n",
              "      <td>0.000014</td>\n",
              "      <td>no scaler</td>\n",
              "      <td>300.412811</td>\n",
              "      <td>NaN</td>\n",
              "      <td>NaN</td>\n",
              "    </tr>\n",
              "    <tr>\n",
              "      <th>7</th>\n",
              "      <td>python</td>\n",
              "      <td>0.000013</td>\n",
              "      <td>float</td>\n",
              "      <td>NaN</td>\n",
              "      <td>-300.872894</td>\n",
              "      <td>NaN</td>\n",
              "    </tr>\n",
              "    <tr>\n",
              "      <th>8</th>\n",
              "      <td>python_compiled</td>\n",
              "      <td>0.000013</td>\n",
              "      <td>float</td>\n",
              "      <td>NaN</td>\n",
              "      <td>-300.872894</td>\n",
              "      <td>NaN</td>\n",
              "    </tr>\n",
              "    <tr>\n",
              "      <th>9</th>\n",
              "      <td>onnxruntime1</td>\n",
              "      <td>0.000013</td>\n",
              "      <td>float</td>\n",
              "      <td>NaN</td>\n",
              "      <td>-300.872894</td>\n",
              "      <td>NaN</td>\n",
              "    </tr>\n",
              "    <tr>\n",
              "      <th>10</th>\n",
              "      <td>python</td>\n",
              "      <td>0.000004</td>\n",
              "      <td>max_depth-1</td>\n",
              "      <td>NaN</td>\n",
              "      <td>NaN</td>\n",
              "      <td>188.019379</td>\n",
              "    </tr>\n",
              "    <tr>\n",
              "      <th>11</th>\n",
              "      <td>python_compiled</td>\n",
              "      <td>0.000004</td>\n",
              "      <td>max_depth-1</td>\n",
              "      <td>NaN</td>\n",
              "      <td>NaN</td>\n",
              "      <td>188.019379</td>\n",
              "    </tr>\n",
              "    <tr>\n",
              "      <th>12</th>\n",
              "      <td>onnxruntime1</td>\n",
              "      <td>0.000004</td>\n",
              "      <td>max_depth-1</td>\n",
              "      <td>NaN</td>\n",
              "      <td>NaN</td>\n",
              "      <td>188.019379</td>\n",
              "    </tr>\n",
              "  </tbody>\n",
              "</table>\n",
              "</div>"
            ],
            "text/plain": [
              "            runtime      diff         name      v[144]        v[5]       v[52]\n",
              "0           sklearn  0.000000      sklearn  300.412797 -300.872881  188.019374\n",
              "1            python  0.000014          bug  300.412811         NaN         NaN\n",
              "2   python_compiled  0.000014          bug  300.412811         NaN         NaN\n",
              "3      onnxruntime1  0.000014          bug  300.412811         NaN         NaN\n",
              "4            python  0.000014    no scaler  300.412811         NaN         NaN\n",
              "5   python_compiled  0.000014    no scaler  300.412811         NaN         NaN\n",
              "6      onnxruntime1  0.000014    no scaler  300.412811         NaN         NaN\n",
              "7            python  0.000013        float         NaN -300.872894         NaN\n",
              "8   python_compiled  0.000013        float         NaN -300.872894         NaN\n",
              "9      onnxruntime1  0.000013        float         NaN -300.872894         NaN\n",
              "10           python  0.000004  max_depth-1         NaN         NaN  188.019379\n",
              "11  python_compiled  0.000004  max_depth-1         NaN         NaN  188.019379\n",
              "12     onnxruntime1  0.000004  max_depth-1         NaN         NaN  188.019379"
            ]
          },
          "execution_count": 11,
          "metadata": {},
          "output_type": "execute_result"
        }
      ],
      "source": [
        "obs = [dict(runtime='sklearn', diff=0, name='sklearn')]\n",
        "for name, x32, mod in models:\n",
        "    for runtime in ['python', 'python_compiled', 'onnxruntime1']:\n",
        "        lonx = to_onnx(mod, x32[:1])\n",
        "        loinf = OnnxInference(lonx, runtime=runtime)\n",
        "        y_skl = mod.predict(X32)\n",
        "        y_onx = loinf.run({'X': X32})['variable']\n",
        "        delta = numpy.abs(y_skl - y_onx.ravel())\n",
        "        am = delta.argmax()\n",
        "        obs.append(dict(runtime=runtime, diff=delta.max(), name=name))\n",
        "        obs[-1]['v[%d]' % am] = y_onx.ravel()[am]\n",
        "        obs[0]['v[%d]' % am] = y_skl.ravel()[am]\n",
        "\n",
        "df = pandas.DataFrame(obs)\n",
        "df"
      ]
    },
    {
      "cell_type": "code",
      "execution_count": 11,
      "metadata": {},
      "outputs": [
        {
          "data": {
            "text/html": [
              "<div>\n",
              "<style scoped>\n",
              "    .dataframe tbody tr th:only-of-type {\n",
              "        vertical-align: middle;\n",
              "    }\n",
              "\n",
              "    .dataframe tbody tr th {\n",
              "        vertical-align: top;\n",
              "    }\n",
              "\n",
              "    .dataframe thead th {\n",
              "        text-align: right;\n",
              "    }\n",
              "</style>\n",
              "<table border=\"1\" class=\"dataframe\">\n",
              "  <thead>\n",
              "    <tr style=\"text-align: right;\">\n",
              "      <th>name</th>\n",
              "      <th>bug</th>\n",
              "      <th>float</th>\n",
              "      <th>max_depth-1</th>\n",
              "      <th>no scaler</th>\n",
              "      <th>sklearn</th>\n",
              "    </tr>\n",
              "    <tr>\n",
              "      <th>runtime</th>\n",
              "      <th></th>\n",
              "      <th></th>\n",
              "      <th></th>\n",
              "      <th></th>\n",
              "      <th></th>\n",
              "    </tr>\n",
              "  </thead>\n",
              "  <tbody>\n",
              "    <tr>\n",
              "      <th>onnxruntime1</th>\n",
              "      <td>0.000014</td>\n",
              "      <td>0.000013</td>\n",
              "      <td>0.000004</td>\n",
              "      <td>0.000014</td>\n",
              "      <td>NaN</td>\n",
              "    </tr>\n",
              "    <tr>\n",
              "      <th>python</th>\n",
              "      <td>0.000014</td>\n",
              "      <td>0.000013</td>\n",
              "      <td>0.000004</td>\n",
              "      <td>0.000014</td>\n",
              "      <td>NaN</td>\n",
              "    </tr>\n",
              "    <tr>\n",
              "      <th>python_compiled</th>\n",
              "      <td>0.000014</td>\n",
              "      <td>0.000013</td>\n",
              "      <td>0.000004</td>\n",
              "      <td>0.000014</td>\n",
              "      <td>NaN</td>\n",
              "    </tr>\n",
              "    <tr>\n",
              "      <th>sklearn</th>\n",
              "      <td>NaN</td>\n",
              "      <td>NaN</td>\n",
              "      <td>NaN</td>\n",
              "      <td>NaN</td>\n",
              "      <td>0.0</td>\n",
              "    </tr>\n",
              "  </tbody>\n",
              "</table>\n",
              "</div>"
            ],
            "text/plain": [
              "name                  bug     float  max_depth-1  no scaler  sklearn\n",
              "runtime                                                             \n",
              "onnxruntime1     0.000014  0.000013     0.000004   0.000014      NaN\n",
              "python           0.000014  0.000013     0.000004   0.000014      NaN\n",
              "python_compiled  0.000014  0.000013     0.000004   0.000014      NaN\n",
              "sklearn               NaN       NaN          NaN        NaN      0.0"
            ]
          },
          "execution_count": 12,
          "metadata": {},
          "output_type": "execute_result"
        }
      ],
      "source": [
        "df.pivot(\"runtime\", \"name\", \"diff\")"
      ]
    },
    {
      "cell_type": "markdown",
      "metadata": {},
      "source": [
        "## Other way to converter\n",
        "\n",
        "ONNX does not support double for TreeEnsembleRegressor but that a new operator TreeEnsembleRegressorDouble was implemented into *mlprodict*. We need to update the conversion."
      ]
    },
    {
      "cell_type": "code",
      "execution_count": 12,
      "metadata": {},
      "outputs": [],
      "source": [
        "%load_ext mlprodict"
      ]
    },
    {
      "cell_type": "code",
      "execution_count": 13,
      "metadata": {},
      "outputs": [
        {
          "data": {
            "text/html": [
              "<div id=\"M19f0e2700cc8473cb3a29caf5b013536-cont\"><div id=\"M19f0e2700cc8473cb3a29caf5b013536\" style=\"width:100%;height:100%;\"></div></div>\n",
              "<script>\n",
              "\n",
              "require(['http://www.xavierdupre.fr/js/vizjs/viz.js'], function() { var svgGraph = Viz(\"digraph{\\n  ranksep=0.25;\\n  nodesep=0.05;\\n  orientation=portrait;\\n\\n  X [shape=box color=red label=\\\"X\\ndouble((0, 10))\\\" fontsize=10];\\n\\n  variable [shape=box color=green label=\\\"variable\\ndouble((0, 1))\\\" fontsize=10];\\n\\n\\n  variable1 [shape=box label=\\\"variable1\\\" fontsize=10];\\n  Scaler [shape=box style=\\\"filled,rounded\\\" color=orange label=\\\"Scaler\\n(Scaler)\\noffset=[-5.73333333e-02 -1.3733...\\nscale=[0.36003429 0.16868625 0....\\\" fontsize=10];\\n  X -> Scaler;\\n  Scaler -> variable1;\\n\\n  TreeEnsembleRegressorDouble [shape=box style=\\\"filled,rounded\\\" color=orange label=\\\"TreeEnsembleRegressorDouble\\n(TreeEnsembleRegressorDouble)\\nn_targets=1\\nnodes_falsenodeids=[32 17 10  7...\\nnodes_featureids=[4 5 9 6 5 0 0...\\nnodes_hitrates=[1. 1. 1. 1. 1. ...\\nnodes_missing_value_tracks_true=[0 0 0 0 0...\\nnodes_modes=[b'BRANCH_LEQ' b'BR...\\nnodes_nodeids=[ 0  1  2  3  4  ...\\nnodes_treeids=[0 0 0 0 0 0 0 0 ...\\nnodes_truenodeids=[ 1  2  3  4 ...\\nnodes_values=[ 0.02125672  0.19...\\npost_transform=b'NONE'\\ntarget_ids=[0 0 0 0 0 0 0 0 0 0...\\ntarget_nodeids=[ 5  6  8  9 12 ...\\ntarget_treeids=[0 0 0 0 0 0 0 0...\\ntarget_weights=[-404.7282532  -...\\\" fontsize=10];\\n  variable1 -> TreeEnsembleRegressorDouble;\\n  TreeEnsembleRegressorDouble -> variable;\\n}\");\n",
              "document.getElementById('M19f0e2700cc8473cb3a29caf5b013536').innerHTML = svgGraph; });\n",
              "\n",
              "</script>"
            ],
            "text/plain": [
              "<jyquickhelper.jspy.render_nb_js_dot.RenderJsDot at 0x1c610cf2b70>"
            ]
          },
          "execution_count": 14,
          "metadata": {},
          "output_type": "execute_result"
        }
      ],
      "source": [
        "onx32 = to_onnx(model, X_train[:1].astype(numpy.float32))\n",
        "onx64 = to_onnx(model, X_train[:1].astype(numpy.float64), \n",
        "                dtype=numpy.float64, rewrite_ops=True)\n",
        "%onnxview onx64"
      ]
    },
    {
      "cell_type": "code",
      "execution_count": 14,
      "metadata": {},
      "outputs": [
        {
          "data": {
            "text/html": [
              "<div>\n",
              "<style scoped>\n",
              "    .dataframe tbody tr th:only-of-type {\n",
              "        vertical-align: middle;\n",
              "    }\n",
              "\n",
              "    .dataframe tbody tr th {\n",
              "        vertical-align: top;\n",
              "    }\n",
              "\n",
              "    .dataframe thead th {\n",
              "        text-align: right;\n",
              "    }\n",
              "</style>\n",
              "<table border=\"1\" class=\"dataframe\">\n",
              "  <thead>\n",
              "    <tr style=\"text-align: right;\">\n",
              "      <th></th>\n",
              "      <th>runtime</th>\n",
              "      <th>diff</th>\n",
              "      <th>v[144]</th>\n",
              "      <th>v[0]</th>\n",
              "      <th>real</th>\n",
              "      <th>error</th>\n",
              "    </tr>\n",
              "  </thead>\n",
              "  <tbody>\n",
              "    <tr>\n",
              "      <th>0</th>\n",
              "      <td>sklearn</td>\n",
              "      <td>0.000000</td>\n",
              "      <td>300.412797</td>\n",
              "      <td>-71.389341</td>\n",
              "      <td>NaN</td>\n",
              "      <td>NaN</td>\n",
              "    </tr>\n",
              "    <tr>\n",
              "      <th>1</th>\n",
              "      <td>python</td>\n",
              "      <td>0.000014</td>\n",
              "      <td>300.412811</td>\n",
              "      <td>NaN</td>\n",
              "      <td>float</td>\n",
              "      <td>NaN</td>\n",
              "    </tr>\n",
              "    <tr>\n",
              "      <th>2</th>\n",
              "      <td>python</td>\n",
              "      <td>0.000000</td>\n",
              "      <td>NaN</td>\n",
              "      <td>-71.389341</td>\n",
              "      <td>double</td>\n",
              "      <td>NaN</td>\n",
              "    </tr>\n",
              "    <tr>\n",
              "      <th>3</th>\n",
              "      <td>python_compiled</td>\n",
              "      <td>0.000014</td>\n",
              "      <td>300.412811</td>\n",
              "      <td>NaN</td>\n",
              "      <td>float</td>\n",
              "      <td>NaN</td>\n",
              "    </tr>\n",
              "    <tr>\n",
              "      <th>4</th>\n",
              "      <td>python_compiled</td>\n",
              "      <td>0.000000</td>\n",
              "      <td>NaN</td>\n",
              "      <td>-71.389341</td>\n",
              "      <td>double</td>\n",
              "      <td>NaN</td>\n",
              "    </tr>\n",
              "    <tr>\n",
              "      <th>5</th>\n",
              "      <td>onnxruntime1</td>\n",
              "      <td>0.000014</td>\n",
              "      <td>300.412811</td>\n",
              "      <td>NaN</td>\n",
              "      <td>float</td>\n",
              "      <td>NaN</td>\n",
              "    </tr>\n",
              "    <tr>\n",
              "      <th>6</th>\n",
              "      <td>onnxruntime1</td>\n",
              "      <td>NaN</td>\n",
              "      <td>NaN</td>\n",
              "      <td>NaN</td>\n",
              "      <td>double</td>\n",
              "      <td>Unable to create InferenceSession due to '[ONN...</td>\n",
              "    </tr>\n",
              "  </tbody>\n",
              "</table>\n",
              "</div>"
            ],
            "text/plain": [
              "           runtime      diff      v[144]       v[0]    real  \\\n",
              "0          sklearn  0.000000  300.412797 -71.389341     NaN   \n",
              "1           python  0.000014  300.412811        NaN   float   \n",
              "2           python  0.000000         NaN -71.389341  double   \n",
              "3  python_compiled  0.000014  300.412811        NaN   float   \n",
              "4  python_compiled  0.000000         NaN -71.389341  double   \n",
              "5     onnxruntime1  0.000014  300.412811        NaN   float   \n",
              "6     onnxruntime1       NaN         NaN        NaN  double   \n",
              "\n",
              "                                               error  \n",
              "0                                                NaN  \n",
              "1                                                NaN  \n",
              "2                                                NaN  \n",
              "3                                                NaN  \n",
              "4                                                NaN  \n",
              "5                                                NaN  \n",
              "6  Unable to create InferenceSession due to '[ONN...  "
            ]
          },
          "execution_count": 15,
          "metadata": {},
          "output_type": "execute_result"
        }
      ],
      "source": [
        "X32 = Xi_test.astype(numpy.float32)\n",
        "X64 = Xi_test.astype(numpy.float64)\n",
        "\n",
        "obs = [dict(runtime='sklearn', diff=0)]\n",
        "for runtime in ['python', 'python_compiled', 'onnxruntime1']:\n",
        "    for name, onx, xr in [('float', onx32, X32), ('double', onx64, X64)]:\n",
        "        try:\n",
        "            oinf = OnnxInference(onx, runtime=runtime)\n",
        "        except Exception as e:\n",
        "            obs.append(dict(runtime=runtime, error=str(e), real=name))\n",
        "            continue\n",
        "        y_skl = model.predict(xr)\n",
        "        y_onx = oinf.run({'X': xr})['variable']\n",
        "        delta = numpy.abs(y_skl - y_onx.ravel())\n",
        "        am = delta.argmax()\n",
        "        obs.append(dict(runtime=runtime, diff=delta.max(), real=name))\n",
        "        obs[-1]['v[%d]' % am] = y_onx.ravel()[am]\n",
        "        obs[0]['v[%d]' % am] = y_skl.ravel()[am]\n",
        "\n",
        "pandas.DataFrame(obs)"
      ]
    },
    {
      "cell_type": "markdown",
      "metadata": {},
      "source": [
        "We see that the use of double removes the discrepencies."
      ]
    },
    {
      "cell_type": "markdown",
      "metadata": {},
      "source": [
        "## OnnxPipeline\n",
        "\n",
        "Another way to reduce the number of discrepencies is to use a pipeline which converts every steps into ONNX before training the next one. That way, every steps is either trained on the inputs, either trained on the outputs produced by ONNX. Let's see how it works."
      ]
    },
    {
      "cell_type": "code",
      "execution_count": 15,
      "metadata": {},
      "outputs": [
        {
          "name": "stderr",
          "output_type": "stream",
          "text": [
            "C:\\xavierdupre\\__home_\\github_fork\\scikit-learn\\sklearn\\base.py:209: FutureWarning: From version 0.24, get_params will raise an AttributeError if a parameter cannot be retrieved as an instance attribute. Previously it would return None.\n",
            "  FutureWarning)\n"
          ]
        },
        {
          "data": {
            "text/plain": [
              "OnnxPipeline(steps=[('scaler',\n",
              "                     OnnxTransformer(onnx_bytes=b'\\x08\\x06\\x12\\x08skl2onnx\\x1a\\x051.7.0\"\\x07ai.onnx(\\x002\\x00:\\xf6\\x01\\n\\xa6\\x01\\n\\x01X\\x12\\x08variable\\x1a\\x06Scaler\"\\x06Scaler*=\\n\\x06offset=[\\xd6j\\xbd=\\xc6\\x01a\\xbc=\\xe4\\xefq==\\xd6\\xea\\x98<=\\x85|\\x10\\xbf=\\xe1\\xe6\\x87\\xbf=l\\x9d\\x85?=\\xd8\\xcb\\t?=\\xeb\\x07\\xb2\\xc0={\\x14\\x92A\\xa0\\x01\\x06*<\\n\\x0...xbc,>=\\x80.\\xaa==\\xa6\\x1c&==g\\x99\\xa3<=\\xcd\\xb7\"<=\\x02\\xdc\\xa2;=\\xc6\\x9d\";=\\xec8\\xa3:=P3\":\\xa0\\x01\\x06:\\nai.onnx.ml\\x12\\x1emlprodict_ONNX(StandardScaler)Z\\x11\\n\\x01X\\x12\\x0c\\n\\n\\x08\\x01\\x12\\x06\\n\\x00\\n\\x02\\x08\\nb\\x18\\n\\x08variable\\x12\\x0c\\n\\n\\x08\\x01\\x12\\x06\\n\\x00\\n\\x02\\x08\\nB\\x0e\\n\\nai.onnx.ml\\x10\\x01')),\n",
              "                    ('dt', DecisionTreeRegressor(max_depth=5))])"
            ]
          },
          "execution_count": 16,
          "metadata": {},
          "output_type": "execute_result"
        }
      ],
      "source": [
        "from mlprodict.sklapi import OnnxPipeline\n",
        "\n",
        "model_onx = OnnxPipeline([\n",
        "    ('scaler', StandardScaler()),\n",
        "    ('dt', DecisionTreeRegressor(max_depth=max_depth))\n",
        "])\n",
        "model_onx.fit(Xi_train, yi_train)"
      ]
    },
    {
      "cell_type": "markdown",
      "metadata": {},
      "source": [
        "We see that the first steps was replaced by an object *OnnxTransformer* which wraps an ONNX file into a transformer following the *scikit-learn* API. The initial steps is still available."
      ]
    },
    {
      "cell_type": "code",
      "execution_count": 16,
      "metadata": {},
      "outputs": [
        {
          "data": {
            "text/plain": [
              "[('scaler', StandardScaler()), ('dt', DecisionTreeRegressor(max_depth=5))]"
            ]
          },
          "execution_count": 17,
          "metadata": {},
          "output_type": "execute_result"
        }
      ],
      "source": [
        "model_onx.raw_steps_"
      ]
    },
    {
      "cell_type": "code",
      "execution_count": 17,
      "metadata": {},
      "outputs": [],
      "source": [
        "models = [\n",
        "    ('bug', Xi_test.astype(numpy.float32), model),\n",
        "    ('OnnxPipeline', Xi_test.astype(numpy.float32), model_onx),\n",
        "]"
      ]
    },
    {
      "cell_type": "code",
      "execution_count": 18,
      "metadata": {
        "scrolled": false
      },
      "outputs": [
        {
          "data": {
            "text/html": [
              "<div>\n",
              "<style scoped>\n",
              "    .dataframe tbody tr th:only-of-type {\n",
              "        vertical-align: middle;\n",
              "    }\n",
              "\n",
              "    .dataframe tbody tr th {\n",
              "        vertical-align: top;\n",
              "    }\n",
              "\n",
              "    .dataframe thead th {\n",
              "        text-align: right;\n",
              "    }\n",
              "</style>\n",
              "<table border=\"1\" class=\"dataframe\">\n",
              "  <thead>\n",
              "    <tr style=\"text-align: right;\">\n",
              "      <th></th>\n",
              "      <th>runtime</th>\n",
              "      <th>diff</th>\n",
              "      <th>name</th>\n",
              "      <th>v[144]</th>\n",
              "    </tr>\n",
              "  </thead>\n",
              "  <tbody>\n",
              "    <tr>\n",
              "      <th>0</th>\n",
              "      <td>sklearn</td>\n",
              "      <td>0.000000</td>\n",
              "      <td>sklearn</td>\n",
              "      <td>300.412797</td>\n",
              "    </tr>\n",
              "    <tr>\n",
              "      <th>1</th>\n",
              "      <td>python</td>\n",
              "      <td>0.000014</td>\n",
              "      <td>bug</td>\n",
              "      <td>300.412811</td>\n",
              "    </tr>\n",
              "    <tr>\n",
              "      <th>2</th>\n",
              "      <td>python_compiled</td>\n",
              "      <td>0.000014</td>\n",
              "      <td>bug</td>\n",
              "      <td>300.412811</td>\n",
              "    </tr>\n",
              "    <tr>\n",
              "      <th>3</th>\n",
              "      <td>onnxruntime1</td>\n",
              "      <td>0.000014</td>\n",
              "      <td>bug</td>\n",
              "      <td>300.412811</td>\n",
              "    </tr>\n",
              "    <tr>\n",
              "      <th>4</th>\n",
              "      <td>python</td>\n",
              "      <td>0.000014</td>\n",
              "      <td>OnnxPipeline</td>\n",
              "      <td>300.412811</td>\n",
              "    </tr>\n",
              "    <tr>\n",
              "      <th>5</th>\n",
              "      <td>python_compiled</td>\n",
              "      <td>0.000014</td>\n",
              "      <td>OnnxPipeline</td>\n",
              "      <td>300.412811</td>\n",
              "    </tr>\n",
              "    <tr>\n",
              "      <th>6</th>\n",
              "      <td>onnxruntime1</td>\n",
              "      <td>0.000014</td>\n",
              "      <td>OnnxPipeline</td>\n",
              "      <td>300.412811</td>\n",
              "    </tr>\n",
              "  </tbody>\n",
              "</table>\n",
              "</div>"
            ],
            "text/plain": [
              "           runtime      diff          name      v[144]\n",
              "0          sklearn  0.000000       sklearn  300.412797\n",
              "1           python  0.000014           bug  300.412811\n",
              "2  python_compiled  0.000014           bug  300.412811\n",
              "3     onnxruntime1  0.000014           bug  300.412811\n",
              "4           python  0.000014  OnnxPipeline  300.412811\n",
              "5  python_compiled  0.000014  OnnxPipeline  300.412811\n",
              "6     onnxruntime1  0.000014  OnnxPipeline  300.412811"
            ]
          },
          "execution_count": 19,
          "metadata": {},
          "output_type": "execute_result"
        }
      ],
      "source": [
        "obs = [dict(runtime='sklearn', diff=0, name='sklearn')]\n",
        "for name, x32, mod in models:\n",
        "    for runtime in ['python', 'python_compiled', 'onnxruntime1']:\n",
        "        lonx = to_onnx(mod, x32[:1])\n",
        "        loinf = OnnxInference(lonx, runtime=runtime)\n",
        "        y_skl = mod.predict(X32)\n",
        "        y_onx = loinf.run({'X': X32})['variable']\n",
        "        delta = numpy.abs(y_skl - y_onx.ravel())\n",
        "        am = delta.argmax()\n",
        "        obs.append(dict(runtime=runtime, diff=delta.max(), name=name))\n",
        "        obs[-1]['v[%d]' % am] = y_onx.ravel()[am]\n",
        "        obs[0]['v[%d]' % am] = y_skl.ravel()[am]\n",
        "\n",
        "df = pandas.DataFrame(obs)\n",
        "df"
      ]
    },
    {
      "cell_type": "markdown",
      "metadata": {},
      "source": [
        "Training the next steps based on ONNX outputs is better. This is not completely satisfactory... Let's check the accuracy."
      ]
    },
    {
      "cell_type": "code",
      "execution_count": 19,
      "metadata": {},
      "outputs": [
        {
          "data": {
            "text/plain": [
              "(0.5230197935582286, 0.5230197935582286)"
            ]
          },
          "execution_count": 20,
          "metadata": {},
          "output_type": "execute_result"
        }
      ],
      "source": [
        "model.score(Xi_test, yi_test), model_onx.score(Xi_test, yi_test)"
      ]
    },
    {
      "cell_type": "markdown",
      "metadata": {},
      "source": [
        "Pretty close."
      ]
    },
    {
      "cell_type": "code",
      "execution_count": 20,
      "metadata": {},
      "outputs": [],
      "source": []
    }
  ],
  "metadata": {
    "kernelspec": {
      "display_name": "Python 3",
      "language": "python",
      "name": "python3"
    },
    "language_info": {
      "codemirror_mode": {
        "name": "ipython",
        "version": 3
      },
      "file_extension": ".py",
      "mimetype": "text/x-python",
      "name": "python",
      "nbconvert_exporter": "python",
      "pygments_lexer": "ipython3",
      "version": "3.7.2"
    }
  },
  "nbformat": 4,
  "nbformat_minor": 4
}