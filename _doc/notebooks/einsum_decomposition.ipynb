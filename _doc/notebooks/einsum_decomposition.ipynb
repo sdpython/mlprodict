{
  "cells": [
    {
      "cell_type": "markdown",
      "metadata": {},
      "source": [
        "# Einsum decomposition\n",
        "\n",
        "This notebook shows a way to decompose [einsum](https://numpy.org/doc/stable/reference/generated/numpy.einsum.html) into a subset of operations (expand_dims, squeeze, transpose, extended matrix multiplication)."
      ]
    },
    {
      "cell_type": "code",
      "execution_count": 1,
      "metadata": {},
      "outputs": [
        {
          "data": {
            "text/html": [
              "<div id=\"my_id_menu_nb\">run previous cell, wait for 2 seconds</div>\n",
              "<script>\n",
              "function repeat_indent_string(n){\n",
              "    var a = \"\" ;\n",
              "    for ( ; n > 0 ; --n)\n",
              "        a += \"    \";\n",
              "    return a;\n",
              "}\n",
              "// look up into all sections and builds an automated menu //\n",
              "var update_menu_string = function(begin, lfirst, llast, sformat, send, keep_item, begin_format, end_format) {\n",
              "    var anchors = document.getElementsByClassName(\"section\");\n",
              "    if (anchors.length == 0) {\n",
              "        anchors = document.getElementsByClassName(\"text_cell_render rendered_html\");\n",
              "    }\n",
              "    var i,t;\n",
              "    var text_menu = begin;\n",
              "    var text_memo = \"<pre>\\nlength:\" + anchors.length + \"\\n\";\n",
              "    var ind = \"\";\n",
              "    var memo_level = 1;\n",
              "    var href;\n",
              "    var tags = [];\n",
              "    var main_item = 0;\n",
              "    var format_open = 0;\n",
              "    for (i = 0; i <= llast; i++)\n",
              "        tags.push(\"h\" + i);\n",
              "\n",
              "    for (i = 0; i < anchors.length; i++) {\n",
              "        text_memo += \"**\" + anchors[i].id + \"--\\n\";\n",
              "\n",
              "        var child = null;\n",
              "        for(t = 0; t < tags.length; t++) {\n",
              "            var r = anchors[i].getElementsByTagName(tags[t]);\n",
              "            if (r.length > 0) {\n",
              "child = r[0];\n",
              "break;\n",
              "            }\n",
              "        }\n",
              "        if (child == null) {\n",
              "            text_memo += \"null\\n\";\n",
              "            continue;\n",
              "        }\n",
              "        if (anchors[i].hasAttribute(\"id\")) {\n",
              "            // when converted in RST\n",
              "            href = anchors[i].id;\n",
              "            text_memo += \"#1-\" + href;\n",
              "            // passer \u00e0 child suivant (le chercher)\n",
              "        }\n",
              "        else if (child.hasAttribute(\"id\")) {\n",
              "            // in a notebook\n",
              "            href = child.id;\n",
              "            text_memo += \"#2-\" + href;\n",
              "        }\n",
              "        else {\n",
              "            text_memo += \"#3-\" + \"*\" + \"\\n\";\n",
              "            continue;\n",
              "        }\n",
              "        var title = child.textContent;\n",
              "        var level = parseInt(child.tagName.substring(1,2));\n",
              "\n",
              "        text_memo += \"--\" + level + \"?\" + lfirst + \"--\" + title + \"\\n\";\n",
              "\n",
              "        if ((level < lfirst) || (level > llast)) {\n",
              "            continue ;\n",
              "        }\n",
              "        if (title.endsWith('\u00b6')) {\n",
              "            title = title.substring(0,title.length-1).replace(\"<\", \"&lt;\")\n",
              "         .replace(\">\", \"&gt;\").replace(\"&\", \"&amp;\");\n",
              "        }\n",
              "        if (title.length == 0) {\n",
              "            continue;\n",
              "        }\n",
              "\n",
              "        while (level < memo_level) {\n",
              "            text_menu += end_format + \"</ul>\\n\";\n",
              "            format_open -= 1;\n",
              "            memo_level -= 1;\n",
              "        }\n",
              "        if (level == lfirst) {\n",
              "            main_item += 1;\n",
              "        }\n",
              "        if (keep_item != -1 && main_item != keep_item + 1) {\n",
              "            // alert(main_item + \" - \" + level + \" - \" + keep_item);\n",
              "            continue;\n",
              "        }\n",
              "        while (level > memo_level) {\n",
              "            text_menu += \"<ul>\\n\";\n",
              "            memo_level += 1;\n",
              "        }\n",
              "        text_menu += repeat_indent_string(level-2);\n",
              "        text_menu += begin_format + sformat.replace(\"__HREF__\", href).replace(\"__TITLE__\", title);\n",
              "        format_open += 1;\n",
              "    }\n",
              "    while (1 < memo_level) {\n",
              "        text_menu += end_format + \"</ul>\\n\";\n",
              "        memo_level -= 1;\n",
              "        format_open -= 1;\n",
              "    }\n",
              "    text_menu += send;\n",
              "    //text_menu += \"\\n\" + text_memo;\n",
              "\n",
              "    while (format_open > 0) {\n",
              "        text_menu += end_format;\n",
              "        format_open -= 1;\n",
              "    }\n",
              "    return text_menu;\n",
              "};\n",
              "var update_menu = function() {\n",
              "    var sbegin = \"\";\n",
              "    var sformat = '<a href=\"#__HREF__\">__TITLE__</a>';\n",
              "    var send = \"\";\n",
              "    var begin_format = '<li>';\n",
              "    var end_format = '</li>';\n",
              "    var keep_item = -1;\n",
              "    var text_menu = update_menu_string(sbegin, 2, 4, sformat, send, keep_item,\n",
              "       begin_format, end_format);\n",
              "    var menu = document.getElementById(\"my_id_menu_nb\");\n",
              "    menu.innerHTML=text_menu;\n",
              "};\n",
              "window.setTimeout(update_menu,2000);\n",
              "            </script>"
            ],
            "text/plain": [
              "<IPython.core.display.HTML object>"
            ]
          },
          "execution_count": 2,
          "metadata": {},
          "output_type": "execute_result"
        }
      ],
      "source": [
        "from jyquickhelper import add_notebook_menu\n",
        "add_notebook_menu()"
      ]
    },
    {
      "cell_type": "code",
      "execution_count": 2,
      "metadata": {},
      "outputs": [],
      "source": [
        "%load_ext mlprodict"
      ]
    },
    {
      "cell_type": "markdown",
      "metadata": {},
      "source": [
        "## Operator explanation with equation bac,cd,def->ebc\n",
        "\n",
        "The operator einsum takes an equation and some inputs. Every letter involved in the equation is a loop. Let's see on one example."
      ]
    },
    {
      "cell_type": "code",
      "execution_count": 3,
      "metadata": {},
      "outputs": [
        {
          "data": {
            "text/plain": [
              "array([[[ 8866198.,  9864696.],\n",
              "        [12090270., 13152928.]],\n",
              "\n",
              "       [[ 8883886.,  9884376.],\n",
              "        [12114390., 13179168.]]], dtype=float32)"
            ]
          },
          "execution_count": 4,
          "metadata": {},
          "output_type": "execute_result"
        }
      ],
      "source": [
        "import numpy\n",
        "\n",
        "m1 = numpy.arange(0, 8).astype(numpy.float32).reshape((2, 2, 2)) + 10\n",
        "m2 = numpy.arange(0, 4).astype(numpy.float32).reshape((2, 2)) + 100\n",
        "m3 = numpy.arange(0, 8).astype(numpy.float32).reshape((2, 2, 2)) + 1000\n",
        "\n",
        "equation = \"bac,cd,def->ebc\"\n",
        "truth = numpy.einsum(equation, m1, m2, m3)\n",
        "truth"
      ]
    },
    {
      "cell_type": "markdown",
      "metadata": {},
      "source": [
        "This summation is equalent to:"
      ]
    },
    {
      "cell_type": "code",
      "execution_count": 4,
      "metadata": {},
      "outputs": [
        {
          "data": {
            "text/plain": [
              "array([[[ 8866198.,  9864696.],\n",
              "        [12090270., 13152928.]],\n",
              "\n",
              "       [[ 8883886.,  9884376.],\n",
              "        [12114390., 13179168.]]])"
            ]
          },
          "execution_count": 5,
          "metadata": {},
          "output_type": "execute_result"
        }
      ],
      "source": [
        "res = numpy.zeros((2, 2, 2))\n",
        "for a in range(0, 2):\n",
        "    for b in range(0, 2):\n",
        "        for c in range(0, 2):\n",
        "            for d in range(0, 2):\n",
        "                for e in range(0, 2):\n",
        "                    for f in range(0, 2):\n",
        "                        res[e, b, c] += m1[b, a, c] * m2[c, d] * m3[d, e, f]\n",
        "res"
      ]
    },
    {
      "cell_type": "markdown",
      "metadata": {},
      "source": [
        "Theoritically, this summation is in this case has a cost of $O(N^6)$. However this simple computation is usually much longer than using matrix multiplications along the path. $O(N^4)$ is the cost of the heaviest matrix multiplication in this case). But to do that, the equation needs to be decomposed into a sequence of matrix multiplications."
      ]
    },
    {
      "cell_type": "markdown",
      "metadata": {},
      "source": [
        "## Decomposition of bac,cd,def->ebc"
      ]
    },
    {
      "cell_type": "code",
      "execution_count": 5,
      "metadata": {},
      "outputs": [],
      "source": [
        "import numpy\n",
        "from mlprodict.testing.einsum_impl import (\n",
        "    decompose_einsum_equation, apply_einsum_sequence)"
      ]
    },
    {
      "cell_type": "code",
      "execution_count": 6,
      "metadata": {},
      "outputs": [],
      "source": [
        "m1 = numpy.arange(0, 8).astype(numpy.float32).reshape((2, 2, 2)) + 10\n",
        "m2 = numpy.arange(0, 4).astype(numpy.float32).reshape((2, 2)) + 100\n",
        "m3 = numpy.arange(0, 8).astype(numpy.float32).reshape((2, 2, 2)) + 1000"
      ]
    },
    {
      "cell_type": "code",
      "execution_count": 7,
      "metadata": {},
      "outputs": [],
      "source": [
        "seq = decompose_einsum_equation(\"bac,cd,def->ebc\", m1.shape, m2.shape, m3.shape)"
      ]
    },
    {
      "cell_type": "code",
      "execution_count": 8,
      "metadata": {},
      "outputs": [
        {
          "data": {
            "text/html": [
              "<div id=\"M36af67dab81b4646a4a2178fae15ef4d-cont\"><div id=\"M36af67dab81b4646a4a2178fae15ef4d\" style=\"width:100%;height:100%;\"></div></div>\n",
              "<script>\n",
              "\n",
              "require(['http://www.xavierdupre.fr/js/vizjs/viz.js'], function() { var svgGraph = Viz(\"digraph{\\norientation=portrait;\\nranksep=0.25;\\nnodesep=0.05;\\nwidth=0.5;\\nheight=0.1;\\nsize=7;\\nnode [shape=record];\\n0 [label=\\\"input 0\\\\nbac\\\\n[ 1  0  2 -1 -1 -1]\\\"];\\n2415586962496 [label=\\\"id\\\\nNone\\\"];\\n0 -> 2415586962496;\\n2414170525408 [label=\\\"expand_dims\\\\naxes=((3, 3), (3, 4), (3, 5))None\\\"];\\n2415586962496 -> 2414170525408;\\n2414170524880 [label=\\\"transpose\\\\nperm=(1, 0, 2, 3, 4, 5)None\\\"];\\n2414170525408 -> 2414170524880;\\n2414170525456 [label=\\\"reduce_sum - I0\\\\naxes=(0,)None\\\" style=filled fillcolor=red];\\n2414170524880 -> 2414170525456;\\n1 [label=\\\"input 1\\\\ncd\\\\n[-1 -1  0  1 -1 -1]\\\"];\\n2414170575488 [label=\\\"id\\\\nNone\\\"];\\n1 -> 2414170575488;\\n2414170575392 [label=\\\"expand_dims\\\\naxes=((0, 0), (0, 1), (2, 4), (2, 5))None\\\"];\\n2414170575488 -> 2414170575392;\\n2414170576448 [label=\\\"matmul - I1\\\\naxes=() left=(1, 2) ndim=6 right=(2, 3)\\\\n~aBCdef,abCDef-\\\\>aBCDef\\\" style=filled fillcolor=red];\\n2414170525456 -> 2414170576448;\\n2414170575392 -> 2414170576448;\\n2 [label=\\\"input 2\\\\ndef\\\\n[-1 -1 -1  0  1  2]\\\"];\\n2414170576112 [label=\\\"id\\\\nNone\\\"];\\n2 -> 2414170576112;\\n2414170576688 [label=\\\"expand_dims\\\\naxes=((0, 0), (0, 1), (0, 2))None\\\"];\\n2414170576112 -> 2414170576688;\\n2414170576208 [label=\\\"reduce_sum\\\\naxes=(5,)None\\\"];\\n2414170576688 -> 2414170576208;\\n2414170577552 [label=\\\"matmul - I2\\\\naxes=(3,) left=(1, 2) ndim=6 right=(4,)\\\\n~aBCdef,abcdEf-\\\\>aBCEf\\\" style=filled fillcolor=red];\\n2414170576448 -> 2414170577552;\\n2414170576208 -> 2414170577552;\\n2415586962256 [label=\\\"transpose\\\\nperm=(0, 4, 1, 3, 2, 5)None\\\"];\\n2414170577552 -> 2415586962256;\\n2414170576016 [label=\\\"squeeze - I-1\\\\naxes=(0, 3, 5)None\\\" style=filled fillcolor=red];\\n2415586962256 -> 2414170576016;\\n}\");\n",
              "document.getElementById('M36af67dab81b4646a4a2178fae15ef4d').innerHTML = svgGraph; });\n",
              "\n",
              "</script>"
            ],
            "text/plain": [
              "<jyquickhelper.jspy.render_nb_js_dot.RenderJsDot at 0x23217c79e50>"
            ]
          },
          "execution_count": 9,
          "metadata": {},
          "output_type": "execute_result"
        }
      ],
      "source": [
        "from jyquickhelper import RenderJsDot\n",
        "RenderJsDot(seq.to_dot(size=7))"
      ]
    },
    {
      "cell_type": "markdown",
      "metadata": {},
      "source": [
        "Then the result can be obtained as follows:"
      ]
    },
    {
      "cell_type": "code",
      "execution_count": 9,
      "metadata": {},
      "outputs": [
        {
          "data": {
            "text/plain": [
              "array([[[ 8866198.,  9864696.],\n",
              "        [12090270., 13152928.]],\n",
              "\n",
              "       [[ 8883886.,  9884376.],\n",
              "        [12114390., 13179168.]]], dtype=float32)"
            ]
          },
          "execution_count": 10,
          "metadata": {},
          "output_type": "execute_result"
        }
      ],
      "source": [
        "apply_einsum_sequence(seq, m1, m2, m3)"
      ]
    },
    {
      "cell_type": "markdown",
      "metadata": {},
      "source": [
        "## operator matmul\n",
        "\n",
        "This operator can be used to represent either a multiplication, either a matrix multiplication but it applies only on arrays with the same number of dimensions. It can be broken into multiplication of matrix multiplication."
      ]
    },
    {
      "cell_type": "code",
      "execution_count": 10,
      "metadata": {},
      "outputs": [
        {
          "data": {
            "text/html": [
              "<div id=\"Mb46cd80425974519810ee9a61f0ec404-cont\"><div id=\"Mb46cd80425974519810ee9a61f0ec404\" style=\"width:100%;height:100%;\"></div></div>\n",
              "<script>\n",
              "\n",
              "require(['http://www.xavierdupre.fr/js/vizjs/viz.js'], function() { var svgGraph = Viz(\"digraph{\\norientation=portrait;\\nranksep=0.25;\\nnodesep=0.05;\\nwidth=0.5;\\nheight=0.1;\\nsize=7;\\nnode [shape=record];\\n0 [label=\\\"input 0\\\\nbac\\\\n[ 1  0  2 -1 -1 -1]\\\"];\\n2414170578608 [label=\\\"id\\\\nNone\\\"];\\n0 -> 2414170578608;\\n2414170577168 [label=\\\"expand_dims\\\\naxes=((3, 3), (3, 4), (3, 5))None\\\"];\\n2414170578608 -> 2414170577168;\\n2414170578128 [label=\\\"transpose\\\\nperm=(1, 0, 2, 3, 4, 5)None\\\"];\\n2414170577168 -> 2414170578128;\\n2414170578416 [label=\\\"reduce_sum - I0\\\\naxes=(0,)None\\\" style=filled fillcolor=red];\\n2414170578128 -> 2414170578416;\\n1 [label=\\\"input 1\\\\ncd\\\\n[-1 -1  0  1 -1 -1]\\\"];\\n2414170612400 [label=\\\"id\\\\nNone\\\"];\\n1 -> 2414170612400;\\n2414170613216 [label=\\\"expand_dims\\\\naxes=((0, 0), (0, 1), (2, 4), (2, 5))None\\\"];\\n2414170612400 -> 2414170613216;\\n2414170612640 [label=\\\"transpose\\\\nperm=(0, 2, 4, 5, 1, 3)None\\\"];\\n2414170578416 -> 2414170612640;\\n2414170613264 [label=\\\"transpose\\\\nperm=(0, 2, 4, 5, 1, 3)None\\\"];\\n2414170613216 -> 2414170613264;\\n2414170612736 [label=\\\"batch_dot\\\\nbatch_axes=(0, 1, 2, 3) keep_axes=None left=(1, 4) ndim=6 right=(1, 5) sum_axes=()None\\\"];\\n2414170612640 -> 2414170612736;\\n2414170613264 -> 2414170612736;\\n2414170612592 [label=\\\"transpose - I1\\\\nperm=(0, 4, 1, 5, 2, 3)None\\\" style=filled fillcolor=red];\\n2414170612736 -> 2414170612592;\\n2 [label=\\\"input 2\\\\ndef\\\\n[-1 -1 -1  0  1  2]\\\"];\\n2414170613312 [label=\\\"id\\\\nNone\\\"];\\n2 -> 2414170613312;\\n2414170613168 [label=\\\"expand_dims\\\\naxes=((0, 0), (0, 1), (0, 2))None\\\"];\\n2414170613312 -> 2414170613168;\\n2414170613072 [label=\\\"reduce_sum\\\\naxes=(5,)None\\\"];\\n2414170613168 -> 2414170613072;\\n2414170613936 [label=\\\"transpose\\\\nperm=(0, 5, 1, 2, 4, 3)None\\\"];\\n2414170612592 -> 2414170613936;\\n2414170613792 [label=\\\"transpose\\\\nperm=(0, 5, 1, 2, 4, 3)None\\\"];\\n2414170613072 -> 2414170613792;\\n2414170613984 [label=\\\"batch_dot\\\\nbatch_axes=(0, 1) keep_axes=None left=(2, 3) ndim=6 right=(4,) sum_axes=(5,)None\\\"];\\n2414170613936 -> 2414170613984;\\n2414170613792 -> 2414170613984;\\n2414170614080 [label=\\\"transpose - I2\\\\nperm=(0, 2, 3, 5, 4, 1)None\\\" style=filled fillcolor=red];\\n2414170613984 -> 2414170614080;\\n2414170578176 [label=\\\"transpose\\\\nperm=(0, 4, 1, 3, 2, 5)None\\\"];\\n2414170614080 -> 2414170578176;\\n2414170613888 [label=\\\"squeeze - I-1\\\\naxes=(0, 3, 5)None\\\" style=filled fillcolor=red];\\n2414170578176 -> 2414170613888;\\n}\");\n",
              "document.getElementById('Mb46cd80425974519810ee9a61f0ec404').innerHTML = svgGraph; });\n",
              "\n",
              "</script>"
            ],
            "text/plain": [
              "<jyquickhelper.jspy.render_nb_js_dot.RenderJsDot at 0x23217c79c70>"
            ]
          },
          "execution_count": 11,
          "metadata": {},
          "output_type": "execute_result"
        }
      ],
      "source": [
        "seq_clean = decompose_einsum_equation(\"bac,cd,def->ebc\", m1.shape, m2.shape, m3.shape, \n",
        "                                       strategy='numpy', clean=True)\n",
        "RenderJsDot(seq_clean.to_dot(size=7))"
      ]
    },
    {
      "cell_type": "markdown",
      "metadata": {},
      "source": [
        "Operator *transpose_mm* is a regular transposition, it takes two inputs but only tranposes the first input before returning it. Operator *batch_dot* is a matrix multiplication. It is left that way on purpose as it may be implemented with function dot or gemm. The operator distinguishes between 3 kind of axes: batch axes, kept axes, sum(mation) axes. It then reshapes both input matrices with 3D tensors, batch axis, row axis, column axis to use function [numpy.dot](https://numpy.org/doc/stable/reference/generated/numpy.dot.html)."
      ]
    },
    {
      "cell_type": "markdown",
      "metadata": {},
      "source": [
        "## ONNX\n",
        "\n",
        "The previous graph can be converted into ONNX."
      ]
    },
    {
      "cell_type": "code",
      "execution_count": 11,
      "metadata": {},
      "outputs": [
        {
          "data": {
            "text/html": [
              "<div id=\"M3a7acf89d4594ba09fd8341f5c18fd40-cont\"><div id=\"M3a7acf89d4594ba09fd8341f5c18fd40\" style=\"width:100%;height:100%;\"></div></div>\n",
              "<script>\n",
              "\n",
              "require(['http://www.xavierdupre.fr/js/vizjs/viz.js'], function() { var svgGraph = Viz(\"digraph{\\n  ranksep=0.25;\\n  size=None;\\n  orientation=portrait;\\n  nodesep=0.05;\\n\\n  X1 [shape=box color=red label=\\\"X1\\nfloat((0, 0, 0))\\\" fontsize=10];\\n  X2 [shape=box color=red label=\\\"X2\\nfloat((0, 0))\\\" fontsize=10];\\n  X3 [shape=box color=red label=\\\"X3\\nfloat((0, 0, 0))\\\" fontsize=10];\\n\\n  Y [shape=box color=green label=\\\"Y\\nfloat((0, 0, 0))\\\" fontsize=10];\\n\\n  einsum2414170578608_id_axes [shape=box label=\\\"einsum2414170578608_id_axes\\nint64((3,))\\n[3 4 5]\\\" fontsize=10];\\n  einsum2414170578416_re_axes [shape=box label=\\\"einsum2414170578416_re_axes\\nint64((1,))\\n[0]\\\" fontsize=10];\\n  einsum2414170612400_id_axes [shape=box label=\\\"einsum2414170612400_id_axes\\nint64((4,))\\n[0 1 4 5]\\\" fontsize=10];\\n  einsum2414170612736_ba_batch_axes [shape=box label=\\\"einsum2414170612736_ba_batch_axes\\nint64((4,))\\n[0 1 2 3]\\\" fontsize=10];\\n  einsum2414170612736_ba_sum_axes [shape=box label=\\\"einsum2414170612736_ba_sum_axes\\nint64((0,))\\n[]\\\" fontsize=10];\\n  einsum2414170612736_ba__1 [shape=box label=\\\"einsum2414170612736_ba__1\\nint64((1,))\\n[-1]\\\" fontsize=10];\\n  einsum2414170612736_ba_left_set [shape=box label=\\\"einsum2414170612736_ba_left_set\\nint64((1,))\\n[4]\\\" fontsize=10];\\n  einsum2414170612736_ba_right_set [shape=box label=\\\"einsum2414170612736_ba_right_set\\nint64((1,))\\n[5]\\\" fontsize=10];\\n  einsum2414170613312_id_axes [shape=box label=\\\"einsum2414170613312_id_axes\\nint64((3,))\\n[0 1 2]\\\" fontsize=10];\\n  einsum2414170613072_re_axes [shape=box label=\\\"einsum2414170613072_re_axes\\nint64((1,))\\n[5]\\\" fontsize=10];\\n  einsum2414170613984_ba_batch_axes [shape=box label=\\\"einsum2414170613984_ba_batch_axes\\nint64((2,))\\n[0 1]\\\" fontsize=10];\\n  einsum2414170613984_ba_sum_axes [shape=box label=\\\"einsum2414170613984_ba_sum_axes\\nint64((1,))\\n[5]\\\" fontsize=10];\\n  einsum2414170613984_ba__1 [shape=box label=\\\"einsum2414170613984_ba__1\\nint64((1,))\\n[-1]\\\" fontsize=10];\\n  einsum2414170613984_ba_left_set [shape=box label=\\\"einsum2414170613984_ba_left_set\\nint64((2,))\\n[2 3]\\\" fontsize=10];\\n  einsum2414170613984_ba_right_set [shape=box label=\\\"einsum2414170613984_ba_right_set\\nint64((1,))\\n[4]\\\" fontsize=10];\\n  einsum2414170613984_ba_ones [shape=box label=\\\"einsum2414170613984_ba_ones\\nint64((1,))\\n[1]\\\" fontsize=10];\\n  einsum2414170578176_tr_axes [shape=box label=\\\"einsum2414170578176_tr_axes\\nint64((3,))\\n[0 3 5]\\\" fontsize=10];\\n\\n  einsum2414170578608_id [shape=box label=\\\"einsum2414170578608_id\\\" fontsize=10];\\n  Identity [shape=box style=\\\"filled,rounded\\\" color=orange label=\\\"Identity\\n(Identity)\\\" fontsize=10];\\n  X1 -> Identity;\\n  Identity -> einsum2414170578608_id;\\n\\n  einsum2414170577168_ex [shape=box label=\\\"einsum2414170577168_ex\\\" fontsize=10];\\n  Unsqueeze [shape=box style=\\\"filled,rounded\\\" color=orange label=\\\"Unsqueeze\\n(Unsqueeze)\\\" fontsize=10];\\n  einsum2414170578608_id -> Unsqueeze;\\n  einsum2414170578608_id_axes -> Unsqueeze;\\n  Unsqueeze -> einsum2414170577168_ex;\\n\\n  einsum2414170578128_tr [shape=box label=\\\"einsum2414170578128_tr\\\" fontsize=10];\\n  Transpose [shape=box style=\\\"filled,rounded\\\" color=orange label=\\\"Transpose\\n(Transpose)\\nperm=[1 0 2 3 4 5]\\\" fontsize=10];\\n  einsum2414170577168_ex -> Transpose;\\n  Transpose -> einsum2414170578128_tr;\\n\\n  einsum2414170578416_re [shape=box label=\\\"einsum2414170578416_re\\\" fontsize=10];\\n  ReduceSum [shape=box style=\\\"filled,rounded\\\" color=orange label=\\\"ReduceSum\\n(ReduceSum)\\nkeepdims=1\\\" fontsize=10];\\n  einsum2414170578128_tr -> ReduceSum;\\n  einsum2414170578416_re_axes -> ReduceSum;\\n  ReduceSum -> einsum2414170578416_re;\\n\\n  einsum2414170612400_id [shape=box label=\\\"einsum2414170612400_id\\\" fontsize=10];\\n  Identity1 [shape=box style=\\\"filled,rounded\\\" color=orange label=\\\"Identity\\n(Identity1)\\\" fontsize=10];\\n  X2 -> Identity1;\\n  Identity1 -> einsum2414170612400_id;\\n\\n  einsum2414170613216_ex [shape=box label=\\\"einsum2414170613216_ex\\\" fontsize=10];\\n  Unsqueeze1 [shape=box style=\\\"filled,rounded\\\" color=orange label=\\\"Unsqueeze\\n(Unsqueeze1)\\\" fontsize=10];\\n  einsum2414170612400_id -> Unsqueeze1;\\n  einsum2414170612400_id_axes -> Unsqueeze1;\\n  Unsqueeze1 -> einsum2414170613216_ex;\\n\\n  einsum2414170612640_tr [shape=box label=\\\"einsum2414170612640_tr\\\" fontsize=10];\\n  Transpose1 [shape=box style=\\\"filled,rounded\\\" color=orange label=\\\"Transpose\\n(Transpose1)\\nperm=[0 2 4 5 1 3]\\\" fontsize=10];\\n  einsum2414170578416_re -> Transpose1;\\n  Transpose1 -> einsum2414170612640_tr;\\n\\n  einsum2414170613264_tr [shape=box label=\\\"einsum2414170613264_tr\\\" fontsize=10];\\n  Transpose12 [shape=box style=\\\"filled,rounded\\\" color=orange label=\\\"Transpose\\n(Transpose12)\\nperm=[0 2 4 5 1 3]\\\" fontsize=10];\\n  einsum2414170613216_ex -> Transpose12;\\n  Transpose12 -> einsum2414170613264_tr;\\n\\n  einsum2414170612736_ba_shape1 [shape=box label=\\\"einsum2414170612736_ba_shape1\\\" fontsize=10];\\n  Shape [shape=box style=\\\"filled,rounded\\\" color=orange label=\\\"Shape\\n(Shape)\\\" fontsize=10];\\n  einsum2414170612640_tr -> Shape;\\n  Shape -> einsum2414170612736_ba_shape1;\\n\\n  einsum2414170612736_ba_shape2 [shape=box label=\\\"einsum2414170612736_ba_shape2\\\" fontsize=10];\\n  Shape1 [shape=box style=\\\"filled,rounded\\\" color=orange label=\\\"Shape\\n(Shape1)\\\" fontsize=10];\\n  einsum2414170613264_tr -> Shape1;\\n  Shape1 -> einsum2414170612736_ba_shape2;\\n\\n  einsum2414170612736_ba_dim0g [shape=box label=\\\"einsum2414170612736_ba_dim0g\\\" fontsize=10];\\n  Gather [shape=box style=\\\"filled,rounded\\\" color=orange label=\\\"Gather\\n(Gather)\\\" fontsize=10];\\n  einsum2414170612736_ba_shape1 -> Gather;\\n  einsum2414170612736_ba_batch_axes -> Gather;\\n  Gather -> einsum2414170612736_ba_dim0g;\\n\\n  einsum2414170612736_ba_dim0bg [shape=box label=\\\"einsum2414170612736_ba_dim0bg\\\" fontsize=10];\\n  Gather1 [shape=box style=\\\"filled,rounded\\\" color=orange label=\\\"Gather\\n(Gather1)\\\" fontsize=10];\\n  einsum2414170612736_ba_shape2 -> Gather1;\\n  einsum2414170612736_ba_batch_axes -> Gather1;\\n  Gather1 -> einsum2414170612736_ba_dim0bg;\\n\\n  einsum2414170612736_ba_dim0 [shape=box label=\\\"einsum2414170612736_ba_dim0\\\" fontsize=10];\\n  ReduceProd [shape=box style=\\\"filled,rounded\\\" color=orange label=\\\"ReduceProd\\n(ReduceProd)\\nkeepdims=1\\\" fontsize=10];\\n  einsum2414170612736_ba_dim0g -> ReduceProd;\\n  ReduceProd -> einsum2414170612736_ba_dim0;\\n\\n  einsum2414170612736_ba_dim0b [shape=box label=\\\"einsum2414170612736_ba_dim0b\\\" fontsize=10];\\n  ReduceProd1 [shape=box style=\\\"filled,rounded\\\" color=orange label=\\\"ReduceProd\\n(ReduceProd1)\\nkeepdims=1\\\" fontsize=10];\\n  einsum2414170612736_ba_dim0bg -> ReduceProd1;\\n  ReduceProd1 -> einsum2414170612736_ba_dim0b;\\n\\n  einsum2414170612736_ba_dim1g [shape=box label=\\\"einsum2414170612736_ba_dim1g\\\" fontsize=10];\\n  Gather12 [shape=box style=\\\"filled,rounded\\\" color=orange label=\\\"Gather\\n(Gather12)\\\" fontsize=10];\\n  einsum2414170612736_ba_shape1 -> Gather12;\\n  einsum2414170612736_ba_sum_axes -> Gather12;\\n  Gather12 -> einsum2414170612736_ba_dim1g;\\n\\n  einsum2414170612736_ba_dim2g [shape=box label=\\\"einsum2414170612736_ba_dim2g\\\" fontsize=10];\\n  Gather123 [shape=box style=\\\"filled,rounded\\\" color=orange label=\\\"Gather\\n(Gather123)\\\" fontsize=10];\\n  einsum2414170612736_ba_shape2 -> Gather123;\\n  einsum2414170612736_ba_sum_axes -> Gather123;\\n  Gather123 -> einsum2414170612736_ba_dim2g;\\n\\n  einsum2414170612736_ba_dim1 [shape=box label=\\\"einsum2414170612736_ba_dim1\\\" fontsize=10];\\n  ReduceProd12 [shape=box style=\\\"filled,rounded\\\" color=orange label=\\\"ReduceProd\\n(ReduceProd12)\\nkeepdims=1\\\" fontsize=10];\\n  einsum2414170612736_ba_dim1g -> ReduceProd12;\\n  ReduceProd12 -> einsum2414170612736_ba_dim1;\\n\\n  einsum2414170612736_ba_dim2 [shape=box label=\\\"einsum2414170612736_ba_dim2\\\" fontsize=10];\\n  ReduceProd123 [shape=box style=\\\"filled,rounded\\\" color=orange label=\\\"ReduceProd\\n(ReduceProd123)\\nkeepdims=1\\\" fontsize=10];\\n  einsum2414170612736_ba_dim2g -> ReduceProd123;\\n  ReduceProd123 -> einsum2414170612736_ba_dim2;\\n\\n  einsum2414170612736_ba_resh1 [shape=box label=\\\"einsum2414170612736_ba_resh1\\\" fontsize=10];\\n  Concat [shape=box style=\\\"filled,rounded\\\" color=orange label=\\\"Concat\\n(Concat)\\naxis=0\\\" fontsize=10];\\n  einsum2414170612736_ba_dim0 -> Concat;\\n  einsum2414170612736_ba__1 -> Concat;\\n  einsum2414170612736_ba_dim1 -> Concat;\\n  Concat -> einsum2414170612736_ba_resh1;\\n\\n  einsum2414170612736_ba_resh2 [shape=box label=\\\"einsum2414170612736_ba_resh2\\\" fontsize=10];\\n  Concat1 [shape=box style=\\\"filled,rounded\\\" color=orange label=\\\"Concat\\n(Concat1)\\naxis=0\\\" fontsize=10];\\n  einsum2414170612736_ba_dim0b -> Concat1;\\n  einsum2414170612736_ba__1 -> Concat1;\\n  einsum2414170612736_ba_dim2 -> Concat1;\\n  Concat1 -> einsum2414170612736_ba_resh2;\\n\\n  einsum2414170612736_ba_aresh1 [shape=box label=\\\"einsum2414170612736_ba_aresh1\\\" fontsize=10];\\n  Reshape [shape=box style=\\\"filled,rounded\\\" color=orange label=\\\"Reshape\\n(Reshape)\\\" fontsize=10];\\n  einsum2414170612640_tr -> Reshape;\\n  einsum2414170612736_ba_resh1 -> Reshape;\\n  Reshape -> einsum2414170612736_ba_aresh1;\\n\\n  einsum2414170612736_ba_aresh2 [shape=box label=\\\"einsum2414170612736_ba_aresh2\\\" fontsize=10];\\n  Reshape1 [shape=box style=\\\"filled,rounded\\\" color=orange label=\\\"Reshape\\n(Reshape1)\\\" fontsize=10];\\n  einsum2414170613264_tr -> Reshape1;\\n  einsum2414170612736_ba_resh2 -> Reshape1;\\n  Reshape1 -> einsum2414170612736_ba_aresh2;\\n\\n  einsum2414170612736_ba_aresh2_tr [shape=box label=\\\"einsum2414170612736_ba_aresh2_tr\\\" fontsize=10];\\n  Transpose123 [shape=box style=\\\"filled,rounded\\\" color=orange label=\\\"Transpose\\n(Transpose123)\\nperm=[0 2 1]\\\" fontsize=10];\\n  einsum2414170612736_ba_aresh2 -> Transpose123;\\n  Transpose123 -> einsum2414170612736_ba_aresh2_tr;\\n\\n  einsum2414170612736_ba_dot [shape=box label=\\\"einsum2414170612736_ba_dot\\\" fontsize=10];\\n  MatMul [shape=box style=\\\"filled,rounded\\\" color=orange label=\\\"MatMul\\n(MatMul)\\\" fontsize=10];\\n  einsum2414170612736_ba_aresh1 -> MatMul;\\n  einsum2414170612736_ba_aresh2_tr -> MatMul;\\n  MatMul -> einsum2414170612736_ba_dot;\\n\\n  einsum2414170612736_ba_max_dim [shape=box label=\\\"einsum2414170612736_ba_max_dim\\\" fontsize=10];\\n  Max [shape=box style=\\\"filled,rounded\\\" color=orange label=\\\"Max\\n(Max)\\\" fontsize=10];\\n  einsum2414170612736_ba_dim0g -> Max;\\n  einsum2414170612736_ba_dim0bg -> Max;\\n  Max -> einsum2414170612736_ba_max_dim;\\n\\n  einsum2414170612736_ba_left_dim [shape=box label=\\\"einsum2414170612736_ba_left_dim\\\" fontsize=10];\\n  Gather1234 [shape=box style=\\\"filled,rounded\\\" color=orange label=\\\"Gather\\n(Gather1234)\\\" fontsize=10];\\n  einsum2414170612736_ba_shape1 -> Gather1234;\\n  einsum2414170612736_ba_left_set -> Gather1234;\\n  Gather1234 -> einsum2414170612736_ba_left_dim;\\n\\n  einsum2414170612736_ba_right_dim [shape=box label=\\\"einsum2414170612736_ba_right_dim\\\" fontsize=10];\\n  Gather12345 [shape=box style=\\\"filled,rounded\\\" color=orange label=\\\"Gather\\n(Gather12345)\\\" fontsize=10];\\n  einsum2414170612736_ba_shape2 -> Gather12345;\\n  einsum2414170612736_ba_right_set -> Gather12345;\\n  Gather12345 -> einsum2414170612736_ba_right_dim;\\n\\n  einsum2414170612736_ba_new_shape [shape=box label=\\\"einsum2414170612736_ba_new_shape\\\" fontsize=10];\\n  Concat12 [shape=box style=\\\"filled,rounded\\\" color=orange label=\\\"Concat\\n(Concat12)\\naxis=0\\\" fontsize=10];\\n  einsum2414170612736_ba_max_dim -> Concat12;\\n  einsum2414170612736_ba_left_dim -> Concat12;\\n  einsum2414170612736_ba_right_dim -> Concat12;\\n  Concat12 -> einsum2414170612736_ba_new_shape;\\n\\n  einsum2414170612736_ba_final [shape=box label=\\\"einsum2414170612736_ba_final\\\" fontsize=10];\\n  Reshape12 [shape=box style=\\\"filled,rounded\\\" color=orange label=\\\"Reshape\\n(Reshape12)\\\" fontsize=10];\\n  einsum2414170612736_ba_dot -> Reshape12;\\n  einsum2414170612736_ba_new_shape -> Reshape12;\\n  Reshape12 -> einsum2414170612736_ba_final;\\n\\n  einsum2414170612592_tr [shape=box label=\\\"einsum2414170612592_tr\\\" fontsize=10];\\n  Transpose1234 [shape=box style=\\\"filled,rounded\\\" color=orange label=\\\"Transpose\\n(Transpose1234)\\nperm=[0 4 1 5 2 3]\\\" fontsize=10];\\n  einsum2414170612736_ba_final -> Transpose1234;\\n  Transpose1234 -> einsum2414170612592_tr;\\n\\n  einsum2414170613312_id [shape=box label=\\\"einsum2414170613312_id\\\" fontsize=10];\\n  Identity12 [shape=box style=\\\"filled,rounded\\\" color=orange label=\\\"Identity\\n(Identity12)\\\" fontsize=10];\\n  X3 -> Identity12;\\n  Identity12 -> einsum2414170613312_id;\\n\\n  einsum2414170613168_ex [shape=box label=\\\"einsum2414170613168_ex\\\" fontsize=10];\\n  Unsqueeze12 [shape=box style=\\\"filled,rounded\\\" color=orange label=\\\"Unsqueeze\\n(Unsqueeze12)\\\" fontsize=10];\\n  einsum2414170613312_id -> Unsqueeze12;\\n  einsum2414170613312_id_axes -> Unsqueeze12;\\n  Unsqueeze12 -> einsum2414170613168_ex;\\n\\n  einsum2414170613072_re [shape=box label=\\\"einsum2414170613072_re\\\" fontsize=10];\\n  ReduceSum1 [shape=box style=\\\"filled,rounded\\\" color=orange label=\\\"ReduceSum\\n(ReduceSum1)\\nkeepdims=1\\\" fontsize=10];\\n  einsum2414170613168_ex -> ReduceSum1;\\n  einsum2414170613072_re_axes -> ReduceSum1;\\n  ReduceSum1 -> einsum2414170613072_re;\\n\\n  einsum2414170613936_tr [shape=box label=\\\"einsum2414170613936_tr\\\" fontsize=10];\\n  Transpose12345 [shape=box style=\\\"filled,rounded\\\" color=orange label=\\\"Transpose\\n(Transpose12345)\\nperm=[0 5 1 2 4 3]\\\" fontsize=10];\\n  einsum2414170612592_tr -> Transpose12345;\\n  Transpose12345 -> einsum2414170613936_tr;\\n\\n  einsum2414170613792_tr [shape=box label=\\\"einsum2414170613792_tr\\\" fontsize=10];\\n  Transpose123456 [shape=box style=\\\"filled,rounded\\\" color=orange label=\\\"Transpose\\n(Transpose123456)\\nperm=[0 5 1 2 4 3]\\\" fontsize=10];\\n  einsum2414170613072_re -> Transpose123456;\\n  Transpose123456 -> einsum2414170613792_tr;\\n\\n  einsum2414170613984_ba_shape1 [shape=box label=\\\"einsum2414170613984_ba_shape1\\\" fontsize=10];\\n  Shape12 [shape=box style=\\\"filled,rounded\\\" color=orange label=\\\"Shape\\n(Shape12)\\\" fontsize=10];\\n  einsum2414170613936_tr -> Shape12;\\n  Shape12 -> einsum2414170613984_ba_shape1;\\n\\n  einsum2414170613984_ba_shape2 [shape=box label=\\\"einsum2414170613984_ba_shape2\\\" fontsize=10];\\n  Shape123 [shape=box style=\\\"filled,rounded\\\" color=orange label=\\\"Shape\\n(Shape123)\\\" fontsize=10];\\n  einsum2414170613792_tr -> Shape123;\\n  Shape123 -> einsum2414170613984_ba_shape2;\\n\\n  einsum2414170613984_ba_dim0g [shape=box label=\\\"einsum2414170613984_ba_dim0g\\\" fontsize=10];\\n  Gather123456 [shape=box style=\\\"filled,rounded\\\" color=orange label=\\\"Gather\\n(Gather123456)\\\" fontsize=10];\\n  einsum2414170613984_ba_shape1 -> Gather123456;\\n  einsum2414170613984_ba_batch_axes -> Gather123456;\\n  Gather123456 -> einsum2414170613984_ba_dim0g;\\n\\n  einsum2414170613984_ba_dim0bg [shape=box label=\\\"einsum2414170613984_ba_dim0bg\\\" fontsize=10];\\n  Gather1234567 [shape=box style=\\\"filled,rounded\\\" color=orange label=\\\"Gather\\n(Gather1234567)\\\" fontsize=10];\\n  einsum2414170613984_ba_shape2 -> Gather1234567;\\n  einsum2414170613984_ba_batch_axes -> Gather1234567;\\n  Gather1234567 -> einsum2414170613984_ba_dim0bg;\\n\\n  einsum2414170613984_ba_dim0 [shape=box label=\\\"einsum2414170613984_ba_dim0\\\" fontsize=10];\\n  ReduceProd1234 [shape=box style=\\\"filled,rounded\\\" color=orange label=\\\"ReduceProd\\n(ReduceProd1234)\\nkeepdims=1\\\" fontsize=10];\\n  einsum2414170613984_ba_dim0g -> ReduceProd1234;\\n  ReduceProd1234 -> einsum2414170613984_ba_dim0;\\n\\n  einsum2414170613984_ba_dim0b [shape=box label=\\\"einsum2414170613984_ba_dim0b\\\" fontsize=10];\\n  ReduceProd12345 [shape=box style=\\\"filled,rounded\\\" color=orange label=\\\"ReduceProd\\n(ReduceProd12345)\\nkeepdims=1\\\" fontsize=10];\\n  einsum2414170613984_ba_dim0bg -> ReduceProd12345;\\n  ReduceProd12345 -> einsum2414170613984_ba_dim0b;\\n\\n  einsum2414170613984_ba_dim1g [shape=box label=\\\"einsum2414170613984_ba_dim1g\\\" fontsize=10];\\n  Gather12345678 [shape=box style=\\\"filled,rounded\\\" color=orange label=\\\"Gather\\n(Gather12345678)\\\" fontsize=10];\\n  einsum2414170613984_ba_shape1 -> Gather12345678;\\n  einsum2414170613984_ba_sum_axes -> Gather12345678;\\n  Gather12345678 -> einsum2414170613984_ba_dim1g;\\n\\n  einsum2414170613984_ba_dim2g [shape=box label=\\\"einsum2414170613984_ba_dim2g\\\" fontsize=10];\\n  Gather123456789 [shape=box style=\\\"filled,rounded\\\" color=orange label=\\\"Gather\\n(Gather123456789)\\\" fontsize=10];\\n  einsum2414170613984_ba_shape2 -> Gather123456789;\\n  einsum2414170613984_ba_sum_axes -> Gather123456789;\\n  Gather123456789 -> einsum2414170613984_ba_dim2g;\\n\\n  einsum2414170613984_ba_dim1 [shape=box label=\\\"einsum2414170613984_ba_dim1\\\" fontsize=10];\\n  ReduceProd123456 [shape=box style=\\\"filled,rounded\\\" color=orange label=\\\"ReduceProd\\n(ReduceProd123456)\\nkeepdims=1\\\" fontsize=10];\\n  einsum2414170613984_ba_dim1g -> ReduceProd123456;\\n  ReduceProd123456 -> einsum2414170613984_ba_dim1;\\n\\n  einsum2414170613984_ba_dim2 [shape=box label=\\\"einsum2414170613984_ba_dim2\\\" fontsize=10];\\n  ReduceProd1234567 [shape=box style=\\\"filled,rounded\\\" color=orange label=\\\"ReduceProd\\n(ReduceProd1234567)\\nkeepdims=1\\\" fontsize=10];\\n  einsum2414170613984_ba_dim2g -> ReduceProd1234567;\\n  ReduceProd1234567 -> einsum2414170613984_ba_dim2;\\n\\n  einsum2414170613984_ba_resh1 [shape=box label=\\\"einsum2414170613984_ba_resh1\\\" fontsize=10];\\n  Concat123 [shape=box style=\\\"filled,rounded\\\" color=orange label=\\\"Concat\\n(Concat123)\\naxis=0\\\" fontsize=10];\\n  einsum2414170613984_ba_dim0 -> Concat123;\\n  einsum2414170613984_ba__1 -> Concat123;\\n  einsum2414170613984_ba_dim1 -> Concat123;\\n  Concat123 -> einsum2414170613984_ba_resh1;\\n\\n  einsum2414170613984_ba_resh2 [shape=box label=\\\"einsum2414170613984_ba_resh2\\\" fontsize=10];\\n  Concat1234 [shape=box style=\\\"filled,rounded\\\" color=orange label=\\\"Concat\\n(Concat1234)\\naxis=0\\\" fontsize=10];\\n  einsum2414170613984_ba_dim0b -> Concat1234;\\n  einsum2414170613984_ba__1 -> Concat1234;\\n  einsum2414170613984_ba_dim2 -> Concat1234;\\n  Concat1234 -> einsum2414170613984_ba_resh2;\\n\\n  einsum2414170613984_ba_aresh1 [shape=box label=\\\"einsum2414170613984_ba_aresh1\\\" fontsize=10];\\n  Reshape123 [shape=box style=\\\"filled,rounded\\\" color=orange label=\\\"Reshape\\n(Reshape123)\\\" fontsize=10];\\n  einsum2414170613936_tr -> Reshape123;\\n  einsum2414170613984_ba_resh1 -> Reshape123;\\n  Reshape123 -> einsum2414170613984_ba_aresh1;\\n\\n  einsum2414170613984_ba_aresh2 [shape=box label=\\\"einsum2414170613984_ba_aresh2\\\" fontsize=10];\\n  Reshape1234 [shape=box style=\\\"filled,rounded\\\" color=orange label=\\\"Reshape\\n(Reshape1234)\\\" fontsize=10];\\n  einsum2414170613792_tr -> Reshape1234;\\n  einsum2414170613984_ba_resh2 -> Reshape1234;\\n  Reshape1234 -> einsum2414170613984_ba_aresh2;\\n\\n  einsum2414170613984_ba_aresh2_tr [shape=box label=\\\"einsum2414170613984_ba_aresh2_tr\\\" fontsize=10];\\n  Transpose1234567 [shape=box style=\\\"filled,rounded\\\" color=orange label=\\\"Transpose\\n(Transpose1234567)\\nperm=[0 2 1]\\\" fontsize=10];\\n  einsum2414170613984_ba_aresh2 -> Transpose1234567;\\n  Transpose1234567 -> einsum2414170613984_ba_aresh2_tr;\\n\\n  einsum2414170613984_ba_dot [shape=box label=\\\"einsum2414170613984_ba_dot\\\" fontsize=10];\\n  MatMul1 [shape=box style=\\\"filled,rounded\\\" color=orange label=\\\"MatMul\\n(MatMul1)\\\" fontsize=10];\\n  einsum2414170613984_ba_aresh1 -> MatMul1;\\n  einsum2414170613984_ba_aresh2_tr -> MatMul1;\\n  MatMul1 -> einsum2414170613984_ba_dot;\\n\\n  einsum2414170613984_ba_max_dim [shape=box label=\\\"einsum2414170613984_ba_max_dim\\\" fontsize=10];\\n  Max1 [shape=box style=\\\"filled,rounded\\\" color=orange label=\\\"Max\\n(Max1)\\\" fontsize=10];\\n  einsum2414170613984_ba_dim0g -> Max1;\\n  einsum2414170613984_ba_dim0bg -> Max1;\\n  Max1 -> einsum2414170613984_ba_max_dim;\\n\\n  einsum2414170613984_ba_left_dim [shape=box label=\\\"einsum2414170613984_ba_left_dim\\\" fontsize=10];\\n  Gather12345678910 [shape=box style=\\\"filled,rounded\\\" color=orange label=\\\"Gather\\n(Gather12345678910)\\\" fontsize=10];\\n  einsum2414170613984_ba_shape1 -> Gather12345678910;\\n  einsum2414170613984_ba_left_set -> Gather12345678910;\\n  Gather12345678910 -> einsum2414170613984_ba_left_dim;\\n\\n  einsum2414170613984_ba_right_dim [shape=box label=\\\"einsum2414170613984_ba_right_dim\\\" fontsize=10];\\n  Gather1234567891011 [shape=box style=\\\"filled,rounded\\\" color=orange label=\\\"Gather\\n(Gather1234567891011)\\\" fontsize=10];\\n  einsum2414170613984_ba_shape2 -> Gather1234567891011;\\n  einsum2414170613984_ba_right_set -> Gather1234567891011;\\n  Gather1234567891011 -> einsum2414170613984_ba_right_dim;\\n\\n  einsum2414170613984_ba_new_shape [shape=box label=\\\"einsum2414170613984_ba_new_shape\\\" fontsize=10];\\n  Concat12345 [shape=box style=\\\"filled,rounded\\\" color=orange label=\\\"Concat\\n(Concat12345)\\naxis=0\\\" fontsize=10];\\n  einsum2414170613984_ba_max_dim -> Concat12345;\\n  einsum2414170613984_ba_left_dim -> Concat12345;\\n  einsum2414170613984_ba_right_dim -> Concat12345;\\n  einsum2414170613984_ba_ones -> Concat12345;\\n  Concat12345 -> einsum2414170613984_ba_new_shape;\\n\\n  einsum2414170613984_ba_final [shape=box label=\\\"einsum2414170613984_ba_final\\\" fontsize=10];\\n  Reshape12345 [shape=box style=\\\"filled,rounded\\\" color=orange label=\\\"Reshape\\n(Reshape12345)\\\" fontsize=10];\\n  einsum2414170613984_ba_dot -> Reshape12345;\\n  einsum2414170613984_ba_new_shape -> Reshape12345;\\n  Reshape12345 -> einsum2414170613984_ba_final;\\n\\n  einsum2414170614080_tr [shape=box label=\\\"einsum2414170614080_tr\\\" fontsize=10];\\n  Transpose12345678 [shape=box style=\\\"filled,rounded\\\" color=orange label=\\\"Transpose\\n(Transpose12345678)\\nperm=[0 2 3 5 4 1]\\\" fontsize=10];\\n  einsum2414170613984_ba_final -> Transpose12345678;\\n  Transpose12345678 -> einsum2414170614080_tr;\\n\\n  einsum2414170578176_tr [shape=box label=\\\"einsum2414170578176_tr\\\" fontsize=10];\\n  Transpose123456789 [shape=box style=\\\"filled,rounded\\\" color=orange label=\\\"Transpose\\n(Transpose123456789)\\nperm=[0 4 1 3 2 5]\\\" fontsize=10];\\n  einsum2414170614080_tr -> Transpose123456789;\\n  Transpose123456789 -> einsum2414170578176_tr;\\n\\n  einsum2414170613888_sq [shape=box label=\\\"einsum2414170613888_sq\\\" fontsize=10];\\n  Squeeze [shape=box style=\\\"filled,rounded\\\" color=orange label=\\\"Squeeze\\n(Squeeze)\\\" fontsize=10];\\n  einsum2414170578176_tr -> Squeeze;\\n  einsum2414170578176_tr_axes -> Squeeze;\\n  Squeeze -> einsum2414170613888_sq;\\n\\n  Identity123 [shape=box style=\\\"filled,rounded\\\" color=orange label=\\\"Identity\\n(Identity123)\\\" fontsize=10];\\n  einsum2414170613888_sq -> Identity123;\\n  Identity123 -> Y;\\n}\");\n",
              "document.getElementById('M3a7acf89d4594ba09fd8341f5c18fd40').innerHTML = svgGraph; });\n",
              "\n",
              "</script>"
            ],
            "text/plain": [
              "<jyquickhelper.jspy.render_nb_js_dot.RenderJsDot at 0x23217caa310>"
            ]
          },
          "execution_count": 12,
          "metadata": {},
          "output_type": "execute_result"
        }
      ],
      "source": [
        "onx = seq_clean.to_onnx(\"Y\", \"X1\", \"X2\", \"X3\", dtype=numpy.float32)\n",
        "with open(\"einsum.onnx\", \"wb\") as f:\n",
        "     f.write(onx.SerializeToString())\n",
        "%onnxview onx "
      ]
    },
    {
      "cell_type": "markdown",
      "metadata": {},
      "source": [
        "## onnxruntime"
      ]
    },
    {
      "cell_type": "code",
      "execution_count": 12,
      "metadata": {},
      "outputs": [],
      "source": [
        "import onnx\n",
        "from onnx import helper, numpy_helper\n",
        "from onnxruntime import InferenceSession\n",
        "\n",
        "\n",
        "def make_model(equation):\n",
        "    model = helper.make_model(\n",
        "        opset_imports=[helper.make_operatorsetid('', 13)],\n",
        "        graph=helper.make_graph(\n",
        "            name='einsum_test',\n",
        "            inputs=[helper.make_tensor_value_info(\"X\", onnx.TensorProto.FLOAT, None),\n",
        "                    helper.make_tensor_value_info(\"Y\", onnx.TensorProto.FLOAT, None),\n",
        "                    helper.make_tensor_value_info(\"Z\", onnx.TensorProto.FLOAT, None)],\n",
        "            outputs=[helper.make_tensor_value_info(\"A\", onnx.TensorProto.FLOAT, None)],\n",
        "            nodes=[\n",
        "                helper.make_node(\"Einsum\", [\"X\", \"Y\", \"Z\"], [\"A\"], equation=equation)\n",
        "            ]\n",
        "        )\n",
        "    )\n",
        "    return model\n",
        "\n",
        "\n",
        "model = make_model(\"bac,cd,def->ebc\")\n",
        "sess = InferenceSession(model.SerializeToString())"
      ]
    },
    {
      "cell_type": "code",
      "execution_count": 13,
      "metadata": {},
      "outputs": [
        {
          "data": {
            "text/plain": [
              "array([[[ 8866198.,  9864696.],\n",
              "        [12090270., 13152928.]],\n",
              "\n",
              "       [[ 8883886.,  9884376.],\n",
              "        [12114390., 13179168.]]], dtype=float32)"
            ]
          },
          "execution_count": 14,
          "metadata": {},
          "output_type": "execute_result"
        }
      ],
      "source": [
        "sess.run(None, {'X': m1, 'Y': m2, 'Z': m3})[0]"
      ]
    },
    {
      "cell_type": "markdown",
      "metadata": {},
      "source": [
        "### Benchmark\n",
        "\n",
        "It clearly shows the summation done with the basic algorithm is the slowest."
      ]
    },
    {
      "cell_type": "code",
      "execution_count": 14,
      "metadata": {},
      "outputs": [
        {
          "name": "stderr",
          "output_type": "stream",
          "text": [
            "C:\\xavierdupre\\__home_\\github_fork\\scikit-learn\\sklearn\\experimental\\enable_hist_gradient_boosting.py:16: UserWarning: Since version 1.0, it is not needed to import enable_hist_gradient_boosting anymore. HistGradientBoostingClassifier and HistGradientBoostingRegressor are now stable and can be normally imported from sklearn.ensemble.\n",
            "  warnings.warn(\n",
            "100%|\u2588\u2588\u2588\u2588\u2588\u2588\u2588\u2588\u2588\u2588| 13/13 [00:13<00:00,  1.02s/it]\n"
          ]
        },
        {
          "data": {
            "text/html": [
              "<div>\n",
              "<style scoped>\n",
              "    .dataframe tbody tr th:only-of-type {\n",
              "        vertical-align: middle;\n",
              "    }\n",
              "\n",
              "    .dataframe tbody tr th {\n",
              "        vertical-align: top;\n",
              "    }\n",
              "\n",
              "    .dataframe thead th {\n",
              "        text-align: right;\n",
              "    }\n",
              "</style>\n",
              "<table border=\"1\" class=\"dataframe\">\n",
              "  <thead>\n",
              "    <tr style=\"text-align: right;\">\n",
              "      <th></th>\n",
              "      <th>average</th>\n",
              "      <th>deviation</th>\n",
              "      <th>min_exec</th>\n",
              "      <th>max_exec</th>\n",
              "      <th>repeat</th>\n",
              "      <th>number</th>\n",
              "      <th>total</th>\n",
              "      <th>name</th>\n",
              "      <th>N</th>\n",
              "    </tr>\n",
              "  </thead>\n",
              "  <tbody>\n",
              "    <tr>\n",
              "      <th>50</th>\n",
              "      <td>0.005348</td>\n",
              "      <td>0.000432</td>\n",
              "      <td>0.004913</td>\n",
              "      <td>0.006119</td>\n",
              "      <td>10</td>\n",
              "      <td>10</td>\n",
              "      <td>0.053479</td>\n",
              "      <td>onnxruntime</td>\n",
              "      <td>50</td>\n",
              "    </tr>\n",
              "    <tr>\n",
              "      <th>51</th>\n",
              "      <td>0.274089</td>\n",
              "      <td>0.015949</td>\n",
              "      <td>0.250878</td>\n",
              "      <td>0.304891</td>\n",
              "      <td>10</td>\n",
              "      <td>10</td>\n",
              "      <td>2.740892</td>\n",
              "      <td>numpy.einsum</td>\n",
              "      <td>55</td>\n",
              "    </tr>\n",
              "    <tr>\n",
              "      <th>52</th>\n",
              "      <td>0.054787</td>\n",
              "      <td>0.005735</td>\n",
              "      <td>0.049863</td>\n",
              "      <td>0.065422</td>\n",
              "      <td>10</td>\n",
              "      <td>10</td>\n",
              "      <td>0.547868</td>\n",
              "      <td>custom_einsum</td>\n",
              "      <td>55</td>\n",
              "    </tr>\n",
              "    <tr>\n",
              "      <th>53</th>\n",
              "      <td>0.050210</td>\n",
              "      <td>0.002667</td>\n",
              "      <td>0.043978</td>\n",
              "      <td>0.054084</td>\n",
              "      <td>10</td>\n",
              "      <td>10</td>\n",
              "      <td>0.502098</td>\n",
              "      <td>tr/resh/dot</td>\n",
              "      <td>55</td>\n",
              "    </tr>\n",
              "    <tr>\n",
              "      <th>54</th>\n",
              "      <td>0.008228</td>\n",
              "      <td>0.000470</td>\n",
              "      <td>0.007381</td>\n",
              "      <td>0.008970</td>\n",
              "      <td>10</td>\n",
              "      <td>10</td>\n",
              "      <td>0.082277</td>\n",
              "      <td>onnxruntime</td>\n",
              "      <td>55</td>\n",
              "    </tr>\n",
              "  </tbody>\n",
              "</table>\n",
              "</div>"
            ],
            "text/plain": [
              "     average  deviation  min_exec  max_exec  repeat  number     total  \\\n",
              "50  0.005348   0.000432  0.004913  0.006119      10      10  0.053479   \n",
              "51  0.274089   0.015949  0.250878  0.304891      10      10  2.740892   \n",
              "52  0.054787   0.005735  0.049863  0.065422      10      10  0.547868   \n",
              "53  0.050210   0.002667  0.043978  0.054084      10      10  0.502098   \n",
              "54  0.008228   0.000470  0.007381  0.008970      10      10  0.082277   \n",
              "\n",
              "             name   N  \n",
              "50    onnxruntime  50  \n",
              "51   numpy.einsum  55  \n",
              "52  custom_einsum  55  \n",
              "53    tr/resh/dot  55  \n",
              "54    onnxruntime  55  "
            ]
          },
          "execution_count": 15,
          "metadata": {},
          "output_type": "execute_result"
        }
      ],
      "source": [
        "from mlprodict.onnxrt.validate.validate_helper import measure_time\n",
        "from tqdm import tqdm\n",
        "from pandas import DataFrame\n",
        "\n",
        "\n",
        "def raw_product(m1, m2, m3):\n",
        "    N = m1.shape[0]\n",
        "    res = numpy.zeros((N, N, N))\n",
        "    for a in range(0, N):\n",
        "        for b in range(0, N):\n",
        "            for c in range(0, N):\n",
        "                for d in range(0, N):\n",
        "                    for e in range(0, N):\n",
        "                        for f in range(0, N):\n",
        "                            res[e, b, c] += m1[b, a, c] * m2[c, d] * m3[d, e, f]\n",
        "    return res\n",
        "\n",
        "\n",
        "equation = \"bac,cd,def->ebc\"\n",
        "sess = None\n",
        "seq = None \n",
        "\n",
        "results = []\n",
        "for N in tqdm([2, 3, 4, 10, 15, 20, 25, 30, 35, 40, 45, 50, 55]):\n",
        "    m1 = numpy.random.randn(N, N, N)\n",
        "    m2 = numpy.random.randn(N, N)\n",
        "    m3 = numpy.random.randn(N, N, N)\n",
        "    \n",
        "    if seq is None:\n",
        "        seq = decompose_einsum_equation(\n",
        "            equation, m1.shape, m2.shape, m3.shape, clean=True)\n",
        "    if sess is None:\n",
        "        model = make_model(equation)\n",
        "        sess = InferenceSession(model.SerializeToString())\n",
        "\n",
        "    res = measure_time(lambda x: numpy.einsum(equation, *x, optimize=True),\n",
        "                       [m1, m2, m3],\n",
        "                       repeat=10, number=10)\n",
        "    res['name'] = \"numpy.einsum\"\n",
        "    res[\"N\"] = N\n",
        "    results.append(res)\n",
        "\n",
        "    if N <= 4:\n",
        "        res = measure_time(lambda x: raw_product(*x),\n",
        "                           [m1, m2, m3],\n",
        "                           repeat=10, number=10)\n",
        "        res['name'] = \"raw_product\"\n",
        "        res[\"N\"] = N\n",
        "        results.append(res)    \n",
        "\n",
        "    res = measure_time(lambda x: apply_einsum_sequence(seq, *x),\n",
        "                       [m1, m2, m3],\n",
        "                       repeat=10, number=10)\n",
        "    res['name'] = \"custom_einsum\"\n",
        "    res[\"N\"] = N\n",
        "    results.append(res)    \n",
        "\n",
        "    res = measure_time(lambda x: apply_einsum_sequence(seq, *x, matmul_impl=\"pyf\"),\n",
        "                       [m1, m2, m3],\n",
        "                       repeat=10, number=10)\n",
        "    res['name'] = \"tr/resh/dot\"\n",
        "    res[\"N\"] = N\n",
        "    results.append(res)    \n",
        "\n",
        "    res = measure_time(lambda x: sess.run(None, {'X': x[0], 'Y': x[1], 'Z': x[2]}),\n",
        "                       [m1.astype(numpy.float32), m2.astype(numpy.float32),\n",
        "                        m3.astype(numpy.float32)],\n",
        "                       repeat=10, number=10)\n",
        "    res['name'] = \"onnxruntime\"\n",
        "    res[\"N\"] = N\n",
        "    results.append(res)    \n",
        "    \n",
        "\n",
        "df = DataFrame(results)\n",
        "df.tail()"
      ]
    },
    {
      "cell_type": "code",
      "execution_count": 15,
      "metadata": {},
      "outputs": [
        {
          "data": {
            "image/png": "[encoded data removed]",
            "text/plain": [
              "<Figure size 864x288 with 2 Axes>"
            ]
          },
          "metadata": {
            "needs_background": "light"
          },
          "output_type": "display_data"
        }
      ],
      "source": [
        "import matplotlib.pyplot as plt\n",
        "\n",
        "piv = df.pivot(\"N\", \"name\", \"average\")\n",
        "piv2 = piv.copy()\n",
        "np = piv[\"numpy.einsum\"]\n",
        "for c in piv2.columns:\n",
        "    piv2[c] /= np\n",
        "    \n",
        "fig, ax = plt.subplots(1, 2, figsize=(12, 4))\n",
        "piv.plot(logy=True, logx=True, ax=ax[0])\n",
        "ax[0].set_title(\"Benchmark einsum function\")\n",
        "piv2.plot(logy=True, logx=True, ax=ax[1])\n",
        "ax[1].set_title(\"Benchmark einsum function\\n(ratio, baseline=numpy)\");"
      ]
    },
    {
      "cell_type": "markdown",
      "metadata": {},
      "source": [
        "Version `tr/resh/dot` is an implementation based on the decomposition of a simplified einsum into a sequence of transpose, reshape, (batch_)dot or mul operations."
      ]
    },
    {
      "cell_type": "code",
      "execution_count": 16,
      "metadata": {},
      "outputs": [],
      "source": []
    }
  ],
  "metadata": {
    "kernelspec": {
      "display_name": "Python 3",
      "language": "python",
      "name": "python3"
    },
    "language_info": {
      "codemirror_mode": {
        "name": "ipython",
        "version": 3
      },
      "file_extension": ".py",
      "mimetype": "text/x-python",
      "name": "python",
      "nbconvert_exporter": "python",
      "pygments_lexer": "ipython3",
      "version": "3.8.7"
    }
  },
  "nbformat": 4,
  "nbformat_minor": 4
}