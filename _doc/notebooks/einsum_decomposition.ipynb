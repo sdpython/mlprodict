{
  "cells": [
    {
      "cell_type": "markdown",
      "metadata": {},
      "source": [
        "# Einsum decomposition\n",
        "\n",
        "This notebook shows a way to decompose [einsum](https://numpy.org/doc/stable/reference/generated/numpy.einsum.html) into a subset of operations (expand_dims, squeeze, transpose, extended matrix multiplication)."
      ]
    },
    {
      "cell_type": "code",
      "execution_count": 1,
      "metadata": {},
      "outputs": [
        {
          "data": {
            "text/html": [
              "<div id=\"my_id_menu_nb\">run previous cell, wait for 2 seconds</div>\n",
              "<script>\n",
              "function repeat_indent_string(n){\n",
              "    var a = \"\" ;\n",
              "    for ( ; n > 0 ; --n)\n",
              "        a += \"    \";\n",
              "    return a;\n",
              "}\n",
              "// look up into all sections and builds an automated menu //\n",
              "var update_menu_string = function(begin, lfirst, llast, sformat, send, keep_item, begin_format, end_format) {\n",
              "    var anchors = document.getElementsByClassName(\"section\");\n",
              "    if (anchors.length == 0) {\n",
              "        anchors = document.getElementsByClassName(\"text_cell_render rendered_html\");\n",
              "    }\n",
              "    var i,t;\n",
              "    var text_menu = begin;\n",
              "    var text_memo = \"<pre>\\nlength:\" + anchors.length + \"\\n\";\n",
              "    var ind = \"\";\n",
              "    var memo_level = 1;\n",
              "    var href;\n",
              "    var tags = [];\n",
              "    var main_item = 0;\n",
              "    var format_open = 0;\n",
              "    for (i = 0; i <= llast; i++)\n",
              "        tags.push(\"h\" + i);\n",
              "\n",
              "    for (i = 0; i < anchors.length; i++) {\n",
              "        text_memo += \"**\" + anchors[i].id + \"--\\n\";\n",
              "\n",
              "        var child = null;\n",
              "        for(t = 0; t < tags.length; t++) {\n",
              "            var r = anchors[i].getElementsByTagName(tags[t]);\n",
              "            if (r.length > 0) {\n",
              "child = r[0];\n",
              "break;\n",
              "            }\n",
              "        }\n",
              "        if (child == null) {\n",
              "            text_memo += \"null\\n\";\n",
              "            continue;\n",
              "        }\n",
              "        if (anchors[i].hasAttribute(\"id\")) {\n",
              "            // when converted in RST\n",
              "            href = anchors[i].id;\n",
              "            text_memo += \"#1-\" + href;\n",
              "            // passer \u00e0 child suivant (le chercher)\n",
              "        }\n",
              "        else if (child.hasAttribute(\"id\")) {\n",
              "            // in a notebook\n",
              "            href = child.id;\n",
              "            text_memo += \"#2-\" + href;\n",
              "        }\n",
              "        else {\n",
              "            text_memo += \"#3-\" + \"*\" + \"\\n\";\n",
              "            continue;\n",
              "        }\n",
              "        var title = child.textContent;\n",
              "        var level = parseInt(child.tagName.substring(1,2));\n",
              "\n",
              "        text_memo += \"--\" + level + \"?\" + lfirst + \"--\" + title + \"\\n\";\n",
              "\n",
              "        if ((level < lfirst) || (level > llast)) {\n",
              "            continue ;\n",
              "        }\n",
              "        if (title.endsWith('\u00b6')) {\n",
              "            title = title.substring(0,title.length-1).replace(\"<\", \"&lt;\")\n",
              "         .replace(\">\", \"&gt;\").replace(\"&\", \"&amp;\");\n",
              "        }\n",
              "        if (title.length == 0) {\n",
              "            continue;\n",
              "        }\n",
              "\n",
              "        while (level < memo_level) {\n",
              "            text_menu += end_format + \"</ul>\\n\";\n",
              "            format_open -= 1;\n",
              "            memo_level -= 1;\n",
              "        }\n",
              "        if (level == lfirst) {\n",
              "            main_item += 1;\n",
              "        }\n",
              "        if (keep_item != -1 && main_item != keep_item + 1) {\n",
              "            // alert(main_item + \" - \" + level + \" - \" + keep_item);\n",
              "            continue;\n",
              "        }\n",
              "        while (level > memo_level) {\n",
              "            text_menu += \"<ul>\\n\";\n",
              "            memo_level += 1;\n",
              "        }\n",
              "        text_menu += repeat_indent_string(level-2);\n",
              "        text_menu += begin_format + sformat.replace(\"__HREF__\", href).replace(\"__TITLE__\", title);\n",
              "        format_open += 1;\n",
              "    }\n",
              "    while (1 < memo_level) {\n",
              "        text_menu += end_format + \"</ul>\\n\";\n",
              "        memo_level -= 1;\n",
              "        format_open -= 1;\n",
              "    }\n",
              "    text_menu += send;\n",
              "    //text_menu += \"\\n\" + text_memo;\n",
              "\n",
              "    while (format_open > 0) {\n",
              "        text_menu += end_format;\n",
              "        format_open -= 1;\n",
              "    }\n",
              "    return text_menu;\n",
              "};\n",
              "var update_menu = function() {\n",
              "    var sbegin = \"\";\n",
              "    var sformat = '<a href=\"#__HREF__\">__TITLE__</a>';\n",
              "    var send = \"\";\n",
              "    var begin_format = '<li>';\n",
              "    var end_format = '</li>';\n",
              "    var keep_item = -1;\n",
              "    var text_menu = update_menu_string(sbegin, 2, 4, sformat, send, keep_item,\n",
              "       begin_format, end_format);\n",
              "    var menu = document.getElementById(\"my_id_menu_nb\");\n",
              "    menu.innerHTML=text_menu;\n",
              "};\n",
              "window.setTimeout(update_menu,2000);\n",
              "            </script>"
            ],
            "text/plain": [
              "<IPython.core.display.HTML object>"
            ]
          },
          "execution_count": 2,
          "metadata": {},
          "output_type": "execute_result"
        }
      ],
      "source": [
        "from jyquickhelper import add_notebook_menu\n",
        "add_notebook_menu()"
      ]
    },
    {
      "cell_type": "code",
      "execution_count": 2,
      "metadata": {},
      "outputs": [],
      "source": [
        "%load_ext mlprodict"
      ]
    },
    {
      "cell_type": "markdown",
      "metadata": {},
      "source": [
        "## Operator explanation with equation bac,cd,def->ebc\n",
        "\n",
        "The operator einsum takes an equation and some inputs. Every letter involved in the equation is a loop. Let's see on one example."
      ]
    },
    {
      "cell_type": "code",
      "execution_count": 3,
      "metadata": {},
      "outputs": [
        {
          "data": {
            "text/plain": [
              "array([[[ 8866198.,  9864696.],\n",
              "        [12090270., 13152928.]],\n",
              "\n",
              "       [[ 8883886.,  9884376.],\n",
              "        [12114390., 13179168.]]], dtype=float32)"
            ]
          },
          "execution_count": 4,
          "metadata": {},
          "output_type": "execute_result"
        }
      ],
      "source": [
        "import numpy\n",
        "\n",
        "m1 = numpy.arange(0, 8).astype(numpy.float32).reshape((2, 2, 2)) + 10\n",
        "m2 = numpy.arange(0, 4).astype(numpy.float32).reshape((2, 2)) + 100\n",
        "m3 = numpy.arange(0, 8).astype(numpy.float32).reshape((2, 2, 2)) + 1000\n",
        "\n",
        "equation = \"bac,cd,def->ebc\"\n",
        "truth = numpy.einsum(equation, m1, m2, m3)\n",
        "truth"
      ]
    },
    {
      "cell_type": "markdown",
      "metadata": {},
      "source": [
        "This summation is equalent to:"
      ]
    },
    {
      "cell_type": "code",
      "execution_count": 4,
      "metadata": {},
      "outputs": [
        {
          "data": {
            "text/plain": [
              "array([[[ 8866198.,  9864696.],\n",
              "        [12090270., 13152928.]],\n",
              "\n",
              "       [[ 8883886.,  9884376.],\n",
              "        [12114390., 13179168.]]])"
            ]
          },
          "execution_count": 5,
          "metadata": {},
          "output_type": "execute_result"
        }
      ],
      "source": [
        "res = numpy.zeros((2, 2, 2))\n",
        "for a in range(0, 2):\n",
        "    for b in range(0, 2):\n",
        "        for c in range(0, 2):\n",
        "            for d in range(0, 2):\n",
        "                for e in range(0, 2):\n",
        "                    for f in range(0, 2):\n",
        "                        res[e, b, c] += m1[b, a, c] * m2[c, d] * m3[d, e, f]\n",
        "res"
      ]
    },
    {
      "cell_type": "markdown",
      "metadata": {},
      "source": [
        "Theoritically, this summation is in this case has a cost of $O(N^6)$. However this simple computation is usually much longer than using matrix multiplications along the path. $O(N^4)$ is the cost of the heaviest matrix multiplication in this case). But to do that, the equation needs to be decomposed into a sequence of matrix multiplications."
      ]
    },
    {
      "cell_type": "markdown",
      "metadata": {},
      "source": [
        "## Decomposition of bac,cd,def->ebc"
      ]
    },
    {
      "cell_type": "code",
      "execution_count": 5,
      "metadata": {},
      "outputs": [],
      "source": [
        "import numpy\n",
        "from mlprodict.testing.einsum_impl import (\n",
        "    decompose_einsum_equation, apply_einsum_sequence)"
      ]
    },
    {
      "cell_type": "code",
      "execution_count": 6,
      "metadata": {},
      "outputs": [],
      "source": [
        "m1 = numpy.arange(0, 8).astype(numpy.float32).reshape((2, 2, 2)) + 10\n",
        "m2 = numpy.arange(0, 4).astype(numpy.float32).reshape((2, 2)) + 100\n",
        "m3 = numpy.arange(0, 8).astype(numpy.float32).reshape((2, 2, 2)) + 1000"
      ]
    },
    {
      "cell_type": "code",
      "execution_count": 7,
      "metadata": {},
      "outputs": [],
      "source": [
        "seq = decompose_einsum_equation(\"bac,cd,def->ebc\", m1.shape, m2.shape, m3.shape)"
      ]
    },
    {
      "cell_type": "code",
      "execution_count": 8,
      "metadata": {},
      "outputs": [
        {
          "data": {
            "text/html": [
              "<div id=\"M86f860831fa447b0b88d0d123fd9075d-cont\"><div id=\"M86f860831fa447b0b88d0d123fd9075d\" style=\"width:100%;height:100%;\"></div></div>\n",
              "<script>\n",
              "\n",
              "require(['http://www.xavierdupre.fr/js/vizjs/viz.js'], function() { var svgGraph = Viz(\"digraph{\\norientation=portrait;\\nranksep=0.25;\\nnodesep=0.05;\\nwidth=0.5;\\nheight=0.1;\\nsize=7;\\nnode [shape=record];\\n0 [label=\\\"input 0\\\\nbac\\\\n[ 1  0  2 -1 -1 -1]\\\"];\\n2382925124752 [label=\\\"id\\\\nNone\\\"];\\n0 -> 2382925124752;\\n2382195643488 [label=\\\"expand_dims\\\\naxes=((3, 3), (3, 4), (3, 5))None\\\"];\\n2382925124752 -> 2382195643488;\\n2382911769904 [label=\\\"transpose\\\\nperm=(1, 0, 2, 3, 4, 5)None\\\"];\\n2382195643488 -> 2382911769904;\\n2382925124992 [label=\\\"reduce_sum - I0\\\\naxes=(0,)None\\\" style=filled fillcolor=red];\\n2382911769904 -> 2382925124992;\\n1 [label=\\\"input 1\\\\ncd\\\\n[-1 -1  0  1 -1 -1]\\\"];\\n2382925125136 [label=\\\"id\\\\nNone\\\"];\\n1 -> 2382925125136;\\n2382925125184 [label=\\\"expand_dims\\\\naxes=((0, 0), (0, 1), (2, 4), (2, 5))None\\\"];\\n2382925125136 -> 2382925125184;\\n2382925125712 [label=\\\"matmul - I1\\\\naxes=() left=(1, 2) ndim=6 right=(2, 3)\\\\n~aBCdef,abCDef-\\\\>aBCDef\\\" style=filled fillcolor=red];\\n2382925124992 -> 2382925125712;\\n2382925125184 -> 2382925125712;\\n2 [label=\\\"input 2\\\\ndef\\\\n[-1 -1 -1  0  1  2]\\\"];\\n2382925125664 [label=\\\"id\\\\nNone\\\"];\\n2 -> 2382925125664;\\n2382925125568 [label=\\\"expand_dims\\\\naxes=((0, 0), (0, 1), (0, 2))None\\\"];\\n2382925125664 -> 2382925125568;\\n2382925125232 [label=\\\"reduce_sum\\\\naxes=(5,)None\\\"];\\n2382925125568 -> 2382925125232;\\n2382925126192 [label=\\\"matmul - I2\\\\naxes=(3,) left=(1, 2) ndim=6 right=(4,)\\\\n~aBCdef,abcdEf-\\\\>aBCEf\\\" style=filled fillcolor=red];\\n2382925125712 -> 2382925126192;\\n2382925125232 -> 2382925126192;\\n2382925126096 [label=\\\"transpose\\\\nperm=(0, 4, 1, 3, 2, 5)None\\\"];\\n2382925126192 -> 2382925126096;\\n2382925124032 [label=\\\"squeeze - I-1\\\\naxes=(0, 3, 5)None\\\" style=filled fillcolor=red];\\n2382925126096 -> 2382925124032;\\n}\");\n",
              "document.getElementById('M86f860831fa447b0b88d0d123fd9075d').innerHTML = svgGraph; });\n",
              "\n",
              "</script>"
            ],
            "text/plain": [
              "<jyquickhelper.jspy.render_nb_js_dot.RenderJsDot at 0x22ad167df40>"
            ]
          },
          "execution_count": 9,
          "metadata": {},
          "output_type": "execute_result"
        }
      ],
      "source": [
        "from jyquickhelper import RenderJsDot\n",
        "RenderJsDot(seq.to_dot(size=7))"
      ]
    },
    {
      "cell_type": "markdown",
      "metadata": {},
      "source": [
        "Then the result can be obtained as follows:"
      ]
    },
    {
      "cell_type": "code",
      "execution_count": 9,
      "metadata": {},
      "outputs": [
        {
          "data": {
            "text/plain": [
              "array([[[ 8866198.,  9864696.],\n",
              "        [12090270., 13152928.]],\n",
              "\n",
              "       [[ 8883886.,  9884376.],\n",
              "        [12114390., 13179168.]]], dtype=float32)"
            ]
          },
          "execution_count": 10,
          "metadata": {},
          "output_type": "execute_result"
        }
      ],
      "source": [
        "apply_einsum_sequence(seq, m1, m2, m3)"
      ]
    },
    {
      "cell_type": "markdown",
      "metadata": {},
      "source": [
        "## operator matmul\n",
        "\n",
        "This operator can be used to represent either a multiplication, either a matrix multiplication but it applies only on arrays with the same number of dimensions. It can be broken into multiplication of matrix multiplication."
      ]
    },
    {
      "cell_type": "code",
      "execution_count": 10,
      "metadata": {},
      "outputs": [
        {
          "data": {
            "text/html": [
              "<div id=\"M56c7704347574cf4a8d49bd4885348dd-cont\"><div id=\"M56c7704347574cf4a8d49bd4885348dd\" style=\"width:100%;height:100%;\"></div></div>\n",
              "<script>\n",
              "\n",
              "require(['http://www.xavierdupre.fr/js/vizjs/viz.js'], function() { var svgGraph = Viz(\"digraph{\\norientation=portrait;\\nranksep=0.25;\\nnodesep=0.05;\\nwidth=0.5;\\nheight=0.1;\\nsize=7;\\nnode [shape=record];\\n0 [label=\\\"input 0\\\\nbac\\\\n[ 1  0  2 -1 -1 -1]\\\"];\\n2382925126720 [label=\\\"id\\\\nNone\\\"];\\n0 -> 2382925126720;\\n2382925126864 [label=\\\"expand_dims\\\\naxes=((3, 3), (3, 4), (3, 5))None\\\"];\\n2382925126720 -> 2382925126864;\\n2382925127632 [label=\\\"transpose\\\\nperm=(1, 0, 2, 3, 4, 5)None\\\"];\\n2382925126864 -> 2382925127632;\\n2382925156464 [label=\\\"reduce_sum - I0\\\\naxes=(0,)None\\\" style=filled fillcolor=red];\\n2382925127632 -> 2382925156464;\\n1 [label=\\\"input 1\\\\ncd\\\\n[-1 -1  0  1 -1 -1]\\\"];\\n2382925157904 [label=\\\"id\\\\nNone\\\"];\\n1 -> 2382925157904;\\n2382925158000 [label=\\\"expand_dims\\\\naxes=((0, 0), (0, 1), (2, 4), (2, 5))None\\\"];\\n2382925157904 -> 2382925158000;\\n2382925157520 [label=\\\"transpose\\\\nperm=(0, 2, 4, 5, 1, 3)None\\\"];\\n2382925156464 -> 2382925157520;\\n2382925158096 [label=\\\"transpose\\\\nperm=(0, 2, 4, 5, 1, 3)None\\\"];\\n2382925158000 -> 2382925158096;\\n2382925158288 [label=\\\"batch_dot\\\\nbatch_axes=(0, 1, 2, 3) keep_axes=None left=(1, 4) ndim=6 right=(1, 5) sum_axes=()None\\\"];\\n2382925157520 -> 2382925158288;\\n2382925158096 -> 2382925158288;\\n2382925158336 [label=\\\"transpose - I1\\\\nperm=(0, 4, 1, 5, 2, 3)None\\\" style=filled fillcolor=red];\\n2382925158288 -> 2382925158336;\\n2 [label=\\\"input 2\\\\ndef\\\\n[-1 -1 -1  0  1  2]\\\"];\\n2382925157856 [label=\\\"id\\\\nNone\\\"];\\n2 -> 2382925157856;\\n2382925157712 [label=\\\"expand_dims\\\\naxes=((0, 0), (0, 1), (0, 2))None\\\"];\\n2382925157856 -> 2382925157712;\\n2382925158048 [label=\\\"reduce_sum\\\\naxes=(5,)None\\\"];\\n2382925157712 -> 2382925158048;\\n2382925158816 [label=\\\"transpose\\\\nperm=(0, 5, 1, 2, 4, 3)None\\\"];\\n2382925158336 -> 2382925158816;\\n2382925158672 [label=\\\"transpose\\\\nperm=(0, 5, 1, 2, 4, 3)None\\\"];\\n2382925158048 -> 2382925158672;\\n2382925158912 [label=\\\"batch_dot\\\\nbatch_axes=(0, 1) keep_axes=None left=(2, 3) ndim=6 right=(4,) sum_axes=(5,)None\\\"];\\n2382925158816 -> 2382925158912;\\n2382925158672 -> 2382925158912;\\n2382925159008 [label=\\\"transpose - I2\\\\nperm=(0, 2, 3, 5, 4, 1)None\\\" style=filled fillcolor=red];\\n2382925158912 -> 2382925159008;\\n2382925127200 [label=\\\"transpose\\\\nperm=(0, 4, 1, 3, 2, 5)None\\\"];\\n2382925159008 -> 2382925127200;\\n2382925158720 [label=\\\"squeeze - I-1\\\\naxes=(0, 3, 5)None\\\" style=filled fillcolor=red];\\n2382925127200 -> 2382925158720;\\n}\");\n",
              "document.getElementById('M56c7704347574cf4a8d49bd4885348dd').innerHTML = svgGraph; });\n",
              "\n",
              "</script>"
            ],
            "text/plain": [
              "<jyquickhelper.jspy.render_nb_js_dot.RenderJsDot at 0x22ad167deb0>"
            ]
          },
          "execution_count": 11,
          "metadata": {},
          "output_type": "execute_result"
        }
      ],
      "source": [
        "seq_clean = decompose_einsum_equation(\"bac,cd,def->ebc\", m1.shape, m2.shape, m3.shape, \n",
        "                                       strategy='numpy', clean=True)\n",
        "RenderJsDot(seq_clean.to_dot(size=7))"
      ]
    },
    {
      "cell_type": "markdown",
      "metadata": {},
      "source": [
        "Operator *transpose_mm* is a regular transposition, it takes two inputs but only tranposes the first input before returning it. Operator *batch_dot* is a matrix multiplication. It is left that way on purpose as it may be implemented with function dot or gemm. The operator distinguishes between 3 kind of axes: batch axes, kept axes, sum(mation) axes. It then reshapes both input matrices with 3D tensors, batch axis, row axis, column axis to use function [numpy.dot](https://numpy.org/doc/stable/reference/generated/numpy.dot.html)."
      ]
    },
    {
      "cell_type": "markdown",
      "metadata": {},
      "source": [
        "## ONNX\n",
        "\n",
        "The previous graph can be converted into ONNX."
      ]
    },
    {
      "cell_type": "code",
      "execution_count": 11,
      "metadata": {},
      "outputs": [
        {
          "data": {
            "text/html": [
              "<div id=\"M4b9c0a1524c149d390d9ae3f063cc9f5-cont\"><div id=\"M4b9c0a1524c149d390d9ae3f063cc9f5\" style=\"width:100%;height:100%;\"></div></div>\n",
              "<script>\n",
              "\n",
              "require(['http://www.xavierdupre.fr/js/vizjs/viz.js'], function() { var svgGraph = Viz(\"digraph{\\n  nodesep=0.05;\\n  ranksep=0.25;\\n  orientation=portrait;\\n  size=None;\\n\\n  X1 [shape=box color=red label=\\\"X1\\nfloat((0, 0, 0))\\\" fontsize=10];\\n  X2 [shape=box color=red label=\\\"X2\\nfloat((0, 0))\\\" fontsize=10];\\n  X3 [shape=box color=red label=\\\"X3\\nfloat((0, 0, 0))\\\" fontsize=10];\\n\\n  Y [shape=box color=green label=\\\"Y\\nfloat((0, 0, 0))\\\" fontsize=10];\\n\\n  einsum2382925126720_id_axes [shape=box label=\\\"einsum2382925126720_id_axes\\nint64((3,))\\n[3 4 5]\\\" fontsize=10];\\n  einsum2382925156464_re_axes [shape=box label=\\\"einsum2382925156464_re_axes\\nint64((1,))\\n[0]\\\" fontsize=10];\\n  einsum2382925157904_id_axes [shape=box label=\\\"einsum2382925157904_id_axes\\nint64((4,))\\n[0 1 4 5]\\\" fontsize=10];\\n  einsum2382925158288_ba_1 [shape=box label=\\\"einsum2382925158288_ba_1\\nint64((1,))\\n[1]\\\" fontsize=10];\\n  einsum2382925158288_ba_0 [shape=box label=\\\"einsum2382925158288_ba_0\\nint64((1,))\\n[0]\\\" fontsize=10];\\n  einsum2382925158288_ba_batch_axes [shape=box label=\\\"einsum2382925158288_ba_batch_axes\\nint64((4,))\\n[0 1 2 3]\\\" fontsize=10];\\n  einsum2382925158288_ba__1 [shape=box label=\\\"einsum2382925158288_ba__1\\nint64((1,))\\n[-1]\\\" fontsize=10];\\n  einsum2382925158288_ba_left_set [shape=box label=\\\"einsum2382925158288_ba_left_set\\nint64((1,))\\n[4]\\\" fontsize=10];\\n  einsum2382925158288_ba_right_set [shape=box label=\\\"einsum2382925158288_ba_right_set\\nint64((1,))\\n[5]\\\" fontsize=10];\\n  einsum2382925157856_id_axes [shape=box label=\\\"einsum2382925157856_id_axes\\nint64((3,))\\n[0 1 2]\\\" fontsize=10];\\n  einsum2382925158048_re_axes [shape=box label=\\\"einsum2382925158048_re_axes\\nint64((1,))\\n[5]\\\" fontsize=10];\\n  einsum2382925158912_ba_1 [shape=box label=\\\"einsum2382925158912_ba_1\\nint64((1,))\\n[1]\\\" fontsize=10];\\n  einsum2382925158912_ba_0 [shape=box label=\\\"einsum2382925158912_ba_0\\nint64((1,))\\n[0]\\\" fontsize=10];\\n  einsum2382925158912_ba_batch_axes [shape=box label=\\\"einsum2382925158912_ba_batch_axes\\nint64((2,))\\n[0 1]\\\" fontsize=10];\\n  einsum2382925158912_ba_sum_axes [shape=box label=\\\"einsum2382925158912_ba_sum_axes\\nint64((1,))\\n[5]\\\" fontsize=10];\\n  einsum2382925158912_ba__1 [shape=box label=\\\"einsum2382925158912_ba__1\\nint64((1,))\\n[-1]\\\" fontsize=10];\\n  einsum2382925158912_ba_left_set [shape=box label=\\\"einsum2382925158912_ba_left_set\\nint64((2,))\\n[2 3]\\\" fontsize=10];\\n  einsum2382925158912_ba_right_set [shape=box label=\\\"einsum2382925158912_ba_right_set\\nint64((1,))\\n[4]\\\" fontsize=10];\\n  einsum2382925158912_ba_ones [shape=box label=\\\"einsum2382925158912_ba_ones\\nint64((1,))\\n[1]\\\" fontsize=10];\\n  einsum2382925127200_tr_axes [shape=box label=\\\"einsum2382925127200_tr_axes\\nint64((3,))\\n[0 3 5]\\\" fontsize=10];\\n\\n  einsum2382925126720_id [shape=box label=\\\"einsum2382925126720_id\\\" fontsize=10];\\n  Identity [shape=box style=\\\"filled,rounded\\\" color=orange label=\\\"Identity\\n(Identity)\\\" fontsize=10];\\n  X1 -> Identity;\\n  Identity -> einsum2382925126720_id;\\n\\n  einsum2382925126864_ex [shape=box label=\\\"einsum2382925126864_ex\\\" fontsize=10];\\n  Unsqueeze [shape=box style=\\\"filled,rounded\\\" color=orange label=\\\"Unsqueeze\\n(Unsqueeze)\\\" fontsize=10];\\n  einsum2382925126720_id -> Unsqueeze;\\n  einsum2382925126720_id_axes -> Unsqueeze;\\n  Unsqueeze -> einsum2382925126864_ex;\\n\\n  einsum2382925127632_tr [shape=box label=\\\"einsum2382925127632_tr\\\" fontsize=10];\\n  Transpose [shape=box style=\\\"filled,rounded\\\" color=orange label=\\\"Transpose\\n(Transpose)\\nperm=[1 0 2 3 4 5]\\\" fontsize=10];\\n  einsum2382925126864_ex -> Transpose;\\n  Transpose -> einsum2382925127632_tr;\\n\\n  einsum2382925156464_re [shape=box label=\\\"einsum2382925156464_re\\\" fontsize=10];\\n  ReduceSum [shape=box style=\\\"filled,rounded\\\" color=orange label=\\\"ReduceSum\\n(ReduceSum)\\nkeepdims=1\\\" fontsize=10];\\n  einsum2382925127632_tr -> ReduceSum;\\n  einsum2382925156464_re_axes -> ReduceSum;\\n  ReduceSum -> einsum2382925156464_re;\\n\\n  einsum2382925157904_id [shape=box label=\\\"einsum2382925157904_id\\\" fontsize=10];\\n  Identity1 [shape=box style=\\\"filled,rounded\\\" color=orange label=\\\"Identity\\n(Identity1)\\\" fontsize=10];\\n  X2 -> Identity1;\\n  Identity1 -> einsum2382925157904_id;\\n\\n  einsum2382925158000_ex [shape=box label=\\\"einsum2382925158000_ex\\\" fontsize=10];\\n  Unsqueeze1 [shape=box style=\\\"filled,rounded\\\" color=orange label=\\\"Unsqueeze\\n(Unsqueeze1)\\\" fontsize=10];\\n  einsum2382925157904_id -> Unsqueeze1;\\n  einsum2382925157904_id_axes -> Unsqueeze1;\\n  Unsqueeze1 -> einsum2382925158000_ex;\\n\\n  einsum2382925157520_tr [shape=box label=\\\"einsum2382925157520_tr\\\" fontsize=10];\\n  Transpose1 [shape=box style=\\\"filled,rounded\\\" color=orange label=\\\"Transpose\\n(Transpose1)\\nperm=[0 2 4 5 1 3]\\\" fontsize=10];\\n  einsum2382925156464_re -> Transpose1;\\n  Transpose1 -> einsum2382925157520_tr;\\n\\n  einsum2382925158096_tr [shape=box label=\\\"einsum2382925158096_tr\\\" fontsize=10];\\n  Transpose12 [shape=box style=\\\"filled,rounded\\\" color=orange label=\\\"Transpose\\n(Transpose12)\\nperm=[0 2 4 5 1 3]\\\" fontsize=10];\\n  einsum2382925158000_ex -> Transpose12;\\n  Transpose12 -> einsum2382925158096_tr;\\n\\n  einsum2382925158288_ba_shape1 [shape=box label=\\\"einsum2382925158288_ba_shape1\\\" fontsize=10];\\n  Shape [shape=box style=\\\"filled,rounded\\\" color=orange label=\\\"Shape\\n(Shape)\\\" fontsize=10];\\n  einsum2382925157520_tr -> Shape;\\n  Shape -> einsum2382925158288_ba_shape1;\\n\\n  einsum2382925158288_ba_shape2 [shape=box label=\\\"einsum2382925158288_ba_shape2\\\" fontsize=10];\\n  Shape1 [shape=box style=\\\"filled,rounded\\\" color=orange label=\\\"Shape\\n(Shape1)\\\" fontsize=10];\\n  einsum2382925158096_tr -> Shape1;\\n  Shape1 -> einsum2382925158288_ba_shape2;\\n\\n  einsum2382925158288_ba_dim0g [shape=box label=\\\"einsum2382925158288_ba_dim0g\\\" fontsize=10];\\n  Gather [shape=box style=\\\"filled,rounded\\\" color=orange label=\\\"Gather\\n(Gather)\\\" fontsize=10];\\n  einsum2382925158288_ba_shape1 -> Gather;\\n  einsum2382925158288_ba_batch_axes -> Gather;\\n  Gather -> einsum2382925158288_ba_dim0g;\\n\\n  einsum2382925158288_ba_dim0bg [shape=box label=\\\"einsum2382925158288_ba_dim0bg\\\" fontsize=10];\\n  Gather1 [shape=box style=\\\"filled,rounded\\\" color=orange label=\\\"Gather\\n(Gather1)\\\" fontsize=10];\\n  einsum2382925158288_ba_shape2 -> Gather1;\\n  einsum2382925158288_ba_batch_axes -> Gather1;\\n  Gather1 -> einsum2382925158288_ba_dim0bg;\\n\\n  einsum2382925158288_ba_dim0 [shape=box label=\\\"einsum2382925158288_ba_dim0\\\" fontsize=10];\\n  ReduceProd [shape=box style=\\\"filled,rounded\\\" color=orange label=\\\"ReduceProd\\n(ReduceProd)\\nkeepdims=1\\\" fontsize=10];\\n  einsum2382925158288_ba_dim0g -> ReduceProd;\\n  ReduceProd -> einsum2382925158288_ba_dim0;\\n\\n  einsum2382925158288_ba_dim0b [shape=box label=\\\"einsum2382925158288_ba_dim0b\\\" fontsize=10];\\n  ReduceProd1 [shape=box style=\\\"filled,rounded\\\" color=orange label=\\\"ReduceProd\\n(ReduceProd1)\\nkeepdims=1\\\" fontsize=10];\\n  einsum2382925158288_ba_dim0bg -> ReduceProd1;\\n  ReduceProd1 -> einsum2382925158288_ba_dim0b;\\n\\n  einsum2382925158288_ba_resh1 [shape=box label=\\\"einsum2382925158288_ba_resh1\\\" fontsize=10];\\n  Concat [shape=box style=\\\"filled,rounded\\\" color=orange label=\\\"Concat\\n(Concat)\\naxis=0\\\" fontsize=10];\\n  einsum2382925158288_ba_dim0 -> Concat;\\n  einsum2382925158288_ba__1 -> Concat;\\n  einsum2382925158288_ba_1 -> Concat;\\n  Concat -> einsum2382925158288_ba_resh1;\\n\\n  einsum2382925158288_ba_resh2 [shape=box label=\\\"einsum2382925158288_ba_resh2\\\" fontsize=10];\\n  Concat1 [shape=box style=\\\"filled,rounded\\\" color=orange label=\\\"Concat\\n(Concat1)\\naxis=0\\\" fontsize=10];\\n  einsum2382925158288_ba_dim0b -> Concat1;\\n  einsum2382925158288_ba__1 -> Concat1;\\n  einsum2382925158288_ba_1 -> Concat1;\\n  Concat1 -> einsum2382925158288_ba_resh2;\\n\\n  einsum2382925158288_ba_aresh1 [shape=box label=\\\"einsum2382925158288_ba_aresh1\\\" fontsize=10];\\n  Reshape [shape=box style=\\\"filled,rounded\\\" color=orange label=\\\"Reshape\\n(Reshape)\\\" fontsize=10];\\n  einsum2382925157520_tr -> Reshape;\\n  einsum2382925158288_ba_resh1 -> Reshape;\\n  Reshape -> einsum2382925158288_ba_aresh1;\\n\\n  einsum2382925158288_ba_aresh2 [shape=box label=\\\"einsum2382925158288_ba_aresh2\\\" fontsize=10];\\n  Reshape1 [shape=box style=\\\"filled,rounded\\\" color=orange label=\\\"Reshape\\n(Reshape1)\\\" fontsize=10];\\n  einsum2382925158096_tr -> Reshape1;\\n  einsum2382925158288_ba_resh2 -> Reshape1;\\n  Reshape1 -> einsum2382925158288_ba_aresh2;\\n\\n  einsum2382925158288_ba_aresh2_tr [shape=box label=\\\"einsum2382925158288_ba_aresh2_tr\\\" fontsize=10];\\n  Transpose123 [shape=box style=\\\"filled,rounded\\\" color=orange label=\\\"Transpose\\n(Transpose123)\\nperm=[0 2 1]\\\" fontsize=10];\\n  einsum2382925158288_ba_aresh2 -> Transpose123;\\n  Transpose123 -> einsum2382925158288_ba_aresh2_tr;\\n\\n  einsum2382925158288_ba_dot [shape=box label=\\\"einsum2382925158288_ba_dot\\\" fontsize=10];\\n  MatMul [shape=box style=\\\"filled,rounded\\\" color=orange label=\\\"MatMul\\n(MatMul)\\\" fontsize=10];\\n  einsum2382925158288_ba_aresh1 -> MatMul;\\n  einsum2382925158288_ba_aresh2_tr -> MatMul;\\n  MatMul -> einsum2382925158288_ba_dot;\\n\\n  einsum2382925158288_ba_max_dim [shape=box label=\\\"einsum2382925158288_ba_max_dim\\\" fontsize=10];\\n  Max [shape=box style=\\\"filled,rounded\\\" color=orange label=\\\"Max\\n(Max)\\\" fontsize=10];\\n  einsum2382925158288_ba_dim0g -> Max;\\n  einsum2382925158288_ba_dim0bg -> Max;\\n  Max -> einsum2382925158288_ba_max_dim;\\n\\n  einsum2382925158288_ba_left_dim [shape=box label=\\\"einsum2382925158288_ba_left_dim\\\" fontsize=10];\\n  Gather12 [shape=box style=\\\"filled,rounded\\\" color=orange label=\\\"Gather\\n(Gather12)\\\" fontsize=10];\\n  einsum2382925158288_ba_shape1 -> Gather12;\\n  einsum2382925158288_ba_left_set -> Gather12;\\n  Gather12 -> einsum2382925158288_ba_left_dim;\\n\\n  einsum2382925158288_ba_right_dim [shape=box label=\\\"einsum2382925158288_ba_right_dim\\\" fontsize=10];\\n  Gather123 [shape=box style=\\\"filled,rounded\\\" color=orange label=\\\"Gather\\n(Gather123)\\\" fontsize=10];\\n  einsum2382925158288_ba_shape2 -> Gather123;\\n  einsum2382925158288_ba_right_set -> Gather123;\\n  Gather123 -> einsum2382925158288_ba_right_dim;\\n\\n  einsum2382925158288_ba_new_shape [shape=box label=\\\"einsum2382925158288_ba_new_shape\\\" fontsize=10];\\n  Concat12 [shape=box style=\\\"filled,rounded\\\" color=orange label=\\\"Concat\\n(Concat12)\\naxis=0\\\" fontsize=10];\\n  einsum2382925158288_ba_max_dim -> Concat12;\\n  einsum2382925158288_ba_left_dim -> Concat12;\\n  einsum2382925158288_ba_right_dim -> Concat12;\\n  Concat12 -> einsum2382925158288_ba_new_shape;\\n\\n  einsum2382925158288_ba_final [shape=box label=\\\"einsum2382925158288_ba_final\\\" fontsize=10];\\n  Reshape12 [shape=box style=\\\"filled,rounded\\\" color=orange label=\\\"Reshape\\n(Reshape12)\\\" fontsize=10];\\n  einsum2382925158288_ba_dot -> Reshape12;\\n  einsum2382925158288_ba_new_shape -> Reshape12;\\n  Reshape12 -> einsum2382925158288_ba_final;\\n\\n  einsum2382925158336_tr [shape=box label=\\\"einsum2382925158336_tr\\\" fontsize=10];\\n  Transpose1234 [shape=box style=\\\"filled,rounded\\\" color=orange label=\\\"Transpose\\n(Transpose1234)\\nperm=[0 4 1 5 2 3]\\\" fontsize=10];\\n  einsum2382925158288_ba_final -> Transpose1234;\\n  Transpose1234 -> einsum2382925158336_tr;\\n\\n  einsum2382925157856_id [shape=box label=\\\"einsum2382925157856_id\\\" fontsize=10];\\n  Identity12 [shape=box style=\\\"filled,rounded\\\" color=orange label=\\\"Identity\\n(Identity12)\\\" fontsize=10];\\n  X3 -> Identity12;\\n  Identity12 -> einsum2382925157856_id;\\n\\n  einsum2382925157712_ex [shape=box label=\\\"einsum2382925157712_ex\\\" fontsize=10];\\n  Unsqueeze12 [shape=box style=\\\"filled,rounded\\\" color=orange label=\\\"Unsqueeze\\n(Unsqueeze12)\\\" fontsize=10];\\n  einsum2382925157856_id -> Unsqueeze12;\\n  einsum2382925157856_id_axes -> Unsqueeze12;\\n  Unsqueeze12 -> einsum2382925157712_ex;\\n\\n  einsum2382925158048_re [shape=box label=\\\"einsum2382925158048_re\\\" fontsize=10];\\n  ReduceSum1 [shape=box style=\\\"filled,rounded\\\" color=orange label=\\\"ReduceSum\\n(ReduceSum1)\\nkeepdims=1\\\" fontsize=10];\\n  einsum2382925157712_ex -> ReduceSum1;\\n  einsum2382925158048_re_axes -> ReduceSum1;\\n  ReduceSum1 -> einsum2382925158048_re;\\n\\n  einsum2382925158816_tr [shape=box label=\\\"einsum2382925158816_tr\\\" fontsize=10];\\n  Transpose12345 [shape=box style=\\\"filled,rounded\\\" color=orange label=\\\"Transpose\\n(Transpose12345)\\nperm=[0 5 1 2 4 3]\\\" fontsize=10];\\n  einsum2382925158336_tr -> Transpose12345;\\n  Transpose12345 -> einsum2382925158816_tr;\\n\\n  einsum2382925158672_tr [shape=box label=\\\"einsum2382925158672_tr\\\" fontsize=10];\\n  Transpose123456 [shape=box style=\\\"filled,rounded\\\" color=orange label=\\\"Transpose\\n(Transpose123456)\\nperm=[0 5 1 2 4 3]\\\" fontsize=10];\\n  einsum2382925158048_re -> Transpose123456;\\n  Transpose123456 -> einsum2382925158672_tr;\\n\\n  einsum2382925158912_ba_shape1 [shape=box label=\\\"einsum2382925158912_ba_shape1\\\" fontsize=10];\\n  Shape12 [shape=box style=\\\"filled,rounded\\\" color=orange label=\\\"Shape\\n(Shape12)\\\" fontsize=10];\\n  einsum2382925158816_tr -> Shape12;\\n  Shape12 -> einsum2382925158912_ba_shape1;\\n\\n  einsum2382925158912_ba_shape2 [shape=box label=\\\"einsum2382925158912_ba_shape2\\\" fontsize=10];\\n  Shape123 [shape=box style=\\\"filled,rounded\\\" color=orange label=\\\"Shape\\n(Shape123)\\\" fontsize=10];\\n  einsum2382925158672_tr -> Shape123;\\n  Shape123 -> einsum2382925158912_ba_shape2;\\n\\n  einsum2382925158912_ba_dim0g [shape=box label=\\\"einsum2382925158912_ba_dim0g\\\" fontsize=10];\\n  Gather1234 [shape=box style=\\\"filled,rounded\\\" color=orange label=\\\"Gather\\n(Gather1234)\\\" fontsize=10];\\n  einsum2382925158912_ba_shape1 -> Gather1234;\\n  einsum2382925158912_ba_batch_axes -> Gather1234;\\n  Gather1234 -> einsum2382925158912_ba_dim0g;\\n\\n  einsum2382925158912_ba_dim0bg [shape=box label=\\\"einsum2382925158912_ba_dim0bg\\\" fontsize=10];\\n  Gather12345 [shape=box style=\\\"filled,rounded\\\" color=orange label=\\\"Gather\\n(Gather12345)\\\" fontsize=10];\\n  einsum2382925158912_ba_shape2 -> Gather12345;\\n  einsum2382925158912_ba_batch_axes -> Gather12345;\\n  Gather12345 -> einsum2382925158912_ba_dim0bg;\\n\\n  einsum2382925158912_ba_dim0 [shape=box label=\\\"einsum2382925158912_ba_dim0\\\" fontsize=10];\\n  ReduceProd12 [shape=box style=\\\"filled,rounded\\\" color=orange label=\\\"ReduceProd\\n(ReduceProd12)\\nkeepdims=1\\\" fontsize=10];\\n  einsum2382925158912_ba_dim0g -> ReduceProd12;\\n  ReduceProd12 -> einsum2382925158912_ba_dim0;\\n\\n  einsum2382925158912_ba_dim0b [shape=box label=\\\"einsum2382925158912_ba_dim0b\\\" fontsize=10];\\n  ReduceProd123 [shape=box style=\\\"filled,rounded\\\" color=orange label=\\\"ReduceProd\\n(ReduceProd123)\\nkeepdims=1\\\" fontsize=10];\\n  einsum2382925158912_ba_dim0bg -> ReduceProd123;\\n  ReduceProd123 -> einsum2382925158912_ba_dim0b;\\n\\n  einsum2382925158912_ba_dim1 [shape=box label=\\\"einsum2382925158912_ba_dim1\\\" fontsize=10];\\n  Gather123456 [shape=box style=\\\"filled,rounded\\\" color=orange label=\\\"Gather\\n(Gather123456)\\\" fontsize=10];\\n  einsum2382925158912_ba_shape1 -> Gather123456;\\n  einsum2382925158912_ba_sum_axes -> Gather123456;\\n  Gather123456 -> einsum2382925158912_ba_dim1;\\n\\n  einsum2382925158912_ba_dim2 [shape=box label=\\\"einsum2382925158912_ba_dim2\\\" fontsize=10];\\n  Gather1234567 [shape=box style=\\\"filled,rounded\\\" color=orange label=\\\"Gather\\n(Gather1234567)\\\" fontsize=10];\\n  einsum2382925158912_ba_shape2 -> Gather1234567;\\n  einsum2382925158912_ba_sum_axes -> Gather1234567;\\n  Gather1234567 -> einsum2382925158912_ba_dim2;\\n\\n  einsum2382925158912_ba_resh1 [shape=box label=\\\"einsum2382925158912_ba_resh1\\\" fontsize=10];\\n  Concat123 [shape=box style=\\\"filled,rounded\\\" color=orange label=\\\"Concat\\n(Concat123)\\naxis=0\\\" fontsize=10];\\n  einsum2382925158912_ba_dim0 -> Concat123;\\n  einsum2382925158912_ba__1 -> Concat123;\\n  einsum2382925158912_ba_dim1 -> Concat123;\\n  Concat123 -> einsum2382925158912_ba_resh1;\\n\\n  einsum2382925158912_ba_resh2 [shape=box label=\\\"einsum2382925158912_ba_resh2\\\" fontsize=10];\\n  Concat1234 [shape=box style=\\\"filled,rounded\\\" color=orange label=\\\"Concat\\n(Concat1234)\\naxis=0\\\" fontsize=10];\\n  einsum2382925158912_ba_dim0b -> Concat1234;\\n  einsum2382925158912_ba__1 -> Concat1234;\\n  einsum2382925158912_ba_dim2 -> Concat1234;\\n  Concat1234 -> einsum2382925158912_ba_resh2;\\n\\n  einsum2382925158912_ba_aresh1 [shape=box label=\\\"einsum2382925158912_ba_aresh1\\\" fontsize=10];\\n  Reshape123 [shape=box style=\\\"filled,rounded\\\" color=orange label=\\\"Reshape\\n(Reshape123)\\\" fontsize=10];\\n  einsum2382925158816_tr -> Reshape123;\\n  einsum2382925158912_ba_resh1 -> Reshape123;\\n  Reshape123 -> einsum2382925158912_ba_aresh1;\\n\\n  einsum2382925158912_ba_aresh2 [shape=box label=\\\"einsum2382925158912_ba_aresh2\\\" fontsize=10];\\n  Reshape1234 [shape=box style=\\\"filled,rounded\\\" color=orange label=\\\"Reshape\\n(Reshape1234)\\\" fontsize=10];\\n  einsum2382925158672_tr -> Reshape1234;\\n  einsum2382925158912_ba_resh2 -> Reshape1234;\\n  Reshape1234 -> einsum2382925158912_ba_aresh2;\\n\\n  einsum2382925158912_ba_aresh2_tr [shape=box label=\\\"einsum2382925158912_ba_aresh2_tr\\\" fontsize=10];\\n  Transpose1234567 [shape=box style=\\\"filled,rounded\\\" color=orange label=\\\"Transpose\\n(Transpose1234567)\\nperm=[0 2 1]\\\" fontsize=10];\\n  einsum2382925158912_ba_aresh2 -> Transpose1234567;\\n  Transpose1234567 -> einsum2382925158912_ba_aresh2_tr;\\n\\n  einsum2382925158912_ba_dot [shape=box label=\\\"einsum2382925158912_ba_dot\\\" fontsize=10];\\n  MatMul1 [shape=box style=\\\"filled,rounded\\\" color=orange label=\\\"MatMul\\n(MatMul1)\\\" fontsize=10];\\n  einsum2382925158912_ba_aresh1 -> MatMul1;\\n  einsum2382925158912_ba_aresh2_tr -> MatMul1;\\n  MatMul1 -> einsum2382925158912_ba_dot;\\n\\n  einsum2382925158912_ba_max_dim [shape=box label=\\\"einsum2382925158912_ba_max_dim\\\" fontsize=10];\\n  Max1 [shape=box style=\\\"filled,rounded\\\" color=orange label=\\\"Max\\n(Max1)\\\" fontsize=10];\\n  einsum2382925158912_ba_dim0g -> Max1;\\n  einsum2382925158912_ba_dim0bg -> Max1;\\n  Max1 -> einsum2382925158912_ba_max_dim;\\n\\n  einsum2382925158912_ba_left_dim [shape=box label=\\\"einsum2382925158912_ba_left_dim\\\" fontsize=10];\\n  Gather12345678 [shape=box style=\\\"filled,rounded\\\" color=orange label=\\\"Gather\\n(Gather12345678)\\\" fontsize=10];\\n  einsum2382925158912_ba_shape1 -> Gather12345678;\\n  einsum2382925158912_ba_left_set -> Gather12345678;\\n  Gather12345678 -> einsum2382925158912_ba_left_dim;\\n\\n  einsum2382925158912_ba_right_dim [shape=box label=\\\"einsum2382925158912_ba_right_dim\\\" fontsize=10];\\n  Gather123456789 [shape=box style=\\\"filled,rounded\\\" color=orange label=\\\"Gather\\n(Gather123456789)\\\" fontsize=10];\\n  einsum2382925158912_ba_shape2 -> Gather123456789;\\n  einsum2382925158912_ba_right_set -> Gather123456789;\\n  Gather123456789 -> einsum2382925158912_ba_right_dim;\\n\\n  einsum2382925158912_ba_new_shape [shape=box label=\\\"einsum2382925158912_ba_new_shape\\\" fontsize=10];\\n  Concat12345 [shape=box style=\\\"filled,rounded\\\" color=orange label=\\\"Concat\\n(Concat12345)\\naxis=0\\\" fontsize=10];\\n  einsum2382925158912_ba_max_dim -> Concat12345;\\n  einsum2382925158912_ba_left_dim -> Concat12345;\\n  einsum2382925158912_ba_right_dim -> Concat12345;\\n  einsum2382925158912_ba_ones -> Concat12345;\\n  Concat12345 -> einsum2382925158912_ba_new_shape;\\n\\n  einsum2382925158912_ba_final [shape=box label=\\\"einsum2382925158912_ba_final\\\" fontsize=10];\\n  Reshape12345 [shape=box style=\\\"filled,rounded\\\" color=orange label=\\\"Reshape\\n(Reshape12345)\\\" fontsize=10];\\n  einsum2382925158912_ba_dot -> Reshape12345;\\n  einsum2382925158912_ba_new_shape -> Reshape12345;\\n  Reshape12345 -> einsum2382925158912_ba_final;\\n\\n  einsum2382925159008_tr [shape=box label=\\\"einsum2382925159008_tr\\\" fontsize=10];\\n  Transpose12345678 [shape=box style=\\\"filled,rounded\\\" color=orange label=\\\"Transpose\\n(Transpose12345678)\\nperm=[0 2 3 5 4 1]\\\" fontsize=10];\\n  einsum2382925158912_ba_final -> Transpose12345678;\\n  Transpose12345678 -> einsum2382925159008_tr;\\n\\n  einsum2382925127200_tr [shape=box label=\\\"einsum2382925127200_tr\\\" fontsize=10];\\n  Transpose123456789 [shape=box style=\\\"filled,rounded\\\" color=orange label=\\\"Transpose\\n(Transpose123456789)\\nperm=[0 4 1 3 2 5]\\\" fontsize=10];\\n  einsum2382925159008_tr -> Transpose123456789;\\n  Transpose123456789 -> einsum2382925127200_tr;\\n\\n  einsum2382925158720_sq [shape=box label=\\\"einsum2382925158720_sq\\\" fontsize=10];\\n  Squeeze [shape=box style=\\\"filled,rounded\\\" color=orange label=\\\"Squeeze\\n(Squeeze)\\\" fontsize=10];\\n  einsum2382925127200_tr -> Squeeze;\\n  einsum2382925127200_tr_axes -> Squeeze;\\n  Squeeze -> einsum2382925158720_sq;\\n\\n  Identity123 [shape=box style=\\\"filled,rounded\\\" color=orange label=\\\"Identity\\n(Identity123)\\\" fontsize=10];\\n  einsum2382925158720_sq -> Identity123;\\n  Identity123 -> Y;\\n}\");\n",
              "document.getElementById('M4b9c0a1524c149d390d9ae3f063cc9f5').innerHTML = svgGraph; });\n",
              "\n",
              "</script>"
            ],
            "text/plain": [
              "<jyquickhelper.jspy.render_nb_js_dot.RenderJsDot at 0x22ad16b1490>"
            ]
          },
          "execution_count": 12,
          "metadata": {},
          "output_type": "execute_result"
        }
      ],
      "source": [
        "onx = seq_clean.to_onnx(\"Y\", \"X1\", \"X2\", \"X3\", dtype=numpy.float32)\n",
        "# with open(\"einsum.onnx\", \"wb\") as f:\n",
        "#      f.write(onx.SerializeToString())\n",
        "%onnxview onx "
      ]
    },
    {
      "cell_type": "code",
      "execution_count": 12,
      "metadata": {},
      "outputs": [
        {
          "data": {
            "text/plain": [
              "array([[[ 8866198.,  9864696.],\n",
              "        [12090270., 13152928.]],\n",
              "\n",
              "       [[ 8883886.,  9884376.],\n",
              "        [12114390., 13179168.]]], dtype=float32)"
            ]
          },
          "execution_count": 13,
          "metadata": {},
          "output_type": "execute_result"
        }
      ],
      "source": [
        "from onnxruntime import InferenceSession\n",
        "sess = InferenceSession(onx.SerializeToString())\n",
        "sess.run(None, {'X1': m1.astype(numpy.float32), \n",
        "                'X2': m2.astype(numpy.float32), \n",
        "                'X3': m3.astype(numpy.float32)})[0]"
      ]
    },
    {
      "cell_type": "markdown",
      "metadata": {},
      "source": [
        "## onnxruntime"
      ]
    },
    {
      "cell_type": "code",
      "execution_count": 13,
      "metadata": {},
      "outputs": [],
      "source": [
        "import onnx\n",
        "from onnx import helper, numpy_helper\n",
        "from onnxruntime import InferenceSession\n",
        "\n",
        "\n",
        "def make_model(equation):\n",
        "    model = helper.make_model(\n",
        "        opset_imports=[helper.make_operatorsetid('', 13)],\n",
        "        graph=helper.make_graph(\n",
        "            name='einsum_test',\n",
        "            inputs=[helper.make_tensor_value_info(\"X\", onnx.TensorProto.FLOAT, None),\n",
        "                    helper.make_tensor_value_info(\"Y\", onnx.TensorProto.FLOAT, None),\n",
        "                    helper.make_tensor_value_info(\"Z\", onnx.TensorProto.FLOAT, None)],\n",
        "            outputs=[helper.make_tensor_value_info(\"A\", onnx.TensorProto.FLOAT, None)],\n",
        "            nodes=[\n",
        "                helper.make_node(\"Einsum\", [\"X\", \"Y\", \"Z\"], [\"A\"], equation=equation)\n",
        "            ]\n",
        "        )\n",
        "    )\n",
        "    return model\n",
        "\n",
        "\n",
        "model = make_model(\"bac,cd,def->ebc\")\n",
        "sess = InferenceSession(model.SerializeToString())"
      ]
    },
    {
      "cell_type": "code",
      "execution_count": 14,
      "metadata": {},
      "outputs": [
        {
          "data": {
            "text/plain": [
              "array([[[ 8866198.,  9864696.],\n",
              "        [12090270., 13152928.]],\n",
              "\n",
              "       [[ 8883886.,  9884376.],\n",
              "        [12114390., 13179168.]]], dtype=float32)"
            ]
          },
          "execution_count": 15,
          "metadata": {},
          "output_type": "execute_result"
        }
      ],
      "source": [
        "sess.run(None, {'X': m1, 'Y': m2, 'Z': m3})[0]"
      ]
    },
    {
      "cell_type": "markdown",
      "metadata": {},
      "source": [
        "### Benchmark\n",
        "\n",
        "It clearly shows the summation done with the basic algorithm is the slowest."
      ]
    },
    {
      "cell_type": "code",
      "execution_count": 15,
      "metadata": {},
      "outputs": [
        {
          "name": "stderr",
          "output_type": "stream",
          "text": [
            "100%|\u2588\u2588\u2588\u2588\u2588\u2588\u2588\u2588\u2588\u2588| 13/13 [00:12<00:00,  1.05it/s]\n"
          ]
        },
        {
          "data": {
            "text/html": [
              "<div>\n",
              "<style scoped>\n",
              "    .dataframe tbody tr th:only-of-type {\n",
              "        vertical-align: middle;\n",
              "    }\n",
              "\n",
              "    .dataframe tbody tr th {\n",
              "        vertical-align: top;\n",
              "    }\n",
              "\n",
              "    .dataframe thead th {\n",
              "        text-align: right;\n",
              "    }\n",
              "</style>\n",
              "<table border=\"1\" class=\"dataframe\">\n",
              "  <thead>\n",
              "    <tr style=\"text-align: right;\">\n",
              "      <th></th>\n",
              "      <th>average</th>\n",
              "      <th>deviation</th>\n",
              "      <th>min_exec</th>\n",
              "      <th>max_exec</th>\n",
              "      <th>repeat</th>\n",
              "      <th>number</th>\n",
              "      <th>total</th>\n",
              "      <th>name</th>\n",
              "      <th>N</th>\n",
              "    </tr>\n",
              "  </thead>\n",
              "  <tbody>\n",
              "    <tr>\n",
              "      <th>63</th>\n",
              "      <td>0.267888</td>\n",
              "      <td>0.002161</td>\n",
              "      <td>0.264015</td>\n",
              "      <td>0.270904</td>\n",
              "      <td>10</td>\n",
              "      <td>10</td>\n",
              "      <td>2.678881</td>\n",
              "      <td>numpy.einsum</td>\n",
              "      <td>55</td>\n",
              "    </tr>\n",
              "    <tr>\n",
              "      <th>64</th>\n",
              "      <td>0.052419</td>\n",
              "      <td>0.000910</td>\n",
              "      <td>0.051563</td>\n",
              "      <td>0.054143</td>\n",
              "      <td>10</td>\n",
              "      <td>10</td>\n",
              "      <td>0.524191</td>\n",
              "      <td>custom_einsum</td>\n",
              "      <td>55</td>\n",
              "    </tr>\n",
              "    <tr>\n",
              "      <th>65</th>\n",
              "      <td>0.041699</td>\n",
              "      <td>0.000276</td>\n",
              "      <td>0.041196</td>\n",
              "      <td>0.042327</td>\n",
              "      <td>10</td>\n",
              "      <td>10</td>\n",
              "      <td>0.416995</td>\n",
              "      <td>dec-matmul</td>\n",
              "      <td>55</td>\n",
              "    </tr>\n",
              "    <tr>\n",
              "      <th>66</th>\n",
              "      <td>0.007084</td>\n",
              "      <td>0.000175</td>\n",
              "      <td>0.006942</td>\n",
              "      <td>0.007584</td>\n",
              "      <td>10</td>\n",
              "      <td>10</td>\n",
              "      <td>0.070836</td>\n",
              "      <td>ort-einsum</td>\n",
              "      <td>55</td>\n",
              "    </tr>\n",
              "    <tr>\n",
              "      <th>67</th>\n",
              "      <td>0.015473</td>\n",
              "      <td>0.000276</td>\n",
              "      <td>0.015132</td>\n",
              "      <td>0.015853</td>\n",
              "      <td>10</td>\n",
              "      <td>10</td>\n",
              "      <td>0.154734</td>\n",
              "      <td>ort-matmul</td>\n",
              "      <td>55</td>\n",
              "    </tr>\n",
              "  </tbody>\n",
              "</table>\n",
              "</div>"
            ],
            "text/plain": [
              "     average  deviation  min_exec  max_exec  repeat  number     total  \\\n",
              "63  0.267888   0.002161  0.264015  0.270904      10      10  2.678881   \n",
              "64  0.052419   0.000910  0.051563  0.054143      10      10  0.524191   \n",
              "65  0.041699   0.000276  0.041196  0.042327      10      10  0.416995   \n",
              "66  0.007084   0.000175  0.006942  0.007584      10      10  0.070836   \n",
              "67  0.015473   0.000276  0.015132  0.015853      10      10  0.154734   \n",
              "\n",
              "             name   N  \n",
              "63   numpy.einsum  55  \n",
              "64  custom_einsum  55  \n",
              "65     dec-matmul  55  \n",
              "66     ort-einsum  55  \n",
              "67     ort-matmul  55  "
            ]
          },
          "execution_count": 16,
          "metadata": {},
          "output_type": "execute_result"
        }
      ],
      "source": [
        "from mlprodict.onnxrt.validate.validate_helper import measure_time\n",
        "from tqdm import tqdm\n",
        "from pandas import DataFrame\n",
        "\n",
        "\n",
        "def raw_product(m1, m2, m3):\n",
        "    N = m1.shape[0]\n",
        "    res = numpy.zeros((N, N, N))\n",
        "    for a in range(0, N):\n",
        "        for b in range(0, N):\n",
        "            for c in range(0, N):\n",
        "                for d in range(0, N):\n",
        "                    for e in range(0, N):\n",
        "                        for f in range(0, N):\n",
        "                            res[e, b, c] += m1[b, a, c] * m2[c, d] * m3[d, e, f]\n",
        "    return res\n",
        "\n",
        "\n",
        "equation = \"bac,cd,def->ebc\"\n",
        "sess = None\n",
        "sess2 = None\n",
        "seq = None \n",
        "\n",
        "results = []\n",
        "for N in tqdm([2, 3, 4, 10, 15, 20, 25, 30, 35, 40, 45, 50, 55]):\n",
        "    m1 = numpy.random.randn(N, N, N)\n",
        "    m2 = numpy.random.randn(N, N)\n",
        "    m3 = numpy.random.randn(N, N, N)\n",
        "    \n",
        "    if seq is None:\n",
        "        seq = decompose_einsum_equation(\n",
        "            equation, m1.shape, m2.shape, m3.shape, clean=True)\n",
        "    if sess is None:\n",
        "        model = make_model(equation)\n",
        "        sess = InferenceSession(model.SerializeToString())\n",
        "    if sess2 is None:\n",
        "        onx = seq_clean.to_onnx(\"Y\", \"X1\", \"X2\", \"X3\", dtype=numpy.float32)\n",
        "        sess2 = InferenceSession(onx.SerializeToString())\n",
        "\n",
        "    res = measure_time(lambda x: numpy.einsum(equation, *x, optimize=True),\n",
        "                       [m1, m2, m3],\n",
        "                       repeat=10, number=10)\n",
        "    res['name'] = \"numpy.einsum\"\n",
        "    res[\"N\"] = N\n",
        "    results.append(res)\n",
        "\n",
        "    if N <= 4:\n",
        "        res = measure_time(lambda x: raw_product(*x),\n",
        "                           [m1, m2, m3],\n",
        "                           repeat=10, number=10)\n",
        "        res['name'] = \"raw_product\"\n",
        "        res[\"N\"] = N\n",
        "        results.append(res)    \n",
        "\n",
        "    res = measure_time(lambda x: apply_einsum_sequence(seq, *x),\n",
        "                       [m1, m2, m3],\n",
        "                       repeat=10, number=10)\n",
        "    res['name'] = \"custom_einsum\"\n",
        "    res[\"N\"] = N\n",
        "    results.append(res)    \n",
        "\n",
        "    res = measure_time(lambda x: apply_einsum_sequence(seq, *x, matmul_impl=\"pyf\"),\n",
        "                       [m1, m2, m3],\n",
        "                       repeat=10, number=10)\n",
        "    res['name'] = \"dec-matmul\"\n",
        "    res[\"N\"] = N\n",
        "    results.append(res)    \n",
        "\n",
        "    res = measure_time(lambda x: sess.run(None, {'X': x[0], 'Y': x[1], 'Z': x[2]}),\n",
        "                       [m1.astype(numpy.float32), m2.astype(numpy.float32),\n",
        "                        m3.astype(numpy.float32)],\n",
        "                       repeat=10, number=10)\n",
        "    res['name'] = \"ort-einsum\"\n",
        "    res[\"N\"] = N\n",
        "    results.append(res)    \n",
        "\n",
        "    res = measure_time(lambda x: sess2.run(None, {'X1': x[0], 'X2': x[1], 'X3': x[2]}),\n",
        "                       [m1.astype(numpy.float32), m2.astype(numpy.float32),\n",
        "                        m3.astype(numpy.float32)],\n",
        "                       repeat=10, number=10)\n",
        "    res['name'] = \"ort-matmul\"\n",
        "    res[\"N\"] = N\n",
        "    results.append(res)    \n",
        "    \n",
        "\n",
        "df = DataFrame(results)\n",
        "df.tail()"
      ]
    },
    {
      "cell_type": "code",
      "execution_count": 16,
      "metadata": {},
      "outputs": [
        {
          "data": {
            "image/png": "[encoded data removed]",
            "text/plain": [
              "<Figure size 864x288 with 2 Axes>"
            ]
          },
          "metadata": {
            "needs_background": "light"
          },
          "output_type": "display_data"
        }
      ],
      "source": [
        "import matplotlib.pyplot as plt\n",
        "\n",
        "piv = df.pivot(\"N\", \"name\", \"average\")\n",
        "piv2 = piv.copy()\n",
        "np = piv[\"numpy.einsum\"]\n",
        "for c in piv2.columns:\n",
        "    piv2[c] /= np\n",
        "    \n",
        "fig, ax = plt.subplots(1, 2, figsize=(12, 4))\n",
        "piv.plot(logy=True, logx=True, ax=ax[0])\n",
        "ax[0].set_title(\"Benchmark einsum function\")\n",
        "piv2.plot(logy=True, logx=True, ax=ax[1])\n",
        "ax[1].set_title(\"Benchmark einsum function\\n(ratio, baseline=numpy)\");"
      ]
    },
    {
      "cell_type": "markdown",
      "metadata": {},
      "source": [
        "Version `dec-matmul` is an implementation based on the decomposition of a simplified einsum into a sequence of transpose, reshape, (batch_)dot or mul operations. This decomposition is converted into ONNX and executed with *onnxruntime*, version `ort-matmul`. Both version are faster than the numpy optimized version. The ONNX graph may contain consecutive transpose which should be merged."
      ]
    },
    {
      "cell_type": "code",
      "execution_count": 17,
      "metadata": {},
      "outputs": [],
      "source": []
    }
  ],
  "metadata": {
    "kernelspec": {
      "display_name": "Python 3",
      "language": "python",
      "name": "python3"
    },
    "language_info": {
      "codemirror_mode": {
        "name": "ipython",
        "version": 3
      },
      "file_extension": ".py",
      "mimetype": "text/x-python",
      "name": "python",
      "nbconvert_exporter": "python",
      "pygments_lexer": "ipython3",
      "version": "3.8.7"
    }
  },
  "nbformat": 4,
  "nbformat_minor": 4
}