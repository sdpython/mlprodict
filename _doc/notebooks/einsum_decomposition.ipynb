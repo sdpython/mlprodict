{
  "cells": [
    {
      "cell_type": "markdown",
      "metadata": {},
      "source": [
        "# Einsum decomposition\n",
        "\n",
        "This notebook shows a way to decompose [einsum](https://numpy.org/doc/stable/reference/generated/numpy.einsum.html) into a subset of operations (expand_dims, squeeze, transpose, extended matrix multiplication)."
      ]
    },
    {
      "cell_type": "code",
      "execution_count": 1,
      "metadata": {},
      "outputs": [
        {
          "data": {
            "text/html": [
              "<div id=\"my_id_menu_nb\">run previous cell, wait for 2 seconds</div>\n",
              "<script>\n",
              "function repeat_indent_string(n){\n",
              "    var a = \"\" ;\n",
              "    for ( ; n > 0 ; --n)\n",
              "        a += \"    \";\n",
              "    return a;\n",
              "}\n",
              "// look up into all sections and builds an automated menu //\n",
              "var update_menu_string = function(begin, lfirst, llast, sformat, send, keep_item, begin_format, end_format) {\n",
              "    var anchors = document.getElementsByClassName(\"section\");\n",
              "    if (anchors.length == 0) {\n",
              "        anchors = document.getElementsByClassName(\"text_cell_render rendered_html\");\n",
              "    }\n",
              "    var i,t;\n",
              "    var text_menu = begin;\n",
              "    var text_memo = \"<pre>\\nlength:\" + anchors.length + \"\\n\";\n",
              "    var ind = \"\";\n",
              "    var memo_level = 1;\n",
              "    var href;\n",
              "    var tags = [];\n",
              "    var main_item = 0;\n",
              "    var format_open = 0;\n",
              "    for (i = 0; i <= llast; i++)\n",
              "        tags.push(\"h\" + i);\n",
              "\n",
              "    for (i = 0; i < anchors.length; i++) {\n",
              "        text_memo += \"**\" + anchors[i].id + \"--\\n\";\n",
              "\n",
              "        var child = null;\n",
              "        for(t = 0; t < tags.length; t++) {\n",
              "            var r = anchors[i].getElementsByTagName(tags[t]);\n",
              "            if (r.length > 0) {\n",
              "child = r[0];\n",
              "break;\n",
              "            }\n",
              "        }\n",
              "        if (child == null) {\n",
              "            text_memo += \"null\\n\";\n",
              "            continue;\n",
              "        }\n",
              "        if (anchors[i].hasAttribute(\"id\")) {\n",
              "            // when converted in RST\n",
              "            href = anchors[i].id;\n",
              "            text_memo += \"#1-\" + href;\n",
              "            // passer \u00e0 child suivant (le chercher)\n",
              "        }\n",
              "        else if (child.hasAttribute(\"id\")) {\n",
              "            // in a notebook\n",
              "            href = child.id;\n",
              "            text_memo += \"#2-\" + href;\n",
              "        }\n",
              "        else {\n",
              "            text_memo += \"#3-\" + \"*\" + \"\\n\";\n",
              "            continue;\n",
              "        }\n",
              "        var title = child.textContent;\n",
              "        var level = parseInt(child.tagName.substring(1,2));\n",
              "\n",
              "        text_memo += \"--\" + level + \"?\" + lfirst + \"--\" + title + \"\\n\";\n",
              "\n",
              "        if ((level < lfirst) || (level > llast)) {\n",
              "            continue ;\n",
              "        }\n",
              "        if (title.endsWith('\u00b6')) {\n",
              "            title = title.substring(0,title.length-1).replace(\"<\", \"&lt;\")\n",
              "         .replace(\">\", \"&gt;\").replace(\"&\", \"&amp;\");\n",
              "        }\n",
              "        if (title.length == 0) {\n",
              "            continue;\n",
              "        }\n",
              "\n",
              "        while (level < memo_level) {\n",
              "            text_menu += end_format + \"</ul>\\n\";\n",
              "            format_open -= 1;\n",
              "            memo_level -= 1;\n",
              "        }\n",
              "        if (level == lfirst) {\n",
              "            main_item += 1;\n",
              "        }\n",
              "        if (keep_item != -1 && main_item != keep_item + 1) {\n",
              "            // alert(main_item + \" - \" + level + \" - \" + keep_item);\n",
              "            continue;\n",
              "        }\n",
              "        while (level > memo_level) {\n",
              "            text_menu += \"<ul>\\n\";\n",
              "            memo_level += 1;\n",
              "        }\n",
              "        text_menu += repeat_indent_string(level-2);\n",
              "        text_menu += begin_format + sformat.replace(\"__HREF__\", href).replace(\"__TITLE__\", title);\n",
              "        format_open += 1;\n",
              "    }\n",
              "    while (1 < memo_level) {\n",
              "        text_menu += end_format + \"</ul>\\n\";\n",
              "        memo_level -= 1;\n",
              "        format_open -= 1;\n",
              "    }\n",
              "    text_menu += send;\n",
              "    //text_menu += \"\\n\" + text_memo;\n",
              "\n",
              "    while (format_open > 0) {\n",
              "        text_menu += end_format;\n",
              "        format_open -= 1;\n",
              "    }\n",
              "    return text_menu;\n",
              "};\n",
              "var update_menu = function() {\n",
              "    var sbegin = \"\";\n",
              "    var sformat = '<a href=\"#__HREF__\">__TITLE__</a>';\n",
              "    var send = \"\";\n",
              "    var begin_format = '<li>';\n",
              "    var end_format = '</li>';\n",
              "    var keep_item = -1;\n",
              "    var text_menu = update_menu_string(sbegin, 2, 4, sformat, send, keep_item,\n",
              "       begin_format, end_format);\n",
              "    var menu = document.getElementById(\"my_id_menu_nb\");\n",
              "    menu.innerHTML=text_menu;\n",
              "};\n",
              "window.setTimeout(update_menu,2000);\n",
              "            </script>"
            ],
            "text/plain": [
              "<IPython.core.display.HTML object>"
            ]
          },
          "execution_count": 2,
          "metadata": {},
          "output_type": "execute_result"
        }
      ],
      "source": [
        "from jyquickhelper import add_notebook_menu\n",
        "add_notebook_menu()"
      ]
    },
    {
      "cell_type": "markdown",
      "metadata": {},
      "source": [
        "## Operator explanation with equation bac,cd,def->ebc\n",
        "\n",
        "The operator einsum takes an equation and some inputs. Every letter involved in the equation is a loop. Let's see on one example."
      ]
    },
    {
      "cell_type": "code",
      "execution_count": 2,
      "metadata": {},
      "outputs": [
        {
          "data": {
            "text/plain": [
              "array([[[ 8866198.,  9864696.],\n",
              "        [12090270., 13152928.]],\n",
              "\n",
              "       [[ 8883886.,  9884376.],\n",
              "        [12114390., 13179168.]]], dtype=float32)"
            ]
          },
          "execution_count": 3,
          "metadata": {},
          "output_type": "execute_result"
        }
      ],
      "source": [
        "import numpy\n",
        "\n",
        "m1 = numpy.arange(0, 8).astype(numpy.float32).reshape((2, 2, 2)) + 10\n",
        "m2 = numpy.arange(0, 4).astype(numpy.float32).reshape((2, 2)) + 100\n",
        "m3 = numpy.arange(0, 8).astype(numpy.float32).reshape((2, 2, 2)) + 1000\n",
        "\n",
        "equation = \"bac,cd,def->ebc\"\n",
        "truth = numpy.einsum(equation, m1, m2, m3)\n",
        "truth"
      ]
    },
    {
      "cell_type": "markdown",
      "metadata": {},
      "source": [
        "This summation is equalent to:"
      ]
    },
    {
      "cell_type": "code",
      "execution_count": 3,
      "metadata": {},
      "outputs": [
        {
          "data": {
            "text/plain": [
              "array([[[ 8866198.,  9864696.],\n",
              "        [12090270., 13152928.]],\n",
              "\n",
              "       [[ 8883886.,  9884376.],\n",
              "        [12114390., 13179168.]]])"
            ]
          },
          "execution_count": 4,
          "metadata": {},
          "output_type": "execute_result"
        }
      ],
      "source": [
        "res = numpy.zeros((2, 2, 2))\n",
        "for a in range(0, 2):\n",
        "    for b in range(0, 2):\n",
        "        for c in range(0, 2):\n",
        "            for d in range(0, 2):\n",
        "                for e in range(0, 2):\n",
        "                    for f in range(0, 2):\n",
        "                        res[e, b, c] += m1[b, a, c] * m2[c, d] * m3[d, e, f]\n",
        "res"
      ]
    },
    {
      "cell_type": "markdown",
      "metadata": {},
      "source": [
        "Theoritically, this summation is in this case has a cost of $O(N^6)$. However this simple computation is usually much longer than using matrix multiplications along the path. $O(N^4)$ is the cost of the heaviest matrix multiplication in this case). But to do that, the equation needs to be decomposed into a sequence of matrix multiplications."
      ]
    },
    {
      "cell_type": "markdown",
      "metadata": {},
      "source": [
        "## Decomposition of bac,cd,def->ebc"
      ]
    },
    {
      "cell_type": "code",
      "execution_count": 4,
      "metadata": {},
      "outputs": [],
      "source": [
        "import numpy\n",
        "from mlprodict.testing.einsum_impl import (\n",
        "    decompose_einsum_equation, apply_einsum_sequence)"
      ]
    },
    {
      "cell_type": "code",
      "execution_count": 5,
      "metadata": {},
      "outputs": [],
      "source": [
        "m1 = numpy.arange(0, 8).astype(numpy.float32).reshape((2, 2, 2)) + 10\n",
        "m2 = numpy.arange(0, 4).astype(numpy.float32).reshape((2, 2)) + 100\n",
        "m3 = numpy.arange(0, 8).astype(numpy.float32).reshape((2, 2, 2)) + 1000"
      ]
    },
    {
      "cell_type": "code",
      "execution_count": 6,
      "metadata": {},
      "outputs": [],
      "source": [
        "seq = decompose_einsum_equation(\"bac,cd,def->ebc\", m1.shape, m2.shape, m3.shape)"
      ]
    },
    {
      "cell_type": "code",
      "execution_count": 7,
      "metadata": {},
      "outputs": [
        {
          "data": {
            "text/html": [
              "<div id=\"M7d995a58e18a47a4a5965ffc43d4aa13-cont\"><div id=\"M7d995a58e18a47a4a5965ffc43d4aa13\" style=\"width:100%;height:100%;\"></div></div>\n",
              "<script>\n",
              "\n",
              "require(['http://www.xavierdupre.fr/js/vizjs/viz.js'], function() { var svgGraph = Viz(\"digraph{\\norientation=portrait;\\nranksep=0.25;\\nnodesep=0.05;\\nwidth=0.5;\\nheight=0.1;\\nsize=7;\\nnode [shape=record];\\n0 [label=\\\"input 0\\\\nbac\\\\n[ 1  0  2 -1 -1 -1]\\\"];\\n2499932947216 [label=\\\"id\\\\nNone\\\"];\\n0 -> 2499932947216;\\n2499932948944 [label=\\\"expand_dims\\\\naxes=((3, 3), (3, 4), (3, 5))None\\\"];\\n2499932947216 -> 2499932948944;\\n2499932948896 [label=\\\"transpose\\\\nperm=(1, 0, 2, 3, 4, 5)None\\\"];\\n2499932948944 -> 2499932948896;\\n2499932948272 [label=\\\"reduce_sum - I0\\\\naxes=(0,)None\\\" style=filled fillcolor=red];\\n2499932948896 -> 2499932948272;\\n1 [label=\\\"input 1\\\\ncd\\\\n[-1 -1  0  1 -1 -1]\\\"];\\n2499932947888 [label=\\\"id\\\\nNone\\\"];\\n1 -> 2499932947888;\\n2499932948704 [label=\\\"expand_dims\\\\naxes=((0, 0), (0, 1), (2, 4), (2, 5))None\\\"];\\n2499932947888 -> 2499932948704;\\n2499932949088 [label=\\\"matmul - I1\\\\naxes=() left=(1, 2) ndim=6 right=(2, 3)\\\\n~aBCdef,abCDef-\\\\>aBCDef\\\" style=filled fillcolor=red];\\n2499932948272 -> 2499932949088;\\n2499932948704 -> 2499932949088;\\n2 [label=\\\"input 2\\\\ndef\\\\n[-1 -1 -1  0  1  2]\\\"];\\n2499932949232 [label=\\\"id\\\\nNone\\\"];\\n2 -> 2499932949232;\\n2499932949040 [label=\\\"expand_dims\\\\naxes=((0, 0), (0, 1), (0, 2))None\\\"];\\n2499932949232 -> 2499932949040;\\n2499932948560 [label=\\\"reduce_sum\\\\naxes=(5,)None\\\"];\\n2499932949040 -> 2499932948560;\\n2499932949712 [label=\\\"matmul - I2\\\\naxes=(3,) left=(1, 2) ndim=6 right=(4,)\\\\n~aBCdef,abcdEf-\\\\>aBCEf\\\" style=filled fillcolor=red];\\n2499932949088 -> 2499932949712;\\n2499932948560 -> 2499932949712;\\n2499932949616 [label=\\\"transpose\\\\nperm=(0, 4, 1, 3, 2, 5)None\\\"];\\n2499932949712 -> 2499932949616;\\n2499932947936 [label=\\\"squeeze - I-1\\\\naxes=(0, 3, 5)None\\\" style=filled fillcolor=red];\\n2499932949616 -> 2499932947936;\\n}\");\n",
              "document.getElementById('M7d995a58e18a47a4a5965ffc43d4aa13').innerHTML = svgGraph; });\n",
              "\n",
              "</script>"
            ],
            "text/plain": [
              "<jyquickhelper.jspy.render_nb_js_dot.RenderJsDot at 0x2460f9d8670>"
            ]
          },
          "execution_count": 8,
          "metadata": {},
          "output_type": "execute_result"
        }
      ],
      "source": [
        "from jyquickhelper import RenderJsDot\n",
        "RenderJsDot(seq.to_dot(size=7))"
      ]
    },
    {
      "cell_type": "markdown",
      "metadata": {},
      "source": [
        "Then the result can be obtained as follows:"
      ]
    },
    {
      "cell_type": "code",
      "execution_count": 8,
      "metadata": {},
      "outputs": [
        {
          "data": {
            "text/plain": [
              "array([[[ 8866198.,  9864696.],\n",
              "        [12090270., 13152928.]],\n",
              "\n",
              "       [[ 8883886.,  9884376.],\n",
              "        [12114390., 13179168.]]], dtype=float32)"
            ]
          },
          "execution_count": 9,
          "metadata": {},
          "output_type": "execute_result"
        }
      ],
      "source": [
        "apply_einsum_sequence(seq, m1, m2, m3)"
      ]
    },
    {
      "cell_type": "markdown",
      "metadata": {},
      "source": [
        "## operator matmul\n",
        "\n",
        "This operator can be used to represent either a multiplication, either a matrix multiplication but it applies only on arrays with the same number of dimensions. It can be broken into multiplication of matrix multiplication."
      ]
    },
    {
      "cell_type": "code",
      "execution_count": 9,
      "metadata": {},
      "outputs": [
        {
          "data": {
            "text/html": [
              "<div id=\"Ma914dc229fa34cb8b3e50b7de054daea-cont\"><div id=\"Ma914dc229fa34cb8b3e50b7de054daea\" style=\"width:100%;height:100%;\"></div></div>\n",
              "<script>\n",
              "\n",
              "require(['http://www.xavierdupre.fr/js/vizjs/viz.js'], function() { var svgGraph = Viz(\"digraph{\\norientation=portrait;\\nranksep=0.25;\\nnodesep=0.05;\\nwidth=0.5;\\nheight=0.1;\\nsize=7;\\nnode [shape=record];\\n0 [label=\\\"input 0\\\\nbac\\\\n[ 1  0  2 -1 -1 -1]\\\"];\\n2500742464176 [label=\\\"id\\\\nNone\\\"];\\n0 -> 2500742464176;\\n2500742466672 [label=\\\"expand_dims\\\\naxes=((3, 3), (3, 4), (3, 5))None\\\"];\\n2500742464176 -> 2500742466672;\\n2500742467104 [label=\\\"transpose\\\\nperm=(1, 0, 2, 3, 4, 5)None\\\"];\\n2500742466672 -> 2500742467104;\\n2500742467488 [label=\\\"reduce_sum - I0\\\\naxes=(0,)None\\\" style=filled fillcolor=red];\\n2500742467104 -> 2500742467488;\\n1 [label=\\\"input 1\\\\ncd\\\\n[-1 -1  0  1 -1 -1]\\\"];\\n2500742467248 [label=\\\"id\\\\nNone\\\"];\\n1 -> 2500742467248;\\n2500742467200 [label=\\\"expand_dims\\\\naxes=((0, 0), (0, 1), (2, 4), (2, 5))None\\\"];\\n2500742467248 -> 2500742467200;\\n2500742466384 [label=\\\"transpose\\\\nperm=(0, 2, 4, 5, 1, 3)None\\\"];\\n2500742467488 -> 2500742466384;\\n2500742466480 [label=\\\"transpose\\\\nperm=(0, 2, 4, 5, 1, 3)None\\\"];\\n2500742467200 -> 2500742466480;\\n2500742464704 [label=\\\"batch_dot\\\\nbatch_axes=(0, 1, 2, 3) keep_axes=None left=(1, 4) ndim=6 right=(1, 5) sum_axes=()None\\\"];\\n2500742466384 -> 2500742464704;\\n2500742466480 -> 2500742464704;\\n2500741938768 [label=\\\"transpose - I1\\\\nperm=(0, 4, 1, 5, 2, 3)None\\\" style=filled fillcolor=red];\\n2500742464704 -> 2500741938768;\\n2 [label=\\\"input 2\\\\ndef\\\\n[-1 -1 -1  0  1  2]\\\"];\\n2500740465088 [label=\\\"id\\\\nNone\\\"];\\n2 -> 2500740465088;\\n2500742466576 [label=\\\"expand_dims\\\\naxes=((0, 0), (0, 1), (0, 2))None\\\"];\\n2500740465088 -> 2500742466576;\\n2500742466816 [label=\\\"reduce_sum\\\\naxes=(5,)None\\\"];\\n2500742466576 -> 2500742466816;\\n2500741426048 [label=\\\"transpose\\\\nperm=(0, 5, 1, 2, 4, 3)None\\\"];\\n2500741938768 -> 2500741426048;\\n2500741426096 [label=\\\"transpose\\\\nperm=(0, 5, 1, 2, 4, 3)None\\\"];\\n2500742466816 -> 2500741426096;\\n2500741424704 [label=\\\"batch_dot\\\\nbatch_axes=(0, 1) keep_axes=None left=(2, 3) ndim=6 right=(4,) sum_axes=(5,)None\\\"];\\n2500741426048 -> 2500741424704;\\n2500741426096 -> 2500741424704;\\n2500741960128 [label=\\\"transpose - I2\\\\nperm=(0, 2, 3, 5, 4, 1)None\\\" style=filled fillcolor=red];\\n2500741424704 -> 2500741960128;\\n2500741738704 [label=\\\"transpose\\\\nperm=(0, 4, 1, 3, 2, 5)None\\\"];\\n2500741960128 -> 2500741738704;\\n2500742466192 [label=\\\"squeeze - I-1\\\\naxes=(0, 3, 5)None\\\" style=filled fillcolor=red];\\n2500741738704 -> 2500742466192;\\n}\");\n",
              "document.getElementById('Ma914dc229fa34cb8b3e50b7de054daea').innerHTML = svgGraph; });\n",
              "\n",
              "</script>"
            ],
            "text/plain": [
              "<jyquickhelper.jspy.render_nb_js_dot.RenderJsDot at 0x2460f9dd820>"
            ]
          },
          "execution_count": 10,
          "metadata": {},
          "output_type": "execute_result"
        }
      ],
      "source": [
        "seq_broken = decompose_einsum_equation(\"bac,cd,def->ebc\", m1.shape, m2.shape, m3.shape, \n",
        "                                       strategy='numpy', clean=True)\n",
        "RenderJsDot(seq_broken.to_dot(size=7))"
      ]
    },
    {
      "cell_type": "markdown",
      "metadata": {},
      "source": [
        "Operator *transpose_mm* is a regular transposition, it takes two inputs but only tranposes the first input before returning it. Operator *batch_dot* is a matrix multiplication. It is left that way on purpose as it may be implemented with function dot or gemm. The operator distinguishes between 3 kind of axes: batch axes, kept axes, sum(mation) axes. It then reshapes both input matrices with 3D tensors, batch axis, row axis, column axis to use function [numpy.dot](https://numpy.org/doc/stable/reference/generated/numpy.dot.html)."
      ]
    },
    {
      "cell_type": "markdown",
      "metadata": {},
      "source": [
        "## onnxruntime"
      ]
    },
    {
      "cell_type": "code",
      "execution_count": 10,
      "metadata": {},
      "outputs": [],
      "source": [
        "import onnx\n",
        "from onnx import helper, numpy_helper\n",
        "from onnxruntime import InferenceSession\n",
        "\n",
        "\n",
        "def make_model(equation):\n",
        "    model = helper.make_model(\n",
        "        opset_imports=[helper.make_operatorsetid('', 13)],\n",
        "        graph=helper.make_graph(\n",
        "            name='einsum_test',\n",
        "            inputs=[helper.make_tensor_value_info(\"X\", onnx.TensorProto.FLOAT, None),\n",
        "                    helper.make_tensor_value_info(\"Y\", onnx.TensorProto.FLOAT, None),\n",
        "                    helper.make_tensor_value_info(\"Z\", onnx.TensorProto.FLOAT, None)],\n",
        "            outputs=[helper.make_tensor_value_info(\"A\", onnx.TensorProto.FLOAT, None)],\n",
        "            nodes=[\n",
        "                helper.make_node(\"Einsum\", [\"X\", \"Y\", \"Z\"], [\"A\"], equation=equation)\n",
        "            ]\n",
        "        )\n",
        "    )\n",
        "    return model\n",
        "\n",
        "\n",
        "model = make_model(\"bac,cd,def->ebc\")\n",
        "sess = InferenceSession(model.SerializeToString())"
      ]
    },
    {
      "cell_type": "code",
      "execution_count": 11,
      "metadata": {},
      "outputs": [
        {
          "data": {
            "text/plain": [
              "array([[[ 8866198.,  9864696.],\n",
              "        [12090270., 13152928.]],\n",
              "\n",
              "       [[ 8883886.,  9884376.],\n",
              "        [12114390., 13179168.]]], dtype=float32)"
            ]
          },
          "execution_count": 12,
          "metadata": {},
          "output_type": "execute_result"
        }
      ],
      "source": [
        "sess.run(None, {'X': m1, 'Y': m2, 'Z': m3})[0]"
      ]
    },
    {
      "cell_type": "markdown",
      "metadata": {},
      "source": [
        "### Benchmark\n",
        "\n",
        "It clearly shows the summation done with the basic algorithm is the slowest."
      ]
    },
    {
      "cell_type": "code",
      "execution_count": 12,
      "metadata": {},
      "outputs": [
        {
          "name": "stderr",
          "output_type": "stream",
          "text": [
            "100%|\u2588\u2588\u2588\u2588\u2588\u2588\u2588\u2588\u2588\u2588| 13/13 [00:11<00:00,  1.11it/s]\n"
          ]
        },
        {
          "data": {
            "text/html": [
              "<div>\n",
              "<style scoped>\n",
              "    .dataframe tbody tr th:only-of-type {\n",
              "        vertical-align: middle;\n",
              "    }\n",
              "\n",
              "    .dataframe tbody tr th {\n",
              "        vertical-align: top;\n",
              "    }\n",
              "\n",
              "    .dataframe thead th {\n",
              "        text-align: right;\n",
              "    }\n",
              "</style>\n",
              "<table border=\"1\" class=\"dataframe\">\n",
              "  <thead>\n",
              "    <tr style=\"text-align: right;\">\n",
              "      <th></th>\n",
              "      <th>average</th>\n",
              "      <th>deviation</th>\n",
              "      <th>min_exec</th>\n",
              "      <th>max_exec</th>\n",
              "      <th>repeat</th>\n",
              "      <th>number</th>\n",
              "      <th>total</th>\n",
              "      <th>name</th>\n",
              "      <th>N</th>\n",
              "    </tr>\n",
              "  </thead>\n",
              "  <tbody>\n",
              "    <tr>\n",
              "      <th>50</th>\n",
              "      <td>0.004894</td>\n",
              "      <td>0.000222</td>\n",
              "      <td>0.004628</td>\n",
              "      <td>0.005283</td>\n",
              "      <td>10</td>\n",
              "      <td>10</td>\n",
              "      <td>0.048943</td>\n",
              "      <td>onnxruntime</td>\n",
              "      <td>50</td>\n",
              "    </tr>\n",
              "    <tr>\n",
              "      <th>51</th>\n",
              "      <td>0.263068</td>\n",
              "      <td>0.001402</td>\n",
              "      <td>0.261303</td>\n",
              "      <td>0.265483</td>\n",
              "      <td>10</td>\n",
              "      <td>10</td>\n",
              "      <td>2.630676</td>\n",
              "      <td>numpy.einsum</td>\n",
              "      <td>55</td>\n",
              "    </tr>\n",
              "    <tr>\n",
              "      <th>52</th>\n",
              "      <td>0.053470</td>\n",
              "      <td>0.001030</td>\n",
              "      <td>0.051849</td>\n",
              "      <td>0.054855</td>\n",
              "      <td>10</td>\n",
              "      <td>10</td>\n",
              "      <td>0.534695</td>\n",
              "      <td>custom_einsum</td>\n",
              "      <td>55</td>\n",
              "    </tr>\n",
              "    <tr>\n",
              "      <th>53</th>\n",
              "      <td>0.045314</td>\n",
              "      <td>0.004231</td>\n",
              "      <td>0.041232</td>\n",
              "      <td>0.053182</td>\n",
              "      <td>10</td>\n",
              "      <td>10</td>\n",
              "      <td>0.453135</td>\n",
              "      <td>tr/resh/dot</td>\n",
              "      <td>55</td>\n",
              "    </tr>\n",
              "    <tr>\n",
              "      <th>54</th>\n",
              "      <td>0.008238</td>\n",
              "      <td>0.000564</td>\n",
              "      <td>0.007009</td>\n",
              "      <td>0.008989</td>\n",
              "      <td>10</td>\n",
              "      <td>10</td>\n",
              "      <td>0.082384</td>\n",
              "      <td>onnxruntime</td>\n",
              "      <td>55</td>\n",
              "    </tr>\n",
              "  </tbody>\n",
              "</table>\n",
              "</div>"
            ],
            "text/plain": [
              "     average  deviation  min_exec  max_exec  repeat  number     total  \\\n",
              "50  0.004894   0.000222  0.004628  0.005283      10      10  0.048943   \n",
              "51  0.263068   0.001402  0.261303  0.265483      10      10  2.630676   \n",
              "52  0.053470   0.001030  0.051849  0.054855      10      10  0.534695   \n",
              "53  0.045314   0.004231  0.041232  0.053182      10      10  0.453135   \n",
              "54  0.008238   0.000564  0.007009  0.008989      10      10  0.082384   \n",
              "\n",
              "             name   N  \n",
              "50    onnxruntime  50  \n",
              "51   numpy.einsum  55  \n",
              "52  custom_einsum  55  \n",
              "53    tr/resh/dot  55  \n",
              "54    onnxruntime  55  "
            ]
          },
          "execution_count": 13,
          "metadata": {},
          "output_type": "execute_result"
        }
      ],
      "source": [
        "from mlprodict.onnxrt.validate.validate_helper import measure_time\n",
        "from tqdm import tqdm\n",
        "from pandas import DataFrame\n",
        "\n",
        "\n",
        "def raw_product(m1, m2, m3):\n",
        "    N = m1.shape[0]\n",
        "    res = numpy.zeros((N, N, N))\n",
        "    for a in range(0, N):\n",
        "        for b in range(0, N):\n",
        "            for c in range(0, N):\n",
        "                for d in range(0, N):\n",
        "                    for e in range(0, N):\n",
        "                        for f in range(0, N):\n",
        "                            res[e, b, c] += m1[b, a, c] * m2[c, d] * m3[d, e, f]\n",
        "    return res\n",
        "\n",
        "\n",
        "equation = \"bac,cd,def->ebc\"\n",
        "sess = None\n",
        "seq = None \n",
        "\n",
        "results = []\n",
        "for N in tqdm([2, 3, 4, 10, 15, 20, 25, 30, 35, 40, 45, 50, 55]):\n",
        "    m1 = numpy.random.randn(N, N, N)\n",
        "    m2 = numpy.random.randn(N, N)\n",
        "    m3 = numpy.random.randn(N, N, N)\n",
        "    \n",
        "    if seq is None:\n",
        "        seq = decompose_einsum_equation(\n",
        "            equation, m1.shape, m2.shape, m3.shape, clean=True)\n",
        "    if sess is None:\n",
        "        model = make_model(equation)\n",
        "        sess = InferenceSession(model.SerializeToString())\n",
        "\n",
        "    res = measure_time(lambda x: numpy.einsum(equation, *x, optimize=True),\n",
        "                       [m1, m2, m3],\n",
        "                       repeat=10, number=10)\n",
        "    res['name'] = \"numpy.einsum\"\n",
        "    res[\"N\"] = N\n",
        "    results.append(res)\n",
        "\n",
        "    if N <= 4:\n",
        "        res = measure_time(lambda x: raw_product(*x),\n",
        "                           [m1, m2, m3],\n",
        "                           repeat=10, number=10)\n",
        "        res['name'] = \"raw_product\"\n",
        "        res[\"N\"] = N\n",
        "        results.append(res)    \n",
        "\n",
        "    res = measure_time(lambda x: apply_einsum_sequence(seq, *x),\n",
        "                       [m1, m2, m3],\n",
        "                       repeat=10, number=10)\n",
        "    res['name'] = \"custom_einsum\"\n",
        "    res[\"N\"] = N\n",
        "    results.append(res)    \n",
        "\n",
        "    res = measure_time(lambda x: apply_einsum_sequence(seq, *x, matmul_impl=\"pyf\"),\n",
        "                       [m1, m2, m3],\n",
        "                       repeat=10, number=10)\n",
        "    res['name'] = \"tr/resh/dot\"\n",
        "    res[\"N\"] = N\n",
        "    results.append(res)    \n",
        "\n",
        "    res = measure_time(lambda x: sess.run(None, {'X': x[0], 'Y': x[1], 'Z': x[2]}),\n",
        "                       [m1.astype(numpy.float32), m2.astype(numpy.float32),\n",
        "                        m3.astype(numpy.float32)],\n",
        "                       repeat=10, number=10)\n",
        "    res['name'] = \"onnxruntime\"\n",
        "    res[\"N\"] = N\n",
        "    results.append(res)    \n",
        "    \n",
        "\n",
        "df = DataFrame(results)\n",
        "df.tail()"
      ]
    },
    {
      "cell_type": "code",
      "execution_count": 13,
      "metadata": {},
      "outputs": [
        {
          "data": {
            "image/png": "[encoded data removed]",
            "text/plain": [
              "<Figure size 864x288 with 2 Axes>"
            ]
          },
          "metadata": {
            "needs_background": "light"
          },
          "output_type": "display_data"
        }
      ],
      "source": [
        "import matplotlib.pyplot as plt\n",
        "\n",
        "piv = df.pivot(\"N\", \"name\", \"average\")\n",
        "piv2 = piv.copy()\n",
        "np = piv[\"numpy.einsum\"]\n",
        "for c in piv2.columns:\n",
        "    piv2[c] /= np\n",
        "    \n",
        "fig, ax = plt.subplots(1, 2, figsize=(12, 4))\n",
        "piv.plot(logy=True, logx=True, ax=ax[0])\n",
        "ax[0].set_title(\"Benchmark einsum function\")\n",
        "piv2.plot(logy=True, logx=True, ax=ax[1])\n",
        "ax[1].set_title(\"Benchmark einsum function\\n(ratio, baseline=numpy)\");"
      ]
    },
    {
      "cell_type": "markdown",
      "metadata": {},
      "source": [
        "Version `tr/resh/dot` is an implementation based on the decomposition of a simplified einsum into a sequence of transpose, reshape, (batch_)dot or mul operations."
      ]
    },
    {
      "cell_type": "code",
      "execution_count": 14,
      "metadata": {},
      "outputs": [],
      "source": []
    }
  ],
  "metadata": {
    "kernelspec": {
      "display_name": "Python 3",
      "language": "python",
      "name": "python3"
    },
    "language_info": {
      "codemirror_mode": {
        "name": "ipython",
        "version": 3
      },
      "file_extension": ".py",
      "mimetype": "text/x-python",
      "name": "python",
      "nbconvert_exporter": "python",
      "pygments_lexer": "ipython3",
      "version": "3.8.7"
    }
  },
  "nbformat": 4,
  "nbformat_minor": 4
}