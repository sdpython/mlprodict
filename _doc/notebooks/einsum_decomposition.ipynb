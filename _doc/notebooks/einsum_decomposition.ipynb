{
  "cells": [
    {
      "cell_type": "markdown",
      "metadata": {},
      "source": [
        "# Einsum decomposition\n",
        "\n",
        "This notebook shows a way to decompose [einsum](https://numpy.org/doc/stable/reference/generated/numpy.einsum.html) into a subset of operations (expand_dims, squeeze, transpose, extended matrix multiplication)."
      ]
    },
    {
      "cell_type": "code",
      "execution_count": 1,
      "metadata": {},
      "outputs": [
        {
          "data": {
            "text/html": [
              "<div id=\"my_id_menu_nb\">run previous cell, wait for 2 seconds</div>\n",
              "<script>\n",
              "function repeat_indent_string(n){\n",
              "    var a = \"\" ;\n",
              "    for ( ; n > 0 ; --n)\n",
              "        a += \"    \";\n",
              "    return a;\n",
              "}\n",
              "// look up into all sections and builds an automated menu //\n",
              "var update_menu_string = function(begin, lfirst, llast, sformat, send, keep_item, begin_format, end_format) {\n",
              "    var anchors = document.getElementsByClassName(\"section\");\n",
              "    if (anchors.length == 0) {\n",
              "        anchors = document.getElementsByClassName(\"text_cell_render rendered_html\");\n",
              "    }\n",
              "    var i,t;\n",
              "    var text_menu = begin;\n",
              "    var text_memo = \"<pre>\\nlength:\" + anchors.length + \"\\n\";\n",
              "    var ind = \"\";\n",
              "    var memo_level = 1;\n",
              "    var href;\n",
              "    var tags = [];\n",
              "    var main_item = 0;\n",
              "    var format_open = 0;\n",
              "    for (i = 0; i <= llast; i++)\n",
              "        tags.push(\"h\" + i);\n",
              "\n",
              "    for (i = 0; i < anchors.length; i++) {\n",
              "        text_memo += \"**\" + anchors[i].id + \"--\\n\";\n",
              "\n",
              "        var child = null;\n",
              "        for(t = 0; t < tags.length; t++) {\n",
              "            var r = anchors[i].getElementsByTagName(tags[t]);\n",
              "            if (r.length > 0) {\n",
              "child = r[0];\n",
              "break;\n",
              "            }\n",
              "        }\n",
              "        if (child == null) {\n",
              "            text_memo += \"null\\n\";\n",
              "            continue;\n",
              "        }\n",
              "        if (anchors[i].hasAttribute(\"id\")) {\n",
              "            // when converted in RST\n",
              "            href = anchors[i].id;\n",
              "            text_memo += \"#1-\" + href;\n",
              "            // passer \u00e0 child suivant (le chercher)\n",
              "        }\n",
              "        else if (child.hasAttribute(\"id\")) {\n",
              "            // in a notebook\n",
              "            href = child.id;\n",
              "            text_memo += \"#2-\" + href;\n",
              "        }\n",
              "        else {\n",
              "            text_memo += \"#3-\" + \"*\" + \"\\n\";\n",
              "            continue;\n",
              "        }\n",
              "        var title = child.textContent;\n",
              "        var level = parseInt(child.tagName.substring(1,2));\n",
              "\n",
              "        text_memo += \"--\" + level + \"?\" + lfirst + \"--\" + title + \"\\n\";\n",
              "\n",
              "        if ((level < lfirst) || (level > llast)) {\n",
              "            continue ;\n",
              "        }\n",
              "        if (title.endsWith('\u00b6')) {\n",
              "            title = title.substring(0,title.length-1).replace(\"<\", \"&lt;\")\n",
              "         .replace(\">\", \"&gt;\").replace(\"&\", \"&amp;\");\n",
              "        }\n",
              "        if (title.length == 0) {\n",
              "            continue;\n",
              "        }\n",
              "\n",
              "        while (level < memo_level) {\n",
              "            text_menu += end_format + \"</ul>\\n\";\n",
              "            format_open -= 1;\n",
              "            memo_level -= 1;\n",
              "        }\n",
              "        if (level == lfirst) {\n",
              "            main_item += 1;\n",
              "        }\n",
              "        if (keep_item != -1 && main_item != keep_item + 1) {\n",
              "            // alert(main_item + \" - \" + level + \" - \" + keep_item);\n",
              "            continue;\n",
              "        }\n",
              "        while (level > memo_level) {\n",
              "            text_menu += \"<ul>\\n\";\n",
              "            memo_level += 1;\n",
              "        }\n",
              "        text_menu += repeat_indent_string(level-2);\n",
              "        text_menu += begin_format + sformat.replace(\"__HREF__\", href).replace(\"__TITLE__\", title);\n",
              "        format_open += 1;\n",
              "    }\n",
              "    while (1 < memo_level) {\n",
              "        text_menu += end_format + \"</ul>\\n\";\n",
              "        memo_level -= 1;\n",
              "        format_open -= 1;\n",
              "    }\n",
              "    text_menu += send;\n",
              "    //text_menu += \"\\n\" + text_memo;\n",
              "\n",
              "    while (format_open > 0) {\n",
              "        text_menu += end_format;\n",
              "        format_open -= 1;\n",
              "    }\n",
              "    return text_menu;\n",
              "};\n",
              "var update_menu = function() {\n",
              "    var sbegin = \"\";\n",
              "    var sformat = '<a href=\"#__HREF__\">__TITLE__</a>';\n",
              "    var send = \"\";\n",
              "    var begin_format = '<li>';\n",
              "    var end_format = '</li>';\n",
              "    var keep_item = -1;\n",
              "    var text_menu = update_menu_string(sbegin, 2, 4, sformat, send, keep_item,\n",
              "       begin_format, end_format);\n",
              "    var menu = document.getElementById(\"my_id_menu_nb\");\n",
              "    menu.innerHTML=text_menu;\n",
              "};\n",
              "window.setTimeout(update_menu,2000);\n",
              "            </script>"
            ],
            "text/plain": [
              "<IPython.core.display.HTML object>"
            ]
          },
          "execution_count": 2,
          "metadata": {},
          "output_type": "execute_result"
        }
      ],
      "source": [
        "from jyquickhelper import add_notebook_menu\n",
        "add_notebook_menu()"
      ]
    },
    {
      "cell_type": "markdown",
      "metadata": {},
      "source": [
        "## Operator explanation with equation bac,cd,def->ebc\n",
        "\n",
        "The operator einsum takes an equation and some inputs. Every letter involved in the equation is a loop. Let's see on one example."
      ]
    },
    {
      "cell_type": "code",
      "execution_count": 2,
      "metadata": {},
      "outputs": [
        {
          "data": {
            "text/plain": [
              "array([[[ 8866198.,  9864696.],\n",
              "        [12090270., 13152928.]],\n",
              "\n",
              "       [[ 8883886.,  9884376.],\n",
              "        [12114390., 13179168.]]], dtype=float32)"
            ]
          },
          "execution_count": 3,
          "metadata": {},
          "output_type": "execute_result"
        }
      ],
      "source": [
        "import numpy\n",
        "\n",
        "m1 = numpy.arange(0, 8).astype(numpy.float32).reshape((2, 2, 2)) + 10\n",
        "m2 = numpy.arange(0, 4).astype(numpy.float32).reshape((2, 2)) + 100\n",
        "m3 = numpy.arange(0, 8).astype(numpy.float32).reshape((2, 2, 2)) + 1000\n",
        "\n",
        "equation = \"bac,cd,def->ebc\"\n",
        "truth = numpy.einsum(equation, m1, m2, m3)\n",
        "truth"
      ]
    },
    {
      "cell_type": "markdown",
      "metadata": {},
      "source": [
        "This summation is equalent to:"
      ]
    },
    {
      "cell_type": "code",
      "execution_count": 3,
      "metadata": {},
      "outputs": [
        {
          "data": {
            "text/plain": [
              "array([[[ 8866198.,  9864696.],\n",
              "        [12090270., 13152928.]],\n",
              "\n",
              "       [[ 8883886.,  9884376.],\n",
              "        [12114390., 13179168.]]])"
            ]
          },
          "execution_count": 4,
          "metadata": {},
          "output_type": "execute_result"
        }
      ],
      "source": [
        "res = numpy.zeros((2, 2, 2))\n",
        "for a in range(0, 2):\n",
        "    for b in range(0, 2):\n",
        "        for c in range(0, 2):\n",
        "            for d in range(0, 2):\n",
        "                for e in range(0, 2):\n",
        "                    for f in range(0, 2):\n",
        "                        res[e, b, c] += m1[b, a, c] * m2[c, d] * m3[d, e, f]\n",
        "res"
      ]
    },
    {
      "cell_type": "markdown",
      "metadata": {},
      "source": [
        "Theoritically, this summation is in this case has a cost of $O(N^6)$. However this simple computation is usually much longer than using matrix multiplications along the path. $O(N^4)$ is the cost of the heaviest matrix multiplication in this case). But to do that, the equation needs to be decomposed into a sequence of matrix multiplications."
      ]
    },
    {
      "cell_type": "markdown",
      "metadata": {},
      "source": [
        "## Decomposition of bac,cd,def->ebc"
      ]
    },
    {
      "cell_type": "code",
      "execution_count": 4,
      "metadata": {},
      "outputs": [],
      "source": [
        "import numpy\n",
        "from mlprodict.testing.einsum_impl import (\n",
        "    decompose_einsum_equation, apply_einsum_sequence)"
      ]
    },
    {
      "cell_type": "code",
      "execution_count": 5,
      "metadata": {},
      "outputs": [],
      "source": [
        "m1 = numpy.arange(0, 8).astype(numpy.float32).reshape((2, 2, 2)) + 10\n",
        "m2 = numpy.arange(0, 4).astype(numpy.float32).reshape((2, 2)) + 100\n",
        "m3 = numpy.arange(0, 8).astype(numpy.float32).reshape((2, 2, 2)) + 1000"
      ]
    },
    {
      "cell_type": "code",
      "execution_count": 6,
      "metadata": {},
      "outputs": [],
      "source": [
        "seq = decompose_einsum_equation(\"bac,cd,def->ebc\", m1.shape, m2.shape, m3.shape)"
      ]
    },
    {
      "cell_type": "code",
      "execution_count": 7,
      "metadata": {},
      "outputs": [
        {
          "data": {
            "text/html": [
              "<div id=\"M89d9ced00c5743adb013d20f500445c9-cont\"><div id=\"M89d9ced00c5743adb013d20f500445c9\" style=\"width:100%;height:100%;\"></div></div>\n",
              "<script>\n",
              "\n",
              "require(['http://www.xavierdupre.fr/js/vizjs/viz.js'], function() { var svgGraph = Viz(\"digraph{\\norientation=portrait;\\nranksep=0.25;\\nnodesep=0.05;\\nwidth=0.5;\\nheight=0.1;\\nsize=7;\\nnode [shape=record];\\n0 [label=\\\"input 0\\\\nbac\\\\n[ 1  0  2 -1 -1 -1]\\\"];\\n1309576925088 [label=\\\"id\\\\n\\\"];\\n0 -> 1309576925088;\\n1309576924560 [label=\\\"expand_dims\\\\naxis=(3, 5)\\\"];\\n1309576925088 -> 1309576924560;\\n1309576924368 [label=\\\"expand_dims\\\\naxis=(3, 4)\\\"];\\n1309576924560 -> 1309576924368;\\n1309576924800 [label=\\\"expand_dims\\\\naxis=(3, 3)\\\"];\\n1309576924368 -> 1309576924800;\\n1309576922640 [label=\\\"transpose\\\\nperm=(1, 0, 2, 3, 4, 5)\\\"];\\n1309576924800 -> 1309576922640;\\n1309576923216 [label=\\\"reduce_sum - I0\\\\naxes=(0,)\\\" style=filled fillcolor=red];\\n1309576922640 -> 1309576923216;\\n1 [label=\\\"input 1\\\\ncd\\\\n[-1 -1  0  1 -1 -1]\\\"];\\n1309576923408 [label=\\\"id\\\\n\\\"];\\n1 -> 1309576923408;\\n1309577023600 [label=\\\"expand_dims\\\\naxis=(2, 5)\\\"];\\n1309576923408 -> 1309577023600;\\n1309577023648 [label=\\\"expand_dims\\\\naxis=(2, 4)\\\"];\\n1309577023600 -> 1309577023648;\\n1309577023792 [label=\\\"expand_dims\\\\naxis=(0, 1)\\\"];\\n1309577023648 -> 1309577023792;\\n1309577023936 [label=\\\"expand_dims\\\\naxis=(0, 0)\\\"];\\n1309577023792 -> 1309577023936;\\n1309577023552 [label=\\\"transpose\\\\nperm=(0, 1, 2, 3, 4, 5)\\\"];\\n1309577023936 -> 1309577023552;\\n1309577024080 [label=\\\"matmul - I1\\\\naxes=(2,) left=(1, 2) right=(2, 3)\\\" style=filled fillcolor=red];\\n1309576923216 -> 1309577024080;\\n1309577023552 -> 1309577024080;\\n2 [label=\\\"input 2\\\\ndef\\\\n[-1 -1 -1  0  1  2]\\\"];\\n1309577024368 [label=\\\"id\\\\n\\\"];\\n2 -> 1309577024368;\\n1309577024560 [label=\\\"expand_dims\\\\naxis=(0, 2)\\\"];\\n1309577024368 -> 1309577024560;\\n1309577024608 [label=\\\"expand_dims\\\\naxis=(0, 1)\\\"];\\n1309577024560 -> 1309577024608;\\n1309577024800 [label=\\\"expand_dims\\\\naxis=(0, 0)\\\"];\\n1309577024608 -> 1309577024800;\\n1309577024512 [label=\\\"transpose\\\\nperm=(0, 1, 2, 3, 4, 5)\\\"];\\n1309577024800 -> 1309577024512;\\n1309577024944 [label=\\\"reduce_sum\\\\naxes=(5,)\\\"];\\n1309577024512 -> 1309577024944;\\n1309577025376 [label=\\\"matmul - I2\\\\naxes=(3,) left=(1, 2) right=(4,)\\\" style=filled fillcolor=red];\\n1309577024080 -> 1309577025376;\\n1309577024944 -> 1309577025376;\\n1309576924032 [label=\\\"transpose\\\\nperm=(0, 4, 1, 3, 2, 5)\\\"];\\n1309577025376 -> 1309576924032;\\n1309577025472 [label=\\\"squeeze\\\\naxes=(0, 3, 5)\\\"];\\n1309576924032 -> 1309577025472;\\n}\");\n",
              "document.getElementById('M89d9ced00c5743adb013d20f500445c9').innerHTML = svgGraph; });\n",
              "\n",
              "</script>"
            ],
            "text/plain": [
              "<jyquickhelper.jspy.render_nb_js_dot.RenderJsDot at 0x130e8df9d90>"
            ]
          },
          "execution_count": 8,
          "metadata": {},
          "output_type": "execute_result"
        }
      ],
      "source": [
        "from jyquickhelper import RenderJsDot\n",
        "RenderJsDot(seq.to_dot(size=7))"
      ]
    },
    {
      "cell_type": "markdown",
      "metadata": {},
      "source": [
        "Then the result can be obtained as follows:"
      ]
    },
    {
      "cell_type": "code",
      "execution_count": 8,
      "metadata": {},
      "outputs": [
        {
          "data": {
            "text/plain": [
              "array([[[ 8866198.,  9864696.],\n",
              "        [12090270., 13152928.]],\n",
              "\n",
              "       [[ 8883886.,  9884376.],\n",
              "        [12114390., 13179168.]]], dtype=float32)"
            ]
          },
          "execution_count": 9,
          "metadata": {},
          "output_type": "execute_result"
        }
      ],
      "source": [
        "apply_einsum_sequence(seq, m1, m2, m3)"
      ]
    },
    {
      "cell_type": "markdown",
      "metadata": {},
      "source": [
        "## onnxruntime"
      ]
    },
    {
      "cell_type": "code",
      "execution_count": 9,
      "metadata": {},
      "outputs": [],
      "source": [
        "import onnx\n",
        "from onnx import helper, numpy_helper\n",
        "from onnxruntime import InferenceSession\n",
        "\n",
        "\n",
        "def make_model(equation):\n",
        "    model = helper.make_model(\n",
        "        opset_imports=[helper.make_operatorsetid('', 13)],\n",
        "        graph=helper.make_graph(\n",
        "            name='einsum_test',\n",
        "            inputs=[helper.make_tensor_value_info(\"X\", onnx.TensorProto.FLOAT, None),\n",
        "                    helper.make_tensor_value_info(\"Y\", onnx.TensorProto.FLOAT, None),\n",
        "                    helper.make_tensor_value_info(\"Z\", onnx.TensorProto.FLOAT, None)],\n",
        "            outputs=[helper.make_tensor_value_info(\"A\", onnx.TensorProto.FLOAT, None)],\n",
        "            nodes=[\n",
        "                helper.make_node(\"Einsum\", [\"X\", \"Y\", \"Z\"], [\"A\"], equation=equation)\n",
        "            ]\n",
        "        )\n",
        "    )\n",
        "    return model\n",
        "\n",
        "\n",
        "model = make_model(\"bac,cd,def->ebc\")\n",
        "sess = InferenceSession(model.SerializeToString())"
      ]
    },
    {
      "cell_type": "code",
      "execution_count": 10,
      "metadata": {},
      "outputs": [
        {
          "data": {
            "text/plain": [
              "array([[[ 8866198.,  9864696.],\n",
              "        [12090270., 13152928.]],\n",
              "\n",
              "       [[ 8883886.,  9884376.],\n",
              "        [12114390., 13179168.]]], dtype=float32)"
            ]
          },
          "execution_count": 11,
          "metadata": {},
          "output_type": "execute_result"
        }
      ],
      "source": [
        "sess.run(None, {'X': m1, 'Y': m2, 'Z': m3})[0]"
      ]
    },
    {
      "cell_type": "markdown",
      "metadata": {},
      "source": [
        "### Benchmark\n",
        "\n",
        "It clearly shows the summation done with the basic algorithm is clearly the slowest."
      ]
    },
    {
      "cell_type": "code",
      "execution_count": 11,
      "metadata": {},
      "outputs": [
        {
          "name": "stderr",
          "output_type": "stream",
          "text": [
            "100%|\u2588\u2588\u2588\u2588\u2588\u2588\u2588\u2588\u2588\u2588| 10/10 [00:03<00:00,  2.98it/s]\n"
          ]
        },
        {
          "data": {
            "text/html": [
              "<div>\n",
              "<style scoped>\n",
              "    .dataframe tbody tr th:only-of-type {\n",
              "        vertical-align: middle;\n",
              "    }\n",
              "\n",
              "    .dataframe tbody tr th {\n",
              "        vertical-align: top;\n",
              "    }\n",
              "\n",
              "    .dataframe thead th {\n",
              "        text-align: right;\n",
              "    }\n",
              "</style>\n",
              "<table border=\"1\" class=\"dataframe\">\n",
              "  <thead>\n",
              "    <tr style=\"text-align: right;\">\n",
              "      <th></th>\n",
              "      <th>average</th>\n",
              "      <th>deviation</th>\n",
              "      <th>min_exec</th>\n",
              "      <th>max_exec</th>\n",
              "      <th>repeat</th>\n",
              "      <th>number</th>\n",
              "      <th>total</th>\n",
              "      <th>name</th>\n",
              "      <th>N</th>\n",
              "    </tr>\n",
              "  </thead>\n",
              "  <tbody>\n",
              "    <tr>\n",
              "      <th>28</th>\n",
              "      <td>0.010033</td>\n",
              "      <td>0.000136</td>\n",
              "      <td>0.009900</td>\n",
              "      <td>0.010392</td>\n",
              "      <td>10</td>\n",
              "      <td>10</td>\n",
              "      <td>0.100332</td>\n",
              "      <td>custom_einsum</td>\n",
              "      <td>35</td>\n",
              "    </tr>\n",
              "    <tr>\n",
              "      <th>29</th>\n",
              "      <td>0.002508</td>\n",
              "      <td>0.000182</td>\n",
              "      <td>0.002332</td>\n",
              "      <td>0.002898</td>\n",
              "      <td>10</td>\n",
              "      <td>10</td>\n",
              "      <td>0.025076</td>\n",
              "      <td>onnxruntime</td>\n",
              "      <td>35</td>\n",
              "    </tr>\n",
              "    <tr>\n",
              "      <th>30</th>\n",
              "      <td>0.077221</td>\n",
              "      <td>0.009178</td>\n",
              "      <td>0.066767</td>\n",
              "      <td>0.094665</td>\n",
              "      <td>10</td>\n",
              "      <td>10</td>\n",
              "      <td>0.772209</td>\n",
              "      <td>numpy.einsum</td>\n",
              "      <td>40</td>\n",
              "    </tr>\n",
              "    <tr>\n",
              "      <th>31</th>\n",
              "      <td>0.014716</td>\n",
              "      <td>0.000698</td>\n",
              "      <td>0.013814</td>\n",
              "      <td>0.015954</td>\n",
              "      <td>10</td>\n",
              "      <td>10</td>\n",
              "      <td>0.147156</td>\n",
              "      <td>custom_einsum</td>\n",
              "      <td>40</td>\n",
              "    </tr>\n",
              "    <tr>\n",
              "      <th>32</th>\n",
              "      <td>0.003906</td>\n",
              "      <td>0.000792</td>\n",
              "      <td>0.003125</td>\n",
              "      <td>0.005847</td>\n",
              "      <td>10</td>\n",
              "      <td>10</td>\n",
              "      <td>0.039060</td>\n",
              "      <td>onnxruntime</td>\n",
              "      <td>40</td>\n",
              "    </tr>\n",
              "  </tbody>\n",
              "</table>\n",
              "</div>"
            ],
            "text/plain": [
              "     average  deviation  min_exec  max_exec  repeat  number     total  \\\n",
              "28  0.010033   0.000136  0.009900  0.010392      10      10  0.100332   \n",
              "29  0.002508   0.000182  0.002332  0.002898      10      10  0.025076   \n",
              "30  0.077221   0.009178  0.066767  0.094665      10      10  0.772209   \n",
              "31  0.014716   0.000698  0.013814  0.015954      10      10  0.147156   \n",
              "32  0.003906   0.000792  0.003125  0.005847      10      10  0.039060   \n",
              "\n",
              "             name   N  \n",
              "28  custom_einsum  35  \n",
              "29    onnxruntime  35  \n",
              "30   numpy.einsum  40  \n",
              "31  custom_einsum  40  \n",
              "32    onnxruntime  40  "
            ]
          },
          "execution_count": 12,
          "metadata": {},
          "output_type": "execute_result"
        }
      ],
      "source": [
        "from mlprodict.onnxrt.validate.validate_helper import measure_time\n",
        "from tqdm import tqdm\n",
        "from pandas import DataFrame\n",
        "\n",
        "\n",
        "def raw_product(m1, m2, m3):\n",
        "    N = m1.shape[0]\n",
        "    res = numpy.zeros((N, N, N))\n",
        "    for a in range(0, N):\n",
        "        for b in range(0, N):\n",
        "            for c in range(0, N):\n",
        "                for d in range(0, N):\n",
        "                    for e in range(0, N):\n",
        "                        for f in range(0, N):\n",
        "                            res[e, b, c] += m1[b, a, c] * m2[c, d] * m3[d, e, f]\n",
        "    return res\n",
        "\n",
        "\n",
        "equation = \"bac,cd,def->ebc\"\n",
        "sess = None\n",
        "seq = None \n",
        "\n",
        "results = []\n",
        "for N in tqdm([2, 3, 4, 10, 15, 20, 25, 30, 35, 40]):\n",
        "    m1 = numpy.random.randn(N, N, N)\n",
        "    m2 = numpy.random.randn(N, N)\n",
        "    m3 = numpy.random.randn(N, N, N)\n",
        "    \n",
        "    if seq is None:\n",
        "        seq = decompose_einsum_equation(\n",
        "            equation, m1.shape, m2.shape, m3.shape)\n",
        "    if sess is None:\n",
        "        model = make_model(equation)\n",
        "        sess = InferenceSession(model.SerializeToString())\n",
        "\n",
        "    res = measure_time(lambda x: numpy.einsum(equation, *x, optimize=True),\n",
        "                       [m1, m2, m3],\n",
        "                       repeat=10, number=10)\n",
        "    res['name'] = \"numpy.einsum\"\n",
        "    res[\"N\"] = N\n",
        "    results.append(res)\n",
        "\n",
        "    if N <= 4:\n",
        "        res = measure_time(lambda x: raw_product(*x),\n",
        "                           [m1, m2, m3],\n",
        "                           repeat=10, number=10)\n",
        "        res['name'] = \"raw_product\"\n",
        "        res[\"N\"] = N\n",
        "        results.append(res)    \n",
        "\n",
        "    res = measure_time(lambda x: apply_einsum_sequence(seq, *x),\n",
        "                       [m1, m2, m3],\n",
        "                       repeat=10, number=10)\n",
        "    res['name'] = \"custom_einsum\"\n",
        "    res[\"N\"] = N\n",
        "    results.append(res)    \n",
        "\n",
        "    res = measure_time(lambda x: sess.run(None, {'X': x[0], 'Y': x[1], 'Z': x[2]}),\n",
        "                       [m1.astype(numpy.float32), m2.astype(numpy.float32),\n",
        "                        m3.astype(numpy.float32)],\n",
        "                       repeat=10, number=10)\n",
        "    res['name'] = \"onnxruntime\"\n",
        "    res[\"N\"] = N\n",
        "    results.append(res)    \n",
        "    \n",
        "\n",
        "df = DataFrame(results)\n",
        "df.tail()"
      ]
    },
    {
      "cell_type": "code",
      "execution_count": 12,
      "metadata": {},
      "outputs": [
        {
          "data": {
            "image/png": "[encoded data removed]",
            "text/plain": [
              "<Figure size 432x288 with 1 Axes>"
            ]
          },
          "metadata": {
            "needs_background": "light"
          },
          "output_type": "display_data"
        }
      ],
      "source": [
        "piv = df.pivot(\"N\", \"name\", \"average\")\n",
        "ax = piv.plot(logy=True, logx=True)\n",
        "ax.set_title(\"Benchmark einsum function\");"
      ]
    },
    {
      "cell_type": "code",
      "execution_count": 13,
      "metadata": {},
      "outputs": [],
      "source": []
    },
    {
      "cell_type": "code",
      "execution_count": 14,
      "metadata": {},
      "outputs": [],
      "source": []
    }
  ],
  "metadata": {
    "kernelspec": {
      "display_name": "Python 3",
      "language": "python",
      "name": "python3"
    },
    "language_info": {
      "codemirror_mode": {
        "name": "ipython",
        "version": 3
      },
      "file_extension": ".py",
      "mimetype": "text/x-python",
      "name": "python",
      "nbconvert_exporter": "python",
      "pygments_lexer": "ipython3",
      "version": "3.8.7"
    }
  },
  "nbformat": 4,
  "nbformat_minor": 4
}