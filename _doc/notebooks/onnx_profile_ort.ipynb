{
  "cells": [
    {
      "cell_type": "markdown",
      "metadata": {},
      "source": [
        "# Profiling with onnxruntime\n",
        "\n",
        "The notebook profiles the execution of an ONNX graph built from a *KMeans* model and executed with *onnxruntime*. It then study the decomposition of one einsum equation into more simple operators."
      ]
    },
    {
      "cell_type": "code",
      "execution_count": 1,
      "metadata": {},
      "outputs": [
        {
          "data": {
            "text/html": [
              "<div id=\"my_id_menu_nb\">run previous cell, wait for 2 seconds</div>\n",
              "<script>\n",
              "function repeat_indent_string(n){\n",
              "    var a = \"\" ;\n",
              "    for ( ; n > 0 ; --n)\n",
              "        a += \"    \";\n",
              "    return a;\n",
              "}\n",
              "// look up into all sections and builds an automated menu //\n",
              "var update_menu_string = function(begin, lfirst, llast, sformat, send, keep_item, begin_format, end_format) {\n",
              "    var anchors = document.getElementsByClassName(\"section\");\n",
              "    if (anchors.length == 0) {\n",
              "        anchors = document.getElementsByClassName(\"text_cell_render rendered_html\");\n",
              "    }\n",
              "    var i,t;\n",
              "    var text_menu = begin;\n",
              "    var text_memo = \"<pre>\\nlength:\" + anchors.length + \"\\n\";\n",
              "    var ind = \"\";\n",
              "    var memo_level = 1;\n",
              "    var href;\n",
              "    var tags = [];\n",
              "    var main_item = 0;\n",
              "    var format_open = 0;\n",
              "    for (i = 0; i <= llast; i++)\n",
              "        tags.push(\"h\" + i);\n",
              "\n",
              "    for (i = 0; i < anchors.length; i++) {\n",
              "        text_memo += \"**\" + anchors[i].id + \"--\\n\";\n",
              "\n",
              "        var child = null;\n",
              "        for(t = 0; t < tags.length; t++) {\n",
              "            var r = anchors[i].getElementsByTagName(tags[t]);\n",
              "            if (r.length > 0) {\n",
              "child = r[0];\n",
              "break;\n",
              "            }\n",
              "        }\n",
              "        if (child == null) {\n",
              "            text_memo += \"null\\n\";\n",
              "            continue;\n",
              "        }\n",
              "        if (anchors[i].hasAttribute(\"id\")) {\n",
              "            // when converted in RST\n",
              "            href = anchors[i].id;\n",
              "            text_memo += \"#1-\" + href;\n",
              "            // passer \u00e0 child suivant (le chercher)\n",
              "        }\n",
              "        else if (child.hasAttribute(\"id\")) {\n",
              "            // in a notebook\n",
              "            href = child.id;\n",
              "            text_memo += \"#2-\" + href;\n",
              "        }\n",
              "        else {\n",
              "            text_memo += \"#3-\" + \"*\" + \"\\n\";\n",
              "            continue;\n",
              "        }\n",
              "        var title = child.textContent;\n",
              "        var level = parseInt(child.tagName.substring(1,2));\n",
              "\n",
              "        text_memo += \"--\" + level + \"?\" + lfirst + \"--\" + title + \"\\n\";\n",
              "\n",
              "        if ((level < lfirst) || (level > llast)) {\n",
              "            continue ;\n",
              "        }\n",
              "        if (title.endsWith('\u00b6')) {\n",
              "            title = title.substring(0,title.length-1).replace(\"<\", \"&lt;\")\n",
              "         .replace(\">\", \"&gt;\").replace(\"&\", \"&amp;\");\n",
              "        }\n",
              "        if (title.length == 0) {\n",
              "            continue;\n",
              "        }\n",
              "\n",
              "        while (level < memo_level) {\n",
              "            text_menu += end_format + \"</ul>\\n\";\n",
              "            format_open -= 1;\n",
              "            memo_level -= 1;\n",
              "        }\n",
              "        if (level == lfirst) {\n",
              "            main_item += 1;\n",
              "        }\n",
              "        if (keep_item != -1 && main_item != keep_item + 1) {\n",
              "            // alert(main_item + \" - \" + level + \" - \" + keep_item);\n",
              "            continue;\n",
              "        }\n",
              "        while (level > memo_level) {\n",
              "            text_menu += \"<ul>\\n\";\n",
              "            memo_level += 1;\n",
              "        }\n",
              "        text_menu += repeat_indent_string(level-2);\n",
              "        text_menu += begin_format + sformat.replace(\"__HREF__\", href).replace(\"__TITLE__\", title);\n",
              "        format_open += 1;\n",
              "    }\n",
              "    while (1 < memo_level) {\n",
              "        text_menu += end_format + \"</ul>\\n\";\n",
              "        memo_level -= 1;\n",
              "        format_open -= 1;\n",
              "    }\n",
              "    text_menu += send;\n",
              "    //text_menu += \"\\n\" + text_memo;\n",
              "\n",
              "    while (format_open > 0) {\n",
              "        text_menu += end_format;\n",
              "        format_open -= 1;\n",
              "    }\n",
              "    return text_menu;\n",
              "};\n",
              "var update_menu = function() {\n",
              "    var sbegin = \"\";\n",
              "    var sformat = '<a href=\"#__HREF__\">__TITLE__</a>';\n",
              "    var send = \"\";\n",
              "    var begin_format = '<li>';\n",
              "    var end_format = '</li>';\n",
              "    var keep_item = -1;\n",
              "    var text_menu = update_menu_string(sbegin, 2, 4, sformat, send, keep_item,\n",
              "       begin_format, end_format);\n",
              "    var menu = document.getElementById(\"my_id_menu_nb\");\n",
              "    menu.innerHTML=text_menu;\n",
              "};\n",
              "window.setTimeout(update_menu,2000);\n",
              "            </script>"
            ],
            "text/plain": [
              "<IPython.core.display.HTML object>"
            ]
          },
          "execution_count": 2,
          "metadata": {},
          "output_type": "execute_result"
        }
      ],
      "source": [
        "from jyquickhelper import add_notebook_menu\n",
        "add_notebook_menu()"
      ]
    },
    {
      "cell_type": "code",
      "execution_count": 2,
      "metadata": {},
      "outputs": [],
      "source": [
        "%matplotlib inline"
      ]
    },
    {
      "cell_type": "code",
      "execution_count": 3,
      "metadata": {},
      "outputs": [],
      "source": [
        "%load_ext mlprodict"
      ]
    },
    {
      "cell_type": "markdown",
      "metadata": {},
      "source": [
        "## KMeans"
      ]
    },
    {
      "cell_type": "markdown",
      "metadata": {},
      "source": [
        "### Builds a KMeans"
      ]
    },
    {
      "cell_type": "code",
      "execution_count": 4,
      "metadata": {},
      "outputs": [],
      "source": [
        "from sklearn.datasets import make_classification\n",
        "X, y = make_classification(100000)"
      ]
    },
    {
      "cell_type": "code",
      "execution_count": 5,
      "metadata": {},
      "outputs": [
        {
          "data": {
            "text/plain": [
              "KMeans(max_iter=10)"
            ]
          },
          "execution_count": 6,
          "metadata": {},
          "output_type": "execute_result"
        }
      ],
      "source": [
        "from sklearn.cluster import KMeans\n",
        "km = KMeans(max_iter=10)\n",
        "km.fit(X)"
      ]
    },
    {
      "cell_type": "code",
      "execution_count": 6,
      "metadata": {},
      "outputs": [],
      "source": [
        "import numpy\n",
        "from mlprodict.onnx_conv import to_onnx\n",
        "onx = to_onnx(km, X[:1].astype(numpy.float32))"
      ]
    },
    {
      "cell_type": "code",
      "execution_count": 7,
      "metadata": {},
      "outputs": [
        {
          "data": {
            "text/html": [
              "<div id=\"M59d60e5a39fc4c6084f63cefe39b09b7-cont\"><div id=\"M59d60e5a39fc4c6084f63cefe39b09b7\" style=\"width:100%;height:100%;\"></div></div>\n",
              "<script>\n",
              "\n",
              "require(['http://www.xavierdupre.fr/js/vizjs/viz.js'], function() { var svgGraph = Viz(\"digraph{\\n  nodesep=0.05;\\n  ranksep=0.25;\\n  orientation=portrait;\\n  size=None;\\n\\n  X [shape=box color=red label=\\\"X\\nfloat((0, 20))\\\" fontsize=10];\\n\\n  label [shape=box color=green label=\\\"label\\nint64((0,))\\\" fontsize=10];\\n  scores [shape=box color=green label=\\\"scores\\nfloat((0, 8))\\\" fontsize=10];\\n\\n  Ad_Addcst [shape=box label=\\\"Ad_Addcst\\nfloat32((8,))\\n[6.8420963 6.6405883 7.0102296 1.7996922 4.9986043 2.410957  1.7175628\\n 1.8431604]\\\" fontsize=10];\\n  Ge_Gemmcst [shape=box label=\\\"Ge_Gemmcst\\nfloat32((8, 20))\\n[[-1.56142503e-01  8.97120982e-02  5.41380569e-02 ...\\\" fontsize=10];\\n  Mu_Mulcst [shape=box label=\\\"Mu_Mulcst\\nfloat32((1,))\\n[0.]\\\" fontsize=10];\\n\\n  Re_reduced0 [shape=box label=\\\"Re_reduced0\\\" fontsize=10];\\n  Re_ReduceSumSquare [shape=box style=\\\"filled,rounded\\\" color=orange label=\\\"ReduceSumSquare\\n(Re_ReduceSumSquare)\\naxes=[1]\\nkeepdims=1\\\" fontsize=10];\\n  X -> Re_ReduceSumSquare;\\n  Re_ReduceSumSquare -> Re_reduced0;\\n\\n  Mu_C0 [shape=box label=\\\"Mu_C0\\\" fontsize=10];\\n  Mu_Mul [shape=box style=\\\"filled,rounded\\\" color=orange label=\\\"Mul\\n(Mu_Mul)\\\" fontsize=10];\\n  Re_reduced0 -> Mu_Mul;\\n  Mu_Mulcst -> Mu_Mul;\\n  Mu_Mul -> Mu_C0;\\n\\n  Ge_Y0 [shape=box label=\\\"Ge_Y0\\\" fontsize=10];\\n  Ge_Gemm [shape=box style=\\\"filled,rounded\\\" color=orange label=\\\"Gemm\\n(Ge_Gemm)\\nalpha=-2.0\\ntransB=1\\\" fontsize=10];\\n  X -> Ge_Gemm;\\n  Ge_Gemmcst -> Ge_Gemm;\\n  Mu_C0 -> Ge_Gemm;\\n  Ge_Gemm -> Ge_Y0;\\n\\n  Ad_C01 [shape=box label=\\\"Ad_C01\\\" fontsize=10];\\n  Ad_Add [shape=box style=\\\"filled,rounded\\\" color=orange label=\\\"Add\\n(Ad_Add)\\\" fontsize=10];\\n  Re_reduced0 -> Ad_Add;\\n  Ge_Y0 -> Ad_Add;\\n  Ad_Add -> Ad_C01;\\n\\n  Ad_C0 [shape=box label=\\\"Ad_C0\\\" fontsize=10];\\n  Ad_Add1 [shape=box style=\\\"filled,rounded\\\" color=orange label=\\\"Add\\n(Ad_Add1)\\\" fontsize=10];\\n  Ad_Addcst -> Ad_Add1;\\n  Ad_C01 -> Ad_Add1;\\n  Ad_Add1 -> Ad_C0;\\n\\n  Ar_ArgMin [shape=box style=\\\"filled,rounded\\\" color=orange label=\\\"ArgMin\\n(Ar_ArgMin)\\naxis=1\\nkeepdims=0\\\" fontsize=10];\\n  Ad_C0 -> Ar_ArgMin;\\n  Ar_ArgMin -> label;\\n\\n  Sq_Sqrt [shape=box style=\\\"filled,rounded\\\" color=orange label=\\\"Sqrt\\n(Sq_Sqrt)\\\" fontsize=10];\\n  Ad_C0 -> Sq_Sqrt;\\n  Sq_Sqrt -> scores;\\n}\");\n",
              "document.getElementById('M59d60e5a39fc4c6084f63cefe39b09b7').innerHTML = svgGraph; });\n",
              "\n",
              "</script>"
            ],
            "text/plain": [
              "<jyquickhelper.jspy.render_nb_js_dot.RenderJsDot at 0x26206ad88b0>"
            ]
          },
          "execution_count": 8,
          "metadata": {},
          "output_type": "execute_result"
        }
      ],
      "source": [
        "%onnxview onx"
      ]
    },
    {
      "cell_type": "markdown",
      "metadata": {},
      "source": [
        "### Json\n",
        "\n",
        "Another way to look into a model."
      ]
    },
    {
      "cell_type": "code",
      "execution_count": 8,
      "metadata": {},
      "outputs": [],
      "source": [
        "from mlprodict.onnxrt import OnnxInference\n",
        "\n",
        "oinf = OnnxInference(onx)\n",
        "js = oinf.to_json()"
      ]
    },
    {
      "cell_type": "code",
      "execution_count": 9,
      "metadata": {},
      "outputs": [
        {
          "data": {
            "text/html": [
              "<div id=\"c8bfdc91-695a-4c5f-87f5-ced7a944d37f\" style=\"height: 100%; width:100%;\"></div>\n",
              "<script>\n",
              "\n",
              "        require([\"https://rawgit.com/caldwell/renderjson/master/renderjson.js\"], function() {\n",
              "        document.getElementById('c8bfdc91-695a-4c5f-87f5-ced7a944d37f').appendChild(renderjson({\"producer_version\": \"1.9.dev\", \"producer_name\": \"skl2onnx\", \"doc_string\": \"\", \"model_version\": 0, \"domain\": \"ai.onnx\", \"ir_version\": 7, \"inputs\": [{\"name\": \"X\", \"type\": {\"tensor_type\": {\"elem_type\": 1, \"shape\": {\"dim\": {\"dim_value\": 20}}}}}], \"outputs\": [{\"name\": \"label\", \"type\": {\"tensor_type\": {\"elem_type\": 7, \"shape\": {\"dim\": {}}}}}, {\"name\": \"scores\", \"type\": {\"tensor_type\": {\"elem_type\": 1, \"shape\": {\"dim\": {\"dim_value\": 8}}}}}], \"initializers\": {\"Ad_Addcst\": [6.842096328735352, 6.640588283538818, 7.010229587554932, 1.799692153930664, 4.9986042976379395, 2.410957098007202, 1.7175627946853638, 1.8431603908538818], \"Ge_Gemmcst\": [[-0.15614250302314758, 0.08971209824085236, 0.05413805693387985, 1.2894601821899414, -0.02947893925011158, 0.010273328050971031, 1.559543490409851, 0.07955942302942276, -0.03670130670070648, -0.06831776350736618, -0.03160196542739868, 0.044870879501104355, -0.007382499054074287, -0.03361813351511955, 0.11180518567562103, -0.004942443687468767, 0.1079426035284996, -1.630927324295044, -0.07179583609104156, -0.07129472494125366], [-1.4643968343734741, 0.03728868067264557, 0.0302373468875885, 0.0503617562353611, -0.015191069804131985, -0.0010860561160370708, 1.3572258949279785, 0.011194822378456593, -0.04968400299549103, -0.06093396246433258, -0.012070290744304657, 0.019685618579387665, -0.005544651765376329, 0.01922253519296646, 0.054683711379766464, 0.009211215190589428, 0.037103284150362015, 1.623145341873169, -0.04227569326758385, -0.030254226177930832], [0.34066808223724365, -0.07316707819700241, -0.029053213074803352, -1.3110004663467407, 0.005742031615227461, 0.04046446084976196, -1.7473061084747314, -0.028565282002091408, 0.030329126864671707, 0.051277387887239456, 0.010856864973902702, -0.024547042325139046, 0.023071739822626114, 0.01671985723078251, -0.031262703239917755, 0.022427095100283623, -0.1019616648554802, 1.4477444887161255, -0.006037967745214701, 0.027049915865063667], [-0.10761420428752899, -0.5687389373779297, 0.047426093369722366, 0.16299580037593842, 0.2604694664478302, -0.08039607107639313, 0.2752517759799957, -0.1329556107521057, -0.497700035572052, -0.016257526353001595, -0.41151514649391174, -0.15533463656902313, -0.030696261674165726, 0.3268052339553833, 0.10608943551778793, 0.603096067905426, -0.47464174032211304, -0.10451047122478485, -0.2719891667366028, -0.18365609645843506], [1.2660874128341675, -0.0431232787668705, -0.02856382168829441, -0.017440343275666237, 0.020280830562114716, 0.025364862754940987, -1.1446707248687744, -0.02751198038458824, 0.00981571152806282, 0.01389652956277132, 0.034720201045274734, 0.003527421737089753, 0.02749168686568737, -0.0006228830898180604, -0.004298731684684753, -0.015106352046132088, -0.060519035905599594, -1.4400075674057007, 0.0179237462580204, 0.021177146583795547], [-0.35065388679504395, -0.045007478445768356, -0.16990335285663605, 0.43367475271224976, -0.1972375363111496, -0.004362468142062426, 0.7895331978797913, -0.34395238757133484, 0.4341747462749481, 0.3751564621925354, 0.3411017656326294, -0.09662877768278122, 0.07338327169418335, -0.014970486052334309, -0.4992491602897644, -0.358038067817688, -0.2776113748550415, -0.20365376770496368, 0.42993080615997314, 0.3835015594959259], [-0.0037097230087965727, 0.1440972089767456, -0.37947967648506165, -0.17758150398731232, 0.3375777304172516, 0.4396274983882904, -0.19236408174037933, 0.7503358721733093, 0.0774589404463768, 0.05038851872086525, 0.2869609296321869, 0.35429808497428894, -0.06881746649742126, -0.4335789382457733, 0.1259443610906601, -0.16024045646190643, 0.12596802413463593, 0.2537723481655121, -0.04047779738903046, -0.28534388542175293], [0.13426555693149567, 0.4864915609359741, 0.4142190217971802, -0.25620517134666443, -0.37957730889320374, -0.44461795687675476, -0.4016421437263489, -0.34825798869132996, 0.033667318522930145, -0.36173108220100403, -0.2211400419473648, -0.15940217673778534, -0.07528318464756012, 0.08053095638751984, 0.08930937945842743, -0.10640890896320343, 0.6488555669784546, 0.2046305537223816, -0.008651397190988064, 0.16176460683345795]], \"Mu_Mulcst\": [0.0]}, \"nodes\": [{\"name\": \"Re_ReduceSumSquare\", \"op_type\": \"ReduceSumSquare\", \"domain\": \"\", \"inputs\": [\"X\"], \"outputs\": [\"Re_reduced0\"], \"attributes\": {\"axes\": {\"ints\": [1], \"type\": \"INTS\"}, \"keepdims\": {\"i\": 1, \"type\": \"INT\"}}}, {\"name\": \"Mu_Mul\", \"op_type\": \"Mul\", \"domain\": \"\", \"inputs\": [\"Re_reduced0\", \"Mu_Mulcst\"], \"outputs\": [\"Mu_C0\"], \"attributes\": {}}, {\"name\": \"Ge_Gemm\", \"op_type\": \"Gemm\", \"domain\": \"\", \"inputs\": [\"X\", \"Ge_Gemmcst\", \"Mu_C0\"], \"outputs\": [\"Ge_Y0\"], \"attributes\": {\"alpha\": {\"f\": -2.0, \"type\": \"FLOAT\"}, \"transB\": {\"i\": 1, \"type\": \"INT\"}}}, {\"name\": \"Ad_Add\", \"op_type\": \"Add\", \"domain\": \"\", \"inputs\": [\"Re_reduced0\", \"Ge_Y0\"], \"outputs\": [\"Ad_C01\"], \"attributes\": {}}, {\"name\": \"Ad_Add1\", \"op_type\": \"Add\", \"domain\": \"\", \"inputs\": [\"Ad_Addcst\", \"Ad_C01\"], \"outputs\": [\"Ad_C0\"], \"attributes\": {}}, {\"name\": \"Ar_ArgMin\", \"op_type\": \"ArgMin\", \"domain\": \"\", \"inputs\": [\"Ad_C0\"], \"outputs\": [\"label\"], \"attributes\": {\"axis\": {\"i\": 1, \"type\": \"INT\"}, \"keepdims\": {\"i\": 0, \"type\": \"INT\"}}}, {\"name\": \"Sq_Sqrt\", \"op_type\": \"Sqrt\", \"domain\": \"\", \"inputs\": [\"Ad_C0\"], \"outputs\": [\"scores\"], \"attributes\": {}}]}))\n",
              "        }); \n",
              "</script>\n"
            ],
            "text/plain": [
              "<jyquickhelper.jspy.render_nb_json.RenderJSON at 0x262341a3370>"
            ]
          },
          "execution_count": 10,
          "metadata": {},
          "output_type": "execute_result"
        }
      ],
      "source": [
        "import json\n",
        "from io import StringIO\n",
        "from jyquickhelper import JSONJS\n",
        "JSONJS(json.load(StringIO(oinf.to_json())))"
      ]
    },
    {
      "cell_type": "markdown",
      "metadata": {},
      "source": [
        "### Profiling"
      ]
    },
    {
      "cell_type": "code",
      "execution_count": 10,
      "metadata": {
        "scrolled": false
      },
      "outputs": [],
      "source": [
        "from mlprodict.onnxrt import OnnxInference\n",
        "\n",
        "oinf = OnnxInference(onx, runtime=\"onnxruntime1\",\n",
        "                     runtime_options={\"enable_profiling\": True})"
      ]
    },
    {
      "cell_type": "code",
      "execution_count": 11,
      "metadata": {},
      "outputs": [],
      "source": [
        "for i in range(0, 111):\n",
        "    oinf.run({\"X\": X.astype(numpy.float32)})"
      ]
    },
    {
      "cell_type": "code",
      "execution_count": 12,
      "metadata": {},
      "outputs": [
        {
          "data": {
            "text/html": [
              "<div>\n",
              "<style scoped>\n",
              "    .dataframe tbody tr th:only-of-type {\n",
              "        vertical-align: middle;\n",
              "    }\n",
              "\n",
              "    .dataframe tbody tr th {\n",
              "        vertical-align: top;\n",
              "    }\n",
              "\n",
              "    .dataframe thead th {\n",
              "        text-align: right;\n",
              "    }\n",
              "</style>\n",
              "<table border=\"1\" class=\"dataframe\">\n",
              "  <thead>\n",
              "    <tr style=\"text-align: right;\">\n",
              "      <th></th>\n",
              "      <th>cat</th>\n",
              "      <th>pid</th>\n",
              "      <th>tid</th>\n",
              "      <th>dur</th>\n",
              "      <th>ts</th>\n",
              "      <th>ph</th>\n",
              "      <th>name</th>\n",
              "      <th>args_op_name</th>\n",
              "      <th>args_provider</th>\n",
              "      <th>args_graph_index</th>\n",
              "      <th>args_parameter_size</th>\n",
              "      <th>args_thread_scheduling_stats</th>\n",
              "      <th>args_exec_plan_index</th>\n",
              "      <th>args_activation_size</th>\n",
              "      <th>args_output_size</th>\n",
              "    </tr>\n",
              "  </thead>\n",
              "  <tbody>\n",
              "    <tr>\n",
              "      <th>0</th>\n",
              "      <td>Session</td>\n",
              "      <td>106368</td>\n",
              "      <td>299276</td>\n",
              "      <td>596</td>\n",
              "      <td>12</td>\n",
              "      <td>X</td>\n",
              "      <td>model_loading_array</td>\n",
              "      <td>NaN</td>\n",
              "      <td>NaN</td>\n",
              "      <td>NaN</td>\n",
              "      <td>NaN</td>\n",
              "      <td>NaN</td>\n",
              "      <td>NaN</td>\n",
              "      <td>NaN</td>\n",
              "      <td>NaN</td>\n",
              "    </tr>\n",
              "    <tr>\n",
              "      <th>1</th>\n",
              "      <td>Session</td>\n",
              "      <td>106368</td>\n",
              "      <td>299276</td>\n",
              "      <td>6925</td>\n",
              "      <td>670</td>\n",
              "      <td>X</td>\n",
              "      <td>session_initialization</td>\n",
              "      <td>NaN</td>\n",
              "      <td>NaN</td>\n",
              "      <td>NaN</td>\n",
              "      <td>NaN</td>\n",
              "      <td>NaN</td>\n",
              "      <td>NaN</td>\n",
              "      <td>NaN</td>\n",
              "      <td>NaN</td>\n",
              "    </tr>\n",
              "    <tr>\n",
              "      <th>2</th>\n",
              "      <td>Node</td>\n",
              "      <td>106368</td>\n",
              "      <td>299276</td>\n",
              "      <td>1</td>\n",
              "      <td>34854</td>\n",
              "      <td>X</td>\n",
              "      <td>Re_ReduceSumSquare_fence_before</td>\n",
              "      <td>ReduceSumSquare</td>\n",
              "      <td>NaN</td>\n",
              "      <td>NaN</td>\n",
              "      <td>NaN</td>\n",
              "      <td>NaN</td>\n",
              "      <td>NaN</td>\n",
              "      <td>NaN</td>\n",
              "      <td>NaN</td>\n",
              "    </tr>\n",
              "    <tr>\n",
              "      <th>3</th>\n",
              "      <td>Node</td>\n",
              "      <td>106368</td>\n",
              "      <td>299276</td>\n",
              "      <td>2939</td>\n",
              "      <td>34869</td>\n",
              "      <td>X</td>\n",
              "      <td>Re_ReduceSumSquare_kernel_time</td>\n",
              "      <td>ReduceSumSquare</td>\n",
              "      <td>CPUExecutionProvider</td>\n",
              "      <td>0</td>\n",
              "      <td>0</td>\n",
              "      <td>{'main_thread': {'thread_pool_name': 'session-...</td>\n",
              "      <td>0</td>\n",
              "      <td>8000000</td>\n",
              "      <td>400000</td>\n",
              "    </tr>\n",
              "    <tr>\n",
              "      <th>4</th>\n",
              "      <td>Node</td>\n",
              "      <td>106368</td>\n",
              "      <td>299276</td>\n",
              "      <td>0</td>\n",
              "      <td>37872</td>\n",
              "      <td>X</td>\n",
              "      <td>Re_ReduceSumSquare_fence_after</td>\n",
              "      <td>ReduceSumSquare</td>\n",
              "      <td>NaN</td>\n",
              "      <td>NaN</td>\n",
              "      <td>NaN</td>\n",
              "      <td>NaN</td>\n",
              "      <td>NaN</td>\n",
              "      <td>NaN</td>\n",
              "      <td>NaN</td>\n",
              "    </tr>\n",
              "    <tr>\n",
              "      <th>...</th>\n",
              "      <td>...</td>\n",
              "      <td>...</td>\n",
              "      <td>...</td>\n",
              "      <td>...</td>\n",
              "      <td>...</td>\n",
              "      <td>...</td>\n",
              "      <td>...</td>\n",
              "      <td>...</td>\n",
              "      <td>...</td>\n",
              "      <td>...</td>\n",
              "      <td>...</td>\n",
              "      <td>...</td>\n",
              "      <td>...</td>\n",
              "      <td>...</td>\n",
              "      <td>...</td>\n",
              "    </tr>\n",
              "    <tr>\n",
              "      <th>2550</th>\n",
              "      <td>Node</td>\n",
              "      <td>106368</td>\n",
              "      <td>299276</td>\n",
              "      <td>0</td>\n",
              "      <td>2394227</td>\n",
              "      <td>X</td>\n",
              "      <td>Ar_ArgMin_fence_before</td>\n",
              "      <td>ArgMin</td>\n",
              "      <td>NaN</td>\n",
              "      <td>NaN</td>\n",
              "      <td>NaN</td>\n",
              "      <td>NaN</td>\n",
              "      <td>NaN</td>\n",
              "      <td>NaN</td>\n",
              "      <td>NaN</td>\n",
              "    </tr>\n",
              "    <tr>\n",
              "      <th>2551</th>\n",
              "      <td>Node</td>\n",
              "      <td>106368</td>\n",
              "      <td>299276</td>\n",
              "      <td>3511</td>\n",
              "      <td>2394228</td>\n",
              "      <td>X</td>\n",
              "      <td>Ar_ArgMin_kernel_time</td>\n",
              "      <td>ArgMin</td>\n",
              "      <td>CPUExecutionProvider</td>\n",
              "      <td>5</td>\n",
              "      <td>0</td>\n",
              "      <td>{'main_thread': {'thread_pool_name': 'session-...</td>\n",
              "      <td>5</td>\n",
              "      <td>3200000</td>\n",
              "      <td>800000</td>\n",
              "    </tr>\n",
              "    <tr>\n",
              "      <th>2552</th>\n",
              "      <td>Node</td>\n",
              "      <td>106368</td>\n",
              "      <td>299276</td>\n",
              "      <td>0</td>\n",
              "      <td>2397761</td>\n",
              "      <td>X</td>\n",
              "      <td>Ar_ArgMin_fence_after</td>\n",
              "      <td>ArgMin</td>\n",
              "      <td>NaN</td>\n",
              "      <td>NaN</td>\n",
              "      <td>NaN</td>\n",
              "      <td>NaN</td>\n",
              "      <td>NaN</td>\n",
              "      <td>NaN</td>\n",
              "      <td>NaN</td>\n",
              "    </tr>\n",
              "    <tr>\n",
              "      <th>2553</th>\n",
              "      <td>Session</td>\n",
              "      <td>106368</td>\n",
              "      <td>299276</td>\n",
              "      <td>11774</td>\n",
              "      <td>2385990</td>\n",
              "      <td>X</td>\n",
              "      <td>SequentialExecutor::Execute</td>\n",
              "      <td>NaN</td>\n",
              "      <td>NaN</td>\n",
              "      <td>NaN</td>\n",
              "      <td>NaN</td>\n",
              "      <td>NaN</td>\n",
              "      <td>NaN</td>\n",
              "      <td>NaN</td>\n",
              "      <td>NaN</td>\n",
              "    </tr>\n",
              "    <tr>\n",
              "      <th>2554</th>\n",
              "      <td>Session</td>\n",
              "      <td>106368</td>\n",
              "      <td>299276</td>\n",
              "      <td>11789</td>\n",
              "      <td>2385982</td>\n",
              "      <td>X</td>\n",
              "      <td>model_run</td>\n",
              "      <td>NaN</td>\n",
              "      <td>NaN</td>\n",
              "      <td>NaN</td>\n",
              "      <td>NaN</td>\n",
              "      <td>NaN</td>\n",
              "      <td>NaN</td>\n",
              "      <td>NaN</td>\n",
              "      <td>NaN</td>\n",
              "    </tr>\n",
              "  </tbody>\n",
              "</table>\n",
              "<p>2555 rows \u00d7 15 columns</p>\n",
              "</div>"
            ],
            "text/plain": [
              "          cat     pid     tid    dur       ts ph  \\\n",
              "0     Session  106368  299276    596       12  X   \n",
              "1     Session  106368  299276   6925      670  X   \n",
              "2        Node  106368  299276      1    34854  X   \n",
              "3        Node  106368  299276   2939    34869  X   \n",
              "4        Node  106368  299276      0    37872  X   \n",
              "...       ...     ...     ...    ...      ... ..   \n",
              "2550     Node  106368  299276      0  2394227  X   \n",
              "2551     Node  106368  299276   3511  2394228  X   \n",
              "2552     Node  106368  299276      0  2397761  X   \n",
              "2553  Session  106368  299276  11774  2385990  X   \n",
              "2554  Session  106368  299276  11789  2385982  X   \n",
              "\n",
              "                                 name     args_op_name         args_provider  \\\n",
              "0                 model_loading_array              NaN                   NaN   \n",
              "1              session_initialization              NaN                   NaN   \n",
              "2     Re_ReduceSumSquare_fence_before  ReduceSumSquare                   NaN   \n",
              "3      Re_ReduceSumSquare_kernel_time  ReduceSumSquare  CPUExecutionProvider   \n",
              "4      Re_ReduceSumSquare_fence_after  ReduceSumSquare                   NaN   \n",
              "...                               ...              ...                   ...   \n",
              "2550           Ar_ArgMin_fence_before           ArgMin                   NaN   \n",
              "2551            Ar_ArgMin_kernel_time           ArgMin  CPUExecutionProvider   \n",
              "2552            Ar_ArgMin_fence_after           ArgMin                   NaN   \n",
              "2553      SequentialExecutor::Execute              NaN                   NaN   \n",
              "2554                        model_run              NaN                   NaN   \n",
              "\n",
              "     args_graph_index args_parameter_size  \\\n",
              "0                 NaN                 NaN   \n",
              "1                 NaN                 NaN   \n",
              "2                 NaN                 NaN   \n",
              "3                   0                   0   \n",
              "4                 NaN                 NaN   \n",
              "...               ...                 ...   \n",
              "2550              NaN                 NaN   \n",
              "2551                5                   0   \n",
              "2552              NaN                 NaN   \n",
              "2553              NaN                 NaN   \n",
              "2554              NaN                 NaN   \n",
              "\n",
              "                           args_thread_scheduling_stats args_exec_plan_index  \\\n",
              "0                                                   NaN                  NaN   \n",
              "1                                                   NaN                  NaN   \n",
              "2                                                   NaN                  NaN   \n",
              "3     {'main_thread': {'thread_pool_name': 'session-...                    0   \n",
              "4                                                   NaN                  NaN   \n",
              "...                                                 ...                  ...   \n",
              "2550                                                NaN                  NaN   \n",
              "2551  {'main_thread': {'thread_pool_name': 'session-...                    5   \n",
              "2552                                                NaN                  NaN   \n",
              "2553                                                NaN                  NaN   \n",
              "2554                                                NaN                  NaN   \n",
              "\n",
              "     args_activation_size args_output_size  \n",
              "0                     NaN              NaN  \n",
              "1                     NaN              NaN  \n",
              "2                     NaN              NaN  \n",
              "3                 8000000           400000  \n",
              "4                     NaN              NaN  \n",
              "...                   ...              ...  \n",
              "2550                  NaN              NaN  \n",
              "2551              3200000           800000  \n",
              "2552                  NaN              NaN  \n",
              "2553                  NaN              NaN  \n",
              "2554                  NaN              NaN  \n",
              "\n",
              "[2555 rows x 15 columns]"
            ]
          },
          "execution_count": 13,
          "metadata": {},
          "output_type": "execute_result"
        }
      ],
      "source": [
        "df = oinf.get_profiling(as_df=True)\n",
        "df"
      ]
    },
    {
      "cell_type": "code",
      "execution_count": 13,
      "metadata": {},
      "outputs": [
        {
          "data": {
            "image/png": "[encoded data removed]",
            "text/plain": [
              "<Figure size 576x288 with 2 Axes>"
            ]
          },
          "metadata": {
            "needs_background": "light"
          },
          "output_type": "display_data"
        }
      ],
      "source": [
        "import matplotlib.pyplot as plt\n",
        "gr_dur = df[['dur', \"args_op_name\"]].groupby(\"args_op_name\").sum().sort_values('dur')\n",
        "gr_n = df[['dur', \"args_op_name\"]].groupby(\"args_op_name\").count().sort_values('dur')\n",
        "gr_n = gr_n.loc[gr_dur.index, :]\n",
        "\n",
        "fig, ax = plt.subplots(1, 2, figsize=(8, 4))\n",
        "gr_dur.plot.barh(ax=ax[0])\n",
        "gr_n.plot.barh(ax=ax[1])\n",
        "ax[0].set_title(\"duration\")\n",
        "ax[1].set_title(\"n occurences\");"
      ]
    },
    {
      "cell_type": "code",
      "execution_count": 14,
      "metadata": {
        "scrolled": false
      },
      "outputs": [
        {
          "data": {
            "image/png": "[encoded data removed]",
            "text/plain": [
              "<Figure size 720x288 with 1 Axes>"
            ]
          },
          "metadata": {
            "needs_background": "light"
          },
          "output_type": "display_data"
        }
      ],
      "source": [
        "gr2 = df.loc[(df.args_op_name == 'Add') & (df.dur > 10), ['dur', \"name\"]].groupby(\"name\").sum().sort_values('dur')\n",
        "gr2.plot.barh(figsize=(10, 4));"
      ]
    },
    {
      "cell_type": "markdown",
      "metadata": {
        "scrolled": false
      },
      "source": [
        "### onnxruntime"
      ]
    },
    {
      "cell_type": "code",
      "execution_count": 15,
      "metadata": {},
      "outputs": [],
      "source": [
        "from onnxruntime import InferenceSession, RunOptions, SessionOptions\n",
        "so = SessionOptions()\n",
        "so.enable_profiling = True\n",
        "sess = InferenceSession(onx.SerializeToString(), so)"
      ]
    },
    {
      "cell_type": "code",
      "execution_count": 16,
      "metadata": {},
      "outputs": [],
      "source": [
        "for i in range(0, 111):\n",
        "    sess.run(None, {'X': X.astype(numpy.float32)}, )"
      ]
    },
    {
      "cell_type": "code",
      "execution_count": 17,
      "metadata": {},
      "outputs": [
        {
          "data": {
            "text/plain": [
              "'onnxruntime_profile__2021-05-13_13-58-59.json'"
            ]
          },
          "execution_count": 18,
          "metadata": {},
          "output_type": "execute_result"
        }
      ],
      "source": [
        "prof = sess.end_profiling()\n",
        "prof"
      ]
    },
    {
      "cell_type": "code",
      "execution_count": 18,
      "metadata": {},
      "outputs": [
        {
          "data": {
            "text/plain": [
              "[{'cat': 'Session',\n",
              "  'pid': 106368,\n",
              "  'tid': 299276,\n",
              "  'dur': 450,\n",
              "  'ts': 6,\n",
              "  'ph': 'X',\n",
              "  'name': 'model_loading_array',\n",
              "  'args': {}},\n",
              " {'cat': 'Session',\n",
              "  'pid': 106368,\n",
              "  'tid': 299276,\n",
              "  'dur': 3068,\n",
              "  'ts': 498,\n",
              "  'ph': 'X',\n",
              "  'name': 'session_initialization',\n",
              "  'args': {}},\n",
              " {'cat': 'Node',\n",
              "  'pid': 106368,\n",
              "  'tid': 299276,\n",
              "  'dur': 1,\n",
              "  'ts': 39069,\n",
              "  'ph': 'X',\n",
              "  'name': 'Re_ReduceSumSquare_fence_before',\n",
              "  'args': {'op_name': 'ReduceSumSquare'}}]"
            ]
          },
          "execution_count": 19,
          "metadata": {},
          "output_type": "execute_result"
        }
      ],
      "source": [
        "with open(prof, \"r\") as f:\n",
        "    js = json.load(f)\n",
        "    \n",
        "js[:3]"
      ]
    },
    {
      "cell_type": "code",
      "execution_count": 19,
      "metadata": {},
      "outputs": [
        {
          "data": {
            "text/html": [
              "<div>\n",
              "<style scoped>\n",
              "    .dataframe tbody tr th:only-of-type {\n",
              "        vertical-align: middle;\n",
              "    }\n",
              "\n",
              "    .dataframe tbody tr th {\n",
              "        vertical-align: top;\n",
              "    }\n",
              "\n",
              "    .dataframe thead th {\n",
              "        text-align: right;\n",
              "    }\n",
              "</style>\n",
              "<table border=\"1\" class=\"dataframe\">\n",
              "  <thead>\n",
              "    <tr style=\"text-align: right;\">\n",
              "      <th></th>\n",
              "      <th>cat</th>\n",
              "      <th>pid</th>\n",
              "      <th>tid</th>\n",
              "      <th>dur</th>\n",
              "      <th>ts</th>\n",
              "      <th>ph</th>\n",
              "      <th>name</th>\n",
              "      <th>args_op_name</th>\n",
              "      <th>args_provider</th>\n",
              "      <th>args_graph_index</th>\n",
              "      <th>args_parameter_size</th>\n",
              "      <th>args_thread_scheduling_stats</th>\n",
              "      <th>args_exec_plan_index</th>\n",
              "      <th>args_activation_size</th>\n",
              "      <th>args_output_size</th>\n",
              "    </tr>\n",
              "  </thead>\n",
              "  <tbody>\n",
              "    <tr>\n",
              "      <th>0</th>\n",
              "      <td>Session</td>\n",
              "      <td>106368</td>\n",
              "      <td>299276</td>\n",
              "      <td>450</td>\n",
              "      <td>6</td>\n",
              "      <td>X</td>\n",
              "      <td>model_loading_array</td>\n",
              "      <td>NaN</td>\n",
              "      <td>NaN</td>\n",
              "      <td>NaN</td>\n",
              "      <td>NaN</td>\n",
              "      <td>NaN</td>\n",
              "      <td>NaN</td>\n",
              "      <td>NaN</td>\n",
              "      <td>NaN</td>\n",
              "    </tr>\n",
              "    <tr>\n",
              "      <th>1</th>\n",
              "      <td>Session</td>\n",
              "      <td>106368</td>\n",
              "      <td>299276</td>\n",
              "      <td>3068</td>\n",
              "      <td>498</td>\n",
              "      <td>X</td>\n",
              "      <td>session_initialization</td>\n",
              "      <td>NaN</td>\n",
              "      <td>NaN</td>\n",
              "      <td>NaN</td>\n",
              "      <td>NaN</td>\n",
              "      <td>NaN</td>\n",
              "      <td>NaN</td>\n",
              "      <td>NaN</td>\n",
              "      <td>NaN</td>\n",
              "    </tr>\n",
              "    <tr>\n",
              "      <th>2</th>\n",
              "      <td>Node</td>\n",
              "      <td>106368</td>\n",
              "      <td>299276</td>\n",
              "      <td>1</td>\n",
              "      <td>39069</td>\n",
              "      <td>X</td>\n",
              "      <td>Re_ReduceSumSquare_fence_before</td>\n",
              "      <td>ReduceSumSquare</td>\n",
              "      <td>NaN</td>\n",
              "      <td>NaN</td>\n",
              "      <td>NaN</td>\n",
              "      <td>NaN</td>\n",
              "      <td>NaN</td>\n",
              "      <td>NaN</td>\n",
              "      <td>NaN</td>\n",
              "    </tr>\n",
              "    <tr>\n",
              "      <th>3</th>\n",
              "      <td>Node</td>\n",
              "      <td>106368</td>\n",
              "      <td>299276</td>\n",
              "      <td>2804</td>\n",
              "      <td>39081</td>\n",
              "      <td>X</td>\n",
              "      <td>Re_ReduceSumSquare_kernel_time</td>\n",
              "      <td>ReduceSumSquare</td>\n",
              "      <td>CPUExecutionProvider</td>\n",
              "      <td>0</td>\n",
              "      <td>0</td>\n",
              "      <td>{'main_thread': {'thread_pool_name': 'session-...</td>\n",
              "      <td>0</td>\n",
              "      <td>8000000</td>\n",
              "      <td>400000</td>\n",
              "    </tr>\n",
              "    <tr>\n",
              "      <th>4</th>\n",
              "      <td>Node</td>\n",
              "      <td>106368</td>\n",
              "      <td>299276</td>\n",
              "      <td>0</td>\n",
              "      <td>41947</td>\n",
              "      <td>X</td>\n",
              "      <td>Re_ReduceSumSquare_fence_after</td>\n",
              "      <td>ReduceSumSquare</td>\n",
              "      <td>NaN</td>\n",
              "      <td>NaN</td>\n",
              "      <td>NaN</td>\n",
              "      <td>NaN</td>\n",
              "      <td>NaN</td>\n",
              "      <td>NaN</td>\n",
              "      <td>NaN</td>\n",
              "    </tr>\n",
              "    <tr>\n",
              "      <th>...</th>\n",
              "      <td>...</td>\n",
              "      <td>...</td>\n",
              "      <td>...</td>\n",
              "      <td>...</td>\n",
              "      <td>...</td>\n",
              "      <td>...</td>\n",
              "      <td>...</td>\n",
              "      <td>...</td>\n",
              "      <td>...</td>\n",
              "      <td>...</td>\n",
              "      <td>...</td>\n",
              "      <td>...</td>\n",
              "      <td>...</td>\n",
              "      <td>...</td>\n",
              "      <td>...</td>\n",
              "    </tr>\n",
              "    <tr>\n",
              "      <th>2550</th>\n",
              "      <td>Node</td>\n",
              "      <td>106368</td>\n",
              "      <td>299276</td>\n",
              "      <td>0</td>\n",
              "      <td>2530548</td>\n",
              "      <td>X</td>\n",
              "      <td>Ar_ArgMin_fence_before</td>\n",
              "      <td>ArgMin</td>\n",
              "      <td>NaN</td>\n",
              "      <td>NaN</td>\n",
              "      <td>NaN</td>\n",
              "      <td>NaN</td>\n",
              "      <td>NaN</td>\n",
              "      <td>NaN</td>\n",
              "      <td>NaN</td>\n",
              "    </tr>\n",
              "    <tr>\n",
              "      <th>2551</th>\n",
              "      <td>Node</td>\n",
              "      <td>106368</td>\n",
              "      <td>299276</td>\n",
              "      <td>3501</td>\n",
              "      <td>2530550</td>\n",
              "      <td>X</td>\n",
              "      <td>Ar_ArgMin_kernel_time</td>\n",
              "      <td>ArgMin</td>\n",
              "      <td>CPUExecutionProvider</td>\n",
              "      <td>5</td>\n",
              "      <td>0</td>\n",
              "      <td>{'main_thread': {'thread_pool_name': 'session-...</td>\n",
              "      <td>5</td>\n",
              "      <td>3200000</td>\n",
              "      <td>800000</td>\n",
              "    </tr>\n",
              "    <tr>\n",
              "      <th>2552</th>\n",
              "      <td>Node</td>\n",
              "      <td>106368</td>\n",
              "      <td>299276</td>\n",
              "      <td>0</td>\n",
              "      <td>2534074</td>\n",
              "      <td>X</td>\n",
              "      <td>Ar_ArgMin_fence_after</td>\n",
              "      <td>ArgMin</td>\n",
              "      <td>NaN</td>\n",
              "      <td>NaN</td>\n",
              "      <td>NaN</td>\n",
              "      <td>NaN</td>\n",
              "      <td>NaN</td>\n",
              "      <td>NaN</td>\n",
              "      <td>NaN</td>\n",
              "    </tr>\n",
              "    <tr>\n",
              "      <th>2553</th>\n",
              "      <td>Session</td>\n",
              "      <td>106368</td>\n",
              "      <td>299276</td>\n",
              "      <td>14679</td>\n",
              "      <td>2519397</td>\n",
              "      <td>X</td>\n",
              "      <td>SequentialExecutor::Execute</td>\n",
              "      <td>NaN</td>\n",
              "      <td>NaN</td>\n",
              "      <td>NaN</td>\n",
              "      <td>NaN</td>\n",
              "      <td>NaN</td>\n",
              "      <td>NaN</td>\n",
              "      <td>NaN</td>\n",
              "      <td>NaN</td>\n",
              "    </tr>\n",
              "    <tr>\n",
              "      <th>2554</th>\n",
              "      <td>Session</td>\n",
              "      <td>106368</td>\n",
              "      <td>299276</td>\n",
              "      <td>14701</td>\n",
              "      <td>2519386</td>\n",
              "      <td>X</td>\n",
              "      <td>model_run</td>\n",
              "      <td>NaN</td>\n",
              "      <td>NaN</td>\n",
              "      <td>NaN</td>\n",
              "      <td>NaN</td>\n",
              "      <td>NaN</td>\n",
              "      <td>NaN</td>\n",
              "      <td>NaN</td>\n",
              "      <td>NaN</td>\n",
              "    </tr>\n",
              "  </tbody>\n",
              "</table>\n",
              "<p>2555 rows \u00d7 15 columns</p>\n",
              "</div>"
            ],
            "text/plain": [
              "          cat     pid     tid    dur       ts ph  \\\n",
              "0     Session  106368  299276    450        6  X   \n",
              "1     Session  106368  299276   3068      498  X   \n",
              "2        Node  106368  299276      1    39069  X   \n",
              "3        Node  106368  299276   2804    39081  X   \n",
              "4        Node  106368  299276      0    41947  X   \n",
              "...       ...     ...     ...    ...      ... ..   \n",
              "2550     Node  106368  299276      0  2530548  X   \n",
              "2551     Node  106368  299276   3501  2530550  X   \n",
              "2552     Node  106368  299276      0  2534074  X   \n",
              "2553  Session  106368  299276  14679  2519397  X   \n",
              "2554  Session  106368  299276  14701  2519386  X   \n",
              "\n",
              "                                 name     args_op_name         args_provider  \\\n",
              "0                 model_loading_array              NaN                   NaN   \n",
              "1              session_initialization              NaN                   NaN   \n",
              "2     Re_ReduceSumSquare_fence_before  ReduceSumSquare                   NaN   \n",
              "3      Re_ReduceSumSquare_kernel_time  ReduceSumSquare  CPUExecutionProvider   \n",
              "4      Re_ReduceSumSquare_fence_after  ReduceSumSquare                   NaN   \n",
              "...                               ...              ...                   ...   \n",
              "2550           Ar_ArgMin_fence_before           ArgMin                   NaN   \n",
              "2551            Ar_ArgMin_kernel_time           ArgMin  CPUExecutionProvider   \n",
              "2552            Ar_ArgMin_fence_after           ArgMin                   NaN   \n",
              "2553      SequentialExecutor::Execute              NaN                   NaN   \n",
              "2554                        model_run              NaN                   NaN   \n",
              "\n",
              "     args_graph_index args_parameter_size  \\\n",
              "0                 NaN                 NaN   \n",
              "1                 NaN                 NaN   \n",
              "2                 NaN                 NaN   \n",
              "3                   0                   0   \n",
              "4                 NaN                 NaN   \n",
              "...               ...                 ...   \n",
              "2550              NaN                 NaN   \n",
              "2551                5                   0   \n",
              "2552              NaN                 NaN   \n",
              "2553              NaN                 NaN   \n",
              "2554              NaN                 NaN   \n",
              "\n",
              "                           args_thread_scheduling_stats args_exec_plan_index  \\\n",
              "0                                                   NaN                  NaN   \n",
              "1                                                   NaN                  NaN   \n",
              "2                                                   NaN                  NaN   \n",
              "3     {'main_thread': {'thread_pool_name': 'session-...                    0   \n",
              "4                                                   NaN                  NaN   \n",
              "...                                                 ...                  ...   \n",
              "2550                                                NaN                  NaN   \n",
              "2551  {'main_thread': {'thread_pool_name': 'session-...                    5   \n",
              "2552                                                NaN                  NaN   \n",
              "2553                                                NaN                  NaN   \n",
              "2554                                                NaN                  NaN   \n",
              "\n",
              "     args_activation_size args_output_size  \n",
              "0                     NaN              NaN  \n",
              "1                     NaN              NaN  \n",
              "2                     NaN              NaN  \n",
              "3                 8000000           400000  \n",
              "4                     NaN              NaN  \n",
              "...                   ...              ...  \n",
              "2550                  NaN              NaN  \n",
              "2551              3200000           800000  \n",
              "2552                  NaN              NaN  \n",
              "2553                  NaN              NaN  \n",
              "2554                  NaN              NaN  \n",
              "\n",
              "[2555 rows x 15 columns]"
            ]
          },
          "execution_count": 20,
          "metadata": {},
          "output_type": "execute_result"
        }
      ],
      "source": [
        "from pandas import DataFrame\n",
        "from mlprodict.onnxrt.ops_whole.session import OnnxWholeSession\n",
        "\n",
        "df = DataFrame(OnnxWholeSession.process_profiling(js))\n",
        "df"
      ]
    },
    {
      "cell_type": "markdown",
      "metadata": {},
      "source": [
        "## Einsum: `bsnh,btnh->bnts`\n",
        "\n",
        "This section looks into the ONNX graph produces by the decomposition of an einsum equation into more simple ONNX operator (no einsum)."
      ]
    },
    {
      "cell_type": "markdown",
      "metadata": {},
      "source": [
        "### Three implementations"
      ]
    },
    {
      "cell_type": "code",
      "execution_count": 20,
      "metadata": {},
      "outputs": [],
      "source": [
        "from mlprodict.testing.einsum import einsum as onx_einsum\n",
        "from mlprodict.testing.einsum.einsum_fct import _einsum, enumerate_cached_einsum\n",
        "from numpy import einsum as np_einsum"
      ]
    },
    {
      "cell_type": "markdown",
      "metadata": {},
      "source": [
        "First classic numpy."
      ]
    },
    {
      "cell_type": "code",
      "execution_count": 21,
      "metadata": {},
      "outputs": [
        {
          "data": {
            "text/plain": [
              "array([[[[-2.373884  , -0.63942796],\n",
              "         [ 1.0523143 ,  5.659873  ]],\n",
              "\n",
              "        [[ 2.589915  , -0.18050319],\n",
              "         [-0.6200199 ,  3.793615  ]]],\n",
              "\n",
              "\n",
              "       [[[-0.37409338,  0.19822143],\n",
              "         [ 1.2049038 ,  3.1882448 ]],\n",
              "\n",
              "        [[-0.05218329,  0.87404007],\n",
              "         [ 0.12789296,  1.4745121 ]]]], dtype=float32)"
            ]
          },
          "execution_count": 22,
          "metadata": {},
          "output_type": "execute_result"
        }
      ],
      "source": [
        "equation = \"bsnh,btnh->bnts\"\n",
        "\n",
        "N = 2\n",
        "inputs = [numpy.random.randn(N, N, N, N).astype(numpy.float32),\n",
        "          numpy.random.randn(N, N, N, N).astype(numpy.float32)]\n",
        "np_einsum(equation, *inputs)"
      ]
    },
    {
      "cell_type": "markdown",
      "metadata": {},
      "source": [
        "Then einsum executed by *onnxruntime*:"
      ]
    },
    {
      "cell_type": "code",
      "execution_count": 22,
      "metadata": {},
      "outputs": [
        {
          "name": "stderr",
          "output_type": "stream",
          "text": [
            "0.0026 best='sbhn,sthn->shtb': 100%|\u2588\u2588\u2588\u2588\u2588\u2588\u2588\u2588\u2588\u2588| 121/121 [00:01<00:00, 85.29it/s]\n"
          ]
        },
        {
          "data": {
            "text/plain": [
              "array([[[[-2.373884  , -0.63942796],\n",
              "         [ 1.0523144 ,  5.659873  ]],\n",
              "\n",
              "        [[ 2.589915  , -0.18050319],\n",
              "         [-0.62002003,  3.793615  ]]],\n",
              "\n",
              "\n",
              "       [[[-0.37409338,  0.19822143],\n",
              "         [ 1.2049038 ,  3.1882448 ]],\n",
              "\n",
              "        [[-0.05218329,  0.87404007],\n",
              "         [ 0.12789296,  1.474512  ]]]], dtype=float32)"
            ]
          },
          "execution_count": 23,
          "metadata": {},
          "output_type": "execute_result"
        }
      ],
      "source": [
        "onx_einsum(equation, *inputs, runtime='onnxruntime1', optimize=True, verbose=1, decompose=False)"
      ]
    },
    {
      "cell_type": "code",
      "execution_count": 23,
      "metadata": {},
      "outputs": [],
      "source": [
        "obj = _einsum(equation, runtime='onnxruntime1', optimize=True, verbose=1,\n",
        "              decompose=False, dtype=inputs[0].dtype)"
      ]
    },
    {
      "cell_type": "code",
      "execution_count": 24,
      "metadata": {},
      "outputs": [
        {
          "data": {
            "text/html": [
              "<div id=\"Mebbaee26837341cfbbf77b5709dbf370-cont\"><div id=\"Mebbaee26837341cfbbf77b5709dbf370\" style=\"width:100%;height:100%;\"></div></div>\n",
              "<script>\n",
              "\n",
              "require(['http://www.xavierdupre.fr/js/vizjs/viz.js'], function() { var svgGraph = Viz(\"digraph{\\n  nodesep=0.05;\\n  ranksep=0.25;\\n  orientation=portrait;\\n  size=None;\\n\\n  X0 [shape=box color=red label=\\\"X0\\nfloat(('?',))\\\" fontsize=10];\\n  X1 [shape=box color=red label=\\\"X1\\nfloat(('?',))\\\" fontsize=10];\\n\\n  Y [shape=box color=green label=\\\"Y\\nfloat(('?',))\\\" fontsize=10];\\n\\n\\n  Einsum [shape=box style=\\\"filled,rounded\\\" color=orange label=\\\"Einsum\\n(Einsum)\\nequation=b'sbhn,sthn->shtb'\\\" fontsize=10];\\n  X0 -> Einsum;\\n  X1 -> Einsum;\\n  Einsum -> Y;\\n}\");\n",
              "document.getElementById('Mebbaee26837341cfbbf77b5709dbf370').innerHTML = svgGraph; });\n",
              "\n",
              "</script>"
            ],
            "text/plain": [
              "<jyquickhelper.jspy.render_nb_js_dot.RenderJsDot at 0x26237ce29a0>"
            ]
          },
          "execution_count": 25,
          "metadata": {},
          "output_type": "execute_result"
        }
      ],
      "source": [
        "%onnxview obj.onnx_"
      ]
    },
    {
      "cell_type": "markdown",
      "metadata": {},
      "source": [
        "Same equation but decomposed."
      ]
    },
    {
      "cell_type": "code",
      "execution_count": 25,
      "metadata": {},
      "outputs": [
        {
          "name": "stderr",
          "output_type": "stream",
          "text": [
            "0.0025 best='hsnt,hbnt->hnbs': 100%|\u2588\u2588\u2588\u2588\u2588\u2588\u2588\u2588\u2588\u2588| 121/121 [00:03<00:00, 34.54it/s]\n"
          ]
        }
      ],
      "source": [
        "obj = _einsum(equation, runtime='onnxruntime1', optimize=True, verbose=1,\n",
        "              decompose=True, dtype=inputs[0].dtype)"
      ]
    },
    {
      "cell_type": "code",
      "execution_count": 26,
      "metadata": {},
      "outputs": [
        {
          "data": {
            "text/html": [
              "<div id=\"Medacf7b6ffb841369b675e4a239e01c8-cont\"><div id=\"Medacf7b6ffb841369b675e4a239e01c8\" style=\"width:100%;height:100%;\"></div></div>\n",
              "<script>\n",
              "\n",
              "require(['http://www.xavierdupre.fr/js/vizjs/viz.js'], function() { var svgGraph = Viz(\"digraph{\\n  nodesep=0.05;\\n  ranksep=0.25;\\n  orientation=portrait;\\n  size=None;\\n\\n  X0 [shape=box color=red label=\\\"X0\\nfloat((0, 0, 0, 0))\\\" fontsize=10];\\n  X1 [shape=box color=red label=\\\"X1\\nfloat((0, 0, 0, 0))\\\" fontsize=10];\\n\\n  Y [shape=box color=green label=\\\"Y\\nfloat((0, 0, 0, 0))\\\" fontsize=10];\\n\\n  einsum2620928203744_id_axes [shape=box label=\\\"einsum2620928203744_id_axes\\nint64((1,))\\n[0]\\\" fontsize=10];\\n  einsum2620866308368_id_axes [shape=box label=\\\"einsum2620866308368_id_axes\\nint64((1,))\\n[3]\\\" fontsize=10];\\n  einsum2620928193872_ba_batch_axes [shape=box label=\\\"einsum2620928193872_ba_batch_axes\\nint64((2,))\\n[0 1]\\\" fontsize=10];\\n  einsum2620928193872_ba_sum_axes [shape=box label=\\\"einsum2620928193872_ba_sum_axes\\nint64((1,))\\n[4]\\\" fontsize=10];\\n  einsum2620928193872_ba__1 [shape=box label=\\\"einsum2620928193872_ba__1\\nint64((1,))\\n[-1]\\\" fontsize=10];\\n  einsum2620928193872_ba_left_set [shape=box label=\\\"einsum2620928193872_ba_left_set\\nint64((1,))\\n[3]\\\" fontsize=10];\\n  einsum2620928193872_ba_right_set [shape=box label=\\\"einsum2620928193872_ba_right_set\\nint64((1,))\\n[2]\\\" fontsize=10];\\n  einsum2620928193872_ba_ones [shape=box label=\\\"einsum2620928193872_ba_ones\\nint64((1,))\\n[1]\\\" fontsize=10];\\n  einsum2620928151024_tr_axes [shape=box label=\\\"einsum2620928151024_tr_axes\\nint64((1,))\\n[4]\\\" fontsize=10];\\n\\n  einsum2620928203744_id [shape=box label=\\\"einsum2620928203744_id\\\" fontsize=10];\\n  Identity [shape=box style=\\\"filled,rounded\\\" color=orange label=\\\"Identity\\n(Identity)\\\" fontsize=10];\\n  X0 -> Identity;\\n  Identity -> einsum2620928203744_id;\\n\\n  einsum2620928204560_ex [shape=box label=\\\"einsum2620928204560_ex\\\" fontsize=10];\\n  Unsqueeze0_2620928204560 [shape=box style=\\\"filled,rounded\\\" color=orange label=\\\"Unsqueeze\\n(Unsqueeze0_2620928204560)\\\" fontsize=10];\\n  einsum2620928203744_id -> Unsqueeze0_2620928204560;\\n  einsum2620928203744_id_axes -> Unsqueeze0_2620928204560;\\n  Unsqueeze0_2620928204560 -> einsum2620928204560_ex;\\n\\n  einsum2620928192816_tr [shape=box label=\\\"einsum2620928192816_tr\\\" fontsize=10];\\n  Transpose13024_2620928192816 [shape=box style=\\\"filled,rounded\\\" color=orange label=\\\"Transpose\\n(Transpose13024_2620928192816)\\nperm=[1 3 0 2 4]\\\" fontsize=10];\\n  einsum2620928204560_ex -> Transpose13024_2620928192816;\\n  Transpose13024_2620928192816 -> einsum2620928192816_tr;\\n\\n  einsum2620866308368_id [shape=box label=\\\"einsum2620866308368_id\\\" fontsize=10];\\n  Identity1 [shape=box style=\\\"filled,rounded\\\" color=orange label=\\\"Identity\\n(Identity1)\\\" fontsize=10];\\n  X1 -> Identity1;\\n  Identity1 -> einsum2620866308368_id;\\n\\n  einsum2620928202160_ex [shape=box label=\\\"einsum2620928202160_ex\\\" fontsize=10];\\n  Unsqueeze3_2620928202160 [shape=box style=\\\"filled,rounded\\\" color=orange label=\\\"Unsqueeze\\n(Unsqueeze3_2620928202160)\\\" fontsize=10];\\n  einsum2620866308368_id -> Unsqueeze3_2620928202160;\\n  einsum2620866308368_id_axes -> Unsqueeze3_2620928202160;\\n  Unsqueeze3_2620928202160 -> einsum2620928202160_ex;\\n\\n  einsum2620928192768_tr [shape=box label=\\\"einsum2620928192768_tr\\\" fontsize=10];\\n  Transpose02134_2620928192768 [shape=box style=\\\"filled,rounded\\\" color=orange label=\\\"Transpose\\n(Transpose02134_2620928192768)\\nperm=[0 2 1 3 4]\\\" fontsize=10];\\n  einsum2620928202160_ex -> Transpose02134_2620928192768;\\n  Transpose02134_2620928192768 -> einsum2620928192768_tr;\\n\\n  einsum2620928193872_ba_shape1 [shape=box label=\\\"einsum2620928193872_ba_shape1\\\" fontsize=10];\\n  Shape [shape=box style=\\\"filled,rounded\\\" color=orange label=\\\"Shape\\n(Shape)\\\" fontsize=10];\\n  einsum2620928192816_tr -> Shape;\\n  Shape -> einsum2620928193872_ba_shape1;\\n\\n  einsum2620928193872_ba_shape2 [shape=box label=\\\"einsum2620928193872_ba_shape2\\\" fontsize=10];\\n  Shape1 [shape=box style=\\\"filled,rounded\\\" color=orange label=\\\"Shape\\n(Shape1)\\\" fontsize=10];\\n  einsum2620928192768_tr -> Shape1;\\n  Shape1 -> einsum2620928193872_ba_shape2;\\n\\n  einsum2620928193872_ba_dim0g [shape=box label=\\\"einsum2620928193872_ba_dim0g\\\" fontsize=10];\\n  Gather [shape=box style=\\\"filled,rounded\\\" color=orange label=\\\"Gather\\n(Gather)\\\" fontsize=10];\\n  einsum2620928193872_ba_shape1 -> Gather;\\n  einsum2620928193872_ba_batch_axes -> Gather;\\n  Gather -> einsum2620928193872_ba_dim0g;\\n\\n  einsum2620928193872_ba_dim0bg [shape=box label=\\\"einsum2620928193872_ba_dim0bg\\\" fontsize=10];\\n  Gather1 [shape=box style=\\\"filled,rounded\\\" color=orange label=\\\"Gather\\n(Gather1)\\\" fontsize=10];\\n  einsum2620928193872_ba_shape2 -> Gather1;\\n  einsum2620928193872_ba_batch_axes -> Gather1;\\n  Gather1 -> einsum2620928193872_ba_dim0bg;\\n\\n  einsum2620928193872_ba_dim0 [shape=box label=\\\"einsum2620928193872_ba_dim0\\\" fontsize=10];\\n  ReduceProd [shape=box style=\\\"filled,rounded\\\" color=orange label=\\\"ReduceProd\\n(ReduceProd)\\nkeepdims=1\\\" fontsize=10];\\n  einsum2620928193872_ba_dim0g -> ReduceProd;\\n  ReduceProd -> einsum2620928193872_ba_dim0;\\n\\n  einsum2620928193872_ba_dim0b [shape=box label=\\\"einsum2620928193872_ba_dim0b\\\" fontsize=10];\\n  ReduceProd1 [shape=box style=\\\"filled,rounded\\\" color=orange label=\\\"ReduceProd\\n(ReduceProd1)\\nkeepdims=1\\\" fontsize=10];\\n  einsum2620928193872_ba_dim0bg -> ReduceProd1;\\n  ReduceProd1 -> einsum2620928193872_ba_dim0b;\\n\\n  einsum2620928193872_ba_dim1 [shape=box label=\\\"einsum2620928193872_ba_dim1\\\" fontsize=10];\\n  Gather12 [shape=box style=\\\"filled,rounded\\\" color=orange label=\\\"Gather\\n(Gather12)\\\" fontsize=10];\\n  einsum2620928193872_ba_shape1 -> Gather12;\\n  einsum2620928193872_ba_sum_axes -> Gather12;\\n  Gather12 -> einsum2620928193872_ba_dim1;\\n\\n  einsum2620928193872_ba_dim2 [shape=box label=\\\"einsum2620928193872_ba_dim2\\\" fontsize=10];\\n  Gather123 [shape=box style=\\\"filled,rounded\\\" color=orange label=\\\"Gather\\n(Gather123)\\\" fontsize=10];\\n  einsum2620928193872_ba_shape2 -> Gather123;\\n  einsum2620928193872_ba_sum_axes -> Gather123;\\n  Gather123 -> einsum2620928193872_ba_dim2;\\n\\n  einsum2620928193872_ba_resh1 [shape=box label=\\\"einsum2620928193872_ba_resh1\\\" fontsize=10];\\n  Concat [shape=box style=\\\"filled,rounded\\\" color=orange label=\\\"Concat\\n(Concat)\\naxis=0\\\" fontsize=10];\\n  einsum2620928193872_ba_dim0 -> Concat;\\n  einsum2620928193872_ba__1 -> Concat;\\n  einsum2620928193872_ba_dim1 -> Concat;\\n  Concat -> einsum2620928193872_ba_resh1;\\n\\n  einsum2620928193872_ba_resh2 [shape=box label=\\\"einsum2620928193872_ba_resh2\\\" fontsize=10];\\n  Concat1 [shape=box style=\\\"filled,rounded\\\" color=orange label=\\\"Concat\\n(Concat1)\\naxis=0\\\" fontsize=10];\\n  einsum2620928193872_ba_dim0b -> Concat1;\\n  einsum2620928193872_ba__1 -> Concat1;\\n  einsum2620928193872_ba_dim2 -> Concat1;\\n  Concat1 -> einsum2620928193872_ba_resh2;\\n\\n  einsum2620928193872_ba_aresh1 [shape=box label=\\\"einsum2620928193872_ba_aresh1\\\" fontsize=10];\\n  Reshape [shape=box style=\\\"filled,rounded\\\" color=orange label=\\\"Reshape\\n(Reshape)\\\" fontsize=10];\\n  einsum2620928192816_tr -> Reshape;\\n  einsum2620928193872_ba_resh1 -> Reshape;\\n  Reshape -> einsum2620928193872_ba_aresh1;\\n\\n  einsum2620928193872_ba_aresh2 [shape=box label=\\\"einsum2620928193872_ba_aresh2\\\" fontsize=10];\\n  Reshape1 [shape=box style=\\\"filled,rounded\\\" color=orange label=\\\"Reshape\\n(Reshape1)\\\" fontsize=10];\\n  einsum2620928192768_tr -> Reshape1;\\n  einsum2620928193872_ba_resh2 -> Reshape1;\\n  Reshape1 -> einsum2620928193872_ba_aresh2;\\n\\n  einsum2620928193872_ba_aresh2_tr [shape=box label=\\\"einsum2620928193872_ba_aresh2_tr\\\" fontsize=10];\\n  Transpose021_2620928193872 [shape=box style=\\\"filled,rounded\\\" color=orange label=\\\"Transpose\\n(Transpose021_2620928193872)\\nperm=[0 2 1]\\\" fontsize=10];\\n  einsum2620928193872_ba_aresh2 -> Transpose021_2620928193872;\\n  Transpose021_2620928193872 -> einsum2620928193872_ba_aresh2_tr;\\n\\n  einsum2620928193872_ba_dot [shape=box label=\\\"einsum2620928193872_ba_dot\\\" fontsize=10];\\n  MatMul [shape=box style=\\\"filled,rounded\\\" color=orange label=\\\"MatMul\\n(MatMul)\\\" fontsize=10];\\n  einsum2620928193872_ba_aresh1 -> MatMul;\\n  einsum2620928193872_ba_aresh2_tr -> MatMul;\\n  MatMul -> einsum2620928193872_ba_dot;\\n\\n  einsum2620928193872_ba_max_dim [shape=box label=\\\"einsum2620928193872_ba_max_dim\\\" fontsize=10];\\n  Max [shape=box style=\\\"filled,rounded\\\" color=orange label=\\\"Max\\n(Max)\\\" fontsize=10];\\n  einsum2620928193872_ba_dim0g -> Max;\\n  einsum2620928193872_ba_dim0bg -> Max;\\n  Max -> einsum2620928193872_ba_max_dim;\\n\\n  einsum2620928193872_ba_left_dim [shape=box label=\\\"einsum2620928193872_ba_left_dim\\\" fontsize=10];\\n  Gather1234 [shape=box style=\\\"filled,rounded\\\" color=orange label=\\\"Gather\\n(Gather1234)\\\" fontsize=10];\\n  einsum2620928193872_ba_shape1 -> Gather1234;\\n  einsum2620928193872_ba_left_set -> Gather1234;\\n  Gather1234 -> einsum2620928193872_ba_left_dim;\\n\\n  einsum2620928193872_ba_right_dim [shape=box label=\\\"einsum2620928193872_ba_right_dim\\\" fontsize=10];\\n  Gather12345 [shape=box style=\\\"filled,rounded\\\" color=orange label=\\\"Gather\\n(Gather12345)\\\" fontsize=10];\\n  einsum2620928193872_ba_shape2 -> Gather12345;\\n  einsum2620928193872_ba_right_set -> Gather12345;\\n  Gather12345 -> einsum2620928193872_ba_right_dim;\\n\\n  einsum2620928193872_ba_new_shape [shape=box label=\\\"einsum2620928193872_ba_new_shape\\\" fontsize=10];\\n  Concat12 [shape=box style=\\\"filled,rounded\\\" color=orange label=\\\"Concat\\n(Concat12)\\naxis=0\\\" fontsize=10];\\n  einsum2620928193872_ba_max_dim -> Concat12;\\n  einsum2620928193872_ba_left_dim -> Concat12;\\n  einsum2620928193872_ba_right_dim -> Concat12;\\n  einsum2620928193872_ba_ones -> Concat12;\\n  Concat12 -> einsum2620928193872_ba_new_shape;\\n\\n  einsum2620928193872_ba_final [shape=box label=\\\"einsum2620928193872_ba_final\\\" fontsize=10];\\n  Reshape12 [shape=box style=\\\"filled,rounded\\\" color=orange label=\\\"Reshape\\n(Reshape12)\\\" fontsize=10];\\n  einsum2620928193872_ba_dot -> Reshape12;\\n  einsum2620928193872_ba_new_shape -> Reshape12;\\n  Reshape12 -> einsum2620928193872_ba_final;\\n\\n  einsum2620928151024_tr [shape=box label=\\\"einsum2620928151024_tr\\\" fontsize=10];\\n  Transpose01324_2620928151024 [shape=box style=\\\"filled,rounded\\\" color=orange label=\\\"Transpose\\n(Transpose01324_2620928151024)\\nperm=[0 1 3 2 4]\\\" fontsize=10];\\n  einsum2620928193872_ba_final -> Transpose01324_2620928151024;\\n  Transpose01324_2620928151024 -> einsum2620928151024_tr;\\n\\n  einsum2620928194352_sq [shape=box label=\\\"einsum2620928194352_sq\\\" fontsize=10];\\n  Squeeze4_2620928194352 [shape=box style=\\\"filled,rounded\\\" color=orange label=\\\"Squeeze\\n(Squeeze4_2620928194352)\\\" fontsize=10];\\n  einsum2620928151024_tr -> Squeeze4_2620928194352;\\n  einsum2620928151024_tr_axes -> Squeeze4_2620928194352;\\n  Squeeze4_2620928194352 -> einsum2620928194352_sq;\\n\\n  Identity12 [shape=box style=\\\"filled,rounded\\\" color=orange label=\\\"Identity\\n(Identity12)\\\" fontsize=10];\\n  einsum2620928194352_sq -> Identity12;\\n  Identity12 -> Y;\\n}\");\n",
              "document.getElementById('Medacf7b6ffb841369b675e4a239e01c8').innerHTML = svgGraph; });\n",
              "\n",
              "</script>"
            ],
            "text/plain": [
              "<jyquickhelper.jspy.render_nb_js_dot.RenderJsDot at 0x2623b802df0>"
            ]
          },
          "execution_count": 27,
          "metadata": {},
          "output_type": "execute_result"
        }
      ],
      "source": [
        "%onnxview obj.onnx_"
      ]
    },
    {
      "cell_type": "code",
      "execution_count": 27,
      "metadata": {},
      "outputs": [
        {
          "data": {
            "text/plain": [
              "array([[[[-2.373884  , -0.63942796],\n",
              "         [ 1.0523144 ,  5.659873  ]],\n",
              "\n",
              "        [[ 2.589915  , -0.18050319],\n",
              "         [-0.62002003,  3.793615  ]]],\n",
              "\n",
              "\n",
              "       [[[-0.37409338,  0.19822143],\n",
              "         [ 1.2049038 ,  3.1882448 ]],\n",
              "\n",
              "        [[-0.05218329,  0.87404007],\n",
              "         [ 0.12789296,  1.474512  ]]]], dtype=float32)"
            ]
          },
          "execution_count": 28,
          "metadata": {},
          "output_type": "execute_result"
        }
      ],
      "source": [
        "onx_einsum(equation, *inputs, runtime='onnxruntime1', optimize=True, verbose=1)"
      ]
    },
    {
      "cell_type": "markdown",
      "metadata": {},
      "source": [
        "### First benchmark"
      ]
    },
    {
      "cell_type": "code",
      "execution_count": 28,
      "metadata": {},
      "outputs": [],
      "source": [
        "N = 20\n",
        "inputs = [numpy.random.randn(N, N, N, N).astype(numpy.float32),\n",
        "          numpy.random.randn(N, N, N, N).astype(numpy.float32)]"
      ]
    },
    {
      "cell_type": "markdown",
      "metadata": {},
      "source": [
        "*numpy.einsum*"
      ]
    },
    {
      "cell_type": "code",
      "execution_count": 29,
      "metadata": {},
      "outputs": [
        {
          "name": "stdout",
          "output_type": "stream",
          "text": [
            "4.14 ms \u00b1 350 \u00b5s per loop (mean \u00b1 std. dev. of 7 runs, 100 loops each)\n"
          ]
        }
      ],
      "source": [
        "%timeit numpy.einsum(equation, *inputs)"
      ]
    },
    {
      "cell_type": "markdown",
      "metadata": {},
      "source": [
        "*onnxruntime einsum*"
      ]
    },
    {
      "cell_type": "code",
      "execution_count": 30,
      "metadata": {},
      "outputs": [
        {
          "name": "stdout",
          "output_type": "stream",
          "text": [
            "736 \u00b5s \u00b1 11.2 \u00b5s per loop (mean \u00b1 std. dev. of 7 runs, 1000 loops each)\n"
          ]
        }
      ],
      "source": [
        "%timeit onx_einsum(equation, *inputs, runtime='onnxruntime1', optimize=True, verbose=1, decompose=False)"
      ]
    },
    {
      "cell_type": "markdown",
      "metadata": {},
      "source": [
        "*onnxruntime decomposed einsum*"
      ]
    },
    {
      "cell_type": "code",
      "execution_count": 31,
      "metadata": {},
      "outputs": [
        {
          "name": "stdout",
          "output_type": "stream",
          "text": [
            "525 \u00b5s \u00b1 12.4 \u00b5s per loop (mean \u00b1 std. dev. of 7 runs, 1000 loops each)\n"
          ]
        }
      ],
      "source": [
        "%timeit onx_einsum(equation, *inputs, runtime='onnxruntime1', optimize=True, verbose=1)"
      ]
    },
    {
      "cell_type": "markdown",
      "metadata": {},
      "source": [
        "Let's disable the optimization to see the difference. The optimization goes through all the permutation of the letters of the equation and compares the computation time to find the best one."
      ]
    },
    {
      "cell_type": "code",
      "execution_count": 32,
      "metadata": {},
      "outputs": [
        {
          "name": "stdout",
          "output_type": "stream",
          "text": [
            "761 \u00b5s \u00b1 46.2 \u00b5s per loop (mean \u00b1 std. dev. of 7 runs, 1000 loops each)\n"
          ]
        }
      ],
      "source": [
        "%timeit onx_einsum(equation, *inputs, runtime='onnxruntime1', optimize=False, verbose=1, decompose=False)"
      ]
    },
    {
      "cell_type": "markdown",
      "metadata": {},
      "source": [
        "It has no significant impact here but it has for the decomposition. The not optimized version is much slower."
      ]
    },
    {
      "cell_type": "code",
      "execution_count": 33,
      "metadata": {},
      "outputs": [
        {
          "name": "stdout",
          "output_type": "stream",
          "text": [
            "1.41 ms \u00b1 43.1 \u00b5s per loop (mean \u00b1 std. dev. of 7 runs, 1000 loops each)\n"
          ]
        }
      ],
      "source": [
        "%timeit onx_einsum(equation, *inputs, runtime='onnxruntime1', optimize=False, verbose=1)"
      ]
    },
    {
      "cell_type": "markdown",
      "metadata": {},
      "source": [
        "### Profiling of the not optimized version\n",
        "\n",
        "Let's profile the graph obtained with the decomposition."
      ]
    },
    {
      "cell_type": "code",
      "execution_count": 34,
      "metadata": {},
      "outputs": [],
      "source": [
        "obj = _einsum(equation, runtime='onnxruntime1', optimize=False, verbose=1,\n",
        "              decompose=True, dtype=inputs[0].dtype)\n",
        "onx = obj.onnx_"
      ]
    },
    {
      "cell_type": "code",
      "execution_count": 35,
      "metadata": {},
      "outputs": [
        {
          "data": {
            "text/plain": [
              "('bsnh,btnh->bnts', 'bsnh,btnh->bnts')"
            ]
          },
          "execution_count": 36,
          "metadata": {},
          "output_type": "execute_result"
        }
      ],
      "source": [
        "obj.equation, obj.equation_"
      ]
    },
    {
      "cell_type": "code",
      "execution_count": 36,
      "metadata": {},
      "outputs": [
        {
          "data": {
            "text/html": [
              "<div>\n",
              "<style scoped>\n",
              "    .dataframe tbody tr th:only-of-type {\n",
              "        vertical-align: middle;\n",
              "    }\n",
              "\n",
              "    .dataframe tbody tr th {\n",
              "        vertical-align: top;\n",
              "    }\n",
              "\n",
              "    .dataframe thead th {\n",
              "        text-align: right;\n",
              "    }\n",
              "</style>\n",
              "<table border=\"1\" class=\"dataframe\">\n",
              "  <thead>\n",
              "    <tr style=\"text-align: right;\">\n",
              "      <th></th>\n",
              "      <th>cat</th>\n",
              "      <th>pid</th>\n",
              "      <th>tid</th>\n",
              "      <th>dur</th>\n",
              "      <th>ts</th>\n",
              "      <th>ph</th>\n",
              "      <th>name</th>\n",
              "      <th>args_op_name</th>\n",
              "      <th>args_provider</th>\n",
              "      <th>args_graph_index</th>\n",
              "      <th>args_parameter_size</th>\n",
              "      <th>args_thread_scheduling_stats</th>\n",
              "      <th>args_exec_plan_index</th>\n",
              "      <th>args_activation_size</th>\n",
              "      <th>args_output_size</th>\n",
              "    </tr>\n",
              "  </thead>\n",
              "  <tbody>\n",
              "    <tr>\n",
              "      <th>0</th>\n",
              "      <td>Session</td>\n",
              "      <td>106368</td>\n",
              "      <td>299276</td>\n",
              "      <td>705</td>\n",
              "      <td>4</td>\n",
              "      <td>X</td>\n",
              "      <td>model_loading_array</td>\n",
              "      <td>NaN</td>\n",
              "      <td>NaN</td>\n",
              "      <td>NaN</td>\n",
              "      <td>NaN</td>\n",
              "      <td>NaN</td>\n",
              "      <td>NaN</td>\n",
              "      <td>NaN</td>\n",
              "      <td>NaN</td>\n",
              "    </tr>\n",
              "    <tr>\n",
              "      <th>1</th>\n",
              "      <td>Session</td>\n",
              "      <td>106368</td>\n",
              "      <td>299276</td>\n",
              "      <td>7019</td>\n",
              "      <td>987</td>\n",
              "      <td>X</td>\n",
              "      <td>session_initialization</td>\n",
              "      <td>NaN</td>\n",
              "      <td>NaN</td>\n",
              "      <td>NaN</td>\n",
              "      <td>NaN</td>\n",
              "      <td>NaN</td>\n",
              "      <td>NaN</td>\n",
              "      <td>NaN</td>\n",
              "      <td>NaN</td>\n",
              "    </tr>\n",
              "    <tr>\n",
              "      <th>2</th>\n",
              "      <td>Node</td>\n",
              "      <td>106368</td>\n",
              "      <td>299276</td>\n",
              "      <td>1</td>\n",
              "      <td>8320</td>\n",
              "      <td>X</td>\n",
              "      <td>Unsqueeze3_2620928306480_fence_before</td>\n",
              "      <td>Unsqueeze</td>\n",
              "      <td>NaN</td>\n",
              "      <td>NaN</td>\n",
              "      <td>NaN</td>\n",
              "      <td>NaN</td>\n",
              "      <td>NaN</td>\n",
              "      <td>NaN</td>\n",
              "      <td>NaN</td>\n",
              "    </tr>\n",
              "    <tr>\n",
              "      <th>3</th>\n",
              "      <td>Node</td>\n",
              "      <td>106368</td>\n",
              "      <td>299276</td>\n",
              "      <td>4</td>\n",
              "      <td>8327</td>\n",
              "      <td>X</td>\n",
              "      <td>Unsqueeze3_2620928306480_kernel_time</td>\n",
              "      <td>Unsqueeze</td>\n",
              "      <td>CPUExecutionProvider</td>\n",
              "      <td>4</td>\n",
              "      <td>8</td>\n",
              "      <td>{'main_thread': {'thread_pool_name': 'session-...</td>\n",
              "      <td>4</td>\n",
              "      <td>640000</td>\n",
              "      <td>640000</td>\n",
              "    </tr>\n",
              "    <tr>\n",
              "      <th>4</th>\n",
              "      <td>Node</td>\n",
              "      <td>106368</td>\n",
              "      <td>299276</td>\n",
              "      <td>0</td>\n",
              "      <td>8372</td>\n",
              "      <td>X</td>\n",
              "      <td>Unsqueeze3_2620928306480_fence_after</td>\n",
              "      <td>Unsqueeze</td>\n",
              "      <td>NaN</td>\n",
              "      <td>NaN</td>\n",
              "      <td>NaN</td>\n",
              "      <td>NaN</td>\n",
              "      <td>NaN</td>\n",
              "      <td>NaN</td>\n",
              "      <td>NaN</td>\n",
              "    </tr>\n",
              "  </tbody>\n",
              "</table>\n",
              "</div>"
            ],
            "text/plain": [
              "       cat     pid     tid   dur    ts ph  \\\n",
              "0  Session  106368  299276   705     4  X   \n",
              "1  Session  106368  299276  7019   987  X   \n",
              "2     Node  106368  299276     1  8320  X   \n",
              "3     Node  106368  299276     4  8327  X   \n",
              "4     Node  106368  299276     0  8372  X   \n",
              "\n",
              "                                    name args_op_name         args_provider  \\\n",
              "0                    model_loading_array          NaN                   NaN   \n",
              "1                 session_initialization          NaN                   NaN   \n",
              "2  Unsqueeze3_2620928306480_fence_before    Unsqueeze                   NaN   \n",
              "3   Unsqueeze3_2620928306480_kernel_time    Unsqueeze  CPUExecutionProvider   \n",
              "4   Unsqueeze3_2620928306480_fence_after    Unsqueeze                   NaN   \n",
              "\n",
              "  args_graph_index args_parameter_size  \\\n",
              "0              NaN                 NaN   \n",
              "1              NaN                 NaN   \n",
              "2              NaN                 NaN   \n",
              "3                4                   8   \n",
              "4              NaN                 NaN   \n",
              "\n",
              "                        args_thread_scheduling_stats args_exec_plan_index  \\\n",
              "0                                                NaN                  NaN   \n",
              "1                                                NaN                  NaN   \n",
              "2                                                NaN                  NaN   \n",
              "3  {'main_thread': {'thread_pool_name': 'session-...                    4   \n",
              "4                                                NaN                  NaN   \n",
              "\n",
              "  args_activation_size args_output_size  \n",
              "0                  NaN              NaN  \n",
              "1                  NaN              NaN  \n",
              "2                  NaN              NaN  \n",
              "3               640000           640000  \n",
              "4                  NaN              NaN  "
            ]
          },
          "execution_count": 37,
          "metadata": {},
          "output_type": "execute_result"
        }
      ],
      "source": [
        "from mlprodict.onnxrt import OnnxInference\n",
        "\n",
        "oinf = OnnxInference(onx, runtime=\"onnxruntime1\",\n",
        "                     runtime_options={\"enable_profiling\": True})\n",
        "\n",
        "d_inputs = {'X0': inputs[0], 'X1': inputs[1]}\n",
        "for i in range(0, 100):\n",
        "    oinf.run(d_inputs)\n",
        "    \n",
        "df = oinf.get_profiling(as_df=True)\n",
        "df.head()"
      ]
    },
    {
      "cell_type": "code",
      "execution_count": 37,
      "metadata": {},
      "outputs": [
        {
          "data": {
            "image/png": "[encoded data removed]",
            "text/plain": [
              "<Figure size 576x288 with 2 Axes>"
            ]
          },
          "metadata": {
            "needs_background": "light"
          },
          "output_type": "display_data"
        }
      ],
      "source": [
        "import matplotlib.pyplot as plt\n",
        "gr_dur = df[['dur', \"args_op_name\"]].groupby(\"args_op_name\").sum().sort_values('dur')\n",
        "gr_n = df[['dur', \"args_op_name\"]].groupby(\"args_op_name\").count().sort_values('dur')\n",
        "gr_n = gr_n.loc[gr_dur.index, :]\n",
        "\n",
        "fig, ax = plt.subplots(1, 2, figsize=(8, 4))\n",
        "gr_dur.plot.barh(ax=ax[0])\n",
        "gr_n.plot.barh(ax=ax[1])\n",
        "ax[0].set_title(\"duration - not optimized - %s\" % obj.equation_)\n",
        "ax[1].set_title(\"n occurences\");"
      ]
    },
    {
      "cell_type": "markdown",
      "metadata": {},
      "source": [
        "### Profiling of the optimized version"
      ]
    },
    {
      "cell_type": "code",
      "execution_count": 38,
      "metadata": {},
      "outputs": [],
      "source": [
        "obj = _einsum(equation, runtime='onnxruntime1', optimize=True, verbose=1,\n",
        "              decompose=True, dtype=inputs[0].dtype)\n",
        "onx = obj.onnx_"
      ]
    },
    {
      "cell_type": "code",
      "execution_count": 39,
      "metadata": {},
      "outputs": [
        {
          "data": {
            "text/plain": [
              "('bsnh,btnh->bnts', 'hsnt,hbnt->hnbs')"
            ]
          },
          "execution_count": 40,
          "metadata": {},
          "output_type": "execute_result"
        }
      ],
      "source": [
        "obj.equation, obj.equation_"
      ]
    },
    {
      "cell_type": "markdown",
      "metadata": {},
      "source": [
        "The second equation is the optimized equation."
      ]
    },
    {
      "cell_type": "code",
      "execution_count": 40,
      "metadata": {},
      "outputs": [
        {
          "data": {
            "text/html": [
              "<div>\n",
              "<style scoped>\n",
              "    .dataframe tbody tr th:only-of-type {\n",
              "        vertical-align: middle;\n",
              "    }\n",
              "\n",
              "    .dataframe tbody tr th {\n",
              "        vertical-align: top;\n",
              "    }\n",
              "\n",
              "    .dataframe thead th {\n",
              "        text-align: right;\n",
              "    }\n",
              "</style>\n",
              "<table border=\"1\" class=\"dataframe\">\n",
              "  <thead>\n",
              "    <tr style=\"text-align: right;\">\n",
              "      <th></th>\n",
              "      <th>cat</th>\n",
              "      <th>pid</th>\n",
              "      <th>tid</th>\n",
              "      <th>dur</th>\n",
              "      <th>ts</th>\n",
              "      <th>ph</th>\n",
              "      <th>name</th>\n",
              "      <th>args_op_name</th>\n",
              "      <th>args_provider</th>\n",
              "      <th>args_graph_index</th>\n",
              "      <th>args_parameter_size</th>\n",
              "      <th>args_thread_scheduling_stats</th>\n",
              "      <th>args_exec_plan_index</th>\n",
              "      <th>args_activation_size</th>\n",
              "      <th>args_output_size</th>\n",
              "    </tr>\n",
              "  </thead>\n",
              "  <tbody>\n",
              "    <tr>\n",
              "      <th>0</th>\n",
              "      <td>Session</td>\n",
              "      <td>106368</td>\n",
              "      <td>299276</td>\n",
              "      <td>1300</td>\n",
              "      <td>6</td>\n",
              "      <td>X</td>\n",
              "      <td>model_loading_array</td>\n",
              "      <td>NaN</td>\n",
              "      <td>NaN</td>\n",
              "      <td>NaN</td>\n",
              "      <td>NaN</td>\n",
              "      <td>NaN</td>\n",
              "      <td>NaN</td>\n",
              "      <td>NaN</td>\n",
              "      <td>NaN</td>\n",
              "    </tr>\n",
              "    <tr>\n",
              "      <th>1</th>\n",
              "      <td>Session</td>\n",
              "      <td>106368</td>\n",
              "      <td>299276</td>\n",
              "      <td>7330</td>\n",
              "      <td>1720</td>\n",
              "      <td>X</td>\n",
              "      <td>session_initialization</td>\n",
              "      <td>NaN</td>\n",
              "      <td>NaN</td>\n",
              "      <td>NaN</td>\n",
              "      <td>NaN</td>\n",
              "      <td>NaN</td>\n",
              "      <td>NaN</td>\n",
              "      <td>NaN</td>\n",
              "      <td>NaN</td>\n",
              "    </tr>\n",
              "    <tr>\n",
              "      <th>2</th>\n",
              "      <td>Node</td>\n",
              "      <td>106368</td>\n",
              "      <td>299276</td>\n",
              "      <td>1</td>\n",
              "      <td>9376</td>\n",
              "      <td>X</td>\n",
              "      <td>Unsqueeze3_2620928202160_fence_before</td>\n",
              "      <td>Unsqueeze</td>\n",
              "      <td>NaN</td>\n",
              "      <td>NaN</td>\n",
              "      <td>NaN</td>\n",
              "      <td>NaN</td>\n",
              "      <td>NaN</td>\n",
              "      <td>NaN</td>\n",
              "      <td>NaN</td>\n",
              "    </tr>\n",
              "    <tr>\n",
              "      <th>3</th>\n",
              "      <td>Node</td>\n",
              "      <td>106368</td>\n",
              "      <td>299276</td>\n",
              "      <td>4</td>\n",
              "      <td>9383</td>\n",
              "      <td>X</td>\n",
              "      <td>Unsqueeze3_2620928202160_kernel_time</td>\n",
              "      <td>Unsqueeze</td>\n",
              "      <td>CPUExecutionProvider</td>\n",
              "      <td>4</td>\n",
              "      <td>8</td>\n",
              "      <td>{'main_thread': {'thread_pool_name': 'session-...</td>\n",
              "      <td>4</td>\n",
              "      <td>640000</td>\n",
              "      <td>640000</td>\n",
              "    </tr>\n",
              "    <tr>\n",
              "      <th>4</th>\n",
              "      <td>Node</td>\n",
              "      <td>106368</td>\n",
              "      <td>299276</td>\n",
              "      <td>0</td>\n",
              "      <td>9422</td>\n",
              "      <td>X</td>\n",
              "      <td>Unsqueeze3_2620928202160_fence_after</td>\n",
              "      <td>Unsqueeze</td>\n",
              "      <td>NaN</td>\n",
              "      <td>NaN</td>\n",
              "      <td>NaN</td>\n",
              "      <td>NaN</td>\n",
              "      <td>NaN</td>\n",
              "      <td>NaN</td>\n",
              "      <td>NaN</td>\n",
              "    </tr>\n",
              "  </tbody>\n",
              "</table>\n",
              "</div>"
            ],
            "text/plain": [
              "       cat     pid     tid   dur    ts ph  \\\n",
              "0  Session  106368  299276  1300     6  X   \n",
              "1  Session  106368  299276  7330  1720  X   \n",
              "2     Node  106368  299276     1  9376  X   \n",
              "3     Node  106368  299276     4  9383  X   \n",
              "4     Node  106368  299276     0  9422  X   \n",
              "\n",
              "                                    name args_op_name         args_provider  \\\n",
              "0                    model_loading_array          NaN                   NaN   \n",
              "1                 session_initialization          NaN                   NaN   \n",
              "2  Unsqueeze3_2620928202160_fence_before    Unsqueeze                   NaN   \n",
              "3   Unsqueeze3_2620928202160_kernel_time    Unsqueeze  CPUExecutionProvider   \n",
              "4   Unsqueeze3_2620928202160_fence_after    Unsqueeze                   NaN   \n",
              "\n",
              "  args_graph_index args_parameter_size  \\\n",
              "0              NaN                 NaN   \n",
              "1              NaN                 NaN   \n",
              "2              NaN                 NaN   \n",
              "3                4                   8   \n",
              "4              NaN                 NaN   \n",
              "\n",
              "                        args_thread_scheduling_stats args_exec_plan_index  \\\n",
              "0                                                NaN                  NaN   \n",
              "1                                                NaN                  NaN   \n",
              "2                                                NaN                  NaN   \n",
              "3  {'main_thread': {'thread_pool_name': 'session-...                    4   \n",
              "4                                                NaN                  NaN   \n",
              "\n",
              "  args_activation_size args_output_size  \n",
              "0                  NaN              NaN  \n",
              "1                  NaN              NaN  \n",
              "2                  NaN              NaN  \n",
              "3               640000           640000  \n",
              "4                  NaN              NaN  "
            ]
          },
          "execution_count": 41,
          "metadata": {},
          "output_type": "execute_result"
        }
      ],
      "source": [
        "from mlprodict.onnxrt import OnnxInference\n",
        "\n",
        "oinf = OnnxInference(onx, runtime=\"onnxruntime1\",\n",
        "                     runtime_options={\"enable_profiling\": True})\n",
        "\n",
        "d_inputs = {'X0': inputs[0], 'X1': inputs[1]}\n",
        "for i in range(0, 100):\n",
        "    oinf.run(d_inputs)\n",
        "    \n",
        "df = oinf.get_profiling(as_df=True)\n",
        "df.head()"
      ]
    },
    {
      "cell_type": "code",
      "execution_count": 41,
      "metadata": {},
      "outputs": [
        {
          "data": {
            "image/png": "[encoded data removed]",
            "text/plain": [
              "<Figure size 576x288 with 2 Axes>"
            ]
          },
          "metadata": {
            "needs_background": "light"
          },
          "output_type": "display_data"
        }
      ],
      "source": [
        "gr_dur = df[['dur', \"args_op_name\"]].groupby(\"args_op_name\").sum().sort_values('dur')\n",
        "gr_n = df[['dur', \"args_op_name\"]].groupby(\"args_op_name\").count().sort_values('dur')\n",
        "gr_n = gr_n.loc[gr_dur.index, :]\n",
        "\n",
        "fig, ax = plt.subplots(1, 2, figsize=(8, 4))\n",
        "gr_dur.plot.barh(ax=ax[0])\n",
        "gr_n.plot.barh(ax=ax[1])\n",
        "ax[0].set_title(\"duration - optimized - %s\" % obj.equation_)\n",
        "ax[1].set_title(\"n occurences\");"
      ]
    },
    {
      "cell_type": "markdown",
      "metadata": {},
      "source": [
        "onnxruntime was able to fuse MatMul with a transposition. That explains why it is faster."
      ]
    },
    {
      "cell_type": "code",
      "execution_count": 42,
      "metadata": {},
      "outputs": [
        {
          "data": {
            "text/html": [
              "<div>\n",
              "<style scoped>\n",
              "    .dataframe tbody tr th:only-of-type {\n",
              "        vertical-align: middle;\n",
              "    }\n",
              "\n",
              "    .dataframe tbody tr th {\n",
              "        vertical-align: top;\n",
              "    }\n",
              "\n",
              "    .dataframe thead th {\n",
              "        text-align: right;\n",
              "    }\n",
              "</style>\n",
              "<table border=\"1\" class=\"dataframe\">\n",
              "  <thead>\n",
              "    <tr style=\"text-align: right;\">\n",
              "      <th></th>\n",
              "      <th>args_op_name</th>\n",
              "      <th>name</th>\n",
              "      <th>dur</th>\n",
              "    </tr>\n",
              "  </thead>\n",
              "  <tbody>\n",
              "    <tr>\n",
              "      <th>0</th>\n",
              "      <td>Concat</td>\n",
              "      <td>Concat12_fence_after</td>\n",
              "      <td>0</td>\n",
              "    </tr>\n",
              "    <tr>\n",
              "      <th>24</th>\n",
              "      <td>Gather</td>\n",
              "      <td>Gather1_fence_after</td>\n",
              "      <td>0</td>\n",
              "    </tr>\n",
              "    <tr>\n",
              "      <th>25</th>\n",
              "      <td>Gather</td>\n",
              "      <td>Gather1_fence_before</td>\n",
              "      <td>0</td>\n",
              "    </tr>\n",
              "    <tr>\n",
              "      <th>27</th>\n",
              "      <td>Gather</td>\n",
              "      <td>Gather_fence_after</td>\n",
              "      <td>0</td>\n",
              "    </tr>\n",
              "    <tr>\n",
              "      <th>60</th>\n",
              "      <td>Transpose</td>\n",
              "      <td>Transpose02134_2620928192768_fence_after</td>\n",
              "      <td>0</td>\n",
              "    </tr>\n",
              "    <tr>\n",
              "      <th>...</th>\n",
              "      <td>...</td>\n",
              "      <td>...</td>\n",
              "      <td>...</td>\n",
              "    </tr>\n",
              "    <tr>\n",
              "      <th>56</th>\n",
              "      <td>Squeeze</td>\n",
              "      <td>Squeeze4_2620928194352_kernel_time</td>\n",
              "      <td>4339</td>\n",
              "    </tr>\n",
              "    <tr>\n",
              "      <th>59</th>\n",
              "      <td>Transpose</td>\n",
              "      <td>Transpose01324_2620928151024_kernel_time</td>\n",
              "      <td>8661</td>\n",
              "    </tr>\n",
              "    <tr>\n",
              "      <th>62</th>\n",
              "      <td>Transpose</td>\n",
              "      <td>Transpose02134_2620928192768_kernel_time</td>\n",
              "      <td>11487</td>\n",
              "    </tr>\n",
              "    <tr>\n",
              "      <th>65</th>\n",
              "      <td>Transpose</td>\n",
              "      <td>Transpose13024_2620928192816_kernel_time</td>\n",
              "      <td>13598</td>\n",
              "    </tr>\n",
              "    <tr>\n",
              "      <th>11</th>\n",
              "      <td>FusedMatMul</td>\n",
              "      <td>MatMul_With_Transpose_kernel_time</td>\n",
              "      <td>23847</td>\n",
              "    </tr>\n",
              "  </tbody>\n",
              "</table>\n",
              "<p>72 rows \u00d7 3 columns</p>\n",
              "</div>"
            ],
            "text/plain": [
              "   args_op_name                                      name    dur\n",
              "0        Concat                      Concat12_fence_after      0\n",
              "24       Gather                       Gather1_fence_after      0\n",
              "25       Gather                      Gather1_fence_before      0\n",
              "27       Gather                        Gather_fence_after      0\n",
              "60    Transpose  Transpose02134_2620928192768_fence_after      0\n",
              "..          ...                                       ...    ...\n",
              "56      Squeeze        Squeeze4_2620928194352_kernel_time   4339\n",
              "59    Transpose  Transpose01324_2620928151024_kernel_time   8661\n",
              "62    Transpose  Transpose02134_2620928192768_kernel_time  11487\n",
              "65    Transpose  Transpose13024_2620928192816_kernel_time  13598\n",
              "11  FusedMatMul         MatMul_With_Transpose_kernel_time  23847\n",
              "\n",
              "[72 rows x 3 columns]"
            ]
          },
          "execution_count": 43,
          "metadata": {},
          "output_type": "execute_result"
        }
      ],
      "source": [
        "gr_dur = df[['dur', \"args_op_name\", \"name\"]].groupby([\"args_op_name\", \"name\"], as_index=False).sum().sort_values('dur')\n",
        "gr_dur"
      ]
    },
    {
      "cell_type": "code",
      "execution_count": 43,
      "metadata": {},
      "outputs": [
        {
          "data": {
            "text/html": [
              "<div>\n",
              "<style scoped>\n",
              "    .dataframe tbody tr th:only-of-type {\n",
              "        vertical-align: middle;\n",
              "    }\n",
              "\n",
              "    .dataframe tbody tr th {\n",
              "        vertical-align: top;\n",
              "    }\n",
              "\n",
              "    .dataframe thead th {\n",
              "        text-align: right;\n",
              "    }\n",
              "</style>\n",
              "<table border=\"1\" class=\"dataframe\">\n",
              "  <thead>\n",
              "    <tr style=\"text-align: right;\">\n",
              "      <th></th>\n",
              "      <th>args_op_name</th>\n",
              "      <th>name</th>\n",
              "      <th>dur</th>\n",
              "    </tr>\n",
              "  </thead>\n",
              "  <tbody>\n",
              "    <tr>\n",
              "      <th>60</th>\n",
              "      <td>Transpose</td>\n",
              "      <td>Transpose02134_2620928192768_fence_after</td>\n",
              "      <td>0</td>\n",
              "    </tr>\n",
              "    <tr>\n",
              "      <th>57</th>\n",
              "      <td>Transpose</td>\n",
              "      <td>Transpose01324_2620928151024_fence_after</td>\n",
              "      <td>0</td>\n",
              "    </tr>\n",
              "    <tr>\n",
              "      <th>61</th>\n",
              "      <td>Transpose</td>\n",
              "      <td>Transpose02134_2620928192768_fence_before</td>\n",
              "      <td>0</td>\n",
              "    </tr>\n",
              "    <tr>\n",
              "      <th>58</th>\n",
              "      <td>Transpose</td>\n",
              "      <td>Transpose01324_2620928151024_fence_before</td>\n",
              "      <td>1</td>\n",
              "    </tr>\n",
              "    <tr>\n",
              "      <th>64</th>\n",
              "      <td>Transpose</td>\n",
              "      <td>Transpose13024_2620928192816_fence_before</td>\n",
              "      <td>1</td>\n",
              "    </tr>\n",
              "    <tr>\n",
              "      <th>63</th>\n",
              "      <td>Transpose</td>\n",
              "      <td>Transpose13024_2620928192816_fence_after</td>\n",
              "      <td>3</td>\n",
              "    </tr>\n",
              "    <tr>\n",
              "      <th>59</th>\n",
              "      <td>Transpose</td>\n",
              "      <td>Transpose01324_2620928151024_kernel_time</td>\n",
              "      <td>8661</td>\n",
              "    </tr>\n",
              "    <tr>\n",
              "      <th>62</th>\n",
              "      <td>Transpose</td>\n",
              "      <td>Transpose02134_2620928192768_kernel_time</td>\n",
              "      <td>11487</td>\n",
              "    </tr>\n",
              "    <tr>\n",
              "      <th>65</th>\n",
              "      <td>Transpose</td>\n",
              "      <td>Transpose13024_2620928192816_kernel_time</td>\n",
              "      <td>13598</td>\n",
              "    </tr>\n",
              "  </tbody>\n",
              "</table>\n",
              "</div>"
            ],
            "text/plain": [
              "   args_op_name                                       name    dur\n",
              "60    Transpose   Transpose02134_2620928192768_fence_after      0\n",
              "57    Transpose   Transpose01324_2620928151024_fence_after      0\n",
              "61    Transpose  Transpose02134_2620928192768_fence_before      0\n",
              "58    Transpose  Transpose01324_2620928151024_fence_before      1\n",
              "64    Transpose  Transpose13024_2620928192816_fence_before      1\n",
              "63    Transpose   Transpose13024_2620928192816_fence_after      3\n",
              "59    Transpose   Transpose01324_2620928151024_kernel_time   8661\n",
              "62    Transpose   Transpose02134_2620928192768_kernel_time  11487\n",
              "65    Transpose   Transpose13024_2620928192816_kernel_time  13598"
            ]
          },
          "execution_count": 44,
          "metadata": {},
          "output_type": "execute_result"
        }
      ],
      "source": [
        "gr_dur[gr_dur.args_op_name == \"Transpose\"]"
      ]
    },
    {
      "cell_type": "markdown",
      "metadata": {},
      "source": [
        "Let's draw again the graph to see which transpose is is which."
      ]
    },
    {
      "cell_type": "code",
      "execution_count": 44,
      "metadata": {},
      "outputs": [
        {
          "data": {
            "text/html": [
              "<div id=\"M1047237934a84353913282c50cf06e41-cont\"><div id=\"M1047237934a84353913282c50cf06e41\" style=\"width:100%;height:100%;\"></div></div>\n",
              "<script>\n",
              "\n",
              "require(['http://www.xavierdupre.fr/js/vizjs/viz.js'], function() { var svgGraph = Viz(\"digraph{\\n  nodesep=0.05;\\n  ranksep=0.25;\\n  orientation=portrait;\\n  size=None;\\n\\n  X0 [shape=box color=red label=\\\"X0\\nfloat((0, 0, 0, 0))\\\" fontsize=10];\\n  X1 [shape=box color=red label=\\\"X1\\nfloat((0, 0, 0, 0))\\\" fontsize=10];\\n\\n  Y [shape=box color=green label=\\\"Y\\nfloat((0, 0, 0, 0))\\\" fontsize=10];\\n\\n  einsum2620928203744_id_axes [shape=box label=\\\"einsum2620928203744_id_axes\\nint64((1,))\\n[0]\\\" fontsize=10];\\n  einsum2620866308368_id_axes [shape=box label=\\\"einsum2620866308368_id_axes\\nint64((1,))\\n[3]\\\" fontsize=10];\\n  einsum2620928193872_ba_batch_axes [shape=box label=\\\"einsum2620928193872_ba_batch_axes\\nint64((2,))\\n[0 1]\\\" fontsize=10];\\n  einsum2620928193872_ba_sum_axes [shape=box label=\\\"einsum2620928193872_ba_sum_axes\\nint64((1,))\\n[4]\\\" fontsize=10];\\n  einsum2620928193872_ba__1 [shape=box label=\\\"einsum2620928193872_ba__1\\nint64((1,))\\n[-1]\\\" fontsize=10];\\n  einsum2620928193872_ba_left_set [shape=box label=\\\"einsum2620928193872_ba_left_set\\nint64((1,))\\n[3]\\\" fontsize=10];\\n  einsum2620928193872_ba_right_set [shape=box label=\\\"einsum2620928193872_ba_right_set\\nint64((1,))\\n[2]\\\" fontsize=10];\\n  einsum2620928193872_ba_ones [shape=box label=\\\"einsum2620928193872_ba_ones\\nint64((1,))\\n[1]\\\" fontsize=10];\\n  einsum2620928151024_tr_axes [shape=box label=\\\"einsum2620928151024_tr_axes\\nint64((1,))\\n[4]\\\" fontsize=10];\\n\\n  einsum2620928203744_id [shape=box label=\\\"einsum2620928203744_id\\\" fontsize=10];\\n  Identity [shape=box style=\\\"filled,rounded\\\" color=orange label=\\\"Identity\\n(Identity)\\\" fontsize=10];\\n  X0 -> Identity;\\n  Identity -> einsum2620928203744_id;\\n\\n  einsum2620928204560_ex [shape=box label=\\\"einsum2620928204560_ex\\\" fontsize=10];\\n  Unsqueeze0_2620928204560 [shape=box style=\\\"filled,rounded\\\" color=orange label=\\\"Unsqueeze\\n(Unsqueeze0_2620928204560)\\\" fontsize=10];\\n  einsum2620928203744_id -> Unsqueeze0_2620928204560;\\n  einsum2620928203744_id_axes -> Unsqueeze0_2620928204560;\\n  Unsqueeze0_2620928204560 -> einsum2620928204560_ex;\\n\\n  einsum2620928192816_tr [shape=box label=\\\"einsum2620928192816_tr\\\" fontsize=10];\\n  Transpose13024_2620928192816 [shape=box style=\\\"filled,rounded\\\" color=orange label=\\\"Transpose\\n(Transpose13024_2620928192816)\\nperm=[1 3 0 2 4]\\\" fontsize=10];\\n  einsum2620928204560_ex -> Transpose13024_2620928192816;\\n  Transpose13024_2620928192816 -> einsum2620928192816_tr;\\n\\n  einsum2620866308368_id [shape=box label=\\\"einsum2620866308368_id\\\" fontsize=10];\\n  Identity1 [shape=box style=\\\"filled,rounded\\\" color=orange label=\\\"Identity\\n(Identity1)\\\" fontsize=10];\\n  X1 -> Identity1;\\n  Identity1 -> einsum2620866308368_id;\\n\\n  einsum2620928202160_ex [shape=box label=\\\"einsum2620928202160_ex\\\" fontsize=10];\\n  Unsqueeze3_2620928202160 [shape=box style=\\\"filled,rounded\\\" color=orange label=\\\"Unsqueeze\\n(Unsqueeze3_2620928202160)\\\" fontsize=10];\\n  einsum2620866308368_id -> Unsqueeze3_2620928202160;\\n  einsum2620866308368_id_axes -> Unsqueeze3_2620928202160;\\n  Unsqueeze3_2620928202160 -> einsum2620928202160_ex;\\n\\n  einsum2620928192768_tr [shape=box label=\\\"einsum2620928192768_tr\\\" fontsize=10];\\n  Transpose02134_2620928192768 [shape=box style=\\\"filled,rounded\\\" color=orange label=\\\"Transpose\\n(Transpose02134_2620928192768)\\nperm=[0 2 1 3 4]\\\" fontsize=10];\\n  einsum2620928202160_ex -> Transpose02134_2620928192768;\\n  Transpose02134_2620928192768 -> einsum2620928192768_tr;\\n\\n  einsum2620928193872_ba_shape1 [shape=box label=\\\"einsum2620928193872_ba_shape1\\\" fontsize=10];\\n  Shape [shape=box style=\\\"filled,rounded\\\" color=orange label=\\\"Shape\\n(Shape)\\\" fontsize=10];\\n  einsum2620928192816_tr -> Shape;\\n  Shape -> einsum2620928193872_ba_shape1;\\n\\n  einsum2620928193872_ba_shape2 [shape=box label=\\\"einsum2620928193872_ba_shape2\\\" fontsize=10];\\n  Shape1 [shape=box style=\\\"filled,rounded\\\" color=orange label=\\\"Shape\\n(Shape1)\\\" fontsize=10];\\n  einsum2620928192768_tr -> Shape1;\\n  Shape1 -> einsum2620928193872_ba_shape2;\\n\\n  einsum2620928193872_ba_dim0g [shape=box label=\\\"einsum2620928193872_ba_dim0g\\\" fontsize=10];\\n  Gather [shape=box style=\\\"filled,rounded\\\" color=orange label=\\\"Gather\\n(Gather)\\\" fontsize=10];\\n  einsum2620928193872_ba_shape1 -> Gather;\\n  einsum2620928193872_ba_batch_axes -> Gather;\\n  Gather -> einsum2620928193872_ba_dim0g;\\n\\n  einsum2620928193872_ba_dim0bg [shape=box label=\\\"einsum2620928193872_ba_dim0bg\\\" fontsize=10];\\n  Gather1 [shape=box style=\\\"filled,rounded\\\" color=orange label=\\\"Gather\\n(Gather1)\\\" fontsize=10];\\n  einsum2620928193872_ba_shape2 -> Gather1;\\n  einsum2620928193872_ba_batch_axes -> Gather1;\\n  Gather1 -> einsum2620928193872_ba_dim0bg;\\n\\n  einsum2620928193872_ba_dim0 [shape=box label=\\\"einsum2620928193872_ba_dim0\\\" fontsize=10];\\n  ReduceProd [shape=box style=\\\"filled,rounded\\\" color=orange label=\\\"ReduceProd\\n(ReduceProd)\\nkeepdims=1\\\" fontsize=10];\\n  einsum2620928193872_ba_dim0g -> ReduceProd;\\n  ReduceProd -> einsum2620928193872_ba_dim0;\\n\\n  einsum2620928193872_ba_dim0b [shape=box label=\\\"einsum2620928193872_ba_dim0b\\\" fontsize=10];\\n  ReduceProd1 [shape=box style=\\\"filled,rounded\\\" color=orange label=\\\"ReduceProd\\n(ReduceProd1)\\nkeepdims=1\\\" fontsize=10];\\n  einsum2620928193872_ba_dim0bg -> ReduceProd1;\\n  ReduceProd1 -> einsum2620928193872_ba_dim0b;\\n\\n  einsum2620928193872_ba_dim1 [shape=box label=\\\"einsum2620928193872_ba_dim1\\\" fontsize=10];\\n  Gather12 [shape=box style=\\\"filled,rounded\\\" color=orange label=\\\"Gather\\n(Gather12)\\\" fontsize=10];\\n  einsum2620928193872_ba_shape1 -> Gather12;\\n  einsum2620928193872_ba_sum_axes -> Gather12;\\n  Gather12 -> einsum2620928193872_ba_dim1;\\n\\n  einsum2620928193872_ba_dim2 [shape=box label=\\\"einsum2620928193872_ba_dim2\\\" fontsize=10];\\n  Gather123 [shape=box style=\\\"filled,rounded\\\" color=orange label=\\\"Gather\\n(Gather123)\\\" fontsize=10];\\n  einsum2620928193872_ba_shape2 -> Gather123;\\n  einsum2620928193872_ba_sum_axes -> Gather123;\\n  Gather123 -> einsum2620928193872_ba_dim2;\\n\\n  einsum2620928193872_ba_resh1 [shape=box label=\\\"einsum2620928193872_ba_resh1\\\" fontsize=10];\\n  Concat [shape=box style=\\\"filled,rounded\\\" color=orange label=\\\"Concat\\n(Concat)\\naxis=0\\\" fontsize=10];\\n  einsum2620928193872_ba_dim0 -> Concat;\\n  einsum2620928193872_ba__1 -> Concat;\\n  einsum2620928193872_ba_dim1 -> Concat;\\n  Concat -> einsum2620928193872_ba_resh1;\\n\\n  einsum2620928193872_ba_resh2 [shape=box label=\\\"einsum2620928193872_ba_resh2\\\" fontsize=10];\\n  Concat1 [shape=box style=\\\"filled,rounded\\\" color=orange label=\\\"Concat\\n(Concat1)\\naxis=0\\\" fontsize=10];\\n  einsum2620928193872_ba_dim0b -> Concat1;\\n  einsum2620928193872_ba__1 -> Concat1;\\n  einsum2620928193872_ba_dim2 -> Concat1;\\n  Concat1 -> einsum2620928193872_ba_resh2;\\n\\n  einsum2620928193872_ba_aresh1 [shape=box label=\\\"einsum2620928193872_ba_aresh1\\\" fontsize=10];\\n  Reshape [shape=box style=\\\"filled,rounded\\\" color=orange label=\\\"Reshape\\n(Reshape)\\\" fontsize=10];\\n  einsum2620928192816_tr -> Reshape;\\n  einsum2620928193872_ba_resh1 -> Reshape;\\n  Reshape -> einsum2620928193872_ba_aresh1;\\n\\n  einsum2620928193872_ba_aresh2 [shape=box label=\\\"einsum2620928193872_ba_aresh2\\\" fontsize=10];\\n  Reshape1 [shape=box style=\\\"filled,rounded\\\" color=orange label=\\\"Reshape\\n(Reshape1)\\\" fontsize=10];\\n  einsum2620928192768_tr -> Reshape1;\\n  einsum2620928193872_ba_resh2 -> Reshape1;\\n  Reshape1 -> einsum2620928193872_ba_aresh2;\\n\\n  einsum2620928193872_ba_aresh2_tr [shape=box label=\\\"einsum2620928193872_ba_aresh2_tr\\\" fontsize=10];\\n  Transpose021_2620928193872 [shape=box style=\\\"filled,rounded\\\" color=orange label=\\\"Transpose\\n(Transpose021_2620928193872)\\nperm=[0 2 1]\\\" fontsize=10];\\n  einsum2620928193872_ba_aresh2 -> Transpose021_2620928193872;\\n  Transpose021_2620928193872 -> einsum2620928193872_ba_aresh2_tr;\\n\\n  einsum2620928193872_ba_dot [shape=box label=\\\"einsum2620928193872_ba_dot\\\" fontsize=10];\\n  MatMul [shape=box style=\\\"filled,rounded\\\" color=orange label=\\\"MatMul\\n(MatMul)\\\" fontsize=10];\\n  einsum2620928193872_ba_aresh1 -> MatMul;\\n  einsum2620928193872_ba_aresh2_tr -> MatMul;\\n  MatMul -> einsum2620928193872_ba_dot;\\n\\n  einsum2620928193872_ba_max_dim [shape=box label=\\\"einsum2620928193872_ba_max_dim\\\" fontsize=10];\\n  Max [shape=box style=\\\"filled,rounded\\\" color=orange label=\\\"Max\\n(Max)\\\" fontsize=10];\\n  einsum2620928193872_ba_dim0g -> Max;\\n  einsum2620928193872_ba_dim0bg -> Max;\\n  Max -> einsum2620928193872_ba_max_dim;\\n\\n  einsum2620928193872_ba_left_dim [shape=box label=\\\"einsum2620928193872_ba_left_dim\\\" fontsize=10];\\n  Gather1234 [shape=box style=\\\"filled,rounded\\\" color=orange label=\\\"Gather\\n(Gather1234)\\\" fontsize=10];\\n  einsum2620928193872_ba_shape1 -> Gather1234;\\n  einsum2620928193872_ba_left_set -> Gather1234;\\n  Gather1234 -> einsum2620928193872_ba_left_dim;\\n\\n  einsum2620928193872_ba_right_dim [shape=box label=\\\"einsum2620928193872_ba_right_dim\\\" fontsize=10];\\n  Gather12345 [shape=box style=\\\"filled,rounded\\\" color=orange label=\\\"Gather\\n(Gather12345)\\\" fontsize=10];\\n  einsum2620928193872_ba_shape2 -> Gather12345;\\n  einsum2620928193872_ba_right_set -> Gather12345;\\n  Gather12345 -> einsum2620928193872_ba_right_dim;\\n\\n  einsum2620928193872_ba_new_shape [shape=box label=\\\"einsum2620928193872_ba_new_shape\\\" fontsize=10];\\n  Concat12 [shape=box style=\\\"filled,rounded\\\" color=orange label=\\\"Concat\\n(Concat12)\\naxis=0\\\" fontsize=10];\\n  einsum2620928193872_ba_max_dim -> Concat12;\\n  einsum2620928193872_ba_left_dim -> Concat12;\\n  einsum2620928193872_ba_right_dim -> Concat12;\\n  einsum2620928193872_ba_ones -> Concat12;\\n  Concat12 -> einsum2620928193872_ba_new_shape;\\n\\n  einsum2620928193872_ba_final [shape=box label=\\\"einsum2620928193872_ba_final\\\" fontsize=10];\\n  Reshape12 [shape=box style=\\\"filled,rounded\\\" color=orange label=\\\"Reshape\\n(Reshape12)\\\" fontsize=10];\\n  einsum2620928193872_ba_dot -> Reshape12;\\n  einsum2620928193872_ba_new_shape -> Reshape12;\\n  Reshape12 -> einsum2620928193872_ba_final;\\n\\n  einsum2620928151024_tr [shape=box label=\\\"einsum2620928151024_tr\\\" fontsize=10];\\n  Transpose01324_2620928151024 [shape=box style=\\\"filled,rounded\\\" color=orange label=\\\"Transpose\\n(Transpose01324_2620928151024)\\nperm=[0 1 3 2 4]\\\" fontsize=10];\\n  einsum2620928193872_ba_final -> Transpose01324_2620928151024;\\n  Transpose01324_2620928151024 -> einsum2620928151024_tr;\\n\\n  einsum2620928194352_sq [shape=box label=\\\"einsum2620928194352_sq\\\" fontsize=10];\\n  Squeeze4_2620928194352 [shape=box style=\\\"filled,rounded\\\" color=orange label=\\\"Squeeze\\n(Squeeze4_2620928194352)\\\" fontsize=10];\\n  einsum2620928151024_tr -> Squeeze4_2620928194352;\\n  einsum2620928151024_tr_axes -> Squeeze4_2620928194352;\\n  Squeeze4_2620928194352 -> einsum2620928194352_sq;\\n\\n  Identity12 [shape=box style=\\\"filled,rounded\\\" color=orange label=\\\"Identity\\n(Identity12)\\\" fontsize=10];\\n  einsum2620928194352_sq -> Identity12;\\n  Identity12 -> Y;\\n}\");\n",
              "document.getElementById('M1047237934a84353913282c50cf06e41').innerHTML = svgGraph; });\n",
              "\n",
              "</script>"
            ],
            "text/plain": [
              "<jyquickhelper.jspy.render_nb_js_dot.RenderJsDot at 0x262366c7280>"
            ]
          },
          "execution_count": 45,
          "metadata": {},
          "output_type": "execute_result"
        }
      ],
      "source": [
        "%onnxview onx"
      ]
    },
    {
      "cell_type": "markdown",
      "metadata": {},
      "source": [
        "The optimized looked into all permutations. We see that the letter ordering should be carefully chosen."
      ]
    },
    {
      "cell_type": "code",
      "execution_count": 45,
      "metadata": {},
      "outputs": [
        {
          "data": {
            "image/png": "[encoded data removed]",
            "text/plain": [
              "<Figure size 576x1800 with 1 Axes>"
            ]
          },
          "metadata": {
            "needs_background": "light"
          },
          "output_type": "display_data"
        }
      ],
      "source": [
        "import pandas\n",
        "df = pandas.DataFrame(obj.timed_permutations_, columns=[\"time\", \"equation\"])\n",
        "df = df.sort_values('time')\n",
        "df = df.set_index(\"equation\")\n",
        "ax = df.plot.barh(figsize=(8, 25))\n",
        "ax.set_title(\"%s OPTIMIZED INTO %s\" % (obj.equation, obj.equation_));"
      ]
    },
    {
      "cell_type": "code",
      "execution_count": 46,
      "metadata": {},
      "outputs": [],
      "source": []
    }
  ],
  "metadata": {
    "kernelspec": {
      "display_name": "Python 3",
      "language": "python",
      "name": "python3"
    },
    "language_info": {
      "codemirror_mode": {
        "name": "ipython",
        "version": 3
      },
      "file_extension": ".py",
      "mimetype": "text/x-python",
      "name": "python",
      "nbconvert_exporter": "python",
      "pygments_lexer": "ipython3",
      "version": "3.8.7"
    }
  },
  "nbformat": 4,
  "nbformat_minor": 4
}