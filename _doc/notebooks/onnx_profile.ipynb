{
  "cells": [
    {
      "cell_type": "markdown",
      "metadata": {},
      "source": [
        "# Memory usage\n",
        "\n",
        "The [first benchmark](http://www.xavierdupre.fr/app/_benchmarks/helpsphinx/sklbench_results/index.html) based on [scikti-learn's benchmark](https://github.com/jeremiedbb/scikit-learn_benchmarks) shows high peaks of memory usage for the python runtime on linear models. Let's see how to measure that."
      ]
    },
    {
      "cell_type": "code",
      "execution_count": 1,
      "metadata": {},
      "outputs": [
        {
          "data": {
            "text/html": [
              "<div id=\"my_id_menu_nb\">run previous cell, wait for 2 seconds</div>\n",
              "<script>\n",
              "function repeat_indent_string(n){\n",
              "    var a = \"\" ;\n",
              "    for ( ; n > 0 ; --n)\n",
              "        a += \"    \";\n",
              "    return a;\n",
              "}\n",
              "// look up into all sections and builds an automated menu //\n",
              "var update_menu_string = function(begin, lfirst, llast, sformat, send, keep_item, begin_format, end_format) {\n",
              "    var anchors = document.getElementsByClassName(\"section\");\n",
              "    if (anchors.length == 0) {\n",
              "        anchors = document.getElementsByClassName(\"text_cell_render rendered_html\");\n",
              "    }\n",
              "    var i,t;\n",
              "    var text_menu = begin;\n",
              "    var text_memo = \"<pre>\\nlength:\" + anchors.length + \"\\n\";\n",
              "    var ind = \"\";\n",
              "    var memo_level = 1;\n",
              "    var href;\n",
              "    var tags = [];\n",
              "    var main_item = 0;\n",
              "    var format_open = 0;\n",
              "    for (i = 0; i <= llast; i++)\n",
              "        tags.push(\"h\" + i);\n",
              "\n",
              "    for (i = 0; i < anchors.length; i++) {\n",
              "        text_memo += \"**\" + anchors[i].id + \"--\\n\";\n",
              "\n",
              "        var child = null;\n",
              "        for(t = 0; t < tags.length; t++) {\n",
              "            var r = anchors[i].getElementsByTagName(tags[t]);\n",
              "            if (r.length > 0) {\n",
              "child = r[0];\n",
              "break;\n",
              "            }\n",
              "        }\n",
              "        if (child == null) {\n",
              "            text_memo += \"null\\n\";\n",
              "            continue;\n",
              "        }\n",
              "        if (anchors[i].hasAttribute(\"id\")) {\n",
              "            // when converted in RST\n",
              "            href = anchors[i].id;\n",
              "            text_memo += \"#1-\" + href;\n",
              "            // passer \u00e0 child suivant (le chercher)\n",
              "        }\n",
              "        else if (child.hasAttribute(\"id\")) {\n",
              "            // in a notebook\n",
              "            href = child.id;\n",
              "            text_memo += \"#2-\" + href;\n",
              "        }\n",
              "        else {\n",
              "            text_memo += \"#3-\" + \"*\" + \"\\n\";\n",
              "            continue;\n",
              "        }\n",
              "        var title = child.textContent;\n",
              "        var level = parseInt(child.tagName.substring(1,2));\n",
              "\n",
              "        text_memo += \"--\" + level + \"?\" + lfirst + \"--\" + title + \"\\n\";\n",
              "\n",
              "        if ((level < lfirst) || (level > llast)) {\n",
              "            continue ;\n",
              "        }\n",
              "        if (title.endsWith('\u00b6')) {\n",
              "            title = title.substring(0,title.length-1).replace(\"<\", \"&lt;\")\n",
              "         .replace(\">\", \"&gt;\").replace(\"&\", \"&amp;\");\n",
              "        }\n",
              "        if (title.length == 0) {\n",
              "            continue;\n",
              "        }\n",
              "\n",
              "        while (level < memo_level) {\n",
              "            text_menu += end_format + \"</ul>\\n\";\n",
              "            format_open -= 1;\n",
              "            memo_level -= 1;\n",
              "        }\n",
              "        if (level == lfirst) {\n",
              "            main_item += 1;\n",
              "        }\n",
              "        if (keep_item != -1 && main_item != keep_item + 1) {\n",
              "            // alert(main_item + \" - \" + level + \" - \" + keep_item);\n",
              "            continue;\n",
              "        }\n",
              "        while (level > memo_level) {\n",
              "            text_menu += \"<ul>\\n\";\n",
              "            memo_level += 1;\n",
              "        }\n",
              "        text_menu += repeat_indent_string(level-2);\n",
              "        text_menu += begin_format + sformat.replace(\"__HREF__\", href).replace(\"__TITLE__\", title);\n",
              "        format_open += 1;\n",
              "    }\n",
              "    while (1 < memo_level) {\n",
              "        text_menu += end_format + \"</ul>\\n\";\n",
              "        memo_level -= 1;\n",
              "        format_open -= 1;\n",
              "    }\n",
              "    text_menu += send;\n",
              "    //text_menu += \"\\n\" + text_memo;\n",
              "\n",
              "    while (format_open > 0) {\n",
              "        text_menu += end_format;\n",
              "        format_open -= 1;\n",
              "    }\n",
              "    return text_menu;\n",
              "};\n",
              "var update_menu = function() {\n",
              "    var sbegin = \"\";\n",
              "    var sformat = '<a href=\"#__HREF__\">__TITLE__</a>';\n",
              "    var send = \"\";\n",
              "    var begin_format = '<li>';\n",
              "    var end_format = '</li>';\n",
              "    var keep_item = -1;\n",
              "    var text_menu = update_menu_string(sbegin, 2, 4, sformat, send, keep_item,\n",
              "       begin_format, end_format);\n",
              "    var menu = document.getElementById(\"my_id_menu_nb\");\n",
              "    menu.innerHTML=text_menu;\n",
              "};\n",
              "window.setTimeout(update_menu,2000);\n",
              "            </script>"
            ],
            "text/plain": [
              "<IPython.core.display.HTML object>"
            ]
          },
          "execution_count": 2,
          "metadata": {},
          "output_type": "execute_result"
        }
      ],
      "source": [
        "from jyquickhelper import add_notebook_menu\n",
        "add_notebook_menu()"
      ]
    },
    {
      "cell_type": "markdown",
      "metadata": {},
      "source": [
        "## Artificial huge data "
      ]
    },
    {
      "cell_type": "code",
      "execution_count": 2,
      "metadata": {},
      "outputs": [
        {
          "data": {
            "text/plain": [
              "0.48"
            ]
          },
          "execution_count": 3,
          "metadata": {},
          "output_type": "execute_result"
        }
      ],
      "source": [
        "import numpy\n",
        "N, nfeat = 300000, 200\n",
        "N * nfeat * 8 / 1e9"
      ]
    },
    {
      "cell_type": "code",
      "execution_count": 3,
      "metadata": {},
      "outputs": [
        {
          "data": {
            "text/plain": [
              "((300000, 200), (300000, 50))"
            ]
          },
          "execution_count": 4,
          "metadata": {},
          "output_type": "execute_result"
        }
      ],
      "source": [
        "X = numpy.random.random((N, nfeat))\n",
        "y = numpy.empty((N, 50))\n",
        "for i in range(y.shape[1]):\n",
        "    y[:, i] = X.sum(axis=1) + numpy.random.random(N)\n",
        "X.shape, y.shape"
      ]
    },
    {
      "cell_type": "code",
      "execution_count": 4,
      "metadata": {},
      "outputs": [],
      "source": [
        "from sklearn.model_selection import train_test_split\n",
        "X_train, X_test, y_train, y_test = train_test_split(X, y, train_size=0.1)"
      ]
    },
    {
      "cell_type": "code",
      "execution_count": 5,
      "metadata": {},
      "outputs": [
        {
          "data": {
            "text/plain": [
              "LinearRegression()"
            ]
          },
          "execution_count": 6,
          "metadata": {},
          "output_type": "execute_result"
        }
      ],
      "source": [
        "from sklearn.linear_model import LinearRegression\n",
        "clr = LinearRegression()\n",
        "clr.fit(X_train, y_train)"
      ]
    },
    {
      "cell_type": "code",
      "execution_count": 6,
      "metadata": {},
      "outputs": [],
      "source": [
        "from mlprodict.onnx_conv import to_onnx\n",
        "from mlprodict.onnxrt import OnnxInference\n",
        "clr_onnx = to_onnx(clr, X_train[:1].astype(numpy.float32))\n",
        "oinfpy = OnnxInference(clr_onnx, runtime='python')"
      ]
    },
    {
      "cell_type": "markdown",
      "metadata": {},
      "source": [
        "Let's minimize the cost of verifications on scikit-learn's side."
      ]
    },
    {
      "cell_type": "code",
      "execution_count": 7,
      "metadata": {},
      "outputs": [],
      "source": [
        "from sklearn import set_config\n",
        "set_config(assume_finite=True)"
      ]
    },
    {
      "cell_type": "markdown",
      "metadata": {},
      "source": [
        "## Profiling the prediction function"
      ]
    },
    {
      "cell_type": "code",
      "execution_count": 8,
      "metadata": {},
      "outputs": [
        {
          "name": "stdout",
          "output_type": "stream",
          "text": [
            "\n",
            "  _     ._   __/__   _ _  _  _ _/_   Recorded: 15:51:37  Samples:  4\n",
            " /_//_/// /_\\ / //_// / //_'/ //     Duration: 0.439     CPU time: 0.797\n",
            "/   _/                      v3.0.1\n",
            "\n",
            "Program: c:\\python372_x64\\lib\\site-packages\\ipykernel_launcher.py -f C:\\Users\\xavie\\AppData\\Roaming\\jupyter\\runtime\\kernel-4e37b7b5-7bfc-4784-9e5a-cae5acd320c1.json\n",
            "\n",
            "0.439 profile  pyquickhelper\\pycode\\profiling.py:49\n",
            "|- 0.427 <lambda>  <ipython-input-12-1097e70fe6c7>:2\n",
            "|  `- 0.427 predict  sklearn\\linear_model\\_base.py:222\n",
            "|     `- 0.427 _decision_function  sklearn\\linear_model\\_base.py:215\n",
            "|        |- 0.371 inner_f  sklearn\\utils\\validation.py:60\n",
            "|        |  `- 0.370 safe_sparse_dot  sklearn\\utils\\extmath.py:118\n",
            "|        `- 0.056 [self]  \n",
            "`- 0.012 [self]  \n",
            "\n",
            "\n"
          ]
        }
      ],
      "source": [
        "from pyquickhelper.pycode.profiling import profile\n",
        "print(profile(lambda: clr.predict(X_test), \n",
        "              pyinst_format='text')[1])"
      ]
    },
    {
      "cell_type": "code",
      "execution_count": 9,
      "metadata": {
        "scrolled": false
      },
      "outputs": [
        {
          "name": "stdout",
          "output_type": "stream",
          "text": [
            "\n",
            "  _     ._   __/__   _ _  _  _ _/_   Recorded: 15:51:39  Samples:  5\n",
            " /_//_/// /_\\ / //_// / //_'/ //     Duration: 0.378     CPU time: 0.453\n",
            "/   _/                      v3.0.1\n",
            "\n",
            "Program: c:\\python372_x64\\lib\\site-packages\\ipykernel_launcher.py -f C:\\Users\\xavie\\AppData\\Roaming\\jupyter\\runtime\\kernel-4e37b7b5-7bfc-4784-9e5a-cae5acd320c1.json\n",
            "\n",
            "0.378 profile  pyquickhelper\\pycode\\profiling.py:49\n",
            "|- 0.370 <lambda>  <ipython-input-13-da4aa05db7ed>:6\n",
            "|  |- 0.233 run  mlprodict\\onnxrt\\onnx_inference.py:471\n",
            "|  |  `- 0.233 _run_sequence_runtime  mlprodict\\onnxrt\\onnx_inference.py:551\n",
            "|  |     `- 0.233 run  mlprodict\\onnxrt\\onnx_inference_node.py:141\n",
            "|  |        `- 0.233 run  mlprodict\\onnxrt\\ops_cpu\\_op.py:374\n",
            "|  |           `- 0.233 run  mlprodict\\onnxrt\\ops_cpu\\_op.py:289\n",
            "|  |              `- 0.233 _run  mlprodict\\onnxrt\\ops_cpu\\op_linear_regressor.py:27\n",
            "|  |                 |- 0.215 numpy_dot_inplace  mlprodict\\onnxrt\\ops_cpu\\_op_numpy_helper.py:8\n",
            "|  |                 |  `- 0.215 dot  <__array_function__ internals>:2\n",
            "|  |                 `- 0.018 [self]  \n",
            "|  |- 0.112 nastype32  <ipython-input-13-da4aa05db7ed>:3\n",
            "|  `- 0.026 [self]  \n",
            "`- 0.008 [self]  \n",
            "\n",
            "\n"
          ]
        }
      ],
      "source": [
        "import numpy\n",
        "\n",
        "def nastype32(mat):\n",
        "    return mat.astype(numpy.float32)\n",
        "\n",
        "print(profile(lambda: oinfpy.run({'X': nastype32(X_test)}), \n",
        "              pyinst_format='text')[1])"
      ]
    },
    {
      "cell_type": "markdown",
      "metadata": {},
      "source": [
        "Most of the time is taken out into casting into float. Let's take it out."
      ]
    },
    {
      "cell_type": "code",
      "execution_count": 10,
      "metadata": {},
      "outputs": [
        {
          "name": "stdout",
          "output_type": "stream",
          "text": [
            "\n",
            "  _     ._   __/__   _ _  _  _ _/_   Recorded: 15:51:43  Samples:  3\n",
            " /_//_/// /_\\ / //_// / //_'/ //     Duration: 0.081     CPU time: 0.141\n",
            "/   _/                      v3.0.1\n",
            "\n",
            "Program: c:\\python372_x64\\lib\\site-packages\\ipykernel_launcher.py -f C:\\Users\\xavie\\AppData\\Roaming\\jupyter\\runtime\\kernel-4e37b7b5-7bfc-4784-9e5a-cae5acd320c1.json\n",
            "\n",
            "0.080 profile  pyquickhelper\\pycode\\profiling.py:49\n",
            "|- 0.074 <lambda>  <ipython-input-14-fe055596e921>:3\n",
            "|  `- 0.074 run  mlprodict\\onnxrt\\onnx_inference.py:471\n",
            "|     `- 0.074 _run_sequence_runtime  mlprodict\\onnxrt\\onnx_inference.py:551\n",
            "|        `- 0.074 run  mlprodict\\onnxrt\\onnx_inference_node.py:141\n",
            "|           `- 0.074 run  mlprodict\\onnxrt\\ops_cpu\\_op.py:374\n",
            "|              `- 0.074 run  mlprodict\\onnxrt\\ops_cpu\\_op.py:289\n",
            "|                 `- 0.074 _run  mlprodict\\onnxrt\\ops_cpu\\op_linear_regressor.py:27\n",
            "|                    |- 0.059 numpy_dot_inplace  mlprodict\\onnxrt\\ops_cpu\\_op_numpy_helper.py:8\n",
            "|                    |  `- 0.059 dot  <__array_function__ internals>:2\n",
            "|                    `- 0.015 [self]  \n",
            "`- 0.007 [self]  \n",
            "\n",
            "\n"
          ]
        }
      ],
      "source": [
        "X_test32 = X_test.astype(numpy.float32)\n",
        "\n",
        "print(profile(lambda: oinfpy.run({'X': X_test32}), \n",
        "              pyinst_format='text')[1])"
      ]
    },
    {
      "cell_type": "markdown",
      "metadata": {},
      "source": [
        "Much better."
      ]
    },
    {
      "cell_type": "markdown",
      "metadata": {},
      "source": [
        "## SGDClasifier\n",
        "\n",
        "This models is implemented with many ONNX nodes. Let's how it behaves."
      ]
    },
    {
      "cell_type": "code",
      "execution_count": 11,
      "metadata": {},
      "outputs": [
        {
          "data": {
            "text/plain": [
              "SGDClassifier()"
            ]
          },
          "execution_count": 12,
          "metadata": {},
          "output_type": "execute_result"
        }
      ],
      "source": [
        "from sklearn.linear_model import SGDClassifier\n",
        "from sklearn.datasets import load_iris\n",
        "data = load_iris()\n",
        "Xir, yir = data.data, data.target\n",
        "Xir_train, Xir_test, yir_train, yir_test = train_test_split(Xir, yir)\n",
        "sgcl = SGDClassifier()\n",
        "sgcl.fit(Xir_train, yir_train)"
      ]
    },
    {
      "cell_type": "code",
      "execution_count": 12,
      "metadata": {},
      "outputs": [
        {
          "name": "stderr",
          "output_type": "stream",
          "text": [
            "C:\\xavierdupre\\__home_\\github_fork\\scikit-learn\\sklearn\\utils\\deprecation.py:101: FutureWarning: Attribute average_coef_ was deprecated in version 0.23 and will be removed in 0.25.\n",
            "  warnings.warn(msg, category=FutureWarning)\n",
            "C:\\xavierdupre\\__home_\\github_fork\\scikit-learn\\sklearn\\utils\\deprecation.py:101: FutureWarning: Attribute average_intercept_ was deprecated in version 0.23 and will be removed in 0.25.\n",
            "  warnings.warn(msg, category=FutureWarning)\n",
            "C:\\xavierdupre\\__home_\\github_fork\\scikit-learn\\sklearn\\utils\\deprecation.py:101: FutureWarning: Attribute standard_coef_ was deprecated in version 0.23 and will be removed in 0.25.\n",
            "  warnings.warn(msg, category=FutureWarning)\n",
            "C:\\xavierdupre\\__home_\\github_fork\\scikit-learn\\sklearn\\utils\\deprecation.py:101: FutureWarning: Attribute standard_intercept_ was deprecated in version 0.23 and will be removed in 0.25.\n",
            "  warnings.warn(msg, category=FutureWarning)\n"
          ]
        }
      ],
      "source": [
        "sgd_onnx = to_onnx(sgcl, Xir_train.astype(numpy.float32))"
      ]
    },
    {
      "cell_type": "code",
      "execution_count": 13,
      "metadata": {},
      "outputs": [],
      "source": [
        "%load_ext mlprodict"
      ]
    },
    {
      "cell_type": "code",
      "execution_count": 14,
      "metadata": {},
      "outputs": [
        {
          "data": {
            "text/html": [
              "<div id=\"Mc0b17e900dc843cfb2912f09cde39e4e-cont\"><div id=\"Mc0b17e900dc843cfb2912f09cde39e4e\" style=\"width:100%;height:100%;\"></div></div>\n",
              "<script>\n",
              "\n",
              "require(['http://www.xavierdupre.fr/js/vizjs/viz.js'], function() { var svgGraph = Viz(\"digraph{\\n  nodesep=0.05;\\n  ranksep=0.25;\\n  orientation=portrait;\\n\\n  X [shape=box color=red label=\\\"X\\nfloat((0, 4))\\\" fontsize=10];\\n\\n  output_label [shape=box color=green label=\\\"output_label\\nint64((0,))\\\" fontsize=10];\\n  output_probability [shape=box color=green label=\\\"output_probability\\n[{int64, {'kind': 'tensor', 'elem': 'float', 'shape': }}]\\\" fontsize=10];\\n\\n  classes [shape=box label=\\\"classes\\nint32((3,))\\n[0 1 2]\\\" fontsize=10];\\n  coef [shape=box label=\\\"coef\\nfloat32((4, 3))\\n[[  11.777903     8.9414015 -107.97203  ]\\n [  26.3...\\\" fontsize=10];\\n  intercept [shape=box label=\\\"intercept\\nfloat32((3,))\\n[   9.930467  118.22354  -171.99855 ]\\\" fontsize=10];\\n  shape_tensor [shape=box label=\\\"shape_tensor\\nint64((1,))\\n[-1]\\\" fontsize=10];\\n\\n  matmul_result [shape=box label=\\\"matmul_result\\\" fontsize=10];\\n  MatMul [shape=box style=\\\"filled,rounded\\\" color=orange label=\\\"MatMul\\n(MatMul)\\\" fontsize=10];\\n  X -> MatMul;\\n  coef -> MatMul;\\n  MatMul -> matmul_result;\\n\\n  score [shape=box label=\\\"score\\\" fontsize=10];\\n  Add [shape=box style=\\\"filled,rounded\\\" color=orange label=\\\"Add\\n(Add)\\\" fontsize=10];\\n  matmul_result -> Add;\\n  intercept -> Add;\\n  Add -> score;\\n\\n  predicted_label [shape=box label=\\\"predicted_label\\\" fontsize=10];\\n  ArgMax [shape=box style=\\\"filled,rounded\\\" color=orange label=\\\"ArgMax\\n(ArgMax)\\naxis=1\\\" fontsize=10];\\n  score -> ArgMax;\\n  ArgMax -> predicted_label;\\n\\n  final_label [shape=box label=\\\"final_label\\\" fontsize=10];\\n  ArrayFeatureExtractor [shape=box style=\\\"filled,rounded\\\" color=orange label=\\\"ArrayFeatureExtractor\\n(ArrayFeatureExtractor)\\\" fontsize=10];\\n  classes -> ArrayFeatureExtractor;\\n  predicted_label -> ArrayFeatureExtractor;\\n  ArrayFeatureExtractor -> final_label;\\n\\n  reshaped_final_label [shape=box label=\\\"reshaped_final_label\\\" fontsize=10];\\n  Reshape [shape=box style=\\\"filled,rounded\\\" color=orange label=\\\"Reshape\\n(Reshape)\\\" fontsize=10];\\n  final_label -> Reshape;\\n  shape_tensor -> Reshape;\\n  Reshape -> reshaped_final_label;\\n\\n  label [shape=box label=\\\"label\\\" fontsize=10];\\n  Cast [shape=box style=\\\"filled,rounded\\\" color=orange label=\\\"Cast\\n(Cast)\\nto=7\\\" fontsize=10];\\n  reshaped_final_label -> Cast;\\n  Cast -> label;\\n\\n  Cast1 [shape=box style=\\\"filled,rounded\\\" color=orange label=\\\"Cast\\n(Cast1)\\nto=7\\\" fontsize=10];\\n  label -> Cast1;\\n  Cast1 -> output_label;\\n\\n  ZipMap [shape=box style=\\\"filled,rounded\\\" color=orange label=\\\"ZipMap\\n(ZipMap)\\nclasslabels_int64s=[0 1 2]\\\" fontsize=10];\\n  score -> ZipMap;\\n  ZipMap -> output_probability;\\n}\");\n",
              "document.getElementById('Mc0b17e900dc843cfb2912f09cde39e4e').innerHTML = svgGraph; });\n",
              "\n",
              "</script>"
            ],
            "text/plain": [
              "<jyquickhelper.jspy.render_nb_js_dot.RenderJsDot at 0x273b6733518>"
            ]
          },
          "execution_count": 15,
          "metadata": {},
          "output_type": "execute_result"
        }
      ],
      "source": [
        "%onnxview sgd_onnx"
      ]
    },
    {
      "cell_type": "code",
      "execution_count": 15,
      "metadata": {},
      "outputs": [],
      "source": [
        "sgd_oinf = OnnxInference(sgd_onnx)"
      ]
    },
    {
      "cell_type": "code",
      "execution_count": 16,
      "metadata": {},
      "outputs": [
        {
          "data": {
            "text/plain": [
              "{'output_label': array([0], dtype=int64),\n",
              " 'output_probability': [{0: -65.8407, 1: -158.60867, 2: -100.55802}]}"
            ]
          },
          "execution_count": 17,
          "metadata": {},
          "output_type": "execute_result"
        }
      ],
      "source": [
        "def call_n_times_x1(n, X_test, sgd_oinf):\n",
        "    for i in range(n):\n",
        "        res = sgd_oinf.run({'X': X_test})\n",
        "    return res\n",
        "\n",
        "call_n_times_x1(20, Xir_test[:1].astype(numpy.float32), sgd_oinf)"
      ]
    },
    {
      "cell_type": "code",
      "execution_count": 17,
      "metadata": {},
      "outputs": [
        {
          "data": {
            "text/plain": [
              "array([[ -65.840706  , -158.60864916, -100.55799704]])"
            ]
          },
          "execution_count": 18,
          "metadata": {},
          "output_type": "execute_result"
        }
      ],
      "source": [
        "sgcl.decision_function(Xir_test[:1])"
      ]
    },
    {
      "cell_type": "code",
      "execution_count": 18,
      "metadata": {},
      "outputs": [
        {
          "name": "stdout",
          "output_type": "stream",
          "text": [
            "\n",
            "  _     ._   __/__   _ _  _  _ _/_   Recorded: 15:52:03  Samples:  1022\n",
            " /_//_/// /_\\ / //_// / //_'/ //     Duration: 1.432     CPU time: 1.453\n",
            "/   _/                      v3.0.1\n",
            "\n",
            "Program: c:\\python372_x64\\lib\\site-packages\\ipykernel_launcher.py -f C:\\Users\\xavie\\AppData\\Roaming\\jupyter\\runtime\\kernel-4e37b7b5-7bfc-4784-9e5a-cae5acd320c1.json\n",
            "\n",
            "1.432 profile  pyquickhelper\\pycode\\profiling.py:49\n",
            "`- 1.432 <lambda>  <ipython-input-22-ec5a6181dc40>:3\n",
            "   `- 1.432 call_n_times_x1  <ipython-input-20-32f502ef162e>:1\n",
            "      |- 1.412 run  mlprodict\\onnxrt\\onnx_inference.py:471\n",
            "      |  |- 1.381 _run_sequence_runtime  mlprodict\\onnxrt\\onnx_inference.py:551\n",
            "      |  |  |- 1.218 run  mlprodict\\onnxrt\\onnx_inference_node.py:141\n",
            "      |  |  |  |- 0.398 [self]  \n",
            "      |  |  |  |- 0.311 run  mlprodict\\onnxrt\\ops_cpu\\_op.py:132\n",
            "      |  |  |  |  |- 0.193 _run  mlprodict\\onnxrt\\ops_cpu\\op_array_feature_extractor.py:59\n",
            "      |  |  |  |  |  |- 0.170 _array_feature_extrator  mlprodict\\onnxrt\\ops_cpu\\op_array_feature_extractor.py:17\n",
            "      |  |  |  |  |  `- 0.023 [self]  \n",
            "      |  |  |  |  |- 0.047 _run  mlprodict\\onnxrt\\ops_cpu\\op_cast.py:37\n",
            "      |  |  |  |  |  `- 0.033 _run_inplace  mlprodict\\onnxrt\\ops_cpu\\op_cast.py:42\n",
            "      |  |  |  |  |     `- 0.020 <lambda>  mlprodict\\onnxrt\\ops_cpu\\op_cast.py:35\n",
            "      |  |  |  |  |- 0.028 [self]  \n",
            "      |  |  |  |  |- 0.022 _run  mlprodict\\onnxrt\\ops_cpu\\op_zipmap.py:221\n",
            "      |  |  |  |  `- 0.021 _run  mlprodict\\onnxrt\\ops_cpu\\op_reshape.py:16\n",
            "      |  |  |  |- 0.299 run  mlprodict\\onnxrt\\ops_cpu\\_op.py:337\n",
            "      |  |  |  |  `- 0.287 run  mlprodict\\onnxrt\\ops_cpu\\_op.py:289\n",
            "      |  |  |  |     `- 0.281 _run  mlprodict\\onnxrt\\ops_cpu\\op_argmax.py:69\n",
            "      |  |  |  |        `- 0.277 _run  mlprodict\\onnxrt\\ops_cpu\\op_argmax.py:42\n",
            "      |  |  |  |           `- 0.271 _argmax  mlprodict\\onnxrt\\ops_cpu\\op_argmax.py:12\n",
            "      |  |  |  |              |- 0.159 expand_dims  <__array_function__ internals>:2\n",
            "      |  |  |  |              |  `- 0.155 expand_dims  numpy\\lib\\shape_base.py:512\n",
            "      |  |  |  |              |        [10 frames hidden]  numpy\n",
            "      |  |  |  |              |- 0.059 argmax  <__array_function__ internals>:2\n",
            "      |  |  |  |              |  |- 0.041 argmax  numpy\\core\\fromnumeric.py:1112\n",
            "      |  |  |  |              |  |     [4 frames hidden]  numpy\n",
            "      |  |  |  |              |  `- 0.018 [self]  \n",
            "      |  |  |  |              `- 0.052 [self]  \n",
            "      |  |  |  |- 0.171 run  mlprodict\\onnxrt\\ops_cpu\\_op.py:517\n",
            "      |  |  |  |  |- 0.155 run  mlprodict\\onnxrt\\ops_cpu\\_op.py:453\n",
            "      |  |  |  |  |  |- 0.075 _run  mlprodict\\onnxrt\\ops_cpu\\_op.py:550\n",
            "      |  |  |  |  |  `- 0.067 _run  mlprodict\\onnxrt\\ops_cpu\\op_matmul.py:16\n",
            "      |  |  |  |  |     `- 0.066 numpy_dot_inplace  mlprodict\\onnxrt\\ops_cpu\\_op_numpy_helper.py:8\n",
            "      |  |  |  |  |        `- 0.055 dot  <__array_function__ internals>:2\n",
            "      |  |  |  |  `- 0.016 [self]  \n",
            "      |  |  |  `- 0.038 <genexpr>  mlprodict\\onnxrt\\onnx_inference_node.py:153\n",
            "      |  |  `- 0.158 [self]  \n",
            "      |  `- 0.031 [self]  \n",
            "      `- 0.020 [self]  \n",
            "\n",
            "\n"
          ]
        }
      ],
      "source": [
        "xir_32 = Xir_test[:1].astype(numpy.float32)\n",
        "\n",
        "print(profile(lambda: call_n_times_x1(20000, xir_32, sgd_oinf), \n",
        "              pyinst_format='text')[1])"
      ]
    },
    {
      "cell_type": "markdown",
      "metadata": {},
      "source": [
        "The code in ``mlprodict/onnxrt/onnx_inference_node.py`` just calls an operator and updates the list containing all the results. The time in here is significant if the number of node is huge if the python runtime is used."
      ]
    },
    {
      "cell_type": "markdown",
      "metadata": {},
      "source": [
        "## Memory profiling"
      ]
    },
    {
      "cell_type": "code",
      "execution_count": 19,
      "metadata": {},
      "outputs": [],
      "source": [
        "%matplotlib inline"
      ]
    },
    {
      "cell_type": "code",
      "execution_count": 20,
      "metadata": {},
      "outputs": [],
      "source": [
        "from memory_profiler import memory_usage\n",
        "memprof_skl = memory_usage((clr.predict, (X_test, )), timestamps=True, interval=0.01)"
      ]
    },
    {
      "cell_type": "code",
      "execution_count": 21,
      "metadata": {},
      "outputs": [
        {
          "data": {
            "text/plain": [
              "[(811.3515625, 1594129928.0175571),\n",
              " (811.671875, 1594129932.2684996),\n",
              " (822.36328125, 1594129932.28645),\n",
              " (832.11328125, 1594129932.30241),\n",
              " (847.05078125, 1594129932.3183646),\n",
              " (860.5625, 1594129932.333325),\n",
              " (874.48828125, 1594129932.3482847),\n",
              " (883.73828125, 1594129932.3642418),\n",
              " (898.80078125, 1594129932.380199),\n",
              " (907.98828125, 1594129932.3961573),\n",
              " (935.03515625, 1594129932.4121134),\n",
              " (965.03515625, 1594129932.4280717),\n",
              " (998.59765625, 1594129932.4440289),\n",
              " (949.73828125, 1594129932.4599853),\n",
              " (914.75390625, 1594129932.464972)]"
            ]
          },
          "execution_count": 22,
          "metadata": {},
          "output_type": "execute_result"
        }
      ],
      "source": [
        "memprof_skl"
      ]
    },
    {
      "cell_type": "code",
      "execution_count": 22,
      "metadata": {},
      "outputs": [
        {
          "data": {
            "image/png": "[encoded data removed]",
            "text/plain": [
              "<Figure size 288x288 with 1 Axes>"
            ]
          },
          "metadata": {
            "needs_background": "light"
          },
          "output_type": "display_data"
        }
      ],
      "source": [
        "import matplotlib.pyplot as plt\n",
        "from pandas import DataFrame, to_datetime\n",
        "\n",
        "def mem_profile_plot(mem, title):\n",
        "    fig, ax = plt.subplots(1, 1, figsize=(4, 4))\n",
        "    df = DataFrame(mem, columns=[\"memory\", \"timestamp\"])\n",
        "    df[\"timestamp\"] = to_datetime(df.timestamp)\n",
        "    df[\"timestamp\"] -= df.timestamp.min()\n",
        "    df.set_index(\"timestamp\").plot(ax=ax)\n",
        "    ax.set_title(title + \"\\nmemory usage\")\n",
        "    return ax\n",
        "\n",
        "mem_profile_plot(memprof_skl, \"clr.predict\");"
      ]
    },
    {
      "cell_type": "code",
      "execution_count": 23,
      "metadata": {},
      "outputs": [
        {
          "data": {
            "image/png": "[encoded data removed]",
            "text/plain": [
              "<Figure size 288x288 with 1 Axes>"
            ]
          },
          "metadata": {
            "needs_background": "light"
          },
          "output_type": "display_data"
        }
      ],
      "source": [
        "memprof_onx = memory_usage((oinfpy.run, ({'X': X_test32}, )), timestamps=True, interval=0.01)\n",
        "mem_profile_plot(memprof_onx, \"oinfpy.run\");"
      ]
    },
    {
      "cell_type": "code",
      "execution_count": 24,
      "metadata": {},
      "outputs": [
        {
          "data": {
            "image/png": "[encoded data removed]",
            "text/plain": [
              "<Figure size 288x288 with 1 Axes>"
            ]
          },
          "metadata": {
            "needs_background": "light"
          },
          "output_type": "display_data"
        }
      ],
      "source": [
        "memprof_onx2 = memory_usage((oinfpy.run, ({'X': X_test.astype(numpy.float32, copy=False)}, )),\n",
        "                           timestamps=True, interval=0.01)\n",
        "mem_profile_plot(memprof_onx2, \"oinfpy.run + astype(numpy.float32)\");"
      ]
    },
    {
      "cell_type": "markdown",
      "metadata": {},
      "source": [
        "This is not very informative."
      ]
    },
    {
      "cell_type": "markdown",
      "metadata": {},
      "source": [
        "## Memory profiling outside the notebook\n",
        "\n",
        "More precise."
      ]
    },
    {
      "cell_type": "code",
      "execution_count": 25,
      "metadata": {},
      "outputs": [
        {
          "name": "stdout",
          "output_type": "stream",
          "text": [
            "Overwriting mprof_clr_predict.py\n"
          ]
        }
      ],
      "source": [
        "%%writefile mprof_clr_predict.py\n",
        "\n",
        "import numpy\n",
        "N, nfeat = 300000, 200\n",
        "X = numpy.random.random((N, nfeat))\n",
        "y = numpy.empty((N, 50))\n",
        "for i in range(y.shape[1]):\n",
        "    y[:, i] = X.sum(axis=1) + numpy.random.random(N)\n",
        "    \n",
        "from sklearn.model_selection import train_test_split\n",
        "X_train, X_test, y_train, y_test = train_test_split(X, y, train_size=0.1)   \n",
        "\n",
        "from sklearn.linear_model import LinearRegression\n",
        "clr = LinearRegression()\n",
        "clr.fit(X_train, y_train)\n",
        "\n",
        "from sklearn import set_config\n",
        "set_config(assume_finite=True)    \n",
        "\n",
        "from memory_profiler import profile\n",
        "@profile\n",
        "def clr_predict():\n",
        "    clr.predict(X_test)\n",
        "    \n",
        "clr_predict()"
      ]
    },
    {
      "cell_type": "code",
      "execution_count": 26,
      "metadata": {},
      "outputs": [
        {
          "name": "stdout",
          "output_type": "stream",
          "text": [
            "Filename: mprof_clr_predict.py\n",
            "\n",
            "Line #    Mem usage    Increment   Line Contents\n",
            "================================================\n",
            "    20   1234.7 MiB   1234.7 MiB   @profile\n",
            "    21                             def clr_predict():"
          ]
        }
      ],
      "source": [
        "!python -m memory_profiler mprof_clr_predict.py --timestamp"
      ]
    },
    {
      "cell_type": "markdown",
      "metadata": {},
      "source": [
        "The notebook seems to increase the memory usage."
      ]
    },
    {
      "cell_type": "code",
      "execution_count": 27,
      "metadata": {},
      "outputs": [
        {
          "name": "stdout",
          "output_type": "stream",
          "text": [
            "Overwriting mprof_onnx_run.py\n"
          ]
        }
      ],
      "source": [
        "%%writefile mprof_onnx_run.py\n",
        "\n",
        "import numpy\n",
        "N, nfeat = 300000, 200\n",
        "X = numpy.random.random((N, nfeat))\n",
        "y = numpy.empty((N, 50))\n",
        "for i in range(y.shape[1]):\n",
        "    y[:, i] = X.sum(axis=1) + numpy.random.random(N)\n",
        "    \n",
        "from sklearn.model_selection import train_test_split\n",
        "X_train, X_test, y_train, y_test = train_test_split(X, y, train_size=0.1)   \n",
        "\n",
        "from sklearn.linear_model import LinearRegression\n",
        "clr = LinearRegression()\n",
        "clr.fit(X_train, y_train)\n",
        "\n",
        "from mlprodict.onnx_conv import to_onnx\n",
        "from mlprodict.onnxrt import OnnxInference\n",
        "clr_onnx = to_onnx(clr, X_train[:1].astype(numpy.float32))\n",
        "oinfpy = OnnxInference(clr_onnx, runtime='python')\n",
        "X_test32 = X_test.astype(numpy.float32)\n",
        "\n",
        "from sklearn import set_config\n",
        "set_config(assume_finite=True)    \n",
        "\n",
        "from memory_profiler import profile\n",
        "@profile\n",
        "def oinfpy_predict():\n",
        "    oinfpy.run({'X': X_test32})\n",
        "    \n",
        "oinfpy_predict()"
      ]
    },
    {
      "cell_type": "code",
      "execution_count": 28,
      "metadata": {},
      "outputs": [
        {
          "name": "stdout",
          "output_type": "stream",
          "text": [
            "Filename: mprof_onnx_run.py\n",
            "\n",
            "Line #    Mem usage    Increment   Line Contents\n",
            "================================================\n",
            "    26   1498.8 MiB   1498.8 MiB   @profile\n",
            "    27                             def oinfpy_predict():\n",
            "    28   1500.1 MiB      1.3 MiB       oinfpy.run({'X': X_test32})\n",
            "\n",
            "\n"
          ]
        }
      ],
      "source": [
        "!python -m memory_profiler mprof_onnx_run.py --timestamp"
      ]
    },
    {
      "cell_type": "code",
      "execution_count": 29,
      "metadata": {},
      "outputs": [
        {
          "name": "stdout",
          "output_type": "stream",
          "text": [
            "Overwriting mprof_onnx_run32.py\n"
          ]
        }
      ],
      "source": [
        "%%writefile mprof_onnx_run32.py\n",
        "\n",
        "import numpy\n",
        "N, nfeat = 300000, 200\n",
        "X = numpy.random.random((N, nfeat))\n",
        "y = numpy.empty((N, 50))\n",
        "for i in range(y.shape[1]):\n",
        "    y[:, i] = X.sum(axis=1) + numpy.random.random(N)\n",
        "    \n",
        "from sklearn.model_selection import train_test_split\n",
        "X_train, X_test, y_train, y_test = train_test_split(X, y, train_size=0.1)   \n",
        "\n",
        "from sklearn.linear_model import LinearRegression\n",
        "clr = LinearRegression()\n",
        "clr.fit(X_train, y_train)\n",
        "\n",
        "from mlprodict.onnx_conv import to_onnx\n",
        "from mlprodict.onnxrt import OnnxInference\n",
        "clr_onnx = to_onnx(clr, X_train[:1].astype(numpy.float32))\n",
        "oinfpy = OnnxInference(clr_onnx, runtime='python')\n",
        "\n",
        "from sklearn import set_config\n",
        "set_config(assume_finite=True)    \n",
        "\n",
        "from memory_profiler import profile\n",
        "@profile\n",
        "def oinfpy_predict32():\n",
        "    oinfpy.run({'X': X_test.astype(numpy.float32)})\n",
        "    \n",
        "oinfpy_predict32()"
      ]
    },
    {
      "cell_type": "code",
      "execution_count": 30,
      "metadata": {},
      "outputs": [
        {
          "name": "stdout",
          "output_type": "stream",
          "text": [
            "Filename: mprof_onnx_run32.py\n",
            "\n",
            "Line #    Mem usage    Increment   Line Contents\n",
            "================================================\n",
            "    25   1293.1 MiB   1293.1 MiB   @profile\n",
            "    26                             def oinfpy_predict32():\n",
            "    27   1294.4 MiB      1.3 MiB       oinfpy.run({'X': X_test.astype(numpy.float32)})\n",
            "\n",
            "\n"
          ]
        }
      ],
      "source": [
        "!python -m memory_profiler mprof_onnx_run32.py --timestamp"
      ]
    },
    {
      "cell_type": "code",
      "execution_count": 31,
      "metadata": {},
      "outputs": [],
      "source": []
    }
  ],
  "metadata": {
    "kernelspec": {
      "display_name": "Python 3",
      "language": "python",
      "name": "python3"
    }
  },
  "nbformat": 4,
  "nbformat_minor": 2
}