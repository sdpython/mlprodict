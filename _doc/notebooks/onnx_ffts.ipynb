{
 "cells": [
  {
   "cell_type": "markdown",
   "id": "c760c855",
   "metadata": {},
   "source": [
    "# ONNX FFTs\n",
    "\n",
    "Implementation of a couple of variations of FFT (see [FFT](https://www.tensorflow.org/xla/operation_semantics#fft) in ONNX."
   ]
  },
  {
   "cell_type": "code",
   "execution_count": 1,
   "id": "ddecaddb",
   "metadata": {},
   "outputs": [
    {
     "data": {
      "text/html": [
       "<div id=\"my_id_menu_nb\">run previous cell, wait for 2 seconds</div>\n",
       "<script>\n",
       "function repeat_indent_string(n){\n",
       "    var a = \"\" ;\n",
       "    for ( ; n > 0 ; --n)\n",
       "        a += \"    \";\n",
       "    return a;\n",
       "}\n",
       "// look up into all sections and builds an automated menu //\n",
       "var update_menu_string = function(begin, lfirst, llast, sformat, send, keep_item, begin_format, end_format) {\n",
       "    var anchors = document.getElementsByClassName(\"section\");\n",
       "    if (anchors.length == 0) {\n",
       "        anchors = document.getElementsByClassName(\"text_cell_render rendered_html\");\n",
       "    }\n",
       "    var i,t;\n",
       "    var text_menu = begin;\n",
       "    var text_memo = \"<pre>\\nlength:\" + anchors.length + \"\\n\";\n",
       "    var ind = \"\";\n",
       "    var memo_level = 1;\n",
       "    var href;\n",
       "    var tags = [];\n",
       "    var main_item = 0;\n",
       "    var format_open = 0;\n",
       "    for (i = 0; i <= llast; i++)\n",
       "        tags.push(\"h\" + i);\n",
       "\n",
       "    for (i = 0; i < anchors.length; i++) {\n",
       "        text_memo += \"**\" + anchors[i].id + \"--\\n\";\n",
       "\n",
       "        var child = null;\n",
       "        for(t = 0; t < tags.length; t++) {\n",
       "            var r = anchors[i].getElementsByTagName(tags[t]);\n",
       "            if (r.length > 0) {\n",
       "child = r[0];\n",
       "break;\n",
       "            }\n",
       "        }\n",
       "        if (child == null) {\n",
       "            text_memo += \"null\\n\";\n",
       "            continue;\n",
       "        }\n",
       "        if (anchors[i].hasAttribute(\"id\")) {\n",
       "            // when converted in RST\n",
       "            href = anchors[i].id;\n",
       "            text_memo += \"#1-\" + href;\n",
       "            // passer à child suivant (le chercher)\n",
       "        }\n",
       "        else if (child.hasAttribute(\"id\")) {\n",
       "            // in a notebook\n",
       "            href = child.id;\n",
       "            text_memo += \"#2-\" + href;\n",
       "        }\n",
       "        else {\n",
       "            text_memo += \"#3-\" + \"*\" + \"\\n\";\n",
       "            continue;\n",
       "        }\n",
       "        var title = child.textContent;\n",
       "        var level = parseInt(child.tagName.substring(1,2));\n",
       "\n",
       "        text_memo += \"--\" + level + \"?\" + lfirst + \"--\" + title + \"\\n\";\n",
       "\n",
       "        if ((level < lfirst) || (level > llast)) {\n",
       "            continue ;\n",
       "        }\n",
       "        if (title.endsWith('¶')) {\n",
       "            title = title.substring(0,title.length-1).replace(\"<\", \"&lt;\")\n",
       "         .replace(\">\", \"&gt;\").replace(\"&\", \"&amp;\");\n",
       "        }\n",
       "        if (title.length == 0) {\n",
       "            continue;\n",
       "        }\n",
       "\n",
       "        while (level < memo_level) {\n",
       "            text_menu += end_format + \"</ul>\\n\";\n",
       "            format_open -= 1;\n",
       "            memo_level -= 1;\n",
       "        }\n",
       "        if (level == lfirst) {\n",
       "            main_item += 1;\n",
       "        }\n",
       "        if (keep_item != -1 && main_item != keep_item + 1) {\n",
       "            // alert(main_item + \" - \" + level + \" - \" + keep_item);\n",
       "            continue;\n",
       "        }\n",
       "        while (level > memo_level) {\n",
       "            text_menu += \"<ul>\\n\";\n",
       "            memo_level += 1;\n",
       "        }\n",
       "        text_menu += repeat_indent_string(level-2);\n",
       "        text_menu += begin_format + sformat.replace(\"__HREF__\", href).replace(\"__TITLE__\", title);\n",
       "        format_open += 1;\n",
       "    }\n",
       "    while (1 < memo_level) {\n",
       "        text_menu += end_format + \"</ul>\\n\";\n",
       "        memo_level -= 1;\n",
       "        format_open -= 1;\n",
       "    }\n",
       "    text_menu += send;\n",
       "    //text_menu += \"\\n\" + text_memo;\n",
       "\n",
       "    while (format_open > 0) {\n",
       "        text_menu += end_format;\n",
       "        format_open -= 1;\n",
       "    }\n",
       "    return text_menu;\n",
       "};\n",
       "var update_menu = function() {\n",
       "    var sbegin = \"\";\n",
       "    var sformat = '<a href=\"#__HREF__\">__TITLE__</a>';\n",
       "    var send = \"\";\n",
       "    var begin_format = '<li>';\n",
       "    var end_format = '</li>';\n",
       "    var keep_item = -1;\n",
       "    var text_menu = update_menu_string(sbegin, 2, 4, sformat, send, keep_item,\n",
       "       begin_format, end_format);\n",
       "    var menu = document.getElementById(\"my_id_menu_nb\");\n",
       "    menu.innerHTML=text_menu;\n",
       "};\n",
       "window.setTimeout(update_menu,2000);\n",
       "            </script>"
      ],
      "text/plain": [
       "<IPython.core.display.HTML object>"
      ]
     },
     "execution_count": 1,
     "metadata": {},
     "output_type": "execute_result"
    }
   ],
   "source": [
    "from jyquickhelper import add_notebook_menu\n",
    "add_notebook_menu()"
   ]
  },
  {
   "cell_type": "code",
   "execution_count": 2,
   "id": "75f2064c",
   "metadata": {},
   "outputs": [],
   "source": [
    "%load_ext mlprodict"
   ]
  },
  {
   "cell_type": "markdown",
   "id": "05a249a3",
   "metadata": {},
   "source": [
    "## Signature\n",
    "\n",
    "We try to use function [FFT](https://www.tensorflow.org/xla/operation_semantics#fft) or [torch.fft.fftn](https://pytorch.org/docs/stable/generated/torch.fft.fftn.html#torch.fft.fftn)."
   ]
  },
  {
   "cell_type": "code",
   "execution_count": 12,
   "id": "6e2fc017",
   "metadata": {},
   "outputs": [
    {
     "data": {
      "text/plain": [
       "32"
      ]
     },
     "execution_count": 12,
     "metadata": {},
     "output_type": "execute_result"
    }
   ],
   "source": [
    "import numpy\n",
    "from numpy.testing import assert_almost_equal\n",
    "\n",
    "def numpy_fft(x, fft_type, fft_length, axes):\n",
    "    \"\"\"\n",
    "    Implements FFT\n",
    "\n",
    "    :param x: input\n",
    "    :param fft_type: string (see below)\n",
    "    :param fft_length: length on each axis of axes\n",
    "    :param axes: axes\n",
    "    :return: result\n",
    "    \n",
    "    * `'FFT`': complex-to-complex FFT. Shape is unchanged.\n",
    "    * `'IFFT`': Inverse complex-to-complex FFT. Shape is unchanged.\n",
    "    * `'RFFT`': Forward real-to-complex FFT.\n",
    "      Shape of the innermost axis is reduced to fft_length[-1] // 2 + 1 if fft_length[-1]\n",
    "      is a non-zero value, omitting the reversed conjugate part of \n",
    "      the transformed signal beyond the Nyquist frequency.\n",
    "    * `'IRFFT`': Inverse real-to-complex FFT (ie takes complex, returns real).\n",
    "      Shape of the innermost axis is expanded to fft_length[-1] if fft_length[-1] \n",
    "      is a non-zero value, inferring the part of the transformed signal beyond the Nyquist\n",
    "      frequency from the reverse conjugate of the 1 to fft_length[-1] // 2 + 1 entries.\n",
    "    \"\"\"\n",
    "    if fft_type == 'FFT':\n",
    "        return numpy.fft.fftn(x, fft_length, axes=axes)\n",
    "    raise NotImplementedError(\"Not implemented for fft_type=%r.\" % fft_type)\n",
    "    \n",
    "\n",
    "def test_fct(fct1, fct2, fft_type='FFT', decimal=5):\n",
    "    dims = [[4,4,4,4],\n",
    "            [4,5,6,7]]\n",
    "    lengths_axes = [([2, 2, 2, 2], None),\n",
    "                    ([2, 3, 4, 5], None),\n",
    "                    ([2], [3]),\n",
    "                    ([3], [2])]\n",
    "    n_test = 0\n",
    "    for ndim in range(1, 5):\n",
    "        for dim in dims:\n",
    "            for length, axes in lengths_axes:\n",
    "                if axes is None:\n",
    "                    axes = range(ndim)\n",
    "                axes = [min(ndim - 1, a) for a in axes]\n",
    "                di = dim[:ndim]\n",
    "                le = length[:ndim]\n",
    "                mat = numpy.random.randn(*di).astype(numpy.float32)\n",
    "                try:\n",
    "                    v1 = fct1(mat, fft_type, le, axes=axes)\n",
    "                except Exception as e:\n",
    "                    raise AssertionError(\n",
    "                        \"Unable to run %r mat.shape=%r ndim=%r fft_type=%r le=%r \"\n",
    "                        \"axes=%r exc=%r\" %(\n",
    "                            fct1, mat.shape, ndim, fft_type, le, axes, e))\n",
    "                v2 = fct2(mat, fft_type, le, axes=axes)\n",
    "                try:\n",
    "                    assert_almost_equal(v1, v2, decimal=decimal)\n",
    "                except AssertionError as e:\n",
    "                    raise AssertionError(\n",
    "                        \"Failure mat.shape=%r, fft_type=%r, fft_length=%r\" % (\n",
    "                            mat.shape, fft_type, le)) from e\n",
    "                n_test += 1\n",
    "    return n_test\n",
    "                    \n",
    "test_fct(numpy_fft, numpy_fft)"
   ]
  },
  {
   "cell_type": "code",
   "execution_count": 14,
   "id": "9de9a43f",
   "metadata": {},
   "outputs": [
    {
     "data": {
      "text/plain": [
       "32"
      ]
     },
     "execution_count": 14,
     "metadata": {},
     "output_type": "execute_result"
    }
   ],
   "source": [
    "import torch\n",
    "\n",
    "def torch_fft(x, fft_type, fft_length, axes):\n",
    "    xt = torch.tensor(x)\n",
    "    if fft_type == 'FFT':\n",
    "        return torch.fft.fftn(xt, fft_length, axes).cpu().detach().numpy()\n",
    "    \n",
    "test_fct(numpy_fft, torch_fft)"
   ]
  },
  {
   "cell_type": "markdown",
   "id": "e55d6dbf",
   "metadata": {},
   "source": [
    "## Numpy implementation"
   ]
  },
  {
   "cell_type": "code",
   "execution_count": 21,
   "id": "aa74068d",
   "metadata": {},
   "outputs": [
    {
     "name": "stdout",
     "output_type": "stream",
     "text": [
      "-------------\n",
      "-1- 1 (4, 3) (3, 2) [0, 1]\n",
      "-2- 0 (4, 2) (4, 3) [1, 0] -- (3, 4) (2, 4)\n"
     ]
    },
    {
     "ename": "ValueError",
     "evalue": "matmul: Input operand 1 has a mismatch in its core dimension 0, with gufunc signature (n?,k),(k,m?)->(n?,m?) (size 4 is different from 2)",
     "output_type": "error",
     "traceback": [
      "\u001b[1;31m---------------------------------------------------------------------------\u001b[0m",
      "\u001b[1;31mValueError\u001b[0m                                Traceback (most recent call last)",
      "Input \u001b[1;32mIn [21]\u001b[0m, in \u001b[0;36m<module>\u001b[1;34m\u001b[0m\n\u001b[0;32m     47\u001b[0m axes \u001b[38;5;241m=\u001b[39m [\u001b[38;5;241m0\u001b[39m, \u001b[38;5;241m1\u001b[39m]\n\u001b[0;32m     48\u001b[0m rnd \u001b[38;5;241m=\u001b[39m numpy\u001b[38;5;241m.\u001b[39mrandom\u001b[38;5;241m.\u001b[39mrandn(\u001b[38;5;241m*\u001b[39mshape) \u001b[38;5;241m+\u001b[39m numpy\u001b[38;5;241m.\u001b[39mrandom\u001b[38;5;241m.\u001b[39mrandn(\u001b[38;5;241m*\u001b[39mshape) \u001b[38;5;241m*\u001b[39m img\n\u001b[1;32m---> 49\u001b[0m \u001b[43mcustom_fft\u001b[49m\u001b[43m(\u001b[49m\u001b[43mrnd\u001b[49m\u001b[43m,\u001b[49m\u001b[43m \u001b[49m\u001b[38;5;124;43m'\u001b[39;49m\u001b[38;5;124;43mFFT\u001b[39;49m\u001b[38;5;124;43m'\u001b[39;49m\u001b[43m,\u001b[49m\u001b[43m \u001b[49m\u001b[43mfft_length\u001b[49m\u001b[43m,\u001b[49m\u001b[43m \u001b[49m\u001b[43maxes\u001b[49m\u001b[43m)\u001b[49m, numpy_fft(rnd, \u001b[38;5;124m'\u001b[39m\u001b[38;5;124mFFT\u001b[39m\u001b[38;5;124m'\u001b[39m, fft_length, axes)\n",
      "Input \u001b[1;32mIn [21]\u001b[0m, in \u001b[0;36mcustom_fft\u001b[1;34m(x, fft_type, fft_length, axes)\u001b[0m\n\u001b[0;32m     26\u001b[0m         rest \u001b[38;5;241m=\u001b[39m res\u001b[38;5;241m.\u001b[39mtranspose(perm)\n\u001b[0;32m     27\u001b[0m         \u001b[38;5;28mprint\u001b[39m(\u001b[38;5;124m\"\u001b[39m\u001b[38;5;124m-2-\u001b[39m\u001b[38;5;124m\"\u001b[39m, i, res\u001b[38;5;241m.\u001b[39mshape, cst\u001b[38;5;241m.\u001b[39mshape, perm, \u001b[38;5;124m'\u001b[39m\u001b[38;5;124m--\u001b[39m\u001b[38;5;124m'\u001b[39m, cst\u001b[38;5;241m.\u001b[39mT\u001b[38;5;241m.\u001b[39mshape, rest\u001b[38;5;241m.\u001b[39mshape)\n\u001b[1;32m---> 28\u001b[0m         res \u001b[38;5;241m=\u001b[39m \u001b[43mnumpy\u001b[49m\u001b[38;5;241;43m.\u001b[39;49m\u001b[43mmatmul\u001b[49m\u001b[43m(\u001b[49m\u001b[43mres\u001b[49m\u001b[43m,\u001b[49m\u001b[43m \u001b[49m\u001b[43mcst\u001b[49m\u001b[43m)\u001b[49m\u001b[38;5;241m.\u001b[39mtranspose(perm)\n\u001b[0;32m     29\u001b[0m         perm[i], perm[\u001b[38;5;241m0\u001b[39m] \u001b[38;5;241m=\u001b[39m perm[\u001b[38;5;241m0\u001b[39m], perm[i]\n\u001b[0;32m     30\u001b[0m \u001b[38;5;28;01mreturn\u001b[39;00m res\n",
      "\u001b[1;31mValueError\u001b[0m: matmul: Input operand 1 has a mismatch in its core dimension 0, with gufunc signature (n?,k),(k,m?)->(n?,m?) (size 4 is different from 2)"
     ]
    }
   ],
   "source": [
    "import numpy\n",
    "\n",
    "def _DFT_cst(N, fft_length, dtype=numpy.float32):\n",
    "    n = numpy.arange(N).astype(dtype).reshape((-1, 1))\n",
    "    k = numpy.arange(fft_length).reshape((1, -1)).astype(dtype)\n",
    "    M = numpy.exp(-2j * numpy.pi * n * k / fft_length)\n",
    "    return M\n",
    "\n",
    "\n",
    "def custom_fft(x, fft_type, fft_length, axes):\n",
    "    if len(axes) != len(fft_length):\n",
    "        raise ValueError(\"Length mismatch axes=%r, fft_length=%r.\" % (\n",
    "           axes, fft_length))\n",
    "    if fft_type == 'FFT':\n",
    "        perm = numpy.arange(len(x.shape)).tolist()        \n",
    "        res = x\n",
    "        for i in range(len(fft_length)-1, -1, -1):\n",
    "            length = fft_length[i]\n",
    "            axis = axes[i]\n",
    "            cst = _DFT_cst(x.shape[axis], length)\n",
    "            if perm[i] == perm[-1]:\n",
    "                print(\"-1-\", i, res.shape, cst.shape, perm)\n",
    "                res = numpy.matmul(res, cst).transpose(perm)\n",
    "            else:\n",
    "                perm[i], perm[-1] = perm[-1], perm[i]            \n",
    "                rest = res.transpose(perm)\n",
    "                print(\"-2-\", i, res.shape, cst.shape, perm, '--', cst.T.shape, rest.shape)\n",
    "                res = numpy.matmul(res, cst).transpose(perm)\n",
    "                perm[i], perm[0] = perm[0], perm[i]\n",
    "        return res\n",
    "    raise ValueError(\"Unexpected value for fft_type=%r.\" % fft_type)\n",
    "\n",
    "    \n",
    "img = 1j\n",
    "shape = (4, )\n",
    "fft_length = [5,]\n",
    "axes = [0]\n",
    "rnd = numpy.random.randn(*shape) + numpy.random.randn(*shape) * img\n",
    "# custom_fft(rnd, 'FFT', fft_length, axes), numpy_fft(rnd, 'FFT', fft_length, axes)\n",
    "# assert_almost_equal(custom_fft(rnd, 'FFT', fft_length, axes),\n",
    "#                     numpy_fft(rnd, 'FFT', fft_length, axes), decimal=5)\n",
    "\n",
    "print(\"-------------\")\n",
    "img = 1j\n",
    "shape = (4, 3)\n",
    "fft_length = [3, 2]\n",
    "axes = [0, 1]\n",
    "rnd = numpy.random.randn(*shape) + numpy.random.randn(*shape) * img\n",
    "custom_fft(rnd, 'FFT', fft_length, axes), numpy_fft(rnd, 'FFT', fft_length, axes)"
   ]
  },
  {
   "cell_type": "code",
   "execution_count": null,
   "id": "5c454666",
   "metadata": {},
   "outputs": [],
   "source": []
  },
  {
   "cell_type": "code",
   "execution_count": null,
   "id": "0d0a1c85",
   "metadata": {},
   "outputs": [],
   "source": []
  },
  {
   "cell_type": "code",
   "execution_count": null,
   "id": "52f037ec",
   "metadata": {},
   "outputs": [],
   "source": []
  }
 ],
 "metadata": {
  "kernelspec": {
   "display_name": "Python 3",
   "language": "python",
   "name": "python3"
  },
  "language_info": {
   "codemirror_mode": {
    "name": "ipython",
    "version": 3
   },
   "file_extension": ".py",
   "mimetype": "text/x-python",
   "name": "python",
   "nbconvert_exporter": "python",
   "pygments_lexer": "ipython3",
   "version": "3.9.5"
  }
 },
 "nbformat": 4,
 "nbformat_minor": 5
}
