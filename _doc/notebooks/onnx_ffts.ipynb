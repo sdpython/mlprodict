{
 "cells": [
  {
   "cell_type": "markdown",
   "id": "c760c855",
   "metadata": {},
   "source": [
    "# ONNX FFTs\n",
    "\n",
    "Implementation of a couple of variations of FFT (see [FFT](https://www.tensorflow.org/xla/operation_semantics#fft) in ONNX."
   ]
  },
  {
   "cell_type": "code",
   "execution_count": 1,
   "id": "ddecaddb",
   "metadata": {},
   "outputs": [
    {
     "data": {
      "text/html": [
       "<div id=\"my_id_menu_nb\">run previous cell, wait for 2 seconds</div>\n",
       "<script>\n",
       "function repeat_indent_string(n){\n",
       "    var a = \"\" ;\n",
       "    for ( ; n > 0 ; --n)\n",
       "        a += \"    \";\n",
       "    return a;\n",
       "}\n",
       "// look up into all sections and builds an automated menu //\n",
       "var update_menu_string = function(begin, lfirst, llast, sformat, send, keep_item, begin_format, end_format) {\n",
       "    var anchors = document.getElementsByClassName(\"section\");\n",
       "    if (anchors.length == 0) {\n",
       "        anchors = document.getElementsByClassName(\"text_cell_render rendered_html\");\n",
       "    }\n",
       "    var i,t;\n",
       "    var text_menu = begin;\n",
       "    var text_memo = \"<pre>\\nlength:\" + anchors.length + \"\\n\";\n",
       "    var ind = \"\";\n",
       "    var memo_level = 1;\n",
       "    var href;\n",
       "    var tags = [];\n",
       "    var main_item = 0;\n",
       "    var format_open = 0;\n",
       "    for (i = 0; i <= llast; i++)\n",
       "        tags.push(\"h\" + i);\n",
       "\n",
       "    for (i = 0; i < anchors.length; i++) {\n",
       "        text_memo += \"**\" + anchors[i].id + \"--\\n\";\n",
       "\n",
       "        var child = null;\n",
       "        for(t = 0; t < tags.length; t++) {\n",
       "            var r = anchors[i].getElementsByTagName(tags[t]);\n",
       "            if (r.length > 0) {\n",
       "child = r[0];\n",
       "break;\n",
       "            }\n",
       "        }\n",
       "        if (child == null) {\n",
       "            text_memo += \"null\\n\";\n",
       "            continue;\n",
       "        }\n",
       "        if (anchors[i].hasAttribute(\"id\")) {\n",
       "            // when converted in RST\n",
       "            href = anchors[i].id;\n",
       "            text_memo += \"#1-\" + href;\n",
       "            // passer à child suivant (le chercher)\n",
       "        }\n",
       "        else if (child.hasAttribute(\"id\")) {\n",
       "            // in a notebook\n",
       "            href = child.id;\n",
       "            text_memo += \"#2-\" + href;\n",
       "        }\n",
       "        else {\n",
       "            text_memo += \"#3-\" + \"*\" + \"\\n\";\n",
       "            continue;\n",
       "        }\n",
       "        var title = child.textContent;\n",
       "        var level = parseInt(child.tagName.substring(1,2));\n",
       "\n",
       "        text_memo += \"--\" + level + \"?\" + lfirst + \"--\" + title + \"\\n\";\n",
       "\n",
       "        if ((level < lfirst) || (level > llast)) {\n",
       "            continue ;\n",
       "        }\n",
       "        if (title.endsWith('¶')) {\n",
       "            title = title.substring(0,title.length-1).replace(\"<\", \"&lt;\")\n",
       "         .replace(\">\", \"&gt;\").replace(\"&\", \"&amp;\");\n",
       "        }\n",
       "        if (title.length == 0) {\n",
       "            continue;\n",
       "        }\n",
       "\n",
       "        while (level < memo_level) {\n",
       "            text_menu += end_format + \"</ul>\\n\";\n",
       "            format_open -= 1;\n",
       "            memo_level -= 1;\n",
       "        }\n",
       "        if (level == lfirst) {\n",
       "            main_item += 1;\n",
       "        }\n",
       "        if (keep_item != -1 && main_item != keep_item + 1) {\n",
       "            // alert(main_item + \" - \" + level + \" - \" + keep_item);\n",
       "            continue;\n",
       "        }\n",
       "        while (level > memo_level) {\n",
       "            text_menu += \"<ul>\\n\";\n",
       "            memo_level += 1;\n",
       "        }\n",
       "        text_menu += repeat_indent_string(level-2);\n",
       "        text_menu += begin_format + sformat.replace(\"__HREF__\", href).replace(\"__TITLE__\", title);\n",
       "        format_open += 1;\n",
       "    }\n",
       "    while (1 < memo_level) {\n",
       "        text_menu += end_format + \"</ul>\\n\";\n",
       "        memo_level -= 1;\n",
       "        format_open -= 1;\n",
       "    }\n",
       "    text_menu += send;\n",
       "    //text_menu += \"\\n\" + text_memo;\n",
       "\n",
       "    while (format_open > 0) {\n",
       "        text_menu += end_format;\n",
       "        format_open -= 1;\n",
       "    }\n",
       "    return text_menu;\n",
       "};\n",
       "var update_menu = function() {\n",
       "    var sbegin = \"\";\n",
       "    var sformat = '<a href=\"#__HREF__\">__TITLE__</a>';\n",
       "    var send = \"\";\n",
       "    var begin_format = '<li>';\n",
       "    var end_format = '</li>';\n",
       "    var keep_item = -1;\n",
       "    var text_menu = update_menu_string(sbegin, 2, 4, sformat, send, keep_item,\n",
       "       begin_format, end_format);\n",
       "    var menu = document.getElementById(\"my_id_menu_nb\");\n",
       "    menu.innerHTML=text_menu;\n",
       "};\n",
       "window.setTimeout(update_menu,2000);\n",
       "            </script>"
      ],
      "text/plain": [
       "<IPython.core.display.HTML object>"
      ]
     },
     "execution_count": 1,
     "metadata": {},
     "output_type": "execute_result"
    }
   ],
   "source": [
    "from jyquickhelper import add_notebook_menu\n",
    "add_notebook_menu()"
   ]
  },
  {
   "cell_type": "code",
   "execution_count": 2,
   "id": "75f2064c",
   "metadata": {},
   "outputs": [],
   "source": [
    "%load_ext mlprodict"
   ]
  },
  {
   "cell_type": "markdown",
   "id": "05a249a3",
   "metadata": {},
   "source": [
    "## Signature\n",
    "\n",
    "We try to use function [FFT](https://www.tensorflow.org/xla/operation_semantics#fft) or [torch.fft.fftn](https://pytorch.org/docs/stable/generated/torch.fft.fftn.html#torch.fft.fftn)."
   ]
  },
  {
   "cell_type": "code",
   "execution_count": 18,
   "id": "6e2fc017",
   "metadata": {},
   "outputs": [
    {
     "data": {
      "text/plain": [
       "16"
      ]
     },
     "execution_count": 18,
     "metadata": {},
     "output_type": "execute_result"
    }
   ],
   "source": [
    "import numpy\n",
    "from numpy.testing import assert_almost_equal\n",
    "\n",
    "def numpy_fft(x, fft_type, fft_length):\n",
    "    \"\"\"\n",
    "    Implements FFT\n",
    "\n",
    "    :param x: input\n",
    "    :param fft_type: string (see below)\n",
    "    :param fft_length: length on each axis\n",
    "    :return: result\n",
    "    \n",
    "    * `'FFT`': complex-to-complex FFT. Shape is unchanged.\n",
    "    * `'IFFT`': Inverse complex-to-complex FFT. Shape is unchanged.\n",
    "    * `'RFFT`': Forward real-to-complex FFT.\n",
    "      Shape of the innermost axis is reduced to fft_length[-1] // 2 + 1 if fft_length[-1]\n",
    "      is a non-zero value, omitting the reversed conjugate part of \n",
    "      the transformed signal beyond the Nyquist frequency.\n",
    "    * `'IRFFT`': Inverse real-to-complex FFT (ie takes complex, returns real).\n",
    "      Shape of the innermost axis is expanded to fft_length[-1] if fft_length[-1] \n",
    "      is a non-zero value, inferring the part of the transformed signal beyond the Nyquist\n",
    "      frequency from the reverse conjugate of the 1 to fft_length[-1] // 2 + 1 entries.\n",
    "    \"\"\"\n",
    "    if fft_type == 'FFT':\n",
    "        return numpy.fft.fftn(x, fft_length)\n",
    "    raise NotImplementedError(\"Not implemented for fft_type=%r.\" % fft_type)\n",
    "    \n",
    "\n",
    "def test_fct(fct1, fct2, fft_type='FFT', decimal=5):\n",
    "    dims = [[4,4,4,4],\n",
    "            [4,5,6,7]]\n",
    "    lengths = [[2, 2, 2, 2],\n",
    "                [2, 3, 4, 5]]\n",
    "    n_test = 0\n",
    "    for ndim in range(1, 5):\n",
    "        for dim in dims:\n",
    "            for length in lengths:\n",
    "                di = dim[:ndim]\n",
    "                le = length[:ndim]\n",
    "                mat = numpy.random.randn(*di).astype(numpy.float32)\n",
    "                v1 = fct1(mat, fft_type, le)\n",
    "                v2 = fct2(mat, fft_type, le)\n",
    "                try:\n",
    "                    assert_almost_equal(v1, v2, decimal=decimal)\n",
    "                except AssertionError as e:\n",
    "                    raise AssertionError(\n",
    "                        \"Failure mat.shape=%r, fft_type=%r, fft_length=%r\" % (\n",
    "                            mat.shape, fft_type, le)) from e\n",
    "                n_test += 1\n",
    "    return n_test\n",
    "                    \n",
    "test_fct(numpy_fft, numpy_fft)"
   ]
  },
  {
   "cell_type": "code",
   "execution_count": 19,
   "id": "9de9a43f",
   "metadata": {},
   "outputs": [
    {
     "data": {
      "text/plain": [
       "16"
      ]
     },
     "execution_count": 19,
     "metadata": {},
     "output_type": "execute_result"
    }
   ],
   "source": [
    "import torch\n",
    "\n",
    "def torch_fft(x, fft_type, fft_length):\n",
    "    xt = torch.tensor(x)\n",
    "    if fft_type == 'FFT':\n",
    "        return torch.fft.fftn(xt, fft_length).cpu().detach().numpy()\n",
    "    \n",
    "test_fct(numpy_fft, torch_fft)"
   ]
  },
  {
   "cell_type": "markdown",
   "id": "e55d6dbf",
   "metadata": {},
   "source": [
    "## Numpy implementation"
   ]
  },
  {
   "cell_type": "code",
   "execution_count": 98,
   "id": "aa74068d",
   "metadata": {},
   "outputs": [
    {
     "name": "stdout",
     "output_type": "stream",
     "text": [
      "-------------\n",
      "- 1 (4, 3) (3, 2) [1, 0] -- (2, 3) (3, 4)\n",
      "- 0 (2, 4) (4, 3) [0, 1] -- (3, 4) (2, 4)\n"
     ]
    },
    {
     "data": {
      "text/plain": [
       "(array([[ 6.27777313+1.95827881j,  4.37018612+1.98945042j,\n",
       "         -1.25988636-0.38273674j],\n",
       "        [-0.81455859+0.29279864j, -3.58824843+3.90278785j,\n",
       "         -0.96516085-2.86931853j]]),\n",
       " array([[ 4.28430848+2.75459542j, -0.92570433+0.20936179j],\n",
       "        [ 5.57509299+0.74344773j, -0.50102344+1.77703045j],\n",
       "        [-0.60901483-0.62531727j,  1.56802951-3.99165265j]]))"
      ]
     },
     "execution_count": 98,
     "metadata": {},
     "output_type": "execute_result"
    }
   ],
   "source": [
    "import numpy\n",
    "\n",
    "def _DFT_cst(N, fft_length, dtype=numpy.float32):\n",
    "    n = numpy.arange(N).astype(dtype).reshape((-1, 1))\n",
    "    k = numpy.arange(fft_length).reshape((1, -1)).astype(dtype)\n",
    "    M = numpy.exp(-2j * numpy.pi * n * k / fft_length)\n",
    "    return M\n",
    "\n",
    "\n",
    "def custom_fft(x, fft_type, fft_length):\n",
    "    if len(x.shape) != len(fft_length):\n",
    "        raise ValueError(\"Length mismatch x.shape=%r, fft_length=%r.\" % (\n",
    "            x.shape, fft_length))\n",
    "    if fft_type == 'FFT':\n",
    "        perm = numpy.arange(len(x.shape)).tolist()\n",
    "        res = x.copy()\n",
    "        for i in range(len(shape)-1, -1, -1):\n",
    "            cst = _DFT_cst(x.shape[i], fft_length[i])\n",
    "            perm[i], perm[0] = perm[0], perm[i]\n",
    "            rest = res.transpose(perm)\n",
    "            print(\"-\", i, res.shape, cst.shape, perm, '--', cst.T.shape, rest.shape)\n",
    "            res = numpy.matmul(res, cst).transpose(perm)\n",
    "            perm[i], perm[0] = perm[0], perm[i]\n",
    "        return res\n",
    "    raise ValueError(\"Unexpected value for fft_type=%r.\" % fft_type)\n",
    "\n",
    "    \n",
    "img = 1j\n",
    "shape = (4, )\n",
    "fft_length = [5,]\n",
    "rnd = numpy.random.randn(*shape) + numpy.random.randn(*shape) * img\n",
    "# custom_fft(rnd, 'FFT', fft_length), numpy_fft(rnd, 'FFT', fft_length)\n",
    "# assert_almost_equal(custom_fft(rnd, 'FFT', fft_length), numpy_fft(rnd, 'FFT', fft_length), decimal=5)\n",
    "\n",
    "print(\"-------------\")\n",
    "img = 1j\n",
    "shape = (4, 3)\n",
    "fft_length = [3, 2]\n",
    "rnd = numpy.random.randn(*shape) + numpy.random.randn(*shape) * img\n",
    "custom_fft(rnd, 'FFT', fft_length), numpy_fft(rnd, 'FFT', fft_length)"
   ]
  },
  {
   "cell_type": "code",
   "execution_count": null,
   "id": "5c454666",
   "metadata": {},
   "outputs": [],
   "source": []
  }
 ],
 "metadata": {
  "kernelspec": {
   "display_name": "Python 3",
   "language": "python",
   "name": "python3"
  },
  "language_info": {
   "codemirror_mode": {
    "name": "ipython",
    "version": 3
   },
   "file_extension": ".py",
   "mimetype": "text/x-python",
   "name": "python",
   "nbconvert_exporter": "python",
   "pygments_lexer": "ipython3",
   "version": "3.9.5"
  }
 },
 "nbformat": 4,
 "nbformat_minor": 5
}
