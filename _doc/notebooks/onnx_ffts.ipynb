{
 "cells": [
  {
   "cell_type": "markdown",
   "id": "c760c855",
   "metadata": {},
   "source": [
    "# ONNX FFTs\n",
    "\n",
    "Implementation of a couple of variations of FFT (see [FFT](https://www.tensorflow.org/xla/operation_semantics#fft) in ONNX."
   ]
  },
  {
   "cell_type": "code",
   "execution_count": 1,
   "id": "ddecaddb",
   "metadata": {},
   "outputs": [
    {
     "data": {
      "text/html": [
       "<div id=\"my_id_menu_nb\">run previous cell, wait for 2 seconds</div>\n",
       "<script>\n",
       "function repeat_indent_string(n){\n",
       "    var a = \"\" ;\n",
       "    for ( ; n > 0 ; --n)\n",
       "        a += \"    \";\n",
       "    return a;\n",
       "}\n",
       "// look up into all sections and builds an automated menu //\n",
       "var update_menu_string = function(begin, lfirst, llast, sformat, send, keep_item, begin_format, end_format) {\n",
       "    var anchors = document.getElementsByClassName(\"section\");\n",
       "    if (anchors.length == 0) {\n",
       "        anchors = document.getElementsByClassName(\"text_cell_render rendered_html\");\n",
       "    }\n",
       "    var i,t;\n",
       "    var text_menu = begin;\n",
       "    var text_memo = \"<pre>\\nlength:\" + anchors.length + \"\\n\";\n",
       "    var ind = \"\";\n",
       "    var memo_level = 1;\n",
       "    var href;\n",
       "    var tags = [];\n",
       "    var main_item = 0;\n",
       "    var format_open = 0;\n",
       "    for (i = 0; i <= llast; i++)\n",
       "        tags.push(\"h\" + i);\n",
       "\n",
       "    for (i = 0; i < anchors.length; i++) {\n",
       "        text_memo += \"**\" + anchors[i].id + \"--\\n\";\n",
       "\n",
       "        var child = null;\n",
       "        for(t = 0; t < tags.length; t++) {\n",
       "            var r = anchors[i].getElementsByTagName(tags[t]);\n",
       "            if (r.length > 0) {\n",
       "child = r[0];\n",
       "break;\n",
       "            }\n",
       "        }\n",
       "        if (child == null) {\n",
       "            text_memo += \"null\\n\";\n",
       "            continue;\n",
       "        }\n",
       "        if (anchors[i].hasAttribute(\"id\")) {\n",
       "            // when converted in RST\n",
       "            href = anchors[i].id;\n",
       "            text_memo += \"#1-\" + href;\n",
       "            // passer à child suivant (le chercher)\n",
       "        }\n",
       "        else if (child.hasAttribute(\"id\")) {\n",
       "            // in a notebook\n",
       "            href = child.id;\n",
       "            text_memo += \"#2-\" + href;\n",
       "        }\n",
       "        else {\n",
       "            text_memo += \"#3-\" + \"*\" + \"\\n\";\n",
       "            continue;\n",
       "        }\n",
       "        var title = child.textContent;\n",
       "        var level = parseInt(child.tagName.substring(1,2));\n",
       "\n",
       "        text_memo += \"--\" + level + \"?\" + lfirst + \"--\" + title + \"\\n\";\n",
       "\n",
       "        if ((level < lfirst) || (level > llast)) {\n",
       "            continue ;\n",
       "        }\n",
       "        if (title.endsWith('¶')) {\n",
       "            title = title.substring(0,title.length-1).replace(\"<\", \"&lt;\")\n",
       "         .replace(\">\", \"&gt;\").replace(\"&\", \"&amp;\");\n",
       "        }\n",
       "        if (title.length == 0) {\n",
       "            continue;\n",
       "        }\n",
       "\n",
       "        while (level < memo_level) {\n",
       "            text_menu += end_format + \"</ul>\\n\";\n",
       "            format_open -= 1;\n",
       "            memo_level -= 1;\n",
       "        }\n",
       "        if (level == lfirst) {\n",
       "            main_item += 1;\n",
       "        }\n",
       "        if (keep_item != -1 && main_item != keep_item + 1) {\n",
       "            // alert(main_item + \" - \" + level + \" - \" + keep_item);\n",
       "            continue;\n",
       "        }\n",
       "        while (level > memo_level) {\n",
       "            text_menu += \"<ul>\\n\";\n",
       "            memo_level += 1;\n",
       "        }\n",
       "        text_menu += repeat_indent_string(level-2);\n",
       "        text_menu += begin_format + sformat.replace(\"__HREF__\", href).replace(\"__TITLE__\", title);\n",
       "        format_open += 1;\n",
       "    }\n",
       "    while (1 < memo_level) {\n",
       "        text_menu += end_format + \"</ul>\\n\";\n",
       "        memo_level -= 1;\n",
       "        format_open -= 1;\n",
       "    }\n",
       "    text_menu += send;\n",
       "    //text_menu += \"\\n\" + text_memo;\n",
       "\n",
       "    while (format_open > 0) {\n",
       "        text_menu += end_format;\n",
       "        format_open -= 1;\n",
       "    }\n",
       "    return text_menu;\n",
       "};\n",
       "var update_menu = function() {\n",
       "    var sbegin = \"\";\n",
       "    var sformat = '<a href=\"#__HREF__\">__TITLE__</a>';\n",
       "    var send = \"\";\n",
       "    var begin_format = '<li>';\n",
       "    var end_format = '</li>';\n",
       "    var keep_item = -1;\n",
       "    var text_menu = update_menu_string(sbegin, 2, 4, sformat, send, keep_item,\n",
       "       begin_format, end_format);\n",
       "    var menu = document.getElementById(\"my_id_menu_nb\");\n",
       "    menu.innerHTML=text_menu;\n",
       "};\n",
       "window.setTimeout(update_menu,2000);\n",
       "            </script>"
      ],
      "text/plain": [
       "<IPython.core.display.HTML object>"
      ]
     },
     "execution_count": 1,
     "metadata": {},
     "output_type": "execute_result"
    }
   ],
   "source": [
    "from jyquickhelper import add_notebook_menu\n",
    "add_notebook_menu()"
   ]
  },
  {
   "cell_type": "code",
   "execution_count": 2,
   "id": "6f17f4f5",
   "metadata": {},
   "outputs": [],
   "source": [
    "%matplotlib inline"
   ]
  },
  {
   "cell_type": "code",
   "execution_count": 3,
   "id": "75f2064c",
   "metadata": {},
   "outputs": [],
   "source": [
    "%load_ext mlprodict"
   ]
  },
  {
   "cell_type": "markdown",
   "id": "05a249a3",
   "metadata": {},
   "source": [
    "## Signature\n",
    "\n",
    "We try to use function [FFT](https://www.tensorflow.org/xla/operation_semantics#fft) or [torch.fft.fftn](https://pytorch.org/docs/stable/generated/torch.fft.fftn.html#torch.fft.fftn)."
   ]
  },
  {
   "cell_type": "code",
   "execution_count": 4,
   "id": "6e2fc017",
   "metadata": {},
   "outputs": [
    {
     "data": {
      "text/plain": [
       "40"
      ]
     },
     "execution_count": 4,
     "metadata": {},
     "output_type": "execute_result"
    }
   ],
   "source": [
    "import numpy\n",
    "from numpy.testing import assert_almost_equal\n",
    "\n",
    "def numpy_fftn(x, fft_type, fft_length, axes):\n",
    "    \"\"\"\n",
    "    Implements FFT\n",
    "\n",
    "    :param x: input\n",
    "    :param fft_type: string (see below)\n",
    "    :param fft_length: length on each axis of axes\n",
    "    :param axes: axes\n",
    "    :return: result\n",
    "    \n",
    "    * `'FFT`': complex-to-complex FFT. Shape is unchanged.\n",
    "    * `'IFFT`': Inverse complex-to-complex FFT. Shape is unchanged.\n",
    "    * `'RFFT`': Forward real-to-complex FFT.\n",
    "      Shape of the innermost axis is reduced to fft_length[-1] // 2 + 1 if fft_length[-1]\n",
    "      is a non-zero value, omitting the reversed conjugate part of \n",
    "      the transformed signal beyond the Nyquist frequency.\n",
    "    * `'IRFFT`': Inverse real-to-complex FFT (ie takes complex, returns real).\n",
    "      Shape of the innermost axis is expanded to fft_length[-1] if fft_length[-1] \n",
    "      is a non-zero value, inferring the part of the transformed signal beyond the Nyquist\n",
    "      frequency from the reverse conjugate of the 1 to fft_length[-1] // 2 + 1 entries.\n",
    "    \"\"\"\n",
    "    if fft_type == 'FFT':\n",
    "        return numpy.fft.fftn(x, fft_length, axes=axes)\n",
    "    raise NotImplementedError(\"Not implemented for fft_type=%r.\" % fft_type)\n",
    "    \n",
    "\n",
    "def test_fct(fct1, fct2, fft_type='FFT', decimal=5):\n",
    "    dims = [[4,4,4,4],\n",
    "            [4,5,6,7]]\n",
    "    lengths_axes = [([2, 2, 2, 2], None),\n",
    "                    ([2, 6, 7, 2], None),\n",
    "                    ([2, 3, 4, 5], None),\n",
    "                    ([2], [3]),\n",
    "                    ([3], [2])]\n",
    "    n_test = 0\n",
    "    for ndim in range(1, 5):\n",
    "        for dim in dims:\n",
    "            for length, axes in lengths_axes:\n",
    "                if axes is None:\n",
    "                    axes = range(ndim)\n",
    "                axes = [min(ndim - 1, a) for a in axes]\n",
    "                di = dim[:ndim]\n",
    "                le = length[:ndim]\n",
    "                mat = numpy.random.randn(*di).astype(numpy.float32)\n",
    "                try:\n",
    "                    v1 = fct1(mat, fft_type, le, axes=axes)\n",
    "                except Exception as e:\n",
    "                    raise AssertionError(\n",
    "                        \"Unable to run %r mat.shape=%r ndim=%r fft_type=%r le=%r \"\n",
    "                        \"axes=%r exc=%r\" %(\n",
    "                            fct1, mat.shape, ndim, fft_type, le, axes, e))\n",
    "                v2 = fct2(mat, fft_type, le, axes=axes)\n",
    "                try:\n",
    "                    assert_almost_equal(v1, v2, decimal=decimal)\n",
    "                except AssertionError as e:\n",
    "                    raise AssertionError(\n",
    "                        \"Failure mat.shape=%r, fft_type=%r, fft_length=%r\" % (\n",
    "                            mat.shape, fft_type, le)) from e\n",
    "                n_test += 1\n",
    "    return n_test\n",
    "                    \n",
    "test_fct(numpy_fftn, numpy_fftn)"
   ]
  },
  {
   "cell_type": "code",
   "execution_count": 5,
   "id": "9de9a43f",
   "metadata": {},
   "outputs": [
    {
     "data": {
      "text/plain": [
       "40"
      ]
     },
     "execution_count": 5,
     "metadata": {},
     "output_type": "execute_result"
    }
   ],
   "source": [
    "import torch\n",
    "\n",
    "def torch_fftn(x, fft_type, fft_length, axes):\n",
    "    xt = torch.tensor(x)\n",
    "    if fft_type == 'FFT':\n",
    "        return torch.fft.fftn(xt, fft_length, axes).cpu().detach().numpy()\n",
    "    \n",
    "test_fct(numpy_fftn, torch_fftn)"
   ]
  },
  {
   "cell_type": "markdown",
   "id": "e55d6dbf",
   "metadata": {},
   "source": [
    "## Numpy implementation"
   ]
  },
  {
   "cell_type": "code",
   "execution_count": 6,
   "id": "aa74068d",
   "metadata": {},
   "outputs": [],
   "source": [
    "import numpy\n",
    "\n",
    "\n",
    "def _dft_cst(N, fft_length, dtype):\n",
    "    def _arange(dim, dtype, resh):\n",
    "        return numpy.arange(dim).astype(dtype).reshape(resh)\n",
    "\n",
    "    def _prod(n, k):\n",
    "        return (-2j * numpy.pi * k / fft_length) * n\n",
    "\n",
    "    def _exp(m):\n",
    "        return numpy.exp(m)\n",
    "    \n",
    "    n = _arange(N, dtype, (-1, 1))\n",
    "    k = _arange(fft_length, dtype, (1, -1))\n",
    "    M = _exp(_prod(n, k))\n",
    "    return M\n",
    "\n",
    "\n",
    "def custom_fft(x, fft_type, length, axis, dft_fct=None):\n",
    "    # https://github.com/numpy/numpy/blob/4adc87dff15a247e417d50f10cc4def8e1c17a03/numpy/fft/_pocketfft.py#L56\n",
    "    if dft_fct is None:\n",
    "        dft_fct = _dft_cst\n",
    "    if fft_type == 'FFT':\n",
    "        if x.shape[axis] > length:\n",
    "            # fft_length > shape on the same axis\n",
    "            # the matrix is shortened\n",
    "            slices = [slice(None)] * len(x.shape)\n",
    "            slices[axis] = slice(0, length)\n",
    "            new_x = x[tuple(slices)]\n",
    "        elif x.shape[axis] == length:\n",
    "            new_x = x\n",
    "        else:\n",
    "            # other, the matrix is completed with zeros\n",
    "            shape = list(x.shape)\n",
    "            shape[axis] = length\n",
    "            slices = [slice(None)] * len(x.shape)\n",
    "            slices[axis] = slice(0, length)\n",
    "            zeros = numpy.zeros(tuple(shape), dtype=x.dtype)\n",
    "            index = [slice(0, i) for i in x.shape]\n",
    "            zeros[tuple(index)] = x\n",
    "            new_x = zeros\n",
    "\n",
    "        cst = dft_fct(new_x.shape[axis], length, x.dtype)\n",
    "        perm = numpy.arange(len(x.shape)).tolist()        \n",
    "        if perm[axis] == perm[-1]:\n",
    "            res = numpy.matmul(new_x, cst).transpose(perm)\n",
    "        else:\n",
    "            perm[axis], perm[-1] = perm[-1], perm[axis]            \n",
    "            rest = new_x.transpose(perm)\n",
    "            res = numpy.matmul(rest, cst).transpose(perm)\n",
    "            perm[axis], perm[0] = perm[0], perm[axis]\n",
    "        return res\n",
    "    raise ValueError(\"Unexpected value for fft_type=%r.\" % fft_type)\n",
    "\n",
    "\n",
    "def custom_fftn(x, fft_type, fft_length, axes, dft_fct=None):\n",
    "    if len(axes) != len(fft_length):\n",
    "        raise ValueError(\"Length mismatch axes=%r, fft_length=%r.\" % (\n",
    "           axes, fft_length))\n",
    "    if fft_type == 'FFT':\n",
    "        res = x\n",
    "        for i in range(len(fft_length) - 1, -1, -1):\n",
    "            length = fft_length[i]\n",
    "            axis = axes[i]\n",
    "            res = custom_fft(res, fft_type, length, axis, dft_fct=dft_fct)\n",
    "        return res\n",
    "    raise ValueError(\"Unexpected value for fft_type=%r.\" % fft_type)\n",
    "\n",
    "    \n",
    "img = 1j\n",
    "shape = (4, )\n",
    "fft_length = [5,]\n",
    "axes = [0]\n",
    "rnd = numpy.random.randn(*shape) + numpy.random.randn(*shape) * img\n",
    "custom_fftn(rnd, 'FFT', fft_length, axes), numpy_fftn(rnd, 'FFT', fft_length, axes)\n",
    "assert_almost_equal(custom_fftn(rnd, 'FFT', fft_length, axes),\n",
    "                    numpy_fftn(rnd, 'FFT', fft_length, axes), decimal=5)\n",
    "\n",
    "img = 1j\n",
    "shape = (4, 3)\n",
    "fft_length = [3, 2]\n",
    "axes = [0, 1]\n",
    "rnd = numpy.random.randn(*shape) + numpy.random.randn(*shape) * img\n",
    "custom_fftn(rnd, 'FFT', fft_length, axes), numpy_fftn(rnd, 'FFT', fft_length, axes)\n",
    "assert_almost_equal(custom_fftn(rnd, 'FFT', fft_length, axes),\n",
    "                    numpy_fftn(rnd, 'FFT', fft_length, axes), decimal=5)"
   ]
  },
  {
   "cell_type": "code",
   "execution_count": 7,
   "id": "5c454666",
   "metadata": {},
   "outputs": [
    {
     "data": {
      "text/plain": [
       "40"
      ]
     },
     "execution_count": 7,
     "metadata": {},
     "output_type": "execute_result"
    }
   ],
   "source": [
    "test_fct(numpy_fftn, custom_fftn, decimal=4)"
   ]
  },
  {
   "cell_type": "markdown",
   "id": "f27bd70d",
   "metadata": {},
   "source": [
    "## Benchmark"
   ]
  },
  {
   "cell_type": "code",
   "execution_count": 8,
   "id": "507d8348",
   "metadata": {},
   "outputs": [
    {
     "name": "stderr",
     "output_type": "stream",
     "text": [
      "100%|██████████| 22/22 [00:02<00:00,  9.98it/s]\n"
     ]
    },
    {
     "data": {
      "text/html": [
       "<div>\n",
       "<style scoped>\n",
       "    .dataframe tbody tr th:only-of-type {\n",
       "        vertical-align: middle;\n",
       "    }\n",
       "\n",
       "    .dataframe tbody tr th {\n",
       "        vertical-align: top;\n",
       "    }\n",
       "\n",
       "    .dataframe thead th {\n",
       "        text-align: right;\n",
       "    }\n",
       "</style>\n",
       "<table border=\"1\" class=\"dataframe\">\n",
       "  <thead>\n",
       "    <tr style=\"text-align: right;\">\n",
       "      <th>name</th>\n",
       "      <th>custom_fftn</th>\n",
       "      <th>numpy_fftn</th>\n",
       "      <th>torch_fftn</th>\n",
       "    </tr>\n",
       "    <tr>\n",
       "      <th>length</th>\n",
       "      <th></th>\n",
       "      <th></th>\n",
       "      <th></th>\n",
       "    </tr>\n",
       "  </thead>\n",
       "  <tbody>\n",
       "    <tr>\n",
       "      <th>8</th>\n",
       "      <td>0.000456</td>\n",
       "      <td>0.000108</td>\n",
       "      <td>0.000558</td>\n",
       "    </tr>\n",
       "    <tr>\n",
       "      <th>16</th>\n",
       "      <td>0.000438</td>\n",
       "      <td>0.000090</td>\n",
       "      <td>0.000416</td>\n",
       "    </tr>\n",
       "    <tr>\n",
       "      <th>24</th>\n",
       "      <td>0.001177</td>\n",
       "      <td>0.000098</td>\n",
       "      <td>0.000783</td>\n",
       "    </tr>\n",
       "    <tr>\n",
       "      <th>32</th>\n",
       "      <td>0.001211</td>\n",
       "      <td>0.000098</td>\n",
       "      <td>0.000367</td>\n",
       "    </tr>\n",
       "    <tr>\n",
       "      <th>40</th>\n",
       "      <td>0.001423</td>\n",
       "      <td>0.000103</td>\n",
       "      <td>0.000360</td>\n",
       "    </tr>\n",
       "  </tbody>\n",
       "</table>\n",
       "</div>"
      ],
      "text/plain": [
       "name    custom_fftn  numpy_fftn  torch_fftn\n",
       "length                                     \n",
       "8          0.000456    0.000108    0.000558\n",
       "16         0.000438    0.000090    0.000416\n",
       "24         0.001177    0.000098    0.000783\n",
       "32         0.001211    0.000098    0.000367\n",
       "40         0.001423    0.000103    0.000360"
      ]
     },
     "execution_count": 8,
     "metadata": {},
     "output_type": "execute_result"
    }
   ],
   "source": [
    "from cpyquickhelper.numbers.speed_measure import measure_time\n",
    "from tqdm import tqdm\n",
    "from pandas import DataFrame\n",
    "\n",
    "def benchmark(fcts):\n",
    "    shape = [4, 90]\n",
    "    axes = [1]\n",
    "    rnd = numpy.random.randn(*shape) + numpy.random.randn(*shape) * img\n",
    "\n",
    "    data = []\n",
    "    for length in tqdm(range(8, 180, 8)):\n",
    "        fft_length = [length]\n",
    "        for name, fct in fcts.items():\n",
    "            obs = measure_time(lambda: fct(rnd, 'FFT', fft_length, axes),\n",
    "                               repeat=10, number=10)\n",
    "            obs['name'] = name\n",
    "            obs['length'] = length\n",
    "            data.append(obs)\n",
    "\n",
    "    df = DataFrame(data)\n",
    "    return df\n",
    "\n",
    "\n",
    "df = benchmark({'numpy_fftn': numpy_fftn, 'custom_fftn': custom_fftn, 'torch_fftn': torch_fftn})\n",
    "piv = df.pivot(\"length\", \"name\", \"average\")\n",
    "piv[:5]"
   ]
  },
  {
   "cell_type": "code",
   "execution_count": 9,
   "id": "6f201494",
   "metadata": {},
   "outputs": [
    {
     "data": {
      "image/png": "[encoded data removed]",
      "text/plain": [
       "<Figure size 864x288 with 1 Axes>"
      ]
     },
     "metadata": {
      "needs_background": "light"
     },
     "output_type": "display_data"
    }
   ],
   "source": [
    "piv.plot(logy=True, logx=True, title=\"FFT benchmark\", figsize=(12, 4));"
   ]
  },
  {
   "cell_type": "markdown",
   "id": "616099d8",
   "metadata": {},
   "source": [
    "## Profiling"
   ]
  },
  {
   "cell_type": "code",
   "execution_count": 10,
   "id": "531658bb",
   "metadata": {},
   "outputs": [
    {
     "name": "stdout",
     "output_type": "stream",
     "text": [
      "f                                        --    1    1 -- 0.00010 0.13640 -- <ipython-input-10-0b9ed5a82854>:7:f (f)\n",
      "    custom_fftn                          --  100  100 -- 0.00041 0.13630 -- <ipython-input-6-36fd258b5be1>:57:custom_fftn (custom_fftn)\n",
      "        custom_fft                       --  100  100 -- 0.00477 0.13585 -- <ipython-input-6-36fd258b5be1>:20:custom_fft (custom_fft)\n",
      "            _dft_cst                     --  100  100 -- 0.00034 0.13043 -- <ipython-input-6-36fd258b5be1>:4:_dft_cst (_dft_cst)\n",
      "                _arange                  --  200  200 -- 0.00024 0.00096 -- <ipython-input-6-36fd258b5be1>:5:_arange (_arange)\n",
      "                    <method '...objects> --  200  200 -- 0.00027 0.00027 -- ~:0:<method 'astype' of 'numpy.ndarray' objects> (<method 'astype' of 'numpy.ndarray' objects>)\n",
      "                    <method '...objects> --  200  200 -- 0.00016 0.00016 -- ~:0:<method 'reshape' of 'numpy.ndarray' objects> (<method 'reshape' of 'numpy.ndarray' objects>)\n",
      "                    <built-in....arange> --  200  200 -- 0.00029 0.00029 -- ~:0:<built-in method numpy.arange> (<built-in method numpy.arange>) +++\n",
      "                _prod                    --  100  100 -- 0.01095 0.01095 -- <ipython-input-6-36fd258b5be1>:8:_prod (_prod)\n",
      "                _exp                     --  100  100 -- 0.11818 0.11818 -- <ipython-input-6-36fd258b5be1>:11:_exp (_exp)\n",
      "            <listcomp>                   --  100  100 -- 0.00008 0.00008 -- <ipython-input-6-36fd258b5be1>:40:<listcomp> (<listcomp>)\n",
      "            <method 'toli...ay' objects> --  100  100 -- 0.00006 0.00006 -- ~:0:<method 'tolist' of 'numpy.ndarray' objects> (<method 'tolist' of 'numpy.ndarray' objects>)\n",
      "            <method 'tran...ay' objects> --  100  100 -- 0.00009 0.00009 -- ~:0:<method 'transpose' of 'numpy.ndarray' objects> (<method 'transpose' of 'numpy.ndarray' objects>)\n",
      "            <built-in met...umpy.arange> --  100  100 -- 0.00022 0.00022 -- ~:0:<built-in method numpy.arange> (<built-in method numpy.arange>) +++\n",
      "            <built-in met...numpy.zeros> --  100  100 -- 0.00016 0.00016 -- ~:0:<built-in method numpy.zeros> (<built-in method numpy.zeros>)\n",
      "            <built-in met...uiltins.len> --  200  200 -- 0.00004 0.00004 -- ~:0:<built-in method builtins.len> (<built-in method builtins.len>) +++\n",
      "        <built-in method builtins.len>   --  300  300 -- 0.00004 0.00004 -- ~:0:<built-in method builtins.len> (<built-in method builtins.len>) +++\n",
      "<built-in method builtins.len>           --  500  500 -- 0.00008 0.00008 -- ~:0:<built-in method builtins.len> (<built-in method builtins.len>)\n",
      "<built-in method numpy.arange>           --  300  300 -- 0.00051 0.00051 -- ~:0:<built-in method numpy.arange> (<built-in method numpy.arange>)\n"
     ]
    }
   ],
   "source": [
    "from pyquickhelper.pycode.profiling import profile2graph, profile\n",
    "\n",
    "shape = [4, 131]\n",
    "fft_length = [128]\n",
    "axes = [1]\n",
    "\n",
    "def f():\n",
    "    for i in range(100):\n",
    "        custom_fftn(rnd, 'FFT', fft_length, axes)\n",
    "\n",
    "stat, text = profile(f)\n",
    "gr = profile2graph(stat)\n",
    "print(gr[0].to_text(fct_width=40))"
   ]
  },
  {
   "cell_type": "markdown",
   "id": "7690454d",
   "metadata": {},
   "source": [
    "We can see that function `_dft_cst` is the bottle neck and more precisely the exponential. We need to use the symmetries of the matrix it builds."
   ]
  },
  {
   "cell_type": "markdown",
   "id": "4e250ff9",
   "metadata": {},
   "source": [
    "## Faster _dft_cst\n",
    "\n",
    "The function builds the matrix $M_{nk} = \\left( \\exp\\left(\\frac{-2i\\pi nk}{K}\\right) \\right)_{nk}$ where $1 \\leqslant n \\leqslant N$ and $1 \\leqslant k \\leqslant K$. So it computes powers of the unity roots.\n",
    "\n",
    "$$\n",
    "\\exp\\left(\\frac{-2i\\pi nk}{K}\\right) = \\exp\\left(\\frac{-2i\\pi k}{K}\\right)^n = \\exp\\left(\\frac{-2i\\pi}{K}\\right)^{nk}\n",
    "$$\n",
    "\n",
    "We use that expression to reduce the number of exponentiels to compute."
   ]
  },
  {
   "cell_type": "code",
   "execution_count": 11,
   "id": "8b60fd16",
   "metadata": {},
   "outputs": [
    {
     "data": {
      "text/plain": [
       "((3, 4), dtype('complex64'))"
      ]
     },
     "execution_count": 11,
     "metadata": {},
     "output_type": "execute_result"
    }
   ],
   "source": [
    "import numpy\n",
    "from numpy.testing import assert_almost_equal\n",
    "\n",
    "def _dft_cst(N, fft_length, dtype=numpy.float32):\n",
    "    def _arange(dim, dtype, resh):\n",
    "        return numpy.arange(dim).astype(dtype).reshape(resh)\n",
    "\n",
    "    n = _arange(N, dtype, (-1, 1))\n",
    "    k = _arange(fft_length, dtype, (1, -1))\n",
    "    M = (-2j * numpy.pi * k / fft_length) * n\n",
    "    numpy.exp(M, out=M)\n",
    "    return M\n",
    "\n",
    "\n",
    "M = _dft_cst(3, 4, numpy.float32)\n",
    "M.shape, M.dtype"
   ]
  },
  {
   "cell_type": "code",
   "execution_count": 12,
   "id": "0600a293",
   "metadata": {},
   "outputs": [
    {
     "data": {
      "text/plain": [
       "((4, 3), dtype('complex128'))"
      ]
     },
     "execution_count": 12,
     "metadata": {},
     "output_type": "execute_result"
    }
   ],
   "source": [
    "M = _dft_cst(4, 3, numpy.float64)\n",
    "M.shape, M.dtype"
   ]
  },
  {
   "cell_type": "code",
   "execution_count": 13,
   "id": "38d760e2",
   "metadata": {},
   "outputs": [
    {
     "data": {
      "text/plain": [
       "array([[ 1. +0.00000000e+00j,  1. +0.00000000e+00j,  1. +0.00000000e+00j],\n",
       "       [ 1. +0.00000000e+00j, -0.5-8.66025404e-01j, -0.5+8.66025404e-01j],\n",
       "       [ 1. +0.00000000e+00j, -0.5+8.66025404e-01j, -0.5-8.66025404e-01j],\n",
       "       [ 1. +0.00000000e+00j,  1. +2.44929360e-16j,  1. +4.89858720e-16j]])"
      ]
     },
     "execution_count": 13,
     "metadata": {},
     "output_type": "execute_result"
    }
   ],
   "source": [
    "M"
   ]
  },
  {
   "cell_type": "code",
   "execution_count": 14,
   "id": "30466d1b",
   "metadata": {},
   "outputs": [
    {
     "data": {
      "text/plain": [
       "array([[ 1. +0.00000000e+00j,  1. +0.00000000e+00j,  1. +0.00000000e+00j],\n",
       "       [ 1. +0.00000000e+00j, -0.5-8.66025404e-01j, -0.5+8.66025404e-01j],\n",
       "       [ 1. +0.00000000e+00j, -0.5+8.66025404e-01j, -0.5-8.66025404e-01j],\n",
       "       [ 1. +0.00000000e+00j,  1. +6.10622664e-16j,  1. +1.22124533e-15j]])"
      ]
     },
     "execution_count": 14,
     "metadata": {},
     "output_type": "execute_result"
    }
   ],
   "source": [
    "def _dft_cst_power(N, fft_length, dtype=numpy.float32):\n",
    "    if dtype == numpy.float32:\n",
    "        ctype = numpy.complex64\n",
    "    else:\n",
    "        ctype = numpy.complex128\n",
    "    M = numpy.empty((N, fft_length), dtype=ctype)\n",
    "    M[0, :] = 1\n",
    "    M[1, 0] = 1\n",
    "    root = numpy.exp(numpy.pi / fft_length * (-2j))\n",
    "    current = root\n",
    "    M[1, 1] = root\n",
    "    for i in range(2, M.shape[1]):\n",
    "        current *= root\n",
    "        M[1, i] = current\n",
    "    for i in range(2, M.shape[0]):\n",
    "        numpy.multiply(M[i-1, :], M[1, :], out=M[i, :])\n",
    "    return M\n",
    "\n",
    "M_pow = _dft_cst_power(4, 3, numpy.float64)\n",
    "M_pow"
   ]
  },
  {
   "cell_type": "code",
   "execution_count": 15,
   "id": "965651d7",
   "metadata": {},
   "outputs": [],
   "source": [
    "assert_almost_equal(M, M_pow)"
   ]
  },
  {
   "cell_type": "code",
   "execution_count": 16,
   "id": "a7194b92",
   "metadata": {},
   "outputs": [],
   "source": [
    "dims = (10, 15)\n",
    "assert_almost_equal(_dft_cst(*dims, dtype=numpy.float32), \n",
    "                    _dft_cst_power(*dims, dtype=numpy.float32),\n",
    "                    decimal=5)"
   ]
  },
  {
   "cell_type": "markdown",
   "id": "36b1a3d7",
   "metadata": {},
   "source": [
    "## Benchmark again"
   ]
  },
  {
   "cell_type": "code",
   "execution_count": 17,
   "id": "40a61cb1",
   "metadata": {},
   "outputs": [
    {
     "data": {
      "text/plain": [
       "40"
      ]
     },
     "execution_count": 17,
     "metadata": {},
     "output_type": "execute_result"
    }
   ],
   "source": [
    "def custom_fftn_power(*args, **kwargs):\n",
    "    return custom_fftn(*args, dft_fct=_dft_cst_power, **kwargs)\n",
    "\n",
    "\n",
    "test_fct(numpy_fftn, custom_fftn_power, decimal=4)"
   ]
  },
  {
   "cell_type": "code",
   "execution_count": 18,
   "id": "3a2707eb",
   "metadata": {},
   "outputs": [
    {
     "name": "stderr",
     "output_type": "stream",
     "text": [
      "100%|██████████| 22/22 [00:02<00:00,  8.38it/s]\n"
     ]
    },
    {
     "data": {
      "text/html": [
       "<div>\n",
       "<style scoped>\n",
       "    .dataframe tbody tr th:only-of-type {\n",
       "        vertical-align: middle;\n",
       "    }\n",
       "\n",
       "    .dataframe tbody tr th {\n",
       "        vertical-align: top;\n",
       "    }\n",
       "\n",
       "    .dataframe thead th {\n",
       "        text-align: right;\n",
       "    }\n",
       "</style>\n",
       "<table border=\"1\" class=\"dataframe\">\n",
       "  <thead>\n",
       "    <tr style=\"text-align: right;\">\n",
       "      <th>name</th>\n",
       "      <th>custom_fftn</th>\n",
       "      <th>custom_fftn_power</th>\n",
       "      <th>numpy_fftn</th>\n",
       "      <th>torch_fftn</th>\n",
       "    </tr>\n",
       "    <tr>\n",
       "      <th>length</th>\n",
       "      <th></th>\n",
       "      <th></th>\n",
       "      <th></th>\n",
       "      <th></th>\n",
       "    </tr>\n",
       "  </thead>\n",
       "  <tbody>\n",
       "    <tr>\n",
       "      <th>8</th>\n",
       "      <td>0.000652</td>\n",
       "      <td>0.000771</td>\n",
       "      <td>0.000186</td>\n",
       "      <td>0.000529</td>\n",
       "    </tr>\n",
       "    <tr>\n",
       "      <th>16</th>\n",
       "      <td>0.000546</td>\n",
       "      <td>0.001110</td>\n",
       "      <td>0.000347</td>\n",
       "      <td>0.000791</td>\n",
       "    </tr>\n",
       "    <tr>\n",
       "      <th>24</th>\n",
       "      <td>0.001045</td>\n",
       "      <td>0.000633</td>\n",
       "      <td>0.000243</td>\n",
       "      <td>0.000636</td>\n",
       "    </tr>\n",
       "    <tr>\n",
       "      <th>32</th>\n",
       "      <td>0.001008</td>\n",
       "      <td>0.000687</td>\n",
       "      <td>0.000129</td>\n",
       "      <td>0.000348</td>\n",
       "    </tr>\n",
       "    <tr>\n",
       "      <th>40</th>\n",
       "      <td>0.001459</td>\n",
       "      <td>0.000868</td>\n",
       "      <td>0.000132</td>\n",
       "      <td>0.000338</td>\n",
       "    </tr>\n",
       "  </tbody>\n",
       "</table>\n",
       "</div>"
      ],
      "text/plain": [
       "name    custom_fftn  custom_fftn_power  numpy_fftn  torch_fftn\n",
       "length                                                        \n",
       "8          0.000652           0.000771    0.000186    0.000529\n",
       "16         0.000546           0.001110    0.000347    0.000791\n",
       "24         0.001045           0.000633    0.000243    0.000636\n",
       "32         0.001008           0.000687    0.000129    0.000348\n",
       "40         0.001459           0.000868    0.000132    0.000338"
      ]
     },
     "execution_count": 18,
     "metadata": {},
     "output_type": "execute_result"
    }
   ],
   "source": [
    "df = benchmark({\n",
    "    'numpy_fftn': numpy_fftn, 'torch_fftn': torch_fftn, 'custom_fftn': custom_fftn, \n",
    "    'custom_fftn_power': custom_fftn_power})\n",
    "piv = df.pivot(\"length\", \"name\", \"average\")\n",
    "piv[:5]"
   ]
  },
  {
   "cell_type": "code",
   "execution_count": 19,
   "id": "eb2c6d54",
   "metadata": {},
   "outputs": [
    {
     "data": {
      "image/png": "[encoded data removed]",
      "text/plain": [
       "<Figure size 864x288 with 1 Axes>"
      ]
     },
     "metadata": {
      "needs_background": "light"
     },
     "output_type": "display_data"
    }
   ],
   "source": [
    "piv.plot(logy=True, logx=True, title=\"FFT benchmark 2\", figsize=(12, 4));"
   ]
  },
  {
   "cell_type": "code",
   "execution_count": 20,
   "id": "ed6c4d1a",
   "metadata": {},
   "outputs": [
    {
     "name": "stdout",
     "output_type": "stream",
     "text": [
      "f                                        --    1    1 -- 0.00021 0.04622 -- <ipython-input-20-33b1bb0b6440>:7:f (f)\n",
      "    custom_fftn_power                    --  100  100 -- 0.00021 0.04601 -- <ipython-input-17-d2b4c01c14a6>:1:custom_fftn_power (custom_fftn_power)\n",
      "        custom_fftn                      --  100  100 -- 0.00070 0.04579 -- <ipython-input-6-36fd258b5be1>:57:custom_fftn (custom_fftn)\n",
      "            custom_fft                   --  100  100 -- 0.00731 0.04503 -- <ipython-input-6-36fd258b5be1>:20:custom_fft (custom_fft)\n",
      "                _dft_cst_power           --  100  100 -- 0.03606 0.03625 -- <ipython-input-14-8502f1ddbe1f>:1:_dft_cst_power (_dft_cst_power)\n",
      "                    <built-in...y.empty> --  100  100 -- 0.00019 0.00019 -- ~:0:<built-in method numpy.empty> (<built-in method numpy.empty>)\n",
      "                <listcomp>               --  100  100 -- 0.00011 0.00011 -- <ipython-input-6-36fd258b5be1>:40:<listcomp> (<listcomp>)\n",
      "                <method 'to...' objects> --  100  100 -- 0.00008 0.00008 -- ~:0:<method 'tolist' of 'numpy.ndarray' objects> (<method 'tolist' of 'numpy.ndarray' objects>)\n",
      "                <method 'tr...' objects> --  100  100 -- 0.00024 0.00024 -- ~:0:<method 'transpose' of 'numpy.ndarray' objects> (<method 'transpose' of 'numpy.ndarray' objects>)\n",
      "                <built-in m...py.arange> --  100  100 -- 0.00040 0.00040 -- ~:0:<built-in method numpy.arange> (<built-in method numpy.arange>)\n",
      "                <built-in m...mpy.zeros> --  100  100 -- 0.00059 0.00059 -- ~:0:<built-in method numpy.zeros> (<built-in method numpy.zeros>)\n",
      "                <built-in m...ltins.len> --  200  200 -- 0.00005 0.00005 -- ~:0:<built-in method builtins.len> (<built-in method builtins.len>) +++\n",
      "            <built-in met...uiltins.len> --  300  300 -- 0.00007 0.00007 -- ~:0:<built-in method builtins.len> (<built-in method builtins.len>) +++\n",
      "<built-in method builtins.len>           --  500  500 -- 0.00011 0.00011 -- ~:0:<built-in method builtins.len> (<built-in method builtins.len>)\n"
     ]
    }
   ],
   "source": [
    "from pyquickhelper.pycode.profiling import profile2graph, profile\n",
    "\n",
    "shape = [4, 131]\n",
    "fft_length = [128]\n",
    "axes = [1]\n",
    "\n",
    "def f():\n",
    "    for i in range(100):\n",
    "        custom_fftn_power(rnd, 'FFT', fft_length, axes)\n",
    "\n",
    "stat, text = profile(f)\n",
    "gr = profile2graph(stat)\n",
    "print(gr[0].to_text(fct_width=40))"
   ]
  },
  {
   "cell_type": "markdown",
   "id": "9ef4af25",
   "metadata": {},
   "source": [
    "## Cooley–Tukey FFT algorithm\n",
    "\n",
    "See [Cooley–Tukey FFT algorithm](https://en.wikipedia.org/wiki/Cooley%E2%80%93Tukey_FFT_algorithm).\n",
    "\n",
    "The FFT matrix is defined by the matrix computation $F_{ak} = X_{an} M_{nk}$, then one coefficient is ($1 \\leqslant n, k \\leqslant K$):\n",
    "\n",
    "$$\n",
    "F_{ak} = \\sum_n X_{an} M_{nk} = \\sum_n X_{an} \\exp\\left(\\frac{-2i\\pi}{K}\\right)^{nk}\n",
    "$$\n",
    "\n",
    "Let's assume K is even, then $\\exp\\left(\\frac{-2i\\pi k}{K}\\right) = -\\exp\\left(\\frac{-2i\\pi \\left(k + \\frac{K}{2}\\right)}{K}\\right)$."
   ]
  },
  {
   "cell_type": "code",
   "execution_count": 24,
   "id": "803fcc3a",
   "metadata": {},
   "outputs": [
    {
     "data": {
      "image/png": "[encoded data removed]",
      "text/plain": [
       "<Figure size 432x216 with 1 Axes>"
      ]
     },
     "metadata": {
      "needs_background": "light"
     },
     "output_type": "display_data"
    }
   ],
   "source": [
    "import matplotlib.pyplot as plt\n",
    "fig, ax = plt.subplots(1, 1, figsize=(6, 3))\n",
    "a = numpy.arange(0, 12) * (-2 * numpy.pi / 12)\n",
    "X = numpy.vstack([numpy.cos(a), numpy.sin(a)]).T\n",
    "ax.plot(X[:, 0], X[:, 1], 'o');\n",
    "for i in range(0, 12):\n",
    "    ax.text(X[i, 0], X[i, 1], \"exp(-2pi %d/12)\" % i)\n",
    "ax.set_title('unit roots');"
   ]
  },
  {
   "cell_type": "markdown",
   "id": "f257dc6e",
   "metadata": {},
   "source": [
    "Then:\n",
    "\n",
    "$$\n",
    "\\begin{array}{rcl}\n",
    "F_{a,k + \\frac{K}{2}} &=& \\sum_{n=1}^{N} X_{an} \\exp\\left(\\frac{-2i\\pi}{K}\\right)^{n\\left(k + \\frac{K}{2}\\right)} \\\\\n",
    "&=&\\sum_{n=1}^{N} X_{an} (-1)^n \\exp\\left(\\frac{-2i\\pi}{K}\\right)^{nk} \\\\\n",
    "&=&\\sum_{m=1}^{\\frac{N}{2}} X_{a,2m} \\exp\\left(\\frac{-2i\\pi}{K}\\right)^{2mk} - \\sum_{m=1}^{\\frac{N}{2}} X_{a,2m-1} \\exp\\left(\\frac{-2i\\pi}{K}\\right)^{(2m-1)k} \\\\\n",
    "&=&\\sum_{m=1}^{\\frac{N}{2}} X_{a,2m} \\exp\\left(\\frac{-2i\\pi}{K}\\right)^{2mk} - \\sum_{m=1}^{\\frac{N}{2}} X_{a,2m-1} \\exp\\left(\\frac{-2i\\pi}{K}\\right)^{2mk} \\exp\\left(\\frac{-2i\\pi}{K}\\right)^{-k}\n",
    "\\end{array}\n",
    "$$\n",
    "\n",
    "Then:\n",
    "\n",
    "$$\n",
    "\\begin{array}{rcl}\n",
    "F_{a,k} + F_{a,k+\\frac{K}{2}} &=& 2\\sum_{m=1}^{\\frac{N}{2}} X_{a,2m}  \\exp\\left(\\frac{-2i\\pi}{K}\\right)^{2mk}\n",
    "= 2\\sum_{m=1}^{\\frac{N}{2}} X_{a,2m}  \\exp\\left(\\frac{-2i\\pi}{\\frac{K}{2}}\\right)^{mk}\n",
    "\\end{array}\n",
    "$$"
   ]
  },
  {
   "cell_type": "code",
   "execution_count": 29,
   "id": "971be7bd",
   "metadata": {
    "scrolled": false
   },
   "outputs": [
    {
     "name": "stdout",
     "output_type": "stream",
     "text": [
      "[cooley_fft_recursive] (1, 4) 3 4\n",
      "[cooley_fft_recursive] (1, 2) 2 2\n",
      "[cooley_fft_recursive] (1, 1) 1 1\n",
      "[cooley_fft_recursive] (1, 1) 1 1\n",
      "################1, final 2 1\n",
      "true\n",
      "[[ 0.76209912-1.41120738j -0.19828965-2.31746686j]]\n",
      "false\n",
      "[[ 0.76209915-1.4112073j -0.19828966-2.3174667j]]\n",
      "################2, final\n",
      "[cooley_fft_recursive] (1, 2) 2 2\n",
      "[cooley_fft_recursive] (1, 1) 1 1\n",
      "[cooley_fft_recursive] (1, 1) 1 1\n",
      "################1, final 2 1\n",
      "true\n",
      "[[-0.68436125+1.23406123j -0.68436125+1.23406123j]]\n",
      "false\n",
      "[[-0.6843613+1.2340612j -0.6843613+1.2340612j]]\n",
      "################2, final\n",
      "++++++++ (1, 4) (1, 2) (1, 2) 4 2\n",
      "[[ 0.76209912-1.41120738j -0.19828965-2.31746686j]]\n",
      "[[ 0.76209915-1.4112073j -0.19828966-2.3174667j]]\n",
      "======\n",
      "[[-0.68436125+1.23406123j -0.68436125+1.23406123j]]\n",
      "[[-0.6843613+1.2340612j -0.6843613+1.2340612j]]\n",
      "++++++--\n",
      "################1, final 4 2\n",
      "true\n",
      "[[ 0.07773787-0.17714616j  1.06029468-1.69939784j -0.29231834-3.71646737j\n",
      "   0.        +0.j        ]]\n",
      "false\n",
      "[[0.07773787-0.17714608j 1.0357716 -1.6331055j  1.4464605 -2.6452684j\n",
      "  0.        +0.j        ]]\n",
      "################2, final\n",
      "---------------------- 3 4\n",
      "[ 0.28190474-1.86433712j -0.68436125+1.23406123j  0.48019439+0.45312974j]\n",
      "[[ 0.28190474-1.86433712j -0.68436125+1.23406123j  0.48019439+0.45312974j]]\n",
      "[[ 0.28190474-1.86433712j -0.68436125+1.23406123j  0.48019439+0.45312974j\n",
      "   0.        +0.j        ]]\n",
      "=========\n",
      "[[ 0.07773787-0.17714616j  1.06029468-1.69939784j -0.29231834-3.71646737j\n",
      "   0.        +0.j        ]]\n",
      "[[0.07773787-0.17714608j 1.0357716 -1.6331055j  1.4464605 -2.6452684j\n",
      "  0.        +0.j        ]]\n",
      "----------------------\n"
     ]
    },
    {
     "ename": "AssertionError",
     "evalue": "\nArrays are not almost equal to 5 decimals\n ACTUAL: array([0.07773787-0.17714608j, 1.0357716 -1.6331055j ,\n       1.4464605 -2.6452684j ], dtype=complex64)\n DESIRED: array([ 0.07773787-0.17714616j,  1.06029468-1.69939784j,\n       -0.29231834-3.71646737j])",
     "output_type": "error",
     "traceback": [
      "\u001b[1;31m---------------------------------------------------------------------------\u001b[0m",
      "\u001b[1;31mAssertionError\u001b[0m                            Traceback (most recent call last)",
      "    \u001b[1;31m[... skipping hidden 3 frame]\u001b[0m\n",
      "File \u001b[1;32mC:\\Python395_x64\\lib\\site-packages\\numpy\\testing\\_private\\utils.py:844\u001b[0m, in \u001b[0;36massert_array_compare\u001b[1;34m(comparison, x, y, err_msg, verbose, header, precision, equal_nan, equal_inf)\u001b[0m\n\u001b[0;32m    841\u001b[0m         msg \u001b[38;5;241m=\u001b[39m build_err_msg([ox, oy], err_msg,\n\u001b[0;32m    842\u001b[0m                             verbose\u001b[38;5;241m=\u001b[39mverbose, header\u001b[38;5;241m=\u001b[39mheader,\n\u001b[0;32m    843\u001b[0m                             names\u001b[38;5;241m=\u001b[39m(\u001b[38;5;124m'\u001b[39m\u001b[38;5;124mx\u001b[39m\u001b[38;5;124m'\u001b[39m, \u001b[38;5;124m'\u001b[39m\u001b[38;5;124my\u001b[39m\u001b[38;5;124m'\u001b[39m), precision\u001b[38;5;241m=\u001b[39mprecision)\n\u001b[1;32m--> 844\u001b[0m         \u001b[38;5;28;01mraise\u001b[39;00m \u001b[38;5;167;01mAssertionError\u001b[39;00m(msg)\n\u001b[0;32m    845\u001b[0m \u001b[38;5;28;01mexcept\u001b[39;00m \u001b[38;5;167;01mValueError\u001b[39;00m:\n",
      "\u001b[1;31mAssertionError\u001b[0m: \nArrays are not almost equal to 5 decimals\n\nMismatched elements: 2 / 3 (66.7%)\nMax absolute difference: 1.73877882\nMax relative difference: 5.94823725\n x: array([0.07774, 1.03577, 1.44646], dtype=float32)\n y: array([ 0.07774,  1.06029, -0.29232])",
      "\nDuring handling of the above exception, another exception occurred:\n",
      "\u001b[1;31mAssertionError\u001b[0m                            Traceback (most recent call last)",
      "Input \u001b[1;32mIn [29]\u001b[0m, in \u001b[0;36m<module>\u001b[1;34m\u001b[0m\n\u001b[0;32m    146\u001b[0m rnd \u001b[38;5;241m=\u001b[39m numpy\u001b[38;5;241m.\u001b[39mrandom\u001b[38;5;241m.\u001b[39mrandn(\u001b[38;5;241m*\u001b[39mshape) \u001b[38;5;241m+\u001b[39m numpy\u001b[38;5;241m.\u001b[39mrandom\u001b[38;5;241m.\u001b[39mrandn(\u001b[38;5;241m*\u001b[39mshape) \u001b[38;5;241m*\u001b[39m img\n\u001b[0;32m    147\u001b[0m \u001b[38;5;66;03m#custom_fftn_cooley(rnd, 'FFT', fft_length, axes), numpy_fftn(rnd, 'FFT', fft_length, axes)\u001b[39;00m\n\u001b[1;32m--> 148\u001b[0m \u001b[43massert_almost_equal\u001b[49m\u001b[43m(\u001b[49m\u001b[43mcustom_fftn_cooley\u001b[49m\u001b[43m(\u001b[49m\u001b[43mrnd\u001b[49m\u001b[43m,\u001b[49m\u001b[43m \u001b[49m\u001b[38;5;124;43m'\u001b[39;49m\u001b[38;5;124;43mFFT\u001b[39;49m\u001b[38;5;124;43m'\u001b[39;49m\u001b[43m,\u001b[49m\u001b[43m \u001b[49m\u001b[43mfft_length\u001b[49m\u001b[43m,\u001b[49m\u001b[43m \u001b[49m\u001b[43maxes\u001b[49m\u001b[43m)\u001b[49m\u001b[43m,\u001b[49m\n\u001b[0;32m    149\u001b[0m \u001b[43m                    \u001b[49m\u001b[43mnumpy_fftn\u001b[49m\u001b[43m(\u001b[49m\u001b[43mrnd\u001b[49m\u001b[43m,\u001b[49m\u001b[43m \u001b[49m\u001b[38;5;124;43m'\u001b[39;49m\u001b[38;5;124;43mFFT\u001b[39;49m\u001b[38;5;124;43m'\u001b[39;49m\u001b[43m,\u001b[49m\u001b[43m \u001b[49m\u001b[43mfft_length\u001b[49m\u001b[43m,\u001b[49m\u001b[43m \u001b[49m\u001b[43maxes\u001b[49m\u001b[43m)\u001b[49m\u001b[43m,\u001b[49m\n\u001b[0;32m    150\u001b[0m \u001b[43m                    \u001b[49m\u001b[43mdecimal\u001b[49m\u001b[38;5;241;43m=\u001b[39;49m\u001b[38;5;241;43m5\u001b[39;49m\u001b[43m)\u001b[49m\n\u001b[0;32m    151\u001b[0m test_fct(numpy_fftn, custom_fftn_cooley)\n",
      "File \u001b[1;32mC:\\Python395_x64\\lib\\site-packages\\numpy\\testing\\_private\\utils.py:579\u001b[0m, in \u001b[0;36massert_almost_equal\u001b[1;34m(actual, desired, decimal, err_msg, verbose)\u001b[0m\n\u001b[0;32m    577\u001b[0m         assert_almost_equal(actuali, desiredi, decimal\u001b[38;5;241m=\u001b[39mdecimal)\n\u001b[0;32m    578\u001b[0m     \u001b[38;5;28;01mexcept\u001b[39;00m \u001b[38;5;167;01mAssertionError\u001b[39;00m:\n\u001b[1;32m--> 579\u001b[0m         \u001b[38;5;28;01mraise\u001b[39;00m \u001b[38;5;167;01mAssertionError\u001b[39;00m(_build_err_msg())\n\u001b[0;32m    581\u001b[0m \u001b[38;5;28;01mif\u001b[39;00m \u001b[38;5;28misinstance\u001b[39m(actual, (ndarray, \u001b[38;5;28mtuple\u001b[39m, \u001b[38;5;28mlist\u001b[39m)) \\\n\u001b[0;32m    582\u001b[0m         \u001b[38;5;129;01mor\u001b[39;00m \u001b[38;5;28misinstance\u001b[39m(desired, (ndarray, \u001b[38;5;28mtuple\u001b[39m, \u001b[38;5;28mlist\u001b[39m)):\n\u001b[0;32m    583\u001b[0m     \u001b[38;5;28;01mreturn\u001b[39;00m assert_array_almost_equal(actual, desired, decimal, err_msg)\n",
      "\u001b[1;31mAssertionError\u001b[0m: \nArrays are not almost equal to 5 decimals\n ACTUAL: array([0.07773787-0.17714608j, 1.0357716 -1.6331055j ,\n       1.4464605 -2.6452684j ], dtype=complex64)\n DESIRED: array([ 0.07773787-0.17714616j,  1.06029468-1.69939784j,\n       -0.29231834-3.71646737j])"
     ]
    }
   ],
   "source": [
    "def cooley_fft_2p(x, fft_length, p2):\n",
    "    assert fft_length <= p2\n",
    "    cst = _dft_cst_power(x.shape[-1], fft_length, x.dtype)\n",
    "    zeros = numpy.zeros((cst.shape[0], p2), dtype=cst.dtype)\n",
    "    zeros[:, :fft_length] = cst\n",
    "    return numpy.matmul(x, zeros)\n",
    "\n",
    "\n",
    "def cooley_fft_recursive(x, fft_length, p2):\n",
    "    print(\"[cooley_fft_recursive]\", x.shape, fft_length, p2)\n",
    "    if x.dtype == numpy.float64:\n",
    "        dtype = numpy.complex128\n",
    "    else:\n",
    "        dtype = numpy.complex64\n",
    "    if p2 == 1:\n",
    "        return x.astype(dtype)\n",
    "    # x.shape[-1] must be a power of two\n",
    "    if len(x.shape) != 2:\n",
    "        xs = x.reshape((-1, x.shape[-1]))\n",
    "    else:\n",
    "        xs = x\n",
    "    even = xs[:, ::2]\n",
    "    odd = xs[:, 1::2]\n",
    "    p2_2 = p2 // 2\n",
    "    fft_even = cooley_fft_recursive(even, p2_2, p2_2)\n",
    "    fft_odd = cooley_fft_recursive(odd, p2_2, p2_2)\n",
    "    if p2_2 >= 2:\n",
    "        print(\"++++++++\", xs.shape, even.shape, odd.shape, p2, p2_2)\n",
    "        print(cooley_fft_2p(even, p2_2, p2_2))\n",
    "        print(fft_even)\n",
    "        print(\"======\")\n",
    "        print(cooley_fft_2p(odd, p2_2, p2_2))\n",
    "        print(fft_odd)\n",
    "        print(\"++++++--\")\n",
    "    \n",
    "    result = numpy.zeros((xs.shape[0], p2), dtype=dtype)\n",
    "    for k in range(0, p2_2):\n",
    "        fact = numpy.exp(-2j * numpy.pi * k / p2)\n",
    "        todd = fft_odd[:, k] * fact\n",
    "        result[:, k] = fft_even[:, k] + todd\n",
    "        result[:, k + p2_2] = fft_even[:, k] - todd\n",
    "\n",
    "    if fft_length < p2:\n",
    "        result[:, fft_length:] = 0\n",
    "        \n",
    "    print(\"################1, final\", p2, p2_2)\n",
    "    print('true')\n",
    "    print(cooley_fft_2p(xs, min(fft_length, p2), p2))\n",
    "    print('false')\n",
    "    print(result)\n",
    "    print(\"################2, final\")\n",
    "        \n",
    "    if len(x.shape) != 2:\n",
    "        return result.reshape(x.shape)\n",
    "    return result\n",
    "    \n",
    "\n",
    "def cooley_fft(xt, fft_length):\n",
    "    # FFT on the last axis\n",
    "    if len(xt.shape) == 1:\n",
    "        x = xt.reshape((1, -1))\n",
    "    else:\n",
    "        x = xt\n",
    "    max_length = max(x.shape[-1], fft_length)\n",
    "    p2 = 1\n",
    "    while p2 < max_length:\n",
    "        p2 *= 2\n",
    "    new_shape = list(x.shape)\n",
    "    new_shape[-1] = p2\n",
    "    bigger = numpy.zeros(new_shape, dtype=x.dtype)\n",
    "    slices = [slice(0, s) for s in x.shape]\n",
    "    bigger[tuple(slices)] = x\n",
    "    \n",
    "    res1 = cooley_fft_2p(bigger, max_length, p2)\n",
    "    res2 = cooley_fft_recursive(bigger, max_length, p2)\n",
    "    print('----------------------', fft_length, p2)\n",
    "    print(xt)\n",
    "    print(x)\n",
    "    print(bigger)\n",
    "    print(\"=========\")\n",
    "    print(res1)\n",
    "    print(res2)\n",
    "    print('----------------------')\n",
    "    res = res2\n",
    "    \n",
    "    slices[-2] = slice(0, x.shape[-2])\n",
    "    slices[-1] = slice(0, fft_length)\n",
    "    if len(xt.shape) == 1:\n",
    "        return res.ravel()[:fft_length]\n",
    "    else:\n",
    "        return res[tuple(slices)]\n",
    "    \n",
    "\n",
    "def custom_fft_cooley(x, fft_type, length, axis):\n",
    "    # https://github.com/numpy/numpy/blob/4adc87dff15a247e417d50f10cc4def8e1c17a03/numpy/fft/_pocketfft.py#L56\n",
    "    if fft_type == 'FFT':\n",
    "        if x.shape[axis] > length:\n",
    "            # fft_length > shape on the same axis\n",
    "            # the matrix is shortened\n",
    "            slices = [slice(None)] * len(x.shape)\n",
    "            slices[axis] = slice(0, length)\n",
    "            new_x = x[tuple(slices)]\n",
    "        elif x.shape[axis] == length:\n",
    "            new_x = x\n",
    "        else:\n",
    "            # other, the matrix is completed with zeros\n",
    "            shape = list(x.shape)\n",
    "            shape[axis] = length\n",
    "            slices = [slice(None)] * len(x.shape)\n",
    "            slices[axis] = slice(0, length)\n",
    "            zeros = numpy.zeros(tuple(shape), dtype=x.dtype)\n",
    "            index = [slice(0, i) for i in x.shape]\n",
    "            zeros[tuple(index)] = x\n",
    "            new_x = zeros\n",
    "\n",
    "        perm = numpy.arange(len(x.shape)).tolist()        \n",
    "        if perm[axis] == perm[-1]:\n",
    "            res = cooley_fft(new_x, length).transpose(perm)\n",
    "        else:\n",
    "            perm[axis], perm[-1] = perm[-1], perm[axis]            \n",
    "            rest = new_x.transpose(perm)\n",
    "            res = cooley_fft(rest, length).transpose(perm)\n",
    "            perm[axis], perm[0] = perm[0], perm[axis]\n",
    "        return res\n",
    "    raise ValueError(\"Unexpected value for fft_type=%r.\" % fft_type)\n",
    "\n",
    "\n",
    "def custom_fftn_cooley(x, fft_type, fft_length, axes):\n",
    "    if len(axes) != len(fft_length):\n",
    "        raise ValueError(\"Length mismatch axes=%r, fft_length=%r.\" % (\n",
    "           axes, fft_length))\n",
    "    if fft_type == 'FFT':\n",
    "        res = x\n",
    "        for i in range(len(fft_length) - 1, -1, -1):\n",
    "            length = fft_length[i]\n",
    "            axis = axes[i]\n",
    "            res = custom_fft_cooley(res, fft_type, length, axis)\n",
    "        return res\n",
    "    raise ValueError(\"Unexpected value for fft_type=%r.\" % fft_type)\n",
    "\n",
    "    \n",
    "img = 1j\n",
    "shape = (4, )\n",
    "fft_length = [3,]\n",
    "axes = [0]\n",
    "rnd = numpy.random.randn(*shape) + numpy.random.randn(*shape) * img\n",
    "#custom_fftn_cooley(rnd, 'FFT', fft_length, axes), numpy_fftn(rnd, 'FFT', fft_length, axes)\n",
    "assert_almost_equal(custom_fftn_cooley(rnd, 'FFT', fft_length, axes),\n",
    "                    numpy_fftn(rnd, 'FFT', fft_length, axes),\n",
    "                    decimal=5)\n",
    "test_fct(numpy_fftn, custom_fftn_cooley)"
   ]
  },
  {
   "cell_type": "code",
   "execution_count": null,
   "id": "ecfa7266",
   "metadata": {},
   "outputs": [],
   "source": []
  }
 ],
 "metadata": {
  "kernelspec": {
   "display_name": "Python 3",
   "language": "python",
   "name": "python3"
  },
  "language_info": {
   "codemirror_mode": {
    "name": "ipython",
    "version": 3
   },
   "file_extension": ".py",
   "mimetype": "text/x-python",
   "name": "python",
   "nbconvert_exporter": "python",
   "pygments_lexer": "ipython3",
   "version": "3.9.5"
  }
 },
 "nbformat": 4,
 "nbformat_minor": 5
}
