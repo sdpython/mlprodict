{
 "cells": [
  {
   "cell_type": "markdown",
   "id": "c760c855",
   "metadata": {},
   "source": [
    "# ONNX FFTs\n",
    "\n",
    "Implementation of a couple of variations of FFT (see [FFT](https://www.tensorflow.org/xla/operation_semantics#fft) in ONNX."
   ]
  },
  {
   "cell_type": "code",
   "execution_count": 1,
   "id": "ddecaddb",
   "metadata": {},
   "outputs": [
    {
     "data": {
      "text/html": [
       "<div id=\"my_id_menu_nb\">run previous cell, wait for 2 seconds</div>\n",
       "<script>\n",
       "function repeat_indent_string(n){\n",
       "    var a = \"\" ;\n",
       "    for ( ; n > 0 ; --n)\n",
       "        a += \"    \";\n",
       "    return a;\n",
       "}\n",
       "// look up into all sections and builds an automated menu //\n",
       "var update_menu_string = function(begin, lfirst, llast, sformat, send, keep_item, begin_format, end_format) {\n",
       "    var anchors = document.getElementsByClassName(\"section\");\n",
       "    if (anchors.length == 0) {\n",
       "        anchors = document.getElementsByClassName(\"text_cell_render rendered_html\");\n",
       "    }\n",
       "    var i,t;\n",
       "    var text_menu = begin;\n",
       "    var text_memo = \"<pre>\\nlength:\" + anchors.length + \"\\n\";\n",
       "    var ind = \"\";\n",
       "    var memo_level = 1;\n",
       "    var href;\n",
       "    var tags = [];\n",
       "    var main_item = 0;\n",
       "    var format_open = 0;\n",
       "    for (i = 0; i <= llast; i++)\n",
       "        tags.push(\"h\" + i);\n",
       "\n",
       "    for (i = 0; i < anchors.length; i++) {\n",
       "        text_memo += \"**\" + anchors[i].id + \"--\\n\";\n",
       "\n",
       "        var child = null;\n",
       "        for(t = 0; t < tags.length; t++) {\n",
       "            var r = anchors[i].getElementsByTagName(tags[t]);\n",
       "            if (r.length > 0) {\n",
       "child = r[0];\n",
       "break;\n",
       "            }\n",
       "        }\n",
       "        if (child == null) {\n",
       "            text_memo += \"null\\n\";\n",
       "            continue;\n",
       "        }\n",
       "        if (anchors[i].hasAttribute(\"id\")) {\n",
       "            // when converted in RST\n",
       "            href = anchors[i].id;\n",
       "            text_memo += \"#1-\" + href;\n",
       "            // passer à child suivant (le chercher)\n",
       "        }\n",
       "        else if (child.hasAttribute(\"id\")) {\n",
       "            // in a notebook\n",
       "            href = child.id;\n",
       "            text_memo += \"#2-\" + href;\n",
       "        }\n",
       "        else {\n",
       "            text_memo += \"#3-\" + \"*\" + \"\\n\";\n",
       "            continue;\n",
       "        }\n",
       "        var title = child.textContent;\n",
       "        var level = parseInt(child.tagName.substring(1,2));\n",
       "\n",
       "        text_memo += \"--\" + level + \"?\" + lfirst + \"--\" + title + \"\\n\";\n",
       "\n",
       "        if ((level < lfirst) || (level > llast)) {\n",
       "            continue ;\n",
       "        }\n",
       "        if (title.endsWith('¶')) {\n",
       "            title = title.substring(0,title.length-1).replace(\"<\", \"&lt;\")\n",
       "         .replace(\">\", \"&gt;\").replace(\"&\", \"&amp;\");\n",
       "        }\n",
       "        if (title.length == 0) {\n",
       "            continue;\n",
       "        }\n",
       "\n",
       "        while (level < memo_level) {\n",
       "            text_menu += end_format + \"</ul>\\n\";\n",
       "            format_open -= 1;\n",
       "            memo_level -= 1;\n",
       "        }\n",
       "        if (level == lfirst) {\n",
       "            main_item += 1;\n",
       "        }\n",
       "        if (keep_item != -1 && main_item != keep_item + 1) {\n",
       "            // alert(main_item + \" - \" + level + \" - \" + keep_item);\n",
       "            continue;\n",
       "        }\n",
       "        while (level > memo_level) {\n",
       "            text_menu += \"<ul>\\n\";\n",
       "            memo_level += 1;\n",
       "        }\n",
       "        text_menu += repeat_indent_string(level-2);\n",
       "        text_menu += begin_format + sformat.replace(\"__HREF__\", href).replace(\"__TITLE__\", title);\n",
       "        format_open += 1;\n",
       "    }\n",
       "    while (1 < memo_level) {\n",
       "        text_menu += end_format + \"</ul>\\n\";\n",
       "        memo_level -= 1;\n",
       "        format_open -= 1;\n",
       "    }\n",
       "    text_menu += send;\n",
       "    //text_menu += \"\\n\" + text_memo;\n",
       "\n",
       "    while (format_open > 0) {\n",
       "        text_menu += end_format;\n",
       "        format_open -= 1;\n",
       "    }\n",
       "    return text_menu;\n",
       "};\n",
       "var update_menu = function() {\n",
       "    var sbegin = \"\";\n",
       "    var sformat = '<a href=\"#__HREF__\">__TITLE__</a>';\n",
       "    var send = \"\";\n",
       "    var begin_format = '<li>';\n",
       "    var end_format = '</li>';\n",
       "    var keep_item = -1;\n",
       "    var text_menu = update_menu_string(sbegin, 2, 4, sformat, send, keep_item,\n",
       "       begin_format, end_format);\n",
       "    var menu = document.getElementById(\"my_id_menu_nb\");\n",
       "    menu.innerHTML=text_menu;\n",
       "};\n",
       "window.setTimeout(update_menu,2000);\n",
       "            </script>"
      ],
      "text/plain": [
       "<IPython.core.display.HTML object>"
      ]
     },
     "execution_count": 1,
     "metadata": {},
     "output_type": "execute_result"
    }
   ],
   "source": [
    "from jyquickhelper import add_notebook_menu\n",
    "add_notebook_menu()"
   ]
  },
  {
   "cell_type": "code",
   "execution_count": 2,
   "id": "aff393cd",
   "metadata": {},
   "outputs": [],
   "source": [
    "%matplotlib inline"
   ]
  },
  {
   "cell_type": "code",
   "execution_count": 3,
   "id": "75f2064c",
   "metadata": {},
   "outputs": [],
   "source": [
    "%load_ext mlprodict"
   ]
  },
  {
   "cell_type": "markdown",
   "id": "05a249a3",
   "metadata": {},
   "source": [
    "## Signature\n",
    "\n",
    "We try to use function [FFT](https://www.tensorflow.org/xla/operation_semantics#fft) or [torch.fft.fftn](https://pytorch.org/docs/stable/generated/torch.fft.fftn.html#torch.fft.fftn)."
   ]
  },
  {
   "cell_type": "code",
   "execution_count": 4,
   "id": "6e2fc017",
   "metadata": {},
   "outputs": [
    {
     "data": {
      "text/plain": [
       "40"
      ]
     },
     "execution_count": 4,
     "metadata": {},
     "output_type": "execute_result"
    }
   ],
   "source": [
    "import numpy\n",
    "from numpy.testing import assert_almost_equal\n",
    "\n",
    "def numpy_fftn(x, fft_type, fft_length, axes):\n",
    "    \"\"\"\n",
    "    Implements FFT\n",
    "\n",
    "    :param x: input\n",
    "    :param fft_type: string (see below)\n",
    "    :param fft_length: length on each axis of axes\n",
    "    :param axes: axes\n",
    "    :return: result\n",
    "    \n",
    "    * `'FFT`': complex-to-complex FFT. Shape is unchanged.\n",
    "    * `'IFFT`': Inverse complex-to-complex FFT. Shape is unchanged.\n",
    "    * `'RFFT`': Forward real-to-complex FFT.\n",
    "      Shape of the innermost axis is reduced to fft_length[-1] // 2 + 1 if fft_length[-1]\n",
    "      is a non-zero value, omitting the reversed conjugate part of \n",
    "      the transformed signal beyond the Nyquist frequency.\n",
    "    * `'IRFFT`': Inverse real-to-complex FFT (ie takes complex, returns real).\n",
    "      Shape of the innermost axis is expanded to fft_length[-1] if fft_length[-1] \n",
    "      is a non-zero value, inferring the part of the transformed signal beyond the Nyquist\n",
    "      frequency from the reverse conjugate of the 1 to fft_length[-1] // 2 + 1 entries.\n",
    "    \"\"\"\n",
    "    if fft_type == 'FFT':\n",
    "        return numpy.fft.fftn(x, fft_length, axes=axes)\n",
    "    raise NotImplementedError(\"Not implemented for fft_type=%r.\" % fft_type)\n",
    "    \n",
    "\n",
    "def test_fct(fct1, fct2, fft_type='FFT', decimal=5):\n",
    "    dims = [[4,4,4,4],\n",
    "            [4,5,6,7]]\n",
    "    lengths_axes = [([2, 2, 2, 2], None),\n",
    "                    ([2, 6, 7, 2], None),\n",
    "                    ([2, 3, 4, 5], None),\n",
    "                    ([2], [3]),\n",
    "                    ([3], [2])]\n",
    "    n_test = 0\n",
    "    for ndim in range(1, 5):\n",
    "        for dim in dims:\n",
    "            for length, axes in lengths_axes:\n",
    "                if axes is None:\n",
    "                    axes = range(ndim)\n",
    "                axes = [min(ndim - 1, a) for a in axes]\n",
    "                di = dim[:ndim]\n",
    "                le = length[:ndim]\n",
    "                mat = numpy.random.randn(*di).astype(numpy.float32)\n",
    "                try:\n",
    "                    v1 = fct1(mat, fft_type, le, axes=axes)\n",
    "                except Exception as e:\n",
    "                    raise AssertionError(\n",
    "                        \"Unable to run %r mat.shape=%r ndim=%r fft_type=%r le=%r \"\n",
    "                        \"axes=%r exc=%r\" %(\n",
    "                            fct1, mat.shape, ndim, fft_type, le, axes, e))\n",
    "                v2 = fct2(mat, fft_type, le, axes=axes)\n",
    "                try:\n",
    "                    assert_almost_equal(v1, v2, decimal=decimal)\n",
    "                except AssertionError as e:\n",
    "                    raise AssertionError(\n",
    "                        \"Failure mat.shape=%r, fft_type=%r, fft_length=%r\" % (\n",
    "                            mat.shape, fft_type, le)) from e\n",
    "                n_test += 1\n",
    "    return n_test\n",
    "                    \n",
    "test_fct(numpy_fftn, numpy_fftn)"
   ]
  },
  {
   "cell_type": "code",
   "execution_count": 5,
   "id": "9de9a43f",
   "metadata": {},
   "outputs": [
    {
     "data": {
      "text/plain": [
       "40"
      ]
     },
     "execution_count": 5,
     "metadata": {},
     "output_type": "execute_result"
    }
   ],
   "source": [
    "import torch\n",
    "\n",
    "def torch_fftn(x, fft_type, fft_length, axes):\n",
    "    xt = torch.tensor(x)\n",
    "    if fft_type == 'FFT':\n",
    "        return torch.fft.fftn(xt, fft_length, axes).cpu().detach().numpy()\n",
    "    \n",
    "test_fct(numpy_fftn, torch_fftn)"
   ]
  },
  {
   "cell_type": "markdown",
   "id": "e55d6dbf",
   "metadata": {},
   "source": [
    "## Numpy implementation"
   ]
  },
  {
   "cell_type": "code",
   "execution_count": 6,
   "id": "aa74068d",
   "metadata": {},
   "outputs": [],
   "source": [
    "import numpy\n",
    "\n",
    "\n",
    "def _dft_cst(N, fft_length, dtype):\n",
    "    def _arange(dim, dtype, resh):\n",
    "        return numpy.arange(dim).astype(dtype).reshape(resh)\n",
    "\n",
    "    def _prod(n, k):\n",
    "        return (-2j * numpy.pi * k / fft_length) * n\n",
    "\n",
    "    def _exp(m):\n",
    "        return numpy.exp(m)\n",
    "    \n",
    "    n = _arange(N, dtype, (-1, 1))\n",
    "    k = _arange(fft_length, dtype, (1, -1))\n",
    "    M = _exp(_prod(n, k))\n",
    "    return M\n",
    "\n",
    "\n",
    "def custom_fft(x, fft_type, length, axis, dft_fct=None):\n",
    "    # https://github.com/numpy/numpy/blob/4adc87dff15a247e417d50f10cc4def8e1c17a03/numpy/fft/_pocketfft.py#L56\n",
    "    if dft_fct is None:\n",
    "        dft_fct = _dft_cst\n",
    "    if fft_type == 'FFT':\n",
    "        if x.shape[axis] > length:\n",
    "            # fft_length > shape on the same axis\n",
    "            # the matrix is shortened\n",
    "            slices = [slice(None)] * len(x.shape)\n",
    "            slices[axis] = slice(0, length)\n",
    "            new_x = x[tuple(slices)]\n",
    "        elif x.shape[axis] == length:\n",
    "            new_x = x\n",
    "        else:\n",
    "            # other, the matrix is completed with zeros\n",
    "            shape = list(x.shape)\n",
    "            shape[axis] = length\n",
    "            slices = [slice(None)] * len(x.shape)\n",
    "            slices[axis] = slice(0, length)\n",
    "            zeros = numpy.zeros(tuple(shape), dtype=x.dtype)\n",
    "            index = [slice(0, i) for i in x.shape]\n",
    "            zeros[tuple(index)] = x\n",
    "            new_x = zeros\n",
    "\n",
    "        cst = dft_fct(new_x.shape[axis], length, x.dtype)\n",
    "        perm = numpy.arange(len(x.shape)).tolist()        \n",
    "        if perm[axis] == perm[-1]:\n",
    "            res = numpy.matmul(new_x, cst).transpose(perm)\n",
    "        else:\n",
    "            perm[axis], perm[-1] = perm[-1], perm[axis]            \n",
    "            rest = new_x.transpose(perm)\n",
    "            res = numpy.matmul(rest, cst).transpose(perm)\n",
    "            perm[axis], perm[0] = perm[0], perm[axis]\n",
    "        return res\n",
    "    raise ValueError(\"Unexpected value for fft_type=%r.\" % fft_type)\n",
    "\n",
    "\n",
    "def custom_fftn(x, fft_type, fft_length, axes, dft_fct=None):\n",
    "    if len(axes) != len(fft_length):\n",
    "        raise ValueError(\"Length mismatch axes=%r, fft_length=%r.\" % (\n",
    "           axes, fft_length))\n",
    "    if fft_type == 'FFT':\n",
    "        res = x\n",
    "        for i in range(len(fft_length) - 1, -1, -1):\n",
    "            length = fft_length[i]\n",
    "            axis = axes[i]\n",
    "            res = custom_fft(res, fft_type, length, axis, dft_fct=dft_fct)\n",
    "        return res\n",
    "    raise ValueError(\"Unexpected value for fft_type=%r.\" % fft_type)\n",
    "\n",
    "    \n",
    "img = 1j\n",
    "shape = (4, )\n",
    "fft_length = [5,]\n",
    "axes = [0]\n",
    "rnd = numpy.random.randn(*shape) + numpy.random.randn(*shape) * img\n",
    "custom_fftn(rnd, 'FFT', fft_length, axes), numpy_fftn(rnd, 'FFT', fft_length, axes)\n",
    "assert_almost_equal(custom_fftn(rnd, 'FFT', fft_length, axes),\n",
    "                    numpy_fftn(rnd, 'FFT', fft_length, axes), decimal=5)\n",
    "\n",
    "img = 1j\n",
    "shape = (4, 3)\n",
    "fft_length = [3, 2]\n",
    "axes = [0, 1]\n",
    "rnd = numpy.random.randn(*shape) + numpy.random.randn(*shape) * img\n",
    "custom_fftn(rnd, 'FFT', fft_length, axes), numpy_fftn(rnd, 'FFT', fft_length, axes)\n",
    "assert_almost_equal(custom_fftn(rnd, 'FFT', fft_length, axes),\n",
    "                    numpy_fftn(rnd, 'FFT', fft_length, axes), decimal=5)"
   ]
  },
  {
   "cell_type": "code",
   "execution_count": 7,
   "id": "5c454666",
   "metadata": {},
   "outputs": [
    {
     "data": {
      "text/plain": [
       "40"
      ]
     },
     "execution_count": 7,
     "metadata": {},
     "output_type": "execute_result"
    }
   ],
   "source": [
    "test_fct(numpy_fftn, custom_fftn, decimal=4)"
   ]
  },
  {
   "cell_type": "markdown",
   "id": "f27bd70d",
   "metadata": {},
   "source": [
    "## Benchmark"
   ]
  },
  {
   "cell_type": "code",
   "execution_count": 8,
   "id": "507d8348",
   "metadata": {},
   "outputs": [
    {
     "name": "stderr",
     "output_type": "stream",
     "text": [
      "100%|██████████| 22/22 [00:04<00:00,  4.54it/s]\n"
     ]
    },
    {
     "data": {
      "text/html": [
       "<div>\n",
       "<style scoped>\n",
       "    .dataframe tbody tr th:only-of-type {\n",
       "        vertical-align: middle;\n",
       "    }\n",
       "\n",
       "    .dataframe tbody tr th {\n",
       "        vertical-align: top;\n",
       "    }\n",
       "\n",
       "    .dataframe thead th {\n",
       "        text-align: right;\n",
       "    }\n",
       "</style>\n",
       "<table border=\"1\" class=\"dataframe\">\n",
       "  <thead>\n",
       "    <tr style=\"text-align: right;\">\n",
       "      <th>name</th>\n",
       "      <th>custom_fftn</th>\n",
       "      <th>numpy_fftn</th>\n",
       "      <th>torch_fftn</th>\n",
       "    </tr>\n",
       "    <tr>\n",
       "      <th>length</th>\n",
       "      <th></th>\n",
       "      <th></th>\n",
       "      <th></th>\n",
       "    </tr>\n",
       "  </thead>\n",
       "  <tbody>\n",
       "    <tr>\n",
       "      <th>8</th>\n",
       "      <td>0.000449</td>\n",
       "      <td>0.000153</td>\n",
       "      <td>0.000494</td>\n",
       "    </tr>\n",
       "    <tr>\n",
       "      <th>16</th>\n",
       "      <td>0.000710</td>\n",
       "      <td>0.000123</td>\n",
       "      <td>0.000547</td>\n",
       "    </tr>\n",
       "    <tr>\n",
       "      <th>24</th>\n",
       "      <td>0.001096</td>\n",
       "      <td>0.000144</td>\n",
       "      <td>0.000556</td>\n",
       "    </tr>\n",
       "    <tr>\n",
       "      <th>32</th>\n",
       "      <td>0.001606</td>\n",
       "      <td>0.000191</td>\n",
       "      <td>0.000537</td>\n",
       "    </tr>\n",
       "    <tr>\n",
       "      <th>40</th>\n",
       "      <td>0.001876</td>\n",
       "      <td>0.000140</td>\n",
       "      <td>0.000391</td>\n",
       "    </tr>\n",
       "  </tbody>\n",
       "</table>\n",
       "</div>"
      ],
      "text/plain": [
       "name    custom_fftn  numpy_fftn  torch_fftn\n",
       "length                                     \n",
       "8          0.000449    0.000153    0.000494\n",
       "16         0.000710    0.000123    0.000547\n",
       "24         0.001096    0.000144    0.000556\n",
       "32         0.001606    0.000191    0.000537\n",
       "40         0.001876    0.000140    0.000391"
      ]
     },
     "execution_count": 8,
     "metadata": {},
     "output_type": "execute_result"
    }
   ],
   "source": [
    "from cpyquickhelper.numbers.speed_measure import measure_time\n",
    "from tqdm import tqdm\n",
    "from pandas import DataFrame\n",
    "\n",
    "def benchmark(fcts):\n",
    "    shape = [4, 90]\n",
    "    axes = [1]\n",
    "    rnd = numpy.random.randn(*shape) + numpy.random.randn(*shape) * img\n",
    "\n",
    "    data = []\n",
    "    for length in tqdm(range(8, 180, 8)):\n",
    "        fft_length = [length]\n",
    "        for name, fct in fcts.items():\n",
    "            obs = measure_time(lambda: fct(rnd, 'FFT', fft_length, axes),\n",
    "                               repeat=10, number=10)\n",
    "            obs['name'] = name\n",
    "            obs['length'] = length\n",
    "            data.append(obs)\n",
    "\n",
    "    df = DataFrame(data)\n",
    "    return df\n",
    "\n",
    "\n",
    "df = benchmark({'numpy_fftn': numpy_fftn, 'custom_fftn': custom_fftn, 'torch_fftn': torch_fftn})\n",
    "piv = df.pivot(\"length\", \"name\", \"average\")\n",
    "piv[:5]"
   ]
  },
  {
   "cell_type": "code",
   "execution_count": 9,
   "id": "6f201494",
   "metadata": {},
   "outputs": [
    {
     "data": {
      "image/png": "[encoded data removed]",
      "text/plain": [
       "<Figure size 864x288 with 1 Axes>"
      ]
     },
     "metadata": {
      "needs_background": "light"
     },
     "output_type": "display_data"
    }
   ],
   "source": [
    "piv.plot(logy=True, logx=True, title=\"FFT benchmark\", figsize=(12, 4));"
   ]
  },
  {
   "cell_type": "markdown",
   "id": "616099d8",
   "metadata": {},
   "source": [
    "## Profiling"
   ]
  },
  {
   "cell_type": "code",
   "execution_count": 10,
   "id": "531658bb",
   "metadata": {},
   "outputs": [
    {
     "name": "stdout",
     "output_type": "stream",
     "text": [
      "f                                        --    1    1 -- 0.00038 0.35412 -- <ipython-input-10-0b9ed5a82854>:7:f (f)\n",
      "    custom_fftn                          --  100  100 -- 0.00136 0.35373 -- <ipython-input-6-36fd258b5be1>:57:custom_fftn (custom_fftn)\n",
      "        custom_fft                       --  100  100 -- 0.06786 0.35228 -- <ipython-input-6-36fd258b5be1>:20:custom_fft (custom_fft)\n",
      "            _dft_cst                     --  100  100 -- 0.00076 0.28240 -- <ipython-input-6-36fd258b5be1>:4:_dft_cst (_dft_cst)\n",
      "                _arange                  --  200  200 -- 0.00055 0.00261 -- <ipython-input-6-36fd258b5be1>:5:_arange (_arange)\n",
      "                    <method '...objects> --  200  200 -- 0.00070 0.00070 -- ~:0:<method 'astype' of 'numpy.ndarray' objects> (<method 'astype' of 'numpy.ndarray' objects>)\n",
      "                    <method '...objects> --  200  200 -- 0.00040 0.00040 -- ~:0:<method 'reshape' of 'numpy.ndarray' objects> (<method 'reshape' of 'numpy.ndarray' objects>)\n",
      "                    <built-in....arange> --  200  200 -- 0.00096 0.00096 -- ~:0:<built-in method numpy.arange> (<built-in method numpy.arange>) +++\n",
      "                _prod                    --  100  100 -- 0.02399 0.02399 -- <ipython-input-6-36fd258b5be1>:8:_prod (_prod)\n",
      "                _exp                     --  100  100 -- 0.25505 0.25505 -- <ipython-input-6-36fd258b5be1>:11:_exp (_exp)\n",
      "            <listcomp>                   --  100  100 -- 0.00021 0.00021 -- <ipython-input-6-36fd258b5be1>:40:<listcomp> (<listcomp>)\n",
      "            <built-in met...uiltins.len> --  200  200 -- 0.00009 0.00009 -- ~:0:<built-in method builtins.len> (<built-in method builtins.len>) +++\n",
      "            <method 'toli...ay' objects> --  100  100 -- 0.00014 0.00014 -- ~:0:<method 'tolist' of 'numpy.ndarray' objects> (<method 'tolist' of 'numpy.ndarray' objects>)\n",
      "            <method 'tran...ay' objects> --  100  100 -- 0.00048 0.00048 -- ~:0:<method 'transpose' of 'numpy.ndarray' objects> (<method 'transpose' of 'numpy.ndarray' objects>)\n",
      "            <built-in met...umpy.arange> --  100  100 -- 0.00053 0.00053 -- ~:0:<built-in method numpy.arange> (<built-in method numpy.arange>) +++\n",
      "            <built-in met...numpy.zeros> --  100  100 -- 0.00057 0.00057 -- ~:0:<built-in method numpy.zeros> (<built-in method numpy.zeros>)\n",
      "        <built-in method builtins.len>   --  300  300 -- 0.00009 0.00009 -- ~:0:<built-in method builtins.len> (<built-in method builtins.len>) +++\n",
      "<built-in method builtins.len>           --  500  500 -- 0.00017 0.00017 -- ~:0:<built-in method builtins.len> (<built-in method builtins.len>)\n",
      "<built-in method numpy.arange>           --  300  300 -- 0.00149 0.00149 -- ~:0:<built-in method numpy.arange> (<built-in method numpy.arange>)\n"
     ]
    }
   ],
   "source": [
    "from pyquickhelper.pycode.profiling import profile2graph, profile\n",
    "\n",
    "shape = [4, 131]\n",
    "fft_length = [128]\n",
    "axes = [1]\n",
    "\n",
    "def f():\n",
    "    for i in range(100):\n",
    "        custom_fftn(rnd, 'FFT', fft_length, axes)\n",
    "\n",
    "stat, text = profile(f)\n",
    "gr = profile2graph(stat)\n",
    "print(gr[0].to_text(fct_width=40))"
   ]
  },
  {
   "cell_type": "markdown",
   "id": "461ff78f",
   "metadata": {},
   "source": [
    "We can see that function `_dft_cst` is the bottle neck and more precisely the exponential. We need to use the symmetries of the matrix it builds."
   ]
  },
  {
   "cell_type": "markdown",
   "id": "0bda47b7",
   "metadata": {},
   "source": [
    "## Faster _dft_cst\n",
    "\n",
    "The function builds the matrix $M_{nk} = \\left( \\exp\\left(\\frac{-2i\\pi nk}{K}\\right) \\right)_{nk}$ where $1 \\leqslant n \\leqslant N$ and $1 \\leqslant k \\leqslant K$. So it computes powers of the unity roots.\n",
    "\n",
    "$$\n",
    "\\exp\\left(\\frac{-2i\\pi nk}{K}\\right) = \\exp\\left(\\frac{-2i\\pi k}{K}\\right)^n = \\exp\\left(\\frac{-2i\\pi}{K}\\right)^{nk}\n",
    "$$\n",
    "\n",
    "We use that expression to reduce the number of exponentiels to compute."
   ]
  },
  {
   "cell_type": "code",
   "execution_count": 11,
   "id": "8b60fd16",
   "metadata": {},
   "outputs": [
    {
     "data": {
      "text/plain": [
       "((3, 4), dtype('complex64'))"
      ]
     },
     "execution_count": 11,
     "metadata": {},
     "output_type": "execute_result"
    }
   ],
   "source": [
    "import numpy\n",
    "from numpy.testing import assert_almost_equal\n",
    "\n",
    "def _dft_cst(N, fft_length, dtype=numpy.float32):\n",
    "    def _arange(dim, dtype, resh):\n",
    "        return numpy.arange(dim).astype(dtype).reshape(resh)\n",
    "\n",
    "    n = _arange(N, dtype, (-1, 1))\n",
    "    k = _arange(fft_length, dtype, (1, -1))\n",
    "    M = (-2j * numpy.pi * k / fft_length) * n\n",
    "    numpy.exp(M, out=M)\n",
    "    return M\n",
    "\n",
    "\n",
    "M = _dft_cst(3, 4, numpy.float32)\n",
    "M.shape, M.dtype"
   ]
  },
  {
   "cell_type": "code",
   "execution_count": 12,
   "id": "a28b3b4d",
   "metadata": {},
   "outputs": [
    {
     "data": {
      "text/plain": [
       "((4, 3), dtype('complex128'))"
      ]
     },
     "execution_count": 12,
     "metadata": {},
     "output_type": "execute_result"
    }
   ],
   "source": [
    "M = _dft_cst(4, 3, numpy.float64)\n",
    "M.shape, M.dtype"
   ]
  },
  {
   "cell_type": "code",
   "execution_count": 13,
   "id": "00263b93",
   "metadata": {},
   "outputs": [
    {
     "data": {
      "text/plain": [
       "array([[ 1. +0.00000000e+00j,  1. +0.00000000e+00j,  1. +0.00000000e+00j],\n",
       "       [ 1. +0.00000000e+00j, -0.5-8.66025404e-01j, -0.5+8.66025404e-01j],\n",
       "       [ 1. +0.00000000e+00j, -0.5+8.66025404e-01j, -0.5-8.66025404e-01j],\n",
       "       [ 1. +0.00000000e+00j,  1. +2.44929360e-16j,  1. +4.89858720e-16j]])"
      ]
     },
     "execution_count": 13,
     "metadata": {},
     "output_type": "execute_result"
    }
   ],
   "source": [
    "M"
   ]
  },
  {
   "cell_type": "code",
   "execution_count": 14,
   "id": "30466d1b",
   "metadata": {},
   "outputs": [
    {
     "data": {
      "text/plain": [
       "array([[ 1. +0.00000000e+00j,  1. +0.00000000e+00j,  1. +0.00000000e+00j],\n",
       "       [ 1. +0.00000000e+00j, -0.5-8.66025404e-01j, -0.5+8.66025404e-01j],\n",
       "       [ 1. +0.00000000e+00j, -0.5+8.66025404e-01j, -0.5-8.66025404e-01j],\n",
       "       [ 1. +0.00000000e+00j,  1. +6.10622664e-16j,  1. +1.22124533e-15j]])"
      ]
     },
     "execution_count": 14,
     "metadata": {},
     "output_type": "execute_result"
    }
   ],
   "source": [
    "def _dft_cst_power(N, fft_length, dtype=numpy.float32):\n",
    "    if dtype == numpy.float32:\n",
    "        ctype = numpy.complex64\n",
    "    else:\n",
    "        ctype = numpy.complex128\n",
    "    M = numpy.empty((N, fft_length), dtype=ctype)\n",
    "    M[0, :] = 1\n",
    "    M[1, 0] = 1\n",
    "    root = numpy.exp(numpy.pi / fft_length * (-2j))\n",
    "    current = root\n",
    "    M[1, 1] = root\n",
    "    for i in range(2, M.shape[1]):\n",
    "        current *= root\n",
    "        M[1, i] = current\n",
    "    for i in range(2, M.shape[0]):\n",
    "        numpy.multiply(M[i-1, :], M[1, :], out=M[i, :])\n",
    "    return M\n",
    "\n",
    "M_pow = _dft_cst_power(4, 3, numpy.float64)\n",
    "M_pow"
   ]
  },
  {
   "cell_type": "code",
   "execution_count": 15,
   "id": "b06966c8",
   "metadata": {},
   "outputs": [],
   "source": [
    "assert_almost_equal(M, M_pow)"
   ]
  },
  {
   "cell_type": "code",
   "execution_count": 16,
   "id": "5bd6fb60",
   "metadata": {},
   "outputs": [],
   "source": [
    "dims = (10, 15)\n",
    "assert_almost_equal(_dft_cst(*dims, dtype=numpy.float32), \n",
    "                    _dft_cst_power(*dims, dtype=numpy.float32),\n",
    "                    decimal=5)"
   ]
  },
  {
   "cell_type": "markdown",
   "id": "e5c5a886",
   "metadata": {},
   "source": [
    "## Benchmark again"
   ]
  },
  {
   "cell_type": "code",
   "execution_count": 17,
   "id": "fe6461ae",
   "metadata": {},
   "outputs": [
    {
     "data": {
      "text/plain": [
       "40"
      ]
     },
     "execution_count": 17,
     "metadata": {},
     "output_type": "execute_result"
    }
   ],
   "source": [
    "def custom_fftn_power(*args, **kwargs):\n",
    "    return custom_fftn(*args, dft_fct=_dft_cst_power, **kwargs)\n",
    "\n",
    "\n",
    "test_fct(numpy_fftn, custom_fftn_power, decimal=4)"
   ]
  },
  {
   "cell_type": "code",
   "execution_count": 18,
   "id": "1b8a96bd",
   "metadata": {},
   "outputs": [
    {
     "name": "stderr",
     "output_type": "stream",
     "text": [
      "100%|██████████| 22/22 [00:05<00:00,  3.78it/s]\n"
     ]
    },
    {
     "data": {
      "text/html": [
       "<div>\n",
       "<style scoped>\n",
       "    .dataframe tbody tr th:only-of-type {\n",
       "        vertical-align: middle;\n",
       "    }\n",
       "\n",
       "    .dataframe tbody tr th {\n",
       "        vertical-align: top;\n",
       "    }\n",
       "\n",
       "    .dataframe thead th {\n",
       "        text-align: right;\n",
       "    }\n",
       "</style>\n",
       "<table border=\"1\" class=\"dataframe\">\n",
       "  <thead>\n",
       "    <tr style=\"text-align: right;\">\n",
       "      <th>name</th>\n",
       "      <th>custom_fftn</th>\n",
       "      <th>custom_fftn_power</th>\n",
       "      <th>numpy_fftn</th>\n",
       "      <th>torch_fftn</th>\n",
       "    </tr>\n",
       "    <tr>\n",
       "      <th>length</th>\n",
       "      <th></th>\n",
       "      <th></th>\n",
       "      <th></th>\n",
       "      <th></th>\n",
       "    </tr>\n",
       "  </thead>\n",
       "  <tbody>\n",
       "    <tr>\n",
       "      <th>8</th>\n",
       "      <td>0.000897</td>\n",
       "      <td>0.000437</td>\n",
       "      <td>0.000438</td>\n",
       "      <td>0.000795</td>\n",
       "    </tr>\n",
       "    <tr>\n",
       "      <th>16</th>\n",
       "      <td>0.001008</td>\n",
       "      <td>0.000885</td>\n",
       "      <td>0.000263</td>\n",
       "      <td>0.001031</td>\n",
       "    </tr>\n",
       "    <tr>\n",
       "      <th>24</th>\n",
       "      <td>0.001533</td>\n",
       "      <td>0.001024</td>\n",
       "      <td>0.000211</td>\n",
       "      <td>0.000826</td>\n",
       "    </tr>\n",
       "    <tr>\n",
       "      <th>32</th>\n",
       "      <td>0.001322</td>\n",
       "      <td>0.000723</td>\n",
       "      <td>0.000146</td>\n",
       "      <td>0.000583</td>\n",
       "    </tr>\n",
       "    <tr>\n",
       "      <th>40</th>\n",
       "      <td>0.002187</td>\n",
       "      <td>0.001045</td>\n",
       "      <td>0.000108</td>\n",
       "      <td>0.000463</td>\n",
       "    </tr>\n",
       "  </tbody>\n",
       "</table>\n",
       "</div>"
      ],
      "text/plain": [
       "name    custom_fftn  custom_fftn_power  numpy_fftn  torch_fftn\n",
       "length                                                        \n",
       "8          0.000897           0.000437    0.000438    0.000795\n",
       "16         0.001008           0.000885    0.000263    0.001031\n",
       "24         0.001533           0.001024    0.000211    0.000826\n",
       "32         0.001322           0.000723    0.000146    0.000583\n",
       "40         0.002187           0.001045    0.000108    0.000463"
      ]
     },
     "execution_count": 18,
     "metadata": {},
     "output_type": "execute_result"
    }
   ],
   "source": [
    "df = benchmark({\n",
    "    'numpy_fftn': numpy_fftn, 'torch_fftn': torch_fftn, 'custom_fftn': custom_fftn, \n",
    "    'custom_fftn_power': custom_fftn_power})\n",
    "piv = df.pivot(\"length\", \"name\", \"average\")\n",
    "piv[:5]"
   ]
  },
  {
   "cell_type": "code",
   "execution_count": 19,
   "id": "fed4aca3",
   "metadata": {},
   "outputs": [
    {
     "data": {
      "image/png": "[encoded data removed]",
      "text/plain": [
       "<Figure size 864x288 with 1 Axes>"
      ]
     },
     "metadata": {
      "needs_background": "light"
     },
     "output_type": "display_data"
    }
   ],
   "source": [
    "piv.plot(logy=True, logx=True, title=\"FFT benchmark 2\", figsize=(12, 4));"
   ]
  },
  {
   "cell_type": "code",
   "execution_count": 20,
   "id": "a1e20e71",
   "metadata": {},
   "outputs": [
    {
     "name": "stdout",
     "output_type": "stream",
     "text": [
      "f                                        --    1    1 -- 0.00030 0.07171 -- <ipython-input-20-33b1bb0b6440>:7:f (f)\n",
      "    custom_fftn_power                    --  100  100 -- 0.00028 0.07141 -- <ipython-input-17-d2b4c01c14a6>:1:custom_fftn_power (custom_fftn_power)\n",
      "        custom_fftn                      --  100  100 -- 0.00095 0.07114 -- <ipython-input-6-36fd258b5be1>:57:custom_fftn (custom_fftn)\n",
      "            custom_fft                   --  100  100 -- 0.03531 0.07013 -- <ipython-input-6-36fd258b5be1>:20:custom_fft (custom_fft)\n",
      "                _dft_cst_power           --  100  100 -- 0.03307 0.03331 -- <ipython-input-14-8502f1ddbe1f>:1:_dft_cst_power (_dft_cst_power)\n",
      "                    <built-in...y.empty> --  100  100 -- 0.00024 0.00024 -- ~:0:<built-in method numpy.empty> (<built-in method numpy.empty>)\n",
      "                <listcomp>               --  100  100 -- 0.00013 0.00013 -- <ipython-input-6-36fd258b5be1>:40:<listcomp> (<listcomp>)\n",
      "                <built-in m...ltins.len> --  200  200 -- 0.00004 0.00004 -- ~:0:<built-in method builtins.len> (<built-in method builtins.len>) +++\n",
      "                <method 'to...' objects> --  100  100 -- 0.00010 0.00010 -- ~:0:<method 'tolist' of 'numpy.ndarray' objects> (<method 'tolist' of 'numpy.ndarray' objects>)\n",
      "                <method 'tr...' objects> --  100  100 -- 0.00044 0.00044 -- ~:0:<method 'transpose' of 'numpy.ndarray' objects> (<method 'transpose' of 'numpy.ndarray' objects>)\n",
      "                <built-in m...py.arange> --  100  100 -- 0.00041 0.00041 -- ~:0:<built-in method numpy.arange> (<built-in method numpy.arange>)\n",
      "                <built-in m...mpy.zeros> --  100  100 -- 0.00038 0.00038 -- ~:0:<built-in method numpy.zeros> (<built-in method numpy.zeros>)\n",
      "            <built-in met...uiltins.len> --  300  300 -- 0.00006 0.00006 -- ~:0:<built-in method builtins.len> (<built-in method builtins.len>) +++\n",
      "<built-in method builtins.len>           --  500  500 -- 0.00010 0.00010 -- ~:0:<built-in method builtins.len> (<built-in method builtins.len>)\n"
     ]
    }
   ],
   "source": [
    "from pyquickhelper.pycode.profiling import profile2graph, profile\n",
    "\n",
    "shape = [4, 131]\n",
    "fft_length = [128]\n",
    "axes = [1]\n",
    "\n",
    "def f():\n",
    "    for i in range(100):\n",
    "        custom_fftn_power(rnd, 'FFT', fft_length, axes)\n",
    "\n",
    "stat, text = profile(f)\n",
    "gr = profile2graph(stat)\n",
    "print(gr[0].to_text(fct_width=40))"
   ]
  },
  {
   "cell_type": "markdown",
   "id": "9eb94363",
   "metadata": {},
   "source": [
    "## Cooley–Tukey FFT algorithm\n",
    "\n",
    "See [Cooley–Tukey FFT algorithm](https://en.wikipedia.org/wiki/Cooley%E2%80%93Tukey_FFT_algorithm).\n",
    "\n",
    "The FFT matrix is defined by the matrix computation $F_{ak} = X_{an} M_{nk}$, then one coefficient is ($1 \\leqslant n, k \\leqslant K$):\n",
    "\n",
    "$$\n",
    "F_{ak} = \\sum_n X_{an} M_{nk} = \\sum_n X_{an} \\exp\\left(\\frac{-2i\\pi}{K}\\right)^{nk}\n",
    "$$\n",
    "\n",
    "Let's assume K is even, then $\\exp\\left(\\frac{-2i\\pi k}{K}\\right) = -\\exp\\left(\\frac{-2i\\pi \\left(k + \\frac{K}{2}\\right)}{K}\\right)$."
   ]
  },
  {
   "cell_type": "code",
   "execution_count": 21,
   "id": "4e9fdaa1",
   "metadata": {},
   "outputs": [
    {
     "data": {
      "image/png": "[encoded data removed]",
      "text/plain": [
       "<Figure size 216x216 with 1 Axes>"
      ]
     },
     "metadata": {
      "needs_background": "light"
     },
     "output_type": "display_data"
    }
   ],
   "source": [
    "import matplotlib.pyplot as plt\n",
    "fig, ax = plt.subplots(1, 1, figsize=(3, 3))\n",
    "a = numpy.arange(0, 12) * (-2 * numpy.pi / 12)\n",
    "X = numpy.vstack([numpy.cos(a), numpy.sin(a)]).T\n",
    "ax.plot(X[:, 0], X[:, 1], 'o');\n",
    "for i in range(0, 12):\n",
    "    ax.text(X[i, 0], X[i, 1], \"exp(-2pi %d/12)\" % i)\n",
    "ax.set_title('unit roots');"
   ]
  },
  {
   "cell_type": "markdown",
   "id": "193cdc8c",
   "metadata": {},
   "source": [
    "Then:\n",
    "\n",
    "$$\n",
    "\\begin{array}{rcl}\n",
    "F_{a,k + \\frac{K}{2}} &=& \\sum_{n=1}^{N} X_{an} \\exp\\left(\\frac{-2i\\pi}{K}\\right)^{n\\left(k + \\frac{K}{2}\\right)} \\\\\n",
    "&=&\\sum_{n=1}^{N} X_{an} (-1)^n \\exp\\left(\\frac{-2i\\pi}{K}\\right)^{nk} \\\\\n",
    "&=&\\sum_{m=1}^{\\frac{N}{2}} X_{a,2m} \\exp\\left(\\frac{-2i\\pi}{K}\\right)^{2mk} - \\sum_{m=1}^{\\frac{N}{2}} X_{a,2m-1} \\exp\\left(\\frac{-2i\\pi}{K}\\right)^{(2m-1)k} \\\\\n",
    "&=&\\sum_{m=1}^{\\frac{N}{2}} X_{a,2m} \\exp\\left(\\frac{-2i\\pi}{K}\\right)^{2mk} - \\sum_{m=1}^{\\frac{N}{2}} X_{a,2m-1} \\exp\\left(\\frac{-2i\\pi}{K}\\right)^{2mk} \\exp\\left(\\frac{-2i\\pi}{K}\\right)^{-k}\n",
    "\\end{array}\n",
    "$$\n",
    "\n",
    "Then:\n",
    "\n",
    "$$\n",
    "\\begin{array}{rcl}\n",
    "F_{a,k} + F_{a,k+\\frac{K}{2}} &=& 2\\sum_{m=1}^{\\frac{N}{2}} X_{a,2m}  \\exp\\left(\\frac{-2i\\pi}{K}\\right)^{2mk} \\\\\n",
    "&=& 2\\sum_{m=1}^{\\frac{N}{2}} X_{a,2m}  \\exp\\left(\\frac{-2i\\pi}{\\frac{K}{2}}\\right)^{mk}\n",
    "\\end{array}\n",
    "$$"
   ]
  },
  {
   "cell_type": "code",
   "execution_count": null,
   "id": "dab833ae",
   "metadata": {},
   "outputs": [],
   "source": []
  }
 ],
 "metadata": {
  "kernelspec": {
   "display_name": "Python 3",
   "language": "python",
   "name": "python3"
  },
  "language_info": {
   "codemirror_mode": {
    "name": "ipython",
    "version": 3
   },
   "file_extension": ".py",
   "mimetype": "text/x-python",
   "name": "python",
   "nbconvert_exporter": "python",
   "pygments_lexer": "ipython3",
   "version": "3.9.5"
  }
 },
 "nbformat": 4,
 "nbformat_minor": 5
}
