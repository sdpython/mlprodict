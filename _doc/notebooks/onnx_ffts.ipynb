{
 "cells": [
  {
   "cell_type": "markdown",
   "id": "c760c855",
   "metadata": {},
   "source": [
    "# ONNX FFTs\n",
    "\n",
    "Implementation of a couple of variations of FFT (see [FFT](https://www.tensorflow.org/xla/operation_semantics#fft) in ONNX."
   ]
  },
  {
   "cell_type": "code",
   "execution_count": 1,
   "id": "ddecaddb",
   "metadata": {},
   "outputs": [
    {
     "data": {
      "text/html": [
       "<div id=\"my_id_menu_nb\">run previous cell, wait for 2 seconds</div>\n",
       "<script>\n",
       "function repeat_indent_string(n){\n",
       "    var a = \"\" ;\n",
       "    for ( ; n > 0 ; --n)\n",
       "        a += \"    \";\n",
       "    return a;\n",
       "}\n",
       "// look up into all sections and builds an automated menu //\n",
       "var update_menu_string = function(begin, lfirst, llast, sformat, send, keep_item, begin_format, end_format) {\n",
       "    var anchors = document.getElementsByClassName(\"section\");\n",
       "    if (anchors.length == 0) {\n",
       "        anchors = document.getElementsByClassName(\"text_cell_render rendered_html\");\n",
       "    }\n",
       "    var i,t;\n",
       "    var text_menu = begin;\n",
       "    var text_memo = \"<pre>\\nlength:\" + anchors.length + \"\\n\";\n",
       "    var ind = \"\";\n",
       "    var memo_level = 1;\n",
       "    var href;\n",
       "    var tags = [];\n",
       "    var main_item = 0;\n",
       "    var format_open = 0;\n",
       "    for (i = 0; i <= llast; i++)\n",
       "        tags.push(\"h\" + i);\n",
       "\n",
       "    for (i = 0; i < anchors.length; i++) {\n",
       "        text_memo += \"**\" + anchors[i].id + \"--\\n\";\n",
       "\n",
       "        var child = null;\n",
       "        for(t = 0; t < tags.length; t++) {\n",
       "            var r = anchors[i].getElementsByTagName(tags[t]);\n",
       "            if (r.length > 0) {\n",
       "child = r[0];\n",
       "break;\n",
       "            }\n",
       "        }\n",
       "        if (child == null) {\n",
       "            text_memo += \"null\\n\";\n",
       "            continue;\n",
       "        }\n",
       "        if (anchors[i].hasAttribute(\"id\")) {\n",
       "            // when converted in RST\n",
       "            href = anchors[i].id;\n",
       "            text_memo += \"#1-\" + href;\n",
       "            // passer à child suivant (le chercher)\n",
       "        }\n",
       "        else if (child.hasAttribute(\"id\")) {\n",
       "            // in a notebook\n",
       "            href = child.id;\n",
       "            text_memo += \"#2-\" + href;\n",
       "        }\n",
       "        else {\n",
       "            text_memo += \"#3-\" + \"*\" + \"\\n\";\n",
       "            continue;\n",
       "        }\n",
       "        var title = child.textContent;\n",
       "        var level = parseInt(child.tagName.substring(1,2));\n",
       "\n",
       "        text_memo += \"--\" + level + \"?\" + lfirst + \"--\" + title + \"\\n\";\n",
       "\n",
       "        if ((level < lfirst) || (level > llast)) {\n",
       "            continue ;\n",
       "        }\n",
       "        if (title.endsWith('¶')) {\n",
       "            title = title.substring(0,title.length-1).replace(\"<\", \"&lt;\")\n",
       "         .replace(\">\", \"&gt;\").replace(\"&\", \"&amp;\");\n",
       "        }\n",
       "        if (title.length == 0) {\n",
       "            continue;\n",
       "        }\n",
       "\n",
       "        while (level < memo_level) {\n",
       "            text_menu += end_format + \"</ul>\\n\";\n",
       "            format_open -= 1;\n",
       "            memo_level -= 1;\n",
       "        }\n",
       "        if (level == lfirst) {\n",
       "            main_item += 1;\n",
       "        }\n",
       "        if (keep_item != -1 && main_item != keep_item + 1) {\n",
       "            // alert(main_item + \" - \" + level + \" - \" + keep_item);\n",
       "            continue;\n",
       "        }\n",
       "        while (level > memo_level) {\n",
       "            text_menu += \"<ul>\\n\";\n",
       "            memo_level += 1;\n",
       "        }\n",
       "        text_menu += repeat_indent_string(level-2);\n",
       "        text_menu += begin_format + sformat.replace(\"__HREF__\", href).replace(\"__TITLE__\", title);\n",
       "        format_open += 1;\n",
       "    }\n",
       "    while (1 < memo_level) {\n",
       "        text_menu += end_format + \"</ul>\\n\";\n",
       "        memo_level -= 1;\n",
       "        format_open -= 1;\n",
       "    }\n",
       "    text_menu += send;\n",
       "    //text_menu += \"\\n\" + text_memo;\n",
       "\n",
       "    while (format_open > 0) {\n",
       "        text_menu += end_format;\n",
       "        format_open -= 1;\n",
       "    }\n",
       "    return text_menu;\n",
       "};\n",
       "var update_menu = function() {\n",
       "    var sbegin = \"\";\n",
       "    var sformat = '<a href=\"#__HREF__\">__TITLE__</a>';\n",
       "    var send = \"\";\n",
       "    var begin_format = '<li>';\n",
       "    var end_format = '</li>';\n",
       "    var keep_item = -1;\n",
       "    var text_menu = update_menu_string(sbegin, 2, 4, sformat, send, keep_item,\n",
       "       begin_format, end_format);\n",
       "    var menu = document.getElementById(\"my_id_menu_nb\");\n",
       "    menu.innerHTML=text_menu;\n",
       "};\n",
       "window.setTimeout(update_menu,2000);\n",
       "            </script>"
      ],
      "text/plain": [
       "<IPython.core.display.HTML object>"
      ]
     },
     "execution_count": 1,
     "metadata": {},
     "output_type": "execute_result"
    }
   ],
   "source": [
    "from jyquickhelper import add_notebook_menu\n",
    "add_notebook_menu()"
   ]
  },
  {
   "cell_type": "code",
   "execution_count": 2,
   "id": "75f2064c",
   "metadata": {},
   "outputs": [],
   "source": [
    "%load_ext mlprodict"
   ]
  },
  {
   "cell_type": "markdown",
   "id": "05a249a3",
   "metadata": {},
   "source": [
    "## Signature\n",
    "\n",
    "We try to use function [FFT](https://www.tensorflow.org/xla/operation_semantics#fft) or [torch.fft.fftn](https://pytorch.org/docs/stable/generated/torch.fft.fftn.html#torch.fft.fftn)."
   ]
  },
  {
   "cell_type": "code",
   "execution_count": 3,
   "id": "6e2fc017",
   "metadata": {},
   "outputs": [
    {
     "data": {
      "text/plain": [
       "40"
      ]
     },
     "execution_count": 3,
     "metadata": {},
     "output_type": "execute_result"
    }
   ],
   "source": [
    "import numpy\n",
    "from numpy.testing import assert_almost_equal\n",
    "\n",
    "def numpy_fftn(x, fft_type, fft_length, axes):\n",
    "    \"\"\"\n",
    "    Implements FFT\n",
    "\n",
    "    :param x: input\n",
    "    :param fft_type: string (see below)\n",
    "    :param fft_length: length on each axis of axes\n",
    "    :param axes: axes\n",
    "    :return: result\n",
    "    \n",
    "    * `'FFT`': complex-to-complex FFT. Shape is unchanged.\n",
    "    * `'IFFT`': Inverse complex-to-complex FFT. Shape is unchanged.\n",
    "    * `'RFFT`': Forward real-to-complex FFT.\n",
    "      Shape of the innermost axis is reduced to fft_length[-1] // 2 + 1 if fft_length[-1]\n",
    "      is a non-zero value, omitting the reversed conjugate part of \n",
    "      the transformed signal beyond the Nyquist frequency.\n",
    "    * `'IRFFT`': Inverse real-to-complex FFT (ie takes complex, returns real).\n",
    "      Shape of the innermost axis is expanded to fft_length[-1] if fft_length[-1] \n",
    "      is a non-zero value, inferring the part of the transformed signal beyond the Nyquist\n",
    "      frequency from the reverse conjugate of the 1 to fft_length[-1] // 2 + 1 entries.\n",
    "    \"\"\"\n",
    "    if fft_type == 'FFT':\n",
    "        return numpy.fft.fftn(x, fft_length, axes=axes)\n",
    "    raise NotImplementedError(\"Not implemented for fft_type=%r.\" % fft_type)\n",
    "    \n",
    "\n",
    "def test_fct(fct1, fct2, fft_type='FFT', decimal=5):\n",
    "    dims = [[4,4,4,4],\n",
    "            [4,5,6,7]]\n",
    "    lengths_axes = [([2, 2, 2, 2], None),\n",
    "                    ([2, 6, 7, 2], None),\n",
    "                    ([2, 3, 4, 5], None),\n",
    "                    ([2], [3]),\n",
    "                    ([3], [2])]\n",
    "    n_test = 0\n",
    "    for ndim in range(1, 5):\n",
    "        for dim in dims:\n",
    "            for length, axes in lengths_axes:\n",
    "                if axes is None:\n",
    "                    axes = range(ndim)\n",
    "                axes = [min(ndim - 1, a) for a in axes]\n",
    "                di = dim[:ndim]\n",
    "                le = length[:ndim]\n",
    "                mat = numpy.random.randn(*di).astype(numpy.float32)\n",
    "                try:\n",
    "                    v1 = fct1(mat, fft_type, le, axes=axes)\n",
    "                except Exception as e:\n",
    "                    raise AssertionError(\n",
    "                        \"Unable to run %r mat.shape=%r ndim=%r fft_type=%r le=%r \"\n",
    "                        \"axes=%r exc=%r\" %(\n",
    "                            fct1, mat.shape, ndim, fft_type, le, axes, e))\n",
    "                v2 = fct2(mat, fft_type, le, axes=axes)\n",
    "                try:\n",
    "                    assert_almost_equal(v1, v2, decimal=decimal)\n",
    "                except AssertionError as e:\n",
    "                    raise AssertionError(\n",
    "                        \"Failure mat.shape=%r, fft_type=%r, fft_length=%r\" % (\n",
    "                            mat.shape, fft_type, le)) from e\n",
    "                n_test += 1\n",
    "    return n_test\n",
    "                    \n",
    "test_fct(numpy_fftn, numpy_fftn)"
   ]
  },
  {
   "cell_type": "code",
   "execution_count": 4,
   "id": "9de9a43f",
   "metadata": {},
   "outputs": [
    {
     "data": {
      "text/plain": [
       "40"
      ]
     },
     "execution_count": 4,
     "metadata": {},
     "output_type": "execute_result"
    }
   ],
   "source": [
    "import torch\n",
    "\n",
    "def torch_fftn(x, fft_type, fft_length, axes):\n",
    "    xt = torch.tensor(x)\n",
    "    if fft_type == 'FFT':\n",
    "        return torch.fft.fftn(xt, fft_length, axes).cpu().detach().numpy()\n",
    "    \n",
    "test_fct(numpy_fftn, torch_fftn)"
   ]
  },
  {
   "cell_type": "markdown",
   "id": "e55d6dbf",
   "metadata": {},
   "source": [
    "## Numpy implementation"
   ]
  },
  {
   "cell_type": "code",
   "execution_count": 68,
   "id": "aa74068d",
   "metadata": {},
   "outputs": [],
   "source": [
    "import numpy\n",
    "\n",
    "\n",
    "def _dft_cst(N, fft_length, dtype):\n",
    "    def _arange(dim, dtype, resh):\n",
    "        return numpy.arange(dim).astype(dtype).reshape(resh)\n",
    "\n",
    "    def _prod(n, k):\n",
    "        return (-2j * numpy.pi * k / fft_length) * n\n",
    "\n",
    "    def _exp(m):\n",
    "        return numpy.exp(m)\n",
    "    \n",
    "    n = _arange(N, dtype, (-1, 1))\n",
    "    k = _arange(fft_length, dtype, (1, -1))\n",
    "    M = _exp(_prod(n, k))\n",
    "    return M\n",
    "\n",
    "\n",
    "def custom_fft(x, fft_type, length, axis):\n",
    "    # https://github.com/numpy/numpy/blob/4adc87dff15a247e417d50f10cc4def8e1c17a03/numpy/fft/_pocketfft.py#L56\n",
    "    if fft_type == 'FFT':\n",
    "        if x.shape[axis] > length:\n",
    "            # fft_length > shape on the same axis\n",
    "            # the matrix is shortened\n",
    "            slices = [slice(None)] * len(x.shape)\n",
    "            slices[axis] = slice(0, length)\n",
    "            new_x = x[tuple(slices)]\n",
    "        elif x.shape[axis] == length:\n",
    "            new_x = x\n",
    "        else:\n",
    "            # other, the matrix is completed with zeros\n",
    "            shape = list(x.shape)\n",
    "            shape[axis] = length\n",
    "            slices = [slice(None)] * len(x.shape)\n",
    "            slices[axis] = slice(0, length)\n",
    "            zeros = numpy.zeros(tuple(shape), dtype=x.dtype)\n",
    "            index = [slice(0, i) for i in x.shape]\n",
    "            zeros[tuple(index)] = x\n",
    "            new_x = zeros\n",
    "\n",
    "        cst = _dft_cst(new_x.shape[axis], length, x.dtype)\n",
    "        perm = numpy.arange(len(x.shape)).tolist()        \n",
    "        if perm[axis] == perm[-1]:\n",
    "            res = numpy.matmul(new_x, cst).transpose(perm)\n",
    "        else:\n",
    "            perm[axis], perm[-1] = perm[-1], perm[axis]            \n",
    "            rest = new_x.transpose(perm)\n",
    "            res = numpy.matmul(rest, cst).transpose(perm)\n",
    "            perm[axis], perm[0] = perm[0], perm[axis]\n",
    "        return res\n",
    "    raise ValueError(\"Unexpected value for fft_type=%r.\" % fft_type)\n",
    "\n",
    "\n",
    "def custom_fftn(x, fft_type, fft_length, axes):\n",
    "    if len(axes) != len(fft_length):\n",
    "        raise ValueError(\"Length mismatch axes=%r, fft_length=%r.\" % (\n",
    "           axes, fft_length))\n",
    "    if fft_type == 'FFT':\n",
    "        res = x\n",
    "        for i in range(len(fft_length) - 1, -1, -1):\n",
    "            length = fft_length[i]\n",
    "            axis = axes[i]\n",
    "            res = custom_fft(res, fft_type, length, axis)\n",
    "        return res\n",
    "    raise ValueError(\"Unexpected value for fft_type=%r.\" % fft_type)\n",
    "\n",
    "    \n",
    "img = 1j\n",
    "shape = (4, )\n",
    "fft_length = [5,]\n",
    "axes = [0]\n",
    "rnd = numpy.random.randn(*shape) + numpy.random.randn(*shape) * img\n",
    "custom_fftn(rnd, 'FFT', fft_length, axes), numpy_fftn(rnd, 'FFT', fft_length, axes)\n",
    "assert_almost_equal(custom_fftn(rnd, 'FFT', fft_length, axes),\n",
    "                    numpy_fftn(rnd, 'FFT', fft_length, axes), decimal=5)\n",
    "\n",
    "img = 1j\n",
    "shape = (4, 3)\n",
    "fft_length = [3, 2]\n",
    "axes = [0, 1]\n",
    "rnd = numpy.random.randn(*shape) + numpy.random.randn(*shape) * img\n",
    "custom_fftn(rnd, 'FFT', fft_length, axes), numpy_fftn(rnd, 'FFT', fft_length, axes)\n",
    "assert_almost_equal(custom_fftn(rnd, 'FFT', fft_length, axes),\n",
    "                    numpy_fftn(rnd, 'FFT', fft_length, axes), decimal=5)"
   ]
  },
  {
   "cell_type": "code",
   "execution_count": 69,
   "id": "5c454666",
   "metadata": {},
   "outputs": [
    {
     "data": {
      "text/plain": [
       "40"
      ]
     },
     "execution_count": 69,
     "metadata": {},
     "output_type": "execute_result"
    }
   ],
   "source": [
    "test_fct(numpy_fftn, custom_fftn, decimal=4)"
   ]
  },
  {
   "cell_type": "markdown",
   "id": "f27bd70d",
   "metadata": {},
   "source": [
    "## Benchmark"
   ]
  },
  {
   "cell_type": "code",
   "execution_count": 70,
   "id": "507d8348",
   "metadata": {},
   "outputs": [
    {
     "name": "stderr",
     "output_type": "stream",
     "text": [
      "100%|██████████| 40/40 [00:12<00:00,  3.17it/s]\n"
     ]
    },
    {
     "data": {
      "text/html": [
       "<div>\n",
       "<style scoped>\n",
       "    .dataframe tbody tr th:only-of-type {\n",
       "        vertical-align: middle;\n",
       "    }\n",
       "\n",
       "    .dataframe tbody tr th {\n",
       "        vertical-align: top;\n",
       "    }\n",
       "\n",
       "    .dataframe thead th {\n",
       "        text-align: right;\n",
       "    }\n",
       "</style>\n",
       "<table border=\"1\" class=\"dataframe\">\n",
       "  <thead>\n",
       "    <tr style=\"text-align: right;\">\n",
       "      <th>name</th>\n",
       "      <th>custom_fftn</th>\n",
       "      <th>numpy_fftn</th>\n",
       "      <th>torch_fftn</th>\n",
       "    </tr>\n",
       "    <tr>\n",
       "      <th>length</th>\n",
       "      <th></th>\n",
       "      <th></th>\n",
       "      <th></th>\n",
       "    </tr>\n",
       "  </thead>\n",
       "  <tbody>\n",
       "    <tr>\n",
       "      <th>8</th>\n",
       "      <td>0.000425</td>\n",
       "      <td>0.000375</td>\n",
       "      <td>0.000427</td>\n",
       "    </tr>\n",
       "    <tr>\n",
       "      <th>16</th>\n",
       "      <td>0.000935</td>\n",
       "      <td>0.000106</td>\n",
       "      <td>0.000859</td>\n",
       "    </tr>\n",
       "    <tr>\n",
       "      <th>24</th>\n",
       "      <td>0.000982</td>\n",
       "      <td>0.000245</td>\n",
       "      <td>0.000365</td>\n",
       "    </tr>\n",
       "    <tr>\n",
       "      <th>32</th>\n",
       "      <td>0.001050</td>\n",
       "      <td>0.000112</td>\n",
       "      <td>0.000350</td>\n",
       "    </tr>\n",
       "    <tr>\n",
       "      <th>40</th>\n",
       "      <td>0.001459</td>\n",
       "      <td>0.000123</td>\n",
       "      <td>0.000368</td>\n",
       "    </tr>\n",
       "  </tbody>\n",
       "</table>\n",
       "</div>"
      ],
      "text/plain": [
       "name    custom_fftn  numpy_fftn  torch_fftn\n",
       "length                                     \n",
       "8          0.000425    0.000375    0.000427\n",
       "16         0.000935    0.000106    0.000859\n",
       "24         0.000982    0.000245    0.000365\n",
       "32         0.001050    0.000112    0.000350\n",
       "40         0.001459    0.000123    0.000368"
      ]
     },
     "execution_count": 70,
     "metadata": {},
     "output_type": "execute_result"
    }
   ],
   "source": [
    "from cpyquickhelper.numbers.speed_measure import measure_time\n",
    "from tqdm import tqdm\n",
    "from pandas import DataFrame\n",
    "\n",
    "rnd = numpy.random.randn(*shape) + numpy.random.randn(*shape) * img\n",
    "shape = [4, 131]\n",
    "axes = [1]\n",
    "\n",
    "data = []\n",
    "for length in tqdm(range(8, 324, 8)):\n",
    "    fft_length = [length]\n",
    "    obs = measure_time(lambda: numpy_fftn(rnd, 'FFT', fft_length, axes),\n",
    "                       repeat=10, number=10)\n",
    "    obs['name'] = 'numpy_fftn'\n",
    "    obs['length'] = length\n",
    "    data.append(obs)\n",
    "    obs = measure_time(lambda: custom_fftn(rnd, 'FFT', fft_length, axes),\n",
    "                       repeat=10, number=10)\n",
    "    obs['name'] = 'custom_fftn'\n",
    "    obs['length'] = length\n",
    "    data.append(obs)\n",
    "    obs = measure_time(lambda: torch_fftn(rnd, 'FFT', fft_length, axes),\n",
    "                       repeat=10, number=10)\n",
    "    obs['name'] = 'torch_fftn'\n",
    "    obs['length'] = length\n",
    "    data.append(obs)\n",
    "\n",
    "df = DataFrame(data)\n",
    "piv = df.pivot(\"length\", \"name\", \"average\")\n",
    "piv[:5]"
   ]
  },
  {
   "cell_type": "code",
   "execution_count": 71,
   "id": "6f201494",
   "metadata": {},
   "outputs": [
    {
     "data": {
      "image/png": "[encoded data removed]",
      "text/plain": [
       "<Figure size 864x288 with 1 Axes>"
      ]
     },
     "metadata": {
      "needs_background": "light"
     },
     "output_type": "display_data"
    }
   ],
   "source": [
    "piv.plot(logy=True, logx=True, title=\"FFT benchmark\", figsize=(12, 4));"
   ]
  },
  {
   "cell_type": "markdown",
   "id": "616099d8",
   "metadata": {},
   "source": [
    "## Profiling"
   ]
  },
  {
   "cell_type": "code",
   "execution_count": 72,
   "id": "531658bb",
   "metadata": {},
   "outputs": [
    {
     "name": "stdout",
     "output_type": "stream",
     "text": [
      "f                                        --    1    1 -- 0.00017 0.13530 -- <ipython-input-72-0b9ed5a82854>:7:f (f)\n",
      "    custom_fftn                          --  100  100 -- 0.00064 0.13513 -- <ipython-input-68-a6efd5215b48>:55:custom_fftn (custom_fftn)\n",
      "        custom_fft                       --  100  100 -- 0.00664 0.13445 -- <ipython-input-68-a6efd5215b48>:20:custom_fft (custom_fft)\n",
      "            _dft_cst                     --  100  100 -- 0.00054 0.12676 -- <ipython-input-68-a6efd5215b48>:4:_dft_cst (_dft_cst)\n",
      "                _arange                  --  200  200 -- 0.00028 0.00131 -- <ipython-input-68-a6efd5215b48>:5:_arange (_arange)\n",
      "                    <method '...objects> --  200  200 -- 0.00046 0.00046 -- ~:0:<method 'astype' of 'numpy.ndarray' objects> (<method 'astype' of 'numpy.ndarray' objects>)\n",
      "                    <method '...objects> --  200  200 -- 0.00022 0.00022 -- ~:0:<method 'reshape' of 'numpy.ndarray' objects> (<method 'reshape' of 'numpy.ndarray' objects>)\n",
      "                    <built-in....arange> --  200  200 -- 0.00035 0.00035 -- ~:0:<built-in method numpy.arange> (<built-in method numpy.arange>) +++\n",
      "                _prod                    --  100  100 -- 0.01235 0.01235 -- <ipython-input-68-a6efd5215b48>:8:_prod (_prod)\n",
      "                _exp                     --  100  100 -- 0.11257 0.11257 -- <ipython-input-68-a6efd5215b48>:11:_exp (_exp)\n",
      "            <listcomp>                   --  100  100 -- 0.00010 0.00010 -- <ipython-input-68-a6efd5215b48>:38:<listcomp> (<listcomp>)\n",
      "            <method 'toli...ay' objects> --  100  100 -- 0.00008 0.00008 -- ~:0:<method 'tolist' of 'numpy.ndarray' objects> (<method 'tolist' of 'numpy.ndarray' objects>)\n",
      "            <method 'tran...ay' objects> --  100  100 -- 0.00015 0.00015 -- ~:0:<method 'transpose' of 'numpy.ndarray' objects> (<method 'transpose' of 'numpy.ndarray' objects>)\n",
      "            <built-in met...umpy.arange> --  100  100 -- 0.00043 0.00043 -- ~:0:<built-in method numpy.arange> (<built-in method numpy.arange>) +++\n",
      "            <built-in met...numpy.zeros> --  100  100 -- 0.00023 0.00023 -- ~:0:<built-in method numpy.zeros> (<built-in method numpy.zeros>)\n",
      "            <built-in met...uiltins.len> --  200  200 -- 0.00005 0.00005 -- ~:0:<built-in method builtins.len> (<built-in method builtins.len>) +++\n",
      "        <built-in method builtins.len>   --  300  300 -- 0.00004 0.00004 -- ~:0:<built-in method builtins.len> (<built-in method builtins.len>) +++\n",
      "<built-in method builtins.len>           --  500  500 -- 0.00009 0.00009 -- ~:0:<built-in method builtins.len> (<built-in method builtins.len>)\n",
      "<built-in method numpy.arange>           --  300  300 -- 0.00078 0.00078 -- ~:0:<built-in method numpy.arange> (<built-in method numpy.arange>)\n"
     ]
    }
   ],
   "source": [
    "from pyquickhelper.pycode.profiling import profile2graph, profile\n",
    "\n",
    "shape = [4, 131]\n",
    "fft_length = [128]\n",
    "axes = [1]\n",
    "\n",
    "def f():\n",
    "    for i in range(100):\n",
    "        custom_fftn(rnd, 'FFT', fft_length, axes)\n",
    "\n",
    "stat, text = profile(f)\n",
    "gr = profile2graph(stat)\n",
    "print(gr[0].to_text(fct_width=40))"
   ]
  },
  {
   "cell_type": "code",
   "execution_count": null,
   "id": "66584d22",
   "metadata": {},
   "outputs": [],
   "source": []
  },
  {
   "cell_type": "code",
   "execution_count": null,
   "id": "d02df127",
   "metadata": {},
   "outputs": [],
   "source": []
  },
  {
   "cell_type": "code",
   "execution_count": null,
   "id": "8b60fd16",
   "metadata": {},
   "outputs": [],
   "source": []
  },
  {
   "cell_type": "code",
   "execution_count": null,
   "id": "30466d1b",
   "metadata": {},
   "outputs": [],
   "source": []
  }
 ],
 "metadata": {
  "kernelspec": {
   "display_name": "Python 3",
   "language": "python",
   "name": "python3"
  },
  "language_info": {
   "codemirror_mode": {
    "name": "ipython",
    "version": 3
   },
   "file_extension": ".py",
   "mimetype": "text/x-python",
   "name": "python",
   "nbconvert_exporter": "python",
   "pygments_lexer": "ipython3",
   "version": "3.9.5"
  }
 },
 "nbformat": 4,
 "nbformat_minor": 5
}
