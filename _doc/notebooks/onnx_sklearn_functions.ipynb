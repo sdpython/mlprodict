{
  "cells": [
    {
      "cell_type": "markdown",
      "id": "78f74622",
      "metadata": {},
      "source": [
        "# Use function when converting into ONNX\n",
        "\n",
        "Once a a scikit-learn model is converting into ONNX, there is no easy way to retrieve the original scikit-learn model. The following notebook explores an alternative way to convert a model into ONNX by using functions. In this new method, every piece of a pipeline becomes a function."
      ]
    },
    {
      "cell_type": "code",
      "execution_count": 1,
      "id": "29fac993",
      "metadata": {},
      "outputs": [
        {
          "data": {
            "text/html": [
              "<div id=\"my_id_menu_nb\">run previous cell, wait for 2 seconds</div>\n",
              "<script>\n",
              "function repeat_indent_string(n){\n",
              "    var a = \"\" ;\n",
              "    for ( ; n > 0 ; --n)\n",
              "        a += \"    \";\n",
              "    return a;\n",
              "}\n",
              "// look up into all sections and builds an automated menu //\n",
              "var update_menu_string = function(begin, lfirst, llast, sformat, send, keep_item, begin_format, end_format) {\n",
              "    var anchors = document.getElementsByClassName(\"section\");\n",
              "    if (anchors.length == 0) {\n",
              "        anchors = document.getElementsByClassName(\"text_cell_render rendered_html\");\n",
              "    }\n",
              "    var i,t;\n",
              "    var text_menu = begin;\n",
              "    var text_memo = \"<pre>\\nlength:\" + anchors.length + \"\\n\";\n",
              "    var ind = \"\";\n",
              "    var memo_level = 1;\n",
              "    var href;\n",
              "    var tags = [];\n",
              "    var main_item = 0;\n",
              "    var format_open = 0;\n",
              "    for (i = 0; i <= llast; i++)\n",
              "        tags.push(\"h\" + i);\n",
              "\n",
              "    for (i = 0; i < anchors.length; i++) {\n",
              "        text_memo += \"**\" + anchors[i].id + \"--\\n\";\n",
              "\n",
              "        var child = null;\n",
              "        for(t = 0; t < tags.length; t++) {\n",
              "            var r = anchors[i].getElementsByTagName(tags[t]);\n",
              "            if (r.length > 0) {\n",
              "child = r[0];\n",
              "break;\n",
              "            }\n",
              "        }\n",
              "        if (child == null) {\n",
              "            text_memo += \"null\\n\";\n",
              "            continue;\n",
              "        }\n",
              "        if (anchors[i].hasAttribute(\"id\")) {\n",
              "            // when converted in RST\n",
              "            href = anchors[i].id;\n",
              "            text_memo += \"#1-\" + href;\n",
              "            // passer \u00e0 child suivant (le chercher)\n",
              "        }\n",
              "        else if (child.hasAttribute(\"id\")) {\n",
              "            // in a notebook\n",
              "            href = child.id;\n",
              "            text_memo += \"#2-\" + href;\n",
              "        }\n",
              "        else {\n",
              "            text_memo += \"#3-\" + \"*\" + \"\\n\";\n",
              "            continue;\n",
              "        }\n",
              "        var title = child.textContent;\n",
              "        var level = parseInt(child.tagName.substring(1,2));\n",
              "\n",
              "        text_memo += \"--\" + level + \"?\" + lfirst + \"--\" + title + \"\\n\";\n",
              "\n",
              "        if ((level < lfirst) || (level > llast)) {\n",
              "            continue ;\n",
              "        }\n",
              "        if (title.endsWith('\u00b6')) {\n",
              "            title = title.substring(0,title.length-1).replace(\"<\", \"&lt;\")\n",
              "         .replace(\">\", \"&gt;\").replace(\"&\", \"&amp;\");\n",
              "        }\n",
              "        if (title.length == 0) {\n",
              "            continue;\n",
              "        }\n",
              "\n",
              "        while (level < memo_level) {\n",
              "            text_menu += end_format + \"</ul>\\n\";\n",
              "            format_open -= 1;\n",
              "            memo_level -= 1;\n",
              "        }\n",
              "        if (level == lfirst) {\n",
              "            main_item += 1;\n",
              "        }\n",
              "        if (keep_item != -1 && main_item != keep_item + 1) {\n",
              "            // alert(main_item + \" - \" + level + \" - \" + keep_item);\n",
              "            continue;\n",
              "        }\n",
              "        while (level > memo_level) {\n",
              "            text_menu += \"<ul>\\n\";\n",
              "            memo_level += 1;\n",
              "        }\n",
              "        text_menu += repeat_indent_string(level-2);\n",
              "        text_menu += begin_format + sformat.replace(\"__HREF__\", href).replace(\"__TITLE__\", title);\n",
              "        format_open += 1;\n",
              "    }\n",
              "    while (1 < memo_level) {\n",
              "        text_menu += end_format + \"</ul>\\n\";\n",
              "        memo_level -= 1;\n",
              "        format_open -= 1;\n",
              "    }\n",
              "    text_menu += send;\n",
              "    //text_menu += \"\\n\" + text_memo;\n",
              "\n",
              "    while (format_open > 0) {\n",
              "        text_menu += end_format;\n",
              "        format_open -= 1;\n",
              "    }\n",
              "    return text_menu;\n",
              "};\n",
              "var update_menu = function() {\n",
              "    var sbegin = \"\";\n",
              "    var sformat = '<a href=\"#__HREF__\">__TITLE__</a>';\n",
              "    var send = \"\";\n",
              "    var begin_format = '<li>';\n",
              "    var end_format = '</li>';\n",
              "    var keep_item = -1;\n",
              "    var text_menu = update_menu_string(sbegin, 2, 4, sformat, send, keep_item,\n",
              "       begin_format, end_format);\n",
              "    var menu = document.getElementById(\"my_id_menu_nb\");\n",
              "    menu.innerHTML=text_menu;\n",
              "};\n",
              "window.setTimeout(update_menu,2000);\n",
              "            </script>"
            ],
            "text/plain": [
              "<IPython.core.display.HTML object>"
            ]
          },
          "execution_count": 2,
          "metadata": {},
          "output_type": "execute_result"
        }
      ],
      "source": [
        "from jyquickhelper import add_notebook_menu\n",
        "add_notebook_menu()"
      ]
    },
    {
      "cell_type": "code",
      "execution_count": 2,
      "id": "f16158a4",
      "metadata": {},
      "outputs": [],
      "source": [
        "%matplotlib inline"
      ]
    },
    {
      "cell_type": "code",
      "execution_count": 3,
      "id": "e41ab68c",
      "metadata": {},
      "outputs": [],
      "source": [
        "%load_ext mlprodict"
      ]
    },
    {
      "cell_type": "markdown",
      "id": "0e7d5c44",
      "metadata": {},
      "source": [
        "## A pipeline"
      ]
    },
    {
      "cell_type": "code",
      "execution_count": 4,
      "id": "2298a80e",
      "metadata": {},
      "outputs": [
        {
          "data": {
            "text/html": [
              "<style>#sk-container-id-1 {color: black;background-color: white;}#sk-container-id-1 pre{padding: 0;}#sk-container-id-1 div.sk-toggleable {background-color: white;}#sk-container-id-1 label.sk-toggleable__label {cursor: pointer;display: block;width: 100%;margin-bottom: 0;padding: 0.3em;box-sizing: border-box;text-align: center;}#sk-container-id-1 label.sk-toggleable__label-arrow:before {content: \"\u25b8\";float: left;margin-right: 0.25em;color: #696969;}#sk-container-id-1 label.sk-toggleable__label-arrow:hover:before {color: black;}#sk-container-id-1 div.sk-estimator:hover label.sk-toggleable__label-arrow:before {color: black;}#sk-container-id-1 div.sk-toggleable__content {max-height: 0;max-width: 0;overflow: hidden;text-align: left;background-color: #f0f8ff;}#sk-container-id-1 div.sk-toggleable__content pre {margin: 0.2em;color: black;border-radius: 0.25em;background-color: #f0f8ff;}#sk-container-id-1 input.sk-toggleable__control:checked~div.sk-toggleable__content {max-height: 200px;max-width: 100%;overflow: auto;}#sk-container-id-1 input.sk-toggleable__control:checked~label.sk-toggleable__label-arrow:before {content: \"\u25be\";}#sk-container-id-1 div.sk-estimator input.sk-toggleable__control:checked~label.sk-toggleable__label {background-color: #d4ebff;}#sk-container-id-1 div.sk-label input.sk-toggleable__control:checked~label.sk-toggleable__label {background-color: #d4ebff;}#sk-container-id-1 input.sk-hidden--visually {border: 0;clip: rect(1px 1px 1px 1px);clip: rect(1px, 1px, 1px, 1px);height: 1px;margin: -1px;overflow: hidden;padding: 0;position: absolute;width: 1px;}#sk-container-id-1 div.sk-estimator {font-family: monospace;background-color: #f0f8ff;border: 1px dotted black;border-radius: 0.25em;box-sizing: border-box;margin-bottom: 0.5em;}#sk-container-id-1 div.sk-estimator:hover {background-color: #d4ebff;}#sk-container-id-1 div.sk-parallel-item::after {content: \"\";width: 100%;border-bottom: 1px solid gray;flex-grow: 1;}#sk-container-id-1 div.sk-label:hover label.sk-toggleable__label {background-color: #d4ebff;}#sk-container-id-1 div.sk-serial::before {content: \"\";position: absolute;border-left: 1px solid gray;box-sizing: border-box;top: 0;bottom: 0;left: 50%;z-index: 0;}#sk-container-id-1 div.sk-serial {display: flex;flex-direction: column;align-items: center;background-color: white;padding-right: 0.2em;padding-left: 0.2em;position: relative;}#sk-container-id-1 div.sk-item {position: relative;z-index: 1;}#sk-container-id-1 div.sk-parallel {display: flex;align-items: stretch;justify-content: center;background-color: white;position: relative;}#sk-container-id-1 div.sk-item::before, #sk-container-id-1 div.sk-parallel-item::before {content: \"\";position: absolute;border-left: 1px solid gray;box-sizing: border-box;top: 0;bottom: 0;left: 50%;z-index: -1;}#sk-container-id-1 div.sk-parallel-item {display: flex;flex-direction: column;z-index: 1;position: relative;background-color: white;}#sk-container-id-1 div.sk-parallel-item:first-child::after {align-self: flex-end;width: 50%;}#sk-container-id-1 div.sk-parallel-item:last-child::after {align-self: flex-start;width: 50%;}#sk-container-id-1 div.sk-parallel-item:only-child::after {width: 0;}#sk-container-id-1 div.sk-dashed-wrapped {border: 1px dashed gray;margin: 0 0.4em 0.5em 0.4em;box-sizing: border-box;padding-bottom: 0.4em;background-color: white;}#sk-container-id-1 div.sk-label label {font-family: monospace;font-weight: bold;display: inline-block;line-height: 1.2em;}#sk-container-id-1 div.sk-label-container {text-align: center;}#sk-container-id-1 div.sk-container {/* jupyter's `normalize.less` sets `[hidden] { display: none; }` but bootstrap.min.css set `[hidden] { display: none !important; }` so we also need the `!important` here to be able to override the default hidden behavior on the sphinx rendered scikit-learn.org. See: https://github.com/scikit-learn/scikit-learn/issues/21755 */display: inline-block !important;position: relative;}#sk-container-id-1 div.sk-text-repr-fallback {display: none;}</style><div id=\"sk-container-id-1\" class=\"sk-top-container\"><div class=\"sk-text-repr-fallback\"><pre>Pipeline(steps=[(&#x27;preprocessing&#x27;, StandardScaler()),\n",
              "                (&#x27;classifier&#x27;,\n",
              "                 LogisticRegression(penalty=&#x27;l1&#x27;, solver=&#x27;liblinear&#x27;))])</pre><b>In a Jupyter environment, please rerun this cell to show the HTML representation or trust the notebook. <br />On GitHub, the HTML representation is unable to render, please try loading this page with nbviewer.org.</b></div><div class=\"sk-container\" hidden><div class=\"sk-item sk-dashed-wrapped\"><div class=\"sk-label-container\"><div class=\"sk-label sk-toggleable\"><input class=\"sk-toggleable__control sk-hidden--visually\" id=\"sk-estimator-id-1\" type=\"checkbox\" ><label for=\"sk-estimator-id-1\" class=\"sk-toggleable__label sk-toggleable__label-arrow\">Pipeline</label><div class=\"sk-toggleable__content\"><pre>Pipeline(steps=[(&#x27;preprocessing&#x27;, StandardScaler()),\n",
              "                (&#x27;classifier&#x27;,\n",
              "                 LogisticRegression(penalty=&#x27;l1&#x27;, solver=&#x27;liblinear&#x27;))])</pre></div></div></div><div class=\"sk-serial\"><div class=\"sk-item\"><div class=\"sk-estimator sk-toggleable\"><input class=\"sk-toggleable__control sk-hidden--visually\" id=\"sk-estimator-id-2\" type=\"checkbox\" ><label for=\"sk-estimator-id-2\" class=\"sk-toggleable__label sk-toggleable__label-arrow\">StandardScaler</label><div class=\"sk-toggleable__content\"><pre>StandardScaler()</pre></div></div></div><div class=\"sk-item\"><div class=\"sk-estimator sk-toggleable\"><input class=\"sk-toggleable__control sk-hidden--visually\" id=\"sk-estimator-id-3\" type=\"checkbox\" ><label for=\"sk-estimator-id-3\" class=\"sk-toggleable__label sk-toggleable__label-arrow\">LogisticRegression</label><div class=\"sk-toggleable__content\"><pre>LogisticRegression(penalty=&#x27;l1&#x27;, solver=&#x27;liblinear&#x27;)</pre></div></div></div></div></div></div></div>"
            ],
            "text/plain": [
              "Pipeline(steps=[('preprocessing', StandardScaler()),\n",
              "                ('classifier',\n",
              "                 LogisticRegression(penalty='l1', solver='liblinear'))])"
            ]
          },
          "execution_count": 5,
          "metadata": {},
          "output_type": "execute_result"
        }
      ],
      "source": [
        "from sklearn.pipeline import Pipeline\n",
        "from sklearn.datasets import load_iris\n",
        "from sklearn.preprocessing import StandardScaler\n",
        "from sklearn.linear_model import LogisticRegression\n",
        "from sklearn import set_config\n",
        "set_config(display=\"diagram\")\n",
        "\n",
        "data = load_iris()\n",
        "X, y = data.data, data.target\n",
        "steps = [\n",
        "    (\"preprocessing\", StandardScaler()),\n",
        "    (\"classifier\", LogisticRegression(penalty='l1', solver=\"liblinear\"))]\n",
        "pipe = Pipeline(steps)\n",
        "pipe.fit(X, y)"
      ]
    },
    {
      "cell_type": "markdown",
      "id": "c63a1d2a",
      "metadata": {},
      "source": [
        "## Its conversion into ONNX"
      ]
    },
    {
      "cell_type": "markdown",
      "id": "d240cac4",
      "metadata": {},
      "source": [
        "### Without functions"
      ]
    },
    {
      "cell_type": "code",
      "execution_count": 5,
      "id": "0eb53ecd",
      "metadata": {
        "scrolled": false
      },
      "outputs": [
        {
          "name": "stdout",
          "output_type": "stream",
          "text": [
            "opset: domain='' version=14\n",
            "opset: domain='ai.onnx.ml' version=1\n",
            "input: name='X' type=dtype('float64') shape=[None, 4]\n",
            "init: name='Su_Subcst' type=dtype('float64') shape=(4,) -- array([5.84333333, 3.05733333, 3.758     , 1.19933333])\n",
            "init: name='Di_Divcst' type=dtype('float64') shape=(4,) -- array([0.82530129, 0.43441097, 1.75940407, 0.75969263])\n",
            "init: name='coef' type=dtype('float64') shape=(12,)\n",
            "init: name='intercept' type=dtype('float64') shape=(3,) -- array([-1.86506089, -0.89658497, -4.56614529])\n",
            "init: name='classes' type=dtype('int32') shape=(3,) -- array([0, 1, 2])\n",
            "init: name='shape_tensor' type=dtype('int64') shape=(1,) -- array([-1], dtype=int64)\n",
            "init: name='axis' type=dtype('int64') shape=(1,) -- array([1], dtype=int64)\n",
            "Sub(X, Su_Subcst) -> Su_C0\n",
            "  Div(Su_C0, Di_Divcst) -> variable\n",
            "    MatMul(variable, coef) -> multiplied\n",
            "      Add(multiplied, intercept) -> raw_scores\n",
            "        Sigmoid(raw_scores) -> raw_scoressig\n",
            "          Abs(raw_scoressig) -> norm_abs\n",
            "            ReduceSum(norm_abs, axis, keepdims=1) -> norm\n",
            "          Div(raw_scoressig, norm) -> probabilities\n",
            "        ArgMax(raw_scores, axis=1) -> label1\n",
            "          ArrayFeatureExtractor(classes, label1) -> array_feature_extractor_result\n",
            "            Cast(array_feature_extractor_result, to=11) -> cast2_result\n",
            "              Reshape(cast2_result, shape_tensor) -> reshaped_result\n",
            "                Cast(reshaped_result, to=7) -> label\n",
            "output: name='label' type=dtype('int64') shape=[None]\n",
            "output: name='probabilities' type=dtype('float64') shape=[None, 3]\n"
          ]
        }
      ],
      "source": [
        "from mlprodict.plotting.text_plot import onnx_simple_text_plot\n",
        "from mlprodict.onnx_conv import to_onnx\n",
        "\n",
        "onx = to_onnx(pipe, X, options={'zipmap': False})\n",
        "print(onnx_simple_text_plot(onx))"
      ]
    },
    {
      "cell_type": "code",
      "execution_count": 6,
      "id": "adbaf06d",
      "metadata": {},
      "outputs": [
        {
          "data": {
            "text/html": [
              "<div id=\"M029b29cf65244839b1a0ae2c87b5f22e-cont\"><div id=\"M029b29cf65244839b1a0ae2c87b5f22e\" style=\"width:;height:;\"></div></div>\n",
              "<script>\n",
              "\n",
              "require(['http://www.xavierdupre.fr/js/vizjs/viz.js'], function() { var svgGraph = Viz(\"digraph{\\n  nodesep=0.05;\\n  orientation=portrait;\\n  size=7;\\n  ranksep=0.25;\\n\\n  X [shape=box color=red label=\\\"X\\ndouble((0, 4))\\\" fontsize=10];\\n\\n  label [shape=box color=green label=\\\"label\\nint64((0,))\\\" fontsize=10];\\n  probabilities [shape=box color=green label=\\\"probabilities\\ndouble((0, 3))\\\" fontsize=10];\\n\\n  Su_Subcst [shape=box label=\\\"Su_Subcst\\nfloat64((4,))\\n[5.84333333 3.05733333 3.758      1.19933333]\\\" fontsize=10];\\n  Di_Divcst [shape=box label=\\\"Di_Divcst\\nfloat64((4,))\\n[0.82530129 0.43441097 1.75940407 0.75969263]\\\" fontsize=10];\\n  coef [shape=box label=\\\"coef\\nfloat64((4, 3))\\n[[ 0.          0.03422181  0.        ]\\n [ 1.204580...\\\" fontsize=10];\\n  intercept [shape=box label=\\\"intercept\\nfloat64((1, 3))\\n[[-1.86506089 -0.89658497 -4.56614529]]\\\" fontsize=10];\\n  classes [shape=box label=\\\"classes\\nint32((3,))\\n[0 1 2]\\\" fontsize=10];\\n  shape_tensor [shape=box label=\\\"shape_tensor\\nint64((1,))\\n[-1]\\\" fontsize=10];\\n  axis [shape=box label=\\\"axis\\nint64((1,))\\n[1]\\\" fontsize=10];\\n\\n  Su_C0 [shape=box label=\\\"Su_C0\\\" fontsize=10];\\n  Su_Sub [shape=box style=\\\"filled,rounded\\\" color=orange label=\\\"Sub\\n(Su_Sub)\\\" fontsize=10];\\n  X -> Su_Sub;\\n  Su_Subcst -> Su_Sub;\\n  Su_Sub -> Su_C0;\\n\\n  variable [shape=box label=\\\"variable\\\" fontsize=10];\\n  Di_Div [shape=box style=\\\"filled,rounded\\\" color=orange label=\\\"Div\\n(Di_Div)\\\" fontsize=10];\\n  Su_C0 -> Di_Div;\\n  Di_Divcst -> Di_Div;\\n  Di_Div -> variable;\\n\\n  multiplied [shape=box label=\\\"multiplied\\\" fontsize=10];\\n  MatMul [shape=box style=\\\"filled,rounded\\\" color=orange label=\\\"MatMul\\n(MatMul)\\\" fontsize=10];\\n  variable -> MatMul;\\n  coef -> MatMul;\\n  MatMul -> multiplied;\\n\\n  raw_scores [shape=box label=\\\"raw_scores\\\" fontsize=10];\\n  Add [shape=box style=\\\"filled,rounded\\\" color=orange label=\\\"Add\\n(Add)\\\" fontsize=10];\\n  multiplied -> Add;\\n  intercept -> Add;\\n  Add -> raw_scores;\\n\\n  raw_scoressig [shape=box label=\\\"raw_scoressig\\\" fontsize=10];\\n  Sigmoid [shape=box style=\\\"filled,rounded\\\" color=orange label=\\\"Sigmoid\\n(Sigmoid)\\\" fontsize=10];\\n  raw_scores -> Sigmoid;\\n  Sigmoid -> raw_scoressig;\\n\\n  label1 [shape=box label=\\\"label1\\\" fontsize=10];\\n  ArgMax [shape=box style=\\\"filled,rounded\\\" color=orange label=\\\"ArgMax\\n(ArgMax)\\naxis=1\\\" fontsize=10];\\n  raw_scores -> ArgMax;\\n  ArgMax -> label1;\\n\\n  array_feature_extractor_result [shape=box label=\\\"array_feature_extractor_result\\\" fontsize=10];\\n  ArrayFeatureExtractor [shape=box style=\\\"filled,rounded\\\" color=orange label=\\\"ArrayFeatureExtractor\\n(ArrayFeatureExtractor)\\\" fontsize=10];\\n  classes -> ArrayFeatureExtractor;\\n  label1 -> ArrayFeatureExtractor;\\n  ArrayFeatureExtractor -> array_feature_extractor_result;\\n\\n  norm_abs [shape=box label=\\\"norm_abs\\\" fontsize=10];\\n  Abs [shape=box style=\\\"filled,rounded\\\" color=orange label=\\\"Abs\\n(Abs)\\\" fontsize=10];\\n  raw_scoressig -> Abs;\\n  Abs -> norm_abs;\\n\\n  norm [shape=box label=\\\"norm\\\" fontsize=10];\\n  ReduceSum [shape=box style=\\\"filled,rounded\\\" color=orange label=\\\"ReduceSum\\n(ReduceSum)\\nkeepdims=1\\\" fontsize=10];\\n  norm_abs -> ReduceSum;\\n  axis -> ReduceSum;\\n  ReduceSum -> norm;\\n\\n  cast2_result [shape=box label=\\\"cast2_result\\\" fontsize=10];\\n  Cast [shape=box style=\\\"filled,rounded\\\" color=orange label=\\\"Cast\\n(Cast)\\nto=11\\\" fontsize=10];\\n  array_feature_extractor_result -> Cast;\\n  Cast -> cast2_result;\\n\\n  NormalizerNorm [shape=box style=\\\"filled,rounded\\\" color=orange label=\\\"Div\\n(NormalizerNorm)\\\" fontsize=10];\\n  raw_scoressig -> NormalizerNorm;\\n  norm -> NormalizerNorm;\\n  NormalizerNorm -> probabilities;\\n\\n  reshaped_result [shape=box label=\\\"reshaped_result\\\" fontsize=10];\\n  Reshape [shape=box style=\\\"filled,rounded\\\" color=orange label=\\\"Reshape\\n(Reshape)\\\" fontsize=10];\\n  cast2_result -> Reshape;\\n  shape_tensor -> Reshape;\\n  Reshape -> reshaped_result;\\n\\n  Cast1 [shape=box style=\\\"filled,rounded\\\" color=orange label=\\\"Cast\\n(Cast1)\\nto=7\\\" fontsize=10];\\n  reshaped_result -> Cast1;\\n  Cast1 -> label;\\n}\");\n",
              "document.getElementById('M029b29cf65244839b1a0ae2c87b5f22e').innerHTML = svgGraph; });\n",
              "\n",
              "</script>"
            ],
            "text/plain": [
              "<jyquickhelper.jspy.render_nb_js_dot.RenderJsDot at 0x193d5fd0ca0>"
            ]
          },
          "execution_count": 7,
          "metadata": {},
          "output_type": "execute_result"
        }
      ],
      "source": [
        "%onnxview onx"
      ]
    },
    {
      "cell_type": "markdown",
      "id": "4868a3a9",
      "metadata": {},
      "source": [
        "### With functions"
      ]
    },
    {
      "cell_type": "code",
      "execution_count": 7,
      "id": "9953bddb",
      "metadata": {
        "scrolled": false
      },
      "outputs": [
        {
          "name": "stdout",
          "output_type": "stream",
          "text": [
            "No CUDA runtime is found, using CUDA_HOME='C:\\Program Files\\NVIDIA GPU Computing Toolkit\\CUDA\\v11.5'\n",
            "opset: domain='' version=15\n",
            "opset: domain='sklearn' version=1\n",
            "input: name='X' type=dtype('float64') shape=[None, 4]\n",
            "main___Pipeline_1734459081968[sklearn](X) -> main_classifier_label, main_classifier_probabilities\n",
            "output: name='main_classifier_label' type=dtype('int64') shape=[None]\n",
            "output: name='main_classifier_probabilities' type=dtype('float64') shape=[None, 3]\n",
            "----- function name=main__preprocessing___StandardScaler_1734202136896 domain=sklearn\n",
            "----- doc_string: HYPER:{\"StandardScaler\":{\"copy\": true, \"with_mean\": true, \"with_std\": true}}\n",
            "opset: domain='' version=14\n",
            "input: 'X'\n",
            "Constant(value=[5.8433333...) -> Su_Subcst\n",
            "  Sub(X, Su_Subcst) -> Su_C0\n",
            "Constant(value=[0.8253012...) -> Di_Divcst\n",
            "  Div(Su_C0, Di_Divcst) -> variable\n",
            "output: name='variable' type=? shape=?\n",
            "----- function name=main__classifier___LogisticRegression_1734202137184 domain=sklearn\n",
            "----- doc_string: HYPER:{\"LogisticRegression\":{\"C\": 1.0, \"class_weight\": null, \"dual\": false, \"fit_intercept\": true, \"intercept_scaling\": 1, \"l1_ratio\": null, \"max_iter\": 100, \"multi_class\": \"auto\", \"n_jobs\": null, \"penalty\": \"l1\", \"random_state\": null, \"solver\": \"liblinear\", \"tol\": 0.0001, \"verbose\": 0, \"warm_start\": false}}\n",
            "opset: domain='' version=13\n",
            "opset: domain='ai.onnx.ml' version=1\n",
            "input: 'X0'\n",
            "Constant(value=[[0.0, 0.0...) -> coef\n",
            "  MatMul(X0, coef) -> multiplied\n",
            "Constant(value=[[-1.86506...) -> intercept\n",
            "  Add(multiplied, intercept) -> raw_scores\n",
            "    ArgMax(raw_scores, axis=1) -> label1\n",
            "Constant(value=[0, 1, 2]) -> classes\n",
            "  ArrayFeatureExtractor(classes, label1) -> array_feature_extractor_result\n",
            "    Cast(array_feature_extractor_result, to=11) -> cast2_result\n",
            "Constant(value=[-1]) -> shape_tensor\n",
            "  Reshape(cast2_result, shape_tensor) -> reshaped_result\n",
            "    Cast(reshaped_result, to=7) -> label\n",
            "Constant(value=[1]) -> axis\n",
            "Sigmoid(raw_scores) -> raw_scoressig\n",
            "  Abs(raw_scoressig) -> norm_abs\n",
            "  ReduceSum(norm_abs, axis, keepdims=1) -> norm\n",
            "  Div(raw_scoressig, norm) -> probabilities\n",
            "output: name='label' type=? shape=?\n",
            "output: name='probabilities' type=? shape=?\n",
            "----- function name=main___Pipeline_1734459081968 domain=sklearn\n",
            "----- doc_string: HYPER:{\"Pipeline\":{\"memory\": null, \"steps\": [[\"preprocessing\", \"{\\\"classname\\\": \\\"StandardScaler\\\", \\\"EXC\\\": \\\"Object of type StandardScaler is not JSON serializable\\\"}\"], [\"classifier\", \"{\\\"classname\\\": \\\"LogisticRegression\\\", \\\"EXC\\\": \\\"Object of type LogisticRegression is not JSON serializable\\\"}\"]], \"verbose\": false}}\n",
            "opset: domain='' version=15\n",
            "opset: domain='sklearn' version=1\n",
            "input: 'X'\n",
            "main__preprocessing___StandardScaler_1734202136896[sklearn](X) -> preprocessing_variable\n",
            "  main__classifier___LogisticRegression_1734202137184[sklearn](preprocessing_variable) -> classifier_label, classifier_probabilities\n",
            "output: name='classifier_label' type=? shape=?\n",
            "output: name='classifier_probabilities' type=? shape=?\n"
          ]
        }
      ],
      "source": [
        "onxf = to_onnx(pipe, X, as_function=True, options={'zipmap': False})\n",
        "print(onnx_simple_text_plot(onxf))"
      ]
    },
    {
      "cell_type": "code",
      "execution_count": 8,
      "id": "ad103436",
      "metadata": {},
      "outputs": [
        {
          "data": {
            "text/html": [
              "<div id=\"Md5134c5046e74a1583cb8bbc3c33826d-cont\"><div id=\"Md5134c5046e74a1583cb8bbc3c33826d\" style=\"width:;height:;\"></div></div>\n",
              "<script>\n",
              "\n",
              "require(['http://www.xavierdupre.fr/js/vizjs/viz.js'], function() { var svgGraph = Viz(\"digraph{\\n  nodesep=0.05;\\n  orientation=portrait;\\n  size=7;\\n  ranksep=0.25;\\n\\n  X [shape=box color=red label=\\\"X\\ndouble((0, 4))\\\" fontsize=10];\\n\\n  main_classifier_label [shape=box color=green label=\\\"main_classifier_label\\nint64((0,))\\\" fontsize=10];\\n  main_classifier_probabilities [shape=box color=green label=\\\"main_classifier_probabilities\\ndouble((0, 3))\\\" fontsize=10];\\n\\n\\n  _fct_main___Pipeline_1734459081968 [shape=box style=\\\"filled,rounded\\\" color=orange label=\\\"main___Pipeline_1734459081968\\n(_fct_main___Pipeline_1734459081968)\\\" fontsize=10];\\n  X -> _fct_main___Pipeline_1734459081968;\\n  _fct_main___Pipeline_1734459081968 -> main_classifier_label;\\n  _fct_main___Pipeline_1734459081968 -> main_classifier_probabilities;\\n\\n  subgraph cluster_0 {\\n    label=\\\"main__preprocessing___StandardScaler_1734202136896\\\";\\n    color=blue;\\n    nodesep=0.05;\\n    orientation=portrait;\\n    size=7;\\n    ranksep=0.25;\\n  \\n    main__preprocessing___StandardScaler_1734202136896X [shape=box color=red label=\\\"X\\\" fontsize=10];\\n  \\n    main__preprocessing___StandardScaler_1734202136896variable [shape=box color=green label=\\\"variable\\\" fontsize=10];\\n  \\n  \\n    main__preprocessing___StandardScaler_1734202136896Su_Subcst [shape=box label=\\\"Su_Subcst\\\" fontsize=10];\\n    main__preprocessing___StandardScaler_1734202136896Constant [shape=box style=\\\"filled,rounded\\\" color=orange label=\\\"Constant\\n(Constant)\\nvalue=[5.84333333 3.05733333 3....\\\" fontsize=10];\\n    main__preprocessing___StandardScaler_1734202136896Constant -> main__preprocessing___StandardScaler_1734202136896Su_Subcst;\\n  \\n    main__preprocessing___StandardScaler_1734202136896Di_Divcst [shape=box label=\\\"Di_Divcst\\\" fontsize=10];\\n    main__preprocessing___StandardScaler_1734202136896Constant1 [shape=box style=\\\"filled,rounded\\\" color=orange label=\\\"Constant\\n(Constant1)\\nvalue=[0.82530129 0.43441097 1....\\\" fontsize=10];\\n    main__preprocessing___StandardScaler_1734202136896Constant1 -> main__preprocessing___StandardScaler_1734202136896Di_Divcst;\\n  \\n    main__preprocessing___StandardScaler_1734202136896Su_C0 [shape=box label=\\\"Su_C0\\\" fontsize=10];\\n    main__preprocessing___StandardScaler_1734202136896Su_Sub [shape=box style=\\\"filled,rounded\\\" color=orange label=\\\"Sub\\n(Su_Sub)\\\" fontsize=10];\\n    main__preprocessing___StandardScaler_1734202136896X -> main__preprocessing___StandardScaler_1734202136896Su_Sub;\\n    main__preprocessing___StandardScaler_1734202136896Su_Subcst -> main__preprocessing___StandardScaler_1734202136896Su_Sub;\\n    main__preprocessing___StandardScaler_1734202136896Su_Sub -> main__preprocessing___StandardScaler_1734202136896Su_C0;\\n  \\n    main__preprocessing___StandardScaler_1734202136896Di_Div [shape=box style=\\\"filled,rounded\\\" color=orange label=\\\"Div\\n(Di_Div)\\\" fontsize=10];\\n    main__preprocessing___StandardScaler_1734202136896Su_C0 -> main__preprocessing___StandardScaler_1734202136896Di_Div;\\n    main__preprocessing___StandardScaler_1734202136896Di_Divcst -> main__preprocessing___StandardScaler_1734202136896Di_Div;\\n    main__preprocessing___StandardScaler_1734202136896Di_Div -> main__preprocessing___StandardScaler_1734202136896variable;\\n  }\\n\\n  subgraph cluster_1 {\\n    label=\\\"main__classifier___LogisticRegression_1734202137184\\\";\\n    color=blue;\\n    nodesep=0.05;\\n    orientation=portrait;\\n    size=7;\\n    ranksep=0.25;\\n  \\n    main__classifier___LogisticRegression_1734202137184X0 [shape=box color=red label=\\\"X0\\\" fontsize=10];\\n  \\n    main__classifier___LogisticRegression_1734202137184label [shape=box color=green label=\\\"label\\\" fontsize=10];\\n    main__classifier___LogisticRegression_1734202137184probabilities [shape=box color=green label=\\\"probabilities\\\" fontsize=10];\\n  \\n  \\n    main__classifier___LogisticRegression_1734202137184coef [shape=box label=\\\"coef\\\" fontsize=10];\\n    main__classifier___LogisticRegression_1734202137184Constant [shape=box style=\\\"filled,rounded\\\" color=orange label=\\\"Constant\\n(Constant)\\nvalue=[[ 0.          0.03422181...\\\" fontsize=10];\\n    main__classifier___LogisticRegression_1734202137184Constant -> main__classifier___LogisticRegression_1734202137184coef;\\n  \\n    main__classifier___LogisticRegression_1734202137184intercept [shape=box label=\\\"intercept\\\" fontsize=10];\\n    main__classifier___LogisticRegression_1734202137184Constant1 [shape=box style=\\\"filled,rounded\\\" color=orange label=\\\"Constant\\n(Constant1)\\nvalue=[[-1.86506089 -0.89658497...\\\" fontsize=10];\\n    main__classifier___LogisticRegression_1734202137184Constant1 -> main__classifier___LogisticRegression_1734202137184intercept;\\n  \\n    main__classifier___LogisticRegression_1734202137184classes [shape=box label=\\\"classes\\\" fontsize=10];\\n    main__classifier___LogisticRegression_1734202137184Constant12 [shape=box style=\\\"filled,rounded\\\" color=orange label=\\\"Constant\\n(Constant12)\\nvalue=[0 1 2]\\\" fontsize=10];\\n    main__classifier___LogisticRegression_1734202137184Constant12 -> main__classifier___LogisticRegression_1734202137184classes;\\n  \\n    main__classifier___LogisticRegression_1734202137184shape_tensor [shape=box label=\\\"shape_tensor\\\" fontsize=10];\\n    main__classifier___LogisticRegression_1734202137184Constant123 [shape=box style=\\\"filled,rounded\\\" color=orange label=\\\"Constant\\n(Constant123)\\nvalue=[-1]\\\" fontsize=10];\\n    main__classifier___LogisticRegression_1734202137184Constant123 -> main__classifier___LogisticRegression_1734202137184shape_tensor;\\n  \\n    main__classifier___LogisticRegression_1734202137184axis [shape=box label=\\\"axis\\\" fontsize=10];\\n    main__classifier___LogisticRegression_1734202137184Constant1234 [shape=box style=\\\"filled,rounded\\\" color=orange label=\\\"Constant\\n(Constant1234)\\nvalue=[1]\\\" fontsize=10];\\n    main__classifier___LogisticRegression_1734202137184Constant1234 -> main__classifier___LogisticRegression_1734202137184axis;\\n  \\n    main__classifier___LogisticRegression_1734202137184multiplied [shape=box label=\\\"multiplied\\\" fontsize=10];\\n    main__classifier___LogisticRegression_1734202137184MatMul [shape=box style=\\\"filled,rounded\\\" color=orange label=\\\"MatMul\\n(MatMul)\\\" fontsize=10];\\n    main__classifier___LogisticRegression_1734202137184X0 -> main__classifier___LogisticRegression_1734202137184MatMul;\\n    main__classifier___LogisticRegression_1734202137184coef -> main__classifier___LogisticRegression_1734202137184MatMul;\\n    main__classifier___LogisticRegression_1734202137184MatMul -> main__classifier___LogisticRegression_1734202137184multiplied;\\n  \\n    main__classifier___LogisticRegression_1734202137184raw_scores [shape=box label=\\\"raw_scores\\\" fontsize=10];\\n    main__classifier___LogisticRegression_1734202137184Add [shape=box style=\\\"filled,rounded\\\" color=orange label=\\\"Add\\n(Add)\\\" fontsize=10];\\n    main__classifier___LogisticRegression_1734202137184multiplied -> main__classifier___LogisticRegression_1734202137184Add;\\n    main__classifier___LogisticRegression_1734202137184intercept -> main__classifier___LogisticRegression_1734202137184Add;\\n    main__classifier___LogisticRegression_1734202137184Add -> main__classifier___LogisticRegression_1734202137184raw_scores;\\n  \\n    main__classifier___LogisticRegression_1734202137184label1 [shape=box label=\\\"label1\\\" fontsize=10];\\n    main__classifier___LogisticRegression_1734202137184ArgMax [shape=box style=\\\"filled,rounded\\\" color=orange label=\\\"ArgMax\\n(ArgMax)\\naxis=1\\\" fontsize=10];\\n    main__classifier___LogisticRegression_1734202137184raw_scores -> main__classifier___LogisticRegression_1734202137184ArgMax;\\n    main__classifier___LogisticRegression_1734202137184ArgMax -> main__classifier___LogisticRegression_1734202137184label1;\\n  \\n    main__classifier___LogisticRegression_1734202137184raw_scoressig [shape=box label=\\\"raw_scoressig\\\" fontsize=10];\\n    main__classifier___LogisticRegression_1734202137184Sigmoid [shape=box style=\\\"filled,rounded\\\" color=orange label=\\\"Sigmoid\\n(Sigmoid)\\\" fontsize=10];\\n    main__classifier___LogisticRegression_1734202137184raw_scores -> main__classifier___LogisticRegression_1734202137184Sigmoid;\\n    main__classifier___LogisticRegression_1734202137184Sigmoid -> main__classifier___LogisticRegression_1734202137184raw_scoressig;\\n  \\n    main__classifier___LogisticRegression_1734202137184array_feature_extractor_result [shape=box label=\\\"array_feature_extractor_result\\\" fontsize=10];\\n    main__classifier___LogisticRegression_1734202137184ArrayFeatureExtractor [shape=box style=\\\"filled,rounded\\\" color=orange label=\\\"ArrayFeatureExtractor\\n(ArrayFeatureExtractor)\\\" fontsize=10];\\n    main__classifier___LogisticRegression_1734202137184classes -> main__classifier___LogisticRegression_1734202137184ArrayFeatureExtractor;\\n    main__classifier___LogisticRegression_1734202137184label1 -> main__classifier___LogisticRegression_1734202137184ArrayFeatureExtractor;\\n    main__classifier___LogisticRegression_1734202137184ArrayFeatureExtractor -> main__classifier___LogisticRegression_1734202137184array_feature_extractor_result;\\n  \\n    main__classifier___LogisticRegression_1734202137184norm_abs [shape=box label=\\\"norm_abs\\\" fontsize=10];\\n    main__classifier___LogisticRegression_1734202137184Abs [shape=box style=\\\"filled,rounded\\\" color=orange label=\\\"Abs\\n(Abs)\\\" fontsize=10];\\n    main__classifier___LogisticRegression_1734202137184raw_scoressig -> main__classifier___LogisticRegression_1734202137184Abs;\\n    main__classifier___LogisticRegression_1734202137184Abs -> main__classifier___LogisticRegression_1734202137184norm_abs;\\n  \\n    main__classifier___LogisticRegression_1734202137184cast2_result [shape=box label=\\\"cast2_result\\\" fontsize=10];\\n    main__classifier___LogisticRegression_1734202137184Cast [shape=box style=\\\"filled,rounded\\\" color=orange label=\\\"Cast\\n(Cast)\\nto=11\\\" fontsize=10];\\n    main__classifier___LogisticRegression_1734202137184array_feature_extractor_result -> main__classifier___LogisticRegression_1734202137184Cast;\\n    main__classifier___LogisticRegression_1734202137184Cast -> main__classifier___LogisticRegression_1734202137184cast2_result;\\n  \\n    main__classifier___LogisticRegression_1734202137184norm [shape=box label=\\\"norm\\\" fontsize=10];\\n    main__classifier___LogisticRegression_1734202137184ReduceSum [shape=box style=\\\"filled,rounded\\\" color=orange label=\\\"ReduceSum\\n(ReduceSum)\\nkeepdims=1\\\" fontsize=10];\\n    main__classifier___LogisticRegression_1734202137184norm_abs -> main__classifier___LogisticRegression_1734202137184ReduceSum;\\n    main__classifier___LogisticRegression_1734202137184axis -> main__classifier___LogisticRegression_1734202137184ReduceSum;\\n    main__classifier___LogisticRegression_1734202137184ReduceSum -> main__classifier___LogisticRegression_1734202137184norm;\\n  \\n    main__classifier___LogisticRegression_1734202137184NormalizerNorm [shape=box style=\\\"filled,rounded\\\" color=orange label=\\\"Div\\n(NormalizerNorm)\\\" fontsize=10];\\n    main__classifier___LogisticRegression_1734202137184raw_scoressig -> main__classifier___LogisticRegression_1734202137184NormalizerNorm;\\n    main__classifier___LogisticRegression_1734202137184norm -> main__classifier___LogisticRegression_1734202137184NormalizerNorm;\\n    main__classifier___LogisticRegression_1734202137184NormalizerNorm -> main__classifier___LogisticRegression_1734202137184probabilities;\\n  \\n    main__classifier___LogisticRegression_1734202137184reshaped_result [shape=box label=\\\"reshaped_result\\\" fontsize=10];\\n    main__classifier___LogisticRegression_1734202137184Reshape [shape=box style=\\\"filled,rounded\\\" color=orange label=\\\"Reshape\\n(Reshape)\\\" fontsize=10];\\n    main__classifier___LogisticRegression_1734202137184cast2_result -> main__classifier___LogisticRegression_1734202137184Reshape;\\n    main__classifier___LogisticRegression_1734202137184shape_tensor -> main__classifier___LogisticRegression_1734202137184Reshape;\\n    main__classifier___LogisticRegression_1734202137184Reshape -> main__classifier___LogisticRegression_1734202137184reshaped_result;\\n  \\n    main__classifier___LogisticRegression_1734202137184Cast1 [shape=box style=\\\"filled,rounded\\\" color=orange label=\\\"Cast\\n(Cast1)\\nto=7\\\" fontsize=10];\\n    main__classifier___LogisticRegression_1734202137184reshaped_result -> main__classifier___LogisticRegression_1734202137184Cast1;\\n    main__classifier___LogisticRegression_1734202137184Cast1 -> main__classifier___LogisticRegression_1734202137184label;\\n  }\\n\\n  subgraph cluster_2 {\\n    label=\\\"main___Pipeline_1734459081968\\\";\\n    color=blue;\\n    nodesep=0.05;\\n    orientation=portrait;\\n    size=7;\\n    ranksep=0.25;\\n  \\n    main___Pipeline_1734459081968X [shape=box color=red label=\\\"X\\\" fontsize=10];\\n  \\n    main___Pipeline_1734459081968classifier_label [shape=box color=green label=\\\"classifier_label\\\" fontsize=10];\\n    main___Pipeline_1734459081968classifier_probabilities [shape=box color=green label=\\\"classifier_probabilities\\\" fontsize=10];\\n  \\n  \\n    main___Pipeline_1734459081968preprocessing_variable [shape=box label=\\\"preprocessing_variable\\\" fontsize=10];\\n    main___Pipeline_1734459081968_fct_main__preprocessing___StandardScaler_1734202136896 [shape=box style=\\\"filled,rounded\\\" color=orange label=\\\"main__preprocessing___StandardScaler_1734202136896\\n(_fct_main__preprocessing___StandardScaler_1734202136896)\\\" fontsize=10];\\n    main___Pipeline_1734459081968X -> main___Pipeline_1734459081968_fct_main__preprocessing___StandardScaler_1734202136896;\\n    main___Pipeline_1734459081968_fct_main__preprocessing___StandardScaler_1734202136896 -> main___Pipeline_1734459081968preprocessing_variable;\\n  \\n    main___Pipeline_1734459081968_fct_main__classifier___LogisticRegression_1734202137184 [shape=box style=\\\"filled,rounded\\\" color=orange label=\\\"main__classifier___LogisticRegression_1734202137184\\n(_fct_main__classifier___LogisticRegression_1734202137184)\\\" fontsize=10];\\n    main___Pipeline_1734459081968preprocessing_variable -> main___Pipeline_1734459081968_fct_main__classifier___LogisticRegression_1734202137184;\\n    main___Pipeline_1734459081968_fct_main__classifier___LogisticRegression_1734202137184 -> main___Pipeline_1734459081968classifier_label;\\n    main___Pipeline_1734459081968_fct_main__classifier___LogisticRegression_1734202137184 -> main___Pipeline_1734459081968classifier_probabilities;\\n  }\\n}\");\n",
              "document.getElementById('Md5134c5046e74a1583cb8bbc3c33826d').innerHTML = svgGraph; });\n",
              "\n",
              "</script>"
            ],
            "text/plain": [
              "<jyquickhelper.jspy.render_nb_js_dot.RenderJsDot at 0x193c63143a0>"
            ]
          },
          "execution_count": 9,
          "metadata": {},
          "output_type": "execute_result"
        }
      ],
      "source": [
        "%onnxview onxf"
      ]
    },
    {
      "cell_type": "markdown",
      "id": "3b2023f7",
      "metadata": {},
      "source": [
        "Based on that, it should be possible to rebuild the original scikit-learn pipeline. Hyperparameters are stored in the attribute  `doc_string`."
      ]
    },
    {
      "cell_type": "markdown",
      "id": "76f005df",
      "metadata": {},
      "source": [
        "## A more complex one"
      ]
    },
    {
      "cell_type": "code",
      "execution_count": 9,
      "id": "fb333f4f",
      "metadata": {},
      "outputs": [
        {
          "data": {
            "text/html": [
              "<style>#sk-container-id-2 {color: black;background-color: white;}#sk-container-id-2 pre{padding: 0;}#sk-container-id-2 div.sk-toggleable {background-color: white;}#sk-container-id-2 label.sk-toggleable__label {cursor: pointer;display: block;width: 100%;margin-bottom: 0;padding: 0.3em;box-sizing: border-box;text-align: center;}#sk-container-id-2 label.sk-toggleable__label-arrow:before {content: \"\u25b8\";float: left;margin-right: 0.25em;color: #696969;}#sk-container-id-2 label.sk-toggleable__label-arrow:hover:before {color: black;}#sk-container-id-2 div.sk-estimator:hover label.sk-toggleable__label-arrow:before {color: black;}#sk-container-id-2 div.sk-toggleable__content {max-height: 0;max-width: 0;overflow: hidden;text-align: left;background-color: #f0f8ff;}#sk-container-id-2 div.sk-toggleable__content pre {margin: 0.2em;color: black;border-radius: 0.25em;background-color: #f0f8ff;}#sk-container-id-2 input.sk-toggleable__control:checked~div.sk-toggleable__content {max-height: 200px;max-width: 100%;overflow: auto;}#sk-container-id-2 input.sk-toggleable__control:checked~label.sk-toggleable__label-arrow:before {content: \"\u25be\";}#sk-container-id-2 div.sk-estimator input.sk-toggleable__control:checked~label.sk-toggleable__label {background-color: #d4ebff;}#sk-container-id-2 div.sk-label input.sk-toggleable__control:checked~label.sk-toggleable__label {background-color: #d4ebff;}#sk-container-id-2 input.sk-hidden--visually {border: 0;clip: rect(1px 1px 1px 1px);clip: rect(1px, 1px, 1px, 1px);height: 1px;margin: -1px;overflow: hidden;padding: 0;position: absolute;width: 1px;}#sk-container-id-2 div.sk-estimator {font-family: monospace;background-color: #f0f8ff;border: 1px dotted black;border-radius: 0.25em;box-sizing: border-box;margin-bottom: 0.5em;}#sk-container-id-2 div.sk-estimator:hover {background-color: #d4ebff;}#sk-container-id-2 div.sk-parallel-item::after {content: \"\";width: 100%;border-bottom: 1px solid gray;flex-grow: 1;}#sk-container-id-2 div.sk-label:hover label.sk-toggleable__label {background-color: #d4ebff;}#sk-container-id-2 div.sk-serial::before {content: \"\";position: absolute;border-left: 1px solid gray;box-sizing: border-box;top: 0;bottom: 0;left: 50%;z-index: 0;}#sk-container-id-2 div.sk-serial {display: flex;flex-direction: column;align-items: center;background-color: white;padding-right: 0.2em;padding-left: 0.2em;position: relative;}#sk-container-id-2 div.sk-item {position: relative;z-index: 1;}#sk-container-id-2 div.sk-parallel {display: flex;align-items: stretch;justify-content: center;background-color: white;position: relative;}#sk-container-id-2 div.sk-item::before, #sk-container-id-2 div.sk-parallel-item::before {content: \"\";position: absolute;border-left: 1px solid gray;box-sizing: border-box;top: 0;bottom: 0;left: 50%;z-index: -1;}#sk-container-id-2 div.sk-parallel-item {display: flex;flex-direction: column;z-index: 1;position: relative;background-color: white;}#sk-container-id-2 div.sk-parallel-item:first-child::after {align-self: flex-end;width: 50%;}#sk-container-id-2 div.sk-parallel-item:last-child::after {align-self: flex-start;width: 50%;}#sk-container-id-2 div.sk-parallel-item:only-child::after {width: 0;}#sk-container-id-2 div.sk-dashed-wrapped {border: 1px dashed gray;margin: 0 0.4em 0.5em 0.4em;box-sizing: border-box;padding-bottom: 0.4em;background-color: white;}#sk-container-id-2 div.sk-label label {font-family: monospace;font-weight: bold;display: inline-block;line-height: 1.2em;}#sk-container-id-2 div.sk-label-container {text-align: center;}#sk-container-id-2 div.sk-container {/* jupyter's `normalize.less` sets `[hidden] { display: none; }` but bootstrap.min.css set `[hidden] { display: none !important; }` so we also need the `!important` here to be able to override the default hidden behavior on the sphinx rendered scikit-learn.org. See: https://github.com/scikit-learn/scikit-learn/issues/21755 */display: inline-block !important;position: relative;}#sk-container-id-2 div.sk-text-repr-fallback {display: none;}</style><div id=\"sk-container-id-2\" class=\"sk-top-container\"><div class=\"sk-text-repr-fallback\"><pre>Pipeline(steps=[(&#x27;preprocessing&#x27;,\n",
              "                 ColumnTransformer(transformers=[(&#x27;A&#x27;, StandardScaler(),\n",
              "                                                  [0, 1]),\n",
              "                                                 (&#x27;B&#x27;, MinMaxScaler(),\n",
              "                                                  [2, 3])])),\n",
              "                (&#x27;classifier&#x27;,\n",
              "                 LogisticRegression(penalty=&#x27;l1&#x27;, solver=&#x27;liblinear&#x27;))])</pre><b>In a Jupyter environment, please rerun this cell to show the HTML representation or trust the notebook. <br />On GitHub, the HTML representation is unable to render, please try loading this page with nbviewer.org.</b></div><div class=\"sk-container\" hidden><div class=\"sk-item sk-dashed-wrapped\"><div class=\"sk-label-container\"><div class=\"sk-label sk-toggleable\"><input class=\"sk-toggleable__control sk-hidden--visually\" id=\"sk-estimator-id-4\" type=\"checkbox\" ><label for=\"sk-estimator-id-4\" class=\"sk-toggleable__label sk-toggleable__label-arrow\">Pipeline</label><div class=\"sk-toggleable__content\"><pre>Pipeline(steps=[(&#x27;preprocessing&#x27;,\n",
              "                 ColumnTransformer(transformers=[(&#x27;A&#x27;, StandardScaler(),\n",
              "                                                  [0, 1]),\n",
              "                                                 (&#x27;B&#x27;, MinMaxScaler(),\n",
              "                                                  [2, 3])])),\n",
              "                (&#x27;classifier&#x27;,\n",
              "                 LogisticRegression(penalty=&#x27;l1&#x27;, solver=&#x27;liblinear&#x27;))])</pre></div></div></div><div class=\"sk-serial\"><div class=\"sk-item sk-dashed-wrapped\"><div class=\"sk-label-container\"><div class=\"sk-label sk-toggleable\"><input class=\"sk-toggleable__control sk-hidden--visually\" id=\"sk-estimator-id-5\" type=\"checkbox\" ><label for=\"sk-estimator-id-5\" class=\"sk-toggleable__label sk-toggleable__label-arrow\">preprocessing: ColumnTransformer</label><div class=\"sk-toggleable__content\"><pre>ColumnTransformer(transformers=[(&#x27;A&#x27;, StandardScaler(), [0, 1]),\n",
              "                                (&#x27;B&#x27;, MinMaxScaler(), [2, 3])])</pre></div></div></div><div class=\"sk-parallel\"><div class=\"sk-parallel-item\"><div class=\"sk-item\"><div class=\"sk-label-container\"><div class=\"sk-label sk-toggleable\"><input class=\"sk-toggleable__control sk-hidden--visually\" id=\"sk-estimator-id-6\" type=\"checkbox\" ><label for=\"sk-estimator-id-6\" class=\"sk-toggleable__label sk-toggleable__label-arrow\">A</label><div class=\"sk-toggleable__content\"><pre>[0, 1]</pre></div></div></div><div class=\"sk-serial\"><div class=\"sk-item\"><div class=\"sk-estimator sk-toggleable\"><input class=\"sk-toggleable__control sk-hidden--visually\" id=\"sk-estimator-id-7\" type=\"checkbox\" ><label for=\"sk-estimator-id-7\" class=\"sk-toggleable__label sk-toggleable__label-arrow\">StandardScaler</label><div class=\"sk-toggleable__content\"><pre>StandardScaler()</pre></div></div></div></div></div></div><div class=\"sk-parallel-item\"><div class=\"sk-item\"><div class=\"sk-label-container\"><div class=\"sk-label sk-toggleable\"><input class=\"sk-toggleable__control sk-hidden--visually\" id=\"sk-estimator-id-8\" type=\"checkbox\" ><label for=\"sk-estimator-id-8\" class=\"sk-toggleable__label sk-toggleable__label-arrow\">B</label><div class=\"sk-toggleable__content\"><pre>[2, 3]</pre></div></div></div><div class=\"sk-serial\"><div class=\"sk-item\"><div class=\"sk-estimator sk-toggleable\"><input class=\"sk-toggleable__control sk-hidden--visually\" id=\"sk-estimator-id-9\" type=\"checkbox\" ><label for=\"sk-estimator-id-9\" class=\"sk-toggleable__label sk-toggleable__label-arrow\">MinMaxScaler</label><div class=\"sk-toggleable__content\"><pre>MinMaxScaler()</pre></div></div></div></div></div></div></div></div><div class=\"sk-item\"><div class=\"sk-estimator sk-toggleable\"><input class=\"sk-toggleable__control sk-hidden--visually\" id=\"sk-estimator-id-10\" type=\"checkbox\" ><label for=\"sk-estimator-id-10\" class=\"sk-toggleable__label sk-toggleable__label-arrow\">LogisticRegression</label><div class=\"sk-toggleable__content\"><pre>LogisticRegression(penalty=&#x27;l1&#x27;, solver=&#x27;liblinear&#x27;)</pre></div></div></div></div></div></div></div>"
            ],
            "text/plain": [
              "Pipeline(steps=[('preprocessing',\n",
              "                 ColumnTransformer(transformers=[('A', StandardScaler(),\n",
              "                                                  [0, 1]),\n",
              "                                                 ('B', MinMaxScaler(),\n",
              "                                                  [2, 3])])),\n",
              "                ('classifier',\n",
              "                 LogisticRegression(penalty='l1', solver='liblinear'))])"
            ]
          },
          "execution_count": 10,
          "metadata": {},
          "output_type": "execute_result"
        }
      ],
      "source": [
        "from sklearn.compose import ColumnTransformer\n",
        "from sklearn.preprocessing import MinMaxScaler\n",
        "\n",
        "data = load_iris()\n",
        "X, y = data.data, data.target\n",
        "steps = [\n",
        "    (\"preprocessing\", ColumnTransformer([\n",
        "        ('A', StandardScaler(), [0, 1]),\n",
        "        ('B', MinMaxScaler(), [2, 3])])),\n",
        "    (\"classifier\", LogisticRegression(penalty='l1', solver=\"liblinear\"))]\n",
        "pipe = Pipeline(steps)\n",
        "pipe.fit(X, y)"
      ]
    },
    {
      "cell_type": "code",
      "execution_count": 10,
      "id": "5406593d",
      "metadata": {},
      "outputs": [
        {
          "name": "stdout",
          "output_type": "stream",
          "text": [
            "opset: domain='' version=15\n",
            "opset: domain='sklearn' version=1\n",
            "input: name='X' type=dtype('float64') shape=[None, 4]\n",
            "main___Pipeline_1734198554880[sklearn](X) -> main_classifier_label, main_classifier_probabilities\n",
            "output: name='main_classifier_label' type=dtype('int64') shape=[None]\n",
            "output: name='main_classifier_probabilities' type=dtype('float64') shape=[None, 3]\n",
            "----- function name=main__preprocessing__B___MinMaxScaler_1734196938256 domain=sklearn\n",
            "----- doc_string: HYPER:{\"MinMaxScaler\":{\"clip\": false, \"copy\": true, \"feature_range\": [0, 1]}}\n",
            "opset: domain='' version=14\n",
            "input: 'X'\n",
            "Cast(X, to=11) -> Ca_output0\n",
            "Constant(value=[0.1694915...) -> Mu_Mulcst\n",
            "  Mul(Ca_output0, Mu_Mulcst) -> Mu_C0\n",
            "Constant(value=[-0.169491...) -> Ad_Addcst\n",
            "  Add(Mu_C0, Ad_Addcst) -> variable\n",
            "output: name='variable' type=? shape=?\n",
            "----- function name=main__preprocessing__A___StandardScaler_1734196937584 domain=sklearn\n",
            "----- doc_string: HYPER:{\"StandardScaler\":{\"copy\": true, \"with_mean\": true, \"with_std\": true}}\n",
            "opset: domain='' version=14\n",
            "input: 'X'\n",
            "Constant(value=[5.8433333...) -> Su_Subcst\n",
            "  Sub(X, Su_Subcst) -> Su_C0\n",
            "Constant(value=[0.8253012...) -> Di_Divcst\n",
            "  Div(Su_C0, Di_Divcst) -> variable\n",
            "output: name='variable' type=? shape=?\n",
            "----- function name=main__preprocessing___ColumnTransformer_1734520793072 domain=sklearn\n",
            "----- doc_string: HYPER:{\"ColumnTransformer\":{\"n_jobs\": null, \"remainder\": \"drop\", \"sparse_threshold\": 0.3, \"transformer_weights\": null, \"transformers\": [[\"A\", \"{\\\"classname\\\": \\\"StandardScaler\\\", \\\"EXC\\\": \\\"Object of type StandardScaler is not JSON serializable\\\"}\", [0, 1]], [\"B\", \"{\\\"classname\\\": \\\"MinMaxScaler\\\", \\\"EXC\\\": \\\"Object of type MinMaxScaler is not JSON serializable\\\"}\", [2, 3]]], \"verbose\": false, \"verbose_feature_names_out\": true}}\n",
            "opset: domain='' version=15\n",
            "opset: domain='sklearn' version=1\n",
            "input: 'X'\n",
            "Constant(value=[2]) -> init\n",
            "Constant(value=[4]) -> init_1\n",
            "Constant(value=[1]) -> init_2\n",
            "  Slice(X, init, init_1, init_2) -> out_sli_0\n",
            "    main__preprocessing__B___MinMaxScaler_1734196938256[sklearn](out_sli_0) -> B_variable\n",
            "Constant(value=[0]) -> init_3\n",
            "  Slice(X, init_3, init, init_2) -> out_sli_0_1\n",
            "    main__preprocessing__A___StandardScaler_1734196937584[sklearn](out_sli_0_1) -> A_variable\n",
            "      Concat(A_variable, B_variable, axis=1) -> out_con_0\n",
            "output: name='out_con_0' type=? shape=?\n",
            "----- function name=main__classifier___LogisticRegression_1734520717568 domain=sklearn\n",
            "----- doc_string: HYPER:{\"LogisticRegression\":{\"C\": 1.0, \"class_weight\": null, \"dual\": false, \"fit_intercept\": true, \"intercept_scaling\": 1, \"l1_ratio\": null, \"max_iter\": 100, \"multi_class\": \"auto\", \"n_jobs\": null, \"penalty\": \"l1\", \"random_state\": null, \"solver\": \"liblinear\", \"tol\": 0.0001, \"verbose\": 0, \"warm_start\": false}}\n",
            "opset: domain='' version=13\n",
            "opset: domain='ai.onnx.ml' version=1\n",
            "input: 'X0'\n",
            "Constant(value=[[-2.74108...) -> coef\n",
            "  MatMul(X0, coef) -> multiplied\n",
            "Constant(value=[[0.0, -0....) -> intercept\n",
            "  Add(multiplied, intercept) -> raw_scores\n",
            "    ArgMax(raw_scores, axis=1) -> label1\n",
            "Constant(value=[0, 1, 2]) -> classes\n",
            "  ArrayFeatureExtractor(classes, label1) -> array_feature_extractor_result\n",
            "    Cast(array_feature_extractor_result, to=11) -> cast2_result\n",
            "Constant(value=[-1]) -> shape_tensor\n",
            "  Reshape(cast2_result, shape_tensor) -> reshaped_result\n",
            "    Cast(reshaped_result, to=7) -> label\n",
            "Constant(value=[1]) -> axis\n",
            "Sigmoid(raw_scores) -> raw_scoressig\n",
            "  Abs(raw_scoressig) -> norm_abs\n",
            "  ReduceSum(norm_abs, axis, keepdims=1) -> norm\n",
            "  Div(raw_scoressig, norm) -> probabilities\n",
            "output: name='label' type=? shape=?\n",
            "output: name='probabilities' type=? shape=?\n",
            "----- function name=main___Pipeline_1734198554880 domain=sklearn\n",
            "----- doc_string: HYPER:{\"Pipeline\":{\"memory\": null, \"steps\": [[\"preprocessing\", \"{\\\"classname\\\": \\\"ColumnTransformer\\\", \\\"EXC\\\": \\\"Object of type ColumnTransformer is not JSON serializable\\\"}\"], [\"classifier\", \"{\\\"classname\\\": \\\"LogisticRegression\\\", \\\"EXC\\\": \\\"Object of type LogisticRegression is not JSON serializable\\\"}\"]], \"verbose\": false}}\n",
            "opset: domain='' version=15\n",
            "opset: domain='sklearn' version=1\n",
            "input: 'X'\n",
            "main__preprocessing___ColumnTransformer_1734520793072[sklearn](X) -> preprocessing_out_con_0\n",
            "  main__classifier___LogisticRegression_1734520717568[sklearn](preprocessing_out_con_0) -> classifier_label, classifier_probabilities\n",
            "output: name='classifier_label' type=? shape=?\n",
            "output: name='classifier_probabilities' type=? shape=?\n"
          ]
        }
      ],
      "source": [
        "onxf = to_onnx(pipe, X, as_function=True, options={'zipmap': False})\n",
        "print(onnx_simple_text_plot(onxf))"
      ]
    },
    {
      "cell_type": "code",
      "execution_count": 11,
      "id": "699e4d25",
      "metadata": {},
      "outputs": [
        {
          "data": {
            "text/html": [
              "<div id=\"M0ccc32ccf2e24c7793ceda66e225fde2-cont\"><div id=\"M0ccc32ccf2e24c7793ceda66e225fde2\" style=\"width:;height:;\"></div></div>\n",
              "<script>\n",
              "\n",
              "require(['http://www.xavierdupre.fr/js/vizjs/viz.js'], function() { var svgGraph = Viz(\"digraph{\\n  nodesep=0.05;\\n  orientation=portrait;\\n  size=7;\\n  ranksep=0.25;\\n\\n  X [shape=box color=red label=\\\"X\\ndouble((0, 4))\\\" fontsize=10];\\n\\n  main_classifier_label [shape=box color=green label=\\\"main_classifier_label\\nint64((0,))\\\" fontsize=10];\\n  main_classifier_probabilities [shape=box color=green label=\\\"main_classifier_probabilities\\ndouble((0, 3))\\\" fontsize=10];\\n\\n\\n  _fct_main___Pipeline_1734198554880 [shape=box style=\\\"filled,rounded\\\" color=orange label=\\\"main___Pipeline_1734198554880\\n(_fct_main___Pipeline_1734198554880)\\\" fontsize=10];\\n  X -> _fct_main___Pipeline_1734198554880;\\n  _fct_main___Pipeline_1734198554880 -> main_classifier_label;\\n  _fct_main___Pipeline_1734198554880 -> main_classifier_probabilities;\\n\\n  subgraph cluster_0 {\\n    label=\\\"main__preprocessing__B___MinMaxScaler_1734196938256\\\";\\n    color=blue;\\n    nodesep=0.05;\\n    orientation=portrait;\\n    size=7;\\n    ranksep=0.25;\\n  \\n    main__preprocessing__B___MinMaxScaler_1734196938256X [shape=box color=red label=\\\"X\\\" fontsize=10];\\n  \\n    main__preprocessing__B___MinMaxScaler_1734196938256variable [shape=box color=green label=\\\"variable\\\" fontsize=10];\\n  \\n  \\n    main__preprocessing__B___MinMaxScaler_1734196938256Mu_Mulcst [shape=box label=\\\"Mu_Mulcst\\\" fontsize=10];\\n    main__preprocessing__B___MinMaxScaler_1734196938256Constant [shape=box style=\\\"filled,rounded\\\" color=orange label=\\\"Constant\\n(Constant)\\nvalue=[0.16949153 0.41666667]\\\" fontsize=10];\\n    main__preprocessing__B___MinMaxScaler_1734196938256Constant -> main__preprocessing__B___MinMaxScaler_1734196938256Mu_Mulcst;\\n  \\n    main__preprocessing__B___MinMaxScaler_1734196938256Ad_Addcst [shape=box label=\\\"Ad_Addcst\\\" fontsize=10];\\n    main__preprocessing__B___MinMaxScaler_1734196938256Constant1 [shape=box style=\\\"filled,rounded\\\" color=orange label=\\\"Constant\\n(Constant1)\\nvalue=[-0.16949153 -0.04166667]\\\" fontsize=10];\\n    main__preprocessing__B___MinMaxScaler_1734196938256Constant1 -> main__preprocessing__B___MinMaxScaler_1734196938256Ad_Addcst;\\n  \\n    main__preprocessing__B___MinMaxScaler_1734196938256Ca_output0 [shape=box label=\\\"Ca_output0\\\" fontsize=10];\\n    main__preprocessing__B___MinMaxScaler_1734196938256Ca_Cast [shape=box style=\\\"filled,rounded\\\" color=orange label=\\\"Cast\\n(Ca_Cast)\\nto=11\\\" fontsize=10];\\n    main__preprocessing__B___MinMaxScaler_1734196938256X -> main__preprocessing__B___MinMaxScaler_1734196938256Ca_Cast;\\n    main__preprocessing__B___MinMaxScaler_1734196938256Ca_Cast -> main__preprocessing__B___MinMaxScaler_1734196938256Ca_output0;\\n  \\n    main__preprocessing__B___MinMaxScaler_1734196938256Mu_C0 [shape=box label=\\\"Mu_C0\\\" fontsize=10];\\n    main__preprocessing__B___MinMaxScaler_1734196938256Mu_Mul [shape=box style=\\\"filled,rounded\\\" color=orange label=\\\"Mul\\n(Mu_Mul)\\\" fontsize=10];\\n    main__preprocessing__B___MinMaxScaler_1734196938256Ca_output0 -> main__preprocessing__B___MinMaxScaler_1734196938256Mu_Mul;\\n    main__preprocessing__B___MinMaxScaler_1734196938256Mu_Mulcst -> main__preprocessing__B___MinMaxScaler_1734196938256Mu_Mul;\\n    main__preprocessing__B___MinMaxScaler_1734196938256Mu_Mul -> main__preprocessing__B___MinMaxScaler_1734196938256Mu_C0;\\n  \\n    main__preprocessing__B___MinMaxScaler_1734196938256Ad_Add [shape=box style=\\\"filled,rounded\\\" color=orange label=\\\"Add\\n(Ad_Add)\\\" fontsize=10];\\n    main__preprocessing__B___MinMaxScaler_1734196938256Mu_C0 -> main__preprocessing__B___MinMaxScaler_1734196938256Ad_Add;\\n    main__preprocessing__B___MinMaxScaler_1734196938256Ad_Addcst -> main__preprocessing__B___MinMaxScaler_1734196938256Ad_Add;\\n    main__preprocessing__B___MinMaxScaler_1734196938256Ad_Add -> main__preprocessing__B___MinMaxScaler_1734196938256variable;\\n  }\\n\\n  subgraph cluster_1 {\\n    label=\\\"main__preprocessing__A___StandardScaler_1734196937584\\\";\\n    color=blue;\\n    nodesep=0.05;\\n    orientation=portrait;\\n    size=7;\\n    ranksep=0.25;\\n  \\n    main__preprocessing__A___StandardScaler_1734196937584X [shape=box color=red label=\\\"X\\\" fontsize=10];\\n  \\n    main__preprocessing__A___StandardScaler_1734196937584variable [shape=box color=green label=\\\"variable\\\" fontsize=10];\\n  \\n  \\n    main__preprocessing__A___StandardScaler_1734196937584Su_Subcst [shape=box label=\\\"Su_Subcst\\\" fontsize=10];\\n    main__preprocessing__A___StandardScaler_1734196937584Constant [shape=box style=\\\"filled,rounded\\\" color=orange label=\\\"Constant\\n(Constant)\\nvalue=[5.84333333 3.05733333]\\\" fontsize=10];\\n    main__preprocessing__A___StandardScaler_1734196937584Constant -> main__preprocessing__A___StandardScaler_1734196937584Su_Subcst;\\n  \\n    main__preprocessing__A___StandardScaler_1734196937584Di_Divcst [shape=box label=\\\"Di_Divcst\\\" fontsize=10];\\n    main__preprocessing__A___StandardScaler_1734196937584Constant1 [shape=box style=\\\"filled,rounded\\\" color=orange label=\\\"Constant\\n(Constant1)\\nvalue=[0.82530129 0.43441097]\\\" fontsize=10];\\n    main__preprocessing__A___StandardScaler_1734196937584Constant1 -> main__preprocessing__A___StandardScaler_1734196937584Di_Divcst;\\n  \\n    main__preprocessing__A___StandardScaler_1734196937584Su_C0 [shape=box label=\\\"Su_C0\\\" fontsize=10];\\n    main__preprocessing__A___StandardScaler_1734196937584Su_Sub [shape=box style=\\\"filled,rounded\\\" color=orange label=\\\"Sub\\n(Su_Sub)\\\" fontsize=10];\\n    main__preprocessing__A___StandardScaler_1734196937584X -> main__preprocessing__A___StandardScaler_1734196937584Su_Sub;\\n    main__preprocessing__A___StandardScaler_1734196937584Su_Subcst -> main__preprocessing__A___StandardScaler_1734196937584Su_Sub;\\n    main__preprocessing__A___StandardScaler_1734196937584Su_Sub -> main__preprocessing__A___StandardScaler_1734196937584Su_C0;\\n  \\n    main__preprocessing__A___StandardScaler_1734196937584Di_Div [shape=box style=\\\"filled,rounded\\\" color=orange label=\\\"Div\\n(Di_Div)\\\" fontsize=10];\\n    main__preprocessing__A___StandardScaler_1734196937584Su_C0 -> main__preprocessing__A___StandardScaler_1734196937584Di_Div;\\n    main__preprocessing__A___StandardScaler_1734196937584Di_Divcst -> main__preprocessing__A___StandardScaler_1734196937584Di_Div;\\n    main__preprocessing__A___StandardScaler_1734196937584Di_Div -> main__preprocessing__A___StandardScaler_1734196937584variable;\\n  }\\n\\n  subgraph cluster_2 {\\n    label=\\\"main__preprocessing___ColumnTransformer_1734520793072\\\";\\n    color=blue;\\n    nodesep=0.05;\\n    orientation=portrait;\\n    size=7;\\n    ranksep=0.25;\\n  \\n    main__preprocessing___ColumnTransformer_1734520793072X [shape=box color=red label=\\\"X\\\" fontsize=10];\\n  \\n    main__preprocessing___ColumnTransformer_1734520793072out_con_0 [shape=box color=green label=\\\"out_con_0\\\" fontsize=10];\\n  \\n  \\n    main__preprocessing___ColumnTransformer_1734520793072init [shape=box label=\\\"init\\\" fontsize=10];\\n    main__preprocessing___ColumnTransformer_1734520793072Constant [shape=box style=\\\"filled,rounded\\\" color=orange label=\\\"Constant\\n(Constant)\\nvalue=[2]\\\" fontsize=10];\\n    main__preprocessing___ColumnTransformer_1734520793072Constant -> main__preprocessing___ColumnTransformer_1734520793072init;\\n  \\n    main__preprocessing___ColumnTransformer_1734520793072init_1 [shape=box label=\\\"init_1\\\" fontsize=10];\\n    main__preprocessing___ColumnTransformer_1734520793072Constant1 [shape=box style=\\\"filled,rounded\\\" color=orange label=\\\"Constant\\n(Constant1)\\nvalue=[4]\\\" fontsize=10];\\n    main__preprocessing___ColumnTransformer_1734520793072Constant1 -> main__preprocessing___ColumnTransformer_1734520793072init_1;\\n  \\n    main__preprocessing___ColumnTransformer_1734520793072init_2 [shape=box label=\\\"init_2\\\" fontsize=10];\\n    main__preprocessing___ColumnTransformer_1734520793072Constant12 [shape=box style=\\\"filled,rounded\\\" color=orange label=\\\"Constant\\n(Constant12)\\nvalue=[1]\\\" fontsize=10];\\n    main__preprocessing___ColumnTransformer_1734520793072Constant12 -> main__preprocessing___ColumnTransformer_1734520793072init_2;\\n  \\n    main__preprocessing___ColumnTransformer_1734520793072init_3 [shape=box label=\\\"init_3\\\" fontsize=10];\\n    main__preprocessing___ColumnTransformer_1734520793072Constant123 [shape=box style=\\\"filled,rounded\\\" color=orange label=\\\"Constant\\n(Constant123)\\nvalue=[0]\\\" fontsize=10];\\n    main__preprocessing___ColumnTransformer_1734520793072Constant123 -> main__preprocessing___ColumnTransformer_1734520793072init_3;\\n  \\n    main__preprocessing___ColumnTransformer_1734520793072out_sli_0 [shape=box label=\\\"out_sli_0\\\" fontsize=10];\\n    main__preprocessing___ColumnTransformer_1734520793072_slice [shape=box style=\\\"filled,rounded\\\" color=orange label=\\\"Slice\\n(_slice)\\\" fontsize=10];\\n    main__preprocessing___ColumnTransformer_1734520793072X -> main__preprocessing___ColumnTransformer_1734520793072_slice;\\n    main__preprocessing___ColumnTransformer_1734520793072init -> main__preprocessing___ColumnTransformer_1734520793072_slice;\\n    main__preprocessing___ColumnTransformer_1734520793072init_1 -> main__preprocessing___ColumnTransformer_1734520793072_slice;\\n    main__preprocessing___ColumnTransformer_1734520793072init_2 -> main__preprocessing___ColumnTransformer_1734520793072_slice;\\n    main__preprocessing___ColumnTransformer_1734520793072_slice -> main__preprocessing___ColumnTransformer_1734520793072out_sli_0;\\n  \\n    main__preprocessing___ColumnTransformer_1734520793072out_sli_0_1 [shape=box label=\\\"out_sli_0_1\\\" fontsize=10];\\n    main__preprocessing___ColumnTransformer_1734520793072_slice_1 [shape=box style=\\\"filled,rounded\\\" color=orange label=\\\"Slice\\n(_slice_1)\\\" fontsize=10];\\n    main__preprocessing___ColumnTransformer_1734520793072X -> main__preprocessing___ColumnTransformer_1734520793072_slice_1;\\n    main__preprocessing___ColumnTransformer_1734520793072init_3 -> main__preprocessing___ColumnTransformer_1734520793072_slice_1;\\n    main__preprocessing___ColumnTransformer_1734520793072init -> main__preprocessing___ColumnTransformer_1734520793072_slice_1;\\n    main__preprocessing___ColumnTransformer_1734520793072init_2 -> main__preprocessing___ColumnTransformer_1734520793072_slice_1;\\n    main__preprocessing___ColumnTransformer_1734520793072_slice_1 -> main__preprocessing___ColumnTransformer_1734520793072out_sli_0_1;\\n  \\n    main__preprocessing___ColumnTransformer_1734520793072B_variable [shape=box label=\\\"B_variable\\\" fontsize=10];\\n    main__preprocessing___ColumnTransformer_1734520793072_fct_main__preprocessing__B___MinMaxScaler_1734196938256 [shape=box style=\\\"filled,rounded\\\" color=orange label=\\\"main__preprocessing__B___MinMaxScaler_1734196938256\\n(_fct_main__preprocessing__B___MinMaxScaler_1734196938256)\\\" fontsize=10];\\n    main__preprocessing___ColumnTransformer_1734520793072out_sli_0 -> main__preprocessing___ColumnTransformer_1734520793072_fct_main__preprocessing__B___MinMaxScaler_1734196938256;\\n    main__preprocessing___ColumnTransformer_1734520793072_fct_main__preprocessing__B___MinMaxScaler_1734196938256 -> main__preprocessing___ColumnTransformer_1734520793072B_variable;\\n  \\n    main__preprocessing___ColumnTransformer_1734520793072A_variable [shape=box label=\\\"A_variable\\\" fontsize=10];\\n    main__preprocessing___ColumnTransformer_1734520793072_fct_main__preprocessing__A___StandardScaler_1734196937584 [shape=box style=\\\"filled,rounded\\\" color=orange label=\\\"main__preprocessing__A___StandardScaler_1734196937584\\n(_fct_main__preprocessing__A___StandardScaler_1734196937584)\\\" fontsize=10];\\n    main__preprocessing___ColumnTransformer_1734520793072out_sli_0_1 -> main__preprocessing___ColumnTransformer_1734520793072_fct_main__preprocessing__A___StandardScaler_1734196937584;\\n    main__preprocessing___ColumnTransformer_1734520793072_fct_main__preprocessing__A___StandardScaler_1734196937584 -> main__preprocessing___ColumnTransformer_1734520793072A_variable;\\n  \\n    main__preprocessing___ColumnTransformer_1734520793072_concat [shape=box style=\\\"filled,rounded\\\" color=orange label=\\\"Concat\\n(_concat)\\naxis=1\\\" fontsize=10];\\n    main__preprocessing___ColumnTransformer_1734520793072A_variable -> main__preprocessing___ColumnTransformer_1734520793072_concat;\\n    main__preprocessing___ColumnTransformer_1734520793072B_variable -> main__preprocessing___ColumnTransformer_1734520793072_concat;\\n    main__preprocessing___ColumnTransformer_1734520793072_concat -> main__preprocessing___ColumnTransformer_1734520793072out_con_0;\\n  }\\n\\n  subgraph cluster_3 {\\n    label=\\\"main__classifier___LogisticRegression_1734520717568\\\";\\n    color=blue;\\n    nodesep=0.05;\\n    orientation=portrait;\\n    size=7;\\n    ranksep=0.25;\\n  \\n    main__classifier___LogisticRegression_1734520717568X0 [shape=box color=red label=\\\"X0\\\" fontsize=10];\\n  \\n    main__classifier___LogisticRegression_1734520717568label [shape=box color=green label=\\\"label\\\" fontsize=10];\\n    main__classifier___LogisticRegression_1734520717568probabilities [shape=box color=green label=\\\"probabilities\\\" fontsize=10];\\n  \\n  \\n    main__classifier___LogisticRegression_1734520717568coef [shape=box label=\\\"coef\\\" fontsize=10];\\n    main__classifier___LogisticRegression_1734520717568Constant [shape=box style=\\\"filled,rounded\\\" color=orange label=\\\"Constant\\n(Constant)\\nvalue=[[-2.74108785  0.22420478...\\\" fontsize=10];\\n    main__classifier___LogisticRegression_1734520717568Constant -> main__classifier___LogisticRegression_1734520717568coef;\\n  \\n    main__classifier___LogisticRegression_1734520717568intercept [shape=box label=\\\"intercept\\\" fontsize=10];\\n    main__classifier___LogisticRegression_1734520717568Constant1 [shape=box style=\\\"filled,rounded\\\" color=orange label=\\\"Constant\\n(Constant1)\\nvalue=[[ 0.         -0.57186041...\\\" fontsize=10];\\n    main__classifier___LogisticRegression_1734520717568Constant1 -> main__classifier___LogisticRegression_1734520717568intercept;\\n  \\n    main__classifier___LogisticRegression_1734520717568classes [shape=box label=\\\"classes\\\" fontsize=10];\\n    main__classifier___LogisticRegression_1734520717568Constant12 [shape=box style=\\\"filled,rounded\\\" color=orange label=\\\"Constant\\n(Constant12)\\nvalue=[0 1 2]\\\" fontsize=10];\\n    main__classifier___LogisticRegression_1734520717568Constant12 -> main__classifier___LogisticRegression_1734520717568classes;\\n  \\n    main__classifier___LogisticRegression_1734520717568shape_tensor [shape=box label=\\\"shape_tensor\\\" fontsize=10];\\n    main__classifier___LogisticRegression_1734520717568Constant123 [shape=box style=\\\"filled,rounded\\\" color=orange label=\\\"Constant\\n(Constant123)\\nvalue=[-1]\\\" fontsize=10];\\n    main__classifier___LogisticRegression_1734520717568Constant123 -> main__classifier___LogisticRegression_1734520717568shape_tensor;\\n  \\n    main__classifier___LogisticRegression_1734520717568axis [shape=box label=\\\"axis\\\" fontsize=10];\\n    main__classifier___LogisticRegression_1734520717568Constant1234 [shape=box style=\\\"filled,rounded\\\" color=orange label=\\\"Constant\\n(Constant1234)\\nvalue=[1]\\\" fontsize=10];\\n    main__classifier___LogisticRegression_1734520717568Constant1234 -> main__classifier___LogisticRegression_1734520717568axis;\\n  \\n    main__classifier___LogisticRegression_1734520717568multiplied [shape=box label=\\\"multiplied\\\" fontsize=10];\\n    main__classifier___LogisticRegression_1734520717568MatMul [shape=box style=\\\"filled,rounded\\\" color=orange label=\\\"MatMul\\n(MatMul)\\\" fontsize=10];\\n    main__classifier___LogisticRegression_1734520717568X0 -> main__classifier___LogisticRegression_1734520717568MatMul;\\n    main__classifier___LogisticRegression_1734520717568coef -> main__classifier___LogisticRegression_1734520717568MatMul;\\n    main__classifier___LogisticRegression_1734520717568MatMul -> main__classifier___LogisticRegression_1734520717568multiplied;\\n  \\n    main__classifier___LogisticRegression_1734520717568raw_scores [shape=box label=\\\"raw_scores\\\" fontsize=10];\\n    main__classifier___LogisticRegression_1734520717568Add [shape=box style=\\\"filled,rounded\\\" color=orange label=\\\"Add\\n(Add)\\\" fontsize=10];\\n    main__classifier___LogisticRegression_1734520717568multiplied -> main__classifier___LogisticRegression_1734520717568Add;\\n    main__classifier___LogisticRegression_1734520717568intercept -> main__classifier___LogisticRegression_1734520717568Add;\\n    main__classifier___LogisticRegression_1734520717568Add -> main__classifier___LogisticRegression_1734520717568raw_scores;\\n  \\n    main__classifier___LogisticRegression_1734520717568label1 [shape=box label=\\\"label1\\\" fontsize=10];\\n    main__classifier___LogisticRegression_1734520717568ArgMax [shape=box style=\\\"filled,rounded\\\" color=orange label=\\\"ArgMax\\n(ArgMax)\\naxis=1\\\" fontsize=10];\\n    main__classifier___LogisticRegression_1734520717568raw_scores -> main__classifier___LogisticRegression_1734520717568ArgMax;\\n    main__classifier___LogisticRegression_1734520717568ArgMax -> main__classifier___LogisticRegression_1734520717568label1;\\n  \\n    main__classifier___LogisticRegression_1734520717568raw_scoressig [shape=box label=\\\"raw_scoressig\\\" fontsize=10];\\n    main__classifier___LogisticRegression_1734520717568Sigmoid [shape=box style=\\\"filled,rounded\\\" color=orange label=\\\"Sigmoid\\n(Sigmoid)\\\" fontsize=10];\\n    main__classifier___LogisticRegression_1734520717568raw_scores -> main__classifier___LogisticRegression_1734520717568Sigmoid;\\n    main__classifier___LogisticRegression_1734520717568Sigmoid -> main__classifier___LogisticRegression_1734520717568raw_scoressig;\\n  \\n    main__classifier___LogisticRegression_1734520717568array_feature_extractor_result [shape=box label=\\\"array_feature_extractor_result\\\" fontsize=10];\\n    main__classifier___LogisticRegression_1734520717568ArrayFeatureExtractor [shape=box style=\\\"filled,rounded\\\" color=orange label=\\\"ArrayFeatureExtractor\\n(ArrayFeatureExtractor)\\\" fontsize=10];\\n    main__classifier___LogisticRegression_1734520717568classes -> main__classifier___LogisticRegression_1734520717568ArrayFeatureExtractor;\\n    main__classifier___LogisticRegression_1734520717568label1 -> main__classifier___LogisticRegression_1734520717568ArrayFeatureExtractor;\\n    main__classifier___LogisticRegression_1734520717568ArrayFeatureExtractor -> main__classifier___LogisticRegression_1734520717568array_feature_extractor_result;\\n  \\n    main__classifier___LogisticRegression_1734520717568norm_abs [shape=box label=\\\"norm_abs\\\" fontsize=10];\\n    main__classifier___LogisticRegression_1734520717568Abs [shape=box style=\\\"filled,rounded\\\" color=orange label=\\\"Abs\\n(Abs)\\\" fontsize=10];\\n    main__classifier___LogisticRegression_1734520717568raw_scoressig -> main__classifier___LogisticRegression_1734520717568Abs;\\n    main__classifier___LogisticRegression_1734520717568Abs -> main__classifier___LogisticRegression_1734520717568norm_abs;\\n  \\n    main__classifier___LogisticRegression_1734520717568cast2_result [shape=box label=\\\"cast2_result\\\" fontsize=10];\\n    main__classifier___LogisticRegression_1734520717568Cast [shape=box style=\\\"filled,rounded\\\" color=orange label=\\\"Cast\\n(Cast)\\nto=11\\\" fontsize=10];\\n    main__classifier___LogisticRegression_1734520717568array_feature_extractor_result -> main__classifier___LogisticRegression_1734520717568Cast;\\n    main__classifier___LogisticRegression_1734520717568Cast -> main__classifier___LogisticRegression_1734520717568cast2_result;\\n  \\n    main__classifier___LogisticRegression_1734520717568norm [shape=box label=\\\"norm\\\" fontsize=10];\\n    main__classifier___LogisticRegression_1734520717568ReduceSum [shape=box style=\\\"filled,rounded\\\" color=orange label=\\\"ReduceSum\\n(ReduceSum)\\nkeepdims=1\\\" fontsize=10];\\n    main__classifier___LogisticRegression_1734520717568norm_abs -> main__classifier___LogisticRegression_1734520717568ReduceSum;\\n    main__classifier___LogisticRegression_1734520717568axis -> main__classifier___LogisticRegression_1734520717568ReduceSum;\\n    main__classifier___LogisticRegression_1734520717568ReduceSum -> main__classifier___LogisticRegression_1734520717568norm;\\n  \\n    main__classifier___LogisticRegression_1734520717568reshaped_result [shape=box label=\\\"reshaped_result\\\" fontsize=10];\\n    main__classifier___LogisticRegression_1734520717568Reshape [shape=box style=\\\"filled,rounded\\\" color=orange label=\\\"Reshape\\n(Reshape)\\\" fontsize=10];\\n    main__classifier___LogisticRegression_1734520717568cast2_result -> main__classifier___LogisticRegression_1734520717568Reshape;\\n    main__classifier___LogisticRegression_1734520717568shape_tensor -> main__classifier___LogisticRegression_1734520717568Reshape;\\n    main__classifier___LogisticRegression_1734520717568Reshape -> main__classifier___LogisticRegression_1734520717568reshaped_result;\\n  \\n    main__classifier___LogisticRegression_1734520717568NormalizerNorm [shape=box style=\\\"filled,rounded\\\" color=orange label=\\\"Div\\n(NormalizerNorm)\\\" fontsize=10];\\n    main__classifier___LogisticRegression_1734520717568raw_scoressig -> main__classifier___LogisticRegression_1734520717568NormalizerNorm;\\n    main__classifier___LogisticRegression_1734520717568norm -> main__classifier___LogisticRegression_1734520717568NormalizerNorm;\\n    main__classifier___LogisticRegression_1734520717568NormalizerNorm -> main__classifier___LogisticRegression_1734520717568probabilities;\\n  \\n    main__classifier___LogisticRegression_1734520717568Cast1 [shape=box style=\\\"filled,rounded\\\" color=orange label=\\\"Cast\\n(Cast1)\\nto=7\\\" fontsize=10];\\n    main__classifier___LogisticRegression_1734520717568reshaped_result -> main__classifier___LogisticRegression_1734520717568Cast1;\\n    main__classifier___LogisticRegression_1734520717568Cast1 -> main__classifier___LogisticRegression_1734520717568label;\\n  }\\n\\n  subgraph cluster_4 {\\n    label=\\\"main___Pipeline_1734198554880\\\";\\n    color=blue;\\n    nodesep=0.05;\\n    orientation=portrait;\\n    size=7;\\n    ranksep=0.25;\\n  \\n    main___Pipeline_1734198554880X [shape=box color=red label=\\\"X\\\" fontsize=10];\\n  \\n    main___Pipeline_1734198554880classifier_label [shape=box color=green label=\\\"classifier_label\\\" fontsize=10];\\n    main___Pipeline_1734198554880classifier_probabilities [shape=box color=green label=\\\"classifier_probabilities\\\" fontsize=10];\\n  \\n  \\n    main___Pipeline_1734198554880preprocessing_out_con_0 [shape=box label=\\\"preprocessing_out_con_0\\\" fontsize=10];\\n    main___Pipeline_1734198554880_fct_main__preprocessing___ColumnTransformer_1734520793072 [shape=box style=\\\"filled,rounded\\\" color=orange label=\\\"main__preprocessing___ColumnTransformer_1734520793072\\n(_fct_main__preprocessing___ColumnTransformer_1734520793072)\\\" fontsize=10];\\n    main___Pipeline_1734198554880X -> main___Pipeline_1734198554880_fct_main__preprocessing___ColumnTransformer_1734520793072;\\n    main___Pipeline_1734198554880_fct_main__preprocessing___ColumnTransformer_1734520793072 -> main___Pipeline_1734198554880preprocessing_out_con_0;\\n  \\n    main___Pipeline_1734198554880_fct_main__classifier___LogisticRegression_1734520717568 [shape=box style=\\\"filled,rounded\\\" color=orange label=\\\"main__classifier___LogisticRegression_1734520717568\\n(_fct_main__classifier___LogisticRegression_1734520717568)\\\" fontsize=10];\\n    main___Pipeline_1734198554880preprocessing_out_con_0 -> main___Pipeline_1734198554880_fct_main__classifier___LogisticRegression_1734520717568;\\n    main___Pipeline_1734198554880_fct_main__classifier___LogisticRegression_1734520717568 -> main___Pipeline_1734198554880classifier_label;\\n    main___Pipeline_1734198554880_fct_main__classifier___LogisticRegression_1734520717568 -> main___Pipeline_1734198554880classifier_probabilities;\\n  }\\n}\");\n",
              "document.getElementById('M0ccc32ccf2e24c7793ceda66e225fde2').innerHTML = svgGraph; });\n",
              "\n",
              "</script>"
            ],
            "text/plain": [
              "<jyquickhelper.jspy.render_nb_js_dot.RenderJsDot at 0x193b6261550>"
            ]
          },
          "execution_count": 12,
          "metadata": {},
          "output_type": "execute_result"
        }
      ],
      "source": [
        "%onnxview onxf"
      ]
    },
    {
      "cell_type": "code",
      "execution_count": 12,
      "id": "507cef55",
      "metadata": {},
      "outputs": [],
      "source": []
    }
  ],
  "metadata": {
    "kernelspec": {
      "display_name": "Python 3",
      "language": "python",
      "name": "python3"
    },
    "language_info": {
      "codemirror_mode": {
        "name": "ipython",
        "version": 3
      },
      "file_extension": ".py",
      "mimetype": "text/x-python",
      "name": "python",
      "nbconvert_exporter": "python",
      "pygments_lexer": "ipython3",
      "version": "3.9.5"
    }
  },
  "nbformat": 4,
  "nbformat_minor": 5
}