{
  "cells": [
    {
      "cell_type": "markdown",
      "metadata": {},
      "source": [
        "# Fast TopK elements\n",
        "\n",
        "Looking for the top k elements is something needed to implement a simple k nearest neighbors. The implementation *scikit-learn* is using relies on *numpy*: [_kneighbors_reduce_func](https://github.com/scikit-learn/scikit-learn/blob/master/sklearn/neighbors/_base.py#L496). *mlprodict* also contains a C++ implementation of the same function. Let's compare them."
      ]
    },
    {
      "cell_type": "code",
      "execution_count": 1,
      "metadata": {},
      "outputs": [
        {
          "data": {
            "text/html": [
              "<div id=\"my_id_menu_nb\">run previous cell, wait for 2 seconds</div>\n",
              "<script>\n",
              "function repeat_indent_string(n){\n",
              "    var a = \"\" ;\n",
              "    for ( ; n > 0 ; --n)\n",
              "        a += \"    \";\n",
              "    return a;\n",
              "}\n",
              "// look up into all sections and builds an automated menu //\n",
              "var update_menu_string = function(begin, lfirst, llast, sformat, send, keep_item, begin_format, end_format) {\n",
              "    var anchors = document.getElementsByClassName(\"section\");\n",
              "    if (anchors.length == 0) {\n",
              "        anchors = document.getElementsByClassName(\"text_cell_render rendered_html\");\n",
              "    }\n",
              "    var i,t;\n",
              "    var text_menu = begin;\n",
              "    var text_memo = \"<pre>\\nlength:\" + anchors.length + \"\\n\";\n",
              "    var ind = \"\";\n",
              "    var memo_level = 1;\n",
              "    var href;\n",
              "    var tags = [];\n",
              "    var main_item = 0;\n",
              "    var format_open = 0;\n",
              "    for (i = 0; i <= llast; i++)\n",
              "        tags.push(\"h\" + i);\n",
              "\n",
              "    for (i = 0; i < anchors.length; i++) {\n",
              "        text_memo += \"**\" + anchors[i].id + \"--\\n\";\n",
              "\n",
              "        var child = null;\n",
              "        for(t = 0; t < tags.length; t++) {\n",
              "            var r = anchors[i].getElementsByTagName(tags[t]);\n",
              "            if (r.length > 0) {\n",
              "child = r[0];\n",
              "break;\n",
              "            }\n",
              "        }\n",
              "        if (child == null) {\n",
              "            text_memo += \"null\\n\";\n",
              "            continue;\n",
              "        }\n",
              "        if (anchors[i].hasAttribute(\"id\")) {\n",
              "            // when converted in RST\n",
              "            href = anchors[i].id;\n",
              "            text_memo += \"#1-\" + href;\n",
              "            // passer \u00e0 child suivant (le chercher)\n",
              "        }\n",
              "        else if (child.hasAttribute(\"id\")) {\n",
              "            // in a notebook\n",
              "            href = child.id;\n",
              "            text_memo += \"#2-\" + href;\n",
              "        }\n",
              "        else {\n",
              "            text_memo += \"#3-\" + \"*\" + \"\\n\";\n",
              "            continue;\n",
              "        }\n",
              "        var title = child.textContent;\n",
              "        var level = parseInt(child.tagName.substring(1,2));\n",
              "\n",
              "        text_memo += \"--\" + level + \"?\" + lfirst + \"--\" + title + \"\\n\";\n",
              "\n",
              "        if ((level < lfirst) || (level > llast)) {\n",
              "            continue ;\n",
              "        }\n",
              "        if (title.endsWith('\u00b6')) {\n",
              "            title = title.substring(0,title.length-1).replace(\"<\", \"&lt;\")\n",
              "         .replace(\">\", \"&gt;\").replace(\"&\", \"&amp;\");\n",
              "        }\n",
              "        if (title.length == 0) {\n",
              "            continue;\n",
              "        }\n",
              "\n",
              "        while (level < memo_level) {\n",
              "            text_menu += end_format + \"</ul>\\n\";\n",
              "            format_open -= 1;\n",
              "            memo_level -= 1;\n",
              "        }\n",
              "        if (level == lfirst) {\n",
              "            main_item += 1;\n",
              "        }\n",
              "        if (keep_item != -1 && main_item != keep_item + 1) {\n",
              "            // alert(main_item + \" - \" + level + \" - \" + keep_item);\n",
              "            continue;\n",
              "        }\n",
              "        while (level > memo_level) {\n",
              "            text_menu += \"<ul>\\n\";\n",
              "            memo_level += 1;\n",
              "        }\n",
              "        text_menu += repeat_indent_string(level-2);\n",
              "        text_menu += begin_format + sformat.replace(\"__HREF__\", href).replace(\"__TITLE__\", title);\n",
              "        format_open += 1;\n",
              "    }\n",
              "    while (1 < memo_level) {\n",
              "        text_menu += end_format + \"</ul>\\n\";\n",
              "        memo_level -= 1;\n",
              "        format_open -= 1;\n",
              "    }\n",
              "    text_menu += send;\n",
              "    //text_menu += \"\\n\" + text_memo;\n",
              "\n",
              "    while (format_open > 0) {\n",
              "        text_menu += end_format;\n",
              "        format_open -= 1;\n",
              "    }\n",
              "    return text_menu;\n",
              "};\n",
              "var update_menu = function() {\n",
              "    var sbegin = \"\";\n",
              "    var sformat = '<a href=\"#__HREF__\">__TITLE__</a>';\n",
              "    var send = \"\";\n",
              "    var begin_format = '<li>';\n",
              "    var end_format = '</li>';\n",
              "    var keep_item = -1;\n",
              "    var text_menu = update_menu_string(sbegin, 2, 4, sformat, send, keep_item,\n",
              "       begin_format, end_format);\n",
              "    var menu = document.getElementById(\"my_id_menu_nb\");\n",
              "    menu.innerHTML=text_menu;\n",
              "};\n",
              "window.setTimeout(update_menu,2000);\n",
              "            </script>"
            ],
            "text/plain": [
              "<IPython.core.display.HTML object>"
            ]
          },
          "execution_count": 2,
          "metadata": {},
          "output_type": "execute_result"
        }
      ],
      "source": [
        "from jyquickhelper import add_notebook_menu\n",
        "add_notebook_menu()"
      ]
    },
    {
      "cell_type": "code",
      "execution_count": 2,
      "metadata": {},
      "outputs": [],
      "source": [
        "%matplotlib inline"
      ]
    },
    {
      "cell_type": "markdown",
      "metadata": {},
      "source": [
        "## Two implementations\n",
        "\n",
        "We assume we are looking for the `k` nearest elements of every row of matrix `X` which is a dense matrix of doubles."
      ]
    },
    {
      "cell_type": "code",
      "execution_count": 3,
      "metadata": {},
      "outputs": [],
      "source": [
        "import numpy.random as rnd\n",
        "from sklearn.neighbors._base import KNeighborsMixin\n",
        "\n",
        "mixin = KNeighborsMixin()"
      ]
    },
    {
      "cell_type": "code",
      "execution_count": 4,
      "metadata": {},
      "outputs": [
        {
          "data": {
            "text/plain": [
              "array([[2, 7, 3],\n",
              "       [7, 0, 8],\n",
              "       [1, 5, 6],\n",
              "       [8, 9, 3],\n",
              "       [4, 6, 5]], dtype=int64)"
            ]
          },
          "execution_count": 5,
          "metadata": {},
          "output_type": "execute_result"
        }
      ],
      "source": [
        "def topk_sklearn(X, k):\n",
        "    return mixin._kneighbors_reduce_func(X, 0, k, False)\n",
        "    \n",
        "X = rnd.randn(5, 10)\n",
        "ind = topk_sklearn(X, 3)\n",
        "ind"
      ]
    },
    {
      "cell_type": "markdown",
      "metadata": {},
      "source": [
        "Now the implementation with *mlprodict* (C++) available at [topk_element_min](https://github.com/sdpython/mlprodict/blob/master/mlprodict/onnxrt/ops_cpu/_op_onnx_numpy.cpp#L201). It uses [heap](https://en.wikipedia.org/wiki/Heap_(data_structure))."
      ]
    },
    {
      "cell_type": "code",
      "execution_count": 5,
      "metadata": {},
      "outputs": [],
      "source": [
        "from mlprodict.onnxrt.ops_cpu._op_onnx_numpy import topk_element_min_double"
      ]
    },
    {
      "cell_type": "code",
      "execution_count": 6,
      "metadata": {},
      "outputs": [
        {
          "data": {
            "text/plain": [
              "array([[2, 7, 3],\n",
              "       [7, 0, 8],\n",
              "       [1, 5, 6],\n",
              "       [8, 9, 3],\n",
              "       [4, 6, 5]], dtype=int64)"
            ]
          },
          "execution_count": 7,
          "metadata": {},
          "output_type": "execute_result"
        }
      ],
      "source": [
        "def topk_cpp(X, k):\n",
        "    return topk_element_min_double(X, k, True, 50)\n",
        "    \n",
        "ind = topk_cpp(X, 3)\n",
        "ind"
      ]
    },
    {
      "cell_type": "markdown",
      "metadata": {},
      "source": [
        "## Speed comparison by size"
      ]
    },
    {
      "cell_type": "code",
      "execution_count": 7,
      "metadata": {},
      "outputs": [
        {
          "name": "stdout",
          "output_type": "stream",
          "text": [
            "21.7 \u00b5s \u00b1 4.19 \u00b5s per loop (mean \u00b1 std. dev. of 7 runs, 100000 loops each)\n"
          ]
        }
      ],
      "source": [
        "%timeit topk_sklearn(X, 3)"
      ]
    },
    {
      "cell_type": "code",
      "execution_count": 8,
      "metadata": {},
      "outputs": [
        {
          "name": "stdout",
          "output_type": "stream",
          "text": [
            "4.1 \u00b5s \u00b1 435 ns per loop (mean \u00b1 std. dev. of 7 runs, 100000 loops each)\n"
          ]
        }
      ],
      "source": [
        "%timeit topk_cpp(X, 3)"
      ]
    },
    {
      "cell_type": "markdown",
      "metadata": {},
      "source": [
        "Quite a lot faster on this simple example. Let's look for bigger matrices."
      ]
    },
    {
      "cell_type": "code",
      "execution_count": 9,
      "metadata": {},
      "outputs": [],
      "source": [
        "X = rnd.randn(1000, 100)"
      ]
    },
    {
      "cell_type": "code",
      "execution_count": 10,
      "metadata": {},
      "outputs": [
        {
          "name": "stdout",
          "output_type": "stream",
          "text": [
            "1.8 ms \u00b1 102 \u00b5s per loop (mean \u00b1 std. dev. of 7 runs, 1000 loops each)\n"
          ]
        }
      ],
      "source": [
        "%timeit topk_sklearn(X, 10)"
      ]
    },
    {
      "cell_type": "code",
      "execution_count": 11,
      "metadata": {},
      "outputs": [
        {
          "name": "stdout",
          "output_type": "stream",
          "text": [
            "786 \u00b5s \u00b1 116 \u00b5s per loop (mean \u00b1 std. dev. of 7 runs, 1000 loops each)\n"
          ]
        }
      ],
      "source": [
        "%timeit topk_cpp(X, 10)"
      ]
    },
    {
      "cell_type": "code",
      "execution_count": 12,
      "metadata": {},
      "outputs": [
        {
          "name": "stderr",
          "output_type": "stream",
          "text": [
            "100%|\u2588\u2588\u2588\u2588\u2588\u2588\u2588\u2588\u2588\u2588| 10/10 [00:08<00:00,  1.16it/s]\n"
          ]
        },
        {
          "data": {
            "text/html": [
              "<div>\n",
              "<style scoped>\n",
              "    .dataframe tbody tr th:only-of-type {\n",
              "        vertical-align: middle;\n",
              "    }\n",
              "\n",
              "    .dataframe tbody tr th {\n",
              "        vertical-align: top;\n",
              "    }\n",
              "\n",
              "    .dataframe thead th {\n",
              "        text-align: right;\n",
              "    }\n",
              "</style>\n",
              "<table border=\"1\" class=\"dataframe\">\n",
              "  <thead>\n",
              "    <tr style=\"text-align: right;\">\n",
              "      <th></th>\n",
              "      <th>average</th>\n",
              "      <th>deviation</th>\n",
              "      <th>min_exec</th>\n",
              "      <th>max_exec</th>\n",
              "      <th>repeat</th>\n",
              "      <th>number</th>\n",
              "      <th>context_size</th>\n",
              "      <th>N</th>\n",
              "      <th>name</th>\n",
              "    </tr>\n",
              "  </thead>\n",
              "  <tbody>\n",
              "    <tr>\n",
              "      <th>0</th>\n",
              "      <td>0.016310</td>\n",
              "      <td>0.000260</td>\n",
              "      <td>0.016050</td>\n",
              "      <td>0.016571</td>\n",
              "      <td>2</td>\n",
              "      <td>2</td>\n",
              "      <td>240</td>\n",
              "      <td>1000</td>\n",
              "      <td>topk_sklearn</td>\n",
              "    </tr>\n",
              "    <tr>\n",
              "      <th>1</th>\n",
              "      <td>0.003872</td>\n",
              "      <td>0.000501</td>\n",
              "      <td>0.003335</td>\n",
              "      <td>0.004631</td>\n",
              "      <td>4</td>\n",
              "      <td>4</td>\n",
              "      <td>240</td>\n",
              "      <td>1000</td>\n",
              "      <td>topk_cpp</td>\n",
              "    </tr>\n",
              "    <tr>\n",
              "      <th>2</th>\n",
              "      <td>0.034684</td>\n",
              "      <td>0.001629</td>\n",
              "      <td>0.033055</td>\n",
              "      <td>0.036313</td>\n",
              "      <td>2</td>\n",
              "      <td>2</td>\n",
              "      <td>240</td>\n",
              "      <td>2000</td>\n",
              "      <td>topk_sklearn</td>\n",
              "    </tr>\n",
              "    <tr>\n",
              "      <th>3</th>\n",
              "      <td>0.006973</td>\n",
              "      <td>0.000558</td>\n",
              "      <td>0.006307</td>\n",
              "      <td>0.007756</td>\n",
              "      <td>4</td>\n",
              "      <td>4</td>\n",
              "      <td>240</td>\n",
              "      <td>2000</td>\n",
              "      <td>topk_cpp</td>\n",
              "    </tr>\n",
              "    <tr>\n",
              "      <th>4</th>\n",
              "      <td>0.051934</td>\n",
              "      <td>0.000851</td>\n",
              "      <td>0.051084</td>\n",
              "      <td>0.052785</td>\n",
              "      <td>2</td>\n",
              "      <td>2</td>\n",
              "      <td>240</td>\n",
              "      <td>3000</td>\n",
              "      <td>topk_sklearn</td>\n",
              "    </tr>\n",
              "  </tbody>\n",
              "</table>\n",
              "</div>"
            ],
            "text/plain": [
              "    average  deviation  min_exec  max_exec  repeat  number  context_size  \\\n",
              "0  0.016310   0.000260  0.016050  0.016571       2       2           240   \n",
              "1  0.003872   0.000501  0.003335  0.004631       4       4           240   \n",
              "2  0.034684   0.001629  0.033055  0.036313       2       2           240   \n",
              "3  0.006973   0.000558  0.006307  0.007756       4       4           240   \n",
              "4  0.051934   0.000851  0.051084  0.052785       2       2           240   \n",
              "\n",
              "      N          name  \n",
              "0  1000  topk_sklearn  \n",
              "1  1000      topk_cpp  \n",
              "2  2000  topk_sklearn  \n",
              "3  2000      topk_cpp  \n",
              "4  3000  topk_sklearn  "
            ]
          },
          "execution_count": 13,
          "metadata": {},
          "output_type": "execute_result"
        }
      ],
      "source": [
        "from cpyquickhelper.numbers import measure_time\n",
        "from tqdm import tqdm\n",
        "from pandas import DataFrame\n",
        "\n",
        "rows = []\n",
        "for n in tqdm(range(1000, 10001, 1000)):\n",
        "    X = rnd.randn(n, 1000)\n",
        "    res = measure_time('topk_sklearn(X, 20)',\n",
        "                       {'X': X, 'topk_sklearn': topk_sklearn},\n",
        "                       div_by_number=True,\n",
        "                       number=2, repeat=2)\n",
        "    res[\"N\"] = n\n",
        "    res[\"name\"] = 'topk_sklearn'\n",
        "    rows.append(res)\n",
        "    res = measure_time('topk_cpp(X, 20)',\n",
        "                       {'X': X, 'topk_cpp': topk_cpp},\n",
        "                       div_by_number=True,\n",
        "                       number=4, repeat=4)\n",
        "    res[\"N\"] = n\n",
        "    res[\"name\"] = 'topk_cpp'\n",
        "    rows.append(res)\n",
        "\n",
        "df = DataFrame(rows)\n",
        "df.head()"
      ]
    },
    {
      "cell_type": "code",
      "execution_count": 13,
      "metadata": {},
      "outputs": [
        {
          "data": {
            "image/png": "[encoded data removed]",
            "text/plain": [
              "<Figure size 720x288 with 2 Axes>"
            ]
          },
          "metadata": {
            "needs_background": "light"
          },
          "output_type": "display_data"
        }
      ],
      "source": [
        "import matplotlib.pyplot as plt\n",
        "\n",
        "fig, ax = plt.subplots(1, 2, figsize=(10, 4))\n",
        "piv = df.pivot(\"N\", \"name\", \"average\")\n",
        "piv.plot(ax=ax[0], logy=True, logx=True)\n",
        "ax[0].set_title(\"top 20\")\n",
        "piv[\"ratio\"] = piv[\"topk_cpp\"] / piv[\"topk_sklearn\"]\n",
        "piv[[\"ratio\"]].plot(ax=ax[1])\n",
        "ax[1].set_title(\"ratio\");"
      ]
    },
    {
      "cell_type": "markdown",
      "metadata": {},
      "source": [
        "## Speed comparison by k"
      ]
    },
    {
      "cell_type": "code",
      "execution_count": 14,
      "metadata": {},
      "outputs": [
        {
          "name": "stderr",
          "output_type": "stream",
          "text": [
            "100%|\u2588\u2588\u2588\u2588\u2588\u2588\u2588\u2588\u2588\u2588| 68/68 [00:34<00:00,  1.95it/s]\n"
          ]
        },
        {
          "data": {
            "text/html": [
              "<div>\n",
              "<style scoped>\n",
              "    .dataframe tbody tr th:only-of-type {\n",
              "        vertical-align: middle;\n",
              "    }\n",
              "\n",
              "    .dataframe tbody tr th {\n",
              "        vertical-align: top;\n",
              "    }\n",
              "\n",
              "    .dataframe thead th {\n",
              "        text-align: right;\n",
              "    }\n",
              "</style>\n",
              "<table border=\"1\" class=\"dataframe\">\n",
              "  <thead>\n",
              "    <tr style=\"text-align: right;\">\n",
              "      <th></th>\n",
              "      <th>average</th>\n",
              "      <th>deviation</th>\n",
              "      <th>min_exec</th>\n",
              "      <th>max_exec</th>\n",
              "      <th>repeat</th>\n",
              "      <th>number</th>\n",
              "      <th>context_size</th>\n",
              "      <th>k</th>\n",
              "      <th>name</th>\n",
              "    </tr>\n",
              "  </thead>\n",
              "  <tbody>\n",
              "    <tr>\n",
              "      <th>0</th>\n",
              "      <td>0.009558</td>\n",
              "      <td>0.001392</td>\n",
              "      <td>0.008166</td>\n",
              "      <td>0.010949</td>\n",
              "      <td>2</td>\n",
              "      <td>2</td>\n",
              "      <td>240</td>\n",
              "      <td>1</td>\n",
              "      <td>topk_sklearn</td>\n",
              "    </tr>\n",
              "    <tr>\n",
              "      <th>1</th>\n",
              "      <td>0.002665</td>\n",
              "      <td>0.000571</td>\n",
              "      <td>0.002094</td>\n",
              "      <td>0.003236</td>\n",
              "      <td>2</td>\n",
              "      <td>2</td>\n",
              "      <td>240</td>\n",
              "      <td>1</td>\n",
              "      <td>topk_cpp</td>\n",
              "    </tr>\n",
              "    <tr>\n",
              "      <th>2</th>\n",
              "      <td>0.021933</td>\n",
              "      <td>0.000575</td>\n",
              "      <td>0.021358</td>\n",
              "      <td>0.022508</td>\n",
              "      <td>2</td>\n",
              "      <td>2</td>\n",
              "      <td>240</td>\n",
              "      <td>2</td>\n",
              "      <td>topk_sklearn</td>\n",
              "    </tr>\n",
              "    <tr>\n",
              "      <th>3</th>\n",
              "      <td>0.001000</td>\n",
              "      <td>0.000084</td>\n",
              "      <td>0.000917</td>\n",
              "      <td>0.001084</td>\n",
              "      <td>2</td>\n",
              "      <td>2</td>\n",
              "      <td>240</td>\n",
              "      <td>2</td>\n",
              "      <td>topk_cpp</td>\n",
              "    </tr>\n",
              "    <tr>\n",
              "      <th>4</th>\n",
              "      <td>0.025986</td>\n",
              "      <td>0.001411</td>\n",
              "      <td>0.024575</td>\n",
              "      <td>0.027398</td>\n",
              "      <td>2</td>\n",
              "      <td>2</td>\n",
              "      <td>240</td>\n",
              "      <td>3</td>\n",
              "      <td>topk_sklearn</td>\n",
              "    </tr>\n",
              "  </tbody>\n",
              "</table>\n",
              "</div>"
            ],
            "text/plain": [
              "    average  deviation  min_exec  max_exec  repeat  number  context_size  k  \\\n",
              "0  0.009558   0.001392  0.008166  0.010949       2       2           240  1   \n",
              "1  0.002665   0.000571  0.002094  0.003236       2       2           240  1   \n",
              "2  0.021933   0.000575  0.021358  0.022508       2       2           240  2   \n",
              "3  0.001000   0.000084  0.000917  0.001084       2       2           240  2   \n",
              "4  0.025986   0.001411  0.024575  0.027398       2       2           240  3   \n",
              "\n",
              "           name  \n",
              "0  topk_sklearn  \n",
              "1      topk_cpp  \n",
              "2  topk_sklearn  \n",
              "3      topk_cpp  \n",
              "4  topk_sklearn  "
            ]
          },
          "execution_count": 15,
          "metadata": {},
          "output_type": "execute_result"
        }
      ],
      "source": [
        "rows = []\n",
        "X = rnd.randn(2000, 1000)\n",
        "for k in tqdm(list(range(1, 20)) + list(range(20, 1000, 20))):\n",
        "    res = measure_time('topk_sklearn(X, k)',\n",
        "                       {'X': X, 'topk_sklearn': topk_sklearn, 'k': k},\n",
        "                       div_by_number=True,\n",
        "                       number=2, repeat=2)\n",
        "    res[\"k\"] = k\n",
        "    res[\"name\"] = 'topk_sklearn'\n",
        "    rows.append(res)\n",
        "    res = measure_time('topk_cpp(X, k)',\n",
        "                       {'X': X, 'topk_cpp': topk_cpp, 'k': k},\n",
        "                       div_by_number=True,\n",
        "                       number=2, repeat=2)\n",
        "    res[\"k\"] = k\n",
        "    res[\"name\"] = 'topk_cpp'\n",
        "    rows.append(res)\n",
        "\n",
        "df = DataFrame(rows)\n",
        "df.head()"
      ]
    },
    {
      "cell_type": "code",
      "execution_count": 15,
      "metadata": {},
      "outputs": [
        {
          "data": {
            "image/png": "[encoded data removed]",
            "text/plain": [
              "<Figure size 720x288 with 2 Axes>"
            ]
          },
          "metadata": {
            "needs_background": "light"
          },
          "output_type": "display_data"
        }
      ],
      "source": [
        "fig, ax = plt.subplots(1, 2, figsize=(10, 4))\n",
        "piv = df.pivot(\"k\", \"name\", \"average\")\n",
        "piv.plot(ax=ax[0], logy=True, logx=True)\n",
        "ax[0].set_title(\"top k for 2000 rows\")\n",
        "piv[\"ratio\"] = piv[\"topk_cpp\"] / piv[\"topk_sklearn\"]\n",
        "piv[[\"ratio\"]].plot(ax=ax[1])\n",
        "ax[1].set_title(\"ratio\")\n",
        "ax[0].set_xlabel(\"k\")\n",
        "ax[1].set_xlabel(\"k\");"
      ]
    },
    {
      "cell_type": "markdown",
      "metadata": {},
      "source": [
        "The implementation is half faster in all cases and much more efficient for small values which is usually the case for the nearest neighbors. This implementation is using *openmp*, maybe that's why it gets 50% faster on this two cores machine."
      ]
    },
    {
      "cell_type": "code",
      "execution_count": 16,
      "metadata": {},
      "outputs": [],
      "source": []
    }
  ],
  "metadata": {
    "kernelspec": {
      "display_name": "Python 3",
      "language": "python",
      "name": "python3"
    },
    "language_info": {
      "codemirror_mode": {
        "name": "ipython",
        "version": 3
      },
      "file_extension": ".py",
      "mimetype": "text/x-python",
      "name": "python",
      "nbconvert_exporter": "python",
      "pygments_lexer": "ipython3",
      "version": "3.7.2"
    }
  },
  "nbformat": 4,
  "nbformat_minor": 2
}