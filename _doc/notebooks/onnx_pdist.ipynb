{
  "cells": [
    {
      "cell_type": "markdown",
      "metadata": {},
      "source": [
        "# Pairwise distances with ONNX (pdist)\n",
        "\n",
        "Function [pdist](https://docs.scipy.org/doc/scipy/reference/generated/scipy.spatial.distance.pdist.html) computes pairwise distances between observations in n-dimensional space. It is not that difficult to convert that into *ONNX* when the dimension of the input is always the same. What if not?"
      ]
    },
    {
      "cell_type": "code",
      "execution_count": 1,
      "metadata": {},
      "outputs": [
        {
          "data": {
            "text/html": [
              "<div id=\"my_id_menu_nb\">run previous cell, wait for 2 seconds</div>\n",
              "<script>\n",
              "function repeat_indent_string(n){\n",
              "    var a = \"\" ;\n",
              "    for ( ; n > 0 ; --n)\n",
              "        a += \"    \";\n",
              "    return a;\n",
              "}\n",
              "// look up into all sections and builds an automated menu //\n",
              "var update_menu_string = function(begin, lfirst, llast, sformat, send, keep_item, begin_format, end_format) {\n",
              "    var anchors = document.getElementsByClassName(\"section\");\n",
              "    if (anchors.length == 0) {\n",
              "        anchors = document.getElementsByClassName(\"text_cell_render rendered_html\");\n",
              "    }\n",
              "    var i,t;\n",
              "    var text_menu = begin;\n",
              "    var text_memo = \"<pre>\\nlength:\" + anchors.length + \"\\n\";\n",
              "    var ind = \"\";\n",
              "    var memo_level = 1;\n",
              "    var href;\n",
              "    var tags = [];\n",
              "    var main_item = 0;\n",
              "    var format_open = 0;\n",
              "    for (i = 0; i <= llast; i++)\n",
              "        tags.push(\"h\" + i);\n",
              "\n",
              "    for (i = 0; i < anchors.length; i++) {\n",
              "        text_memo += \"**\" + anchors[i].id + \"--\\n\";\n",
              "\n",
              "        var child = null;\n",
              "        for(t = 0; t < tags.length; t++) {\n",
              "            var r = anchors[i].getElementsByTagName(tags[t]);\n",
              "            if (r.length > 0) {\n",
              "child = r[0];\n",
              "break;\n",
              "            }\n",
              "        }\n",
              "        if (child == null) {\n",
              "            text_memo += \"null\\n\";\n",
              "            continue;\n",
              "        }\n",
              "        if (anchors[i].hasAttribute(\"id\")) {\n",
              "            // when converted in RST\n",
              "            href = anchors[i].id;\n",
              "            text_memo += \"#1-\" + href;\n",
              "            // passer \u00e0 child suivant (le chercher)\n",
              "        }\n",
              "        else if (child.hasAttribute(\"id\")) {\n",
              "            // in a notebook\n",
              "            href = child.id;\n",
              "            text_memo += \"#2-\" + href;\n",
              "        }\n",
              "        else {\n",
              "            text_memo += \"#3-\" + \"*\" + \"\\n\";\n",
              "            continue;\n",
              "        }\n",
              "        var title = child.textContent;\n",
              "        var level = parseInt(child.tagName.substring(1,2));\n",
              "\n",
              "        text_memo += \"--\" + level + \"?\" + lfirst + \"--\" + title + \"\\n\";\n",
              "\n",
              "        if ((level < lfirst) || (level > llast)) {\n",
              "            continue ;\n",
              "        }\n",
              "        if (title.endsWith('\u00b6')) {\n",
              "            title = title.substring(0,title.length-1).replace(\"<\", \"&lt;\")\n",
              "         .replace(\">\", \"&gt;\").replace(\"&\", \"&amp;\");\n",
              "        }\n",
              "        if (title.length == 0) {\n",
              "            continue;\n",
              "        }\n",
              "\n",
              "        while (level < memo_level) {\n",
              "            text_menu += end_format + \"</ul>\\n\";\n",
              "            format_open -= 1;\n",
              "            memo_level -= 1;\n",
              "        }\n",
              "        if (level == lfirst) {\n",
              "            main_item += 1;\n",
              "        }\n",
              "        if (keep_item != -1 && main_item != keep_item + 1) {\n",
              "            // alert(main_item + \" - \" + level + \" - \" + keep_item);\n",
              "            continue;\n",
              "        }\n",
              "        while (level > memo_level) {\n",
              "            text_menu += \"<ul>\\n\";\n",
              "            memo_level += 1;\n",
              "        }\n",
              "        text_menu += repeat_indent_string(level-2);\n",
              "        text_menu += begin_format + sformat.replace(\"__HREF__\", href).replace(\"__TITLE__\", title);\n",
              "        format_open += 1;\n",
              "    }\n",
              "    while (1 < memo_level) {\n",
              "        text_menu += end_format + \"</ul>\\n\";\n",
              "        memo_level -= 1;\n",
              "        format_open -= 1;\n",
              "    }\n",
              "    text_menu += send;\n",
              "    //text_menu += \"\\n\" + text_memo;\n",
              "\n",
              "    while (format_open > 0) {\n",
              "        text_menu += end_format;\n",
              "        format_open -= 1;\n",
              "    }\n",
              "    return text_menu;\n",
              "};\n",
              "var update_menu = function() {\n",
              "    var sbegin = \"\";\n",
              "    var sformat = '<a href=\"#__HREF__\">__TITLE__</a>';\n",
              "    var send = \"\";\n",
              "    var begin_format = '<li>';\n",
              "    var end_format = '</li>';\n",
              "    var keep_item = -1;\n",
              "    var text_menu = update_menu_string(sbegin, 2, 4, sformat, send, keep_item,\n",
              "       begin_format, end_format);\n",
              "    var menu = document.getElementById(\"my_id_menu_nb\");\n",
              "    menu.innerHTML=text_menu;\n",
              "};\n",
              "window.setTimeout(update_menu,2000);\n",
              "            </script>"
            ],
            "text/plain": [
              "<IPython.core.display.HTML object>"
            ]
          },
          "execution_count": 2,
          "metadata": {},
          "output_type": "execute_result"
        }
      ],
      "source": [
        "from jyquickhelper import add_notebook_menu\n",
        "add_notebook_menu()"
      ]
    },
    {
      "cell_type": "code",
      "execution_count": 2,
      "metadata": {},
      "outputs": [
        {
          "name": "stdout",
          "output_type": "stream",
          "text": [
            "The mlprodict extension is already loaded. To reload it, use:\n",
            "  %reload_ext mlprodict\n"
          ]
        }
      ],
      "source": [
        "%load_ext mlprodict"
      ]
    },
    {
      "cell_type": "markdown",
      "metadata": {},
      "source": [
        "## Function pdist\n",
        "\n",
        "The function [pdist](https://docs.scipy.org/doc/scipy/reference/generated/scipy.spatial.distance.pdist.html) distances. Let's denote a list of vectors $(X_1, ..., X_n)$, function [pdist](https://docs.scipy.org/doc/scipy/reference/generated/scipy.spatial.distance.pdist.html) returns the matrix $D=(d_{ij})$ where $d_{ij}=dist(X_i, X_j)=\\lVert X_i - X_j \\rVert^2$."
      ]
    },
    {
      "cell_type": "code",
      "execution_count": 3,
      "metadata": {},
      "outputs": [
        {
          "data": {
            "text/plain": [
              "array([[0.  , 2.  , 0.02, 5.  ],\n",
              "       [2.  , 0.  , 1.62, 1.  ],\n",
              "       [0.02, 1.62, 0.  , 4.42],\n",
              "       [5.  , 1.  , 4.42, 0.  ]])"
            ]
          },
          "execution_count": 4,
          "metadata": {},
          "output_type": "execute_result"
        }
      ],
      "source": [
        "import numpy\n",
        "from scipy.spatial.distance import pdist, squareform\n",
        "\n",
        "M = numpy.array([[0, 1],\n",
        "                 [1, 2],\n",
        "                 [0.1, 1.1],\n",
        "                 [2, 2]], dtype=float)\n",
        "\n",
        "d1 = squareform(pdist(M, metric='sqeuclidean'))\n",
        "d1"
      ]
    },
    {
      "cell_type": "markdown",
      "metadata": {},
      "source": [
        "The two following functions are implemented to reduce the number of allocations the algorithm requires."
      ]
    },
    {
      "cell_type": "code",
      "execution_count": 4,
      "metadata": {},
      "outputs": [
        {
          "data": {
            "text/plain": [
              "array([[0.  , 2.  , 0.02, 5.  ],\n",
              "       [2.  , 0.  , 1.62, 1.  ],\n",
              "       [0.02, 1.62, 0.  , 4.42],\n",
              "       [5.  , 1.  , 4.42, 0.  ]])"
            ]
          },
          "execution_count": 5,
          "metadata": {},
          "output_type": "execute_result"
        }
      ],
      "source": [
        "def custom_pdist(M):\n",
        "    n = M.shape[0]\n",
        "    res = numpy.zeros((n, n))\n",
        "    buffer = numpy.empty(M.shape)\n",
        "    for i in range(n):\n",
        "        numpy.subtract(M, M[i], out=buffer)  # broadcasted substraction\n",
        "        numpy.square(buffer, out=buffer)\n",
        "        res[i, :] = numpy.sum(buffer, axis=1)\n",
        "    return res\n",
        "\n",
        "d2 = custom_pdist(M)\n",
        "d2"
      ]
    },
    {
      "cell_type": "markdown",
      "metadata": {},
      "source": [
        "This function computes $n^2$ distances wheres only $\\frac{n(n-1)}{2}$ are necessary since the final matrix is symmetric. Let's change the implementation to reflect that."
      ]
    },
    {
      "cell_type": "code",
      "execution_count": 5,
      "metadata": {},
      "outputs": [
        {
          "data": {
            "text/plain": [
              "array([[0.  , 2.  , 0.02, 5.  ],\n",
              "       [2.  , 0.  , 1.62, 1.  ],\n",
              "       [0.02, 1.62, 0.  , 4.42],\n",
              "       [5.  , 1.  , 4.42, 0.  ]])"
            ]
          },
          "execution_count": 6,
          "metadata": {},
          "output_type": "execute_result"
        }
      ],
      "source": [
        "def custom_pdist_lower(M):\n",
        "    n = M.shape[0]\n",
        "    res = numpy.zeros((n, n))\n",
        "    buffer = numpy.empty((M.shape[0]-1, M.shape[1]))\n",
        "    a = numpy.empty(M.shape[0])\n",
        "    for i in range(1, n):\n",
        "        numpy.subtract(M[:i], M[i], out=buffer[:i])  # broadcasted substraction\n",
        "        numpy.square(buffer[:i], out=buffer[:i])\n",
        "        numpy.sum(buffer[:i], axis=1, out=a[:i])\n",
        "        res[:i, i] = a[:i]\n",
        "        res[i, :i] = a[:i]\n",
        "    return res\n",
        "\n",
        "d3 = custom_pdist_lower(M)\n",
        "d3"
      ]
    },
    {
      "cell_type": "markdown",
      "metadata": {},
      "source": [
        "## Loop mechanism in ONNX\n",
        "\n",
        "Operator [Loop](https://github.com/onnx/onnx/blob/master/docs/Operators.md#Loop) seems appropriate but it is just a loop wheras [Scan](https://github.com/onnx/onnx/blob/master/docs/Operators.md#Scan) holds accumulator. The first graph is what is repeated inside the loop."
      ]
    },
    {
      "cell_type": "code",
      "execution_count": 6,
      "metadata": {},
      "outputs": [
        {
          "data": {
            "text/html": [
              "<div id=\"Mc52b56326a5f4e29924bee9559edbd58-cont\"><div id=\"Mc52b56326a5f4e29924bee9559edbd58\" style=\"width:;height:;\"></div></div>\n",
              "<script>\n",
              "\n",
              "require(['http://www.xavierdupre.fr/js/vizjs/viz.js'], function() { var svgGraph = Viz(\"digraph{\\n  ranksep=0.25;\\n  nodesep=0.05;\\n  orientation=portrait;\\n  size=7;\\n\\n  sum_in [shape=box color=red label=\\\"sum_in\\nfloat((0,))\\\" fontsize=10];\\n  next [shape=box color=red label=\\\"next\\nfloat((0,))\\\" fontsize=10];\\n\\n  sum_out [shape=box color=green label=\\\"sum_out\\nfloat(('?',))\\\" fontsize=10];\\n  scan_out [shape=box color=green label=\\\"scan_out\\nfloat(('?',))\\\" fontsize=10];\\n\\n\\n  Ad_Add [shape=box style=\\\"filled,rounded\\\" color=orange label=\\\"Add\\n(Ad_Add)\\\" fontsize=10];\\n  sum_in -> Ad_Add;\\n  next -> Ad_Add;\\n  Ad_Add -> sum_out;\\n\\n  Id_Identity [shape=box style=\\\"filled,rounded\\\" color=orange label=\\\"Identity\\n(Id_Identity)\\\" fontsize=10];\\n  sum_out -> Id_Identity;\\n  Id_Identity -> scan_out;\\n}\");\n",
              "document.getElementById('Mc52b56326a5f4e29924bee9559edbd58').innerHTML = svgGraph; });\n",
              "\n",
              "</script>"
            ],
            "text/plain": [
              "<jyquickhelper.jspy.render_nb_js_dot.RenderJsDot at 0x234da711a90>"
            ]
          },
          "execution_count": 7,
          "metadata": {},
          "output_type": "execute_result"
        }
      ],
      "source": [
        "from skl2onnx.algebra.onnx_ops import OnnxAdd, OnnxIdentity, OnnxScan\n",
        "from skl2onnx.common.data_types import FloatTensorType\n",
        "\n",
        "initial = numpy.array([0, 0]).astype(numpy.float32).reshape((2,))\n",
        "x = numpy.array([1, 2, 3, 4, 5, 6]).astype(numpy.float32).reshape((3, 2))\n",
        "\n",
        "add_node = OnnxAdd('sum_in', 'next', output_names=['sum_out'], op_version=12)\n",
        "id_node = OnnxIdentity(add_node, output_names=['scan_out'], op_version=12)\n",
        "\n",
        "scan_body = id_node.to_onnx(\n",
        "    {'sum_in': initial, 'next': initial},\n",
        "    outputs=[('sum_out', FloatTensorType()),\n",
        "             ('scan_out', FloatTensorType())])\n",
        "\n",
        "# add -l 1 if nothing shows up\n",
        "%onnxview scan_body"
      ]
    },
    {
      "cell_type": "markdown",
      "metadata": {},
      "source": [
        "The operator [Scan](https://github.com/onnx/onnx/blob/master/docs/Operators.md#Scan) repeats this graph a couple of times. *sum_in* is an accumulator, *next* is the iterated row from the input matrix."
      ]
    },
    {
      "cell_type": "code",
      "execution_count": 7,
      "metadata": {},
      "outputs": [
        {
          "data": {
            "text/html": [
              "<div id=\"M8f1590c6985748479d1fa0335194ac96-cont\"><div id=\"M8f1590c6985748479d1fa0335194ac96\" style=\"width:;height:;\"></div></div>\n",
              "<script>\n",
              "\n",
              "require(['http://www.xavierdupre.fr/js/vizjs/viz.js'], function() { var svgGraph = Viz(\"digraph{\\n  ranksep=0.25;\\n  nodesep=0.05;\\n  orientation=portrait;\\n  size=7;\\n\\n  initial [shape=box color=red label=\\\"initial\\nfloat((0,))\\\" fontsize=10];\\n  x [shape=box color=red label=\\\"x\\nfloat((0, 2))\\\" fontsize=10];\\n\\n  y [shape=box color=green label=\\\"y\\nfloat(('?',))\\\" fontsize=10];\\n  z [shape=box color=green label=\\\"z\\nfloat(('?',))\\\" fontsize=10];\\n\\n\\n  Sc_Scan [shape=box style=\\\"filled,rounded\\\" color=orange label=\\\"Scan\\n(Sc_Scan)\\nbody=node {\\n  input: 'sum_in'\\...\\nnum_scan_inputs=1\\\" fontsize=10];\\n  initial -> Sc_Scan;\\n  x -> Sc_Scan;\\n  Sc_Scan -> y;\\n  Sc_Scan -> z;\\n}\");\n",
              "document.getElementById('M8f1590c6985748479d1fa0335194ac96').innerHTML = svgGraph; });\n",
              "\n",
              "</script>"
            ],
            "text/plain": [
              "<jyquickhelper.jspy.render_nb_js_dot.RenderJsDot at 0x234da3810a0>"
            ]
          },
          "execution_count": 8,
          "metadata": {},
          "output_type": "execute_result"
        }
      ],
      "source": [
        "node = OnnxScan('initial', 'x', output_names=['y', 'z'],\n",
        "                num_scan_inputs=1, body=scan_body.graph)\n",
        "\n",
        "model_def = node.to_onnx(\n",
        "    {'initial': initial, 'x': x},\n",
        "    outputs=[('y', FloatTensorType()),\n",
        "             ('z', FloatTensorType())])\n",
        "\n",
        "# add -l 1 if nothing shows up\n",
        "%onnxview model_def"
      ]
    },
    {
      "cell_type": "markdown",
      "metadata": {},
      "source": [
        "All together in the same graph."
      ]
    },
    {
      "cell_type": "code",
      "execution_count": 8,
      "metadata": {},
      "outputs": [
        {
          "data": {
            "text/html": [
              "<div id=\"M0d8d5c07e16f4d91afb3576770ce7e80-cont\"><div id=\"M0d8d5c07e16f4d91afb3576770ce7e80\" style=\"width:;height:;\"></div></div>\n",
              "<script>\n",
              "\n",
              "require(['http://www.xavierdupre.fr/js/vizjs/viz.js'], function() { var svgGraph = Viz(\"digraph{\\n  ranksep=0.25;\\n  nodesep=0.05;\\n  orientation=portrait;\\n  size=7;\\n\\n  initial [shape=box color=red label=\\\"initial\\nfloat((0,))\\\" fontsize=10];\\n  x [shape=box color=red label=\\\"x\\nfloat((0, 2))\\\" fontsize=10];\\n\\n  y [shape=box color=green label=\\\"y\\nfloat(('?',))\\\" fontsize=10];\\n  z [shape=box color=green label=\\\"z\\nfloat(('?',))\\\" fontsize=10];\\n\\n\\n  subgraph cluster_Scan2426022751872_2425401252336 {\\n    label=\\\"Scan\\n(Sc_Scan)\\nbody=node {\\n  input: 'sum_in'\\...\\nnum_scan_inputs=1\\\";\\n    fontsize=10;\\n    color=black;\\n    B_sum_in [shape=box color=red label=\\\"sum_in\\nfloat((0,))\\\" fontsize=10];\\n    B_next [shape=box color=red label=\\\"next\\nfloat((0,))\\\" fontsize=10];\\n  \\n    B_sum_out [shape=box color=green label=\\\"sum_out\\nfloat(('?',))\\\" fontsize=10];\\n    B_scan_out [shape=box color=green label=\\\"scan_out\\nfloat(('?',))\\\" fontsize=10];\\n  \\n  \\n    B_Ad_Add [shape=box style=\\\"filled,rounded\\\" color=orange label=\\\"Add\\n(Ad_Add)\\\" fontsize=10];\\n    B_sum_in -> B_Ad_Add;\\n    B_next -> B_Ad_Add;\\n    B_Ad_Add -> B_sum_out;\\n  \\n    B_Id_Identity [shape=box style=\\\"filled,rounded\\\" color=orange label=\\\"Identity\\n(Id_Identity)\\\" fontsize=10];\\n    B_sum_out -> B_Id_Identity;\\n    B_Id_Identity -> B_scan_out;\\n  }\\n  initial -> B_sum_in;\\n  x -> B_next;\\n  B_sum_out -> y;\\n  B_scan_out -> z;\\n  Sc_Scan -> B_Ad_Add [lhead=cluster_Scan2426022751872_2425401252336];\\n  initial -> Sc_Scan;\\n  x -> Sc_Scan;\\n  Sc_Scan -> y;\\n  Sc_Scan -> z;\\n}\");\n",
              "document.getElementById('M0d8d5c07e16f4d91afb3576770ce7e80').innerHTML = svgGraph; });\n",
              "\n",
              "</script>"
            ],
            "text/plain": [
              "<jyquickhelper.jspy.render_nb_js_dot.RenderJsDot at 0x234dc1e7880>"
            ]
          },
          "execution_count": 9,
          "metadata": {},
          "output_type": "execute_result"
        }
      ],
      "source": [
        "# add -l 1 if nothing shows up\n",
        "%onnxview model_def -r 1"
      ]
    },
    {
      "cell_type": "code",
      "execution_count": 9,
      "metadata": {},
      "outputs": [
        {
          "data": {
            "text/plain": [
              "array([ 9., 12.], dtype=float32)"
            ]
          },
          "execution_count": 10,
          "metadata": {},
          "output_type": "execute_result"
        }
      ],
      "source": [
        "from mlprodict.onnxrt import OnnxInference\n",
        "oinf = OnnxInference(model_def)\n",
        "res = oinf.run({'initial': initial, 'x': x})\n",
        "res['y']"
      ]
    },
    {
      "cell_type": "code",
      "execution_count": 10,
      "metadata": {},
      "outputs": [
        {
          "data": {
            "text/plain": [
              "array([[ 1.,  2.],\n",
              "       [ 4.,  6.],\n",
              "       [ 9., 12.]], dtype=float32)"
            ]
          },
          "execution_count": 11,
          "metadata": {},
          "output_type": "execute_result"
        }
      ],
      "source": [
        "res['z']"
      ]
    },
    {
      "cell_type": "markdown",
      "metadata": {},
      "source": [
        "## Back to pdist\n",
        "\n",
        "[sklearn-onnx](https://github.com/onnx/sklearn-onnx) implements function *pdist* with *ONNX* operators. The parameter ``inputs=[('x', FloatTensorType())`` tels the method ``to_onnx`` that the dimension of the inputs is not fixed and should not be checked."
      ]
    },
    {
      "cell_type": "code",
      "execution_count": 11,
      "metadata": {},
      "outputs": [
        {
          "data": {
            "text/html": [
              "<div id=\"Mff995610d98f44daaa9a68202db64f19-cont\"><div id=\"Mff995610d98f44daaa9a68202db64f19\" style=\"width:;height:;\"></div></div>\n",
              "<script>\n",
              "\n",
              "require(['http://www.xavierdupre.fr/js/vizjs/viz.js'], function() { var svgGraph = Viz(\"digraph{\\n  ranksep=0.25;\\n  nodesep=0.05;\\n  orientation=portrait;\\n  size=7;\\n\\n  x [shape=box color=red label=\\\"x\\nfloat(('?',))\\\" fontsize=10];\\n\\n  Y [shape=box color=green label=\\\"Y\\nfloat((0, 0))\\\" fontsize=10];\\n\\n\\n  scan0_{idself} [shape=box label=\\\"scan0_{idself}\\\" fontsize=10];\\n  scan1_{idself} [shape=box label=\\\"scan1_{idself}\\\" fontsize=10];\\n  Sc_Scan [shape=box style=\\\"filled,rounded\\\" color=orange label=\\\"Scan\\n(Sc_Scan)\\nbody=node {\\n  input: 'next_in'...\\nnum_scan_inputs=1\\\" fontsize=10];\\n  x -> Sc_Scan;\\n  x -> Sc_Scan;\\n  Sc_Scan -> scan0_{idself};\\n  Sc_Scan -> scan1_{idself};\\n\\n  Id_Identity1 [shape=box style=\\\"filled,rounded\\\" color=orange label=\\\"Identity\\n(Id_Identity1)\\\" fontsize=10];\\n  scan1_{idself} -> Id_Identity1;\\n  Id_Identity1 -> Y;\\n}\");\n",
              "document.getElementById('Mff995610d98f44daaa9a68202db64f19').innerHTML = svgGraph; });\n",
              "\n",
              "</script>"
            ],
            "text/plain": [
              "<jyquickhelper.jspy.render_nb_js_dot.RenderJsDot at 0x234da7785e0>"
            ]
          },
          "execution_count": 12,
          "metadata": {},
          "output_type": "execute_result"
        }
      ],
      "source": [
        "# from skl2onnx.algebra.complex_functions import squareform_pdist_\n",
        "\n",
        "from collections import OrderedDict\n",
        "from skl2onnx.algebra.onnx_ops import (\n",
        "    OnnxSub, OnnxReduceSumSquare, OnnxSqueeze,\n",
        "    OnnxIdentity, OnnxScan)\n",
        "from skl2onnx.common.data_types import FloatTensorType\n",
        "from mlprodict.tools import get_opset_number_from_onnx\n",
        "\n",
        "\n",
        "def squareform_pdist(X, **kwargs):\n",
        "    \"\"\"Returns the ONNX graph which computes\n",
        "    ``squareform(pdist(X, metric='sqeuclidean')``.\"\"\"\n",
        "\n",
        "    # The subgraph executed at every iteration.\n",
        "    opv = get_opset_number_from_onnx()\n",
        "    diff = OnnxSub('next_in', 'next', output_names=['diff'], op_version=opv)\n",
        "    id_next = OnnxIdentity('next_in', output_names=['next_out'], op_version=opv)\n",
        "    norm = OnnxReduceSumSquare(diff, output_names=['norm'], axes=[1], op_version=opv)\n",
        "    flat = OnnxSqueeze(norm, numpy.array([1], dtype=numpy.int64),\n",
        "                       output_names=['scan_out'], op_version=opv)\n",
        "    scan_body = id_next.to_onnx(\n",
        "        OrderedDict([('next_in', FloatTensorType()),\n",
        "                     ('next', FloatTensorType())]),\n",
        "        # Size must be empty otherwise onnxruntime fails\n",
        "        # at execution time if it receives a matrix\n",
        "        # with a different shape. With 'None', the same ONNX graph\n",
        "        # can compute pairwise distance for any shape.\n",
        "        outputs=[('next_out', FloatTensorType([None, None])),\n",
        "                 ('scan_out', FloatTensorType([None]))],\n",
        "        other_outputs=[flat])\n",
        "\n",
        "    # The loop.\n",
        "    # 'scan0_{idself}' means the variable name will include\n",
        "    # id(OnnxScan), this is needed if squareform_pdist is used\n",
        "    # twice in the same graph.\n",
        "    node = OnnxScan(X, X, output_names=['scan0_{idself}', 'scan1_{idself}'],\n",
        "                    num_scan_inputs=1, body=scan_body.graph, op_version=opv,\n",
        "                    **kwargs)\n",
        "    return node[1]    \n",
        "\n",
        "opv = get_opset_number_from_onnx()\n",
        "onnx_fct = OnnxIdentity(squareform_pdist('x'), output_names='Y', op_version=opv)\n",
        "model_def = onnx_fct.to_onnx(inputs=[('x', FloatTensorType())])\n",
        "\n",
        "# add -l 1 if nothing shows up\n",
        "%onnxview model_def"
      ]
    },
    {
      "cell_type": "code",
      "execution_count": 12,
      "metadata": {},
      "outputs": [],
      "source": [
        "from collections import OrderedDict\n",
        "from skl2onnx.algebra.onnx_ops import (\n",
        "    OnnxSub, OnnxReduceSumSquare, OnnxSqueeze,\n",
        "    OnnxIdentity, OnnxScan)\n",
        "from skl2onnx.common.data_types import FloatTensorType\n",
        "from mlprodict.tools import get_opset_number_from_onnx\n",
        "\n",
        "\n",
        "def squareform_pdist(X, **kwargs):\n",
        "    # The subgraph executed at every iteration.\n",
        "    opv = get_opset_number_from_onnx()\n",
        "    diff = OnnxSub('next_in', 'next', output_names=['diff'], op_version=opv)\n",
        "    id_next = OnnxIdentity('next_in', output_names=['next_out'], op_version=opv)\n",
        "    norm = OnnxReduceSumSquare(diff, output_names=['norm'], axes=[1], op_version=opv)\n",
        "    flat = OnnxSqueeze(norm, numpy.array([1], dtype=numpy.int64),\n",
        "                       output_names=['scan_out'], op_version=opv)\n",
        "    scan_body = id_next.to_onnx(\n",
        "        OrderedDict([('next_in', FloatTensorType()),\n",
        "                     ('next', FloatTensorType())]),\n",
        "        outputs=[('next_out', FloatTensorType([None, None])),\n",
        "                 ('scan_out', FloatTensorType([None]))],\n",
        "        other_outputs=[flat])\n",
        "\n",
        "    # The loop.\n",
        "    node = OnnxScan(X, X, output_names=['scan0_{idself}', 'scan1_{idself}'],\n",
        "                    num_scan_inputs=1, body=scan_body.graph, op_version=opv,\n",
        "                    **kwargs)\n",
        "    return node[1]    \n",
        "\n",
        "opv = get_opset_number_from_onnx()\n",
        "onnx_fct = OnnxIdentity(squareform_pdist('x'), output_names='Y', op_version=opv)\n",
        "model_def = onnx_fct.to_onnx(inputs=[('x', FloatTensorType())])"
      ]
    },
    {
      "cell_type": "markdown",
      "metadata": {},
      "source": [
        "Notice the double arrow. Input _x_ is used twice, once as an permanent state involved in broacasted substract, another time to iterator rows. On the other side, the first output of operator *Scan* is a permanent state equal to the input, the second one is an aggregation of results produced at each iteration. Each of those produces a row of a final matrix."
      ]
    },
    {
      "cell_type": "code",
      "execution_count": 13,
      "metadata": {},
      "outputs": [
        {
          "data": {
            "text/html": [
              "<div id=\"Mb1efdaea083f436fb803ae6b1b5b4be9-cont\"><div id=\"Mb1efdaea083f436fb803ae6b1b5b4be9\" style=\"width:;height:;\"></div></div>\n",
              "<script>\n",
              "\n",
              "require(['http://www.xavierdupre.fr/js/vizjs/viz.js'], function() { var svgGraph = Viz(\"digraph{\\n  ranksep=0.25;\\n  nodesep=0.05;\\n  orientation=portrait;\\n  size=7;\\n\\n  next_in [shape=box color=red label=\\\"next_in\\nfloat(('?',))\\\" fontsize=10];\\n  next [shape=box color=red label=\\\"next\\nfloat(('?',))\\\" fontsize=10];\\n\\n  next_out [shape=box color=green label=\\\"next_out\\nfloat((0, 0))\\\" fontsize=10];\\n  scan_out [shape=box color=green label=\\\"scan_out\\nfloat((0,))\\\" fontsize=10];\\n\\n  Sq_Squeezecst [shape=box label=\\\"Sq_Squeezecst\\nint64((1,))\\n[1]\\\" fontsize=10];\\n\\n  Id_Identity [shape=box style=\\\"filled,rounded\\\" color=orange label=\\\"Identity\\n(Id_Identity)\\\" fontsize=10];\\n  next_in -> Id_Identity;\\n  Id_Identity -> next_out;\\n\\n  diff [shape=box label=\\\"diff\\\" fontsize=10];\\n  Su_Sub [shape=box style=\\\"filled,rounded\\\" color=orange label=\\\"Sub\\n(Su_Sub)\\\" fontsize=10];\\n  next_in -> Su_Sub;\\n  next -> Su_Sub;\\n  Su_Sub -> diff;\\n\\n  norm [shape=box label=\\\"norm\\\" fontsize=10];\\n  Re_ReduceSumSquare [shape=box style=\\\"filled,rounded\\\" color=orange label=\\\"ReduceSumSquare\\n(Re_ReduceSumSquare)\\naxes=[1]\\\" fontsize=10];\\n  diff -> Re_ReduceSumSquare;\\n  Re_ReduceSumSquare -> norm;\\n\\n  Sq_Squeeze [shape=box style=\\\"filled,rounded\\\" color=orange label=\\\"Squeeze\\n(Sq_Squeeze)\\\" fontsize=10];\\n  norm -> Sq_Squeeze;\\n  Sq_Squeezecst -> Sq_Squeeze;\\n  Sq_Squeeze -> scan_out;\\n}\");\n",
              "document.getElementById('Mb1efdaea083f436fb803ae6b1b5b4be9').innerHTML = svgGraph; });\n",
              "\n",
              "</script>"
            ],
            "text/plain": [
              "<jyquickhelper.jspy.render_nb_js_dot.RenderJsDot at 0x234dc3b2a00>"
            ]
          },
          "execution_count": 14,
          "metadata": {},
          "output_type": "execute_result"
        }
      ],
      "source": [
        "oinf = OnnxInference(model_def)\n",
        "body = oinf['Sc_Scan', 'body']\n",
        "\n",
        "# add -l 1 if nothing shows up\n",
        "%onnxview body.g"
      ]
    },
    {
      "cell_type": "markdown",
      "metadata": {},
      "source": [
        "All together."
      ]
    },
    {
      "cell_type": "code",
      "execution_count": 14,
      "metadata": {},
      "outputs": [
        {
          "data": {
            "text/html": [
              "<div id=\"M4a0522103b1445a49a4a0095e36c397b-cont\"><div id=\"M4a0522103b1445a49a4a0095e36c397b\" style=\"width:;height:;\"></div></div>\n",
              "<script>\n",
              "\n",
              "require(['http://www.xavierdupre.fr/js/vizjs/viz.js'], function() { var svgGraph = Viz(\"digraph{\\n  ranksep=0.25;\\n  nodesep=0.05;\\n  orientation=portrait;\\n  size=7;\\n\\n  x [shape=box color=red label=\\\"x\\nfloat(('?',))\\\" fontsize=10];\\n\\n  Y [shape=box color=green label=\\\"Y\\nfloat((0, 0))\\\" fontsize=10];\\n\\n\\n  scan0_{idself} [shape=box label=\\\"scan0_{idself}\\\" fontsize=10];\\n  scan1_{idself} [shape=box label=\\\"scan1_{idself}\\\" fontsize=10];\\n  subgraph cluster_Scan2426056374688_2425401252336 {\\n    label=\\\"Scan\\n(Sc_Scan)\\nbody=node {\\n  input: 'next_in'...\\nnum_scan_inputs=1\\\";\\n    fontsize=10;\\n    color=black;\\n    B_next_in [shape=box color=red label=\\\"next_in\\nfloat(('?',))\\\" fontsize=10];\\n    B_next [shape=box color=red label=\\\"next\\nfloat(('?',))\\\" fontsize=10];\\n  \\n    B_next_out [shape=box color=green label=\\\"next_out\\nfloat((0, 0))\\\" fontsize=10];\\n    B_scan_out [shape=box color=green label=\\\"scan_out\\nfloat((0,))\\\" fontsize=10];\\n  \\n    B_Sq_Squeezecst [shape=box label=\\\"Sq_Squeezecst\\nint64((1,))\\n[1]\\\" fontsize=10];\\n  \\n    B_Id_Identity [shape=box style=\\\"filled,rounded\\\" color=orange label=\\\"Identity\\n(Id_Identity)\\\" fontsize=10];\\n    B_next_in -> B_Id_Identity;\\n    B_Id_Identity -> B_next_out;\\n  \\n    B_diff [shape=box label=\\\"diff\\\" fontsize=10];\\n    B_Su_Sub [shape=box style=\\\"filled,rounded\\\" color=orange label=\\\"Sub\\n(Su_Sub)\\\" fontsize=10];\\n    B_next_in -> B_Su_Sub;\\n    B_next -> B_Su_Sub;\\n    B_Su_Sub -> B_diff;\\n  \\n    B_norm [shape=box label=\\\"norm\\\" fontsize=10];\\n    B_Re_ReduceSumSquare [shape=box style=\\\"filled,rounded\\\" color=orange label=\\\"ReduceSumSquare\\n(Re_ReduceSumSquare)\\naxes=[1]\\\" fontsize=10];\\n    B_diff -> B_Re_ReduceSumSquare;\\n    B_Re_ReduceSumSquare -> B_norm;\\n  \\n    B_Sq_Squeeze [shape=box style=\\\"filled,rounded\\\" color=orange label=\\\"Squeeze\\n(Sq_Squeeze)\\\" fontsize=10];\\n    B_norm -> B_Sq_Squeeze;\\n    B_Sq_Squeezecst -> B_Sq_Squeeze;\\n    B_Sq_Squeeze -> B_scan_out;\\n  }\\n  x -> B_next_in;\\n  x -> B_next;\\n  B_next_out -> scan0_{idself};\\n  B_scan_out -> scan1_{idself};\\n  Sc_Scan -> B_Id_Identity [lhead=cluster_Scan2426056374688_2425401252336];\\n  x -> Sc_Scan;\\n  x -> Sc_Scan;\\n  Sc_Scan -> scan0_{idself};\\n  Sc_Scan -> scan1_{idself};\\n\\n  Id_Identity1 [shape=box style=\\\"filled,rounded\\\" color=orange label=\\\"Identity\\n(Id_Identity1)\\\" fontsize=10];\\n  scan1_{idself} -> Id_Identity1;\\n  Id_Identity1 -> Y;\\n}\");\n",
              "document.getElementById('M4a0522103b1445a49a4a0095e36c397b').innerHTML = svgGraph; });\n",
              "\n",
              "</script>"
            ],
            "text/plain": [
              "<jyquickhelper.jspy.render_nb_js_dot.RenderJsDot at 0x234dc3b23d0>"
            ]
          },
          "execution_count": 15,
          "metadata": {},
          "output_type": "execute_result"
        }
      ],
      "source": [
        "# add -l 1 if nothing shows up\n",
        "%onnxview model_def -r 1"
      ]
    },
    {
      "cell_type": "markdown",
      "metadata": {},
      "source": [
        "Let's now execute the graph and compare it with the original graph."
      ]
    },
    {
      "cell_type": "code",
      "execution_count": 15,
      "metadata": {},
      "outputs": [
        {
          "data": {
            "text/plain": [
              "array([[0.  , 2.  , 0.02, 5.  ],\n",
              "       [2.  , 0.  , 1.62, 1.  ],\n",
              "       [0.02, 1.62, 0.  , 4.42],\n",
              "       [5.  , 1.  , 4.42, 0.  ]])"
            ]
          },
          "execution_count": 16,
          "metadata": {},
          "output_type": "execute_result"
        }
      ],
      "source": [
        "d1 = squareform(pdist(M, metric='sqeuclidean'))\n",
        "d1"
      ]
    },
    {
      "cell_type": "code",
      "execution_count": 16,
      "metadata": {},
      "outputs": [
        {
          "data": {
            "text/plain": [
              "array([[0.  , 2.  , 0.02, 5.  ],\n",
              "       [2.  , 0.  , 1.62, 1.  ],\n",
              "       [0.02, 1.62, 0.  , 4.42],\n",
              "       [5.  , 1.  , 4.42, 0.  ]])"
            ]
          },
          "execution_count": 17,
          "metadata": {},
          "output_type": "execute_result"
        }
      ],
      "source": [
        "oinf.run({'x': M})['Y']"
      ]
    },
    {
      "cell_type": "code",
      "execution_count": 17,
      "metadata": {},
      "outputs": [
        {
          "name": "stdout",
          "output_type": "stream",
          "text": [
            "9.31 \u00b5s \u00b1 423 ns per loop (mean \u00b1 std. dev. of 7 runs, 100,000 loops each)\n"
          ]
        }
      ],
      "source": [
        "%timeit squareform(pdist(M, metric='sqeuclidean'))"
      ]
    },
    {
      "cell_type": "code",
      "execution_count": 18,
      "metadata": {},
      "outputs": [
        {
          "name": "stdout",
          "output_type": "stream",
          "text": [
            "35.1 \u00b5s \u00b1 1.52 \u00b5s per loop (mean \u00b1 std. dev. of 7 runs, 10,000 loops each)\n"
          ]
        }
      ],
      "source": [
        "%timeit custom_pdist(M)"
      ]
    },
    {
      "cell_type": "code",
      "execution_count": 19,
      "metadata": {},
      "outputs": [
        {
          "name": "stdout",
          "output_type": "stream",
          "text": [
            "34.2 \u00b5s \u00b1 2.18 \u00b5s per loop (mean \u00b1 std. dev. of 7 runs, 10,000 loops each)\n"
          ]
        }
      ],
      "source": [
        "%timeit custom_pdist_lower(M)"
      ]
    },
    {
      "cell_type": "code",
      "execution_count": 20,
      "metadata": {},
      "outputs": [
        {
          "name": "stdout",
          "output_type": "stream",
          "text": [
            "177 \u00b5s \u00b1 11.3 \u00b5s per loop (mean \u00b1 std. dev. of 7 runs, 10,000 loops each)\n"
          ]
        }
      ],
      "source": [
        "%timeit oinf.run({'x': M})['Y']"
      ]
    },
    {
      "cell_type": "code",
      "execution_count": 21,
      "metadata": {},
      "outputs": [],
      "source": [
        "M32 = M.astype(numpy.float32)"
      ]
    },
    {
      "cell_type": "code",
      "execution_count": 22,
      "metadata": {},
      "outputs": [],
      "source": [
        "from mlprodict.tools import get_ir_version_from_onnx\n",
        "model_def.ir_version = get_ir_version_from_onnx()"
      ]
    },
    {
      "cell_type": "code",
      "execution_count": 23,
      "metadata": {},
      "outputs": [
        {
          "name": "stdout",
          "output_type": "stream",
          "text": [
            "No CUDA runtime is found, using CUDA_HOME='C:\\Program Files\\NVIDIA GPU Computing Toolkit\\CUDA\\v11.5'\n"
          ]
        },
        {
          "data": {
            "text/plain": [
              "array([[0.        , 2.        , 0.02000001, 5.        ],\n",
              "       [2.        , 0.        , 1.6199999 , 1.        ],\n",
              "       [0.02000001, 1.6199999 , 0.        , 4.42      ],\n",
              "       [5.        , 1.        , 4.42      , 0.        ]], dtype=float32)"
            ]
          },
          "execution_count": 24,
          "metadata": {},
          "output_type": "execute_result"
        }
      ],
      "source": [
        "oinfrt = OnnxInference(model_def, runtime=\"onnxruntime1\")\n",
        "oinfrt.run({'x': M32})['Y']"
      ]
    },
    {
      "cell_type": "code",
      "execution_count": 24,
      "metadata": {},
      "outputs": [
        {
          "name": "stdout",
          "output_type": "stream",
          "text": [
            "43.1 \u00b5s \u00b1 4.32 \u00b5s per loop (mean \u00b1 std. dev. of 7 runs, 10,000 loops each)\n"
          ]
        }
      ],
      "source": [
        "%timeit oinfrt.run({'x': M32})['Y']"
      ]
    },
    {
      "cell_type": "markdown",
      "metadata": {},
      "source": [
        "## Benchmark"
      ]
    },
    {
      "cell_type": "code",
      "execution_count": 25,
      "metadata": {},
      "outputs": [
        {
          "data": {
            "text/plain": [
              "{'average': 4.233300000009876e-05,\n",
              " 'deviation': 2.7235873787981297e-05,\n",
              " 'min_exec': 1.8629999999575375e-05,\n",
              " 'max_exec': 0.00010153999999999997,\n",
              " 'repeat': 10,\n",
              " 'number': 10,\n",
              " 'nrows': 4,\n",
              " 'ncols': 2,\n",
              " 'name': 'scipy'}"
            ]
          },
          "execution_count": 26,
          "metadata": {},
          "output_type": "execute_result"
        }
      ],
      "source": [
        "from timeit import Timer\n",
        "\n",
        "\n",
        "def measure_time(name, stmt, context, repeat=10, number=10):\n",
        "    tim = Timer(stmt, globals=context)\n",
        "    res = numpy.array(tim.repeat(repeat=repeat, number=number))\n",
        "    res /= number\n",
        "    mean = numpy.mean(res)\n",
        "    dev = numpy.mean(res ** 2)\n",
        "    dev = (dev - mean**2) ** 0.5\n",
        "    return dict(average=mean, deviation=dev, min_exec=numpy.min(res),\n",
        "                max_exec=numpy.max(res), repeat=repeat, number=number,\n",
        "                nrows=context['M'].shape[0], ncols=context['M'].shape[1],\n",
        "                name=name)\n",
        "\n",
        "measure_time(\"scipy\", \"squareform(pdist(M, metric='sqeuclidean'))\",\n",
        "             context={'squareform': squareform, 'M': M,\n",
        "                      'pdist': pdist})"
      ]
    },
    {
      "cell_type": "code",
      "execution_count": 26,
      "metadata": {},
      "outputs": [
        {
          "name": "stderr",
          "output_type": "stream",
          "text": [
            "feat=100 n=400: 100%|\u2588\u2588\u2588\u2588\u2588\u2588\u2588\u2588\u2588\u2588| 26/26 [01:20<00:00,  3.10s/it]\n"
          ]
        },
        {
          "data": {
            "text/html": [
              "<div>\n",
              "<style scoped>\n",
              "    .dataframe tbody tr th:only-of-type {\n",
              "        vertical-align: middle;\n",
              "    }\n",
              "\n",
              "    .dataframe tbody tr th {\n",
              "        vertical-align: top;\n",
              "    }\n",
              "\n",
              "    .dataframe thead th {\n",
              "        text-align: right;\n",
              "    }\n",
              "</style>\n",
              "<table border=\"1\" class=\"dataframe\">\n",
              "  <thead>\n",
              "    <tr style=\"text-align: right;\">\n",
              "      <th></th>\n",
              "      <th>average</th>\n",
              "      <th>deviation</th>\n",
              "      <th>min_exec</th>\n",
              "      <th>max_exec</th>\n",
              "      <th>repeat</th>\n",
              "      <th>number</th>\n",
              "      <th>nrows</th>\n",
              "      <th>ncols</th>\n",
              "      <th>name</th>\n",
              "      <th>dimres</th>\n",
              "    </tr>\n",
              "  </thead>\n",
              "  <tbody>\n",
              "    <tr>\n",
              "      <th>0</th>\n",
              "      <td>0.000015</td>\n",
              "      <td>0.000005</td>\n",
              "      <td>0.000010</td>\n",
              "      <td>0.000025</td>\n",
              "      <td>10</td>\n",
              "      <td>10</td>\n",
              "      <td>5</td>\n",
              "      <td>5</td>\n",
              "      <td>scipy</td>\n",
              "      <td>5</td>\n",
              "    </tr>\n",
              "    <tr>\n",
              "      <th>1</th>\n",
              "      <td>0.000106</td>\n",
              "      <td>0.000023</td>\n",
              "      <td>0.000065</td>\n",
              "      <td>0.000138</td>\n",
              "      <td>10</td>\n",
              "      <td>10</td>\n",
              "      <td>5</td>\n",
              "      <td>5</td>\n",
              "      <td>numpy</td>\n",
              "      <td>5</td>\n",
              "    </tr>\n",
              "    <tr>\n",
              "      <th>2</th>\n",
              "      <td>0.000053</td>\n",
              "      <td>0.000005</td>\n",
              "      <td>0.000048</td>\n",
              "      <td>0.000064</td>\n",
              "      <td>10</td>\n",
              "      <td>10</td>\n",
              "      <td>5</td>\n",
              "      <td>5</td>\n",
              "      <td>numpy-lower</td>\n",
              "      <td>5</td>\n",
              "    </tr>\n",
              "    <tr>\n",
              "      <th>3</th>\n",
              "      <td>0.000240</td>\n",
              "      <td>0.000017</td>\n",
              "      <td>0.000219</td>\n",
              "      <td>0.000273</td>\n",
              "      <td>10</td>\n",
              "      <td>10</td>\n",
              "      <td>5</td>\n",
              "      <td>5</td>\n",
              "      <td>onnx-py</td>\n",
              "      <td>5</td>\n",
              "    </tr>\n",
              "    <tr>\n",
              "      <th>4</th>\n",
              "      <td>0.000053</td>\n",
              "      <td>0.000008</td>\n",
              "      <td>0.000046</td>\n",
              "      <td>0.000072</td>\n",
              "      <td>10</td>\n",
              "      <td>10</td>\n",
              "      <td>5</td>\n",
              "      <td>5</td>\n",
              "      <td>onnx-rt</td>\n",
              "      <td>5</td>\n",
              "    </tr>\n",
              "  </tbody>\n",
              "</table>\n",
              "</div>"
            ],
            "text/plain": [
              "    average  deviation  min_exec  max_exec  repeat  number  nrows  ncols  \\\n",
              "0  0.000015   0.000005  0.000010  0.000025      10      10      5      5   \n",
              "1  0.000106   0.000023  0.000065  0.000138      10      10      5      5   \n",
              "2  0.000053   0.000005  0.000048  0.000064      10      10      5      5   \n",
              "3  0.000240   0.000017  0.000219  0.000273      10      10      5      5   \n",
              "4  0.000053   0.000008  0.000046  0.000072      10      10      5      5   \n",
              "\n",
              "          name  dimres  \n",
              "0        scipy       5  \n",
              "1        numpy       5  \n",
              "2  numpy-lower       5  \n",
              "3      onnx-py       5  \n",
              "4      onnx-rt       5  "
            ]
          },
          "execution_count": 27,
          "metadata": {},
          "output_type": "execute_result"
        }
      ],
      "source": [
        "from tqdm import trange\n",
        "\n",
        "def generator():\n",
        "    for feat in [5, 10, 50, 100]:\n",
        "        for n in [5, 10, 20, 50, 100, 400, 1000]:\n",
        "            if n <= 500 or feat <= 10:\n",
        "                yield feat, n\n",
        "            \n",
        "all_values = list(generator())\n",
        "\n",
        "rows = []\n",
        "\n",
        "with trange(len(all_values)) as t:\n",
        "    for i in t:        \n",
        "        feat, n = all_values[i]\n",
        "        t.set_description(\"feat=%d n=%d\" % (feat, n))\n",
        "        M = numpy.random.rand(n, feat)\n",
        "\n",
        "        context = {'squareform': squareform, 'M': M, 'pdist': pdist}\n",
        "        res = measure_time(\"scipy\", \"squareform(pdist(M, metric='sqeuclidean'))\", context=context)\n",
        "        res['dimres'] = squareform(pdist(M, metric='sqeuclidean')).shape[0]\n",
        "        rows.append(res)\n",
        "\n",
        "        context = {'M': M, 'custom_pdist': custom_pdist}\n",
        "        res = measure_time(\"numpy\", \"custom_pdist(M)\", context=context)\n",
        "        res['dimres'] = custom_pdist(M).shape[0]\n",
        "        rows.append(res)\n",
        "\n",
        "        context = {'M': M, 'custom_pdist_lower': custom_pdist_lower}\n",
        "        res = measure_time(\"numpy-lower\", \"custom_pdist_lower(M)\", context=context)\n",
        "        res['dimres'] = custom_pdist_lower(M).shape[0]\n",
        "        rows.append(res)\n",
        "\n",
        "        context = {'oinf': oinf, 'M': M}\n",
        "        res = measure_time(\"onnx-py\", \"oinf.run({'x': M})['Y']\", context=context)\n",
        "        res['dimres'] = oinf.run({'x': M})['Y'].shape[0]\n",
        "        rows.append(res)\n",
        "\n",
        "        M32 = M.astype(numpy.float32)\n",
        "        context = {'oinfrt': oinfrt, 'M': M32}\n",
        "        res = measure_time(\"onnx-rt\", \"oinfrt.run({'x': M})['Y']\", context=context)\n",
        "        res['dimres'] = oinfrt.run({'x': M32})['Y'].shape[0]\n",
        "        rows.append(res)\n",
        "\n",
        "    \n",
        "from pandas import DataFrame\n",
        "df = DataFrame(rows)\n",
        "df.head()"
      ]
    },
    {
      "cell_type": "code",
      "execution_count": 27,
      "metadata": {},
      "outputs": [
        {
          "data": {
            "text/html": [
              "<div>\n",
              "<style scoped>\n",
              "    .dataframe tbody tr th:only-of-type {\n",
              "        vertical-align: middle;\n",
              "    }\n",
              "\n",
              "    .dataframe tbody tr th {\n",
              "        vertical-align: top;\n",
              "    }\n",
              "\n",
              "    .dataframe thead th {\n",
              "        text-align: right;\n",
              "    }\n",
              "</style>\n",
              "<table border=\"1\" class=\"dataframe\">\n",
              "  <thead>\n",
              "    <tr style=\"text-align: right;\">\n",
              "      <th></th>\n",
              "      <th>nrows</th>\n",
              "      <th>5</th>\n",
              "      <th>10</th>\n",
              "      <th>20</th>\n",
              "      <th>50</th>\n",
              "      <th>100</th>\n",
              "    </tr>\n",
              "    <tr>\n",
              "      <th>ncols</th>\n",
              "      <th>name</th>\n",
              "      <th></th>\n",
              "      <th></th>\n",
              "      <th></th>\n",
              "      <th></th>\n",
              "      <th></th>\n",
              "    </tr>\n",
              "  </thead>\n",
              "  <tbody>\n",
              "    <tr>\n",
              "      <th rowspan=\"5\" valign=\"top\">5</th>\n",
              "      <th>numpy</th>\n",
              "      <td>0.000106</td>\n",
              "      <td>0.000108</td>\n",
              "      <td>0.000193</td>\n",
              "      <td>0.000464</td>\n",
              "      <td>0.001121</td>\n",
              "    </tr>\n",
              "    <tr>\n",
              "      <th>numpy-lower</th>\n",
              "      <td>0.000053</td>\n",
              "      <td>0.000099</td>\n",
              "      <td>0.000225</td>\n",
              "      <td>0.000520</td>\n",
              "      <td>0.001190</td>\n",
              "    </tr>\n",
              "    <tr>\n",
              "      <th>onnx-py</th>\n",
              "      <td>0.000240</td>\n",
              "      <td>0.000407</td>\n",
              "      <td>0.000797</td>\n",
              "      <td>0.002581</td>\n",
              "      <td>0.003790</td>\n",
              "    </tr>\n",
              "    <tr>\n",
              "      <th>onnx-rt</th>\n",
              "      <td>0.000053</td>\n",
              "      <td>0.000071</td>\n",
              "      <td>0.000118</td>\n",
              "      <td>0.000306</td>\n",
              "      <td>0.000766</td>\n",
              "    </tr>\n",
              "    <tr>\n",
              "      <th>scipy</th>\n",
              "      <td>0.000015</td>\n",
              "      <td>0.000011</td>\n",
              "      <td>0.000014</td>\n",
              "      <td>0.000020</td>\n",
              "      <td>0.000044</td>\n",
              "    </tr>\n",
              "    <tr>\n",
              "      <th rowspan=\"5\" valign=\"top\">10</th>\n",
              "      <th>numpy</th>\n",
              "      <td>0.000067</td>\n",
              "      <td>0.000094</td>\n",
              "      <td>0.000194</td>\n",
              "      <td>0.000569</td>\n",
              "      <td>0.001441</td>\n",
              "    </tr>\n",
              "    <tr>\n",
              "      <th>numpy-lower</th>\n",
              "      <td>0.000044</td>\n",
              "      <td>0.000093</td>\n",
              "      <td>0.000189</td>\n",
              "      <td>0.000591</td>\n",
              "      <td>0.001209</td>\n",
              "    </tr>\n",
              "    <tr>\n",
              "      <th>onnx-py</th>\n",
              "      <td>0.000226</td>\n",
              "      <td>0.000379</td>\n",
              "      <td>0.000751</td>\n",
              "      <td>0.001945</td>\n",
              "      <td>0.004731</td>\n",
              "    </tr>\n",
              "    <tr>\n",
              "      <th>onnx-rt</th>\n",
              "      <td>0.000048</td>\n",
              "      <td>0.000072</td>\n",
              "      <td>0.000144</td>\n",
              "      <td>0.000329</td>\n",
              "      <td>0.000995</td>\n",
              "    </tr>\n",
              "    <tr>\n",
              "      <th>scipy</th>\n",
              "      <td>0.000013</td>\n",
              "      <td>0.000013</td>\n",
              "      <td>0.000016</td>\n",
              "      <td>0.000023</td>\n",
              "      <td>0.000071</td>\n",
              "    </tr>\n",
              "    <tr>\n",
              "      <th rowspan=\"5\" valign=\"top\">50</th>\n",
              "      <th>numpy</th>\n",
              "      <td>0.000084</td>\n",
              "      <td>0.000114</td>\n",
              "      <td>0.000257</td>\n",
              "      <td>0.000833</td>\n",
              "      <td>0.002031</td>\n",
              "    </tr>\n",
              "    <tr>\n",
              "      <th>numpy-lower</th>\n",
              "      <td>0.000069</td>\n",
              "      <td>0.000114</td>\n",
              "      <td>0.000272</td>\n",
              "      <td>0.000757</td>\n",
              "      <td>0.001749</td>\n",
              "    </tr>\n",
              "    <tr>\n",
              "      <th>onnx-py</th>\n",
              "      <td>0.000323</td>\n",
              "      <td>0.000480</td>\n",
              "      <td>0.001214</td>\n",
              "      <td>0.002648</td>\n",
              "      <td>0.006138</td>\n",
              "    </tr>\n",
              "    <tr>\n",
              "      <th>onnx-rt</th>\n",
              "      <td>0.000059</td>\n",
              "      <td>0.000091</td>\n",
              "      <td>0.000179</td>\n",
              "      <td>0.000554</td>\n",
              "      <td>0.001614</td>\n",
              "    </tr>\n",
              "    <tr>\n",
              "      <th>scipy</th>\n",
              "      <td>0.000016</td>\n",
              "      <td>0.000016</td>\n",
              "      <td>0.000027</td>\n",
              "      <td>0.000088</td>\n",
              "      <td>0.000200</td>\n",
              "    </tr>\n",
              "    <tr>\n",
              "      <th rowspan=\"5\" valign=\"top\">100</th>\n",
              "      <th>numpy</th>\n",
              "      <td>0.000068</td>\n",
              "      <td>0.000098</td>\n",
              "      <td>0.000262</td>\n",
              "      <td>0.000759</td>\n",
              "      <td>0.002712</td>\n",
              "    </tr>\n",
              "    <tr>\n",
              "      <th>numpy-lower</th>\n",
              "      <td>0.000061</td>\n",
              "      <td>0.000108</td>\n",
              "      <td>0.000338</td>\n",
              "      <td>0.000666</td>\n",
              "      <td>0.002270</td>\n",
              "    </tr>\n",
              "    <tr>\n",
              "      <th>onnx-py</th>\n",
              "      <td>0.000261</td>\n",
              "      <td>0.000451</td>\n",
              "      <td>0.001082</td>\n",
              "      <td>0.002272</td>\n",
              "      <td>0.007142</td>\n",
              "    </tr>\n",
              "    <tr>\n",
              "      <th>onnx-rt</th>\n",
              "      <td>0.000050</td>\n",
              "      <td>0.000084</td>\n",
              "      <td>0.000166</td>\n",
              "      <td>0.000672</td>\n",
              "      <td>0.002097</td>\n",
              "    </tr>\n",
              "    <tr>\n",
              "      <th>scipy</th>\n",
              "      <td>0.000017</td>\n",
              "      <td>0.000019</td>\n",
              "      <td>0.000025</td>\n",
              "      <td>0.000089</td>\n",
              "      <td>0.000327</td>\n",
              "    </tr>\n",
              "  </tbody>\n",
              "</table>\n",
              "</div>"
            ],
            "text/plain": [
              "nrows                   5         10        20        50        100\n",
              "ncols name                                                         \n",
              "5     numpy        0.000106  0.000108  0.000193  0.000464  0.001121\n",
              "      numpy-lower  0.000053  0.000099  0.000225  0.000520  0.001190\n",
              "      onnx-py      0.000240  0.000407  0.000797  0.002581  0.003790\n",
              "      onnx-rt      0.000053  0.000071  0.000118  0.000306  0.000766\n",
              "      scipy        0.000015  0.000011  0.000014  0.000020  0.000044\n",
              "10    numpy        0.000067  0.000094  0.000194  0.000569  0.001441\n",
              "      numpy-lower  0.000044  0.000093  0.000189  0.000591  0.001209\n",
              "      onnx-py      0.000226  0.000379  0.000751  0.001945  0.004731\n",
              "      onnx-rt      0.000048  0.000072  0.000144  0.000329  0.000995\n",
              "      scipy        0.000013  0.000013  0.000016  0.000023  0.000071\n",
              "50    numpy        0.000084  0.000114  0.000257  0.000833  0.002031\n",
              "      numpy-lower  0.000069  0.000114  0.000272  0.000757  0.001749\n",
              "      onnx-py      0.000323  0.000480  0.001214  0.002648  0.006138\n",
              "      onnx-rt      0.000059  0.000091  0.000179  0.000554  0.001614\n",
              "      scipy        0.000016  0.000016  0.000027  0.000088  0.000200\n",
              "100   numpy        0.000068  0.000098  0.000262  0.000759  0.002712\n",
              "      numpy-lower  0.000061  0.000108  0.000338  0.000666  0.002270\n",
              "      onnx-py      0.000261  0.000451  0.001082  0.002272  0.007142\n",
              "      onnx-rt      0.000050  0.000084  0.000166  0.000672  0.002097\n",
              "      scipy        0.000017  0.000019  0.000025  0.000089  0.000327"
            ]
          },
          "execution_count": 28,
          "metadata": {},
          "output_type": "execute_result"
        }
      ],
      "source": [
        "from pandas import pivot_table\n",
        "piv = pivot_table(df, index=[\"nrows\"], columns= ['ncols', 'name'], values='average')\n",
        "piv.head().T"
      ]
    },
    {
      "cell_type": "code",
      "execution_count": 28,
      "metadata": {},
      "outputs": [],
      "source": [
        "%matplotlib inline"
      ]
    },
    {
      "cell_type": "code",
      "execution_count": 29,
      "metadata": {},
      "outputs": [
        {
          "data": {
            "image/png": "[encoded data removed]",
            "text/plain": [
              "<Figure size 1008x216 with 3 Axes>"
            ]
          },
          "metadata": {
            "needs_background": "light"
          },
          "output_type": "display_data"
        }
      ],
      "source": [
        "import matplotlib.pyplot as plt\n",
        "fig, ax = plt.subplots(1, 3, figsize=(14, 3))\n",
        "for i, ncol in enumerate([10, 50, 100]):\n",
        "    piv = df[df.ncols==ncol].pivot(\"nrows\", \"name\", \"average\")\n",
        "    piv.plot(ax=ax[i], logy=True, logx=True)\n",
        "    ax[i].set_title(\"ncol=%d\" % ncol)\n",
        "ax;"
      ]
    },
    {
      "cell_type": "markdown",
      "metadata": {},
      "source": [
        "Curves are not linear and rather difficult to interpret. The algorithm *numpy-lower* and *scipy* should be close as the cost of both algorithm are similar. However, *scipy* reduces the number of trips between C and python. The C implementation of the distance is here:\n",
        "[sqeuclidean_distance_double](https://github.com/scipy/scipy/blob/master/scipy/spatial/src/distance_impl.h#L50). The final cost is a combination of computation, multithreading, allocations..."
      ]
    },
    {
      "cell_type": "code",
      "execution_count": 30,
      "metadata": {},
      "outputs": [],
      "source": [
        "from pyquickhelper.pycode.profiling import profile\n",
        "M = numpy.random.rand(100, 10)\n",
        "\n",
        "pr1, df1 = profile(lambda: [squareform(pdist(M, metric='sqeuclidean')) for i in range(0, 1000)],\n",
        "                   as_df=True)\n",
        "pr2, df2 = profile(lambda: [custom_pdist_lower(M) for i in range(0, 1000)], as_df=True)"
      ]
    },
    {
      "cell_type": "code",
      "execution_count": 31,
      "metadata": {},
      "outputs": [
        {
          "data": {
            "image/png": "[encoded data removed]",
            "text/plain": [
              "<Figure size 576x216 with 1 Axes>"
            ]
          },
          "metadata": {
            "needs_background": "light"
          },
          "output_type": "display_data"
        }
      ],
      "source": [
        "ax = df1[['namefct', 'cum_tall']].head(n=15).set_index('namefct').plot(\n",
        "    kind='bar', figsize=(8, 3), rot=30)\n",
        "ax.set_title(\"scipy\")\n",
        "for la in ax.get_xticklabels():\n",
        "    la.set_horizontalalignment('right')"
      ]
    },
    {
      "cell_type": "code",
      "execution_count": 32,
      "metadata": {},
      "outputs": [
        {
          "data": {
            "image/png": "[encoded data removed]",
            "text/plain": [
              "<Figure size 576x216 with 1 Axes>"
            ]
          },
          "metadata": {
            "needs_background": "light"
          },
          "output_type": "display_data"
        }
      ],
      "source": [
        "ax = df2[['namefct', 'cum_tall']].head(n=15).set_index('namefct').plot(\n",
        "    kind='bar', figsize=(8, 3), rot=30)\n",
        "ax.set_title(\"numpy-lower\")\n",
        "for la in ax.get_xticklabels():\n",
        "    la.set_horizontalalignment('right');    "
      ]
    },
    {
      "cell_type": "markdown",
      "metadata": {},
      "source": [
        "[Universal function](https://docs.scipy.org/doc/numpy/reference/ufuncs.html) do not seem to be very efficient in our case. The last graph shows time ratio between implementations of *pdist* and the baseline *scipy*."
      ]
    },
    {
      "cell_type": "code",
      "execution_count": 33,
      "metadata": {
        "scrolled": true
      },
      "outputs": [
        {
          "data": {
            "image/png": "[encoded data removed]",
            "text/plain": [
              "<Figure size 1008x216 with 3 Axes>"
            ]
          },
          "metadata": {
            "needs_background": "light"
          },
          "output_type": "display_data"
        }
      ],
      "source": [
        "fig, ax = plt.subplots(1, 3, figsize=(14, 3))\n",
        "for i, ncol in enumerate([10, 50, 100]):\n",
        "    piv = df[df.ncols==ncol].pivot(\"nrows\", \"name\", \"average\")\n",
        "    piv['numpy / scipy'] = piv['numpy'] / piv['scipy']\n",
        "    piv['numpy-lower / scipy'] = piv['numpy-lower'] / piv['scipy']\n",
        "    piv['onnx-py / scipy'] = piv['onnx-py'] / piv['scipy']\n",
        "    piv['onnx-rt / scipy'] = piv['onnx-rt'] / piv['scipy']\n",
        "    piv = piv[['numpy / scipy', 'numpy-lower / scipy', \n",
        "               'onnx-py / scipy', 'onnx-rt / scipy']]\n",
        "    piv.plot(ax=ax[i], logy=True, logx=True)\n",
        "    ax[i].plot([0, max(piv.index)], [1, 1], '--', color='black')\n",
        "    ax[i].plot([0, max(piv.index)], [10, 10], '--', color='black')\n",
        "    ax[i].set_title(\"ncol=%d\" % ncol)\n",
        "ax;"
      ]
    },
    {
      "cell_type": "markdown",
      "metadata": {},
      "source": [
        "## Test with a new operator CDist\n",
        "\n",
        "The final question is: *should we introduce a new operator into [ONNX specifications](https://github.com/onnx/onnx/blob/master/docs/Operators.md)?* The function [pdist](https://docs.scipy.org/doc/scipy/reference/generated/scipy.spatial.distance.pdist.html) is not necessarily often used for a big number of observations as the square matrix it produces will even bigger. It seems reasonable. We showed that a python runtime based on *numpy* would not help, the implementation must be done in C++ or directly used the *scipy* version. The experiment was done with a [GaussianProcessRegressor](https://scikit-learn.org/stable/modules/generated/sklearn.gaussian_process.GaussianProcessRegressor.html). The following section tests with and without a new operator ``CDist`` reusing *scipy* implementation."
      ]
    },
    {
      "cell_type": "code",
      "execution_count": 34,
      "metadata": {},
      "outputs": [
        {
          "data": {
            "text/html": [
              "<div id=\"Mbbc9e417c1334598b429aad877e320b3-cont\"><div id=\"Mbbc9e417c1334598b429aad877e320b3\" style=\"width:;height:;\"></div></div>\n",
              "<script>\n",
              "\n",
              "require(['http://www.xavierdupre.fr/js/vizjs/viz.js'], function() { var svgGraph = Viz(\"digraph{\\n  ranksep=0.25;\\n  nodesep=0.05;\\n  orientation=portrait;\\n  size=7;\\n\\n  X [shape=box color=red label=\\\"X\\ndouble((0, 4))\\\" fontsize=10];\\n\\n  GPmean [shape=box color=green label=\\\"GPmean\\ndouble((0, 1))\\\" fontsize=10];\\n\\n  Sc_Scancst [shape=box label=\\\"Sc_Scancst\\nfloat64((112, 4))\\n[[5.8 4.  1.2 0.2]\\n [6.  2.2 4.  1. ]\\n [5.1 2.5 3....\\\" fontsize=10];\\n  kgpd_Divcst [shape=box label=\\\"kgpd_Divcst\\nfloat64((1,))\\n[1.83052462]\\\" fontsize=10];\\n  kgpd_Mulcst [shape=box label=\\\"kgpd_Mulcst\\nfloat64((1,))\\n[3.14159265]\\\" fontsize=10];\\n  kgpd_Divcst1 [shape=box label=\\\"kgpd_Divcst1\\nfloat64((1,))\\n[1014.92199796]\\\" fontsize=10];\\n  kgpd_Powcst [shape=box label=\\\"kgpd_Powcst\\nfloat64((1,))\\n[2.]\\\" fontsize=10];\\n  kgpd_Mulcst1 [shape=box label=\\\"kgpd_Mulcst1\\nfloat64((1,))\\n[-2.]\\\" fontsize=10];\\n  gpr_MatMulcst [shape=box label=\\\"gpr_MatMulcst\\nfloat64((112,))\\n[-0.0439394   0.00606057  0.00606066 -0.0439394  -...\\\" fontsize=10];\\n  gpr_Addcst [shape=box label=\\\"gpr_Addcst\\nfloat64((1, 1))\\n[[0.]]\\\" fontsize=10];\\n  Re_Reshapecst [shape=box label=\\\"Re_Reshapecst\\nint64((2,))\\n[-1  1]\\\" fontsize=10];\\n\\n  UU000UU [shape=box label=\\\"UU000UU\\\" fontsize=10];\\n  UU001UU [shape=box label=\\\"UU001UU\\\" fontsize=10];\\n  subgraph cluster_Scan2426386645440_2425401252336 {\\n    label=\\\"Scan\\n(Sc_Scan)\\nbody=node {\\n  input: 'next_in'...\\nnum_scan_inputs=1\\\";\\n    fontsize=10;\\n    color=black;\\n    B_next_in [shape=box color=red label=\\\"next_in\\ndouble((0, 0))\\\" fontsize=10];\\n    B_next [shape=box color=red label=\\\"next\\ndouble((0,))\\\" fontsize=10];\\n  \\n    B_next_out [shape=box color=green label=\\\"next_out\\ndouble((0, 0))\\\" fontsize=10];\\n    B_scan_out [shape=box color=green label=\\\"scan_out\\ndouble((0,))\\\" fontsize=10];\\n  \\n  \\n    B_cdistdf_1_C0 [shape=box label=\\\"cdistdf_1_C0\\\" fontsize=10];\\n    B_cdistdf_1_Sub [shape=box style=\\\"filled,rounded\\\" color=orange label=\\\"Sub\\n(cdistdf_1_Sub)\\\" fontsize=10];\\n    B_next_in -> B_cdistdf_1_Sub;\\n    B_next -> B_cdistdf_1_Sub;\\n    B_cdistdf_1_Sub -> B_cdistdf_1_C0;\\n  \\n    B_cdistd_1_Identity [shape=box style=\\\"filled,rounded\\\" color=orange label=\\\"Identity\\n(cdistd_1_Identity)\\\" fontsize=10];\\n    B_next_in -> B_cdistd_1_Identity;\\n    B_cdistd_1_Identity -> B_next_out;\\n  \\n    B_cdistdf_1_reduced0 [shape=box label=\\\"cdistdf_1_reduced0\\\" fontsize=10];\\n    B_cdistdf_1_ReduceSumSquare [shape=box style=\\\"filled,rounded\\\" color=orange label=\\\"ReduceSumSquare\\n(cdistdf_1_ReduceSumSquare)\\naxes=[1]\\nkeepdims=0\\\" fontsize=10];\\n    B_cdistdf_1_C0 -> B_cdistdf_1_ReduceSumSquare;\\n    B_cdistdf_1_ReduceSumSquare -> B_cdistdf_1_reduced0;\\n  \\n    B_cdistdf_1_Identity [shape=box style=\\\"filled,rounded\\\" color=orange label=\\\"Identity\\n(cdistdf_1_Identity)\\\" fontsize=10];\\n    B_cdistdf_1_reduced0 -> B_cdistdf_1_Identity;\\n    B_cdistdf_1_Identity -> B_scan_out;\\n  }\\n  X -> B_next_in;\\n  Sc_Scancst -> B_next;\\n  B_next_out -> UU000UU;\\n  B_scan_out -> UU001UU;\\n  Sc_Scan -> B_cdistdf_1_Sub [lhead=cluster_Scan2426386645440_2425401252336];\\n  X -> Sc_Scan;\\n  Sc_Scancst -> Sc_Scan;\\n  Sc_Scan -> UU000UU;\\n  Sc_Scan -> UU001UU;\\n\\n  kgpd_transposed0 [shape=box label=\\\"kgpd_transposed0\\\" fontsize=10];\\n  kgpd_Transpose [shape=box style=\\\"filled,rounded\\\" color=orange label=\\\"Transpose\\n(kgpd_Transpose)\\nperm=[1 0]\\\" fontsize=10];\\n  UU001UU -> kgpd_Transpose;\\n  kgpd_Transpose -> kgpd_transposed0;\\n\\n  kgpd_Y0 [shape=box label=\\\"kgpd_Y0\\\" fontsize=10];\\n  kgpd_Sqrt [shape=box style=\\\"filled,rounded\\\" color=orange label=\\\"Sqrt\\n(kgpd_Sqrt)\\\" fontsize=10];\\n  kgpd_transposed0 -> kgpd_Sqrt;\\n  kgpd_Sqrt -> kgpd_Y0;\\n\\n  kgpd_C03 [shape=box label=\\\"kgpd_C03\\\" fontsize=10];\\n  kgpd_Div [shape=box style=\\\"filled,rounded\\\" color=orange label=\\\"Div\\n(kgpd_Div)\\\" fontsize=10];\\n  kgpd_Y0 -> kgpd_Div;\\n  kgpd_Divcst -> kgpd_Div;\\n  kgpd_Div -> kgpd_C03;\\n\\n  kgpd_C02 [shape=box label=\\\"kgpd_C02\\\" fontsize=10];\\n  kgpd_Mul [shape=box style=\\\"filled,rounded\\\" color=orange label=\\\"Mul\\n(kgpd_Mul)\\\" fontsize=10];\\n  kgpd_C03 -> kgpd_Mul;\\n  kgpd_Mulcst -> kgpd_Mul;\\n  kgpd_Mul -> kgpd_C02;\\n\\n  kgpd_output02 [shape=box label=\\\"kgpd_output02\\\" fontsize=10];\\n  kgpd_Sin [shape=box style=\\\"filled,rounded\\\" color=orange label=\\\"Sin\\n(kgpd_Sin)\\\" fontsize=10];\\n  kgpd_C02 -> kgpd_Sin;\\n  kgpd_Sin -> kgpd_output02;\\n\\n  kgpd_C01 [shape=box label=\\\"kgpd_C01\\\" fontsize=10];\\n  kgpd_Div1 [shape=box style=\\\"filled,rounded\\\" color=orange label=\\\"Div\\n(kgpd_Div1)\\\" fontsize=10];\\n  kgpd_output02 -> kgpd_Div1;\\n  kgpd_Divcst1 -> kgpd_Div1;\\n  kgpd_Div1 -> kgpd_C01;\\n\\n  kgpd_Z0 [shape=box label=\\\"kgpd_Z0\\\" fontsize=10];\\n  kgpd_Pow [shape=box style=\\\"filled,rounded\\\" color=orange label=\\\"Pow\\n(kgpd_Pow)\\\" fontsize=10];\\n  kgpd_C01 -> kgpd_Pow;\\n  kgpd_Powcst -> kgpd_Pow;\\n  kgpd_Pow -> kgpd_Z0;\\n\\n  kgpd_C0 [shape=box label=\\\"kgpd_C0\\\" fontsize=10];\\n  kgpd_Mul1 [shape=box style=\\\"filled,rounded\\\" color=orange label=\\\"Mul\\n(kgpd_Mul1)\\\" fontsize=10];\\n  kgpd_Z0 -> kgpd_Mul1;\\n  kgpd_Mulcst1 -> kgpd_Mul1;\\n  kgpd_Mul1 -> kgpd_C0;\\n\\n  kgpd_output01 [shape=box label=\\\"kgpd_output01\\\" fontsize=10];\\n  kgpd_Exp [shape=box style=\\\"filled,rounded\\\" color=orange label=\\\"Exp\\n(kgpd_Exp)\\\" fontsize=10];\\n  kgpd_C0 -> kgpd_Exp;\\n  kgpd_Exp -> kgpd_output01;\\n\\n  gpr_Y0 [shape=box label=\\\"gpr_Y0\\\" fontsize=10];\\n  gpr_MatMul [shape=box style=\\\"filled,rounded\\\" color=orange label=\\\"MatMul\\n(gpr_MatMul)\\\" fontsize=10];\\n  kgpd_output01 -> gpr_MatMul;\\n  gpr_MatMulcst -> gpr_MatMul;\\n  gpr_MatMul -> gpr_Y0;\\n\\n  gpr_C0 [shape=box label=\\\"gpr_C0\\\" fontsize=10];\\n  gpr_Add [shape=box style=\\\"filled,rounded\\\" color=orange label=\\\"Add\\n(gpr_Add)\\\" fontsize=10];\\n  gpr_Y0 -> gpr_Add;\\n  gpr_Addcst -> gpr_Add;\\n  gpr_Add -> gpr_C0;\\n\\n  Re_Reshape [shape=box style=\\\"filled,rounded\\\" color=orange label=\\\"Reshape\\n(Re_Reshape)\\nallowzero=0\\\" fontsize=10];\\n  gpr_C0 -> Re_Reshape;\\n  Re_Reshapecst -> Re_Reshape;\\n  Re_Reshape -> GPmean;\\n}\");\n",
              "document.getElementById('Mbbc9e417c1334598b429aad877e320b3').innerHTML = svgGraph; });\n",
              "\n",
              "</script>"
            ],
            "text/plain": [
              "<jyquickhelper.jspy.render_nb_js_dot.RenderJsDot at 0x234ede21a00>"
            ]
          },
          "execution_count": 35,
          "metadata": {},
          "output_type": "execute_result"
        }
      ],
      "source": [
        "import numpy\n",
        "from sklearn.datasets import load_iris\n",
        "from sklearn.model_selection import train_test_split\n",
        "from sklearn.gaussian_process import GaussianProcessRegressor\n",
        "from sklearn.gaussian_process.kernels import ExpSineSquared\n",
        "from mlprodict.onnx_conv import to_onnx\n",
        "from mlprodict.onnxrt import OnnxInference\n",
        "\n",
        "\n",
        "iris = load_iris()\n",
        "X, y = iris.data, iris.target\n",
        "X_train, X_test, y_train, __ = train_test_split(X, y, random_state=12)\n",
        "clr = GaussianProcessRegressor(ExpSineSquared(), alpha=20.)\n",
        "clr.fit(X_train, y_train)\n",
        "\n",
        "model_def = to_onnx(clr, X_train)\n",
        "\n",
        "%onnxview model_def -r 1"
      ]
    },
    {
      "cell_type": "code",
      "execution_count": 35,
      "metadata": {},
      "outputs": [
        {
          "data": {
            "text/html": [
              "<div id=\"M9203a11fdc704ebf9afabe73ae27e24b-cont\"><div id=\"M9203a11fdc704ebf9afabe73ae27e24b\" style=\"width:;height:;\"></div></div>\n",
              "<script>\n",
              "\n",
              "require(['http://www.xavierdupre.fr/js/vizjs/viz.js'], function() { var svgGraph = Viz(\"digraph{\\n  ranksep=0.25;\\n  nodesep=0.05;\\n  orientation=portrait;\\n  size=7;\\n\\n  X [shape=box color=red label=\\\"X\\ndouble((0, 4))\\\" fontsize=10];\\n\\n  GPmean [shape=box color=green label=\\\"GPmean\\ndouble((0, 1))\\\" fontsize=10];\\n\\n  kgpd_CDistcst [shape=box label=\\\"kgpd_CDistcst\\nfloat64((112, 4))\\n[[5.8 4.  1.2 0.2]\\n [6.  2.2 4.  1. ]\\n [5.1 2.5 3....\\\" fontsize=10];\\n  kgpd_Divcst [shape=box label=\\\"kgpd_Divcst\\nfloat64((1,))\\n[1.83052462]\\\" fontsize=10];\\n  kgpd_Mulcst [shape=box label=\\\"kgpd_Mulcst\\nfloat64((1,))\\n[3.14159265]\\\" fontsize=10];\\n  kgpd_Divcst1 [shape=box label=\\\"kgpd_Divcst1\\nfloat64((1,))\\n[1014.92199796]\\\" fontsize=10];\\n  kgpd_Powcst [shape=box label=\\\"kgpd_Powcst\\nfloat64((1,))\\n[2.]\\\" fontsize=10];\\n  kgpd_Mulcst1 [shape=box label=\\\"kgpd_Mulcst1\\nfloat64((1,))\\n[-2.]\\\" fontsize=10];\\n  gpr_MatMulcst [shape=box label=\\\"gpr_MatMulcst\\nfloat64((112,))\\n[-0.0439394   0.00606057  0.00606066 -0.0439394  -...\\\" fontsize=10];\\n  gpr_Addcst [shape=box label=\\\"gpr_Addcst\\nfloat64((1, 1))\\n[[0.]]\\\" fontsize=10];\\n  Re_Reshapecst [shape=box label=\\\"Re_Reshapecst\\nint64((2,))\\n[-1  1]\\\" fontsize=10];\\n\\n  kgpd_dist [shape=box label=\\\"kgpd_dist\\\" fontsize=10];\\n  kgpd_CDist [shape=box style=\\\"filled,rounded\\\" color=orange label=\\\"CDist\\n(kgpd_CDist)\\nmetric=b'euclidean'\\\" fontsize=10];\\n  X -> kgpd_CDist;\\n  kgpd_CDistcst -> kgpd_CDist;\\n  kgpd_CDist -> kgpd_dist;\\n\\n  kgpd_C03 [shape=box label=\\\"kgpd_C03\\\" fontsize=10];\\n  kgpd_Div [shape=box style=\\\"filled,rounded\\\" color=orange label=\\\"Div\\n(kgpd_Div)\\\" fontsize=10];\\n  kgpd_dist -> kgpd_Div;\\n  kgpd_Divcst -> kgpd_Div;\\n  kgpd_Div -> kgpd_C03;\\n\\n  kgpd_C02 [shape=box label=\\\"kgpd_C02\\\" fontsize=10];\\n  kgpd_Mul [shape=box style=\\\"filled,rounded\\\" color=orange label=\\\"Mul\\n(kgpd_Mul)\\\" fontsize=10];\\n  kgpd_C03 -> kgpd_Mul;\\n  kgpd_Mulcst -> kgpd_Mul;\\n  kgpd_Mul -> kgpd_C02;\\n\\n  kgpd_output02 [shape=box label=\\\"kgpd_output02\\\" fontsize=10];\\n  kgpd_Sin [shape=box style=\\\"filled,rounded\\\" color=orange label=\\\"Sin\\n(kgpd_Sin)\\\" fontsize=10];\\n  kgpd_C02 -> kgpd_Sin;\\n  kgpd_Sin -> kgpd_output02;\\n\\n  kgpd_C01 [shape=box label=\\\"kgpd_C01\\\" fontsize=10];\\n  kgpd_Div1 [shape=box style=\\\"filled,rounded\\\" color=orange label=\\\"Div\\n(kgpd_Div1)\\\" fontsize=10];\\n  kgpd_output02 -> kgpd_Div1;\\n  kgpd_Divcst1 -> kgpd_Div1;\\n  kgpd_Div1 -> kgpd_C01;\\n\\n  kgpd_Z0 [shape=box label=\\\"kgpd_Z0\\\" fontsize=10];\\n  kgpd_Pow [shape=box style=\\\"filled,rounded\\\" color=orange label=\\\"Pow\\n(kgpd_Pow)\\\" fontsize=10];\\n  kgpd_C01 -> kgpd_Pow;\\n  kgpd_Powcst -> kgpd_Pow;\\n  kgpd_Pow -> kgpd_Z0;\\n\\n  kgpd_C0 [shape=box label=\\\"kgpd_C0\\\" fontsize=10];\\n  kgpd_Mul1 [shape=box style=\\\"filled,rounded\\\" color=orange label=\\\"Mul\\n(kgpd_Mul1)\\\" fontsize=10];\\n  kgpd_Z0 -> kgpd_Mul1;\\n  kgpd_Mulcst1 -> kgpd_Mul1;\\n  kgpd_Mul1 -> kgpd_C0;\\n\\n  kgpd_output01 [shape=box label=\\\"kgpd_output01\\\" fontsize=10];\\n  kgpd_Exp [shape=box style=\\\"filled,rounded\\\" color=orange label=\\\"Exp\\n(kgpd_Exp)\\\" fontsize=10];\\n  kgpd_C0 -> kgpd_Exp;\\n  kgpd_Exp -> kgpd_output01;\\n\\n  gpr_Y0 [shape=box label=\\\"gpr_Y0\\\" fontsize=10];\\n  gpr_MatMul [shape=box style=\\\"filled,rounded\\\" color=orange label=\\\"MatMul\\n(gpr_MatMul)\\\" fontsize=10];\\n  kgpd_output01 -> gpr_MatMul;\\n  gpr_MatMulcst -> gpr_MatMul;\\n  gpr_MatMul -> gpr_Y0;\\n\\n  gpr_C0 [shape=box label=\\\"gpr_C0\\\" fontsize=10];\\n  gpr_Add [shape=box style=\\\"filled,rounded\\\" color=orange label=\\\"Add\\n(gpr_Add)\\\" fontsize=10];\\n  gpr_Y0 -> gpr_Add;\\n  gpr_Addcst -> gpr_Add;\\n  gpr_Add -> gpr_C0;\\n\\n  Re_Reshape [shape=box style=\\\"filled,rounded\\\" color=orange label=\\\"Reshape\\n(Re_Reshape)\\nallowzero=0\\\" fontsize=10];\\n  gpr_C0 -> Re_Reshape;\\n  Re_Reshapecst -> Re_Reshape;\\n  Re_Reshape -> GPmean;\\n}\");\n",
              "document.getElementById('M9203a11fdc704ebf9afabe73ae27e24b').innerHTML = svgGraph; });\n",
              "\n",
              "</script>"
            ],
            "text/plain": [
              "<jyquickhelper.jspy.render_nb_js_dot.RenderJsDot at 0x234edc44fd0>"
            ]
          },
          "execution_count": 36,
          "metadata": {},
          "output_type": "execute_result"
        }
      ],
      "source": [
        "model_def_cdist = to_onnx(clr, X_train,\n",
        "                          options={GaussianProcessRegressor: {'optim': 'cdist'}})\n",
        "%onnxview model_def_cdist"
      ]
    },
    {
      "cell_type": "code",
      "execution_count": 36,
      "metadata": {},
      "outputs": [],
      "source": [
        "oinf = OnnxInference(model_def)\n",
        "oinf_cdist = OnnxInference(model_def_cdist)"
      ]
    },
    {
      "cell_type": "code",
      "execution_count": 37,
      "metadata": {},
      "outputs": [
        {
          "name": "stdout",
          "output_type": "stream",
          "text": [
            "4.24 ms \u00b1 274 \u00b5s per loop (mean \u00b1 std. dev. of 7 runs, 100 loops each)\n"
          ]
        }
      ],
      "source": [
        "%timeit oinf.run({'X': X_test})"
      ]
    },
    {
      "cell_type": "code",
      "execution_count": 38,
      "metadata": {},
      "outputs": [
        {
          "name": "stdout",
          "output_type": "stream",
          "text": [
            "414 \u00b5s \u00b1 15 \u00b5s per loop (mean \u00b1 std. dev. of 7 runs, 1,000 loops each)\n"
          ]
        }
      ],
      "source": [
        "%timeit oinf_cdist.run({'X': X_test})"
      ]
    },
    {
      "cell_type": "code",
      "execution_count": 39,
      "metadata": {},
      "outputs": [],
      "source": [
        "oinfrt = OnnxInference(model_def, runtime=\"onnxruntime1\")\n",
        "oinfrt_cdist = OnnxInference(model_def_cdist)"
      ]
    },
    {
      "cell_type": "code",
      "execution_count": 40,
      "metadata": {},
      "outputs": [
        {
          "name": "stdout",
          "output_type": "stream",
          "text": [
            "345 \u00b5s \u00b1 26.8 \u00b5s per loop (mean \u00b1 std. dev. of 7 runs, 1,000 loops each)\n"
          ]
        }
      ],
      "source": [
        "%timeit oinfrt_cdist.run({'X': X_test})"
      ]
    },
    {
      "cell_type": "markdown",
      "metadata": {},
      "source": [
        "It is 10 times faster for this dataset so it is worth it. For bigger datasets, we should expect a lower gain but still significant."
      ]
    },
    {
      "cell_type": "code",
      "execution_count": 41,
      "metadata": {},
      "outputs": [],
      "source": []
    }
  ],
  "metadata": {
    "kernelspec": {
      "display_name": "Python 3",
      "language": "python",
      "name": "python3"
    },
    "language_info": {
      "codemirror_mode": {
        "name": "ipython",
        "version": 3
      },
      "file_extension": ".py",
      "mimetype": "text/x-python",
      "name": "python",
      "nbconvert_exporter": "python",
      "pygments_lexer": "ipython3",
      "version": "3.9.5"
    }
  },
  "nbformat": 4,
  "nbformat_minor": 2
}